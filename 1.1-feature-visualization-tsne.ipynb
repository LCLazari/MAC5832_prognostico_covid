{
 "cells": [
  {
   "cell_type": "markdown",
   "id": "44a0ae40",
   "metadata": {},
   "source": [
    "# Features visualization with TSNE"
   ]
  },
  {
   "cell_type": "markdown",
   "id": "e47ad424",
   "metadata": {},
   "source": [
    "---"
   ]
  },
  {
   "cell_type": "markdown",
   "id": "58aabb6a",
   "metadata": {},
   "source": [
    "### 1) Setup"
   ]
  },
  {
   "cell_type": "code",
   "execution_count": 2,
   "id": "e33b8c0f",
   "metadata": {},
   "outputs": [],
   "source": [
    "# Imports\n",
    "import pandas as pd\n",
    "import numpy as np\n",
    "import matplotlib.pyplot as plt\n",
    "import matplotlib.patches as mpatches\n",
    "from sklearn.preprocessing import MinMaxScaler\n",
    "from sklearn.manifold import TSNE\n"
   ]
  },
  {
   "cell_type": "code",
   "execution_count": 3,
   "id": "c2e29d7c",
   "metadata": {},
   "outputs": [],
   "source": [
    "SEED = 42\n",
    "\n",
    "TRAIN_CLINICAL_FILENAME = \"train_set_clinical.csv\"\n",
    "TEST_CLINICAL_FILENAME = \"test_set_clinical.csv\"\n",
    "\n",
    "TRAIN_CLINICAL_ARTIGO_FILENAME = \"E:\\\\work\\\\MAC5832_prognostico_covid\\\\train_set_clinical.csv\"\n",
    "TEST_CLINICAL_ARTIGO_FILENAME = \"E:\\\\work\\\\MAC5832_prognostico_covid\\\\test_set_clinical.csv\""
   ]
  },
  {
   "cell_type": "markdown",
   "id": "84adf36c",
   "metadata": {},
   "source": [
    "---"
   ]
  },
  {
   "cell_type": "markdown",
   "id": "f9589ede",
   "metadata": {},
   "source": [
    "### 2) Read and Preprocess Data"
   ]
  },
  {
   "cell_type": "code",
   "execution_count": 5,
   "id": "a841c96a",
   "metadata": {},
   "outputs": [],
   "source": [
    "datasets = {\n",
    "    'onlynormalized': {\n",
    "        'train': pd.read_csv(TRAIN_CLINICAL_FILENAME, sep=\";\", index_col=\"ID\"),\n",
    "        'test': pd.read_csv(TEST_CLINICAL_FILENAME, sep=\";\", index_col=\"ID\")\n",
    "    },\n",
    "    'artigo': {\n",
    "        'train': pd.read_csv(TRAIN_CLINICAL_ARTIGO_FILENAME, sep=\";\", index_col=\"ID\"),\n",
    "        'test':  pd.read_csv(TEST_CLINICAL_ARTIGO_FILENAME, sep=\";\", index_col=\"ID\")\n",
    "    }\n",
    "\n",
    "}\n"
   ]
  },
  {
   "cell_type": "code",
   "execution_count": 6,
   "id": "646285c1",
   "metadata": {},
   "outputs": [],
   "source": [
    "##### Preprocessing all datasets\n",
    "for d_key in datasets.keys():\n",
    "    for d_type in datasets[d_key].keys():\n",
    "        \n",
    "        # Drop NaN Values \n",
    "        datasets[d_key][d_type].dropna(inplace=True)\n",
    "        \n",
    "        # Convert Sex column to boolean (Female: 1, Male: 0)\n",
    "        datasets[d_key][d_type][\"Sex\"] = np.where(datasets[d_key][d_type][\"Sex\"]==\"F\", 1, 0)"
   ]
  },
  {
   "cell_type": "code",
   "execution_count": 7,
   "id": "6a8a1ff3",
   "metadata": {},
   "outputs": [],
   "source": [
    "# Features do Boruta\n",
    "\n",
    "selectedFeatures = {\n",
    "       'onlynormalized': \n",
    "       ['Freq.1324.08044804632', 'Freq.1715.32907573994',\n",
    "       'Freq.1793.31292765446', 'Freq.2032.95119529926',\n",
    "       'Freq.2148.55916353654', 'Freq.2182.52259691583',\n",
    "       'Freq.2186.33577081196', 'Freq.2242.07973381149',\n",
    "       'Freq.2761.81291676166', 'Freq.3044.21704373186',\n",
    "       'Freq.3414.71158220371', 'Freq.3425.70211639867',\n",
    "       'Freq.3912.82100942603', 'Freq.4266.3135397872',\n",
    "       'Freq.4282.69712175929', 'Freq.4305.85988898402',\n",
    "       'Freq.4318.14922038936', 'Freq.4395.12541812139',\n",
    "       'Freq.4773.1748593189', 'Freq.4823.05474215093',\n",
    "       'Freq.5085.12753419191', 'Freq.5224.39772946441',\n",
    "       'Freq.5433.51287445961', 'Freq.6079.05181901815',\n",
    "       'Freq.7501.51838000843', 'Freq.7738.28945568542',\n",
    "       'Freq.8943.76551923189'],\n",
    "       'artigo': \n",
    "       ['Freq.1324.07107187346', 'Freq.1399.46591504505',\n",
    "       'Freq.1522.99914751846', 'Freq.1715.83254187774',\n",
    "       'Freq.1794.21713030157', 'Freq.2032.98713905056',\n",
    "       'Freq.2100.44990262345', 'Freq.2182.54012190969',\n",
    "       'Freq.2187.26929655148', 'Freq.2241.01398322552',\n",
    "       'Freq.2395.92741519698', 'Freq.2461.57721259156',\n",
    "       'Freq.2822.17822957638', 'Freq.2981.05105455515',\n",
    "       'Freq.3083.87231952593', 'Freq.3795.45160708473',\n",
    "       'Freq.3983.61553339652', 'Freq.4266.97846896688',\n",
    "       'Freq.4283.95182164633', 'Freq.4307.03317519015',\n",
    "       'Freq.4395.11277752994', 'Freq.4495.09063766933',\n",
    "       'Freq.4659.55667096198', 'Freq.4823.08140765752',\n",
    "       'Freq.5084.14952111257', 'Freq.5224.84719303067',\n",
    "       'Freq.5272.6322523475', 'Freq.5433.53206707083',\n",
    "       'Freq.5485.69282171011', 'Freq.5720.79450801948',\n",
    "       'Freq.7738.2889532685', 'Freq.8943.8000787644', 'Freq.9098.3102509794']\n",
    "\n",
    "} "
   ]
  },
  {
   "cell_type": "markdown",
   "id": "70f65f1f",
   "metadata": {},
   "source": [
    "---"
   ]
  },
  {
   "cell_type": "code",
   "execution_count": 4,
   "id": "da048589",
   "metadata": {},
   "outputs": [],
   "source": [
    "# Get Features\n",
    "def getFeaturesTargets(dataset_name, boruta_features=False):\n",
    "    dataset = datasets[dataset_name]\n",
    "    X, y = dataset['train'].drop(\"Group\", axis=1), dataset['train'][\"Group\"]\n",
    "    if boruta_features:\n",
    "        X = X[selectedFeatures[dataset_name]]\n",
    "    return (X, y)"
   ]
  },
  {
   "cell_type": "markdown",
   "id": "2cc47ef4",
   "metadata": {},
   "source": [
    "### 1) Dataset apenas normalizado\n"
   ]
  },
  {
   "cell_type": "code",
   "execution_count": 13,
   "id": "adcaec69",
   "metadata": {},
   "outputs": [],
   "source": [
    "def plot_tsne(X, y, title):\n",
    "    _, ax = plt.subplots()\n",
    "    X = MinMaxScaler().fit_transform(X)\n",
    "    ax.scatter(\n",
    "        *X[y == 'MILD'].T,\n",
    "        marker=f\"o\",\n",
    "        s=60,\n",
    "        color='b',\n",
    "        alpha=0.425,\n",
    "        zorder=2,\n",
    "    )\n",
    "\n",
    "    ax.scatter(\n",
    "        *X[y == 'SEVERE'].T,\n",
    "        marker=f\"*\",\n",
    "        s=60,\n",
    "        color='r',\n",
    "        alpha=0.425,\n",
    "        zorder=2,\n",
    "    )\n",
    "    ax.set_title(title)\n",
    "    red_patch = mpatches.Patch(color='red', label='SEVERE')\n",
    "    blue_patch = mpatches.Patch(color='blue', label='MILD')\n",
    "    ax.legend(handles=[red_patch, blue_patch])\n",
    "    ax.axis(\"off\")\n",
    "\n",
    "\n",
    "def project_tsne(dataset_name, boruta_features=False, perplexity=30):\n",
    "    X, y = getFeaturesTargets(dataset_name, boruta_features)\n",
    "    transformer = TSNE(\n",
    "        n_components=2,\n",
    "        init=\"pca\",\n",
    "        learning_rate=\"auto\",\n",
    "        n_iter=2000,\n",
    "        n_iter_without_progress=150,\n",
    "        n_jobs=2,\n",
    "        random_state=0,\n",
    "        perplexity=perplexity\n",
    "    )\n",
    "    projection = transformer.fit_transform(X, y)\n",
    "    plot_tsne(projection, y, f'TSNE dataset: {dataset_name}, boruta: {boruta_features}, perplexity: {perplexity}')\n",
    "\n",
    "    return "
   ]
  },
  {
   "cell_type": "code",
   "execution_count": 38,
   "id": "83177559",
   "metadata": {},
   "outputs": [
    {
     "name": "stderr",
     "output_type": "stream",
     "text": [
      "e:\\Apps\\miniconda3\\envs\\py310\\lib\\site-packages\\sklearn\\manifold\\_t_sne.py:982: FutureWarning: The PCA initialization in TSNE will change to have the standard deviation of PC1 equal to 1e-4 in 1.2. This will ensure better convergence.\n",
      "  warnings.warn(\n",
      "e:\\Apps\\miniconda3\\envs\\py310\\lib\\site-packages\\sklearn\\manifold\\_t_sne.py:982: FutureWarning: The PCA initialization in TSNE will change to have the standard deviation of PC1 equal to 1e-4 in 1.2. This will ensure better convergence.\n",
      "  warnings.warn(\n"
     ]
    },
    {
     "data": {
      "image/png": "[encoded data removed]",
      "text/plain": [
       "<Figure size 432x288 with 1 Axes>"
      ]
     },
     "metadata": {
      "needs_background": "light"
     },
     "output_type": "display_data"
    },
    {
     "data": {
      "image/png": "[encoded data removed]",
      "text/plain": [
       "<Figure size 432x288 with 1 Axes>"
      ]
     },
     "metadata": {
      "needs_background": "light"
     },
     "output_type": "display_data"
    }
   ],
   "source": [
    "project_tsne('onlynormalized', boruta_features=True, perplexity=55)\n",
    "project_tsne('artigo', boruta_features=True, perplexity=50)\n",
    "\n",
    "plt.show()"
   ]
  }
 ],
 "metadata": {
  "kernelspec": {
   "display_name": "Python 3.10.4 ('py310')",
   "language": "python",
   "name": "python3"
  },
  "language_info": {
   "codemirror_mode": {
    "name": "ipython",
    "version": 3
   },
   "file_extension": ".py",
   "mimetype": "text/x-python",
   "name": "python",
   "nbconvert_exporter": "python",
   "pygments_lexer": "ipython3",
   "version": "3.10.4"
  },
  "vscode": {
   "interpreter": {
    "hash": "2a68008a9a90d3af0f701770873bd4e7f97695b7c6bd972325e5c1813b0ccd6a"
   }
  }
 },
 "nbformat": 4,
 "nbformat_minor": 5
}
