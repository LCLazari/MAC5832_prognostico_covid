{
 "cells": [
  {
   "cell_type": "markdown",
   "id": "44a0ae40",
   "metadata": {},
   "source": [
    "# Notebook to Implement Model Training - LGBM"
   ]
  },
  {
   "cell_type": "markdown",
   "id": "e47ad424",
   "metadata": {},
   "source": [
    "---"
   ]
  },
  {
   "cell_type": "markdown",
   "id": "58aabb6a",
   "metadata": {},
   "source": [
    "### 1) Setup"
   ]
  },
  {
   "cell_type": "code",
   "execution_count": 283,
   "id": "e33b8c0f",
   "metadata": {},
   "outputs": [],
   "source": [
    "# Imports\n",
    "import pandas as pd\n",
    "import numpy as np\n",
    "import matplotlib.pyplot as plt\n",
    "import seaborn as sns\n",
    "import scipy\n",
    "\n",
    "from scipy import stats\n",
    "from scipy.stats import wilcoxon\n",
    "\n",
    "from sklearn.metrics import balanced_accuracy_score, make_scorer\n",
    "from sklearn.model_selection import RepeatedKFold, cross_val_score, GridSearchCV, RandomizedSearchCV\n",
    "from sklearn.ensemble import GradientBoostingClassifier\n",
    "from sklearn.svm import SVC\n",
    "\n",
    "import optuna\n",
    "import lightgbm as lgb\n",
    "\n",
    "from sklearn.decomposition import PCA\n",
    "from sklearn.pipeline import Pipeline\n",
    "from sklearn.preprocessing import StandardScaler, MinMaxScaler, RobustScaler\n",
    "from sklearn.impute import SimpleImputer\n",
    "from sklearn.metrics import classification_report\n",
    "\n",
    "from sklearn.ensemble import RandomForestClassifier\n",
    "from boruta import BorutaPy"
   ]
  },
  {
   "cell_type": "code",
   "execution_count": 2,
   "id": "1028d840",
   "metadata": {},
   "outputs": [],
   "source": [
    "SEED = 42"
   ]
  },
  {
   "cell_type": "code",
   "execution_count": 3,
   "id": "c2e29d7c",
   "metadata": {},
   "outputs": [],
   "source": [
    "TRAIN_CLINICAL_FILENAME = \"train_set.csv\"\n",
    "TEST_CLINICAL_FILENAME = \"test_set.csv\""
   ]
  },
  {
   "cell_type": "markdown",
   "id": "84adf36c",
   "metadata": {},
   "source": [
    "---"
   ]
  },
  {
   "cell_type": "markdown",
   "id": "f9589ede",
   "metadata": {},
   "source": [
    "### 2) Read and Preprocess Data"
   ]
  },
  {
   "cell_type": "code",
   "execution_count": 4,
   "id": "a841c96a",
   "metadata": {},
   "outputs": [],
   "source": [
    "train = pd.read_csv(TRAIN_CLINICAL_FILENAME, sep=\",\", index_col=\"ID\")"
   ]
  },
  {
   "cell_type": "code",
   "execution_count": 5,
   "id": "dfe72ece",
   "metadata": {},
   "outputs": [
    {
     "data": {
      "text/plain": [
       "(132, 636)"
      ]
     },
     "execution_count": 5,
     "metadata": {},
     "output_type": "execute_result"
    }
   ],
   "source": [
    "train.shape"
   ]
  },
  {
   "cell_type": "code",
   "execution_count": 6,
   "id": "be41efe6",
   "metadata": {},
   "outputs": [
    {
     "data": {
      "text/html": [
       "<div>\n",
       "<style scoped>\n",
       "    .dataframe tbody tr th:only-of-type {\n",
       "        vertical-align: middle;\n",
       "    }\n",
       "\n",
       "    .dataframe tbody tr th {\n",
       "        vertical-align: top;\n",
       "    }\n",
       "\n",
       "    .dataframe thead th {\n",
       "        text-align: right;\n",
       "    }\n",
       "</style>\n",
       "<table border=\"1\" class=\"dataframe\">\n",
       "  <thead>\n",
       "    <tr style=\"text-align: right;\">\n",
       "      <th></th>\n",
       "      <th>Freq.1198.05707939985</th>\n",
       "      <th>Freq.1204.07148226988</th>\n",
       "      <th>Freq.1211.25531677913</th>\n",
       "      <th>Freq.1217.79534957812</th>\n",
       "      <th>Freq.1223.24180676615</th>\n",
       "      <th>Freq.1234.42874922858</th>\n",
       "      <th>Freq.1239.04873179697</th>\n",
       "      <th>Freq.1243.98934968702</th>\n",
       "      <th>Freq.1249.10239635402</th>\n",
       "      <th>Freq.1254.7097579948</th>\n",
       "      <th>...</th>\n",
       "      <th>Freq.8943.76551923189</th>\n",
       "      <th>Freq.9058.85825530971</th>\n",
       "      <th>Freq.9098.58510797401</th>\n",
       "      <th>Freq.9437.74469644083</th>\n",
       "      <th>Freq.9593.90405666006</th>\n",
       "      <th>Freq.9799.842201746</th>\n",
       "      <th>Freq.10432.4853106264</th>\n",
       "      <th>Freq.11006.9514551194</th>\n",
       "      <th>Freq.11161.31855876</th>\n",
       "      <th>Group</th>\n",
       "    </tr>\n",
       "    <tr>\n",
       "      <th>ID</th>\n",
       "      <th></th>\n",
       "      <th></th>\n",
       "      <th></th>\n",
       "      <th></th>\n",
       "      <th></th>\n",
       "      <th></th>\n",
       "      <th></th>\n",
       "      <th></th>\n",
       "      <th></th>\n",
       "      <th></th>\n",
       "      <th></th>\n",
       "      <th></th>\n",
       "      <th></th>\n",
       "      <th></th>\n",
       "      <th></th>\n",
       "      <th></th>\n",
       "      <th></th>\n",
       "      <th></th>\n",
       "      <th></th>\n",
       "      <th></th>\n",
       "      <th></th>\n",
       "    </tr>\n",
       "  </thead>\n",
       "  <tbody>\n",
       "    <tr>\n",
       "      <th>1</th>\n",
       "      <td>0.000319</td>\n",
       "      <td>0.000416</td>\n",
       "      <td>0.000077</td>\n",
       "      <td>4.034140e-05</td>\n",
       "      <td>0.000089</td>\n",
       "      <td>0.000282</td>\n",
       "      <td>0.000004</td>\n",
       "      <td>0.000130</td>\n",
       "      <td>0.000288</td>\n",
       "      <td>0.000000e+00</td>\n",
       "      <td>...</td>\n",
       "      <td>0.000017</td>\n",
       "      <td>0.000005</td>\n",
       "      <td>0.000020</td>\n",
       "      <td>0.000029</td>\n",
       "      <td>0.000037</td>\n",
       "      <td>0.000024</td>\n",
       "      <td>0.000016</td>\n",
       "      <td>0.000030</td>\n",
       "      <td>0.000030</td>\n",
       "      <td>MILD</td>\n",
       "    </tr>\n",
       "    <tr>\n",
       "      <th>10</th>\n",
       "      <td>0.000000</td>\n",
       "      <td>0.000000</td>\n",
       "      <td>0.000021</td>\n",
       "      <td>1.064014e-03</td>\n",
       "      <td>0.000113</td>\n",
       "      <td>0.001591</td>\n",
       "      <td>0.016310</td>\n",
       "      <td>0.002330</td>\n",
       "      <td>0.000476</td>\n",
       "      <td>6.074661e-04</td>\n",
       "      <td>...</td>\n",
       "      <td>0.000040</td>\n",
       "      <td>0.000010</td>\n",
       "      <td>0.000001</td>\n",
       "      <td>0.000005</td>\n",
       "      <td>0.000002</td>\n",
       "      <td>0.000052</td>\n",
       "      <td>0.000003</td>\n",
       "      <td>0.000155</td>\n",
       "      <td>0.000001</td>\n",
       "      <td>MILD</td>\n",
       "    </tr>\n",
       "    <tr>\n",
       "      <th>100</th>\n",
       "      <td>0.000199</td>\n",
       "      <td>0.000006</td>\n",
       "      <td>0.000013</td>\n",
       "      <td>5.089552e-08</td>\n",
       "      <td>0.000087</td>\n",
       "      <td>0.000543</td>\n",
       "      <td>0.000231</td>\n",
       "      <td>0.000068</td>\n",
       "      <td>0.000018</td>\n",
       "      <td>1.286428e-04</td>\n",
       "      <td>...</td>\n",
       "      <td>0.000009</td>\n",
       "      <td>0.000044</td>\n",
       "      <td>0.000012</td>\n",
       "      <td>0.000067</td>\n",
       "      <td>0.000207</td>\n",
       "      <td>0.000020</td>\n",
       "      <td>0.000027</td>\n",
       "      <td>0.000100</td>\n",
       "      <td>0.000100</td>\n",
       "      <td>MILD</td>\n",
       "    </tr>\n",
       "    <tr>\n",
       "      <th>101</th>\n",
       "      <td>0.000196</td>\n",
       "      <td>0.000244</td>\n",
       "      <td>0.000069</td>\n",
       "      <td>4.874671e-05</td>\n",
       "      <td>0.000125</td>\n",
       "      <td>0.000353</td>\n",
       "      <td>0.000029</td>\n",
       "      <td>0.000125</td>\n",
       "      <td>0.000120</td>\n",
       "      <td>4.988436e-07</td>\n",
       "      <td>...</td>\n",
       "      <td>0.000072</td>\n",
       "      <td>0.000051</td>\n",
       "      <td>0.000013</td>\n",
       "      <td>0.000061</td>\n",
       "      <td>0.000040</td>\n",
       "      <td>0.000008</td>\n",
       "      <td>0.000003</td>\n",
       "      <td>0.000055</td>\n",
       "      <td>0.000029</td>\n",
       "      <td>MILD</td>\n",
       "    </tr>\n",
       "    <tr>\n",
       "      <th>105</th>\n",
       "      <td>0.000000</td>\n",
       "      <td>0.000000</td>\n",
       "      <td>0.000000</td>\n",
       "      <td>0.000000e+00</td>\n",
       "      <td>0.000000</td>\n",
       "      <td>0.000000</td>\n",
       "      <td>0.000000</td>\n",
       "      <td>0.000000</td>\n",
       "      <td>0.000000</td>\n",
       "      <td>0.000000e+00</td>\n",
       "      <td>...</td>\n",
       "      <td>0.000027</td>\n",
       "      <td>0.000031</td>\n",
       "      <td>0.000014</td>\n",
       "      <td>0.000017</td>\n",
       "      <td>0.000028</td>\n",
       "      <td>0.000009</td>\n",
       "      <td>0.000012</td>\n",
       "      <td>0.000026</td>\n",
       "      <td>0.000017</td>\n",
       "      <td>MILD</td>\n",
       "    </tr>\n",
       "  </tbody>\n",
       "</table>\n",
       "<p>5 rows × 636 columns</p>\n",
       "</div>"
      ],
      "text/plain": [
       "     Freq.1198.05707939985  Freq.1204.07148226988  Freq.1211.25531677913  \\\n",
       "ID                                                                         \n",
       "1                 0.000319               0.000416               0.000077   \n",
       "10                0.000000               0.000000               0.000021   \n",
       "100               0.000199               0.000006               0.000013   \n",
       "101               0.000196               0.000244               0.000069   \n",
       "105               0.000000               0.000000               0.000000   \n",
       "\n",
       "     Freq.1217.79534957812  Freq.1223.24180676615  Freq.1234.42874922858  \\\n",
       "ID                                                                         \n",
       "1             4.034140e-05               0.000089               0.000282   \n",
       "10            1.064014e-03               0.000113               0.001591   \n",
       "100           5.089552e-08               0.000087               0.000543   \n",
       "101           4.874671e-05               0.000125               0.000353   \n",
       "105           0.000000e+00               0.000000               0.000000   \n",
       "\n",
       "     Freq.1239.04873179697  Freq.1243.98934968702  Freq.1249.10239635402  \\\n",
       "ID                                                                         \n",
       "1                 0.000004               0.000130               0.000288   \n",
       "10                0.016310               0.002330               0.000476   \n",
       "100               0.000231               0.000068               0.000018   \n",
       "101               0.000029               0.000125               0.000120   \n",
       "105               0.000000               0.000000               0.000000   \n",
       "\n",
       "     Freq.1254.7097579948  ...  Freq.8943.76551923189  Freq.9058.85825530971  \\\n",
       "ID                         ...                                                 \n",
       "1            0.000000e+00  ...               0.000017               0.000005   \n",
       "10           6.074661e-04  ...               0.000040               0.000010   \n",
       "100          1.286428e-04  ...               0.000009               0.000044   \n",
       "101          4.988436e-07  ...               0.000072               0.000051   \n",
       "105          0.000000e+00  ...               0.000027               0.000031   \n",
       "\n",
       "     Freq.9098.58510797401  Freq.9437.74469644083  Freq.9593.90405666006  \\\n",
       "ID                                                                         \n",
       "1                 0.000020               0.000029               0.000037   \n",
       "10                0.000001               0.000005               0.000002   \n",
       "100               0.000012               0.000067               0.000207   \n",
       "101               0.000013               0.000061               0.000040   \n",
       "105               0.000014               0.000017               0.000028   \n",
       "\n",
       "     Freq.9799.842201746  Freq.10432.4853106264  Freq.11006.9514551194  \\\n",
       "ID                                                                       \n",
       "1               0.000024               0.000016               0.000030   \n",
       "10              0.000052               0.000003               0.000155   \n",
       "100             0.000020               0.000027               0.000100   \n",
       "101             0.000008               0.000003               0.000055   \n",
       "105             0.000009               0.000012               0.000026   \n",
       "\n",
       "     Freq.11161.31855876  Group  \n",
       "ID                               \n",
       "1               0.000030   MILD  \n",
       "10              0.000001   MILD  \n",
       "100             0.000100   MILD  \n",
       "101             0.000029   MILD  \n",
       "105             0.000017   MILD  \n",
       "\n",
       "[5 rows x 636 columns]"
      ]
     },
     "execution_count": 6,
     "metadata": {},
     "output_type": "execute_result"
    }
   ],
   "source": [
    "train.head()"
   ]
  },
  {
   "cell_type": "code",
   "execution_count": 7,
   "id": "646285c1",
   "metadata": {},
   "outputs": [],
   "source": [
    "##### Preprocessing\n",
    "\n",
    "train_mod = train.copy()\n",
    "# Imputation using mean method\n",
    "#train_mod = train_mod.replace(0,np.nan)\n",
    "#train_mod_imp = train_mod.transform(lambda x: x.fillna(x.mean()))"
   ]
  },
  {
   "cell_type": "code",
   "execution_count": 8,
   "id": "b27da16d",
   "metadata": {},
   "outputs": [
    {
     "data": {
      "text/plain": [
       "(132, 636)"
      ]
     },
     "execution_count": 8,
     "metadata": {},
     "output_type": "execute_result"
    }
   ],
   "source": [
    "train_mod.shape"
   ]
  },
  {
   "cell_type": "code",
   "execution_count": 9,
   "id": "81e259a5",
   "metadata": {
    "scrolled": true
   },
   "outputs": [
    {
     "data": {
      "text/html": [
       "<div>\n",
       "<style scoped>\n",
       "    .dataframe tbody tr th:only-of-type {\n",
       "        vertical-align: middle;\n",
       "    }\n",
       "\n",
       "    .dataframe tbody tr th {\n",
       "        vertical-align: top;\n",
       "    }\n",
       "\n",
       "    .dataframe thead th {\n",
       "        text-align: right;\n",
       "    }\n",
       "</style>\n",
       "<table border=\"1\" class=\"dataframe\">\n",
       "  <thead>\n",
       "    <tr style=\"text-align: right;\">\n",
       "      <th></th>\n",
       "      <th>Freq.1198.05707939985</th>\n",
       "      <th>Freq.1204.07148226988</th>\n",
       "      <th>Freq.1211.25531677913</th>\n",
       "      <th>Freq.1217.79534957812</th>\n",
       "      <th>Freq.1223.24180676615</th>\n",
       "      <th>Freq.1234.42874922858</th>\n",
       "      <th>Freq.1239.04873179697</th>\n",
       "      <th>Freq.1243.98934968702</th>\n",
       "      <th>Freq.1249.10239635402</th>\n",
       "      <th>Freq.1254.7097579948</th>\n",
       "      <th>...</th>\n",
       "      <th>Freq.8943.76551923189</th>\n",
       "      <th>Freq.9058.85825530971</th>\n",
       "      <th>Freq.9098.58510797401</th>\n",
       "      <th>Freq.9437.74469644083</th>\n",
       "      <th>Freq.9593.90405666006</th>\n",
       "      <th>Freq.9799.842201746</th>\n",
       "      <th>Freq.10432.4853106264</th>\n",
       "      <th>Freq.11006.9514551194</th>\n",
       "      <th>Freq.11161.31855876</th>\n",
       "      <th>Group</th>\n",
       "    </tr>\n",
       "    <tr>\n",
       "      <th>ID</th>\n",
       "      <th></th>\n",
       "      <th></th>\n",
       "      <th></th>\n",
       "      <th></th>\n",
       "      <th></th>\n",
       "      <th></th>\n",
       "      <th></th>\n",
       "      <th></th>\n",
       "      <th></th>\n",
       "      <th></th>\n",
       "      <th></th>\n",
       "      <th></th>\n",
       "      <th></th>\n",
       "      <th></th>\n",
       "      <th></th>\n",
       "      <th></th>\n",
       "      <th></th>\n",
       "      <th></th>\n",
       "      <th></th>\n",
       "      <th></th>\n",
       "      <th></th>\n",
       "    </tr>\n",
       "  </thead>\n",
       "  <tbody>\n",
       "    <tr>\n",
       "      <th>1</th>\n",
       "      <td>0.000319</td>\n",
       "      <td>0.000416</td>\n",
       "      <td>0.000077</td>\n",
       "      <td>4.034140e-05</td>\n",
       "      <td>0.000089</td>\n",
       "      <td>0.000282</td>\n",
       "      <td>0.000004</td>\n",
       "      <td>0.000130</td>\n",
       "      <td>0.000288</td>\n",
       "      <td>0.000000e+00</td>\n",
       "      <td>...</td>\n",
       "      <td>0.000017</td>\n",
       "      <td>0.000005</td>\n",
       "      <td>0.000020</td>\n",
       "      <td>0.000029</td>\n",
       "      <td>0.000037</td>\n",
       "      <td>0.000024</td>\n",
       "      <td>0.000016</td>\n",
       "      <td>0.000030</td>\n",
       "      <td>0.000030</td>\n",
       "      <td>MILD</td>\n",
       "    </tr>\n",
       "    <tr>\n",
       "      <th>10</th>\n",
       "      <td>0.000000</td>\n",
       "      <td>0.000000</td>\n",
       "      <td>0.000021</td>\n",
       "      <td>1.064014e-03</td>\n",
       "      <td>0.000113</td>\n",
       "      <td>0.001591</td>\n",
       "      <td>0.016310</td>\n",
       "      <td>0.002330</td>\n",
       "      <td>0.000476</td>\n",
       "      <td>6.074661e-04</td>\n",
       "      <td>...</td>\n",
       "      <td>0.000040</td>\n",
       "      <td>0.000010</td>\n",
       "      <td>0.000001</td>\n",
       "      <td>0.000005</td>\n",
       "      <td>0.000002</td>\n",
       "      <td>0.000052</td>\n",
       "      <td>0.000003</td>\n",
       "      <td>0.000155</td>\n",
       "      <td>0.000001</td>\n",
       "      <td>MILD</td>\n",
       "    </tr>\n",
       "    <tr>\n",
       "      <th>100</th>\n",
       "      <td>0.000199</td>\n",
       "      <td>0.000006</td>\n",
       "      <td>0.000013</td>\n",
       "      <td>5.089552e-08</td>\n",
       "      <td>0.000087</td>\n",
       "      <td>0.000543</td>\n",
       "      <td>0.000231</td>\n",
       "      <td>0.000068</td>\n",
       "      <td>0.000018</td>\n",
       "      <td>1.286428e-04</td>\n",
       "      <td>...</td>\n",
       "      <td>0.000009</td>\n",
       "      <td>0.000044</td>\n",
       "      <td>0.000012</td>\n",
       "      <td>0.000067</td>\n",
       "      <td>0.000207</td>\n",
       "      <td>0.000020</td>\n",
       "      <td>0.000027</td>\n",
       "      <td>0.000100</td>\n",
       "      <td>0.000100</td>\n",
       "      <td>MILD</td>\n",
       "    </tr>\n",
       "    <tr>\n",
       "      <th>101</th>\n",
       "      <td>0.000196</td>\n",
       "      <td>0.000244</td>\n",
       "      <td>0.000069</td>\n",
       "      <td>4.874671e-05</td>\n",
       "      <td>0.000125</td>\n",
       "      <td>0.000353</td>\n",
       "      <td>0.000029</td>\n",
       "      <td>0.000125</td>\n",
       "      <td>0.000120</td>\n",
       "      <td>4.988436e-07</td>\n",
       "      <td>...</td>\n",
       "      <td>0.000072</td>\n",
       "      <td>0.000051</td>\n",
       "      <td>0.000013</td>\n",
       "      <td>0.000061</td>\n",
       "      <td>0.000040</td>\n",
       "      <td>0.000008</td>\n",
       "      <td>0.000003</td>\n",
       "      <td>0.000055</td>\n",
       "      <td>0.000029</td>\n",
       "      <td>MILD</td>\n",
       "    </tr>\n",
       "    <tr>\n",
       "      <th>105</th>\n",
       "      <td>0.000000</td>\n",
       "      <td>0.000000</td>\n",
       "      <td>0.000000</td>\n",
       "      <td>0.000000e+00</td>\n",
       "      <td>0.000000</td>\n",
       "      <td>0.000000</td>\n",
       "      <td>0.000000</td>\n",
       "      <td>0.000000</td>\n",
       "      <td>0.000000</td>\n",
       "      <td>0.000000e+00</td>\n",
       "      <td>...</td>\n",
       "      <td>0.000027</td>\n",
       "      <td>0.000031</td>\n",
       "      <td>0.000014</td>\n",
       "      <td>0.000017</td>\n",
       "      <td>0.000028</td>\n",
       "      <td>0.000009</td>\n",
       "      <td>0.000012</td>\n",
       "      <td>0.000026</td>\n",
       "      <td>0.000017</td>\n",
       "      <td>MILD</td>\n",
       "    </tr>\n",
       "  </tbody>\n",
       "</table>\n",
       "<p>5 rows × 636 columns</p>\n",
       "</div>"
      ],
      "text/plain": [
       "     Freq.1198.05707939985  Freq.1204.07148226988  Freq.1211.25531677913  \\\n",
       "ID                                                                         \n",
       "1                 0.000319               0.000416               0.000077   \n",
       "10                0.000000               0.000000               0.000021   \n",
       "100               0.000199               0.000006               0.000013   \n",
       "101               0.000196               0.000244               0.000069   \n",
       "105               0.000000               0.000000               0.000000   \n",
       "\n",
       "     Freq.1217.79534957812  Freq.1223.24180676615  Freq.1234.42874922858  \\\n",
       "ID                                                                         \n",
       "1             4.034140e-05               0.000089               0.000282   \n",
       "10            1.064014e-03               0.000113               0.001591   \n",
       "100           5.089552e-08               0.000087               0.000543   \n",
       "101           4.874671e-05               0.000125               0.000353   \n",
       "105           0.000000e+00               0.000000               0.000000   \n",
       "\n",
       "     Freq.1239.04873179697  Freq.1243.98934968702  Freq.1249.10239635402  \\\n",
       "ID                                                                         \n",
       "1                 0.000004               0.000130               0.000288   \n",
       "10                0.016310               0.002330               0.000476   \n",
       "100               0.000231               0.000068               0.000018   \n",
       "101               0.000029               0.000125               0.000120   \n",
       "105               0.000000               0.000000               0.000000   \n",
       "\n",
       "     Freq.1254.7097579948  ...  Freq.8943.76551923189  Freq.9058.85825530971  \\\n",
       "ID                         ...                                                 \n",
       "1            0.000000e+00  ...               0.000017               0.000005   \n",
       "10           6.074661e-04  ...               0.000040               0.000010   \n",
       "100          1.286428e-04  ...               0.000009               0.000044   \n",
       "101          4.988436e-07  ...               0.000072               0.000051   \n",
       "105          0.000000e+00  ...               0.000027               0.000031   \n",
       "\n",
       "     Freq.9098.58510797401  Freq.9437.74469644083  Freq.9593.90405666006  \\\n",
       "ID                                                                         \n",
       "1                 0.000020               0.000029               0.000037   \n",
       "10                0.000001               0.000005               0.000002   \n",
       "100               0.000012               0.000067               0.000207   \n",
       "101               0.000013               0.000061               0.000040   \n",
       "105               0.000014               0.000017               0.000028   \n",
       "\n",
       "     Freq.9799.842201746  Freq.10432.4853106264  Freq.11006.9514551194  \\\n",
       "ID                                                                       \n",
       "1               0.000024               0.000016               0.000030   \n",
       "10              0.000052               0.000003               0.000155   \n",
       "100             0.000020               0.000027               0.000100   \n",
       "101             0.000008               0.000003               0.000055   \n",
       "105             0.000009               0.000012               0.000026   \n",
       "\n",
       "     Freq.11161.31855876  Group  \n",
       "ID                               \n",
       "1               0.000030   MILD  \n",
       "10              0.000001   MILD  \n",
       "100             0.000100   MILD  \n",
       "101             0.000029   MILD  \n",
       "105             0.000017   MILD  \n",
       "\n",
       "[5 rows x 636 columns]"
      ]
     },
     "execution_count": 9,
     "metadata": {},
     "output_type": "execute_result"
    }
   ],
   "source": [
    "train_mod.head()"
   ]
  },
  {
   "cell_type": "code",
   "execution_count": 84,
   "id": "78d1a54a",
   "metadata": {},
   "outputs": [],
   "source": [
    "test = pd.read_csv(TEST_CLINICAL_FILENAME, sep=\",\", index_col=\"ID\")\n",
    "test_mod = test.copy()"
   ]
  },
  {
   "cell_type": "code",
   "execution_count": 85,
   "id": "94c8974e",
   "metadata": {},
   "outputs": [],
   "source": [
    "X_test, y_test = test_mod.drop(\"Group\", axis=1), test_mod[\"Group\"]"
   ]
  },
  {
   "cell_type": "markdown",
   "id": "70f65f1f",
   "metadata": {},
   "source": [
    "---"
   ]
  },
  {
   "cell_type": "markdown",
   "id": "2cc47ef4",
   "metadata": {},
   "source": [
    "### 3) Baseline Model Training and CV"
   ]
  },
  {
   "cell_type": "code",
   "execution_count": 10,
   "id": "adcaec69",
   "metadata": {},
   "outputs": [],
   "source": [
    "# Define Classifier (or pipeline)\n",
    "clf = lgb.LGBMClassifier(random_state=SEED)"
   ]
  },
  {
   "cell_type": "code",
   "execution_count": 12,
   "id": "3de5c702",
   "metadata": {},
   "outputs": [],
   "source": [
    "# Get Features and Target\n",
    "X, y = train_mod.drop(\"Group\", axis=1), train_mod[\"Group\"]"
   ]
  },
  {
   "cell_type": "code",
   "execution_count": 13,
   "id": "2dbd6b39",
   "metadata": {},
   "outputs": [],
   "source": [
    "# Defining RepeatedKFold Cross Validator\n",
    "rkf = RepeatedKFold(n_splits=5, n_repeats=20, random_state=SEED)"
   ]
  },
  {
   "cell_type": "code",
   "execution_count": 39,
   "id": "356afa19",
   "metadata": {},
   "outputs": [
    {
     "data": {
      "text/plain": [
       "make_scorer(balanced_accuracy_score)"
      ]
     },
     "execution_count": 39,
     "metadata": {},
     "output_type": "execute_result"
    }
   ],
   "source": [
    "# Define metric scorer\n",
    "metric_scorer = make_scorer(balanced_accuracy_score)\n",
    "metric_scorer"
   ]
  },
  {
   "cell_type": "code",
   "execution_count": 15,
   "id": "8258c5a6",
   "metadata": {},
   "outputs": [],
   "source": [
    "# Cross validate model\n",
    "scores = cross_val_score(clf, X, y, scoring=metric_scorer, cv=rkf, n_jobs=-1)"
   ]
  },
  {
   "cell_type": "code",
   "execution_count": 16,
   "id": "5e19c754",
   "metadata": {},
   "outputs": [
    {
     "data": {
      "text/plain": [
       "array([0.82236842, 0.75      , 0.86842105, 0.73076923, 0.85119048,\n",
       "       0.875     , 0.875     , 0.76190476, 0.7375    , 0.88888889,\n",
       "       0.82954545, 0.79117647, 0.72556391, 0.72916667, 0.85625   ,\n",
       "       0.83333333, 0.85      , 0.85714286, 0.80065359, 0.69281046,\n",
       "       0.63333333, 0.88486842, 0.70606061, 0.8       , 0.81875   ,\n",
       "       0.80833333, 0.88736264, 0.59722222, 0.69281046, 0.85947712,\n",
       "       0.69444444, 0.83235294, 0.77819549, 0.78125   , 0.69281046,\n",
       "       0.69602273, 0.78618421, 0.72619048, 0.56666667, 0.76785714,\n",
       "       0.75      , 0.75      , 0.83030303, 0.83030303, 0.88194444,\n",
       "       0.78021978, 0.90909091, 0.80392157, 0.7875    , 0.82330827,\n",
       "       0.8       , 0.64166667, 0.7875    , 0.74509804, 0.81875   ,\n",
       "       0.83238636, 0.75      , 0.70138889, 0.80357143, 0.75      ,\n",
       "       0.72058824, 0.69444444, 0.80952381, 0.84722222, 0.64285714,\n",
       "       0.68333333, 0.8       , 0.88194444, 0.72916667, 0.83030303,\n",
       "       0.78693182, 0.79117647, 0.6875    , 0.91176471, 0.76363636,\n",
       "       0.92329545, 0.69117647, 0.88461538, 0.77819549, 0.65625   ,\n",
       "       0.77777778, 0.78235294, 0.85620915, 0.72121212, 0.72916667,\n",
       "       0.80714286, 0.80113636, 0.79761905, 0.77272727, 0.7875    ,\n",
       "       0.77777778, 0.92105263, 0.78484848, 0.80625   , 0.76923077,\n",
       "       0.79605263, 0.86111111, 0.68627451, 0.81818182, 0.70238095])"
      ]
     },
     "execution_count": 16,
     "metadata": {},
     "output_type": "execute_result"
    }
   ],
   "source": [
    "# Score from each CV Iteration\n",
    "scores"
   ]
  },
  {
   "cell_type": "code",
   "execution_count": 17,
   "id": "92335208",
   "metadata": {},
   "outputs": [
    {
     "data": {
      "text/plain": [
       "0.7818376105748396"
      ]
     },
     "execution_count": 17,
     "metadata": {},
     "output_type": "execute_result"
    }
   ],
   "source": [
    "# Mean Metric Value\n",
    "np.mean(scores)"
   ]
  },
  {
   "cell_type": "markdown",
   "id": "a9248c66",
   "metadata": {},
   "source": [
    "# Feature reduction"
   ]
  },
  {
   "cell_type": "code",
   "execution_count": 71,
   "id": "65e27dc7",
   "metadata": {},
   "outputs": [],
   "source": [
    "train_mod_stats = train_mod.drop('Group', axis = 1)\n"
   ]
  },
  {
   "cell_type": "code",
   "execution_count": 72,
   "id": "cabaf37e",
   "metadata": {},
   "outputs": [],
   "source": [
    "df = train_mod.copy()\n",
    "peaks_list = []\n",
    "pval_list = []\n",
    "df2 = pd.melt(df, id_vars = [\"Group\"])\n",
    "mild = df.where(df.Group == \"MILD\").dropna()\n",
    "sev = df.where(df.Group == \"SEVERE\").dropna()\n",
    "for i in range(1,(len(df.columns)-1)):\n",
    "    s, p1 = stats.mannwhitneyu(mild.iloc[:,i], sev.iloc[:,i], alternative = 'two-sided')\n",
    "    if p1 <= 0.05:\n",
    "        pval_list.append(p1)\n",
    "        peaks_list.append(df.columns[i])\n",
    "peaks_list.append(\"Group\")"
   ]
  },
  {
   "cell_type": "code",
   "execution_count": 87,
   "id": "e21c173b",
   "metadata": {},
   "outputs": [],
   "source": [
    "df_filtered = df.drop(columns=[col for col in df if col not in peaks_list])\n",
    "df_test_filtered = test.drop(columns=[col for col in test if col not in peaks_list])"
   ]
  },
  {
   "cell_type": "code",
   "execution_count": 89,
   "id": "3b9b19e4",
   "metadata": {},
   "outputs": [
    {
     "data": {
      "text/plain": [
       "(64, 150)"
      ]
     },
     "execution_count": 89,
     "metadata": {},
     "output_type": "execute_result"
    }
   ],
   "source": [
    "df_test_filtered.shape"
   ]
  },
  {
   "cell_type": "markdown",
   "id": "8e848ed4",
   "metadata": {},
   "source": [
    "---"
   ]
  },
  {
   "cell_type": "code",
   "execution_count": 97,
   "id": "3dc6c626",
   "metadata": {
    "scrolled": false
   },
   "outputs": [
    {
     "data": {
      "text/plain": [
       "array([0.79605263, 0.88888889, 0.82330827, 0.76923077, 0.96428571,\n",
       "       0.88333333, 0.75986842, 0.80357143, 0.7375    , 0.88888889,\n",
       "       0.79829545, 0.82058824, 0.7518797 , 0.75694444, 0.86875   ,\n",
       "       0.88888889, 0.9       , 0.81547619, 0.82679739, 0.71568627,\n",
       "       0.70833333, 0.88486842, 0.71818182, 0.8       , 0.81875   ,\n",
       "       0.73333333, 0.88736264, 0.60416667, 0.71895425, 0.83006536,\n",
       "       0.80555556, 0.83235294, 0.80451128, 0.875     , 0.72222222,\n",
       "       0.78693182, 0.8125    , 0.79761905, 0.625     , 0.85119048,\n",
       "       0.75      , 0.8       , 0.73939394, 0.86363636, 0.88194444,\n",
       "       0.8543956 , 0.87784091, 0.83006536, 0.86875   , 0.82330827,\n",
       "       0.9       , 0.725     , 0.80625   , 0.71568627, 0.8875    ,\n",
       "       0.95454545, 0.8       , 0.70138889, 0.88095238, 0.7       ,\n",
       "       0.72058824, 0.75      , 0.80952381, 0.78472222, 0.68452381,\n",
       "       0.725     , 0.76666667, 0.81944444, 0.79166667, 0.84242424,\n",
       "       0.86363636, 0.79117647, 0.75625   , 0.94117647, 0.76363636,\n",
       "       0.96875   , 0.8       , 0.80769231, 0.70676692, 0.7375    ,\n",
       "       0.75      , 0.69411765, 0.85620915, 0.82121212, 0.84722222,\n",
       "       0.78214286, 0.83238636, 0.79761905, 0.87575758, 0.7875    ,\n",
       "       0.72222222, 0.97368421, 0.73939394, 0.775     , 0.80769231,\n",
       "       0.82236842, 0.97222222, 0.74509804, 0.81818182, 0.70833333])"
      ]
     },
     "execution_count": 97,
     "metadata": {},
     "output_type": "execute_result"
    }
   ],
   "source": [
    "# Get Features and Target\n",
    "X, y = df_filtered.drop(\"Group\", axis=1), df_filtered[\"Group\"]\n",
    "X_test, y_test = df_test_filtered.drop(\"Group\", axis=1), df_test_filtered[\"Group\"]\n",
    "# Cross validate model\n",
    "scores = cross_val_score(clf, X, y, scoring=metric_scorer, cv=rkf, n_jobs=-1)\n",
    "# Score from each CV Iteration\n",
    "scores"
   ]
  },
  {
   "cell_type": "code",
   "execution_count": 92,
   "id": "62399d1a",
   "metadata": {},
   "outputs": [
    {
     "data": {
      "text/plain": [
       "0.8039530045547848"
      ]
     },
     "execution_count": 92,
     "metadata": {},
     "output_type": "execute_result"
    }
   ],
   "source": [
    "# Mean Metric Value\n",
    "np.mean(scores)"
   ]
  },
  {
   "cell_type": "markdown",
   "id": "58c49d27",
   "metadata": {},
   "source": [
    "### 4) Experiments"
   ]
  },
  {
   "cell_type": "markdown",
   "id": "8c019825",
   "metadata": {},
   "source": [
    "##### 4.1) Hyper Parameter Optimization with Optuna"
   ]
  },
  {
   "cell_type": "code",
   "execution_count": 128,
   "id": "fac3358e",
   "metadata": {},
   "outputs": [],
   "source": [
    "# Define objectiva funtion to maximize metric\n",
    "def objective(trial):\n",
    "    \n",
    "    # Hyper Parameter Grid\n",
    "    param = {\n",
    "        \"objective\": \"binary\",\n",
    "        \"metric\": \"binary_logloss\",\n",
    "        \"verbosity\": -1,\n",
    "        \"boosting_type\": \"gbdt\",\n",
    "        \"lambda_l1\": trial.suggest_float(\"lambda_l1\", 1e-8, 10.0, log=True),\n",
    "        \"lambda_l2\": trial.suggest_float(\"lambda_l2\", 1e-8, 10.0, log=True),\n",
    "        \"num_leaves\": trial.suggest_int(\"num_leaves\", 2, 256),\n",
    "        \"feature_fraction\": trial.suggest_float(\"feature_fraction\", 0.4, 1.0),\n",
    "        \"bagging_fraction\": trial.suggest_float(\"bagging_fraction\", 0.4, 1.0),\n",
    "        \"bagging_freq\": trial.suggest_int(\"bagging_freq\", 1, 7),\n",
    "        \"min_child_samples\": trial.suggest_int(\"min_child_samples\", 5, 100),\n",
    "        \"n_estimators\": trial.suggest_int(\"max_depth\", 100, 1000)\n",
    "    }\n",
    "    # Create model with param trial\n",
    "    clf = lgb.LGBMClassifier(random_state=SEED, **param)\n",
    "    # Get CV Metric we want to maximize\n",
    "    balanced_accuracy = np.mean(cross_val_score(clf, X, y, scoring=metric_scorer, cv=rkf, n_jobs=-1))\n",
    "    \n",
    "    return balanced_accuracy"
   ]
  },
  {
   "cell_type": "code",
   "execution_count": 129,
   "id": "a1574fcb",
   "metadata": {},
   "outputs": [
    {
     "name": "stderr",
     "output_type": "stream",
     "text": [
      "\u001b[32m[I 2022-06-21 15:45:39,282]\u001b[0m A new study created in memory with name: no-name-e6416ef2-db4b-43fe-88d2-f515ea06571a\u001b[0m\n"
     ]
    }
   ],
   "source": [
    "study = optuna.create_study(direction=\"maximize\")"
   ]
  },
  {
   "cell_type": "code",
   "execution_count": 130,
   "id": "03e01408",
   "metadata": {
    "scrolled": true
   },
   "outputs": [
    {
     "name": "stderr",
     "output_type": "stream",
     "text": [
      "\u001b[32m[I 2022-06-21 15:46:12,124]\u001b[0m Trial 0 finished with value: 0.5 and parameters: {'lambda_l1': 9.94178690130804e-07, 'lambda_l2': 6.396882700818826e-07, 'num_leaves': 233, 'feature_fraction': 0.6538636920379493, 'bagging_fraction': 0.4738351942510842, 'bagging_freq': 5, 'min_child_samples': 34, 'max_depth': 822}. Best is trial 0 with value: 0.5.\u001b[0m\n",
      "\u001b[32m[I 2022-06-21 15:46:15,559]\u001b[0m Trial 1 finished with value: 0.8521005587120137 and parameters: {'lambda_l1': 0.013322054229437065, 'lambda_l2': 0.5502889088762963, 'num_leaves': 235, 'feature_fraction': 0.9108649897363823, 'bagging_fraction': 0.8063519516448048, 'bagging_freq': 5, 'min_child_samples': 44, 'max_depth': 362}. Best is trial 1 with value: 0.8521005587120137.\u001b[0m\n",
      "\u001b[32m[I 2022-06-21 15:46:17,689]\u001b[0m Trial 2 finished with value: 0.5 and parameters: {'lambda_l1': 0.03688252904299475, 'lambda_l2': 2.8541859675529306e-06, 'num_leaves': 225, 'feature_fraction': 0.8014690743573696, 'bagging_fraction': 0.5733983875978387, 'bagging_freq': 2, 'min_child_samples': 42, 'max_depth': 629}. Best is trial 1 with value: 0.8521005587120137.\u001b[0m\n",
      "\u001b[32m[I 2022-06-21 15:46:19,067]\u001b[0m Trial 3 finished with value: 0.5 and parameters: {'lambda_l1': 3.6837425334850386e-06, 'lambda_l2': 0.01825324977963393, 'num_leaves': 51, 'feature_fraction': 0.6093756165131216, 'bagging_fraction': 0.4720148678172508, 'bagging_freq': 4, 'min_child_samples': 57, 'max_depth': 844}. Best is trial 1 with value: 0.8521005587120137.\u001b[0m\n",
      "\u001b[32m[I 2022-06-21 15:46:21,225]\u001b[0m Trial 4 finished with value: 0.765287030113849 and parameters: {'lambda_l1': 2.426205594695257, 'lambda_l2': 0.23931873177524643, 'num_leaves': 214, 'feature_fraction': 0.5830303162695617, 'bagging_fraction': 0.9771132319039589, 'bagging_freq': 2, 'min_child_samples': 43, 'max_depth': 152}. Best is trial 1 with value: 0.8521005587120137.\u001b[0m\n",
      "\u001b[32m[I 2022-06-21 15:46:22,457]\u001b[0m Trial 5 finished with value: 0.5 and parameters: {'lambda_l1': 0.0006887802525211588, 'lambda_l2': 8.99556258502258, 'num_leaves': 36, 'feature_fraction': 0.826161614699044, 'bagging_fraction': 0.787401081563543, 'bagging_freq': 1, 'min_child_samples': 65, 'max_depth': 687}. Best is trial 1 with value: 0.8521005587120137.\u001b[0m\n",
      "\u001b[32m[I 2022-06-21 15:46:26,242]\u001b[0m Trial 6 finished with value: 0.8285195323467383 and parameters: {'lambda_l1': 0.29465164408209404, 'lambda_l2': 1.3511044845982222e-05, 'num_leaves': 124, 'feature_fraction': 0.9728771120085977, 'bagging_fraction': 0.7726222095130204, 'bagging_freq': 5, 'min_child_samples': 11, 'max_depth': 141}. Best is trial 1 with value: 0.8521005587120137.\u001b[0m\n",
      "\u001b[32m[I 2022-06-21 15:46:30,359]\u001b[0m Trial 7 finished with value: 0.8787251108669453 and parameters: {'lambda_l1': 4.0391232997036376e-08, 'lambda_l2': 8.367645101580439e-08, 'num_leaves': 80, 'feature_fraction': 0.555745408916432, 'bagging_fraction': 0.42085462987545186, 'bagging_freq': 4, 'min_child_samples': 21, 'max_depth': 574}. Best is trial 7 with value: 0.8787251108669453.\u001b[0m\n",
      "\u001b[32m[I 2022-06-21 15:46:36,122]\u001b[0m Trial 8 finished with value: 0.8259633439530886 and parameters: {'lambda_l1': 5.380605570952674e-05, 'lambda_l2': 4.535759919942471, 'num_leaves': 198, 'feature_fraction': 0.6643148426125277, 'bagging_fraction': 0.6447183675650054, 'bagging_freq': 5, 'min_child_samples': 11, 'max_depth': 224}. Best is trial 7 with value: 0.8787251108669453.\u001b[0m\n",
      "\u001b[32m[I 2022-06-21 15:46:37,490]\u001b[0m Trial 9 finished with value: 0.7779657100725212 and parameters: {'lambda_l1': 1.1881258939595682, 'lambda_l2': 2.7712859575474053e-07, 'num_leaves': 89, 'feature_fraction': 0.6405042857850248, 'bagging_fraction': 0.4108320187649904, 'bagging_freq': 2, 'min_child_samples': 26, 'max_depth': 259}. Best is trial 7 with value: 0.8787251108669453.\u001b[0m\n",
      "\u001b[32m[I 2022-06-21 15:46:38,604]\u001b[0m Trial 10 finished with value: 0.5 and parameters: {'lambda_l1': 1.3514136393895065e-08, 'lambda_l2': 1.7771849428710748e-08, 'num_leaves': 7, 'feature_fraction': 0.4012022703834599, 'bagging_fraction': 0.5908249649667847, 'bagging_freq': 7, 'min_child_samples': 98, 'max_depth': 466}. Best is trial 7 with value: 0.8787251108669453.\u001b[0m\n",
      "\u001b[32m[I 2022-06-21 15:46:39,659]\u001b[0m Trial 11 finished with value: 0.5 and parameters: {'lambda_l1': 0.004590595648001868, 'lambda_l2': 0.0005050379046630775, 'num_leaves': 164, 'feature_fraction': 0.4794245623929982, 'bagging_fraction': 0.8967783966932902, 'bagging_freq': 4, 'min_child_samples': 76, 'max_depth': 436}. Best is trial 7 with value: 0.8787251108669453.\u001b[0m\n",
      "\u001b[32m[I 2022-06-21 15:46:44,014]\u001b[0m Trial 12 finished with value: 0.8613676134022497 and parameters: {'lambda_l1': 2.4254274048325233e-08, 'lambda_l2': 0.0009296022393891502, 'num_leaves': 113, 'feature_fraction': 0.9759511797988947, 'bagging_fraction': 0.7535272073309178, 'bagging_freq': 7, 'min_child_samples': 27, 'max_depth': 377}. Best is trial 7 with value: 0.8787251108669453.\u001b[0m\n",
      "\u001b[32m[I 2022-06-21 15:46:49,753]\u001b[0m Trial 13 finished with value: 0.8744736301065638 and parameters: {'lambda_l1': 1.6282863946035277e-08, 'lambda_l2': 0.0005339592185513741, 'num_leaves': 109, 'feature_fraction': 0.7816120607611021, 'bagging_fraction': 0.6811230130349388, 'bagging_freq': 7, 'min_child_samples': 24, 'max_depth': 569}. Best is trial 7 with value: 0.8787251108669453.\u001b[0m\n",
      "\u001b[32m[I 2022-06-21 15:46:59,686]\u001b[0m Trial 14 finished with value: 0.8367681785019245 and parameters: {'lambda_l1': 2.7840612686683376e-07, 'lambda_l2': 6.250701967938807e-05, 'num_leaves': 80, 'feature_fraction': 0.7671881868274171, 'bagging_fraction': 0.6823601604270426, 'bagging_freq': 6, 'min_child_samples': 8, 'max_depth': 989}. Best is trial 7 with value: 0.8787251108669453.\u001b[0m\n",
      "\u001b[32m[I 2022-06-21 15:47:04,637]\u001b[0m Trial 15 finished with value: 0.8774315945277634 and parameters: {'lambda_l1': 1.1319229476989827e-05, 'lambda_l2': 0.00714298119376165, 'num_leaves': 163, 'feature_fraction': 0.5341100128315568, 'bagging_fraction': 0.5334488131286319, 'bagging_freq': 3, 'min_child_samples': 21, 'max_depth': 578}. Best is trial 7 with value: 0.8787251108669453.\u001b[0m\n",
      "\u001b[32m[I 2022-06-21 15:47:10,255]\u001b[0m Trial 16 finished with value: 0.8811761166679898 and parameters: {'lambda_l1': 2.445236516486922e-05, 'lambda_l2': 0.012225845715018698, 'num_leaves': 158, 'feature_fraction': 0.5246885443542444, 'bagging_fraction': 0.5317235305897623, 'bagging_freq': 3, 'min_child_samples': 21, 'max_depth': 706}. Best is trial 16 with value: 0.8811761166679898.\u001b[0m\n",
      "\u001b[32m[I 2022-06-21 15:47:11,609]\u001b[0m Trial 17 finished with value: 0.5 and parameters: {'lambda_l1': 0.00014524348229905988, 'lambda_l2': 0.01879481040465947, 'num_leaves': 162, 'feature_fraction': 0.47782114825971334, 'bagging_fraction': 0.40989168806928766, 'bagging_freq': 3, 'min_child_samples': 79, 'max_depth': 739}. Best is trial 16 with value: 0.8811761166679898.\u001b[0m\n",
      "\u001b[32m[I 2022-06-21 15:47:17,496]\u001b[0m Trial 18 finished with value: 0.8670232661430417 and parameters: {'lambda_l1': 3.4364295761289097e-07, 'lambda_l2': 1.1495477502908962e-08, 'num_leaves': 147, 'feature_fraction': 0.5351861713926156, 'bagging_fraction': 0.5054764571089942, 'bagging_freq': 3, 'min_child_samples': 17, 'max_depth': 790}. Best is trial 16 with value: 0.8811761166679898.\u001b[0m\n",
      "\u001b[32m[I 2022-06-21 15:47:22,485]\u001b[0m Trial 19 finished with value: 0.876690166386761 and parameters: {'lambda_l1': 1.66391531707413e-05, 'lambda_l2': 6.153862709468527e-05, 'num_leaves': 193, 'feature_fraction': 0.43150589998493416, 'bagging_fraction': 0.6006091144277043, 'bagging_freq': 4, 'min_child_samples': 33, 'max_depth': 940}. Best is trial 16 with value: 0.8811761166679898.\u001b[0m\n",
      "\u001b[32m[I 2022-06-21 15:47:23,760]\u001b[0m Trial 20 finished with value: 0.5 and parameters: {'lambda_l1': 0.0012758570790528613, 'lambda_l2': 1.341622269317376e-07, 'num_leaves': 70, 'feature_fraction': 0.7112520666445468, 'bagging_fraction': 0.45650086681853924, 'bagging_freq': 1, 'min_child_samples': 54, 'max_depth': 665}. Best is trial 16 with value: 0.8811761166679898.\u001b[0m\n",
      "\u001b[32m[I 2022-06-21 15:47:28,502]\u001b[0m Trial 21 finished with value: 0.8797478668991827 and parameters: {'lambda_l1': 8.089948428932541e-06, 'lambda_l2': 0.006267255280884193, 'num_leaves': 140, 'feature_fraction': 0.5439760892104032, 'bagging_fraction': 0.5245326326604088, 'bagging_freq': 3, 'min_child_samples': 19, 'max_depth': 521}. Best is trial 16 with value: 0.8811761166679898.\u001b[0m\n"
     ]
    },
    {
     "name": "stderr",
     "output_type": "stream",
     "text": [
      "\u001b[32m[I 2022-06-21 15:47:30,200]\u001b[0m Trial 22 finished with value: 0.7176173893830626 and parameters: {'lambda_l1': 1.250110199888723e-07, 'lambda_l2': 0.005649106517137179, 'num_leaves': 142, 'feature_fraction': 0.5441127177991123, 'bagging_fraction': 0.5363743250007063, 'bagging_freq': 3, 'min_child_samples': 34, 'max_depth': 486}. Best is trial 16 with value: 0.8811761166679898.\u001b[0m\n",
      "\u001b[32m[I 2022-06-21 15:47:34,201]\u001b[0m Trial 23 finished with value: 0.8714963405402648 and parameters: {'lambda_l1': 2.4073326244501874e-06, 'lambda_l2': 0.10512963899232872, 'num_leaves': 99, 'feature_fraction': 0.4786620653582086, 'bagging_fraction': 0.4024229090219423, 'bagging_freq': 4, 'min_child_samples': 17, 'max_depth': 526}. Best is trial 16 with value: 0.8811761166679898.\u001b[0m\n",
      "\u001b[32m[I 2022-06-21 15:47:43,234]\u001b[0m Trial 24 finished with value: 0.8511374290484198 and parameters: {'lambda_l1': 7.94983213297775e-05, 'lambda_l2': 0.002349543795169676, 'num_leaves': 187, 'feature_fraction': 0.5762394303001239, 'bagging_fraction': 0.6251160981921839, 'bagging_freq': 2, 'min_child_samples': 7, 'max_depth': 603}. Best is trial 16 with value: 0.8811761166679898.\u001b[0m\n",
      "\u001b[32m[I 2022-06-21 15:47:50,776]\u001b[0m Trial 25 finished with value: 0.8720773121787054 and parameters: {'lambda_l1': 8.213386783810492e-08, 'lambda_l2': 0.05552237543913385, 'num_leaves': 135, 'feature_fraction': 0.7079577576398368, 'bagging_fraction': 0.5516875458274066, 'bagging_freq': 3, 'min_child_samples': 18, 'max_depth': 725}. Best is trial 16 with value: 0.8811761166679898.\u001b[0m\n",
      "\u001b[32m[I 2022-06-21 15:47:52,311]\u001b[0m Trial 26 finished with value: 0.7807439347503201 and parameters: {'lambda_l1': 1.110628307697636e-05, 'lambda_l2': 7.690783992535568e-05, 'num_leaves': 56, 'feature_fraction': 0.4990515106628666, 'bagging_fraction': 0.4981040290906674, 'bagging_freq': 3, 'min_child_samples': 31, 'max_depth': 399}. Best is trial 16 with value: 0.8811761166679898.\u001b[0m\n",
      "\u001b[32m[I 2022-06-21 15:47:53,913]\u001b[0m Trial 27 finished with value: 0.5 and parameters: {'lambda_l1': 1.0709886083149169e-06, 'lambda_l2': 0.8414541563603098, 'num_leaves': 253, 'feature_fraction': 0.5916844233461424, 'bagging_fraction': 0.44958901084438446, 'bagging_freq': 6, 'min_child_samples': 40, 'max_depth': 333}. Best is trial 16 with value: 0.8811761166679898.\u001b[0m\n",
      "\u001b[32m[I 2022-06-21 15:47:55,534]\u001b[0m Trial 28 finished with value: 0.5 and parameters: {'lambda_l1': 0.0003001974454095662, 'lambda_l2': 6.421292424368149e-06, 'num_leaves': 124, 'feature_fraction': 0.432116862162047, 'bagging_fraction': 0.5042134603986277, 'bagging_freq': 4, 'min_child_samples': 49, 'max_depth': 522}. Best is trial 16 with value: 0.8811761166679898.\u001b[0m\n",
      "\u001b[32m[I 2022-06-21 15:48:01,465]\u001b[0m Trial 29 finished with value: 0.8725677618734896 and parameters: {'lambda_l1': 1.5639477580983545e-06, 'lambda_l2': 8.038925600512776e-07, 'num_leaves': 28, 'feature_fraction': 0.6398824392818603, 'bagging_fraction': 0.44838691910018996, 'bagging_freq': 4, 'min_child_samples': 15, 'max_depth': 839}. Best is trial 16 with value: 0.8811761166679898.\u001b[0m\n",
      "\u001b[32m[I 2022-06-21 15:48:07,614]\u001b[0m Trial 30 finished with value: 0.8668657996630132 and parameters: {'lambda_l1': 4.407184451595807e-05, 'lambda_l2': 0.00015939073223173909, 'num_leaves': 179, 'feature_fraction': 0.5184441802757078, 'bagging_fraction': 0.7247566090401796, 'bagging_freq': 6, 'min_child_samples': 37, 'max_depth': 901}. Best is trial 16 with value: 0.8811761166679898.\u001b[0m\n",
      "\u001b[32m[I 2022-06-21 15:48:12,302]\u001b[0m Trial 31 finished with value: 0.878190708070739 and parameters: {'lambda_l1': 1.1265326337520842e-05, 'lambda_l2': 0.003226625282640505, 'num_leaves': 160, 'feature_fraction': 0.5545964398554473, 'bagging_fraction': 0.5280503483452439, 'bagging_freq': 3, 'min_child_samples': 23, 'max_depth': 594}. Best is trial 16 with value: 0.8811761166679898.\u001b[0m\n",
      "\u001b[32m[I 2022-06-21 15:48:21,223]\u001b[0m Trial 32 finished with value: 0.8450237944245298 and parameters: {'lambda_l1': 4.1242241455458366e-06, 'lambda_l2': 0.0021689604468368225, 'num_leaves': 156, 'feature_fraction': 0.543763638377887, 'bagging_fraction': 0.6297818115899477, 'bagging_freq': 2, 'min_child_samples': 5, 'max_depth': 640}. Best is trial 16 with value: 0.8811761166679898.\u001b[0m\n",
      "\u001b[32m[I 2022-06-21 15:48:25,772]\u001b[0m Trial 33 finished with value: 0.8722812277806472 and parameters: {'lambda_l1': 5.236100458797755e-07, 'lambda_l2': 0.031702762100222756, 'num_leaves': 172, 'feature_fraction': 0.44490172038419307, 'bagging_fraction': 0.5511066179492565, 'bagging_freq': 3, 'min_child_samples': 29, 'max_depth': 768}. Best is trial 16 with value: 0.8811761166679898.\u001b[0m\n",
      "\u001b[32m[I 2022-06-21 15:48:33,411]\u001b[0m Trial 34 finished with value: 0.8567518135674095 and parameters: {'lambda_l1': 0.00426112324356395, 'lambda_l2': 0.004179901115211686, 'num_leaves': 211, 'feature_fraction': 0.612731151912117, 'bagging_fraction': 0.8340973470041779, 'bagging_freq': 2, 'min_child_samples': 21, 'max_depth': 702}. Best is trial 16 with value: 0.8811761166679898.\u001b[0m\n",
      "\u001b[32m[I 2022-06-21 15:48:35,367]\u001b[0m Trial 35 finished with value: 0.5 and parameters: {'lambda_l1': 1.813596018686953e-05, 'lambda_l2': 0.7548943922879812, 'num_leaves': 143, 'feature_fraction': 0.563354829442327, 'bagging_fraction': 0.4864117919586455, 'bagging_freq': 4, 'min_child_samples': 49, 'max_depth': 617}. Best is trial 16 with value: 0.8811761166679898.\u001b[0m\n",
      "\u001b[32m[I 2022-06-21 15:48:43,593]\u001b[0m Trial 36 finished with value: 0.863482804862836 and parameters: {'lambda_l1': 5.116905484627842e-06, 'lambda_l2': 0.012953780126449986, 'num_leaves': 104, 'feature_fraction': 0.6731426056706864, 'bagging_fraction': 0.5758780911670867, 'bagging_freq': 5, 'min_child_samples': 12, 'max_depth': 540}. Best is trial 16 with value: 0.8811761166679898.\u001b[0m\n",
      "\u001b[32m[I 2022-06-21 15:48:48,047]\u001b[0m Trial 37 finished with value: 0.8707128011737144 and parameters: {'lambda_l1': 4.9174538471824364e-08, 'lambda_l2': 0.16597872682973638, 'num_leaves': 117, 'feature_fraction': 0.615369876502093, 'bagging_fraction': 0.45522954284320427, 'bagging_freq': 3, 'min_child_samples': 23, 'max_depth': 669}. Best is trial 16 with value: 0.8811761166679898.\u001b[0m\n",
      "\u001b[32m[I 2022-06-21 15:48:49,508]\u001b[0m Trial 38 finished with value: 0.5 and parameters: {'lambda_l1': 0.042936169813502754, 'lambda_l2': 0.0009175409260307593, 'num_leaves': 207, 'feature_fraction': 0.8849912646086732, 'bagging_fraction': 0.5255912731946676, 'bagging_freq': 1, 'min_child_samples': 39, 'max_depth': 323}. Best is trial 16 with value: 0.8811761166679898.\u001b[0m\n",
      "\u001b[32m[I 2022-06-21 15:48:50,620]\u001b[0m Trial 39 finished with value: 0.5 and parameters: {'lambda_l1': 0.0004115949324725346, 'lambda_l2': 2.2543501655891545, 'num_leaves': 90, 'feature_fraction': 0.5060852466592393, 'bagging_fraction': 0.4341396734277446, 'bagging_freq': 2, 'min_child_samples': 60, 'max_depth': 484}. Best is trial 16 with value: 0.8811761166679898.\u001b[0m\n",
      "\u001b[32m[I 2022-06-21 15:48:57,094]\u001b[0m Trial 40 finished with value: 0.8688102415300558 and parameters: {'lambda_l1': 0.0013031351820196669, 'lambda_l2': 4.30471848767401e-08, 'num_leaves': 133, 'feature_fraction': 0.5718548098797452, 'bagging_fraction': 0.47915476187793626, 'bagging_freq': 4, 'min_child_samples': 13, 'max_depth': 589}. Best is trial 16 with value: 0.8811761166679898.\u001b[0m\n",
      "\u001b[32m[I 2022-06-21 15:49:02,193]\u001b[0m Trial 41 finished with value: 0.8773751940568892 and parameters: {'lambda_l1': 3.174534264123823e-05, 'lambda_l2': 0.010090028684558074, 'num_leaves': 176, 'feature_fraction': 0.5236007644561077, 'bagging_fraction': 0.5239442042224205, 'bagging_freq': 3, 'min_child_samples': 21, 'max_depth': 635}. Best is trial 16 with value: 0.8811761166679898.\u001b[0m\n",
      "\u001b[32m[I 2022-06-21 15:49:05,541]\u001b[0m Trial 42 finished with value: 0.8664068147839434 and parameters: {'lambda_l1': 7.334347249854486e-06, 'lambda_l2': 0.002347508798538257, 'num_leaves': 153, 'feature_fraction': 0.45880846649091905, 'bagging_fraction': 0.5637823039725854, 'bagging_freq': 3, 'min_child_samples': 27, 'max_depth': 432}. Best is trial 16 with value: 0.8811761166679898.\u001b[0m\n",
      "\u001b[32m[I 2022-06-21 15:49:11,221]\u001b[0m Trial 43 finished with value: 0.8733984023372569 and parameters: {'lambda_l1': 0.0001410480395041387, 'lambda_l2': 0.05845331204066075, 'num_leaves': 167, 'feature_fraction': 0.5548364392143827, 'bagging_fraction': 0.6039923115578822, 'bagging_freq': 2, 'min_child_samples': 20, 'max_depth': 573}. Best is trial 16 with value: 0.8811761166679898.\u001b[0m\n"
     ]
    },
    {
     "name": "stderr",
     "output_type": "stream",
     "text": [
      "\u001b[32m[I 2022-06-21 15:49:14,911]\u001b[0m Trial 44 finished with value: 0.8681508221096069 and parameters: {'lambda_l1': 6.080460751761331e-07, 'lambda_l2': 0.0001878636759265941, 'num_leaves': 186, 'feature_fraction': 0.4050047261452406, 'bagging_fraction': 0.647933176578071, 'bagging_freq': 5, 'min_child_samples': 32, 'max_depth': 509}. Best is trial 16 with value: 0.8811761166679898.\u001b[0m\n",
      "\u001b[32m[I 2022-06-21 15:49:16,793]\u001b[0m Trial 45 finished with value: 0.5 and parameters: {'lambda_l1': 2.0458701382487298e-07, 'lambda_l2': 2.3280524436107897e-05, 'num_leaves': 232, 'feature_fraction': 0.5948706876621798, 'bagging_fraction': 0.42741963824656126, 'bagging_freq': 3, 'min_child_samples': 45, 'max_depth': 566}. Best is trial 16 with value: 0.8811761166679898.\u001b[0m\n",
      "\u001b[32m[I 2022-06-21 15:49:20,575]\u001b[0m Trial 46 finished with value: 0.8665419422338927 and parameters: {'lambda_l1': 2.15048050488611e-06, 'lambda_l2': 0.00698113438937916, 'num_leaves': 126, 'feature_fraction': 0.7425199592895938, 'bagging_fraction': 0.585042196581778, 'bagging_freq': 4, 'min_child_samples': 27, 'max_depth': 445}. Best is trial 16 with value: 0.8811761166679898.\u001b[0m\n",
      "\u001b[32m[I 2022-06-21 15:49:28,547]\u001b[0m Trial 47 finished with value: 0.8609327195422398 and parameters: {'lambda_l1': 0.00010348800733455429, 'lambda_l2': 0.0010748862859200964, 'num_leaves': 154, 'feature_fraction': 0.6433337920558535, 'bagging_fraction': 0.5307120699103567, 'bagging_freq': 2, 'min_child_samples': 9, 'max_depth': 696}. Best is trial 16 with value: 0.8811761166679898.\u001b[0m\n",
      "\u001b[32m[I 2022-06-21 15:49:29,919]\u001b[0m Trial 48 finished with value: 0.5 and parameters: {'lambda_l1': 2.7497148355865158e-05, 'lambda_l2': 0.323873355134676, 'num_leaves': 202, 'feature_fraction': 0.4915045003213304, 'bagging_fraction': 0.47414035237304764, 'bagging_freq': 3, 'min_child_samples': 93, 'max_depth': 804}. Best is trial 16 with value: 0.8811761166679898.\u001b[0m\n",
      "\u001b[32m[I 2022-06-21 15:49:36,912]\u001b[0m Trial 49 finished with value: 0.8538273643281384 and parameters: {'lambda_l1': 9.645659015535947e-06, 'lambda_l2': 1.2006595237373502e-06, 'num_leaves': 65, 'feature_fraction': 0.6735475961817803, 'bagging_fraction': 0.9163206018821825, 'bagging_freq': 4, 'min_child_samples': 24, 'max_depth': 760}. Best is trial 16 with value: 0.8811761166679898.\u001b[0m\n",
      "\u001b[32m[I 2022-06-21 15:49:41,026]\u001b[0m Trial 50 finished with value: 0.8639456826283453 and parameters: {'lambda_l1': 0.056373753457059146, 'lambda_l2': 0.04970528252603711, 'num_leaves': 219, 'feature_fraction': 0.46567053712982276, 'bagging_fraction': 0.6576348708028903, 'bagging_freq': 5, 'min_child_samples': 36, 'max_depth': 658}. Best is trial 16 with value: 0.8811761166679898.\u001b[0m\n",
      "\u001b[32m[I 2022-06-21 15:49:46,254]\u001b[0m Trial 51 finished with value: 0.8771124385160763 and parameters: {'lambda_l1': 2.066208866670634e-05, 'lambda_l2': 0.013991654450305827, 'num_leaves': 178, 'feature_fraction': 0.5205424910554082, 'bagging_fraction': 0.5276993665400111, 'bagging_freq': 3, 'min_child_samples': 21, 'max_depth': 622}. Best is trial 16 with value: 0.8811761166679898.\u001b[0m\n",
      "\u001b[32m[I 2022-06-21 15:49:49,908]\u001b[0m Trial 52 finished with value: 0.7457764592218926 and parameters: {'lambda_l1': 7.5788920571897505, 'lambda_l2': 0.009011299969381274, 'num_leaves': 166, 'feature_fraction': 0.5304900042681819, 'bagging_fraction': 0.5189920501372711, 'bagging_freq': 3, 'min_child_samples': 17, 'max_depth': 546}. Best is trial 16 with value: 0.8811761166679898.\u001b[0m\n",
      "\u001b[32m[I 2022-06-21 15:49:58,340]\u001b[0m Trial 53 finished with value: 0.8633226271062958 and parameters: {'lambda_l1': 3.9177842893124494e-05, 'lambda_l2': 0.024363385537883805, 'num_leaves': 144, 'feature_fraction': 0.6225465322290399, 'bagging_fraction': 0.5556976000680814, 'bagging_freq': 3, 'min_child_samples': 12, 'max_depth': 597}. Best is trial 16 with value: 0.8811761166679898.\u001b[0m\n",
      "\u001b[32m[I 2022-06-21 15:50:04,041]\u001b[0m Trial 54 finished with value: 0.874775914745729 and parameters: {'lambda_l1': 0.0003228870225578615, 'lambda_l2': 0.0003162761722134512, 'num_leaves': 175, 'feature_fraction': 0.5094848509685328, 'bagging_fraction': 0.6112864426473347, 'bagging_freq': 3, 'min_child_samples': 24, 'max_depth': 719}. Best is trial 16 with value: 0.8811761166679898.\u001b[0m\n",
      "\u001b[32m[I 2022-06-21 15:50:06,151]\u001b[0m Trial 55 finished with value: 0.8219464475797679 and parameters: {'lambda_l1': 4.9128327761520705e-06, 'lambda_l2': 0.0034564269652261636, 'num_leaves': 196, 'feature_fraction': 0.5638345057675372, 'bagging_fraction': 0.49999666378609736, 'bagging_freq': 2, 'min_child_samples': 30, 'max_depth': 500}. Best is trial 16 with value: 0.8811761166679898.\u001b[0m\n",
      "\u001b[32m[I 2022-06-21 15:50:12,550]\u001b[0m Trial 56 finished with value: 0.8732378096619583 and parameters: {'lambda_l1': 2.7410456018074017e-08, 'lambda_l2': 0.0013515429685494152, 'num_leaves': 162, 'feature_fraction': 0.5947206141066541, 'bagging_fraction': 0.4312873579366914, 'bagging_freq': 4, 'min_child_samples': 15, 'max_depth': 650}. Best is trial 16 with value: 0.8811761166679898.\u001b[0m\n",
      "\u001b[32m[I 2022-06-21 15:50:19,238]\u001b[0m Trial 57 finished with value: 0.8676530191514713 and parameters: {'lambda_l1': 9.595907652711267e-07, 'lambda_l2': 0.11115870933686592, 'num_leaves': 41, 'feature_fraction': 0.5360481547569879, 'bagging_fraction': 0.7115062307679201, 'bagging_freq': 3, 'min_child_samples': 21, 'max_depth': 558}. Best is trial 16 with value: 0.8811761166679898.\u001b[0m\n",
      "\u001b[32m[I 2022-06-21 15:50:20,659]\u001b[0m Trial 58 finished with value: 0.5 and parameters: {'lambda_l1': 0.0010062706844814087, 'lambda_l2': 0.00045991524025845303, 'num_leaves': 135, 'feature_fraction': 0.47961613212789295, 'bagging_fraction': 0.47142900388249337, 'bagging_freq': 4, 'min_child_samples': 70, 'max_depth': 626}. Best is trial 16 with value: 0.8811761166679898.\u001b[0m\n",
      "\u001b[32m[I 2022-06-21 15:50:28,302]\u001b[0m Trial 59 finished with value: 0.859251807639385 and parameters: {'lambda_l1': 6.573735660914081e-05, 'lambda_l2': 0.006931179437409811, 'num_leaves': 117, 'feature_fraction': 0.5828949393400098, 'bagging_fraction': 0.5795779716075686, 'bagging_freq': 3, 'min_child_samples': 10, 'max_depth': 464}. Best is trial 16 with value: 0.8811761166679898.\u001b[0m\n",
      "\u001b[32m[I 2022-06-21 15:50:38,430]\u001b[0m Trial 60 finished with value: 0.844938236707393 and parameters: {'lambda_l1': 0.004053727768623676, 'lambda_l2': 0.022558645864283317, 'num_leaves': 15, 'feature_fraction': 0.4960653184489398, 'bagging_fraction': 0.544048977563714, 'bagging_freq': 2, 'min_child_samples': 5, 'max_depth': 742}. Best is trial 16 with value: 0.8811761166679898.\u001b[0m\n",
      "\u001b[32m[I 2022-06-21 15:50:40,166]\u001b[0m Trial 61 finished with value: 0.8233011165820764 and parameters: {'lambda_l1': 1.6027911683939684e-05, 'lambda_l2': 0.011230602314694737, 'num_leaves': 183, 'feature_fraction': 0.5189233899304273, 'bagging_fraction': 0.5169079495085579, 'bagging_freq': 3, 'min_child_samples': 19, 'max_depth': 101}. Best is trial 16 with value: 0.8811761166679898.\u001b[0m\n",
      "\u001b[32m[I 2022-06-21 15:50:44,879]\u001b[0m Trial 62 finished with value: 0.874070943139248 and parameters: {'lambda_l1': 2.3099939198624095e-05, 'lambda_l2': 0.03644765845528744, 'num_leaves': 153, 'feature_fraction': 0.537950087520084, 'bagging_fraction': 0.5367005036137218, 'bagging_freq': 3, 'min_child_samples': 23, 'max_depth': 613}. Best is trial 16 with value: 0.8811761166679898.\u001b[0m\n",
      "\u001b[32m[I 2022-06-21 15:50:51,505]\u001b[0m Trial 63 finished with value: 0.8759340076633034 and parameters: {'lambda_l1': 0.00019568519343683366, 'lambda_l2': 0.013533350245945904, 'num_leaves': 172, 'feature_fraction': 0.520919103582166, 'bagging_fraction': 0.4948241214538607, 'bagging_freq': 3, 'min_child_samples': 15, 'max_depth': 631}. Best is trial 16 with value: 0.8811761166679898.\u001b[0m\n",
      "\u001b[32m[I 2022-06-21 15:50:56,523]\u001b[0m Trial 64 finished with value: 0.8728607242430774 and parameters: {'lambda_l1': 9.95086119415132e-06, 'lambda_l2': 0.00468693706314746, 'num_leaves': 189, 'feature_fraction': 0.4589784729313287, 'bagging_fraction': 0.5697133139698208, 'bagging_freq': 2, 'min_child_samples': 26, 'max_depth': 680}. Best is trial 16 with value: 0.8811761166679898.\u001b[0m\n",
      "\u001b[32m[I 2022-06-21 15:51:03,186]\u001b[0m Trial 65 finished with value: 0.856303552785364 and parameters: {'lambda_l1': 3.972340828875835e-05, 'lambda_l2': 0.001803188903944535, 'num_leaves': 160, 'feature_fraction': 0.5580907641162469, 'bagging_fraction': 0.9960755257817955, 'bagging_freq': 3, 'min_child_samples': 29, 'max_depth': 578}. Best is trial 16 with value: 0.8811761166679898.\u001b[0m\n"
     ]
    },
    {
     "name": "stderr",
     "output_type": "stream",
     "text": [
      "\u001b[32m[I 2022-06-21 15:51:04,979]\u001b[0m Trial 66 finished with value: 0.5 and parameters: {'lambda_l1': 2.7582919511685486e-06, 'lambda_l2': 0.10198250997548158, 'num_leaves': 180, 'feature_fraction': 0.42428969610501416, 'bagging_fraction': 0.4012261999929807, 'bagging_freq': 4, 'min_child_samples': 34, 'max_depth': 532}. Best is trial 16 with value: 0.8811761166679898.\u001b[0m\n",
      "\u001b[32m[I 2022-06-21 15:51:09,102]\u001b[0m Trial 67 finished with value: 0.8687060445574377 and parameters: {'lambda_l1': 7.349417058410406e-05, 'lambda_l2': 0.0006164976182081101, 'num_leaves': 146, 'feature_fraction': 0.48707408304042954, 'bagging_fraction': 0.6224373002862733, 'bagging_freq': 4, 'min_child_samples': 20, 'max_depth': 405}. Best is trial 16 with value: 0.8811761166679898.\u001b[0m\n",
      "\u001b[32m[I 2022-06-21 15:51:15,061]\u001b[0m Trial 68 finished with value: 0.8680702605143393 and parameters: {'lambda_l1': 1.1971148788182363e-06, 'lambda_l2': 2.0151149702599686e-07, 'num_leaves': 138, 'feature_fraction': 0.5433981203547671, 'bagging_fraction': 0.5934165463716751, 'bagging_freq': 3, 'min_child_samples': 14, 'max_depth': 600}. Best is trial 16 with value: 0.8811761166679898.\u001b[0m\n",
      "\u001b[32m[I 2022-06-21 15:51:22,227]\u001b[0m Trial 69 finished with value: 0.8753947390543751 and parameters: {'lambda_l1': 5.640921305185994e-06, 'lambda_l2': 0.0033239021867180743, 'num_leaves': 96, 'feature_fraction': 0.8725584727240705, 'bagging_fraction': 0.5131517049790237, 'bagging_freq': 2, 'min_child_samples': 18, 'max_depth': 702}. Best is trial 16 with value: 0.8811761166679898.\u001b[0m\n",
      "\u001b[32m[I 2022-06-21 15:51:36,403]\u001b[0m Trial 70 finished with value: 0.8590089785515482 and parameters: {'lambda_l1': 1.3644365425105074e-05, 'lambda_l2': 0.019407244276034904, 'num_leaves': 174, 'feature_fraction': 0.5774519628170098, 'bagging_fraction': 0.6669271076860221, 'bagging_freq': 4, 'min_child_samples': 8, 'max_depth': 882}. Best is trial 16 with value: 0.8811761166679898.\u001b[0m\n",
      "\u001b[32m[I 2022-06-21 15:51:41,178]\u001b[0m Trial 71 finished with value: 0.8694323856183377 and parameters: {'lambda_l1': 3.206015804276919e-05, 'lambda_l2': 2.922838054545231e-06, 'num_leaves': 193, 'feature_fraction': 0.4405321191783872, 'bagging_fraction': 0.46127462138795156, 'bagging_freq': 4, 'min_child_samples': 22, 'max_depth': 648}. Best is trial 16 with value: 0.8811761166679898.\u001b[0m\n",
      "\u001b[32m[I 2022-06-21 15:51:47,233]\u001b[0m Trial 72 finished with value: 0.8716160347005935 and parameters: {'lambda_l1': 1.9001100482782813e-05, 'lambda_l2': 4.1980234885894176e-05, 'num_leaves': 166, 'feature_fraction': 0.4198672309252788, 'bagging_fraction': 0.543958017074258, 'bagging_freq': 3, 'min_child_samples': 26, 'max_depth': 987}. Best is trial 16 with value: 0.8811761166679898.\u001b[0m\n",
      "\u001b[32m[I 2022-06-21 15:51:48,951]\u001b[0m Trial 73 finished with value: 0.7390045984287468 and parameters: {'lambda_l1': 3.078311052601574e-06, 'lambda_l2': 1.0383025414471567e-05, 'num_leaves': 149, 'feature_fraction': 0.5052142389960906, 'bagging_fraction': 0.4905208188030763, 'bagging_freq': 4, 'min_child_samples': 32, 'max_depth': 481}. Best is trial 16 with value: 0.8811761166679898.\u001b[0m\n",
      "\u001b[32m[I 2022-06-21 15:51:55,599]\u001b[0m Trial 74 finished with value: 0.8659618292139575 and parameters: {'lambda_l1': 0.00017958869444932108, 'lambda_l2': 0.2903333719509125, 'num_leaves': 197, 'feature_fraction': 0.9977950734419381, 'bagging_fraction': 0.5613428630762851, 'bagging_freq': 5, 'min_child_samples': 18, 'max_depth': 516}. Best is trial 16 with value: 0.8811761166679898.\u001b[0m\n",
      "\u001b[32m[I 2022-06-21 15:52:02,212]\u001b[0m Trial 75 finished with value: 0.8684303596730065 and parameters: {'lambda_l1': 5.551574412654299e-07, 'lambda_l2': 0.06976306711042124, 'num_leaves': 204, 'feature_fraction': 0.5544194636220446, 'bagging_fraction': 0.6001244049292812, 'bagging_freq': 3, 'min_child_samples': 28, 'max_depth': 915}. Best is trial 16 with value: 0.8811761166679898.\u001b[0m\n",
      "\u001b[32m[I 2022-06-21 15:52:04,100]\u001b[0m Trial 76 finished with value: 0.6440945482106473 and parameters: {'lambda_l1': 0.0005649541835160439, 'lambda_l2': 4.322331677295208e-08, 'num_leaves': 188, 'feature_fraction': 0.465307696412413, 'bagging_fraction': 0.5239916718373921, 'bagging_freq': 5, 'min_child_samples': 35, 'max_depth': 555}. Best is trial 16 with value: 0.8811761166679898.\u001b[0m\n",
      "\u001b[32m[I 2022-06-21 15:52:06,011]\u001b[0m Trial 77 finished with value: 0.5 and parameters: {'lambda_l1': 1.1345622092478966e-08, 'lambda_l2': 0.00011257439864144669, 'num_leaves': 218, 'feature_fraction': 0.5177195370574788, 'bagging_fraction': 0.443435513056171, 'bagging_freq': 3, 'min_child_samples': 42, 'max_depth': 583}. Best is trial 16 with value: 0.8811761166679898.\u001b[0m\n",
      "\u001b[32m[I 2022-06-21 15:52:09,882]\u001b[0m Trial 78 finished with value: 0.8679877724399785 and parameters: {'lambda_l1': 1.0672247772378133e-07, 'lambda_l2': 4.224480166688893e-07, 'num_leaves': 122, 'feature_fraction': 0.6041767366871746, 'bagging_fraction': 0.4208770128994905, 'bagging_freq': 4, 'min_child_samples': 25, 'max_depth': 941}. Best is trial 16 with value: 0.8811761166679898.\u001b[0m\n",
      "\u001b[32m[I 2022-06-21 15:52:16,463]\u001b[0m Trial 79 finished with value: 0.8672534960739295 and parameters: {'lambda_l1': 7.990484548897266e-06, 'lambda_l2': 0.005620801807492004, 'num_leaves': 79, 'feature_fraction': 0.4429924824658934, 'bagging_fraction': 0.4674574535502438, 'bagging_freq': 3, 'min_child_samples': 16, 'max_depth': 807}. Best is trial 16 with value: 0.8811761166679898.\u001b[0m\n",
      "\u001b[32m[I 2022-06-21 15:52:19,375]\u001b[0m Trial 80 finished with value: 0.8664527654792749 and parameters: {'lambda_l1': 5.62203528206533e-05, 'lambda_l2': 0.010402081582283946, 'num_leaves': 157, 'feature_fraction': 0.6224989810145558, 'bagging_fraction': 0.6366462292981174, 'bagging_freq': 1, 'min_child_samples': 21, 'max_depth': 224}. Best is trial 16 with value: 0.8811761166679898.\u001b[0m\n",
      "\u001b[32m[I 2022-06-21 15:52:26,322]\u001b[0m Trial 81 finished with value: 0.8718401288039445 and parameters: {'lambda_l1': 0.000259429684227799, 'lambda_l2': 0.01277698594191559, 'num_leaves': 169, 'feature_fraction': 0.5282300297510785, 'bagging_fraction': 0.4986678262743004, 'bagging_freq': 3, 'min_child_samples': 14, 'max_depth': 628}. Best is trial 16 with value: 0.8811761166679898.\u001b[0m\n",
      "\u001b[32m[I 2022-06-21 15:52:34,771]\u001b[0m Trial 82 finished with value: 0.8696951567739107 and parameters: {'lambda_l1': 0.00011639789147248298, 'lambda_l2': 0.035748835517590324, 'num_leaves': 180, 'feature_fraction': 0.5216256575155179, 'bagging_fraction': 0.48455461530801286, 'bagging_freq': 3, 'min_child_samples': 11, 'max_depth': 681}. Best is trial 16 with value: 0.8811761166679898.\u001b[0m\n",
      "\u001b[32m[I 2022-06-21 15:52:39,762]\u001b[0m Trial 83 finished with value: 0.8743540852637214 and parameters: {'lambda_l1': 2.4091783917937556e-05, 'lambda_l2': 0.01583190251573256, 'num_leaves': 175, 'feature_fraction': 0.5547006231501375, 'bagging_fraction': 0.5337794012681969, 'bagging_freq': 3, 'min_child_samples': 23, 'max_depth': 637}. Best is trial 16 with value: 0.8811761166679898.\u001b[0m\n",
      "\u001b[32m[I 2022-06-21 15:52:45,590]\u001b[0m Trial 84 finished with value: 0.874470906608871 and parameters: {'lambda_l1': 1.435442547799382e-05, 'lambda_l2': 0.0031793688610474297, 'num_leaves': 130, 'feature_fraction': 0.47294580459887975, 'bagging_fraction': 0.5069162255552316, 'bagging_freq': 4, 'min_child_samples': 16, 'max_depth': 608}. Best is trial 16 with value: 0.8811761166679898.\u001b[0m\n",
      "\u001b[32m[I 2022-06-21 15:52:50,558]\u001b[0m Trial 85 finished with value: 0.8797647492256625 and parameters: {'lambda_l1': 0.0001538831826115301, 'lambda_l2': 0.0019227987210422152, 'num_leaves': 159, 'feature_fraction': 0.49482043568876954, 'bagging_fraction': 0.5569630655870436, 'bagging_freq': 2, 'min_child_samples': 20, 'max_depth': 547}. Best is trial 16 with value: 0.8811761166679898.\u001b[0m\n",
      "\u001b[32m[I 2022-06-21 15:52:53,930]\u001b[0m Trial 86 finished with value: 0.8742106973264093 and parameters: {'lambda_l1': 9.474228293176883e-05, 'lambda_l2': 0.0007978692497609567, 'num_leaves': 160, 'feature_fraction': 0.49591526009119263, 'bagging_fraction': 0.5749484778213119, 'bagging_freq': 2, 'min_child_samples': 30, 'max_depth': 506}. Best is trial 16 with value: 0.8811761166679898.\u001b[0m\n",
      "\u001b[32m[I 2022-06-21 15:52:55,606]\u001b[0m Trial 87 finished with value: 0.6545662702450626 and parameters: {'lambda_l1': 0.002494252203849423, 'lambda_l2': 0.0016797385210162424, 'num_leaves': 139, 'feature_fraction': 0.4053945882363652, 'bagging_fraction': 0.6132765928183819, 'bagging_freq': 2, 'min_child_samples': 38, 'max_depth': 535}. Best is trial 16 with value: 0.8811761166679898.\u001b[0m\n"
     ]
    },
    {
     "name": "stderr",
     "output_type": "stream",
     "text": [
      "\u001b[32m[I 2022-06-21 15:52:59,937]\u001b[0m Trial 88 finished with value: 0.8799582241588818 and parameters: {'lambda_l1': 2.0197136013670465e-06, 'lambda_l2': 0.00022569588894087297, 'num_leaves': 190, 'feature_fraction': 0.4517570060682192, 'bagging_fraction': 0.5611025796797239, 'bagging_freq': 1, 'min_child_samples': 19, 'max_depth': 455}. Best is trial 16 with value: 0.8811761166679898.\u001b[0m\n",
      "\u001b[32m[I 2022-06-21 15:53:04,392]\u001b[0m Trial 89 finished with value: 0.8749241924226445 and parameters: {'lambda_l1': 6.174449190177766e-06, 'lambda_l2': 0.007360102391987431, 'num_leaves': 148, 'feature_fraction': 0.5686208663918747, 'bagging_fraction': 0.5498489044108533, 'bagging_freq': 1, 'min_child_samples': 19, 'max_depth': 445}. Best is trial 16 with value: 0.8811761166679898.\u001b[0m\n",
      "\u001b[32m[I 2022-06-21 15:53:08,853]\u001b[0m Trial 90 finished with value: 0.8623355753723402 and parameters: {'lambda_l1': 2.5772732476567496e-07, 'lambda_l2': 0.0025676598939141527, 'num_leaves': 107, 'feature_fraction': 0.5056408287854305, 'bagging_fraction': 0.8181145315478784, 'bagging_freq': 1, 'min_child_samples': 25, 'max_depth': 408}. Best is trial 16 with value: 0.8811761166679898.\u001b[0m\n",
      "\u001b[32m[I 2022-06-21 15:53:12,229]\u001b[0m Trial 91 finished with value: 0.8760287894295247 and parameters: {'lambda_l1': 3.95977417692455e-06, 'lambda_l2': 0.000320656794339103, 'num_leaves': 183, 'feature_fraction': 0.4497631455554523, 'bagging_fraction': 0.5887564911425134, 'bagging_freq': 1, 'min_child_samples': 21, 'max_depth': 348}. Best is trial 16 with value: 0.8811761166679898.\u001b[0m\n",
      "\u001b[32m[I 2022-06-21 15:53:16,937]\u001b[0m Trial 92 finished with value: 0.8707064133407013 and parameters: {'lambda_l1': 5.1705031448047136e-05, 'lambda_l2': 0.00016727888586159107, 'num_leaves': 193, 'feature_fraction': 0.4749275190635489, 'bagging_fraction': 0.5649537872235513, 'bagging_freq': 6, 'min_child_samples': 18, 'max_depth': 465}. Best is trial 16 with value: 0.8811761166679898.\u001b[0m\n",
      "\u001b[32m[I 2022-06-21 15:53:22,552]\u001b[0m Trial 93 finished with value: 0.8698088922816091 and parameters: {'lambda_l1': 1.8283133883176786e-06, 'lambda_l2': 6.804839579298141e-05, 'num_leaves': 165, 'feature_fraction': 0.48668178038666143, 'bagging_fraction': 0.5263715166809887, 'bagging_freq': 2, 'min_child_samples': 13, 'max_depth': 560}. Best is trial 16 with value: 0.8811761166679898.\u001b[0m\n",
      "\u001b[32m[I 2022-06-21 15:53:26,389]\u001b[0m Trial 94 finished with value: 0.8785553700685278 and parameters: {'lambda_l1': 3.332422346561306e-05, 'lambda_l2': 0.0007190736357382035, 'num_leaves': 152, 'feature_fraction': 0.42240226783300705, 'bagging_fraction': 0.5515382236454685, 'bagging_freq': 2, 'min_child_samples': 23, 'max_depth': 496}. Best is trial 16 with value: 0.8811761166679898.\u001b[0m\n",
      "\u001b[32m[I 2022-06-21 15:53:28,872]\u001b[0m Trial 95 finished with value: 0.8633626273107698 and parameters: {'lambda_l1': 2.875985647533889e-05, 'lambda_l2': 0.0014921542936443062, 'num_leaves': 142, 'feature_fraction': 0.5467209726624509, 'bagging_fraction': 0.5105800814434334, 'bagging_freq': 1, 'min_child_samples': 28, 'max_depth': 486}. Best is trial 16 with value: 0.8811761166679898.\u001b[0m\n",
      "\u001b[32m[I 2022-06-21 15:53:33,029]\u001b[0m Trial 96 finished with value: 0.8720509902679021 and parameters: {'lambda_l1': 8.656330228081904e-07, 'lambda_l2': 0.005273446873103717, 'num_leaves': 155, 'feature_fraction': 0.8316387698938906, 'bagging_fraction': 0.5405932744121191, 'bagging_freq': 2, 'min_child_samples': 23, 'max_depth': 375}. Best is trial 16 with value: 0.8811761166679898.\u001b[0m\n",
      "\u001b[32m[I 2022-06-21 15:53:37,393]\u001b[0m Trial 97 finished with value: 0.8808069411024132 and parameters: {'lambda_l1': 1.0505199180913169e-05, 'lambda_l2': 0.0005569430524374989, 'num_leaves': 150, 'feature_fraction': 0.41143608145211796, 'bagging_fraction': 0.5593687601097505, 'bagging_freq': 2, 'min_child_samples': 20, 'max_depth': 424}. Best is trial 16 with value: 0.8811761166679898.\u001b[0m\n",
      "\u001b[32m[I 2022-06-21 15:53:41,944]\u001b[0m Trial 98 finished with value: 0.8768656388331313 and parameters: {'lambda_l1': 9.672769970754471e-06, 'lambda_l2': 0.00039121326023147017, 'num_leaves': 152, 'feature_fraction': 0.42636779739444935, 'bagging_fraction': 0.5558457569711692, 'bagging_freq': 2, 'min_child_samples': 17, 'max_depth': 421}. Best is trial 16 with value: 0.8811761166679898.\u001b[0m\n",
      "\u001b[32m[I 2022-06-21 15:53:47,800]\u001b[0m Trial 99 finished with value: 0.8637898635162569 and parameters: {'lambda_l1': 4.2628638932216286e-08, 'lambda_l2': 0.0009990528110469235, 'num_leaves': 130, 'feature_fraction': 0.45249204555975064, 'bagging_fraction': 0.5786325275848926, 'bagging_freq': 1, 'min_child_samples': 11, 'max_depth': 459}. Best is trial 16 with value: 0.8811761166679898.\u001b[0m\n",
      "\u001b[32m[I 2022-06-21 15:53:53,933]\u001b[0m Trial 100 finished with value: 0.8561915130363273 and parameters: {'lambda_l1': 3.4328174191587257e-06, 'lambda_l2': 0.000227921546934897, 'num_leaves': 170, 'feature_fraction': 0.41213252242521753, 'bagging_fraction': 0.485007137194701, 'bagging_freq': 2, 'min_child_samples': 7, 'max_depth': 493}. Best is trial 16 with value: 0.8811761166679898.\u001b[0m\n",
      "\u001b[32m[I 2022-06-21 15:53:58,830]\u001b[0m Trial 101 finished with value: 0.8735514157754871 and parameters: {'lambda_l1': 1.2438262344730561e-05, 'lambda_l2': 0.0006202046958449893, 'num_leaves': 159, 'feature_fraction': 0.44175879299118603, 'bagging_fraction': 0.5325209551848794, 'bagging_freq': 2, 'min_child_samples': 20, 'max_depth': 524}. Best is trial 16 with value: 0.8811761166679898.\u001b[0m\n",
      "\u001b[32m[I 2022-06-21 15:53:59,832]\u001b[0m Trial 102 finished with value: 0.5 and parameters: {'lambda_l1': 3.757080862020885e-05, 'lambda_l2': 0.002406736345954922, 'num_leaves': 176, 'feature_fraction': 0.529611725470665, 'bagging_fraction': 0.5204116727722917, 'bagging_freq': 2, 'min_child_samples': 86, 'max_depth': 317}. Best is trial 16 with value: 0.8811761166679898.\u001b[0m\n",
      "\u001b[32m[I 2022-06-21 15:54:04,075]\u001b[0m Trial 103 finished with value: 0.8764780076949195 and parameters: {'lambda_l1': 6.848596450129894e-06, 'lambda_l2': 0.025329840402942057, 'num_leaves': 163, 'feature_fraction': 0.5092805092648104, 'bagging_fraction': 0.5644620120378233, 'bagging_freq': 3, 'min_child_samples': 25, 'max_depth': 543}. Best is trial 16 with value: 0.8811761166679898.\u001b[0m\n",
      "\u001b[32m[I 2022-06-21 15:54:08,781]\u001b[0m Trial 104 finished with value: 0.8752410375572139 and parameters: {'lambda_l1': 2.3525829083674845e-05, 'lambda_l2': 0.0039769361825498116, 'num_leaves': 150, 'feature_fraction': 0.4146620369656929, 'bagging_fraction': 0.5088958126405856, 'bagging_freq': 3, 'min_child_samples': 22, 'max_depth': 662}. Best is trial 16 with value: 0.8811761166679898.\u001b[0m\n",
      "\u001b[32m[I 2022-06-21 15:54:12,743]\u001b[0m Trial 105 finished with value: 0.8644639604891153 and parameters: {'lambda_l1': 8.896901499831468e-05, 'lambda_l2': 0.009777868390826276, 'num_leaves': 139, 'feature_fraction': 0.4640021092382477, 'bagging_fraction': 0.5484686995569478, 'bagging_freq': 2, 'min_child_samples': 27, 'max_depth': 582}. Best is trial 16 with value: 0.8811761166679898.\u001b[0m\n",
      "\u001b[32m[I 2022-06-21 15:54:18,105]\u001b[0m Trial 106 finished with value: 0.8629370959707648 and parameters: {'lambda_l1': 0.01721794726551584, 'lambda_l2': 0.0007469856581923516, 'num_leaves': 169, 'feature_fraction': 0.40038037502492996, 'bagging_fraction': 0.7518697697883229, 'bagging_freq': 3, 'min_child_samples': 19, 'max_depth': 603}. Best is trial 16 with value: 0.8811761166679898.\u001b[0m\n",
      "\u001b[32m[I 2022-06-21 15:54:21,005]\u001b[0m Trial 107 finished with value: 0.8626749042795869 and parameters: {'lambda_l1': 1.4545665710160926e-06, 'lambda_l2': 0.0012022383357541526, 'num_leaves': 146, 'feature_fraction': 0.5840229114948118, 'bagging_fraction': 0.5851265935159556, 'bagging_freq': 2, 'min_child_samples': 31, 'max_depth': 427}. Best is trial 16 with value: 0.8811761166679898.\u001b[0m\n",
      "\u001b[32m[I 2022-06-21 15:54:27,892]\u001b[0m Trial 108 finished with value: 0.8489729092287142 and parameters: {'lambda_l1': 0.3590641888568311, 'lambda_l2': 2.391619611293905, 'num_leaves': 157, 'feature_fraction': 0.43239723446170764, 'bagging_fraction': 0.6148209652354163, 'bagging_freq': 3, 'min_child_samples': 15, 'max_depth': 716}. Best is trial 16 with value: 0.8811761166679898.\u001b[0m\n",
      "\u001b[32m[I 2022-06-21 15:54:32,607]\u001b[0m Trial 109 finished with value: 0.8755205798028939 and parameters: {'lambda_l1': 4.938254362641433e-05, 'lambda_l2': 0.04308961332959024, 'num_leaves': 122, 'feature_fraction': 0.48822601996306436, 'bagging_fraction': 0.6008546000335376, 'bagging_freq': 1, 'min_child_samples': 22, 'max_depth': 563}. Best is trial 16 with value: 0.8811761166679898.\u001b[0m\n"
     ]
    },
    {
     "name": "stderr",
     "output_type": "stream",
     "text": [
      "\u001b[32m[I 2022-06-21 15:54:40,243]\u001b[0m Trial 110 finished with value: 0.8593227061895793 and parameters: {'lambda_l1': 1.4404689534784058e-05, 'lambda_l2': 0.006410808073023914, 'num_leaves': 180, 'feature_fraction': 0.536232715588167, 'bagging_fraction': 0.6850284841777867, 'bagging_freq': 3, 'min_child_samples': 13, 'max_depth': 507}. Best is trial 16 with value: 0.8811761166679898.\u001b[0m\n",
      "\u001b[32m[I 2022-06-21 15:54:44,715]\u001b[0m Trial 111 finished with value: 0.8741796291728567 and parameters: {'lambda_l1': 5.500370559086233e-06, 'lambda_l2': 0.0003453127613507241, 'num_leaves': 152, 'feature_fraction': 0.4291256073435325, 'bagging_fraction': 0.5559300405668334, 'bagging_freq': 2, 'min_child_samples': 16, 'max_depth': 396}. Best is trial 16 with value: 0.8811761166679898.\u001b[0m\n",
      "\u001b[32m[I 2022-06-21 15:54:48,988]\u001b[0m Trial 112 finished with value: 0.8784033149083459 and parameters: {'lambda_l1': 8.57510234893784e-06, 'lambda_l2': 0.00041153131306933443, 'num_leaves': 133, 'feature_fraction': 0.42882935782201914, 'bagging_fraction': 0.5411995503828952, 'bagging_freq': 2, 'min_child_samples': 17, 'max_depth': 425}. Best is trial 16 with value: 0.8811761166679898.\u001b[0m\n",
      "\u001b[32m[I 2022-06-21 15:54:52,454]\u001b[0m Trial 113 finished with value: 0.8738996138665258 and parameters: {'lambda_l1': 8.14862574401969e-06, 'lambda_l2': 0.00011356147100392538, 'num_leaves': 134, 'feature_fraction': 0.4510664388775229, 'bagging_fraction': 0.5341468283863829, 'bagging_freq': 2, 'min_child_samples': 24, 'max_depth': 455}. Best is trial 16 with value: 0.8811761166679898.\u001b[0m\n",
      "\u001b[32m[I 2022-06-21 15:54:56,141]\u001b[0m Trial 114 finished with value: 0.8730266360316672 and parameters: {'lambda_l1': 2.1143131590970588e-06, 'lambda_l2': 0.0019762995002723847, 'num_leaves': 143, 'feature_fraction': 0.47481585585776775, 'bagging_fraction': 0.5711798175155692, 'bagging_freq': 2, 'min_child_samples': 20, 'max_depth': 389}. Best is trial 16 with value: 0.8811761166679898.\u001b[0m\n",
      "\u001b[32m[I 2022-06-21 15:55:00,998]\u001b[0m Trial 115 finished with value: 0.8752863575193295 and parameters: {'lambda_l1': 1.8842299545144826e-05, 'lambda_l2': 3.8885767624326114e-05, 'num_leaves': 115, 'feature_fraction': 0.5442711639005335, 'bagging_fraction': 0.5229924639867443, 'bagging_freq': 3, 'min_child_samples': 19, 'max_depth': 521}. Best is trial 16 with value: 0.8811761166679898.\u001b[0m\n",
      "\u001b[32m[I 2022-06-21 15:55:06,268]\u001b[0m Trial 116 finished with value: 0.8723307675726406 and parameters: {'lambda_l1': 0.00016648143879608747, 'lambda_l2': 0.0004896590259984108, 'num_leaves': 56, 'feature_fraction': 0.9376501669996691, 'bagging_fraction': 0.4764871118721407, 'bagging_freq': 3, 'min_child_samples': 17, 'max_depth': 478}. Best is trial 16 with value: 0.8811761166679898.\u001b[0m\n",
      "\u001b[32m[I 2022-06-21 15:55:10,718]\u001b[0m Trial 117 finished with value: 0.875817470927765 and parameters: {'lambda_l1': 3.2022951057361384e-05, 'lambda_l2': 2.39476493068257e-06, 'num_leaves': 162, 'feature_fraction': 0.5099464557225394, 'bagging_fraction': 0.5437396657021106, 'bagging_freq': 2, 'min_child_samples': 26, 'max_depth': 620}. Best is trial 16 with value: 0.8811761166679898.\u001b[0m\n",
      "\u001b[32m[I 2022-06-21 15:55:15,593]\u001b[0m Trial 118 finished with value: 0.8672379416678951 and parameters: {'lambda_l1': 7.117276719298158e-05, 'lambda_l2': 0.01577662038661928, 'num_leaves': 185, 'feature_fraction': 0.7246490285348346, 'bagging_fraction': 0.4944314318960384, 'bagging_freq': 7, 'min_child_samples': 22, 'max_depth': 587}. Best is trial 16 with value: 0.8811761166679898.\u001b[0m\n",
      "\u001b[32m[I 2022-06-21 15:55:16,727]\u001b[0m Trial 119 finished with value: 0.5 and parameters: {'lambda_l1': 0.00044867907905746295, 'lambda_l2': 0.003992366870010447, 'num_leaves': 128, 'feature_fraction': 0.4963468651158319, 'bagging_fraction': 0.5127416957177329, 'bagging_freq': 1, 'min_child_samples': 57, 'max_depth': 543}. Best is trial 16 with value: 0.8811761166679898.\u001b[0m\n",
      "\u001b[32m[I 2022-06-21 15:55:18,871]\u001b[0m Trial 120 finished with value: 0.7584485398072859 and parameters: {'lambda_l1': 3.963277769518413e-06, 'lambda_l2': 9.033710525681924, 'num_leaves': 137, 'feature_fraction': 0.5673738294437113, 'bagging_fraction': 0.451623068024218, 'bagging_freq': 3, 'min_child_samples': 29, 'max_depth': 745}. Best is trial 16 with value: 0.8811761166679898.\u001b[0m\n",
      "\u001b[32m[I 2022-06-21 15:55:23,432]\u001b[0m Trial 121 finished with value: 0.877591120158651 and parameters: {'lambda_l1': 1.047919491722683e-05, 'lambda_l2': 0.00039487296493244514, 'num_leaves': 152, 'feature_fraction': 0.42356130269354036, 'bagging_fraction': 0.5538252611190975, 'bagging_freq': 2, 'min_child_samples': 16, 'max_depth': 419}. Best is trial 16 with value: 0.8811761166679898.\u001b[0m\n",
      "\u001b[32m[I 2022-06-21 15:55:28,661]\u001b[0m Trial 122 finished with value: 0.8587600887674417 and parameters: {'lambda_l1': 9.246896837964906e-06, 'lambda_l2': 0.00025264649136069696, 'num_leaves': 149, 'feature_fraction': 0.41549065775753047, 'bagging_fraction': 0.5571998855070057, 'bagging_freq': 2, 'min_child_samples': 10, 'max_depth': 362}. Best is trial 16 with value: 0.8811761166679898.\u001b[0m\n",
      "\u001b[32m[I 2022-06-21 15:55:32,081]\u001b[0m Trial 123 finished with value: 0.8689920455361632 and parameters: {'lambda_l1': 2.074598661382237e-05, 'lambda_l2': 0.00012355545014928836, 'num_leaves': 166, 'feature_fraction': 0.4386943034187198, 'bagging_fraction': 0.5392702523383203, 'bagging_freq': 2, 'min_child_samples': 24, 'max_depth': 420}. Best is trial 16 with value: 0.8811761166679898.\u001b[0m\n",
      "\u001b[32m[I 2022-06-21 15:55:38,470]\u001b[0m Trial 124 finished with value: 0.8413477148926064 and parameters: {'lambda_l1': 1.3897299235742865e-05, 'lambda_l2': 0.0013908281243565947, 'num_leaves': 174, 'feature_fraction': 0.4616869219214853, 'bagging_fraction': 0.8605942358931687, 'bagging_freq': 2, 'min_child_samples': 14, 'max_depth': 432}. Best is trial 16 with value: 0.8811761166679898.\u001b[0m\n",
      "\u001b[32m[I 2022-06-21 15:55:43,591]\u001b[0m Trial 125 finished with value: 0.867496837398927 and parameters: {'lambda_l1': 1.854530137898652e-08, 'lambda_l2': 5.275297680683427e-08, 'num_leaves': 157, 'feature_fraction': 0.5248621457525832, 'bagging_fraction': 0.5915626370074312, 'bagging_freq': 3, 'min_child_samples': 18, 'max_depth': 473}. Best is trial 16 with value: 0.8811761166679898.\u001b[0m\n",
      "\u001b[32m[I 2022-06-21 15:55:44,800]\u001b[0m Trial 126 finished with value: 0.5 and parameters: {'lambda_l1': 3.9413401211584575e-05, 'lambda_l2': 0.0007698036302247561, 'num_leaves': 142, 'feature_fraction': 0.42488273881779626, 'bagging_fraction': 0.5705926249525645, 'bagging_freq': 3, 'min_child_samples': 67, 'max_depth': 576}. Best is trial 16 with value: 0.8811761166679898.\u001b[0m\n",
      "\u001b[32m[I 2022-06-21 15:55:48,667]\u001b[0m Trial 127 finished with value: 0.8737213099293208 and parameters: {'lambda_l1': 5.2655611240068026e-06, 'lambda_l2': 1.286544527592258e-08, 'num_leaves': 35, 'feature_fraction': 0.5485162742445859, 'bagging_fraction': 0.5249821742626208, 'bagging_freq': 2, 'min_child_samples': 20, 'max_depth': 455}. Best is trial 16 with value: 0.8811761166679898.\u001b[0m\n",
      "\u001b[32m[I 2022-06-21 15:55:54,936]\u001b[0m Trial 128 finished with value: 0.87552790997702 and parameters: {'lambda_l1': 2.357044468208905e-06, 'lambda_l2': 0.008584408748209496, 'num_leaves': 171, 'feature_fraction': 0.4013325357609294, 'bagging_fraction': 0.5454673066076416, 'bagging_freq': 3, 'min_child_samples': 16, 'max_depth': 643}. Best is trial 16 with value: 0.8811761166679898.\u001b[0m\n",
      "\u001b[32m[I 2022-06-21 15:56:00,059]\u001b[0m Trial 129 finished with value: 0.880050554128534 and parameters: {'lambda_l1': 8.787801574110394e-06, 'lambda_l2': 0.0024727270766976717, 'num_leaves': 178, 'feature_fraction': 0.47257110108325406, 'bagging_fraction': 0.5046909230064063, 'bagging_freq': 1, 'min_child_samples': 21, 'max_depth': 674}. Best is trial 16 with value: 0.8811761166679898.\u001b[0m\n",
      "\u001b[32m[I 2022-06-21 15:56:06,439]\u001b[0m Trial 130 finished with value: 0.8777139641189564 and parameters: {'lambda_l1': 1.0021876292264262e-05, 'lambda_l2': 0.0026881332930325016, 'num_leaves': 191, 'feature_fraction': 0.4820397712069397, 'bagging_fraction': 0.41444568683065774, 'bagging_freq': 1, 'min_child_samples': 13, 'max_depth': 674}. Best is trial 16 with value: 0.8811761166679898.\u001b[0m\n",
      "\u001b[32m[I 2022-06-21 15:56:12,423]\u001b[0m Trial 131 finished with value: 0.8761552625221356 and parameters: {'lambda_l1': 1.0605054691679309e-05, 'lambda_l2': 0.002356853763715718, 'num_leaves': 203, 'feature_fraction': 0.48302683859308815, 'bagging_fraction': 0.40880538843954656, 'bagging_freq': 1, 'min_child_samples': 14, 'max_depth': 665}. Best is trial 16 with value: 0.8811761166679898.\u001b[0m\n"
     ]
    },
    {
     "name": "stderr",
     "output_type": "stream",
     "text": [
      "\u001b[32m[I 2022-06-21 15:56:19,031]\u001b[0m Trial 132 finished with value: 0.8744959601157357 and parameters: {'lambda_l1': 3.619029386670999e-06, 'lambda_l2': 0.0011335030735696843, 'num_leaves': 256, 'feature_fraction': 0.4535336781779985, 'bagging_fraction': 0.4428341821950199, 'bagging_freq': 1, 'min_child_samples': 12, 'max_depth': 699}. Best is trial 16 with value: 0.8811761166679898.\u001b[0m\n",
      "\u001b[32m[I 2022-06-21 15:56:21,883]\u001b[0m Trial 133 finished with value: 0.8642569700466374 and parameters: {'lambda_l1': 7.342286128142549e-06, 'lambda_l2': 0.0005104367960474656, 'num_leaves': 161, 'feature_fraction': 0.44428427324944486, 'bagging_fraction': 0.4308470376606492, 'bagging_freq': 1, 'min_child_samples': 17, 'max_depth': 299}. Best is trial 16 with value: 0.8811761166679898.\u001b[0m\n",
      "\u001b[32m[I 2022-06-21 15:56:29,449]\u001b[0m Trial 134 finished with value: 0.8646181417481728 and parameters: {'lambda_l1': 1.6331758734676134e-05, 'lambda_l2': 0.002546125312368245, 'num_leaves': 190, 'feature_fraction': 0.46802494995011806, 'bagging_fraction': 0.42103702620796973, 'bagging_freq': 1, 'min_child_samples': 8, 'max_depth': 687}. Best is trial 16 with value: 0.8811761166679898.\u001b[0m\n",
      "\u001b[32m[I 2022-06-21 15:56:33,625]\u001b[0m Trial 135 finished with value: 0.8743353406998918 and parameters: {'lambda_l1': 1.1034504684647282e-05, 'lambda_l2': 0.003910167810003247, 'num_leaves': 209, 'feature_fraction': 0.49915647989888423, 'bagging_fraction': 0.5032084425035194, 'bagging_freq': 1, 'min_child_samples': 22, 'max_depth': 499}. Best is trial 16 with value: 0.8811761166679898.\u001b[0m\n",
      "\u001b[32m[I 2022-06-21 15:56:37,873]\u001b[0m Trial 136 finished with value: 0.8724087847352164 and parameters: {'lambda_l1': 1.5527900403411688e-07, 'lambda_l2': 0.004977524992790367, 'num_leaves': 198, 'feature_fraction': 0.4331960521312558, 'bagging_fraction': 0.4641353909953786, 'bagging_freq': 1, 'min_child_samples': 24, 'max_depth': 723}. Best is trial 16 with value: 0.8811761166679898.\u001b[0m\n",
      "\u001b[32m[I 2022-06-21 15:56:43,880]\u001b[0m Trial 137 finished with value: 0.8800722495383875 and parameters: {'lambda_l1': 2.7560292528183274e-05, 'lambda_l2': 0.0016787962647524459, 'num_leaves': 179, 'feature_fraction': 0.42013861954787585, 'bagging_fraction': 0.5162907287317525, 'bagging_freq': 1, 'min_child_samples': 19, 'max_depth': 775}. Best is trial 16 with value: 0.8811761166679898.\u001b[0m\n",
      "\u001b[32m[I 2022-06-21 15:56:49,997]\u001b[0m Trial 138 finished with value: 0.881928261066419 and parameters: {'lambda_l1': 2.522525488992503e-05, 'lambda_l2': 0.00163221737244752, 'num_leaves': 184, 'feature_fraction': 0.4142498077396495, 'bagging_fraction': 0.4907230182165801, 'bagging_freq': 1, 'min_child_samples': 18, 'max_depth': 796}. Best is trial 138 with value: 0.881928261066419.\u001b[0m\n",
      "\u001b[32m[I 2022-06-21 15:56:56,889]\u001b[0m Trial 139 finished with value: 0.8760500140983887 and parameters: {'lambda_l1': 2.6588872708387188e-05, 'lambda_l2': 0.0016773675093203644, 'num_leaves': 183, 'feature_fraction': 0.4140658796324371, 'bagging_fraction': 0.4873887231056502, 'bagging_freq': 1, 'min_child_samples': 12, 'max_depth': 786}. Best is trial 138 with value: 0.881928261066419.\u001b[0m\n",
      "\u001b[32m[I 2022-06-21 15:57:02,819]\u001b[0m Trial 140 finished with value: 0.8839644660894662 and parameters: {'lambda_l1': 7.038438414740492e-05, 'lambda_l2': 0.0008119024291166823, 'num_leaves': 146, 'feature_fraction': 0.4215382813911718, 'bagging_fraction': 0.5013318003337957, 'bagging_freq': 1, 'min_child_samples': 18, 'max_depth': 831}. Best is trial 140 with value: 0.8839644660894662.\u001b[0m\n",
      "\u001b[32m[I 2022-06-21 15:57:08,737]\u001b[0m Trial 141 finished with value: 0.8819195981606973 and parameters: {'lambda_l1': 0.00012894044951176038, 'lambda_l2': 0.0009050873222153567, 'num_leaves': 133, 'feature_fraction': 0.42148931009651885, 'bagging_fraction': 0.5003974062204731, 'bagging_freq': 1, 'min_child_samples': 19, 'max_depth': 835}. Best is trial 140 with value: 0.8839644660894662.\u001b[0m\n",
      "\u001b[32m[I 2022-06-21 15:57:14,680]\u001b[0m Trial 142 finished with value: 0.879490227694562 and parameters: {'lambda_l1': 0.00025006598183546465, 'lambda_l2': 0.0011330329693692938, 'num_leaves': 123, 'feature_fraction': 0.4165738044457185, 'bagging_fraction': 0.4983428368866011, 'bagging_freq': 1, 'min_child_samples': 19, 'max_depth': 830}. Best is trial 140 with value: 0.8839644660894662.\u001b[0m\n",
      "\u001b[32m[I 2022-06-21 15:57:20,521]\u001b[0m Trial 143 finished with value: 0.8825222683663085 and parameters: {'lambda_l1': 0.00012231504028585913, 'lambda_l2': 0.0005851695812628728, 'num_leaves': 125, 'feature_fraction': 0.4129342284854194, 'bagging_fraction': 0.49877216242272754, 'bagging_freq': 1, 'min_child_samples': 19, 'max_depth': 859}. Best is trial 140 with value: 0.8839644660894662.\u001b[0m\n",
      "\u001b[32m[I 2022-06-21 15:57:26,495]\u001b[0m Trial 144 finished with value: 0.8772677097154652 and parameters: {'lambda_l1': 0.00023995383056869203, 'lambda_l2': 0.0008064250192393415, 'num_leaves': 120, 'feature_fraction': 0.4095920774627571, 'bagging_fraction': 0.4741793581307759, 'bagging_freq': 1, 'min_child_samples': 19, 'max_depth': 846}. Best is trial 140 with value: 0.8839644660894662.\u001b[0m\n",
      "\u001b[32m[I 2022-06-21 15:57:33,202]\u001b[0m Trial 145 finished with value: 0.8835318061281684 and parameters: {'lambda_l1': 0.0001265148437227455, 'lambda_l2': 0.00026425919086463945, 'num_leaves': 132, 'feature_fraction': 0.43459169780140544, 'bagging_fraction': 0.4990675066262252, 'bagging_freq': 1, 'min_child_samples': 18, 'max_depth': 840}. Best is trial 140 with value: 0.8839644660894662.\u001b[0m\n",
      "\u001b[32m[I 2022-06-21 15:57:39,089]\u001b[0m Trial 146 finished with value: 0.8826658483415448 and parameters: {'lambda_l1': 0.00014693968109595474, 'lambda_l2': 0.001163829134082488, 'num_leaves': 103, 'feature_fraction': 0.41722027320319455, 'bagging_fraction': 0.4995611389265915, 'bagging_freq': 1, 'min_child_samples': 21, 'max_depth': 843}. Best is trial 140 with value: 0.8839644660894662.\u001b[0m\n",
      "\u001b[32m[I 2022-06-21 15:57:45,025]\u001b[0m Trial 147 finished with value: 0.8804385978658423 and parameters: {'lambda_l1': 0.0007370423331453077, 'lambda_l2': 0.0002462202818535088, 'num_leaves': 92, 'feature_fraction': 0.4022102823948747, 'bagging_fraction': 0.4999118934472675, 'bagging_freq': 1, 'min_child_samples': 20, 'max_depth': 853}. Best is trial 140 with value: 0.8839644660894662.\u001b[0m\n",
      "\u001b[32m[I 2022-06-21 15:57:50,922]\u001b[0m Trial 148 finished with value: 0.8769376436472025 and parameters: {'lambda_l1': 0.0006092530960509532, 'lambda_l2': 0.00015343120148624242, 'num_leaves': 109, 'feature_fraction': 0.4008810271841799, 'bagging_fraction': 0.4975363144871534, 'bagging_freq': 1, 'min_child_samples': 20, 'max_depth': 849}. Best is trial 140 with value: 0.8839644660894662.\u001b[0m\n",
      "\u001b[32m[I 2022-06-21 15:57:57,070]\u001b[0m Trial 149 finished with value: 0.8798804269560848 and parameters: {'lambda_l1': 0.0009291773657098383, 'lambda_l2': 0.00023327777994500127, 'num_leaves': 111, 'feature_fraction': 0.4152971987011398, 'bagging_fraction': 0.4810578581545052, 'bagging_freq': 1, 'min_child_samples': 19, 'max_depth': 878}. Best is trial 140 with value: 0.8839644660894662.\u001b[0m\n",
      "\u001b[32m[I 2022-06-21 15:58:03,747]\u001b[0m Trial 150 finished with value: 0.8847808377982527 and parameters: {'lambda_l1': 0.002504759826192077, 'lambda_l2': 0.0001928725719310476, 'num_leaves': 101, 'feature_fraction': 0.43759899619809295, 'bagging_fraction': 0.478582465981848, 'bagging_freq': 1, 'min_child_samples': 15, 'max_depth': 869}. Best is trial 150 with value: 0.8847808377982527.\u001b[0m\n",
      "\u001b[32m[I 2022-06-21 15:58:10,442]\u001b[0m Trial 151 finished with value: 0.8814376742323724 and parameters: {'lambda_l1': 0.0009578439631669901, 'lambda_l2': 0.00027944382781993715, 'num_leaves': 94, 'feature_fraction': 0.4362694219940352, 'bagging_fraction': 0.47829448607139047, 'bagging_freq': 1, 'min_child_samples': 15, 'max_depth': 863}. Best is trial 150 with value: 0.8847808377982527.\u001b[0m\n",
      "\u001b[32m[I 2022-06-21 15:58:17,030]\u001b[0m Trial 152 finished with value: 0.8819513365246724 and parameters: {'lambda_l1': 0.000761884551091208, 'lambda_l2': 0.00022232459356958433, 'num_leaves': 93, 'feature_fraction': 0.4399873195539876, 'bagging_fraction': 0.4650498641577121, 'bagging_freq': 1, 'min_child_samples': 15, 'max_depth': 864}. Best is trial 150 with value: 0.8847808377982527.\u001b[0m\n"
     ]
    },
    {
     "name": "stderr",
     "output_type": "stream",
     "text": [
      "\u001b[32m[I 2022-06-21 15:58:23,712]\u001b[0m Trial 153 finished with value: 0.8769732680245451 and parameters: {'lambda_l1': 0.0019163044788775671, 'lambda_l2': 0.00020039947070291862, 'num_leaves': 97, 'feature_fraction': 0.4397731203029992, 'bagging_fraction': 0.4682462043157422, 'bagging_freq': 1, 'min_child_samples': 15, 'max_depth': 874}. Best is trial 150 with value: 0.8847808377982527.\u001b[0m\n",
      "\u001b[32m[I 2022-06-21 15:58:31,174]\u001b[0m Trial 154 finished with value: 0.8696024968538515 and parameters: {'lambda_l1': 0.0015810233402183767, 'lambda_l2': 9.39698185574301e-05, 'num_leaves': 89, 'feature_fraction': 0.43739900260838277, 'bagging_fraction': 0.48143251666169334, 'bagging_freq': 1, 'min_child_samples': 10, 'max_depth': 875}. Best is trial 150 with value: 0.8847808377982527.\u001b[0m\n",
      "\u001b[32m[I 2022-06-21 15:58:37,604]\u001b[0m Trial 155 finished with value: 0.8807305727253483 and parameters: {'lambda_l1': 0.0009111544773447673, 'lambda_l2': 0.0002594359762512202, 'num_leaves': 91, 'feature_fraction': 0.41368745771562965, 'bagging_fraction': 0.4593164280683719, 'bagging_freq': 1, 'min_child_samples': 15, 'max_depth': 810}. Best is trial 150 with value: 0.8847808377982527.\u001b[0m\n",
      "\u001b[32m[I 2022-06-21 15:58:44,287]\u001b[0m Trial 156 finished with value: 0.8800253314796659 and parameters: {'lambda_l1': 0.0008742218486127939, 'lambda_l2': 3.689365578075291e-05, 'num_leaves': 80, 'feature_fraction': 0.4477718405631077, 'bagging_fraction': 0.4556417467685208, 'bagging_freq': 1, 'min_child_samples': 15, 'max_depth': 817}. Best is trial 150 with value: 0.8847808377982527.\u001b[0m\n",
      "\u001b[32m[I 2022-06-21 15:58:50,773]\u001b[0m Trial 157 finished with value: 0.8770296000868757 and parameters: {'lambda_l1': 0.007326666656605987, 'lambda_l2': 3.681096193225545e-05, 'num_leaves': 84, 'feature_fraction': 0.400171742951745, 'bagging_fraction': 0.45671904088436915, 'bagging_freq': 1, 'min_child_samples': 14, 'max_depth': 821}. Best is trial 150 with value: 0.8847808377982527.\u001b[0m\n",
      "\u001b[32m[I 2022-06-21 15:58:58,629]\u001b[0m Trial 158 finished with value: 0.86374409912413 and parameters: {'lambda_l1': 0.0007558888689214887, 'lambda_l2': 5.7153407505462e-05, 'num_leaves': 102, 'feature_fraction': 0.4315541749168658, 'bagging_fraction': 0.44461411948429574, 'bagging_freq': 1, 'min_child_samples': 6, 'max_depth': 775}. Best is trial 150 with value: 0.8847808377982527.\u001b[0m\n",
      "\u001b[32m[I 2022-06-21 15:59:06,616]\u001b[0m Trial 159 finished with value: 0.8727943033059133 and parameters: {'lambda_l1': 0.0026643436634905472, 'lambda_l2': 2.067327358822428e-05, 'num_leaves': 78, 'feature_fraction': 0.4496674223988716, 'bagging_fraction': 0.4606183318415871, 'bagging_freq': 1, 'min_child_samples': 9, 'max_depth': 859}. Best is trial 150 with value: 0.8847808377982527.\u001b[0m\n",
      "\u001b[32m[I 2022-06-21 15:59:12,647]\u001b[0m Trial 160 finished with value: 0.8861352395454563 and parameters: {'lambda_l1': 0.000371475105066193, 'lambda_l2': 0.0003031763184978285, 'num_leaves': 93, 'feature_fraction': 0.4188886259763192, 'bagging_fraction': 0.49165410394431214, 'bagging_freq': 1, 'min_child_samples': 16, 'max_depth': 804}. Best is trial 160 with value: 0.8861352395454563.\u001b[0m\n",
      "\u001b[32m[I 2022-06-21 15:59:18,634]\u001b[0m Trial 161 finished with value: 0.8781226988740535 and parameters: {'lambda_l1': 0.00036281921340568446, 'lambda_l2': 0.000325488701780515, 'num_leaves': 94, 'feature_fraction': 0.4155429993666782, 'bagging_fraction': 0.49000636876232717, 'bagging_freq': 1, 'min_child_samples': 16, 'max_depth': 804}. Best is trial 160 with value: 0.8861352395454563.\u001b[0m\n",
      "\u001b[32m[I 2022-06-21 15:59:25,299]\u001b[0m Trial 162 finished with value: 0.8812501930044501 and parameters: {'lambda_l1': 0.0012334414640441057, 'lambda_l2': 0.0005412207610077569, 'num_leaves': 73, 'feature_fraction': 0.42088144555048024, 'bagging_fraction': 0.506968128556326, 'bagging_freq': 1, 'min_child_samples': 17, 'max_depth': 911}. Best is trial 160 with value: 0.8861352395454563.\u001b[0m\n",
      "\u001b[32m[I 2022-06-21 15:59:33,144]\u001b[0m Trial 163 finished with value: 0.8736913966236723 and parameters: {'lambda_l1': 0.0011594628292992475, 'lambda_l2': 0.0005916045608428883, 'num_leaves': 82, 'feature_fraction': 0.4237336529869547, 'bagging_fraction': 0.503957252583904, 'bagging_freq': 1, 'min_child_samples': 12, 'max_depth': 907}. Best is trial 160 with value: 0.8861352395454563.\u001b[0m\n",
      "\u001b[32m[I 2022-06-21 15:59:40,123]\u001b[0m Trial 164 finished with value: 0.8762854620654543 and parameters: {'lambda_l1': 0.000555857867047964, 'lambda_l2': 0.00026348217989685224, 'num_leaves': 105, 'feature_fraction': 0.4318668055071282, 'bagging_fraction': 0.5092813788520985, 'bagging_freq': 1, 'min_child_samples': 16, 'max_depth': 932}. Best is trial 160 with value: 0.8861352395454563.\u001b[0m\n",
      "\u001b[32m[I 2022-06-21 15:59:46,015]\u001b[0m Trial 165 finished with value: 0.8783125373293718 and parameters: {'lambda_l1': 0.00292049908224648, 'lambda_l2': 0.00014123086676100282, 'num_leaves': 73, 'feature_fraction': 0.41088839644659564, 'bagging_fraction': 0.4713935267214579, 'bagging_freq': 1, 'min_child_samples': 18, 'max_depth': 860}. Best is trial 160 with value: 0.8861352395454563.\u001b[0m\n",
      "\u001b[32m[I 2022-06-21 15:59:51,553]\u001b[0m Trial 166 finished with value: 0.8771902115557302 and parameters: {'lambda_l1': 0.00011990889518524461, 'lambda_l2': 0.00037810759005629406, 'num_leaves': 93, 'feature_fraction': 0.40900702363981334, 'bagging_fraction': 0.48972232704125623, 'bagging_freq': 1, 'min_child_samples': 21, 'max_depth': 834}. Best is trial 160 with value: 0.8861352395454563.\u001b[0m\n",
      "\u001b[32m[I 2022-06-21 15:59:57,989]\u001b[0m Trial 167 finished with value: 0.8761275884847867 and parameters: {'lambda_l1': 0.007352100382451556, 'lambda_l2': 0.0005414624061161766, 'num_leaves': 87, 'feature_fraction': 0.4378538325525123, 'bagging_fraction': 0.5128962818187764, 'bagging_freq': 1, 'min_child_samples': 17, 'max_depth': 894}. Best is trial 160 with value: 0.8861352395454563.\u001b[0m\n",
      "\u001b[32m[I 2022-06-21 16:00:04,288]\u001b[0m Trial 168 finished with value: 0.879529105182743 and parameters: {'lambda_l1': 0.00035189934305953507, 'lambda_l2': 0.00015678075771993297, 'num_leaves': 100, 'feature_fraction': 0.46002259913954446, 'bagging_fraction': 0.4779630556706466, 'bagging_freq': 1, 'min_child_samples': 14, 'max_depth': 790}. Best is trial 160 with value: 0.8861352395454563.\u001b[0m\n",
      "\u001b[32m[I 2022-06-21 16:00:11,182]\u001b[0m Trial 169 finished with value: 0.8661825973948654 and parameters: {'lambda_l1': 0.0015680103037858, 'lambda_l2': 9.534910469001464e-05, 'num_leaves': 88, 'feature_fraction': 0.42233948639270374, 'bagging_fraction': 0.4930706629802756, 'bagging_freq': 1, 'min_child_samples': 11, 'max_depth': 761}. Best is trial 160 with value: 0.8861352395454563.\u001b[0m\n",
      "\u001b[32m[I 2022-06-21 16:00:17,183]\u001b[0m Trial 170 finished with value: 0.8789076096547072 and parameters: {'lambda_l1': 0.00015154141473153947, 'lambda_l2': 0.00098223885731148, 'num_leaves': 65, 'feature_fraction': 0.4233558881038138, 'bagging_fraction': 0.514271759842386, 'bagging_freq': 1, 'min_child_samples': 21, 'max_depth': 927}. Best is trial 160 with value: 0.8861352395454563.\u001b[0m\n",
      "\u001b[32m[I 2022-06-21 16:00:23,922]\u001b[0m Trial 171 finished with value: 0.8815543182093105 and parameters: {'lambda_l1': 0.0008608525783584411, 'lambda_l2': 0.000619302090314028, 'num_leaves': 75, 'feature_fraction': 0.4463630314603378, 'bagging_fraction': 0.457582486588023, 'bagging_freq': 1, 'min_child_samples': 14, 'max_depth': 819}. Best is trial 160 with value: 0.8861352395454563.\u001b[0m\n",
      "\u001b[32m[I 2022-06-21 16:00:29,574]\u001b[0m Trial 172 finished with value: 0.8822434574154774 and parameters: {'lambda_l1': 0.00046232950935111856, 'lambda_l2': 0.0005489309592508057, 'num_leaves': 66, 'feature_fraction': 0.40128897035381034, 'bagging_fraction': 0.4673322599762977, 'bagging_freq': 1, 'min_child_samples': 18, 'max_depth': 809}. Best is trial 160 with value: 0.8861352395454563.\u001b[0m\n",
      "\u001b[32m[I 2022-06-21 16:00:35,285]\u001b[0m Trial 173 finished with value: 0.8836458050678252 and parameters: {'lambda_l1': 0.000781567906736021, 'lambda_l2': 0.0002728382227372164, 'num_leaves': 73, 'feature_fraction': 0.4006964098395908, 'bagging_fraction': 0.4676225350326033, 'bagging_freq': 1, 'min_child_samples': 18, 'max_depth': 805}. Best is trial 160 with value: 0.8861352395454563.\u001b[0m\n"
     ]
    },
    {
     "name": "stderr",
     "output_type": "stream",
     "text": [
      "\u001b[32m[I 2022-06-21 16:00:41,042]\u001b[0m Trial 174 finished with value: 0.8845538057573661 and parameters: {'lambda_l1': 0.00047615659041224, 'lambda_l2': 0.0002740102838153565, 'num_leaves': 63, 'feature_fraction': 0.40034493505127705, 'bagging_fraction': 0.46324087950727383, 'bagging_freq': 1, 'min_child_samples': 17, 'max_depth': 817}. Best is trial 160 with value: 0.8861352395454563.\u001b[0m\n",
      "\u001b[32m[I 2022-06-21 16:00:47,424]\u001b[0m Trial 175 finished with value: 0.8758166859585202 and parameters: {'lambda_l1': 0.0004113684589210403, 'lambda_l2': 0.0005140829358191595, 'num_leaves': 72, 'feature_fraction': 0.4104325088315345, 'bagging_fraction': 0.44378311046657837, 'bagging_freq': 1, 'min_child_samples': 13, 'max_depth': 816}. Best is trial 160 with value: 0.8861352395454563.\u001b[0m\n",
      "\u001b[32m[I 2022-06-21 16:00:53,108]\u001b[0m Trial 176 finished with value: 0.8813795883124442 and parameters: {'lambda_l1': 0.0004900043252873543, 'lambda_l2': 0.0003117074949884513, 'num_leaves': 65, 'feature_fraction': 0.40120397883917336, 'bagging_fraction': 0.4622718480810833, 'bagging_freq': 1, 'min_child_samples': 17, 'max_depth': 803}. Best is trial 160 with value: 0.8861352395454563.\u001b[0m\n",
      "\u001b[32m[I 2022-06-21 16:00:59,090]\u001b[0m Trial 177 finished with value: 0.8855862258441592 and parameters: {'lambda_l1': 0.00028055439457155254, 'lambda_l2': 0.0003826554359522837, 'num_leaves': 58, 'feature_fraction': 0.43368964118768244, 'bagging_fraction': 0.4358210309546814, 'bagging_freq': 1, 'min_child_samples': 17, 'max_depth': 962}. Best is trial 160 with value: 0.8861352395454563.\u001b[0m\n",
      "\u001b[32m[I 2022-06-21 16:01:05,032]\u001b[0m Trial 178 finished with value: 0.8789013646527192 and parameters: {'lambda_l1': 0.00021814602237336445, 'lambda_l2': 0.00035249339176540235, 'num_leaves': 54, 'feature_fraction': 0.4372166702290462, 'bagging_fraction': 0.43496075936207895, 'bagging_freq': 1, 'min_child_samples': 17, 'max_depth': 954}. Best is trial 160 with value: 0.8861352395454563.\u001b[0m\n",
      "\u001b[32m[I 2022-06-21 16:01:11,360]\u001b[0m Trial 179 finished with value: 0.8835557308188886 and parameters: {'lambda_l1': 0.0005331193534305734, 'lambda_l2': 0.00018621745209891277, 'num_leaves': 63, 'feature_fraction': 0.43066622686715444, 'bagging_fraction': 0.464945612635392, 'bagging_freq': 1, 'min_child_samples': 17, 'max_depth': 959}. Best is trial 160 with value: 0.8861352395454563.\u001b[0m\n",
      "\u001b[32m[I 2022-06-21 16:01:18,308]\u001b[0m Trial 180 finished with value: 0.8732322356865702 and parameters: {'lambda_l1': 0.0005750062111481045, 'lambda_l2': 7.127057531707215e-05, 'num_leaves': 62, 'feature_fraction': 0.427115137611092, 'bagging_fraction': 0.46990463280479594, 'bagging_freq': 1, 'min_child_samples': 13, 'max_depth': 967}. Best is trial 160 with value: 0.8861352395454563.\u001b[0m\n",
      "\u001b[32m[I 2022-06-21 16:01:24,194]\u001b[0m Trial 181 finished with value: 0.8800355496112076 and parameters: {'lambda_l1': 0.0004077458485574591, 'lambda_l2': 0.0001430101955274176, 'num_leaves': 62, 'feature_fraction': 0.4000498281960705, 'bagging_fraction': 0.4663764376642513, 'bagging_freq': 1, 'min_child_samples': 17, 'max_depth': 893}. Best is trial 160 with value: 0.8861352395454563.\u001b[0m\n",
      "\u001b[32m[I 2022-06-21 16:01:29,800]\u001b[0m Trial 182 finished with value: 0.8787000864632444 and parameters: {'lambda_l1': 0.00029681839677024737, 'lambda_l2': 0.00018269707053203546, 'num_leaves': 75, 'feature_fraction': 0.4453672246201397, 'bagging_fraction': 0.4467346313249868, 'bagging_freq': 1, 'min_child_samples': 18, 'max_depth': 835}. Best is trial 160 with value: 0.8861352395454563.\u001b[0m\n",
      "\u001b[32m[I 2022-06-21 16:01:36,203]\u001b[0m Trial 183 finished with value: 0.8861708219970604 and parameters: {'lambda_l1': 0.0013344229838283667, 'lambda_l2': 0.0006673983947458554, 'num_leaves': 45, 'feature_fraction': 0.4321345536325408, 'bagging_fraction': 0.4811289898403429, 'bagging_freq': 1, 'min_child_samples': 15, 'max_depth': 790}. Best is trial 183 with value: 0.8861708219970604.\u001b[0m\n",
      "\u001b[32m[I 2022-06-21 16:01:37,758]\u001b[0m Trial 184 finished with value: 0.5 and parameters: {'lambda_l1': 0.0012461286930466912, 'lambda_l2': 0.0008694599799314346, 'num_leaves': 49, 'feature_fraction': 0.43227001955921873, 'bagging_fraction': 0.47969045632914464, 'bagging_freq': 1, 'min_child_samples': 100, 'max_depth': 981}. Best is trial 183 with value: 0.8861708219970604.\u001b[0m\n",
      "\u001b[32m[I 2022-06-21 16:01:44,065]\u001b[0m Trial 185 finished with value: 0.8766843337261294 and parameters: {'lambda_l1': 0.0016905982912500733, 'lambda_l2': 0.00042014322472400773, 'num_leaves': 68, 'feature_fraction': 0.45686116570548657, 'bagging_fraction': 0.43705131643286504, 'bagging_freq': 1, 'min_child_samples': 15, 'max_depth': 796}. Best is trial 183 with value: 0.8861708219970604.\u001b[0m\n",
      "\u001b[32m[I 2022-06-21 16:01:51,186]\u001b[0m Trial 186 finished with value: 0.868605475900948 and parameters: {'lambda_l1': 0.0037427748864509885, 'lambda_l2': 0.0006848417828710902, 'num_leaves': 47, 'feature_fraction': 0.42064610916145395, 'bagging_fraction': 0.4548733325655593, 'bagging_freq': 1, 'min_child_samples': 10, 'max_depth': 862}. Best is trial 183 with value: 0.8861708219970604.\u001b[0m\n",
      "\u001b[32m[I 2022-06-21 16:01:57,592]\u001b[0m Trial 187 finished with value: 0.8758998674613998 and parameters: {'lambda_l1': 0.00020087158118055058, 'lambda_l2': 0.00032392369525058453, 'num_leaves': 43, 'feature_fraction': 0.44346699578068693, 'bagging_fraction': 0.47933586762089203, 'bagging_freq': 1, 'min_child_samples': 12, 'max_depth': 831}. Best is trial 183 with value: 0.8861708219970604.\u001b[0m\n",
      "\u001b[32m[I 2022-06-21 16:02:03,213]\u001b[0m Trial 188 finished with value: 0.8836846960014529 and parameters: {'lambda_l1': 0.00010719177874860257, 'lambda_l2': 0.0002047017111236875, 'num_leaves': 57, 'feature_fraction': 0.4007387497485667, 'bagging_fraction': 0.46569747837323966, 'bagging_freq': 1, 'min_child_samples': 15, 'max_depth': 796}. Best is trial 183 with value: 0.8861708219970604.\u001b[0m\n",
      "\u001b[32m[I 2022-06-21 16:02:05,033]\u001b[0m Trial 189 finished with value: 0.5 and parameters: {'lambda_l1': 0.00011697373936307557, 'lambda_l2': 0.00021674941190417068, 'num_leaves': 59, 'feature_fraction': 0.4002980328985953, 'bagging_fraction': 0.4639345673740474, 'bagging_freq': 1, 'min_child_samples': 49, 'max_depth': 751}. Best is trial 183 with value: 0.8861708219970604.\u001b[0m\n",
      "\u001b[32m[I 2022-06-21 16:02:10,513]\u001b[0m Trial 190 finished with value: 0.8806602646579427 and parameters: {'lambda_l1': 7.481618772204262e-05, 'lambda_l2': 9.65159229430487e-05, 'num_leaves': 68, 'feature_fraction': 0.411108969629885, 'bagging_fraction': 0.43042063316643653, 'bagging_freq': 1, 'min_child_samples': 14, 'max_depth': 786}. Best is trial 183 with value: 0.8861708219970604.\u001b[0m\n",
      "\u001b[32m[I 2022-06-21 16:02:16,715]\u001b[0m Trial 191 finished with value: 0.8855772943301967 and parameters: {'lambda_l1': 0.0006185635443056678, 'lambda_l2': 0.0005251733415985067, 'num_leaves': 51, 'feature_fraction': 0.43014961272329766, 'bagging_fraction': 0.4872441540059189, 'bagging_freq': 1, 'min_child_samples': 17, 'max_depth': 838}. Best is trial 183 with value: 0.8861708219970604.\u001b[0m\n",
      "\u001b[32m[I 2022-06-21 16:02:23,172]\u001b[0m Trial 192 finished with value: 0.8834497584458885 and parameters: {'lambda_l1': 0.0005294426189402914, 'lambda_l2': 0.0009319274031795359, 'num_leaves': 53, 'feature_fraction': 0.43165463187127856, 'bagging_fraction': 0.45003148823045896, 'bagging_freq': 1, 'min_child_samples': 15, 'max_depth': 840}. Best is trial 183 with value: 0.8861708219970604.\u001b[0m\n",
      "\u001b[32m[I 2022-06-21 16:02:29,463]\u001b[0m Trial 193 finished with value: 0.8809972985390941 and parameters: {'lambda_l1': 0.00026731746350639363, 'lambda_l2': 0.0008415758355774349, 'num_leaves': 55, 'feature_fraction': 0.43267208994549705, 'bagging_fraction': 0.4844919725324018, 'bagging_freq': 1, 'min_child_samples': 15, 'max_depth': 840}. Best is trial 183 with value: 0.8861708219970604.\u001b[0m\n",
      "\u001b[32m[I 2022-06-21 16:02:36,701]\u001b[0m Trial 194 finished with value: 0.8773790102656202 and parameters: {'lambda_l1': 0.0006014956674373818, 'lambda_l2': 0.001352276267254611, 'num_leaves': 44, 'feature_fraction': 0.45072880479903266, 'bagging_fraction': 0.45231979614314566, 'bagging_freq': 1, 'min_child_samples': 12, 'max_depth': 818}. Best is trial 183 with value: 0.8861708219970604.\u001b[0m\n"
     ]
    },
    {
     "name": "stderr",
     "output_type": "stream",
     "text": [
      "\u001b[32m[I 2022-06-21 16:02:42,705]\u001b[0m Trial 195 finished with value: 0.882536862840462 and parameters: {'lambda_l1': 0.00016204353022279924, 'lambda_l2': 0.0005045029348427908, 'num_leaves': 35, 'feature_fraction': 0.4357928531022917, 'bagging_fraction': 0.4727293072202429, 'bagging_freq': 1, 'min_child_samples': 15, 'max_depth': 866}. Best is trial 183 with value: 0.8861708219970604.\u001b[0m\n",
      "\u001b[32m[I 2022-06-21 16:02:48,383]\u001b[0m Trial 196 finished with value: 0.8818699888647644 and parameters: {'lambda_l1': 0.00010153020406353105, 'lambda_l2': 0.0006694953756919065, 'num_leaves': 50, 'feature_fraction': 0.42562598210807145, 'bagging_fraction': 0.4698745231788326, 'bagging_freq': 1, 'min_child_samples': 18, 'max_depth': 848}. Best is trial 183 with value: 0.8861708219970604.\u001b[0m\n",
      "\u001b[32m[I 2022-06-21 16:02:54,197]\u001b[0m Trial 197 finished with value: 0.8851972307663096 and parameters: {'lambda_l1': 0.0001302117359865024, 'lambda_l2': 0.0011527750367602333, 'num_leaves': 38, 'feature_fraction': 0.4259873584036795, 'bagging_fraction': 0.47002799554201474, 'bagging_freq': 1, 'min_child_samples': 18, 'max_depth': 888}. Best is trial 183 with value: 0.8861708219970604.\u001b[0m\n",
      "\u001b[32m[I 2022-06-21 16:03:00,622]\u001b[0m Trial 198 finished with value: 0.883285522870662 and parameters: {'lambda_l1': 0.00018626469698910825, 'lambda_l2': 0.0012213334288986148, 'num_leaves': 33, 'feature_fraction': 0.4130432512513574, 'bagging_fraction': 0.4924516885273745, 'bagging_freq': 1, 'min_child_samples': 18, 'max_depth': 998}. Best is trial 183 with value: 0.8861708219970604.\u001b[0m\n",
      "\u001b[32m[I 2022-06-21 16:03:02,169]\u001b[0m Trial 199 finished with value: 0.5 and parameters: {'lambda_l1': 0.00019120222623458607, 'lambda_l2': 0.0012108849610674669, 'num_leaves': 28, 'feature_fraction': 0.41220224672657485, 'bagging_fraction': 0.4929430547763747, 'bagging_freq': 1, 'min_child_samples': 74, 'max_depth': 982}. Best is trial 183 with value: 0.8861708219970604.\u001b[0m\n",
      "\u001b[32m[I 2022-06-21 16:03:08,165]\u001b[0m Trial 200 finished with value: 0.8795339485720679 and parameters: {'lambda_l1': 0.00032833720827623984, 'lambda_l2': 0.00045543660858532665, 'num_leaves': 21, 'feature_fraction': 0.43294448934059276, 'bagging_fraction': 0.44784537257564166, 'bagging_freq': 1, 'min_child_samples': 17, 'max_depth': 954}. Best is trial 183 with value: 0.8861708219970604.\u001b[0m\n",
      "\u001b[32m[I 2022-06-21 16:03:14,022]\u001b[0m Trial 201 finished with value: 0.8820075058670259 and parameters: {'lambda_l1': 0.00014041830655298407, 'lambda_l2': 0.0010275864565992383, 'num_leaves': 36, 'feature_fraction': 0.4198776576197995, 'bagging_fraction': 0.4908669089260598, 'bagging_freq': 1, 'min_child_samples': 18, 'max_depth': 878}. Best is trial 183 with value: 0.8861708219970604.\u001b[0m\n",
      "\u001b[32m[I 2022-06-21 16:03:20,098]\u001b[0m Trial 202 finished with value: 0.8794414220325596 and parameters: {'lambda_l1': 6.535250777014397e-05, 'lambda_l2': 0.001253623578379884, 'num_leaves': 36, 'feature_fraction': 0.41396804227883216, 'bagging_fraction': 0.4869949240275189, 'bagging_freq': 1, 'min_child_samples': 16, 'max_depth': 878}. Best is trial 183 with value: 0.8861708219970604.\u001b[0m\n",
      "\u001b[32m[I 2022-06-21 16:03:25,663]\u001b[0m Trial 203 finished with value: 0.8789999710257065 and parameters: {'lambda_l1': 0.0001613166820404265, 'lambda_l2': 0.0001665696223464507, 'num_leaves': 29, 'feature_fraction': 0.4259976860572752, 'bagging_fraction': 0.47337168238223215, 'bagging_freq': 1, 'min_child_samples': 18, 'max_depth': 888}. Best is trial 183 with value: 0.8861708219970604.\u001b[0m\n",
      "\u001b[32m[I 2022-06-21 16:03:31,490]\u001b[0m Trial 204 finished with value: 0.8773532113311526 and parameters: {'lambda_l1': 0.0002936653799333595, 'lambda_l2': 0.0009310618752451445, 'num_leaves': 38, 'feature_fraction': 0.43803496882548365, 'bagging_fraction': 0.48844609578797843, 'bagging_freq': 1, 'min_child_samples': 22, 'max_depth': 868}. Best is trial 183 with value: 0.8861708219970604.\u001b[0m\n",
      "\u001b[32m[I 2022-06-21 16:03:39,002]\u001b[0m Trial 205 finished with value: 0.8875892335648526 and parameters: {'lambda_l1': 9.301631683130897e-05, 'lambda_l2': 0.00042116251159990197, 'num_leaves': 59, 'feature_fraction': 0.4100780643597869, 'bagging_fraction': 0.4704677676270611, 'bagging_freq': 1, 'min_child_samples': 15, 'max_depth': 996}. Best is trial 205 with value: 0.8875892335648526.\u001b[0m\n",
      "\u001b[32m[I 2022-06-21 16:03:45,123]\u001b[0m Trial 206 finished with value: 0.8791035442026154 and parameters: {'lambda_l1': 8.600503960652361e-05, 'lambda_l2': 0.0003909460595283849, 'num_leaves': 53, 'feature_fraction': 0.40065842017332887, 'bagging_fraction': 0.4228071468816651, 'bagging_freq': 1, 'min_child_samples': 14, 'max_depth': 970}. Best is trial 205 with value: 0.8875892335648526.\u001b[0m\n",
      "\u001b[32m[I 2022-06-21 16:03:52,289]\u001b[0m Trial 207 finished with value: 0.8735664788427947 and parameters: {'lambda_l1': 0.0001510382837526054, 'lambda_l2': 0.000509952353488996, 'num_leaves': 60, 'feature_fraction': 0.4577639031353904, 'bagging_fraction': 0.46926692277190524, 'bagging_freq': 1, 'min_child_samples': 11, 'max_depth': 996}. Best is trial 205 with value: 0.8875892335648526.\u001b[0m\n",
      "\u001b[32m[I 2022-06-21 16:03:58,274]\u001b[0m Trial 208 finished with value: 0.8814522573874354 and parameters: {'lambda_l1': 0.00022804619089757987, 'lambda_l2': 0.0002712379465744821, 'num_leaves': 32, 'feature_fraction': 0.4209430263268847, 'bagging_fraction': 0.4401933989143481, 'bagging_freq': 1, 'min_child_samples': 16, 'max_depth': 952}. Best is trial 205 with value: 0.8875892335648526.\u001b[0m\n",
      "\u001b[32m[I 2022-06-21 16:04:04,658]\u001b[0m Trial 209 finished with value: 0.8837128928862675 and parameters: {'lambda_l1': 0.0004423942869918736, 'lambda_l2': 0.0001889416354002392, 'num_leaves': 40, 'feature_fraction': 0.4300797977661575, 'bagging_fraction': 0.46348629279095427, 'bagging_freq': 1, 'min_child_samples': 15, 'max_depth': 920}. Best is trial 205 with value: 0.8875892335648526.\u001b[0m\n",
      "\u001b[32m[I 2022-06-21 16:04:11,153]\u001b[0m Trial 210 finished with value: 0.8746533418421965 and parameters: {'lambda_l1': 0.00044658753272382656, 'lambda_l2': 0.00012981866395152098, 'num_leaves': 21, 'feature_fraction': 0.41063002616643474, 'bagging_fraction': 0.45188564963460987, 'bagging_freq': 1, 'min_child_samples': 13, 'max_depth': 933}. Best is trial 205 with value: 0.8875892335648526.\u001b[0m\n",
      "\u001b[32m[I 2022-06-21 16:04:17,125]\u001b[0m Trial 211 finished with value: 0.8759587162063943 and parameters: {'lambda_l1': 9.703905684951894e-05, 'lambda_l2': 0.00019746807406804804, 'num_leaves': 42, 'feature_fraction': 0.44058976971525105, 'bagging_fraction': 0.477541079481963, 'bagging_freq': 1, 'min_child_samples': 16, 'max_depth': 912}. Best is trial 205 with value: 0.8875892335648526.\u001b[0m\n",
      "\u001b[32m[I 2022-06-21 16:04:24,063]\u001b[0m Trial 212 finished with value: 0.8811194539464663 and parameters: {'lambda_l1': 0.0006425372017027733, 'lambda_l2': 0.0003438309391015612, 'num_leaves': 46, 'feature_fraction': 0.4282253768542335, 'bagging_fraction': 0.4657181717662875, 'bagging_freq': 1, 'min_child_samples': 15, 'max_depth': 998}. Best is trial 205 with value: 0.8875892335648526.\u001b[0m\n",
      "\u001b[32m[I 2022-06-21 16:04:29,564]\u001b[0m Trial 213 finished with value: 0.8766039131362274 and parameters: {'lambda_l1': 5.796274588952921e-05, 'lambda_l2': 0.00019807210395041328, 'num_leaves': 41, 'feature_fraction': 0.4279283635740247, 'bagging_fraction': 0.45965997330590613, 'bagging_freq': 1, 'min_child_samples': 20, 'max_depth': 898}. Best is trial 205 with value: 0.8875892335648526.\u001b[0m\n",
      "\u001b[32m[I 2022-06-21 16:04:35,401]\u001b[0m Trial 214 finished with value: 0.8796588118838506 and parameters: {'lambda_l1': 0.00036679520290186344, 'lambda_l2': 0.0006036340843257752, 'num_leaves': 57, 'feature_fraction': 0.41077088544406015, 'bagging_fraction': 0.47902931194051673, 'bagging_freq': 1, 'min_child_samples': 18, 'max_depth': 851}. Best is trial 205 with value: 0.8875892335648526.\u001b[0m\n",
      "\u001b[32m[I 2022-06-21 16:04:42,039]\u001b[0m Trial 215 finished with value: 0.8747495782296479 and parameters: {'lambda_l1': 0.00018185151493562178, 'lambda_l2': 0.00037539915548529456, 'num_leaves': 51, 'feature_fraction': 0.4425732087721706, 'bagging_fraction': 0.44305358647702936, 'bagging_freq': 1, 'min_child_samples': 13, 'max_depth': 971}. Best is trial 205 with value: 0.8875892335648526.\u001b[0m\n"
     ]
    },
    {
     "name": "stderr",
     "output_type": "stream",
     "text": [
      "\u001b[32m[I 2022-06-21 16:04:48,057]\u001b[0m Trial 216 finished with value: 0.8810954087622046 and parameters: {'lambda_l1': 0.00010852746376655703, 'lambda_l2': 0.0008039067535666632, 'num_leaves': 36, 'feature_fraction': 0.42077688799964685, 'bagging_fraction': 0.4705110681461432, 'bagging_freq': 1, 'min_child_samples': 16, 'max_depth': 884}. Best is trial 205 with value: 0.8875892335648526.\u001b[0m\n",
      "\u001b[32m[I 2022-06-21 16:04:54,031]\u001b[0m Trial 217 finished with value: 0.8834331363081364 and parameters: {'lambda_l1': 0.00026043769670510087, 'lambda_l2': 0.00010376834214559606, 'num_leaves': 50, 'feature_fraction': 0.4579607596688159, 'bagging_fraction': 0.4964846737815323, 'bagging_freq': 1, 'min_child_samples': 19, 'max_depth': 922}. Best is trial 205 with value: 0.8875892335648526.\u001b[0m\n",
      "\u001b[32m[I 2022-06-21 16:04:59,735]\u001b[0m Trial 218 finished with value: 0.88487977330547 and parameters: {'lambda_l1': 0.00021799735712551503, 'lambda_l2': 6.693146006058434e-05, 'num_leaves': 23, 'feature_fraction': 0.40080486971840334, 'bagging_fraction': 0.4964906676317464, 'bagging_freq': 1, 'min_child_samples': 20, 'max_depth': 928}. Best is trial 205 with value: 0.8875892335648526.\u001b[0m\n",
      "\u001b[32m[I 2022-06-21 16:05:05,387]\u001b[0m Trial 219 finished with value: 0.8822095975704722 and parameters: {'lambda_l1': 0.0002762238645681621, 'lambda_l2': 8.462238713958995e-05, 'num_leaves': 25, 'feature_fraction': 0.400911222234437, 'bagging_fraction': 0.5018341008811503, 'bagging_freq': 1, 'min_child_samples': 22, 'max_depth': 933}. Best is trial 205 with value: 0.8875892335648526.\u001b[0m\n",
      "\u001b[32m[I 2022-06-21 16:05:11,230]\u001b[0m Trial 220 finished with value: 0.8798828332615097 and parameters: {'lambda_l1': 0.00040792657327939143, 'lambda_l2': 5.1765706535666984e-05, 'num_leaves': 49, 'feature_fraction': 0.40914243281955204, 'bagging_fraction': 0.48370442824558674, 'bagging_freq': 1, 'min_child_samples': 20, 'max_depth': 950}. Best is trial 205 with value: 0.8875892335648526.\u001b[0m\n",
      "\u001b[32m[I 2022-06-21 16:05:16,792]\u001b[0m Trial 221 finished with value: 0.8796657488753074 and parameters: {'lambda_l1': 0.000244359511158941, 'lambda_l2': 7.947115594612693e-05, 'num_leaves': 22, 'feature_fraction': 0.40143368475423, 'bagging_fraction': 0.49767330794573833, 'bagging_freq': 1, 'min_child_samples': 22, 'max_depth': 909}. Best is trial 205 with value: 0.8875892335648526.\u001b[0m\n",
      "\u001b[32m[I 2022-06-21 16:05:23,797]\u001b[0m Trial 222 finished with value: 0.8433288462053942 and parameters: {'lambda_l1': 0.0002709082005061279, 'lambda_l2': 0.00011216558528492606, 'num_leaves': 14, 'feature_fraction': 0.40058144055385203, 'bagging_fraction': 0.9241392497476153, 'bagging_freq': 1, 'min_child_samples': 19, 'max_depth': 938}. Best is trial 205 with value: 0.8875892335648526.\u001b[0m\n",
      "\u001b[32m[I 2022-06-21 16:05:29,988]\u001b[0m Trial 223 finished with value: 0.8759100568549099 and parameters: {'lambda_l1': 0.0005442689447852563, 'lambda_l2': 7.371880436191116e-05, 'num_leaves': 31, 'feature_fraction': 0.688866709219619, 'bagging_fraction': 0.5015136432650139, 'bagging_freq': 1, 'min_child_samples': 23, 'max_depth': 919}. Best is trial 205 with value: 0.8875892335648526.\u001b[0m\n",
      "\u001b[32m[I 2022-06-21 16:05:35,804]\u001b[0m Trial 224 finished with value: 0.8778059828243652 and parameters: {'lambda_l1': 0.00018287721663358443, 'lambda_l2': 0.00012938877456286526, 'num_leaves': 58, 'feature_fraction': 0.4147949754325415, 'bagging_fraction': 0.4801332434746362, 'bagging_freq': 1, 'min_child_samples': 21, 'max_depth': 969}. Best is trial 205 with value: 0.8875892335648526.\u001b[0m\n",
      "\u001b[32m[I 2022-06-21 16:05:41,727]\u001b[0m Trial 225 finished with value: 0.8825629429694835 and parameters: {'lambda_l1': 0.0002638919893982858, 'lambda_l2': 9.364687267346565e-05, 'num_leaves': 8, 'feature_fraction': 0.4302892284430413, 'bagging_fraction': 0.49776975721326905, 'bagging_freq': 1, 'min_child_samples': 18, 'max_depth': 926}. Best is trial 205 with value: 0.8875892335648526.\u001b[0m\n",
      "\u001b[32m[I 2022-06-21 16:05:43,653]\u001b[0m Trial 226 finished with value: 0.5 and parameters: {'lambda_l1': 0.000124742718001766, 'lambda_l2': 2.61143786454513e-05, 'num_leaves': 62, 'feature_fraction': 0.4271707422861773, 'bagging_fraction': 0.49066465158269773, 'bagging_freq': 1, 'min_child_samples': 44, 'max_depth': 829}. Best is trial 205 with value: 0.8875892335648526.\u001b[0m\n",
      "\u001b[32m[I 2022-06-21 16:05:49,095]\u001b[0m Trial 227 finished with value: 0.8824327470774839 and parameters: {'lambda_l1': 0.00043504463226982514, 'lambda_l2': 0.0002616804189648765, 'num_leaves': 53, 'feature_fraction': 0.45481071457994726, 'bagging_fraction': 0.4542296661698358, 'bagging_freq': 1, 'min_child_samples': 18, 'max_depth': 771}. Best is trial 205 with value: 0.8875892335648526.\u001b[0m\n",
      "\u001b[32m[I 2022-06-21 16:05:54,992]\u001b[0m Trial 228 finished with value: 0.8757116454666766 and parameters: {'lambda_l1': 6.639647037708129e-05, 'lambda_l2': 0.00018899346587231716, 'num_leaves': 54, 'feature_fraction': 0.4595639302734463, 'bagging_fraction': 0.45174759453942426, 'bagging_freq': 1, 'min_child_samples': 16, 'max_depth': 920}. Best is trial 205 with value: 0.8875892335648526.\u001b[0m\n",
      "\u001b[32m[I 2022-06-21 16:06:01,152]\u001b[0m Trial 229 finished with value: 0.8798077481084448 and parameters: {'lambda_l1': 0.0001881788892323272, 'lambda_l2': 0.0001256720099098051, 'num_leaves': 4, 'feature_fraction': 0.7747233663824895, 'bagging_fraction': 0.5119797020299302, 'bagging_freq': 1, 'min_child_samples': 19, 'max_depth': 778}. Best is trial 205 with value: 0.8875892335648526.\u001b[0m\n",
      "\u001b[32m[I 2022-06-21 16:06:07,445]\u001b[0m Trial 230 finished with value: 0.8786469818880809 and parameters: {'lambda_l1': 0.0003316521461332316, 'lambda_l2': 0.00027490426453114246, 'num_leaves': 14, 'feature_fraction': 0.4449269072576701, 'bagging_fraction': 0.4354516411249548, 'bagging_freq': 1, 'min_child_samples': 14, 'max_depth': 957}. Best is trial 205 with value: 0.8875892335648526.\u001b[0m\n",
      "\u001b[32m[I 2022-06-21 16:06:13,380]\u001b[0m Trial 231 finished with value: 0.8854853893956063 and parameters: {'lambda_l1': 0.0005393490546254773, 'lambda_l2': 0.0004283432698860807, 'num_leaves': 45, 'feature_fraction': 0.435523290698733, 'bagging_fraction': 0.4734319337486481, 'bagging_freq': 1, 'min_child_samples': 17, 'max_depth': 805}. Best is trial 205 with value: 0.8875892335648526.\u001b[0m\n",
      "\u001b[32m[I 2022-06-21 16:06:19,418]\u001b[0m Trial 232 finished with value: 0.8770228884462631 and parameters: {'lambda_l1': 0.0006191738079958512, 'lambda_l2': 0.0004019285457265279, 'num_leaves': 41, 'feature_fraction': 0.433141661936568, 'bagging_fraction': 0.4777392401004107, 'bagging_freq': 1, 'min_child_samples': 17, 'max_depth': 838}. Best is trial 205 with value: 0.8875892335648526.\u001b[0m\n",
      "\u001b[32m[I 2022-06-21 16:06:25,204]\u001b[0m Trial 233 finished with value: 0.8826733591056347 and parameters: {'lambda_l1': 0.0018265232991462072, 'lambda_l2': 0.00018260633012768445, 'num_leaves': 46, 'feature_fraction': 0.4547232030048204, 'bagging_fraction': 0.45785416054233874, 'bagging_freq': 1, 'min_child_samples': 17, 'max_depth': 794}. Best is trial 205 with value: 0.8875892335648526.\u001b[0m\n",
      "\u001b[32m[I 2022-06-21 16:06:32,010]\u001b[0m Trial 234 finished with value: 0.8751394717253851 and parameters: {'lambda_l1': 0.00235886072298729, 'lambda_l2': 5.313528562942654e-05, 'num_leaves': 49, 'feature_fraction': 0.43048144699663077, 'bagging_fraction': 0.48723877677831057, 'bagging_freq': 1, 'min_child_samples': 16, 'max_depth': 985}. Best is trial 205 with value: 0.8875892335648526.\u001b[0m\n",
      "\u001b[32m[I 2022-06-21 16:06:37,397]\u001b[0m Trial 235 finished with value: 0.8786771089462654 and parameters: {'lambda_l1': 0.0012439042456285376, 'lambda_l2': 0.00016960387258666015, 'num_leaves': 9, 'feature_fraction': 0.4421112439884581, 'bagging_fraction': 0.473521974188181, 'bagging_freq': 1, 'min_child_samples': 20, 'max_depth': 803}. Best is trial 205 with value: 0.8875892335648526.\u001b[0m\n",
      "\u001b[32m[I 2022-06-21 16:06:44,024]\u001b[0m Trial 236 finished with value: 0.8728701183362563 and parameters: {'lambda_l1': 9.231403692172525e-05, 'lambda_l2': 0.0001037399064788782, 'num_leaves': 45, 'feature_fraction': 0.4655463465677412, 'bagging_fraction': 0.46080963606918934, 'bagging_freq': 1, 'min_child_samples': 13, 'max_depth': 999}. Best is trial 205 with value: 0.8875892335648526.\u001b[0m\n"
     ]
    },
    {
     "name": "stderr",
     "output_type": "stream",
     "text": [
      "\u001b[32m[I 2022-06-21 16:06:50,613]\u001b[0m Trial 237 finished with value: 0.8828730076897645 and parameters: {'lambda_l1': 0.0008681008797857587, 'lambda_l2': 0.0005537910906179976, 'num_leaves': 41, 'feature_fraction': 0.4206691547900913, 'bagging_fraction': 0.49643143316410443, 'bagging_freq': 1, 'min_child_samples': 15, 'max_depth': 822}. Best is trial 205 with value: 0.8875892335648526.\u001b[0m\n",
      "\u001b[32m[I 2022-06-21 16:06:57,852]\u001b[0m Trial 238 finished with value: 0.8678476771121896 and parameters: {'lambda_l1': 0.001759253500926012, 'lambda_l2': 0.000354012985704083, 'num_leaves': 46, 'feature_fraction': 0.45357382951025016, 'bagging_fraction': 0.4856162258514311, 'bagging_freq': 1, 'min_child_samples': 11, 'max_depth': 824}. Best is trial 205 with value: 0.8875892335648526.\u001b[0m\n",
      "\u001b[32m[I 2022-06-21 16:07:04,250]\u001b[0m Trial 239 finished with value: 0.8793157620243534 and parameters: {'lambda_l1': 0.0008826572729877014, 'lambda_l2': 0.000188014826664708, 'num_leaves': 39, 'feature_fraction': 0.43303077668699563, 'bagging_fraction': 0.47086095410806755, 'bagging_freq': 1, 'min_child_samples': 14, 'max_depth': 790}. Best is trial 205 with value: 0.8875892335648526.\u001b[0m\n",
      "\u001b[32m[I 2022-06-21 16:07:11,342]\u001b[0m Trial 240 finished with value: 0.8843524369722126 and parameters: {'lambda_l1': 0.0006774036000260603, 'lambda_l2': 0.00047752679976594513, 'num_leaves': 34, 'feature_fraction': 0.42134324318827515, 'bagging_fraction': 0.5151229399294455, 'bagging_freq': 1, 'min_child_samples': 16, 'max_depth': 842}. Best is trial 205 with value: 0.8875892335648526.\u001b[0m\n",
      "\u001b[32m[I 2022-06-21 16:07:18,710]\u001b[0m Trial 241 finished with value: 0.8760686492729836 and parameters: {'lambda_l1': 0.0011510312081925971, 'lambda_l2': 0.0005264725587236514, 'num_leaves': 33, 'feature_fraction': 0.42258373348590067, 'bagging_fraction': 0.5134704162002841, 'bagging_freq': 1, 'min_child_samples': 15, 'max_depth': 849}. Best is trial 205 with value: 0.8875892335648526.\u001b[0m\n",
      "\u001b[32m[I 2022-06-21 16:07:24,744]\u001b[0m Trial 242 finished with value: 0.8792702919070955 and parameters: {'lambda_l1': 0.0006353644636224067, 'lambda_l2': 0.0002465807909710273, 'num_leaves': 39, 'feature_fraction': 0.422979593542336, 'bagging_fraction': 0.4919247975414502, 'bagging_freq': 1, 'min_child_samples': 17, 'max_depth': 817}. Best is trial 205 with value: 0.8875892335648526.\u001b[0m\n",
      "\u001b[32m[I 2022-06-21 16:07:31,673]\u001b[0m Trial 243 finished with value: 0.8791172069244824 and parameters: {'lambda_l1': 0.0008063569536428635, 'lambda_l2': 0.0007328093982235111, 'num_leaves': 44, 'feature_fraction': 0.44493936306368337, 'bagging_fraction': 0.49380240176157153, 'bagging_freq': 1, 'min_child_samples': 16, 'max_depth': 899}. Best is trial 205 with value: 0.8875892335648526.\u001b[0m\n",
      "\u001b[32m[I 2022-06-21 16:07:38,124]\u001b[0m Trial 244 finished with value: 0.8756495721340924 and parameters: {'lambda_l1': 0.000328266243450405, 'lambda_l2': 0.0003969515251638637, 'num_leaves': 27, 'feature_fraction': 0.4337626736548136, 'bagging_fraction': 0.5054643188830302, 'bagging_freq': 1, 'min_child_samples': 13, 'max_depth': 835}. Best is trial 205 with value: 0.8875892335648526.\u001b[0m\n",
      "\u001b[32m[I 2022-06-21 16:07:43,981]\u001b[0m Trial 245 finished with value: 0.8841321734680867 and parameters: {'lambda_l1': 0.0019245891243419133, 'lambda_l2': 0.00014031158283298387, 'num_leaves': 52, 'feature_fraction': 0.4176232549860347, 'bagging_fraction': 0.4614359493107215, 'bagging_freq': 1, 'min_child_samples': 17, 'max_depth': 802}. Best is trial 205 with value: 0.8875892335648526.\u001b[0m\n",
      "\u001b[32m[I 2022-06-21 16:07:49,442]\u001b[0m Trial 246 finished with value: 0.8749550275146253 and parameters: {'lambda_l1': 0.0037646413422646363, 'lambda_l2': 0.00013182064806493583, 'num_leaves': 58, 'feature_fraction': 0.4176727109549572, 'bagging_fraction': 0.45709072985511034, 'bagging_freq': 1, 'min_child_samples': 18, 'max_depth': 803}. Best is trial 205 with value: 0.8875892335648526.\u001b[0m\n",
      "\u001b[32m[I 2022-06-21 16:07:54,879]\u001b[0m Trial 247 finished with value: 0.8752051560410693 and parameters: {'lambda_l1': 0.006845384584672383, 'lambda_l2': 0.00010144417537405268, 'num_leaves': 50, 'feature_fraction': 0.4165022345650994, 'bagging_fraction': 0.44960999336974344, 'bagging_freq': 1, 'min_child_samples': 17, 'max_depth': 784}. Best is trial 205 with value: 0.8875892335648526.\u001b[0m\n",
      "\u001b[32m[I 2022-06-21 16:08:00,294]\u001b[0m Trial 248 finished with value: 0.8815796560250895 and parameters: {'lambda_l1': 0.002563119882240595, 'lambda_l2': 6.0589034169469634e-05, 'num_leaves': 55, 'feature_fraction': 0.41314567683808323, 'bagging_fraction': 0.4827863675417854, 'bagging_freq': 1, 'min_child_samples': 20, 'max_depth': 804}. Best is trial 205 with value: 0.8875892335648526.\u001b[0m\n",
      "\u001b[32m[I 2022-06-21 16:08:06,379]\u001b[0m Trial 249 finished with value: 0.8816155963919121 and parameters: {'lambda_l1': 0.0014574855891743672, 'lambda_l2': 0.00016998917988712213, 'num_leaves': 46, 'feature_fraction': 0.43070644982325584, 'bagging_fraction': 0.46536892348957104, 'bagging_freq': 1, 'min_child_samples': 16, 'max_depth': 821}. Best is trial 205 with value: 0.8875892335648526.\u001b[0m\n",
      "\u001b[32m[I 2022-06-21 16:08:12,165]\u001b[0m Trial 250 finished with value: 0.8834301156359978 and parameters: {'lambda_l1': 0.0005367104252052983, 'lambda_l2': 0.0002966916511333179, 'num_leaves': 63, 'feature_fraction': 0.4219890860757922, 'bagging_fraction': 0.5217221820563787, 'bagging_freq': 1, 'min_child_samples': 18, 'max_depth': 766}. Best is trial 205 with value: 0.8875892335648526.\u001b[0m\n",
      "\u001b[32m[I 2022-06-21 16:08:17,956]\u001b[0m Trial 251 finished with value: 0.8803014743469464 and parameters: {'lambda_l1': 0.001944777320280405, 'lambda_l2': 0.0002886908085864597, 'num_leaves': 61, 'feature_fraction': 0.4099858952622895, 'bagging_fraction': 0.44121158436673014, 'bagging_freq': 1, 'min_child_samples': 15, 'max_depth': 758}. Best is trial 205 with value: 0.8875892335648526.\u001b[0m\n",
      "\u001b[32m[I 2022-06-21 16:08:24,878]\u001b[0m Trial 252 finished with value: 0.8722260425333181 and parameters: {'lambda_l1': 0.0010840270646247751, 'lambda_l2': 0.0003167429524047335, 'num_leaves': 66, 'feature_fraction': 0.4205323010505014, 'bagging_fraction': 0.5199663966887036, 'bagging_freq': 1, 'min_child_samples': 12, 'max_depth': 791}. Best is trial 205 with value: 0.8875892335648526.\u001b[0m\n",
      "\u001b[32m[I 2022-06-21 16:08:29,931]\u001b[0m Trial 253 finished with value: 0.8788934975198519 and parameters: {'lambda_l1': 0.0005347297622460407, 'lambda_l2': 0.0011175599720234422, 'num_leaves': 51, 'feature_fraction': 0.4461291200422759, 'bagging_fraction': 0.42990210221550684, 'bagging_freq': 1, 'min_child_samples': 19, 'max_depth': 773}. Best is trial 205 with value: 0.8875892335648526.\u001b[0m\n",
      "\u001b[32m[I 2022-06-21 16:08:36,793]\u001b[0m Trial 254 finished with value: 0.87892434657276 and parameters: {'lambda_l1': 0.0007512015593625404, 'lambda_l2': 0.00021245312343740164, 'num_leaves': 58, 'feature_fraction': 0.4110078257609945, 'bagging_fraction': 0.480387886256479, 'bagging_freq': 1, 'min_child_samples': 14, 'max_depth': 847}. Best is trial 205 with value: 0.8875892335648526.\u001b[0m\n",
      "\u001b[32m[I 2022-06-21 16:08:42,995]\u001b[0m Trial 255 finished with value: 0.8811555731635068 and parameters: {'lambda_l1': 0.0004630553819699438, 'lambda_l2': 0.0004379660698717039, 'num_leaves': 69, 'feature_fraction': 0.422713625972921, 'bagging_fraction': 0.5197573968010523, 'bagging_freq': 1, 'min_child_samples': 17, 'max_depth': 819}. Best is trial 205 with value: 0.8875892335648526.\u001b[0m\n",
      "\u001b[32m[I 2022-06-21 16:08:48,285]\u001b[0m Trial 256 finished with value: 0.8751036423586733 and parameters: {'lambda_l1': 0.0012927673368888183, 'lambda_l2': 0.000752467642431056, 'num_leaves': 41, 'feature_fraction': 0.43809629063343425, 'bagging_fraction': 0.464873853059335, 'bagging_freq': 6, 'min_child_samples': 21, 'max_depth': 807}. Best is trial 205 with value: 0.8875892335648526.\u001b[0m\n",
      "\u001b[32m[I 2022-06-21 16:08:55,118]\u001b[0m Trial 257 finished with value: 0.860856646599874 and parameters: {'lambda_l1': 0.005311818410464883, 'lambda_l2': 0.0017625652499559125, 'num_leaves': 53, 'feature_fraction': 0.4507440680736851, 'bagging_fraction': 0.771509694002292, 'bagging_freq': 1, 'min_child_samples': 19, 'max_depth': 840}. Best is trial 205 with value: 0.8875892335648526.\u001b[0m\n"
     ]
    },
    {
     "name": "stderr",
     "output_type": "stream",
     "text": [
      "\u001b[32m[I 2022-06-21 16:09:02,393]\u001b[0m Trial 258 finished with value: 0.8615978402617334 and parameters: {'lambda_l1': 0.0008751063254425684, 'lambda_l2': 0.00025868216848322784, 'num_leaves': 61, 'feature_fraction': 0.4090513363252196, 'bagging_fraction': 0.505931858880416, 'bagging_freq': 1, 'min_child_samples': 9, 'max_depth': 826}. Best is trial 205 with value: 0.8875892335648526.\u001b[0m\n",
      "\u001b[32m[I 2022-06-21 16:09:10,201]\u001b[0m Trial 259 finished with value: 0.8773333041442563 and parameters: {'lambda_l1': 0.0004664465582149631, 'lambda_l2': 0.00016385130419221546, 'num_leaves': 48, 'feature_fraction': 0.8096493137971674, 'bagging_fraction': 0.4573436614168412, 'bagging_freq': 1, 'min_child_samples': 15, 'max_depth': 976}. Best is trial 205 with value: 0.8875892335648526.\u001b[0m\n",
      "\u001b[32m[I 2022-06-21 16:09:11,589]\u001b[0m Trial 260 finished with value: 0.5 and parameters: {'lambda_l1': 0.0016750277525315062, 'lambda_l2': 0.0005997609273536505, 'num_leaves': 41, 'feature_fraction': 0.4001740812872507, 'bagging_fraction': 0.4753277326639206, 'bagging_freq': 1, 'min_child_samples': 89, 'max_depth': 792}. Best is trial 205 with value: 0.8875892335648526.\u001b[0m\n",
      "\u001b[32m[I 2022-06-21 16:09:17,221]\u001b[0m Trial 261 finished with value: 0.8800401001002782 and parameters: {'lambda_l1': 0.003133539024366154, 'lambda_l2': 0.0010909032713177591, 'num_leaves': 56, 'feature_fraction': 0.4240506922190516, 'bagging_fraction': 0.49431306929513785, 'bagging_freq': 1, 'min_child_samples': 17, 'max_depth': 736}. Best is trial 205 with value: 0.8875892335648526.\u001b[0m\n",
      "\u001b[32m[I 2022-06-21 16:09:22,538]\u001b[0m Trial 262 finished with value: 0.8792995965377931 and parameters: {'lambda_l1': 0.00021871499000545257, 'lambda_l2': 0.0004069690761209338, 'num_leaves': 33, 'feature_fraction': 0.4185472421348737, 'bagging_fraction': 0.41846164709952777, 'bagging_freq': 1, 'min_child_samples': 20, 'max_depth': 945}. Best is trial 205 with value: 0.8875892335648526.\u001b[0m\n",
      "\u001b[32m[I 2022-06-21 16:09:30,047]\u001b[0m Trial 263 finished with value: 0.8767546225918905 and parameters: {'lambda_l1': 0.00069036413899905, 'lambda_l2': 0.0002404668638869754, 'num_leaves': 50, 'feature_fraction': 0.7535796871994869, 'bagging_fraction': 0.44726140559305394, 'bagging_freq': 1, 'min_child_samples': 13, 'max_depth': 763}. Best is trial 205 with value: 0.8875892335648526.\u001b[0m\n",
      "\u001b[32m[I 2022-06-21 16:09:36,153]\u001b[0m Trial 264 finished with value: 0.8811977207733787 and parameters: {'lambda_l1': 0.0003690060284546852, 'lambda_l2': 0.00014240488239296322, 'num_leaves': 62, 'feature_fraction': 0.43792830272680555, 'bagging_fraction': 0.4839656660292344, 'bagging_freq': 1, 'min_child_samples': 16, 'max_depth': 847}. Best is trial 205 with value: 0.8875892335648526.\u001b[0m\n",
      "\u001b[32m[I 2022-06-21 16:09:43,402]\u001b[0m Trial 265 finished with value: 0.8713676642844601 and parameters: {'lambda_l1': 0.00030036265327421216, 'lambda_l2': 0.0007532891900107504, 'num_leaves': 44, 'feature_fraction': 0.46253477026467726, 'bagging_fraction': 0.5265662605514307, 'bagging_freq': 1, 'min_child_samples': 11, 'max_depth': 812}. Best is trial 205 with value: 0.8875892335648526.\u001b[0m\n",
      "\u001b[32m[I 2022-06-21 16:09:44,904]\u001b[0m Trial 266 finished with value: 0.5 and parameters: {'lambda_l1': 0.0022626949858592475, 'lambda_l2': 0.00034391468425529133, 'num_leaves': 69, 'feature_fraction': 0.43021484987260444, 'bagging_fraction': 0.5069915442440219, 'bagging_freq': 1, 'min_child_samples': 54, 'max_depth': 966}. Best is trial 205 with value: 0.8875892335648526.\u001b[0m\n",
      "\u001b[32m[I 2022-06-21 16:09:50,953]\u001b[0m Trial 267 finished with value: 0.8801932113938693 and parameters: {'lambda_l1': 0.0009623559589689934, 'lambda_l2': 0.0015570431282387247, 'num_leaves': 37, 'feature_fraction': 0.4123135237660078, 'bagging_fraction': 0.46559396901858185, 'bagging_freq': 1, 'min_child_samples': 18, 'max_depth': 888}. Best is trial 205 with value: 0.8875892335648526.\u001b[0m\n",
      "\u001b[32m[I 2022-06-21 16:09:57,096]\u001b[0m Trial 268 finished with value: 0.8833589812964814 and parameters: {'lambda_l1': 4.8108264286762574e-05, 'lambda_l2': 0.00048430274916379056, 'num_leaves': 54, 'feature_fraction': 0.44705536167804016, 'bagging_fraction': 0.4748016922100981, 'bagging_freq': 1, 'min_child_samples': 14, 'max_depth': 828}. Best is trial 205 with value: 0.8875892335648526.\u001b[0m\n",
      "\u001b[32m[I 2022-06-21 16:10:03,135]\u001b[0m Trial 269 finished with value: 0.8750789994319406 and parameters: {'lambda_l1': 6.189083208287135e-05, 'lambda_l2': 0.0005174027622207878, 'num_leaves': 54, 'feature_fraction': 0.4518475785113131, 'bagging_fraction': 0.4746829282970379, 'bagging_freq': 1, 'min_child_samples': 14, 'max_depth': 803}. Best is trial 205 with value: 0.8875892335648526.\u001b[0m\n",
      "\u001b[32m[I 2022-06-21 16:10:09,857]\u001b[0m Trial 270 finished with value: 0.8813849662119786 and parameters: {'lambda_l1': 0.0005255876169631744, 'lambda_l2': 0.00020935829816262863, 'num_leaves': 65, 'feature_fraction': 0.44510257566903216, 'bagging_fraction': 0.45886296480249544, 'bagging_freq': 1, 'min_child_samples': 12, 'max_depth': 827}. Best is trial 205 with value: 0.8875892335648526.\u001b[0m\n",
      "\u001b[32m[I 2022-06-21 16:10:11,285]\u001b[0m Trial 271 finished with value: 0.5 and parameters: {'lambda_l1': 8.26575617009263e-05, 'lambda_l2': 0.000379765628321914, 'num_leaves': 49, 'feature_fraction': 0.466673787438403, 'bagging_fraction': 0.4408307962355482, 'bagging_freq': 1, 'min_child_samples': 61, 'max_depth': 788}. Best is trial 205 with value: 0.8875892335648526.\u001b[0m\n",
      "\u001b[32m[I 2022-06-21 16:10:18,859]\u001b[0m Trial 272 finished with value: 0.8752480609560719 and parameters: {'lambda_l1': 0.001350796878039173, 'lambda_l2': 0.0002666002456044801, 'num_leaves': 58, 'feature_fraction': 0.6534171734914936, 'bagging_fraction': 0.4877314393470923, 'bagging_freq': 1, 'min_child_samples': 15, 'max_depth': 865}. Best is trial 205 with value: 0.8875892335648526.\u001b[0m\n",
      "\u001b[32m[I 2022-06-21 16:10:25,149]\u001b[0m Trial 273 finished with value: 0.8853471145727336 and parameters: {'lambda_l1': 0.0007520665589767888, 'lambda_l2': 0.0001361783749578364, 'num_leaves': 47, 'feature_fraction': 0.4324751451329415, 'bagging_fraction': 0.45117915912860307, 'bagging_freq': 1, 'min_child_samples': 17, 'max_depth': 945}. Best is trial 205 with value: 0.8875892335648526.\u001b[0m\n",
      "\u001b[32m[I 2022-06-21 16:10:31,214]\u001b[0m Trial 274 finished with value: 0.8757799542004264 and parameters: {'lambda_l1': 4.789474556162381e-05, 'lambda_l2': 9.093773593419537e-05, 'num_leaves': 30, 'feature_fraction': 0.4301314022327094, 'bagging_fraction': 0.4260353271689149, 'bagging_freq': 1, 'min_child_samples': 13, 'max_depth': 945}. Best is trial 205 with value: 0.8875892335648526.\u001b[0m\n",
      "\u001b[32m[I 2022-06-21 16:10:38,305]\u001b[0m Trial 275 finished with value: 0.8789749320167277 and parameters: {'lambda_l1': 0.0006550357256831303, 'lambda_l2': 0.0007804626475710064, 'num_leaves': 53, 'feature_fraction': 0.40022484837198197, 'bagging_fraction': 0.4721033008295971, 'bagging_freq': 1, 'min_child_samples': 15, 'max_depth': 991}. Best is trial 205 with value: 0.8875892335648526.\u001b[0m\n",
      "\u001b[32m[I 2022-06-21 16:10:45,392]\u001b[0m Trial 276 finished with value: 0.8687493346866411 and parameters: {'lambda_l1': 0.0004075631549143821, 'lambda_l2': 0.00013128792341590226, 'num_leaves': 62, 'feature_fraction': 0.43709904450704723, 'bagging_fraction': 0.44986959239858, 'bagging_freq': 1, 'min_child_samples': 9, 'max_depth': 926}. Best is trial 205 with value: 0.8875892335648526.\u001b[0m\n",
      "\u001b[32m[I 2022-06-21 16:10:51,579]\u001b[0m Trial 277 finished with value: 0.8777177565941109 and parameters: {'lambda_l1': 0.00020743516186952073, 'lambda_l2': 0.0004487672948700538, 'num_leaves': 43, 'feature_fraction': 0.42276356732744685, 'bagging_fraction': 0.48455684668261767, 'bagging_freq': 1, 'min_child_samples': 17, 'max_depth': 963}. Best is trial 205 with value: 0.8875892335648526.\u001b[0m\n",
      "\u001b[32m[I 2022-06-21 16:10:57,486]\u001b[0m Trial 278 finished with value: 0.877675228065708 and parameters: {'lambda_l1': 0.0007873554131866819, 'lambda_l2': 6.434638640230766e-05, 'num_leaves': 25, 'feature_fraction': 0.4108077310136941, 'bagging_fraction': 0.4688374501339064, 'bagging_freq': 1, 'min_child_samples': 19, 'max_depth': 907}. Best is trial 205 with value: 0.8875892335648526.\u001b[0m\n",
      "\u001b[32m[I 2022-06-21 16:11:05,442]\u001b[0m Trial 279 finished with value: 0.8768367677858775 and parameters: {'lambda_l1': 0.00031993954088365746, 'lambda_l2': 0.0006618302502082226, 'num_leaves': 39, 'feature_fraction': 0.8513170885337116, 'bagging_fraction': 0.43894053961558693, 'bagging_freq': 1, 'min_child_samples': 14, 'max_depth': 944}. Best is trial 205 with value: 0.8875892335648526.\u001b[0m\n"
     ]
    },
    {
     "name": "stderr",
     "output_type": "stream",
     "text": [
      "\u001b[32m[I 2022-06-21 16:11:12,444]\u001b[0m Trial 280 finished with value: 0.8723466030443585 and parameters: {'lambda_l1': 0.00014872880233022493, 'lambda_l2': 0.00029845033275225985, 'num_leaves': 56, 'feature_fraction': 0.42671296835263695, 'bagging_fraction': 0.49800205629419325, 'bagging_freq': 1, 'min_child_samples': 11, 'max_depth': 999}. Best is trial 205 with value: 0.8875892335648526.\u001b[0m\n",
      "\u001b[32m[I 2022-06-21 16:11:19,359]\u001b[0m Trial 281 finished with value: 0.886527777047514 and parameters: {'lambda_l1': 0.000532090734002133, 'lambda_l2': 0.00014111513852081302, 'num_leaves': 47, 'feature_fraction': 0.4413426603454792, 'bagging_fraction': 0.4780290528133305, 'bagging_freq': 1, 'min_child_samples': 16, 'max_depth': 832}. Best is trial 205 with value: 0.8875892335648526.\u001b[0m\n",
      "\u001b[32m[I 2022-06-21 16:11:25,354]\u001b[0m Trial 282 finished with value: 0.8765322045085979 and parameters: {'lambda_l1': 0.0005088273083002167, 'lambda_l2': 0.0001357010010811024, 'num_leaves': 49, 'feature_fraction': 0.4439792146771245, 'bagging_fraction': 0.45965688611270394, 'bagging_freq': 1, 'min_child_samples': 19, 'max_depth': 857}. Best is trial 205 with value: 0.8875892335648526.\u001b[0m\n",
      "\u001b[32m[I 2022-06-21 16:11:31,132]\u001b[0m Trial 283 finished with value: 0.8869657902082438 and parameters: {'lambda_l1': 0.00024945684591924606, 'lambda_l2': 3.020365437229985e-05, 'num_leaves': 70, 'feature_fraction': 0.43882179659446263, 'bagging_fraction': 0.47727622929670077, 'bagging_freq': 1, 'min_child_samples': 17, 'max_depth': 837}. Best is trial 205 with value: 0.8875892335648526.\u001b[0m\n",
      "\u001b[32m[I 2022-06-21 16:11:37,199]\u001b[0m Trial 284 finished with value: 0.8774138202483792 and parameters: {'lambda_l1': 0.00038675925633298633, 'lambda_l2': 3.7482767062044854e-05, 'num_leaves': 73, 'feature_fraction': 0.468304919625401, 'bagging_fraction': 0.47680076351763423, 'bagging_freq': 1, 'min_child_samples': 16, 'max_depth': 835}. Best is trial 205 with value: 0.8875892335648526.\u001b[0m\n",
      "\u001b[32m[I 2022-06-21 16:11:44,079]\u001b[0m Trial 285 finished with value: 0.8697878054178365 and parameters: {'lambda_l1': 0.0002681757252036053, 'lambda_l2': 3.125912992673843e-05, 'num_leaves': 67, 'feature_fraction': 0.45434410392866226, 'bagging_fraction': 0.7336109272740292, 'bagging_freq': 1, 'min_child_samples': 21, 'max_depth': 878}. Best is trial 205 with value: 0.8875892335648526.\u001b[0m\n",
      "\u001b[32m[I 2022-06-21 16:11:49,729]\u001b[0m Trial 286 finished with value: 0.883573983700338 and parameters: {'lambda_l1': 0.00010076361164467505, 'lambda_l2': 6.194173155621828e-05, 'num_leaves': 76, 'feature_fraction': 0.43815550385564067, 'bagging_fraction': 0.4494679964679884, 'bagging_freq': 1, 'min_child_samples': 17, 'max_depth': 853}. Best is trial 205 with value: 0.8875892335648526.\u001b[0m\n",
      "\u001b[32m[I 2022-06-21 16:11:56,163]\u001b[0m Trial 287 finished with value: 0.8792671667642644 and parameters: {'lambda_l1': 0.00010971068595662102, 'lambda_l2': 6.67107844436032e-05, 'num_leaves': 80, 'feature_fraction': 0.923046952792639, 'bagging_fraction': 0.40122703296668055, 'bagging_freq': 1, 'min_child_samples': 17, 'max_depth': 860}. Best is trial 205 with value: 0.8875892335648526.\u001b[0m\n",
      "\u001b[32m[I 2022-06-21 16:12:00,238]\u001b[0m Trial 288 finished with value: 0.8715169376117519 and parameters: {'lambda_l1': 0.0005885500496047563, 'lambda_l2': 4.652500661798979e-05, 'num_leaves': 74, 'feature_fraction': 0.4367080891603474, 'bagging_fraction': 0.436248703683131, 'bagging_freq': 1, 'min_child_samples': 23, 'max_depth': 906}. Best is trial 205 with value: 0.8875892335648526.\u001b[0m\n",
      "\u001b[32m[I 2022-06-21 16:12:05,810]\u001b[0m Trial 289 finished with value: 0.8787284986255576 and parameters: {'lambda_l1': 0.00022891405870171708, 'lambda_l2': 1.7800080459429357e-05, 'num_leaves': 64, 'feature_fraction': 0.43432296977802654, 'bagging_fraction': 0.45059477398581516, 'bagging_freq': 1, 'min_child_samples': 19, 'max_depth': 887}. Best is trial 205 with value: 0.8875892335648526.\u001b[0m\n",
      "\u001b[32m[I 2022-06-21 16:12:11,492]\u001b[0m Trial 290 finished with value: 0.8808221026049974 and parameters: {'lambda_l1': 0.0003319859841471779, 'lambda_l2': 9.237465900190004e-06, 'num_leaves': 73, 'feature_fraction': 0.44066187756970376, 'bagging_fraction': 0.4485018628743854, 'bagging_freq': 1, 'min_child_samples': 17, 'max_depth': 844}. Best is trial 205 with value: 0.8875892335648526.\u001b[0m\n",
      "\u001b[32m[I 2022-06-21 16:12:17,212]\u001b[0m Trial 291 finished with value: 0.8762243783478302 and parameters: {'lambda_l1': 0.0011589436622906504, 'lambda_l2': 8.281896421991208e-05, 'num_leaves': 69, 'feature_fraction': 0.4296839080735185, 'bagging_fraction': 0.46293543961166045, 'bagging_freq': 1, 'min_child_samples': 20, 'max_depth': 871}. Best is trial 205 with value: 0.8875892335648526.\u001b[0m\n",
      "\u001b[32m[I 2022-06-21 16:12:22,848]\u001b[0m Trial 292 finished with value: 0.8777816302204847 and parameters: {'lambda_l1': 0.00011685083046740797, 'lambda_l2': 1.67261093589411e-05, 'num_leaves': 79, 'feature_fraction': 0.42310416201110684, 'bagging_fraction': 0.4651004915751059, 'bagging_freq': 1, 'min_child_samples': 16, 'max_depth': 811}. Best is trial 205 with value: 0.8875892335648526.\u001b[0m\n",
      "\u001b[32m[I 2022-06-21 16:12:28,829]\u001b[0m Trial 293 finished with value: 0.8853774697524699 and parameters: {'lambda_l1': 0.000634703419861489, 'lambda_l2': 0.00011528874285384831, 'num_leaves': 61, 'feature_fraction': 0.4100116953990664, 'bagging_fraction': 0.4398850614948945, 'bagging_freq': 1, 'min_child_samples': 18, 'max_depth': 925}. Best is trial 205 with value: 0.8875892335648526.\u001b[0m\n",
      "\u001b[32m[I 2022-06-21 16:12:32,823]\u001b[0m Trial 294 finished with value: 0.8753957234500964 and parameters: {'lambda_l1': 0.0008017442074418499, 'lambda_l2': 5.325702470767941e-05, 'num_leaves': 58, 'feature_fraction': 0.40020057610993126, 'bagging_fraction': 0.4135954599167874, 'bagging_freq': 1, 'min_child_samples': 22, 'max_depth': 926}. Best is trial 205 with value: 0.8875892335648526.\u001b[0m\n",
      "\u001b[32m[I 2022-06-21 16:12:38,955]\u001b[0m Trial 295 finished with value: 0.8742310997610921 and parameters: {'lambda_l1': 8.643945592392648e-05, 'lambda_l2': 8.993320443973838e-05, 'num_leaves': 60, 'feature_fraction': 0.4119450749530311, 'bagging_fraction': 0.42642153146504364, 'bagging_freq': 1, 'min_child_samples': 13, 'max_depth': 911}. Best is trial 205 with value: 0.8875892335648526.\u001b[0m\n",
      "\u001b[32m[I 2022-06-21 16:12:44,769]\u001b[0m Trial 296 finished with value: 0.8755429355001725 and parameters: {'lambda_l1': 0.00019243615536418082, 'lambda_l2': 0.00014631972763365212, 'num_leaves': 47, 'feature_fraction': 0.4523603518424006, 'bagging_fraction': 0.4352777477316883, 'bagging_freq': 1, 'min_child_samples': 16, 'max_depth': 897}. Best is trial 205 with value: 0.8875892335648526.\u001b[0m\n",
      "\u001b[32m[I 2022-06-21 16:12:51,605]\u001b[0m Trial 297 finished with value: 0.8810024664662822 and parameters: {'lambda_l1': 0.0004178745658806498, 'lambda_l2': 4.272747383461015e-05, 'num_leaves': 83, 'feature_fraction': 0.43659881891354063, 'bagging_fraction': 0.4447580167950296, 'bagging_freq': 1, 'min_child_samples': 19, 'max_depth': 931}. Best is trial 205 with value: 0.8875892335648526.\u001b[0m\n",
      "\u001b[32m[I 2022-06-21 16:13:00,653]\u001b[0m Trial 298 finished with value: 0.8729632405777917 and parameters: {'lambda_l1': 0.0011974588425523484, 'lambda_l2': 2.6343067008753576e-05, 'num_leaves': 69, 'feature_fraction': 0.4086366136967806, 'bagging_fraction': 0.45430315972569596, 'bagging_freq': 1, 'min_child_samples': 12, 'max_depth': 947}. Best is trial 205 with value: 0.8875892335648526.\u001b[0m\n",
      "\u001b[32m[I 2022-06-21 16:13:02,924]\u001b[0m Trial 299 finished with value: 0.852437087014293 and parameters: {'lambda_l1': 0.00027452172931271803, 'lambda_l2': 0.0001113007815019778, 'num_leaves': 50, 'feature_fraction': 0.4259209911001322, 'bagging_fraction': 0.43145786136891773, 'bagging_freq': 1, 'min_child_samples': 15, 'max_depth': 161}. Best is trial 205 with value: 0.8875892335648526.\u001b[0m\n",
      "\u001b[32m[I 2022-06-21 16:13:09,296]\u001b[0m Trial 300 finished with value: 0.8852930844740056 and parameters: {'lambda_l1': 0.000634032254037815, 'lambda_l2': 7.040537192948786e-05, 'num_leaves': 58, 'feature_fraction': 0.4450275501560754, 'bagging_fraction': 0.477596837585332, 'bagging_freq': 1, 'min_child_samples': 21, 'max_depth': 852}. Best is trial 205 with value: 0.8875892335648526.\u001b[0m\n"
     ]
    },
    {
     "name": "stderr",
     "output_type": "stream",
     "text": [
      "\u001b[32m[I 2022-06-21 16:13:14,043]\u001b[0m Trial 301 finished with value: 0.7503147248133701 and parameters: {'lambda_l1': 5.603217840518412, 'lambda_l2': 5.95019568515795e-05, 'num_leaves': 58, 'feature_fraction': 0.41222325846603525, 'bagging_fraction': 0.45694835382837035, 'bagging_freq': 1, 'min_child_samples': 21, 'max_depth': 854}. Best is trial 205 with value: 0.8875892335648526.\u001b[0m\n",
      "\u001b[32m[I 2022-06-21 16:13:21,277]\u001b[0m Trial 302 finished with value: 0.8793519769703981 and parameters: {'lambda_l1': 0.0006734798875949753, 'lambda_l2': 0.00016359735937422642, 'num_leaves': 64, 'feature_fraction': 0.4470088739044536, 'bagging_fraction': 0.4741880028358359, 'bagging_freq': 1, 'min_child_samples': 17, 'max_depth': 842}. Best is trial 205 with value: 0.8875892335648526.\u001b[0m\n",
      "\u001b[32m[I 2022-06-21 16:13:25,599]\u001b[0m Trial 303 finished with value: 0.87073052233714 and parameters: {'lambda_l1': 0.0009466154013695218, 'lambda_l2': 7.288361966482836e-05, 'num_leaves': 70, 'feature_fraction': 0.41828557840121383, 'bagging_fraction': 0.44347249734533273, 'bagging_freq': 1, 'min_child_samples': 24, 'max_depth': 861}. Best is trial 205 with value: 0.8875892335648526.\u001b[0m\n",
      "\u001b[32m[I 2022-06-21 16:13:38,429]\u001b[0m Trial 304 finished with value: 0.8804468679755059 and parameters: {'lambda_l1': 0.0005518096583003228, 'lambda_l2': 0.00018428708387179096, 'num_leaves': 54, 'feature_fraction': 0.47484432830107504, 'bagging_fraction': 0.464838969578954, 'bagging_freq': 1, 'min_child_samples': 14, 'max_depth': 834}. Best is trial 205 with value: 0.8875892335648526.\u001b[0m\n",
      "\u001b[32m[I 2022-06-21 16:13:41,816]\u001b[0m Trial 305 finished with value: 0.5 and parameters: {'lambda_l1': 0.0016966594391529975, 'lambda_l2': 2.7063005064111384e-05, 'num_leaves': 78, 'feature_fraction': 0.4364469151875219, 'bagging_fraction': 0.4803867607561113, 'bagging_freq': 7, 'min_child_samples': 47, 'max_depth': 885}. Best is trial 205 with value: 0.8875892335648526.\u001b[0m\n",
      "\u001b[32m[I 2022-06-21 16:13:48,544]\u001b[0m Trial 306 finished with value: 0.8808102638675395 and parameters: {'lambda_l1': 0.00041637005353481395, 'lambda_l2': 0.00020745669233225274, 'num_leaves': 60, 'feature_fraction': 0.42671857761775545, 'bagging_fraction': 0.4514937060017032, 'bagging_freq': 1, 'min_child_samples': 18, 'max_depth': 817}. Best is trial 205 with value: 0.8875892335648526.\u001b[0m\n",
      "\u001b[32m[I 2022-06-21 16:13:54,897]\u001b[0m Trial 307 finished with value: 0.8778773448773448 and parameters: {'lambda_l1': 0.00015914372115281443, 'lambda_l2': 0.00010752200373653005, 'num_leaves': 65, 'feature_fraction': 0.40037130094403584, 'bagging_fraction': 0.4677499653746717, 'bagging_freq': 1, 'min_child_samples': 16, 'max_depth': 876}. Best is trial 205 with value: 0.8875892335648526.\u001b[0m\n",
      "\u001b[32m[I 2022-06-21 16:14:00,828]\u001b[0m Trial 308 finished with value: 0.879329604520007 and parameters: {'lambda_l1': 0.0007703714492688853, 'lambda_l2': 0.00023774233368377537, 'num_leaves': 114, 'feature_fraction': 0.44431849668323337, 'bagging_fraction': 0.48279683723841077, 'bagging_freq': 1, 'min_child_samples': 21, 'max_depth': 849}. Best is trial 205 with value: 0.8875892335648526.\u001b[0m\n",
      "\u001b[32m[I 2022-06-21 16:14:06,985]\u001b[0m Trial 309 finished with value: 0.8752411463880118 and parameters: {'lambda_l1': 8.016517365878191e-05, 'lambda_l2': 4.8484252305764475e-05, 'num_leaves': 55, 'feature_fraction': 0.4137104932362407, 'bagging_fraction': 0.4272552697607581, 'bagging_freq': 1, 'min_child_samples': 12, 'max_depth': 829}. Best is trial 205 with value: 0.8875892335648526.\u001b[0m\n",
      "\u001b[32m[I 2022-06-21 16:14:12,756]\u001b[0m Trial 310 finished with value: 0.885191292561068 and parameters: {'lambda_l1': 0.0025248331575766308, 'lambda_l2': 0.00011634818858525485, 'num_leaves': 45, 'feature_fraction': 0.43069223848753463, 'bagging_fraction': 0.4621377476112864, 'bagging_freq': 1, 'min_child_samples': 18, 'max_depth': 805}. Best is trial 205 with value: 0.8875892335648526.\u001b[0m\n",
      "\u001b[32m[I 2022-06-21 16:14:18,242]\u001b[0m Trial 311 finished with value: 0.8773582173545408 and parameters: {'lambda_l1': 0.004098638960933179, 'lambda_l2': 7.131117315873691e-05, 'num_leaves': 44, 'feature_fraction': 0.46281229328492024, 'bagging_fraction': 0.47566428840015407, 'bagging_freq': 1, 'min_child_samples': 20, 'max_depth': 783}. Best is trial 205 with value: 0.8875892335648526.\u001b[0m\n",
      "\u001b[32m[I 2022-06-21 16:14:24,057]\u001b[0m Trial 312 finished with value: 0.8815892587589568 and parameters: {'lambda_l1': 0.0028637342673617427, 'lambda_l2': 0.00011129175599301236, 'num_leaves': 36, 'feature_fraction': 0.4101656750658599, 'bagging_fraction': 0.4665461054497831, 'bagging_freq': 1, 'min_child_samples': 18, 'max_depth': 807}. Best is trial 205 with value: 0.8875892335648526.\u001b[0m\n",
      "\u001b[32m[I 2022-06-21 16:14:30,597]\u001b[0m Trial 313 finished with value: 0.8280033903145357 and parameters: {'lambda_l1': 0.005221505639692415, 'lambda_l2': 0.00015057510646367085, 'num_leaves': 47, 'feature_fraction': 0.4238278011948115, 'bagging_fraction': 0.9571955906679233, 'bagging_freq': 5, 'min_child_samples': 18, 'max_depth': 815}. Best is trial 205 with value: 0.8875892335648526.\u001b[0m\n",
      "\u001b[32m[I 2022-06-21 16:14:36,761]\u001b[0m Trial 314 finished with value: 0.8777832018772419 and parameters: {'lambda_l1': 0.002442798191133749, 'lambda_l2': 7.859488609873158e-05, 'num_leaves': 40, 'feature_fraction': 0.43875994171543053, 'bagging_fraction': 0.48095416824069, 'bagging_freq': 1, 'min_child_samples': 20, 'max_depth': 956}. Best is trial 205 with value: 0.8875892335648526.\u001b[0m\n",
      "\u001b[32m[I 2022-06-21 16:14:41,721]\u001b[0m Trial 315 finished with value: 0.8746540085731263 and parameters: {'lambda_l1': 0.0013691452165303258, 'lambda_l2': 0.0002099825362901382, 'num_leaves': 86, 'feature_fraction': 0.4197896423524732, 'bagging_fraction': 0.4577960326835508, 'bagging_freq': 1, 'min_child_samples': 22, 'max_depth': 796}. Best is trial 205 with value: 0.8875892335648526.\u001b[0m\n",
      "\u001b[32m[I 2022-06-21 16:14:48,790]\u001b[0m Trial 316 finished with value: 0.8781825091618048 and parameters: {'lambda_l1': 0.0018822772514161669, 'lambda_l2': 3.707996051401084e-05, 'num_leaves': 76, 'feature_fraction': 0.44717657999382665, 'bagging_fraction': 0.4872173153265048, 'bagging_freq': 1, 'min_child_samples': 16, 'max_depth': 779}. Best is trial 205 with value: 0.8875892335648526.\u001b[0m\n",
      "\u001b[32m[I 2022-06-21 16:14:55,440]\u001b[0m Trial 317 finished with value: 0.8807910285019419 and parameters: {'lambda_l1': 0.001073333127148092, 'lambda_l2': 0.00014780527212696938, 'num_leaves': 59, 'feature_fraction': 0.4004458243003222, 'bagging_fraction': 0.44324356843101836, 'bagging_freq': 1, 'min_child_samples': 17, 'max_depth': 872}. Best is trial 205 with value: 0.8875892335648526.\u001b[0m\n",
      "\u001b[32m[I 2022-06-21 16:15:04,973]\u001b[0m Trial 318 finished with value: 0.8759055415473759 and parameters: {'lambda_l1': 0.0003535209959931256, 'lambda_l2': 0.00010980359168115072, 'num_leaves': 44, 'feature_fraction': 0.9636720606143954, 'bagging_fraction': 0.4723849436033537, 'bagging_freq': 1, 'min_child_samples': 14, 'max_depth': 976}. Best is trial 205 with value: 0.8875892335648526.\u001b[0m\n",
      "\u001b[32m[I 2022-06-21 16:15:10,956]\u001b[0m Trial 319 finished with value: 0.8731877161795893 and parameters: {'lambda_l1': 0.01627695895928008, 'lambda_l2': 0.0002955570654414517, 'num_leaves': 19, 'feature_fraction': 0.43133049272888974, 'bagging_fraction': 0.46099783080648443, 'bagging_freq': 1, 'min_child_samples': 19, 'max_depth': 895}. Best is trial 205 with value: 0.8875892335648526.\u001b[0m\n",
      "\u001b[32m[I 2022-06-21 16:15:17,142]\u001b[0m Trial 320 finished with value: 0.8767741081373046 and parameters: {'lambda_l1': 0.00011828697471072919, 'lambda_l2': 0.00028091034092820325, 'num_leaves': 70, 'feature_fraction': 0.41109356560203586, 'bagging_fraction': 0.6913058882454821, 'bagging_freq': 1, 'min_child_samples': 25, 'max_depth': 826}. Best is trial 205 with value: 0.8875892335648526.\u001b[0m\n",
      "\u001b[32m[I 2022-06-21 16:15:24,405]\u001b[0m Trial 321 finished with value: 0.8703827476702863 and parameters: {'lambda_l1': 5.520334076478113e-05, 'lambda_l2': 0.00019230330933048267, 'num_leaves': 52, 'feature_fraction': 0.4546329339440046, 'bagging_fraction': 0.48809315123537167, 'bagging_freq': 1, 'min_child_samples': 10, 'max_depth': 857}. Best is trial 205 with value: 0.8875892335648526.\u001b[0m\n"
     ]
    },
    {
     "name": "stderr",
     "output_type": "stream",
     "text": [
      "\u001b[32m[I 2022-06-21 16:15:30,380]\u001b[0m Trial 322 finished with value: 0.877102992187551 and parameters: {'lambda_l1': 0.00021161098629754184, 'lambda_l2': 5.459875504170399e-05, 'num_leaves': 32, 'feature_fraction': 0.43001712110296036, 'bagging_fraction': 0.41699260712404074, 'bagging_freq': 1, 'min_child_samples': 15, 'max_depth': 800}. Best is trial 205 with value: 0.8875892335648526.\u001b[0m\n",
      "\u001b[32m[I 2022-06-21 16:15:38,801]\u001b[0m Trial 323 finished with value: 0.8750193734928642 and parameters: {'lambda_l1': 0.010161088159903468, 'lambda_l2': 0.0001236393311967647, 'num_leaves': 128, 'feature_fraction': 0.41408207827958077, 'bagging_fraction': 0.6555982299850718, 'bagging_freq': 1, 'min_child_samples': 23, 'max_depth': 939}. Best is trial 205 with value: 0.8875892335648526.\u001b[0m\n",
      "\u001b[32m[I 2022-06-21 16:15:45,114]\u001b[0m Trial 324 finished with value: 0.8804045240749961 and parameters: {'lambda_l1': 0.000690698350505699, 'lambda_l2': 1.1885449455683662e-05, 'num_leaves': 62, 'feature_fraction': 0.44449571196296056, 'bagging_fraction': 0.4549448305646438, 'bagging_freq': 1, 'min_child_samples': 18, 'max_depth': 839}. Best is trial 205 with value: 0.8875892335648526.\u001b[0m\n",
      "\u001b[32m[I 2022-06-21 16:15:47,358]\u001b[0m Trial 325 finished with value: 0.5 and parameters: {'lambda_l1': 0.0001389734153983912, 'lambda_l2': 0.00037043649441302715, 'num_leaves': 46, 'feature_fraction': 0.40016965725015446, 'bagging_fraction': 0.47587745248368074, 'bagging_freq': 1, 'min_child_samples': 41, 'max_depth': 754}. Best is trial 205 with value: 0.8875892335648526.\u001b[0m\n",
      "\u001b[32m[I 2022-06-21 16:15:54,964]\u001b[0m Trial 326 finished with value: 0.87856761128878 and parameters: {'lambda_l1': 0.0011484617535886328, 'lambda_l2': 0.0002124389773215668, 'num_leaves': 38, 'feature_fraction': 0.42144033715054224, 'bagging_fraction': 0.44119594471395174, 'bagging_freq': 1, 'min_child_samples': 13, 'max_depth': 965}. Best is trial 205 with value: 0.8875892335648526.\u001b[0m\n",
      "\u001b[32m[I 2022-06-21 16:16:01,709]\u001b[0m Trial 327 finished with value: 0.8811326657303826 and parameters: {'lambda_l1': 0.003291927425216267, 'lambda_l2': 8.59900042146939e-05, 'num_leaves': 68, 'feature_fraction': 0.4342834235814809, 'bagging_fraction': 0.5064881391120069, 'bagging_freq': 1, 'min_child_samples': 16, 'max_depth': 810}. Best is trial 205 with value: 0.8875892335648526.\u001b[0m\n",
      "\u001b[32m[I 2022-06-21 16:16:10,399]\u001b[0m Trial 328 finished with value: 0.8634811752789695 and parameters: {'lambda_l1': 0.00048515444707951253, 'lambda_l2': 0.00041145202998507007, 'num_leaves': 51, 'feature_fraction': 0.45718686542137643, 'bagging_fraction': 0.8039890396097727, 'bagging_freq': 1, 'min_child_samples': 20, 'max_depth': 920}. Best is trial 205 with value: 0.8875892335648526.\u001b[0m\n",
      "\u001b[32m[I 2022-06-21 16:16:18,974]\u001b[0m Trial 329 finished with value: 0.8775708270487682 and parameters: {'lambda_l1': 0.0018039189976514305, 'lambda_l2': 0.00015666771954467898, 'num_leaves': 235, 'feature_fraction': 0.42104607599551763, 'bagging_fraction': 0.4888799417509016, 'bagging_freq': 1, 'min_child_samples': 17, 'max_depth': 869}. Best is trial 205 with value: 0.8875892335648526.\u001b[0m\n",
      "\u001b[32m[I 2022-06-21 16:16:26,901]\u001b[0m Trial 330 finished with value: 0.8765347837147374 and parameters: {'lambda_l1': 0.00032369502373253046, 'lambda_l2': 0.00031996967630431417, 'num_leaves': 56, 'feature_fraction': 0.43863978138258536, 'bagging_fraction': 0.4633903432642836, 'bagging_freq': 1, 'min_child_samples': 14, 'max_depth': 825}. Best is trial 205 with value: 0.8875892335648526.\u001b[0m\n",
      "\u001b[32m[I 2022-06-21 16:16:32,290]\u001b[0m Trial 331 finished with value: 0.8806033153937566 and parameters: {'lambda_l1': 8.755079746634424e-05, 'lambda_l2': 7.17630067919159e-05, 'num_leaves': 28, 'feature_fraction': 0.41097040509700034, 'bagging_fraction': 0.46808352211926757, 'bagging_freq': 1, 'min_child_samples': 21, 'max_depth': 787}. Best is trial 205 with value: 0.8875892335648526.\u001b[0m\n",
      "\u001b[32m[I 2022-06-21 16:16:38,663]\u001b[0m Trial 332 finished with value: 0.8795020663461066 and parameters: {'lambda_l1': 0.0008403345731559131, 'lambda_l2': 3.718291394947035e-05, 'num_leaves': 44, 'feature_fraction': 0.4267291078891589, 'bagging_fraction': 0.4793804338022618, 'bagging_freq': 1, 'min_child_samples': 18, 'max_depth': 856}. Best is trial 205 with value: 0.8875892335648526.\u001b[0m\n",
      "\u001b[32m[I 2022-06-21 16:16:45,263]\u001b[0m Trial 333 finished with value: 0.8720151524172423 and parameters: {'lambda_l1': 0.00017548631022169662, 'lambda_l2': 0.00024660247501177526, 'num_leaves': 119, 'feature_fraction': 0.46892124129518653, 'bagging_fraction': 0.4511816682980543, 'bagging_freq': 1, 'min_child_samples': 15, 'max_depth': 906}. Best is trial 205 with value: 0.8875892335648526.\u001b[0m\n",
      "\u001b[32m[I 2022-06-21 16:16:52,582]\u001b[0m Trial 334 finished with value: 0.8745467438907844 and parameters: {'lambda_l1': 0.0005859143090812696, 'lambda_l2': 0.00012256002313357247, 'num_leaves': 64, 'feature_fraction': 0.44434202500796993, 'bagging_fraction': 0.4964001186421636, 'bagging_freq': 1, 'min_child_samples': 12, 'max_depth': 837}. Best is trial 205 with value: 0.8875892335648526.\u001b[0m\n",
      "\u001b[32m[I 2022-06-21 16:16:58,504]\u001b[0m Trial 335 finished with value: 0.8789122549277348 and parameters: {'lambda_l1': 4.22962361060922e-05, 'lambda_l2': 0.000490725941043275, 'num_leaves': 37, 'feature_fraction': 0.4095248224260192, 'bagging_fraction': 0.4342493177467099, 'bagging_freq': 1, 'min_child_samples': 19, 'max_depth': 889}. Best is trial 205 with value: 0.8875892335648526.\u001b[0m\n",
      "\u001b[32m[I 2022-06-21 16:17:04,311]\u001b[0m Trial 336 finished with value: 0.8778716721230265 and parameters: {'lambda_l1': 0.00025986064056086346, 'lambda_l2': 0.00017858461121437598, 'num_leaves': 73, 'feature_fraction': 0.4284101476316104, 'bagging_fraction': 0.4703203762574323, 'bagging_freq': 1, 'min_child_samples': 16, 'max_depth': 770}. Best is trial 205 with value: 0.8875892335648526.\u001b[0m\n",
      "\u001b[32m[I 2022-06-21 16:17:05,974]\u001b[0m Trial 337 finished with value: 0.5 and parameters: {'lambda_l1': 0.0012118815662278551, 'lambda_l2': 0.00035154673490769145, 'num_leaves': 247, 'feature_fraction': 0.4168946778104846, 'bagging_fraction': 0.4879633270403203, 'bagging_freq': 1, 'min_child_samples': 83, 'max_depth': 809}. Best is trial 205 with value: 0.8875892335648526.\u001b[0m\n",
      "\u001b[32m[I 2022-06-21 16:17:12,221]\u001b[0m Trial 338 finished with value: 0.878511776815376 and parameters: {'lambda_l1': 0.00040587485814036435, 'lambda_l2': 2.129347384063527e-05, 'num_leaves': 50, 'feature_fraction': 0.436467367822153, 'bagging_fraction': 0.5096104513809688, 'bagging_freq': 1, 'min_child_samples': 22, 'max_depth': 944}. Best is trial 205 with value: 0.8875892335648526.\u001b[0m\n",
      "\u001b[32m[I 2022-06-21 16:17:18,856]\u001b[0m Trial 339 finished with value: 0.8817002539943715 and parameters: {'lambda_l1': 7.277868793716364e-05, 'lambda_l2': 0.0006367400081065813, 'num_leaves': 58, 'feature_fraction': 0.4554245674951222, 'bagging_fraction': 0.4550693693680025, 'bagging_freq': 1, 'min_child_samples': 17, 'max_depth': 977}. Best is trial 205 with value: 0.8875892335648526.\u001b[0m\n",
      "\u001b[32m[I 2022-06-21 16:17:25,739]\u001b[0m Trial 340 finished with value: 0.880193803423099 and parameters: {'lambda_l1': 0.00211556561630407, 'lambda_l2': 8.504150470762414e-05, 'num_leaves': 41, 'feature_fraction': 0.40823783873478325, 'bagging_fraction': 0.47740349681083855, 'bagging_freq': 1, 'min_child_samples': 14, 'max_depth': 818}. Best is trial 205 with value: 0.8875892335648526.\u001b[0m\n",
      "\u001b[32m[I 2022-06-21 16:17:31,533]\u001b[0m Trial 341 finished with value: 0.8788722592551927 and parameters: {'lambda_l1': 0.0001333136862040763, 'lambda_l2': 4.794852668758304e-05, 'num_leaves': 137, 'feature_fraction': 0.4004926421979772, 'bagging_fraction': 0.4465959948814082, 'bagging_freq': 1, 'min_child_samples': 20, 'max_depth': 847}. Best is trial 205 with value: 0.8875892335648526.\u001b[0m\n",
      "\u001b[32m[I 2022-06-21 16:17:39,216]\u001b[0m Trial 342 finished with value: 0.8686280880067646 and parameters: {'lambda_l1': 0.0007631161806780937, 'lambda_l2': 0.0002306633968967275, 'num_leaves': 65, 'feature_fraction': 0.42321858364306447, 'bagging_fraction': 0.4984531933725337, 'bagging_freq': 1, 'min_child_samples': 10, 'max_depth': 796}. Best is trial 205 with value: 0.8875892335648526.\u001b[0m\n"
     ]
    },
    {
     "name": "stderr",
     "output_type": "stream",
     "text": [
      "\u001b[32m[I 2022-06-21 16:17:45,697]\u001b[0m Trial 343 finished with value: 0.8792206098639922 and parameters: {'lambda_l1': 0.00025139619676091683, 'lambda_l2': 0.00012141495584990056, 'num_leaves': 48, 'feature_fraction': 0.44248270994299166, 'bagging_fraction': 0.4644963807042366, 'bagging_freq': 1, 'min_child_samples': 18, 'max_depth': 960}. Best is trial 205 with value: 0.8875892335648526.\u001b[0m\n",
      "\u001b[32m[I 2022-06-21 16:17:52,446]\u001b[0m Trial 344 finished with value: 0.8845537459831191 and parameters: {'lambda_l1': 0.0004285779292180835, 'lambda_l2': 0.00044051611447943294, 'num_leaves': 55, 'feature_fraction': 0.4327126989943394, 'bagging_fraction': 0.48579625296872425, 'bagging_freq': 1, 'min_child_samples': 16, 'max_depth': 875}. Best is trial 205 with value: 0.8875892335648526.\u001b[0m\n",
      "\u001b[32m[I 2022-06-21 16:18:01,332]\u001b[0m Trial 345 finished with value: 0.8810863409251568 and parameters: {'lambda_l1': 0.0004911088386517125, 'lambda_l2': 0.000789185838839328, 'num_leaves': 55, 'feature_fraction': 0.7174920136673435, 'bagging_fraction': 0.4607302677933288, 'bagging_freq': 1, 'min_child_samples': 13, 'max_depth': 880}. Best is trial 205 with value: 0.8875892335648526.\u001b[0m\n",
      "\u001b[32m[I 2022-06-21 16:18:08,410]\u001b[0m Trial 346 finished with value: 0.8802358824740791 and parameters: {'lambda_l1': 0.0009014671830967268, 'lambda_l2': 0.00047377171648571684, 'num_leaves': 61, 'feature_fraction': 0.42308408744600556, 'bagging_fraction': 0.4797541594264407, 'bagging_freq': 1, 'min_child_samples': 15, 'max_depth': 909}. Best is trial 205 with value: 0.8875892335648526.\u001b[0m\n",
      "\u001b[32m[I 2022-06-21 16:18:16,151]\u001b[0m Trial 347 finished with value: 0.8631243618352752 and parameters: {'lambda_l1': 0.00035823557507688817, 'lambda_l2': 0.000374073339755451, 'num_leaves': 53, 'feature_fraction': 0.4173518369809525, 'bagging_fraction': 0.4848258210815561, 'bagging_freq': 1, 'min_child_samples': 8, 'max_depth': 930}. Best is trial 205 with value: 0.8875892335648526.\u001b[0m\n",
      "\u001b[32m[I 2022-06-21 16:18:21,504]\u001b[0m Trial 348 finished with value: 0.8545190091770973 and parameters: {'lambda_l1': 0.978125230073315, 'lambda_l2': 0.0006388576733396195, 'num_leaves': 45, 'feature_fraction': 0.43230132338569816, 'bagging_fraction': 0.4336056546819403, 'bagging_freq': 1, 'min_child_samples': 16, 'max_depth': 866}. Best is trial 205 with value: 0.8875892335648526.\u001b[0m\n",
      "\u001b[32m[I 2022-06-21 16:18:29,036]\u001b[0m Trial 349 finished with value: 0.8726203840878763 and parameters: {'lambda_l1': 0.0006015002676152823, 'lambda_l2': 5.700968582230088e-05, 'num_leaves': 59, 'feature_fraction': 0.45181347048841536, 'bagging_fraction': 0.4712717566437071, 'bagging_freq': 1, 'min_child_samples': 12, 'max_depth': 892}. Best is trial 205 with value: 0.8875892335648526.\u001b[0m\n",
      "\u001b[32m[I 2022-06-21 16:18:36,470]\u001b[0m Trial 350 finished with value: 0.8768253645649158 and parameters: {'lambda_l1': 0.0014382693082319279, 'lambda_l2': 0.00016035624509743473, 'num_leaves': 67, 'feature_fraction': 0.6332940094807987, 'bagging_fraction': 0.44852708325659657, 'bagging_freq': 1, 'min_child_samples': 16, 'max_depth': 850}. Best is trial 205 with value: 0.8875892335648526.\u001b[0m\n",
      "\u001b[32m[I 2022-06-21 16:18:41,560]\u001b[0m Trial 351 finished with value: 0.8774947136197135 and parameters: {'lambda_l1': 0.0003706408227608496, 'lambda_l2': 0.0010878230147718041, 'num_leaves': 76, 'feature_fraction': 0.40065087645587516, 'bagging_fraction': 0.42221034301080385, 'bagging_freq': 1, 'min_child_samples': 20, 'max_depth': 825}. Best is trial 205 with value: 0.8875892335648526.\u001b[0m\n",
      "\u001b[32m[I 2022-06-21 16:18:48,514]\u001b[0m Trial 352 finished with value: 0.8796596249682551 and parameters: {'lambda_l1': 0.0006274047848776313, 'lambda_l2': 2.9342522614120638e-05, 'num_leaves': 51, 'feature_fraction': 0.41358569968393866, 'bagging_fraction': 0.4571512674125479, 'bagging_freq': 1, 'min_child_samples': 13, 'max_depth': 917}. Best is trial 205 with value: 0.8875892335648526.\u001b[0m\n",
      "\u001b[32m[I 2022-06-21 16:18:54,701]\u001b[0m Trial 353 finished with value: 0.8806021599874155 and parameters: {'lambda_l1': 0.001079559361985797, 'lambda_l2': 0.00027920616309500744, 'num_leaves': 84, 'feature_fraction': 0.438493899287518, 'bagging_fraction': 0.4877296250788147, 'bagging_freq': 1, 'min_child_samples': 18, 'max_depth': 776}. Best is trial 205 with value: 0.8875892335648526.\u001b[0m\n",
      "\u001b[32m[I 2022-06-21 16:19:02,403]\u001b[0m Trial 354 finished with value: 0.8730932517130274 and parameters: {'lambda_l1': 0.00021398793184311042, 'lambda_l2': 0.5368470876871401, 'num_leaves': 57, 'feature_fraction': 0.42709719534603785, 'bagging_fraction': 0.47641555388610385, 'bagging_freq': 1, 'min_child_samples': 15, 'max_depth': 866}. Best is trial 205 with value: 0.8875892335648526.\u001b[0m\n",
      "\u001b[32m[I 2022-06-21 16:19:09,296]\u001b[0m Trial 355 finished with value: 0.876712056218635 and parameters: {'lambda_l1': 0.0022318914113349368, 'lambda_l2': 8.068377397179188e-05, 'num_leaves': 41, 'feature_fraction': 0.472630378716444, 'bagging_fraction': 0.46591270483096203, 'bagging_freq': 1, 'min_child_samples': 17, 'max_depth': 946}. Best is trial 205 with value: 0.8875892335648526.\u001b[0m\n",
      "\u001b[32m[I 2022-06-21 16:19:13,350]\u001b[0m Trial 356 finished with value: 0.8699468832680906 and parameters: {'lambda_l1': 0.000478946254270955, 'lambda_l2': 0.0005087348527718503, 'num_leaves': 32, 'feature_fraction': 0.44729607984943365, 'bagging_fraction': 0.44298971173377966, 'bagging_freq': 1, 'min_child_samples': 23, 'max_depth': 741}. Best is trial 205 with value: 0.8875892335648526.\u001b[0m\n",
      "\u001b[32m[I 2022-06-21 16:19:22,580]\u001b[0m Trial 357 finished with value: 0.8403258417494098 and parameters: {'lambda_l1': 0.00029065039866692325, 'lambda_l2': 0.00019445308028974526, 'num_leaves': 64, 'feature_fraction': 0.4630330305182354, 'bagging_fraction': 0.8608391202478257, 'bagging_freq': 1, 'min_child_samples': 11, 'max_depth': 981}. Best is trial 205 with value: 0.8875892335648526.\u001b[0m\n",
      "\u001b[32m[I 2022-06-21 16:19:28,572]\u001b[0m Trial 358 finished with value: 0.8769534450327794 and parameters: {'lambda_l1': 0.00423767246547407, 'lambda_l2': 0.00010403470448050403, 'num_leaves': 47, 'feature_fraction': 0.41282026092781443, 'bagging_fraction': 0.49743078883246145, 'bagging_freq': 1, 'min_child_samples': 19, 'max_depth': 800}. Best is trial 205 with value: 0.8875892335648526.\u001b[0m\n",
      "\u001b[32m[I 2022-06-21 16:19:36,037]\u001b[0m Trial 359 finished with value: 0.8790225813702982 and parameters: {'lambda_l1': 0.0008827828723804753, 'lambda_l2': 0.0007551649911365246, 'num_leaves': 72, 'feature_fraction': 0.42770463746221443, 'bagging_fraction': 0.46198280834615635, 'bagging_freq': 1, 'min_child_samples': 14, 'max_depth': 893}. Best is trial 205 with value: 0.8875892335648526.\u001b[0m\n",
      "\u001b[32m[I 2022-06-21 16:19:41,819]\u001b[0m Trial 360 finished with value: 0.8828322433285668 and parameters: {'lambda_l1': 0.0006165989616419828, 'lambda_l2': 0.000340859677541915, 'num_leaves': 37, 'feature_fraction': 0.4193040476189151, 'bagging_fraction': 0.481938466410783, 'bagging_freq': 1, 'min_child_samples': 21, 'max_depth': 833}. Best is trial 205 with value: 0.8875892335648526.\u001b[0m\n",
      "\u001b[32m[I 2022-06-21 16:19:48,766]\u001b[0m Trial 361 finished with value: 0.879298017342135 and parameters: {'lambda_l1': 0.0014855193873775509, 'lambda_l2': 0.0001404608902741278, 'num_leaves': 53, 'feature_fraction': 0.4370504717409752, 'bagging_fraction': 0.5098855898942798, 'bagging_freq': 1, 'min_child_samples': 17, 'max_depth': 882}. Best is trial 205 with value: 0.8875892335648526.\u001b[0m\n",
      "\u001b[32m[I 2022-06-21 16:19:55,850]\u001b[0m Trial 362 finished with value: 0.8870777828123029 and parameters: {'lambda_l1': 0.00018737902253480133, 'lambda_l2': 0.00022099039534656458, 'num_leaves': 61, 'feature_fraction': 0.40793913523367736, 'bagging_fraction': 0.47137040943122477, 'bagging_freq': 1, 'min_child_samples': 15, 'max_depth': 811}. Best is trial 205 with value: 0.8875892335648526.\u001b[0m\n",
      "\u001b[32m[I 2022-06-21 16:20:02,194]\u001b[0m Trial 363 finished with value: 0.8775893472068007 and parameters: {'lambda_l1': 0.07781473614410418, 'lambda_l2': 0.00042924663173077635, 'num_leaves': 24, 'feature_fraction': 0.4000120189314651, 'bagging_fraction': 0.4912921154339146, 'bagging_freq': 1, 'min_child_samples': 14, 'max_depth': 809}. Best is trial 205 with value: 0.8875892335648526.\u001b[0m\n"
     ]
    },
    {
     "name": "stderr",
     "output_type": "stream",
     "text": [
      "\u001b[32m[I 2022-06-21 16:20:08,687]\u001b[0m Trial 364 finished with value: 0.875883331516265 and parameters: {'lambda_l1': 0.00019884490660158427, 'lambda_l2': 0.0002470395159626294, 'num_leaves': 58, 'feature_fraction': 0.41100059906565123, 'bagging_fraction': 0.476498026460706, 'bagging_freq': 1, 'min_child_samples': 11, 'max_depth': 784}. Best is trial 205 with value: 0.8875892335648526.\u001b[0m\n",
      "\u001b[32m[I 2022-06-21 16:20:14,564]\u001b[0m Trial 365 finished with value: 0.879918400313137 and parameters: {'lambda_l1': 0.00013454609053031004, 'lambda_l2': 5.6620354241866604e-05, 'num_leaves': 16, 'feature_fraction': 0.409270173797347, 'bagging_fraction': 0.45216782502250086, 'bagging_freq': 1, 'min_child_samples': 15, 'max_depth': 823}. Best is trial 205 with value: 0.8875892335648526.\u001b[0m\n",
      "\u001b[32m[I 2022-06-21 16:20:21,049]\u001b[0m Trial 366 finished with value: 0.8764642722258822 and parameters: {'lambda_l1': 7.384321072874452e-05, 'lambda_l2': 0.0015007546871281786, 'num_leaves': 47, 'feature_fraction': 0.40014049305944005, 'bagging_fraction': 0.4083328791922809, 'bagging_freq': 1, 'min_child_samples': 13, 'max_depth': 846}. Best is trial 205 with value: 0.8875892335648526.\u001b[0m\n",
      "\u001b[32m[I 2022-06-21 16:20:26,844]\u001b[0m Trial 367 finished with value: 0.8810139392770974 and parameters: {'lambda_l1': 0.0002873086465036744, 'lambda_l2': 0.0005335129626443082, 'num_leaves': 52, 'feature_fraction': 0.41946693881988495, 'bagging_fraction': 0.4372736030545145, 'bagging_freq': 1, 'min_child_samples': 19, 'max_depth': 808}. Best is trial 205 with value: 0.8875892335648526.\u001b[0m\n",
      "\u001b[32m[I 2022-06-21 16:20:33,216]\u001b[0m Trial 368 finished with value: 0.8854307597931823 and parameters: {'lambda_l1': 0.00018702010931468606, 'lambda_l2': 0.00010732361095742403, 'num_leaves': 69, 'feature_fraction': 0.4220187979731072, 'bagging_fraction': 0.47002474234154784, 'bagging_freq': 1, 'min_child_samples': 16, 'max_depth': 793}. Best is trial 205 with value: 0.8875892335648526.\u001b[0m\n",
      "\u001b[32m[I 2022-06-21 16:20:39,297]\u001b[0m Trial 369 finished with value: 0.8790002071801608 and parameters: {'lambda_l1': 0.00021469051833172823, 'lambda_l2': 0.000148394400805293, 'num_leaves': 42, 'feature_fraction': 0.419746551103097, 'bagging_fraction': 0.49896201395324824, 'bagging_freq': 1, 'min_child_samples': 15, 'max_depth': 764}. Best is trial 205 with value: 0.8875892335648526.\u001b[0m\n",
      "\u001b[32m[I 2022-06-21 16:20:45,769]\u001b[0m Trial 370 finished with value: 0.8773395003474337 and parameters: {'lambda_l1': 0.00036729606225279437, 'lambda_l2': 0.0002877512348372765, 'num_leaves': 57, 'feature_fraction': 0.4098795783002995, 'bagging_fraction': 0.4716324355075071, 'bagging_freq': 1, 'min_child_samples': 13, 'max_depth': 768}. Best is trial 205 with value: 0.8875892335648526.\u001b[0m\n",
      "\u001b[32m[I 2022-06-21 16:20:52,274]\u001b[0m Trial 371 finished with value: 0.8740710005723551 and parameters: {'lambda_l1': 0.003065474006608259, 'lambda_l2': 0.0008573020547449039, 'num_leaves': 100, 'feature_fraction': 0.42319281400492564, 'bagging_fraction': 0.48810681460493566, 'bagging_freq': 1, 'min_child_samples': 16, 'max_depth': 798}. Best is trial 205 with value: 0.8875892335648526.\u001b[0m\n",
      "\u001b[32m[I 2022-06-21 16:20:58,945]\u001b[0m Trial 372 finished with value: 0.8713633385663186 and parameters: {'lambda_l1': 0.00017800279276986505, 'lambda_l2': 0.0002118310935759131, 'num_leaves': 67, 'feature_fraction': 0.410154344667831, 'bagging_fraction': 0.47093013058240046, 'bagging_freq': 1, 'min_child_samples': 10, 'max_depth': 791}. Best is trial 205 with value: 0.8875892335648526.\u001b[0m\n",
      "\u001b[32m[I 2022-06-21 16:21:04,640]\u001b[0m Trial 373 finished with value: 0.8781571319762109 and parameters: {'lambda_l1': 0.00032332497264292095, 'lambda_l2': 9.358743280108227e-05, 'num_leaves': 35, 'feature_fraction': 0.4292177320775824, 'bagging_fraction': 0.48554351450049094, 'bagging_freq': 1, 'min_child_samples': 19, 'max_depth': 779}. Best is trial 205 with value: 0.8875892335648526.\u001b[0m\n",
      "\u001b[32m[I 2022-06-21 16:21:06,024]\u001b[0m Trial 374 finished with value: 0.5 and parameters: {'lambda_l1': 0.0009870250335845072, 'lambda_l2': 0.0003819552556236897, 'num_leaves': 59, 'feature_fraction': 0.4496101294841032, 'bagging_fraction': 0.5094521193655567, 'bagging_freq': 6, 'min_child_samples': 72, 'max_depth': 749}. Best is trial 205 with value: 0.8875892335648526.\u001b[0m\n",
      "\u001b[32m[I 2022-06-21 16:21:12,038]\u001b[0m Trial 375 finished with value: 0.8843917530482932 and parameters: {'lambda_l1': 0.0004181110695081052, 'lambda_l2': 0.0001311941613756807, 'num_leaves': 50, 'feature_fraction': 0.41730688144197453, 'bagging_fraction': 0.4616107788642138, 'bagging_freq': 1, 'min_child_samples': 17, 'max_depth': 825}. Best is trial 205 with value: 0.8875892335648526.\u001b[0m\n",
      "\u001b[32m[I 2022-06-21 16:21:18,201]\u001b[0m Trial 376 finished with value: 0.8819210435032803 and parameters: {'lambda_l1': 0.00019513522253020095, 'lambda_l2': 0.00011301766116925793, 'num_leaves': 48, 'feature_fraction': 0.43358860078334743, 'bagging_fraction': 0.45898859330492414, 'bagging_freq': 1, 'min_child_samples': 15, 'max_depth': 830}. Best is trial 205 with value: 0.8875892335648526.\u001b[0m\n",
      "\u001b[32m[I 2022-06-21 16:21:25,785]\u001b[0m Trial 377 finished with value: 0.8744271880939837 and parameters: {'lambda_l1': 0.0004441192012191167, 'lambda_l2': 0.00015358371107099294, 'num_leaves': 42, 'feature_fraction': 0.42103542583222014, 'bagging_fraction': 0.4787271393429506, 'bagging_freq': 1, 'min_child_samples': 12, 'max_depth': 817}. Best is trial 205 with value: 0.8875892335648526.\u001b[0m\n",
      "\u001b[32m[I 2022-06-21 16:21:27,766]\u001b[0m Trial 378 finished with value: 0.5 and parameters: {'lambda_l1': 0.00012451155534786416, 'lambda_l2': 6.940504508515316e-05, 'num_leaves': 52, 'feature_fraction': 0.4468652429818394, 'bagging_fraction': 0.49390809948634545, 'bagging_freq': 1, 'min_child_samples': 78, 'max_depth': 835}. Best is trial 205 with value: 0.8875892335648526.\u001b[0m\n",
      "\u001b[32m[I 2022-06-21 16:21:29,841]\u001b[0m Trial 379 finished with value: 0.5 and parameters: {'lambda_l1': 0.0002570128324416459, 'lambda_l2': 0.00010479925443485045, 'num_leaves': 46, 'feature_fraction': 0.42947645250654454, 'bagging_fraction': 0.4597621089173519, 'bagging_freq': 1, 'min_child_samples': 93, 'max_depth': 866}. Best is trial 205 with value: 0.8875892335648526.\u001b[0m\n",
      "\u001b[32m[I 2022-06-21 16:21:37,685]\u001b[0m Trial 380 finished with value: 0.8808290801261002 and parameters: {'lambda_l1': 0.0003692924097895778, 'lambda_l2': 0.00018962521108617714, 'num_leaves': 29, 'feature_fraction': 0.8896107751268088, 'bagging_fraction': 0.47024769346057493, 'bagging_freq': 1, 'min_child_samples': 17, 'max_depth': 818}. Best is trial 205 with value: 0.8875892335648526.\u001b[0m\n",
      "\u001b[32m[I 2022-06-21 16:21:39,274]\u001b[0m Trial 381 finished with value: 0.5 and parameters: {'lambda_l1': 0.0005801856392746762, 'lambda_l2': 4.072292770596198e-05, 'num_leaves': 54, 'feature_fraction': 0.44121756186009226, 'bagging_fraction': 0.6328039190164634, 'bagging_freq': 1, 'min_child_samples': 63, 'max_depth': 792}. Best is trial 205 with value: 0.8875892335648526.\u001b[0m\n",
      "\u001b[32m[I 2022-06-21 16:21:45,285]\u001b[0m Trial 382 finished with value: 0.8745560224089636 and parameters: {'lambda_l1': 0.00013775320489467743, 'lambda_l2': 0.0006842518641262657, 'num_leaves': 37, 'feature_fraction': 0.4178756163864913, 'bagging_fraction': 0.4851146259536081, 'bagging_freq': 1, 'min_child_samples': 21, 'max_depth': 900}. Best is trial 205 with value: 0.8875892335648526.\u001b[0m\n",
      "\u001b[32m[I 2022-06-21 16:21:52,798]\u001b[0m Trial 383 finished with value: 0.8704203543489534 and parameters: {'lambda_l1': 0.0002574607852554477, 'lambda_l2': 0.00028600535613173406, 'num_leaves': 44, 'feature_fraction': 0.4575829901048177, 'bagging_fraction': 0.6745425503078943, 'bagging_freq': 1, 'min_child_samples': 14, 'max_depth': 846}. Best is trial 205 with value: 0.8875892335648526.\u001b[0m\n",
      "\u001b[32m[I 2022-06-21 16:22:04,608]\u001b[0m Trial 384 finished with value: 0.8531960319951807 and parameters: {'lambda_l1': 0.0017317600501424346, 'lambda_l2': 0.0010904422240692823, 'num_leaves': 62, 'feature_fraction': 0.41136076651881226, 'bagging_fraction': 0.5036639474697199, 'bagging_freq': 1, 'min_child_samples': 6, 'max_depth': 925}. Best is trial 205 with value: 0.8875892335648526.\u001b[0m\n",
      "\u001b[32m[I 2022-06-21 16:22:06,138]\u001b[0m Trial 385 finished with value: 0.5 and parameters: {'lambda_l1': 0.0004337813607871166, 'lambda_l2': 0.0001283610626932437, 'num_leaves': 50, 'feature_fraction': 0.4308216629977863, 'bagging_fraction': 0.44429187551294047, 'bagging_freq': 1, 'min_child_samples': 67, 'max_depth': 807}. Best is trial 205 with value: 0.8875892335648526.\u001b[0m\n"
     ]
    },
    {
     "name": "stderr",
     "output_type": "stream",
     "text": [
      "\u001b[32m[I 2022-06-21 16:22:12,544]\u001b[0m Trial 386 finished with value: 0.883656509726943 and parameters: {'lambda_l1': 0.000181595776294639, 'lambda_l2': 0.0019092578836145601, 'num_leaves': 56, 'feature_fraction': 0.4211667608003263, 'bagging_fraction': 0.4279847436764175, 'bagging_freq': 1, 'min_child_samples': 16, 'max_depth': 874}. Best is trial 205 with value: 0.8875892335648526.\u001b[0m\n",
      "\u001b[32m[I 2022-06-21 16:22:18,389]\u001b[0m Trial 387 finished with value: 0.881338209391228 and parameters: {'lambda_l1': 0.0007313084621190815, 'lambda_l2': 0.0004556784430267891, 'num_leaves': 40, 'feature_fraction': 0.444464470700347, 'bagging_fraction': 0.4568159741826754, 'bagging_freq': 1, 'min_child_samples': 19, 'max_depth': 832}. Best is trial 205 with value: 0.8875892335648526.\u001b[0m\n",
      "\u001b[32m[I 2022-06-21 16:22:24,878]\u001b[0m Trial 388 finished with value: 0.8744881692954448 and parameters: {'lambda_l1': 0.0003194819220065898, 'lambda_l2': 8.429818829190951e-05, 'num_leaves': 110, 'feature_fraction': 0.4080555882574429, 'bagging_fraction': 0.5185377522279279, 'bagging_freq': 1, 'min_child_samples': 17, 'max_depth': 855}. Best is trial 205 with value: 0.8875892335648526.\u001b[0m\n",
      "\u001b[32m[I 2022-06-21 16:22:32,047]\u001b[0m Trial 389 finished with value: 0.8541475362657639 and parameters: {'lambda_l1': 0.0059191432258101865, 'lambda_l2': 0.0001500540792615881, 'num_leaves': 48, 'feature_fraction': 0.42920118920308326, 'bagging_fraction': 0.7171398510844562, 'bagging_freq': 1, 'min_child_samples': 12, 'max_depth': 785}. Best is trial 205 with value: 0.8875892335648526.\u001b[0m\n",
      "\u001b[32m[I 2022-06-21 16:22:39,819]\u001b[0m Trial 390 finished with value: 0.8684273885728995 and parameters: {'lambda_l1': 5.206170475578479e-05, 'lambda_l2': 5.384787986910341, 'num_leaves': 61, 'feature_fraction': 0.438122935403723, 'bagging_fraction': 0.4712177242958872, 'bagging_freq': 1, 'min_child_samples': 14, 'max_depth': 816}. Best is trial 205 with value: 0.8875892335648526.\u001b[0m\n",
      "\u001b[32m[I 2022-06-21 16:22:45,459]\u001b[0m Trial 391 finished with value: 0.8733470347162295 and parameters: {'lambda_l1': 9.341798551842434e-05, 'lambda_l2': 0.00022622954826865454, 'num_leaves': 54, 'feature_fraction': 0.6913998067542043, 'bagging_fraction': 0.49426361206320296, 'bagging_freq': 1, 'min_child_samples': 24, 'max_depth': 834}. Best is trial 205 with value: 0.8875892335648526.\u001b[0m\n",
      "\u001b[32m[I 2022-06-21 16:22:51,999]\u001b[0m Trial 392 finished with value: 0.8776500911369334 and parameters: {'lambda_l1': 0.001132172886391446, 'lambda_l2': 6.524363769227827e-06, 'num_leaves': 31, 'feature_fraction': 0.40022472104200246, 'bagging_fraction': 0.47913710334970494, 'bagging_freq': 1, 'min_child_samples': 20, 'max_depth': 910}. Best is trial 205 with value: 0.8875892335648526.\u001b[0m\n",
      "\u001b[32m[I 2022-06-21 16:22:58,012]\u001b[0m Trial 393 finished with value: 0.8784923844430423 and parameters: {'lambda_l1': 0.002691697760388432, 'lambda_l2': 2.4476968267564028e-08, 'num_leaves': 44, 'feature_fraction': 0.41946588668152884, 'bagging_fraction': 0.46243890761385853, 'bagging_freq': 1, 'min_child_samples': 16, 'max_depth': 800}. Best is trial 205 with value: 0.8875892335648526.\u001b[0m\n",
      "\u001b[32m[I 2022-06-21 16:23:04,311]\u001b[0m Trial 394 finished with value: 0.8801686598575145 and parameters: {'lambda_l1': 0.000435553481852553, 'lambda_l2': 0.0003544726062621205, 'num_leaves': 51, 'feature_fraction': 0.45331397457509015, 'bagging_fraction': 0.44868377803370557, 'bagging_freq': 1, 'min_child_samples': 18, 'max_depth': 859}. Best is trial 205 with value: 0.8875892335648526.\u001b[0m\n",
      "\u001b[32m[I 2022-06-21 16:23:12,290]\u001b[0m Trial 395 finished with value: 0.8744851137209885 and parameters: {'lambda_l1': 0.0005911189573725064, 'lambda_l2': 0.0006367798648163208, 'num_leaves': 61, 'feature_fraction': 0.47894435208526426, 'bagging_fraction': 0.48533472859876975, 'bagging_freq': 1, 'min_child_samples': 15, 'max_depth': 934}. Best is trial 205 with value: 0.8875892335648526.\u001b[0m\n",
      "\u001b[32m[I 2022-06-21 16:23:14,389]\u001b[0m Trial 396 finished with value: 0.5 and parameters: {'lambda_l1': 0.00019894845834239679, 'lambda_l2': 0.0002191920995579817, 'num_leaves': 35, 'feature_fraction': 0.4327657887028369, 'bagging_fraction': 0.4373464892233532, 'bagging_freq': 1, 'min_child_samples': 37, 'max_depth': 877}. Best is trial 205 with value: 0.8875892335648526.\u001b[0m\n",
      "\u001b[32m[I 2022-06-21 16:23:20,115]\u001b[0m Trial 397 finished with value: 0.8794137879019843 and parameters: {'lambda_l1': 0.0008706581102856903, 'lambda_l2': 8.652767084961869e-05, 'num_leaves': 66, 'feature_fraction': 0.7981197378254197, 'bagging_fraction': 0.46912036068470503, 'bagging_freq': 1, 'min_child_samples': 22, 'max_depth': 777}. Best is trial 205 with value: 0.8875892335648526.\u001b[0m\n",
      "\u001b[32m[I 2022-06-21 16:23:26,104]\u001b[0m Trial 398 finished with value: 0.8834168591771145 and parameters: {'lambda_l1': 0.00013149099097020924, 'lambda_l2': 1.468904221570359e-07, 'num_leaves': 55, 'feature_fraction': 0.4105527687359951, 'bagging_fraction': 0.5034959354099418, 'bagging_freq': 1, 'min_child_samples': 18, 'max_depth': 822}. Best is trial 205 with value: 0.8875892335648526.\u001b[0m\n",
      "\u001b[32m[I 2022-06-21 16:23:33,175]\u001b[0m Trial 399 finished with value: 0.8789403791512926 and parameters: {'lambda_l1': 0.0014664807384137167, 'lambda_l2': 0.00013663571039473923, 'num_leaves': 47, 'feature_fraction': 0.4222175452492538, 'bagging_fraction': 0.45586445182344587, 'bagging_freq': 1, 'min_child_samples': 13, 'max_depth': 843}. Best is trial 205 with value: 0.8875892335648526.\u001b[0m\n",
      "\u001b[32m[I 2022-06-21 16:23:40,799]\u001b[0m Trial 400 finished with value: 0.8693656182353938 and parameters: {'lambda_l1': 0.0003107196045787646, 'lambda_l2': 0.0009314352101893172, 'num_leaves': 26, 'feature_fraction': 0.43792459865450717, 'bagging_fraction': 0.47760926295477074, 'bagging_freq': 1, 'min_child_samples': 10, 'max_depth': 893}. Best is trial 205 with value: 0.8875892335648526.\u001b[0m\n",
      "\u001b[32m[I 2022-06-21 16:23:47,806]\u001b[0m Trial 401 finished with value: 0.8779732127392731 and parameters: {'lambda_l1': 0.0006903711574580085, 'lambda_l2': 0.0004399171821526151, 'num_leaves': 39, 'feature_fraction': 0.46111059730343035, 'bagging_fraction': 0.49354565950393225, 'bagging_freq': 1, 'min_child_samples': 16, 'max_depth': 810}. Best is trial 205 with value: 0.8875892335648526.\u001b[0m\n",
      "\u001b[32m[I 2022-06-21 16:23:54,150]\u001b[0m Trial 402 finished with value: 0.8804618393302605 and parameters: {'lambda_l1': 0.00046960652905553307, 'lambda_l2': 4.656186549127925e-05, 'num_leaves': 59, 'feature_fraction': 0.4128569223157005, 'bagging_fraction': 0.46667861727351206, 'bagging_freq': 1, 'min_child_samples': 20, 'max_depth': 952}. Best is trial 205 with value: 0.8875892335648526.\u001b[0m\n",
      "\u001b[32m[I 2022-06-21 16:23:59,341]\u001b[0m Trial 403 finished with value: 0.8809422761620905 and parameters: {'lambda_l1': 8.094167062588335e-05, 'lambda_l2': 0.00029350251910782005, 'num_leaves': 50, 'feature_fraction': 0.4477487651821753, 'bagging_fraction': 0.42322748852788944, 'bagging_freq': 1, 'min_child_samples': 18, 'max_depth': 733}. Best is trial 205 with value: 0.8875892335648526.\u001b[0m\n",
      "\u001b[32m[I 2022-06-21 16:24:05,566]\u001b[0m Trial 404 finished with value: 0.8758224916208665 and parameters: {'lambda_l1': 0.0002446632331227655, 'lambda_l2': 0.00021028875428998916, 'num_leaves': 43, 'feature_fraction': 0.42599708444017476, 'bagging_fraction': 0.4468381054196809, 'bagging_freq': 1, 'min_child_samples': 14, 'max_depth': 798}. Best is trial 205 with value: 0.8875892335648526.\u001b[0m\n",
      "\u001b[32m[I 2022-06-21 16:24:12,531]\u001b[0m Trial 405 finished with value: 0.8808278013695969 and parameters: {'lambda_l1': 0.0011265260918624214, 'lambda_l2': 0.00011151728793550062, 'num_leaves': 65, 'feature_fraction': 0.41025700044741054, 'bagging_fraction': 0.4831893251418621, 'bagging_freq': 1, 'min_child_samples': 16, 'max_depth': 912}. Best is trial 205 with value: 0.8875892335648526.\u001b[0m\n",
      "\u001b[32m[I 2022-06-21 16:24:20,145]\u001b[0m Trial 406 finished with value: 0.8569713839866704 and parameters: {'lambda_l1': 0.002185057018551582, 'lambda_l2': 1.8181817114867774e-05, 'num_leaves': 55, 'feature_fraction': 0.40117084212463844, 'bagging_fraction': 0.5119082184555782, 'bagging_freq': 1, 'min_child_samples': 8, 'max_depth': 755}. Best is trial 205 with value: 0.8875892335648526.\u001b[0m\n"
     ]
    },
    {
     "name": "stderr",
     "output_type": "stream",
     "text": [
      "\u001b[32m[I 2022-06-21 16:24:26,009]\u001b[0m Trial 407 finished with value: 0.8813093860903457 and parameters: {'lambda_l1': 0.0001559705119274011, 'lambda_l2': 2.912580296393889e-05, 'num_leaves': 49, 'feature_fraction': 0.43974907846349265, 'bagging_fraction': 0.47177724519081876, 'bagging_freq': 1, 'min_child_samples': 21, 'max_depth': 852}. Best is trial 205 with value: 0.8875892335648526.\u001b[0m\n",
      "\u001b[32m[I 2022-06-21 16:24:32,796]\u001b[0m Trial 408 finished with value: 0.8792980045625169 and parameters: {'lambda_l1': 0.00044716872487764734, 'lambda_l2': 0.0005414503718799589, 'num_leaves': 69, 'feature_fraction': 0.42329468521276276, 'bagging_fraction': 0.4609659155718737, 'bagging_freq': 1, 'min_child_samples': 12, 'max_depth': 825}. Best is trial 205 with value: 0.8875892335648526.\u001b[0m\n",
      "\u001b[32m[I 2022-06-21 16:24:39,460]\u001b[0m Trial 409 finished with value: 0.8780072399865355 and parameters: {'lambda_l1': 0.0002823710053549648, 'lambda_l2': 0.00018639433754600988, 'num_leaves': 33, 'feature_fraction': 0.43142987612145545, 'bagging_fraction': 0.5309526621853748, 'bagging_freq': 1, 'min_child_samples': 18, 'max_depth': 969}. Best is trial 205 with value: 0.8875892335648526.\u001b[0m\n",
      "\u001b[32m[I 2022-06-21 16:24:46,389]\u001b[0m Trial 410 finished with value: 0.8764485502028072 and parameters: {'lambda_l1': 0.0007290368364612555, 'lambda_l2': 7.446544718123743e-05, 'num_leaves': 60, 'feature_fraction': 0.41637055964684366, 'bagging_fraction': 0.49133690432207955, 'bagging_freq': 1, 'min_child_samples': 15, 'max_depth': 876}. Best is trial 205 with value: 0.8875892335648526.\u001b[0m\n",
      "\u001b[32m[I 2022-06-21 16:24:51,868]\u001b[0m Trial 411 finished with value: 0.8806520573939306 and parameters: {'lambda_l1': 0.003790014826358774, 'lambda_l2': 0.0003458184879363713, 'num_leaves': 40, 'feature_fraction': 0.46496314743554396, 'bagging_fraction': 0.45238328923604365, 'bagging_freq': 1, 'min_child_samples': 19, 'max_depth': 789}. Best is trial 205 with value: 0.8875892335648526.\u001b[0m\n",
      "\u001b[32m[I 2022-06-21 16:24:57,927]\u001b[0m Trial 412 finished with value: 0.8795379348893282 and parameters: {'lambda_l1': 0.009589329077057295, 'lambda_l2': 0.0011382589763919962, 'num_leaves': 45, 'feature_fraction': 0.4000678563528168, 'bagging_fraction': 0.4791819066874576, 'bagging_freq': 1, 'min_child_samples': 17, 'max_depth': 841}. Best is trial 205 with value: 0.8875892335648526.\u001b[0m\n",
      "\u001b[32m[I 2022-06-21 16:25:04,629]\u001b[0m Trial 413 finished with value: 0.8714847421670178 and parameters: {'lambda_l1': 3.734412823776136e-05, 'lambda_l2': 0.00015412194320398677, 'num_leaves': 54, 'feature_fraction': 0.4456123432514925, 'bagging_fraction': 0.5019263383295266, 'bagging_freq': 1, 'min_child_samples': 13, 'max_depth': 934}. Best is trial 205 with value: 0.8875892335648526.\u001b[0m\n",
      "\u001b[32m[I 2022-06-21 16:25:08,919]\u001b[0m Trial 414 finished with value: 0.8749041887335229 and parameters: {'lambda_l1': 0.00010762066486328836, 'lambda_l2': 0.0006211269552974306, 'num_leaves': 64, 'feature_fraction': 0.42901793475735933, 'bagging_fraction': 0.4388485337696113, 'bagging_freq': 1, 'min_child_samples': 22, 'max_depth': 771}. Best is trial 205 with value: 0.8875892335648526.\u001b[0m\n",
      "\u001b[32m[I 2022-06-21 16:25:14,864]\u001b[0m Trial 415 finished with value: 0.8801434692543438 and parameters: {'lambda_l1': 0.00018392106086014188, 'lambda_l2': 5.4220370782663544e-05, 'num_leaves': 57, 'feature_fraction': 0.4171789297601736, 'bagging_fraction': 0.46719515240602116, 'bagging_freq': 1, 'min_child_samples': 16, 'max_depth': 819}. Best is trial 205 with value: 0.8875892335648526.\u001b[0m\n",
      "\u001b[32m[I 2022-06-21 16:25:21,081]\u001b[0m Trial 416 finished with value: 0.8811007437050395 and parameters: {'lambda_l1': 0.00040478503284476375, 'lambda_l2': 0.00030875506662532, 'num_leaves': 50, 'feature_fraction': 0.43842051553410866, 'bagging_fraction': 0.48663626606079696, 'bagging_freq': 1, 'min_child_samples': 20, 'max_depth': 867}. Best is trial 205 with value: 0.8875892335648526.\u001b[0m\n",
      "\u001b[32m[I 2022-06-21 16:25:29,068]\u001b[0m Trial 417 finished with value: 0.8678716533509493 and parameters: {'lambda_l1': 0.0009876290157991628, 'lambda_l2': 1.1423711523231249e-06, 'num_leaves': 37, 'feature_fraction': 0.4532316631010022, 'bagging_fraction': 0.45186314456202903, 'bagging_freq': 1, 'min_child_samples': 11, 'max_depth': 984}. Best is trial 205 with value: 0.8875892335648526.\u001b[0m\n",
      "\u001b[32m[I 2022-06-21 16:25:35,772]\u001b[0m Trial 418 finished with value: 0.8791850139025064 and parameters: {'lambda_l1': 0.001806175169287196, 'lambda_l2': 0.00013370312371435003, 'num_leaves': 17, 'feature_fraction': 0.41247746914579675, 'bagging_fraction': 0.475370399024148, 'bagging_freq': 1, 'min_child_samples': 14, 'max_depth': 797}. Best is trial 205 with value: 0.8875892335648526.\u001b[0m\n",
      "\u001b[32m[I 2022-06-21 16:25:42,000]\u001b[0m Trial 419 finished with value: 0.8796137371400529 and parameters: {'lambda_l1': 6.484196338746401e-05, 'lambda_l2': 8.957881701103854e-05, 'num_leaves': 70, 'feature_fraction': 0.4198447831277333, 'bagging_fraction': 0.4629393824372233, 'bagging_freq': 1, 'min_child_samples': 17, 'max_depth': 894}. Best is trial 205 with value: 0.8875892335648526.\u001b[0m\n",
      "\u001b[32m[I 2022-06-21 16:25:48,408]\u001b[0m Trial 420 finished with value: 0.8811618402881947 and parameters: {'lambda_l1': 0.0006221959864306596, 'lambda_l2': 0.0016919074465217923, 'num_leaves': 43, 'feature_fraction': 0.43223937618640657, 'bagging_fraction': 0.5171536847007112, 'bagging_freq': 1, 'min_child_samples': 19, 'max_depth': 838}. Best is trial 205 with value: 0.8875892335648526.\u001b[0m\n",
      "\u001b[32m[I 2022-06-21 16:25:55,149]\u001b[0m Trial 421 finished with value: 0.8838901115009861 and parameters: {'lambda_l1': 0.0002599993719663137, 'lambda_l2': 0.00022731838945323977, 'num_leaves': 61, 'feature_fraction': 0.4005352890295174, 'bagging_fraction': 0.4348424926504378, 'bagging_freq': 1, 'min_child_samples': 15, 'max_depth': 1000}. Best is trial 205 with value: 0.8875892335648526.\u001b[0m\n",
      "\u001b[32m[I 2022-06-21 16:25:57,630]\u001b[0m Trial 422 finished with value: 0.5 and parameters: {'lambda_l1': 0.00028699033963026254, 'lambda_l2': 0.00048374619738091734, 'num_leaves': 62, 'feature_fraction': 0.44642769755944534, 'bagging_fraction': 0.4261001246422178, 'bagging_freq': 1, 'min_child_samples': 34, 'max_depth': 997}. Best is trial 205 with value: 0.8875892335648526.\u001b[0m\n",
      "\u001b[32m[I 2022-06-21 16:26:00,760]\u001b[0m Trial 423 finished with value: 0.8092397835437696 and parameters: {'lambda_l1': 0.00045848815929085, 'lambda_l2': 0.000828406673963955, 'num_leaves': 24, 'feature_fraction': 0.4249916008516473, 'bagging_fraction': 0.42980173440480274, 'bagging_freq': 1, 'min_child_samples': 27, 'max_depth': 982}. Best is trial 205 with value: 0.8875892335648526.\u001b[0m\n",
      "\u001b[32m[I 2022-06-21 16:26:04,939]\u001b[0m Trial 424 finished with value: 0.8755844980183215 and parameters: {'lambda_l1': 0.0002506200243969769, 'lambda_l2': 0.0002829396840642957, 'num_leaves': 51, 'feature_fraction': 0.6042215469200563, 'bagging_fraction': 0.436186497109093, 'bagging_freq': 2, 'min_child_samples': 25, 'max_depth': 1000}. Best is trial 205 with value: 0.8875892335648526.\u001b[0m\n",
      "\u001b[32m[I 2022-06-21 16:26:11,612]\u001b[0m Trial 425 finished with value: 0.8771068195220673 and parameters: {'lambda_l1': 0.0005826321815950946, 'lambda_l2': 0.00019224398887817556, 'num_leaves': 46, 'feature_fraction': 0.40986853466027656, 'bagging_fraction': 0.41661161820435944, 'bagging_freq': 5, 'min_child_samples': 15, 'max_depth': 958}. Best is trial 205 with value: 0.8875892335648526.\u001b[0m\n",
      "\u001b[32m[I 2022-06-21 16:26:18,102]\u001b[0m Trial 426 finished with value: 0.8836058201344578 and parameters: {'lambda_l1': 0.0011783387496054388, 'lambda_l2': 0.0004006639983699317, 'num_leaves': 66, 'feature_fraction': 0.43831159415955595, 'bagging_fraction': 0.40049723766762835, 'bagging_freq': 1, 'min_child_samples': 17, 'max_depth': 978}. Best is trial 205 with value: 0.8875892335648526.\u001b[0m\n",
      "\u001b[32m[I 2022-06-21 16:26:27,535]\u001b[0m Trial 427 finished with value: 0.8680399019839811 and parameters: {'lambda_l1': 0.00034938464012533306, 'lambda_l2': 9.954206102827017e-05, 'num_leaves': 105, 'feature_fraction': 0.4621861522428315, 'bagging_fraction': 0.44398373449796924, 'bagging_freq': 1, 'min_child_samples': 13, 'max_depth': 942}. Best is trial 205 with value: 0.8875892335648526.\u001b[0m\n"
     ]
    },
    {
     "name": "stderr",
     "output_type": "stream",
     "text": [
      "\u001b[32m[I 2022-06-21 16:26:33,766]\u001b[0m Trial 428 finished with value: 0.8760069154701506 and parameters: {'lambda_l1': 0.00018616897031614155, 'lambda_l2': 0.0006218108469178078, 'num_leaves': 31, 'feature_fraction': 0.4226192928663138, 'bagging_fraction': 0.4138852371770448, 'bagging_freq': 1, 'min_child_samples': 21, 'max_depth': 970}. Best is trial 205 with value: 0.8875892335648526.\u001b[0m\n",
      "\u001b[32m[I 2022-06-21 16:26:45,870]\u001b[0m Trial 429 finished with value: 0.865929099495276 and parameters: {'lambda_l1': 0.0007777179651516396, 'lambda_l2': 6.019226485390526e-05, 'num_leaves': 57, 'feature_fraction': 0.40902717870025423, 'bagging_fraction': 0.5001134908464107, 'bagging_freq': 7, 'min_child_samples': 19, 'max_depth': 921}. Best is trial 205 with value: 0.8875892335648526.\u001b[0m\n",
      "\u001b[32m[I 2022-06-21 16:26:54,027]\u001b[0m Trial 430 finished with value: 0.8804986571735798 and parameters: {'lambda_l1': 0.0003703804906812325, 'lambda_l2': 3.847506279793461e-05, 'num_leaves': 69, 'feature_fraction': 0.4305538433819509, 'bagging_fraction': 0.45242588040949333, 'bagging_freq': 1, 'min_child_samples': 23, 'max_depth': 965}. Best is trial 205 with value: 0.8875892335648526.\u001b[0m\n",
      "\u001b[32m[I 2022-06-21 16:26:55,715]\u001b[0m Trial 431 finished with value: 0.5 and parameters: {'lambda_l1': 0.0013220824326223499, 'lambda_l2': 0.00023135462468628588, 'num_leaves': 62, 'feature_fraction': 0.4490472100683542, 'bagging_fraction': 0.4379368909689436, 'bagging_freq': 1, 'min_child_samples': 53, 'max_depth': 198}. Best is trial 205 with value: 0.8875892335648526.\u001b[0m\n",
      "\u001b[32m[I 2022-06-21 16:27:03,884]\u001b[0m Trial 432 finished with value: 0.8840435662978233 and parameters: {'lambda_l1': 0.0025972191090686977, 'lambda_l2': 0.0009617180487357166, 'num_leaves': 41, 'feature_fraction': 0.4000131294754325, 'bagging_fraction': 0.4897822588625759, 'bagging_freq': 1, 'min_child_samples': 16, 'max_depth': 884}. Best is trial 205 with value: 0.8875892335648526.\u001b[0m\n",
      "\u001b[32m[I 2022-06-21 16:27:11,617]\u001b[0m Trial 433 finished with value: 0.8700948724478138 and parameters: {'lambda_l1': 0.0017436402837977467, 'lambda_l2': 0.002420020373672787, 'num_leaves': 226, 'feature_fraction': 0.4029308216580171, 'bagging_fraction': 0.4923895244621192, 'bagging_freq': 1, 'min_child_samples': 17, 'max_depth': 277}. Best is trial 205 with value: 0.8875892335648526.\u001b[0m\n",
      "\u001b[32m[I 2022-06-21 16:27:24,219]\u001b[0m Trial 434 finished with value: 0.8778106310399266 and parameters: {'lambda_l1': 0.003995929264550687, 'lambda_l2': 0.0007146747761998067, 'num_leaves': 52, 'feature_fraction': 0.41026170603995754, 'bagging_fraction': 0.5089227687047235, 'bagging_freq': 1, 'min_child_samples': 18, 'max_depth': 860}. Best is trial 205 with value: 0.8875892335648526.\u001b[0m\n",
      "\u001b[32m[I 2022-06-21 16:27:33,024]\u001b[0m Trial 435 finished with value: 0.8761160625365347 and parameters: {'lambda_l1': 0.002685079216126507, 'lambda_l2': 0.0015070362217287675, 'num_leaves': 39, 'feature_fraction': 0.4160672654986724, 'bagging_fraction': 0.4842215408647229, 'bagging_freq': 1, 'min_child_samples': 15, 'max_depth': 872}. Best is trial 205 with value: 0.8875892335648526.\u001b[0m\n",
      "\u001b[32m[I 2022-06-21 16:27:42,070]\u001b[0m Trial 436 finished with value: 0.876046914278532 and parameters: {'lambda_l1': 0.006525507735589431, 'lambda_l2': 0.0012413612586030516, 'num_leaves': 46, 'feature_fraction': 0.40664605575668306, 'bagging_fraction': 0.500650387813167, 'bagging_freq': 1, 'min_child_samples': 20, 'max_depth': 856}. Best is trial 205 with value: 0.8875892335648526.\u001b[0m\n",
      "\u001b[32m[I 2022-06-21 16:27:50,886]\u001b[0m Trial 437 finished with value: 0.8741435967713058 and parameters: {'lambda_l1': 0.002633373815475732, 'lambda_l2': 0.000920406388850952, 'num_leaves': 97, 'feature_fraction': 0.40042698854620057, 'bagging_fraction': 0.476331891584337, 'bagging_freq': 1, 'min_child_samples': 11, 'max_depth': 885}. Best is trial 205 with value: 0.8875892335648526.\u001b[0m\n",
      "\u001b[32m[I 2022-06-21 16:28:01,127]\u001b[0m Trial 438 finished with value: 0.8766935002991505 and parameters: {'lambda_l1': 0.002667383678129202, 'lambda_l2': 0.00045762963325268155, 'num_leaves': 57, 'feature_fraction': 0.4196042941971771, 'bagging_fraction': 0.4885152216396694, 'bagging_freq': 1, 'min_child_samples': 16, 'max_depth': 842}. Best is trial 205 with value: 0.8875892335648526.\u001b[0m\n",
      "\u001b[32m[I 2022-06-21 16:28:09,902]\u001b[0m Trial 439 finished with value: 0.8704294947183882 and parameters: {'lambda_l1': 0.0038332717837183694, 'lambda_l2': 0.003262016649193775, 'num_leaves': 80, 'feature_fraction': 0.41835028459417767, 'bagging_fraction': 0.523891876851417, 'bagging_freq': 1, 'min_child_samples': 13, 'max_depth': 827}. Best is trial 205 with value: 0.8875892335648526.\u001b[0m\n",
      "\u001b[32m[I 2022-06-21 16:28:20,769]\u001b[0m Trial 440 finished with value: 0.8746344928506307 and parameters: {'lambda_l1': 0.0015382103974741635, 'lambda_l2': 0.0009374191149828324, 'num_leaves': 52, 'feature_fraction': 0.40109169630418245, 'bagging_fraction': 0.5125790354216286, 'bagging_freq': 1, 'min_child_samples': 18, 'max_depth': 988}. Best is trial 205 with value: 0.8875892335648526.\u001b[0m\n",
      "\u001b[32m[I 2022-06-21 16:28:26,900]\u001b[0m Trial 441 finished with value: 0.8786852915316536 and parameters: {'lambda_l1': 0.00022202404060602985, 'lambda_l2': 0.00041314380184848327, 'num_leaves': 62, 'feature_fraction': 0.43382146326406773, 'bagging_fraction': 0.49489827648640533, 'bagging_freq': 1, 'min_child_samples': 21, 'max_depth': 813}. Best is trial 205 with value: 0.8875892335648526.\u001b[0m\n",
      "\u001b[32m[I 2022-06-21 16:28:34,148]\u001b[0m Trial 442 finished with value: 0.8784731064214424 and parameters: {'lambda_l1': 0.000990638832583794, 'lambda_l2': 0.0006671315754864007, 'num_leaves': 72, 'feature_fraction': 0.4220370678502888, 'bagging_fraction': 0.4776088348933962, 'bagging_freq': 1, 'min_child_samples': 16, 'max_depth': 894}. Best is trial 205 with value: 0.8875892335648526.\u001b[0m\n",
      "\u001b[32m[I 2022-06-21 16:28:41,205]\u001b[0m Trial 443 finished with value: 0.8871863746633486 and parameters: {'lambda_l1': 0.00013604952313266982, 'lambda_l2': 0.001437057594084677, 'num_leaves': 35, 'feature_fraction': 0.40028510895637265, 'bagging_fraction': 0.45968192665614416, 'bagging_freq': 1, 'min_child_samples': 14, 'max_depth': 853}. Best is trial 205 with value: 0.8875892335648526.\u001b[0m\n",
      "\u001b[32m[I 2022-06-21 16:28:49,415]\u001b[0m Trial 444 finished with value: 0.8687827706134595 and parameters: {'lambda_l1': 0.00012765267702499668, 'lambda_l2': 0.0005523017822810465, 'num_leaves': 26, 'feature_fraction': 0.4398528485758885, 'bagging_fraction': 0.4737720039308023, 'bagging_freq': 1, 'min_child_samples': 9, 'max_depth': 845}. Best is trial 205 with value: 0.8875892335648526.\u001b[0m\n",
      "\u001b[32m[I 2022-06-21 16:28:59,310]\u001b[0m Trial 445 finished with value: 0.8752954777850289 and parameters: {'lambda_l1': 0.004941706542626832, 'lambda_l2': 0.0022153343089333067, 'num_leaves': 38, 'feature_fraction': 0.4149931590603959, 'bagging_fraction': 0.4615519802690533, 'bagging_freq': 1, 'min_child_samples': 13, 'max_depth': 871}. Best is trial 205 with value: 0.8875892335648526.\u001b[0m\n",
      "\u001b[32m[I 2022-06-21 16:29:08,869]\u001b[0m Trial 446 finished with value: 0.8798815187005977 and parameters: {'lambda_l1': 0.0001550197765267183, 'lambda_l2': 0.002112776804498902, 'num_leaves': 29, 'feature_fraction': 0.4267581123813263, 'bagging_fraction': 0.4885278634758424, 'bagging_freq': 1, 'min_child_samples': 18, 'max_depth': 857}. Best is trial 205 with value: 0.8875892335648526.\u001b[0m\n",
      "\u001b[32m[I 2022-06-21 16:29:10,482]\u001b[0m Trial 447 finished with value: 0.5 and parameters: {'lambda_l1': 8.999386254516283e-05, 'lambda_l2': 0.0015177088222018272, 'num_leaves': 34, 'feature_fraction': 0.7359569756086116, 'bagging_fraction': 0.46635968710233605, 'bagging_freq': 2, 'min_child_samples': 58, 'max_depth': 839}. Best is trial 205 with value: 0.8875892335648526.\u001b[0m\n",
      "\u001b[32m[I 2022-06-21 16:29:17,343]\u001b[0m Trial 448 finished with value: 0.8780345179631169 and parameters: {'lambda_l1': 0.0018807375461340268, 'lambda_l2': 0.0012326258490953385, 'num_leaves': 34, 'feature_fraction': 0.4589594593241553, 'bagging_fraction': 0.5018897376594583, 'bagging_freq': 1, 'min_child_samples': 19, 'max_depth': 873}. Best is trial 205 with value: 0.8875892335648526.\u001b[0m\n",
      "\u001b[32m[I 2022-06-21 16:29:24,288]\u001b[0m Trial 449 finished with value: 0.881183869127948 and parameters: {'lambda_l1': 0.0007994518626973531, 'lambda_l2': 0.0015323027561810667, 'num_leaves': 43, 'feature_fraction': 0.40001823232033973, 'bagging_fraction': 0.4798742900802922, 'bagging_freq': 1, 'min_child_samples': 23, 'max_depth': 826}. Best is trial 205 with value: 0.8875892335648526.\u001b[0m\n"
     ]
    },
    {
     "name": "stderr",
     "output_type": "stream",
     "text": [
      "\u001b[32m[I 2022-06-21 16:29:30,885]\u001b[0m Trial 450 finished with value: 0.8829844590394127 and parameters: {'lambda_l1': 5.553263541382837e-05, 'lambda_l2': 0.0010860916988087734, 'num_leaves': 22, 'feature_fraction': 0.4142207269556086, 'bagging_fraction': 0.45149112661633495, 'bagging_freq': 1, 'min_child_samples': 14, 'max_depth': 899}. Best is trial 205 with value: 0.8875892335648526.\u001b[0m\n",
      "\u001b[32m[I 2022-06-21 16:29:41,754]\u001b[0m Trial 451 finished with value: 0.8835561930759297 and parameters: {'lambda_l1': 0.0005025289137102649, 'lambda_l2': 0.0034995328677811756, 'num_leaves': 42, 'feature_fraction': 0.44554320025511407, 'bagging_fraction': 0.46831574238564416, 'bagging_freq': 1, 'min_child_samples': 17, 'max_depth': 856}. Best is trial 205 with value: 0.8875892335648526.\u001b[0m\n",
      "\u001b[32m[I 2022-06-21 16:29:49,972]\u001b[0m Trial 452 finished with value: 0.877560623007024 and parameters: {'lambda_l1': 0.0012305072875005484, 'lambda_l2': 0.0008489118221944081, 'num_leaves': 47, 'feature_fraction': 0.6741309635539432, 'bagging_fraction': 0.49146585264182396, 'bagging_freq': 1, 'min_child_samples': 20, 'max_depth': 815}. Best is trial 205 with value: 0.8875892335648526.\u001b[0m\n",
      "\u001b[32m[I 2022-06-21 16:29:58,208]\u001b[0m Trial 453 finished with value: 0.871935054303282 and parameters: {'lambda_l1': 0.00015172777352345782, 'lambda_l2': 6.871203958587608e-05, 'num_leaves': 34, 'feature_fraction': 0.430742019651267, 'bagging_fraction': 0.455760967855514, 'bagging_freq': 1, 'min_child_samples': 11, 'max_depth': 885}. Best is trial 205 with value: 0.8875892335648526.\u001b[0m\n",
      "\u001b[32m[I 2022-06-21 16:30:08,354]\u001b[0m Trial 454 finished with value: 0.8670281205722381 and parameters: {'lambda_l1': 0.0007042801956013721, 'lambda_l2': 3.336956558367622e-05, 'num_leaves': 11, 'feature_fraction': 0.47931604682899615, 'bagging_fraction': 0.47985069064793634, 'bagging_freq': 6, 'min_child_samples': 16, 'max_depth': 831}. Best is trial 205 with value: 0.8875892335648526.\u001b[0m\n",
      "\u001b[32m[I 2022-06-21 16:30:15,220]\u001b[0m Trial 455 finished with value: 0.8773648813132171 and parameters: {'lambda_l1': 0.00031965942821270756, 'lambda_l2': 0.0003501568082248799, 'num_leaves': 41, 'feature_fraction': 0.41292260497389294, 'bagging_fraction': 0.5090726319531195, 'bagging_freq': 1, 'min_child_samples': 14, 'max_depth': 807}. Best is trial 205 with value: 0.8875892335648526.\u001b[0m\n",
      "\u001b[32m[I 2022-06-21 16:30:27,599]\u001b[0m Trial 456 finished with value: 0.8731473200861747 and parameters: {'lambda_l1': 0.00244873077185106, 'lambda_l2': 0.0008498983324486611, 'num_leaves': 48, 'feature_fraction': 0.4244973338067714, 'bagging_fraction': 0.472890355589409, 'bagging_freq': 1, 'min_child_samples': 12, 'max_depth': 852}. Best is trial 205 with value: 0.8875892335648526.\u001b[0m\n",
      "\u001b[32m[I 2022-06-21 16:30:35,797]\u001b[0m Trial 457 finished with value: 0.858405090115423 and parameters: {'lambda_l1': 9.915960081997421e-05, 'lambda_l2': 0.00012181999518171046, 'num_leaves': 54, 'feature_fraction': 0.4399958252661424, 'bagging_fraction': 0.7496487610361631, 'bagging_freq': 4, 'min_child_samples': 18, 'max_depth': 908}. Best is trial 205 with value: 0.8875892335648526.\u001b[0m\n",
      "\u001b[32m[I 2022-06-21 16:30:44,703]\u001b[0m Trial 458 finished with value: 0.877831931226668 and parameters: {'lambda_l1': 0.0005094129118522763, 'lambda_l2': 0.0006319315044240054, 'num_leaves': 89, 'feature_fraction': 0.45138138042815074, 'bagging_fraction': 0.492819733764472, 'bagging_freq': 1, 'min_child_samples': 16, 'max_depth': 831}. Best is trial 205 with value: 0.8875892335648526.\u001b[0m\n",
      "\u001b[32m[I 2022-06-21 16:30:46,569]\u001b[0m Trial 459 finished with value: 0.8225674988925763 and parameters: {'lambda_l1': 0.0002004087801297064, 'lambda_l2': 0.00029890216352419514, 'num_leaves': 116, 'feature_fraction': 0.4117263529388565, 'bagging_fraction': 0.45941881170243315, 'bagging_freq': 1, 'min_child_samples': 22, 'max_depth': 107}. Best is trial 205 with value: 0.8875892335648526.\u001b[0m\n",
      "\u001b[32m[I 2022-06-21 16:30:58,108]\u001b[0m Trial 460 finished with value: 0.8795268389591144 and parameters: {'lambda_l1': 7.540751297542055e-08, 'lambda_l2': 0.00010404912714017171, 'num_leaves': 30, 'feature_fraction': 0.43118812905495846, 'bagging_fraction': 0.4455714026450196, 'bagging_freq': 1, 'min_child_samples': 20, 'max_depth': 868}. Best is trial 205 with value: 0.8875892335648526.\u001b[0m\n",
      "\u001b[32m[I 2022-06-21 16:31:05,485]\u001b[0m Trial 461 finished with value: 0.8802774024221394 and parameters: {'lambda_l1': 0.0009288006533766245, 'lambda_l2': 5.014539277815851e-05, 'num_leaves': 38, 'feature_fraction': 0.4222565339949496, 'bagging_fraction': 0.483834374061925, 'bagging_freq': 1, 'min_child_samples': 14, 'max_depth': 801}. Best is trial 205 with value: 0.8875892335648526.\u001b[0m\n",
      "\u001b[32m[I 2022-06-21 16:31:12,493]\u001b[0m Trial 462 finished with value: 0.8840419165028298 and parameters: {'lambda_l1': 0.0015520531147530975, 'lambda_l2': 0.0004697445066453828, 'num_leaves': 46, 'feature_fraction': 0.43839423409357686, 'bagging_fraction': 0.4660619939671117, 'bagging_freq': 1, 'min_child_samples': 18, 'max_depth': 786}. Best is trial 205 with value: 0.8875892335648526.\u001b[0m\n",
      "\u001b[32m[I 2022-06-21 16:31:20,449]\u001b[0m Trial 463 finished with value: 0.883521487886039 and parameters: {'lambda_l1': 0.001837170611492155, 'lambda_l2': 0.00042329690536106203, 'num_leaves': 45, 'feature_fraction': 0.4646777924914819, 'bagging_fraction': 0.4580667928752723, 'bagging_freq': 1, 'min_child_samples': 17, 'max_depth': 790}. Best is trial 205 with value: 0.8875892335648526.\u001b[0m\n",
      "\u001b[32m[I 2022-06-21 16:31:26,985]\u001b[0m Trial 464 finished with value: 0.877315735713375 and parameters: {'lambda_l1': 0.001374123850637203, 'lambda_l2': 0.00015501073554559676, 'num_leaves': 48, 'feature_fraction': 0.4480757061590973, 'bagging_fraction': 0.46694665377309497, 'bagging_freq': 1, 'min_child_samples': 19, 'max_depth': 788}. Best is trial 205 with value: 0.8875892335648526.\u001b[0m\n",
      "\u001b[32m[I 2022-06-21 16:31:33,877]\u001b[0m Trial 465 finished with value: 0.8793418041152173 and parameters: {'lambda_l1': 0.0038803388587820946, 'lambda_l2': 2.150845101002684e-05, 'num_leaves': 40, 'feature_fraction': 0.4373767599799093, 'bagging_fraction': 0.45142088282082143, 'bagging_freq': 1, 'min_child_samples': 14, 'max_depth': 763}. Best is trial 205 with value: 0.8875892335648526.\u001b[0m\n",
      "\u001b[32m[I 2022-06-21 16:31:40,192]\u001b[0m Trial 466 finished with value: 0.8817309353013688 and parameters: {'lambda_l1': 0.0019477194331607524, 'lambda_l2': 0.00026802269046218203, 'num_leaves': 52, 'feature_fraction': 0.458986522812537, 'bagging_fraction': 0.4691866405780872, 'bagging_freq': 1, 'min_child_samples': 16, 'max_depth': 751}. Best is trial 205 with value: 0.8875892335648526.\u001b[0m\n",
      "\u001b[32m[I 2022-06-21 16:31:48,870]\u001b[0m Trial 467 finished with value: 0.8373393876290547 and parameters: {'lambda_l1': 0.0010339674718790165, 'lambda_l2': 7.076619884173581e-05, 'num_leaves': 45, 'feature_fraction': 0.43848688201233377, 'bagging_fraction': 0.8759353870884649, 'bagging_freq': 1, 'min_child_samples': 12, 'max_depth': 722}. Best is trial 205 with value: 0.8875892335648526.\u001b[0m\n",
      "\u001b[32m[I 2022-06-21 16:31:55,195]\u001b[0m Trial 468 finished with value: 0.877662916826036 and parameters: {'lambda_l1': 0.0006592627394286469, 'lambda_l2': 0.000462690092949658, 'num_leaves': 36, 'feature_fraction': 0.4124029635217772, 'bagging_fraction': 0.44344731218061606, 'bagging_freq': 1, 'min_child_samples': 21, 'max_depth': 809}. Best is trial 205 with value: 0.8875892335648526.\u001b[0m\n",
      "\u001b[32m[I 2022-06-21 16:32:01,766]\u001b[0m Trial 469 finished with value: 0.8777778487637233 and parameters: {'lambda_l1': 0.002247860240370483, 'lambda_l2': 0.00015037391747651493, 'num_leaves': 56, 'feature_fraction': 0.4271605252459135, 'bagging_fraction': 0.4764909900169744, 'bagging_freq': 1, 'min_child_samples': 18, 'max_depth': 775}. Best is trial 205 with value: 0.8875892335648526.\u001b[0m\n",
      "\u001b[32m[I 2022-06-21 16:32:09,519]\u001b[0m Trial 470 finished with value: 0.8154070224366278 and parameters: {'lambda_l1': 0.0013378165061140308, 'lambda_l2': 0.0003145954049548725, 'num_leaves': 51, 'feature_fraction': 0.4507873663809373, 'bagging_fraction': 0.9949615529725013, 'bagging_freq': 1, 'min_child_samples': 15, 'max_depth': 776}. Best is trial 205 with value: 0.8875892335648526.\u001b[0m\n"
     ]
    },
    {
     "name": "stderr",
     "output_type": "stream",
     "text": [
      "\u001b[32m[I 2022-06-21 16:32:18,091]\u001b[0m Trial 471 finished with value: 0.8610537495485251 and parameters: {'lambda_l1': 0.0003701786403513371, 'lambda_l2': 0.00018089292695456838, 'num_leaves': 43, 'feature_fraction': 0.47126875592502293, 'bagging_fraction': 0.4587047884161032, 'bagging_freq': 1, 'min_child_samples': 9, 'max_depth': 880}. Best is trial 205 with value: 0.8875892335648526.\u001b[0m\n",
      "\u001b[32m[I 2022-06-21 16:32:24,764]\u001b[0m Trial 472 finished with value: 0.8768835244562798 and parameters: {'lambda_l1': 0.00357936857662071, 'lambda_l2': 0.00010601895065003074, 'num_leaves': 20, 'feature_fraction': 0.4001572685512002, 'bagging_fraction': 0.481550253391267, 'bagging_freq': 2, 'min_child_samples': 17, 'max_depth': 817}. Best is trial 205 with value: 0.8875892335648526.\u001b[0m\n",
      "\u001b[32m[I 2022-06-21 16:32:27,027]\u001b[0m Trial 473 finished with value: 0.5 and parameters: {'lambda_l1': 0.0007725371673255903, 'lambda_l2': 0.0005764124912455184, 'num_leaves': 49, 'feature_fraction': 0.43190127768888215, 'bagging_fraction': 0.4649690789513869, 'bagging_freq': 1, 'min_child_samples': 51, 'max_depth': 902}. Best is trial 205 with value: 0.8875892335648526.\u001b[0m\n",
      "\u001b[32m[I 2022-06-21 16:32:33,633]\u001b[0m Trial 474 finished with value: 0.8825333419590387 and parameters: {'lambda_l1': 0.008254309815730292, 'lambda_l2': 0.0002514248644894377, 'num_leaves': 58, 'feature_fraction': 0.4180583332406222, 'bagging_fraction': 0.4464104513905601, 'bagging_freq': 1, 'min_child_samples': 19, 'max_depth': 847}. Best is trial 205 with value: 0.8875892335648526.\u001b[0m\n",
      "\u001b[32m[I 2022-06-21 16:32:41,176]\u001b[0m Trial 475 finished with value: 0.8788661439394799 and parameters: {'lambda_l1': 0.0004603710773361468, 'lambda_l2': 1.0552607761939543e-05, 'num_leaves': 28, 'feature_fraction': 0.4407588644827696, 'bagging_fraction': 0.4739448644449647, 'bagging_freq': 1, 'min_child_samples': 13, 'max_depth': 933}. Best is trial 205 with value: 0.8875892335648526.\u001b[0m\n",
      "\u001b[32m[I 2022-06-21 16:32:44,036]\u001b[0m Trial 476 finished with value: 0.8514620372962091 and parameters: {'lambda_l1': 0.000276884609363654, 'lambda_l2': 8.349065955063872e-05, 'num_leaves': 35, 'feature_fraction': 0.410341248734532, 'bagging_fraction': 0.42698564297151076, 'bagging_freq': 1, 'min_child_samples': 25, 'max_depth': 801}. Best is trial 205 with value: 0.8875892335648526.\u001b[0m\n",
      "\u001b[32m[I 2022-06-21 16:32:51,625]\u001b[0m Trial 477 finished with value: 0.8734523451264938 and parameters: {'lambda_l1': 0.0006335725858484727, 'lambda_l2': 1.6260613683800784, 'num_leaves': 67, 'feature_fraction': 0.421923673948605, 'bagging_fraction': 0.4569250163933984, 'bagging_freq': 1, 'min_child_samples': 15, 'max_depth': 827}. Best is trial 205 with value: 0.8875892335648526.\u001b[0m\n",
      "\u001b[32m[I 2022-06-21 16:32:58,344]\u001b[0m Trial 478 finished with value: 0.8769051255117433 and parameters: {'lambda_l1': 0.001410841597947594, 'lambda_l2': 0.0010549039694436385, 'num_leaves': 53, 'feature_fraction': 0.4556975463461134, 'bagging_fraction': 0.4856940048252124, 'bagging_freq': 1, 'min_child_samples': 20, 'max_depth': 863}. Best is trial 205 with value: 0.8875892335648526.\u001b[0m\n",
      "\u001b[32m[I 2022-06-21 16:33:05,455]\u001b[0m Trial 479 finished with value: 0.8811657943664523 and parameters: {'lambda_l1': 0.000972607085393441, 'lambda_l2': 0.00041507396062972286, 'num_leaves': 41, 'feature_fraction': 0.4338079709084897, 'bagging_fraction': 0.46860828942702504, 'bagging_freq': 1, 'min_child_samples': 17, 'max_depth': 782}. Best is trial 205 with value: 0.8875892335648526.\u001b[0m\n",
      "\u001b[32m[I 2022-06-21 16:33:11,492]\u001b[0m Trial 480 finished with value: 0.878286117477294 and parameters: {'lambda_l1': 0.00021178143817900726, 'lambda_l2': 0.0001687145586891642, 'num_leaves': 46, 'feature_fraction': 0.40999254244559646, 'bagging_fraction': 0.4908550494674296, 'bagging_freq': 1, 'min_child_samples': 22, 'max_depth': 885}. Best is trial 205 with value: 0.8875892335648526.\u001b[0m\n",
      "\u001b[32m[I 2022-06-21 16:33:18,775]\u001b[0m Trial 481 finished with value: 0.8786881954474833 and parameters: {'lambda_l1': 0.0003551595702941686, 'lambda_l2': 3.631223402710736e-05, 'num_leaves': 57, 'feature_fraction': 0.4005132593370369, 'bagging_fraction': 0.4418210641815223, 'bagging_freq': 1, 'min_child_samples': 11, 'max_depth': 916}. Best is trial 205 with value: 0.8875892335648526.\u001b[0m\n",
      "\u001b[32m[I 2022-06-21 16:33:26,055]\u001b[0m Trial 482 finished with value: 0.8779621934438111 and parameters: {'lambda_l1': 0.004880762098262583, 'lambda_l2': 0.0007076299271869656, 'num_leaves': 2, 'feature_fraction': 0.4886912048562008, 'bagging_fraction': 0.47466416972426645, 'bagging_freq': 1, 'min_child_samples': 15, 'max_depth': 840}. Best is trial 205 with value: 0.8875892335648526.\u001b[0m\n",
      "\u001b[32m[I 2022-06-21 16:33:33,290]\u001b[0m Trial 483 finished with value: 0.8827669804610594 and parameters: {'lambda_l1': 0.0006507933022188064, 'lambda_l2': 0.0018610889492109612, 'num_leaves': 73, 'feature_fraction': 0.42661735695836994, 'bagging_fraction': 0.49975461852529013, 'bagging_freq': 1, 'min_child_samples': 18, 'max_depth': 814}. Best is trial 205 with value: 0.8875892335648526.\u001b[0m\n",
      "\u001b[32m[I 2022-06-21 16:33:41,680]\u001b[0m Trial 484 finished with value: 0.8827825495368065 and parameters: {'lambda_l1': 0.0028856669680797967, 'lambda_l2': 0.00032175417389681074, 'num_leaves': 49, 'feature_fraction': 0.4421643381786329, 'bagging_fraction': 0.45428803283149133, 'bagging_freq': 1, 'min_child_samples': 16, 'max_depth': 949}. Best is trial 205 with value: 0.8875892335648526.\u001b[0m\n",
      "\u001b[32m[I 2022-06-21 16:33:52,603]\u001b[0m Trial 485 finished with value: 0.8403300597536278 and parameters: {'lambda_l1': 0.00014746688090323787, 'lambda_l2': 5.726915498841011e-05, 'num_leaves': 62, 'feature_fraction': 0.8383629782347455, 'bagging_fraction': 0.8339860203295645, 'bagging_freq': 1, 'min_child_samples': 13, 'max_depth': 852}. Best is trial 205 with value: 0.8875892335648526.\u001b[0m\n",
      "\u001b[32m[I 2022-06-21 16:33:59,345]\u001b[0m Trial 486 finished with value: 0.8785231371011171 and parameters: {'lambda_l1': 0.0004835571861607691, 'lambda_l2': 0.00012026768557274328, 'num_leaves': 39, 'feature_fraction': 0.4193869096325642, 'bagging_fraction': 0.48397830729813285, 'bagging_freq': 1, 'min_child_samples': 20, 'max_depth': 769}. Best is trial 205 with value: 0.8875892335648526.\u001b[0m\n",
      "\u001b[32m[I 2022-06-21 16:34:05,935]\u001b[0m Trial 487 finished with value: 0.8768164839546418 and parameters: {'lambda_l1': 0.0014900520821279366, 'lambda_l2': 0.0005311072791204536, 'num_leaves': 78, 'feature_fraction': 0.44782245820376854, 'bagging_fraction': 0.46072651059199965, 'bagging_freq': 1, 'min_child_samples': 17, 'max_depth': 824}. Best is trial 205 with value: 0.8875892335648526.\u001b[0m\n",
      "\u001b[32m[I 2022-06-21 16:34:12,804]\u001b[0m Trial 488 finished with value: 0.8756480351648697 and parameters: {'lambda_l1': 0.00029475904448473443, 'lambda_l2': 0.00023044533584829028, 'num_leaves': 54, 'feature_fraction': 0.4287540698924426, 'bagging_fraction': 0.4712286432170201, 'bagging_freq': 1, 'min_child_samples': 14, 'max_depth': 800}. Best is trial 205 with value: 0.8875892335648526.\u001b[0m\n",
      "\u001b[32m[I 2022-06-21 16:34:16,788]\u001b[0m Trial 489 finished with value: 0.8695960714122478 and parameters: {'lambda_l1': 0.0011059783324220422, 'lambda_l2': 8.102388232849981e-05, 'num_leaves': 33, 'feature_fraction': 0.4123397635489498, 'bagging_fraction': 0.4337204348070926, 'bagging_freq': 1, 'min_child_samples': 23, 'max_depth': 868}. Best is trial 205 with value: 0.8875892335648526.\u001b[0m\n",
      "\u001b[32m[I 2022-06-21 16:34:23,095]\u001b[0m Trial 490 finished with value: 0.8796617040939797 and parameters: {'lambda_l1': 0.002188990116540838, 'lambda_l2': 0.0013659469324556431, 'num_leaves': 67, 'feature_fraction': 0.4389431602933755, 'bagging_fraction': 0.4966719525252265, 'bagging_freq': 1, 'min_child_samples': 19, 'max_depth': 840}. Best is trial 205 with value: 0.8875892335648526.\u001b[0m\n",
      "\u001b[32m[I 2022-06-21 16:34:29,101]\u001b[0m Trial 491 finished with value: 0.8796081298087877 and parameters: {'lambda_l1': 0.00021661313156586223, 'lambda_l2': 0.00036252345293938995, 'num_leaves': 60, 'feature_fraction': 0.4103070627205559, 'bagging_fraction': 0.45045426682935225, 'bagging_freq': 1, 'min_child_samples': 16, 'max_depth': 894}. Best is trial 205 with value: 0.8875892335648526.\u001b[0m\n"
     ]
    },
    {
     "name": "stderr",
     "output_type": "stream",
     "text": [
      "\u001b[32m[I 2022-06-21 16:34:35,991]\u001b[0m Trial 492 finished with value: 0.8725766492494436 and parameters: {'lambda_l1': 0.0004668619824448935, 'lambda_l2': 0.0008422837619629946, 'num_leaves': 45, 'feature_fraction': 0.42346452451672967, 'bagging_fraction': 0.4788908833376862, 'bagging_freq': 2, 'min_child_samples': 10, 'max_depth': 788}. Best is trial 205 with value: 0.8875892335648526.\u001b[0m\n",
      "\u001b[32m[I 2022-06-21 16:34:42,420]\u001b[0m Trial 493 finished with value: 0.8491881449089267 and parameters: {'lambda_l1': 0.0007867987936307244, 'lambda_l2': 0.00016323598668836035, 'num_leaves': 50, 'feature_fraction': 0.43315615910098987, 'bagging_fraction': 0.9353034383285065, 'bagging_freq': 1, 'min_child_samples': 39, 'max_depth': 929}. Best is trial 205 with value: 0.8875892335648526.\u001b[0m\n",
      "\u001b[32m[I 2022-06-21 16:34:49,208]\u001b[0m Trial 494 finished with value: 0.874788100057837 and parameters: {'lambda_l1': 0.00034288447318799785, 'lambda_l2': 0.00027239853192653307, 'num_leaves': 42, 'feature_fraction': 0.47168367792903776, 'bagging_fraction': 0.4630369067700479, 'bagging_freq': 1, 'min_child_samples': 12, 'max_depth': 821}. Best is trial 205 with value: 0.8875892335648526.\u001b[0m\n",
      "\u001b[32m[I 2022-06-21 16:34:54,941]\u001b[0m Trial 495 finished with value: 0.879876473092611 and parameters: {'lambda_l1': 0.00015398193048304936, 'lambda_l2': 0.00010894242509556852, 'num_leaves': 55, 'feature_fraction': 0.4526507626169607, 'bagging_fraction': 0.486617975157284, 'bagging_freq': 1, 'min_child_samples': 18, 'max_depth': 854}. Best is trial 205 with value: 0.8875892335648526.\u001b[0m\n",
      "\u001b[32m[I 2022-06-21 16:35:02,398]\u001b[0m Trial 496 finished with value: 0.8550458539568447 and parameters: {'lambda_l1': 0.0005419457174631269, 'lambda_l2': 0.0006061767039158, 'num_leaves': 63, 'feature_fraction': 0.41831584216563356, 'bagging_fraction': 0.7851932154183594, 'bagging_freq': 1, 'min_child_samples': 15, 'max_depth': 749}. Best is trial 205 with value: 0.8875892335648526.\u001b[0m\n",
      "\u001b[32m[I 2022-06-21 16:35:07,960]\u001b[0m Trial 497 finished with value: 0.8803998944167288 and parameters: {'lambda_l1': 0.0009656184881428709, 'lambda_l2': 0.00019247292825224616, 'num_leaves': 85, 'feature_fraction': 0.40674956936707574, 'bagging_fraction': 0.4433226462485516, 'bagging_freq': 1, 'min_child_samples': 21, 'max_depth': 804}. Best is trial 205 with value: 0.8875892335648526.\u001b[0m\n",
      "\u001b[32m[I 2022-06-21 16:35:14,563]\u001b[0m Trial 498 finished with value: 0.882134486922606 and parameters: {'lambda_l1': 0.00023077878160280765, 'lambda_l2': 4.5651420501730604e-05, 'num_leaves': 29, 'feature_fraction': 0.400458352958109, 'bagging_fraction': 0.508422600817572, 'bagging_freq': 1, 'min_child_samples': 17, 'max_depth': 878}. Best is trial 205 with value: 0.8875892335648526.\u001b[0m\n",
      "\u001b[32m[I 2022-06-21 16:35:17,086]\u001b[0m Trial 499 finished with value: 0.5 and parameters: {'lambda_l1': 0.002998145645294771, 'lambda_l2': 0.0026119524941490904, 'num_leaves': 37, 'feature_fraction': 0.4419501127732239, 'bagging_fraction': 0.4706064769351281, 'bagging_freq': 1, 'min_child_samples': 46, 'max_depth': 913}. Best is trial 205 with value: 0.8875892335648526.\u001b[0m\n"
     ]
    }
   ],
   "source": [
    "study.optimize(objective, n_trials=500)"
   ]
  },
  {
   "cell_type": "code",
   "execution_count": 131,
   "id": "055b7aae",
   "metadata": {},
   "outputs": [],
   "source": [
    "# Get best trial based on metric score\n",
    "trial = study.best_trial"
   ]
  },
  {
   "cell_type": "code",
   "execution_count": 132,
   "id": "96818657",
   "metadata": {},
   "outputs": [
    {
     "name": "stdout",
     "output_type": "stream",
     "text": [
      "    lambda_l1: 9.301631683130897e-05\n",
      "    lambda_l2: 0.00042116251159990197\n",
      "    num_leaves: 59\n",
      "    feature_fraction: 0.4100780643597869\n",
      "    bagging_fraction: 0.4704677676270611\n",
      "    bagging_freq: 1\n",
      "    min_child_samples: 15\n",
      "    max_depth: 996\n"
     ]
    }
   ],
   "source": [
    "# Print params for best trial\n",
    "for key, value in trial.params.items():\n",
    "    print(\"    {}: {}\".format(key, value))"
   ]
  },
  {
   "cell_type": "code",
   "execution_count": 180,
   "id": "2f3afdcc",
   "metadata": {},
   "outputs": [
    {
     "data": {
      "text/plain": [
       "0.886714470556963"
      ]
     },
     "execution_count": 180,
     "metadata": {},
     "output_type": "execute_result"
    }
   ],
   "source": [
    "# Best Score from HP Opt\n",
    "trial.values[0]"
   ]
  },
  {
   "cell_type": "markdown",
   "id": "5d878a6b",
   "metadata": {},
   "source": [
    "- Aumento de performance considerável em relação ao valor baseline para um LGBM"
   ]
  },
  {
   "cell_type": "markdown",
   "id": "a642b35f",
   "metadata": {},
   "source": [
    "##### 4.2) PCA Dimension Reduction + Hyper Parameter Optimization with Optuna"
   ]
  },
  {
   "cell_type": "code",
   "execution_count": 181,
   "id": "ea04ed14",
   "metadata": {},
   "outputs": [],
   "source": [
    "# Define objectiva funtion to maximize metric\n",
    "def objective(trial):\n",
    "    \n",
    "    # PCA Parameter Grid\n",
    "    pca_param = {\n",
    "        \"n_components\": trial.suggest_int(\"n_components\", 5, 100)\n",
    "    }\n",
    "    # Hyper Parameter Grid\n",
    "    param = {\n",
    "        \"objective\": \"binary\",\n",
    "        \"metric\": \"binary_logloss\",\n",
    "        \"verbosity\": -1,\n",
    "        \"boosting_type\": \"gbdt\",\n",
    "        \"lambda_l1\": trial.suggest_float(\"lambda_l1\", 1e-8, 10.0, log=True),\n",
    "        \"lambda_l2\": trial.suggest_float(\"lambda_l2\", 1e-8, 10.0, log=True),\n",
    "        \"num_leaves\": trial.suggest_int(\"num_leaves\", 2, 256),\n",
    "        \"feature_fraction\": trial.suggest_float(\"feature_fraction\", 0.4, 1.0),\n",
    "        \"bagging_fraction\": trial.suggest_float(\"bagging_fraction\", 0.4, 1.0),\n",
    "        \"bagging_freq\": trial.suggest_int(\"bagging_freq\", 1, 7),\n",
    "        \"min_child_samples\": trial.suggest_int(\"min_child_samples\", 5, 100),\n",
    "        \"n_estimators\": trial.suggest_int(\"max_depth\", 100, 1000)\n",
    "    }\n",
    "    # Create model pipeline with param trial\n",
    "    clf = Pipeline([(\"pca\", PCA(**pca_param)),\n",
    "                    (\"lgbm_clf\", lgb.LGBMClassifier(random_state=SEED, **param))])\n",
    "    # Get CV Metric we want to maximize\n",
    "    balanced_accuracy = np.mean(cross_val_score(clf, X, y, scoring=metric_scorer, cv=rkf, n_jobs=-1))\n",
    "    \n",
    "    return balanced_accuracy"
   ]
  },
  {
   "cell_type": "code",
   "execution_count": 182,
   "id": "9d8c7fab",
   "metadata": {},
   "outputs": [
    {
     "name": "stderr",
     "output_type": "stream",
     "text": [
      "\u001b[32m[I 2022-06-17 15:30:06,080]\u001b[0m A new study created in memory with name: no-name-adfd880b-812e-41f4-828a-f1b968db75c6\u001b[0m\n"
     ]
    }
   ],
   "source": [
    "study = optuna.create_study(direction=\"maximize\")"
   ]
  },
  {
   "cell_type": "code",
   "execution_count": null,
   "id": "f5b1c8f5",
   "metadata": {
    "scrolled": false
   },
   "outputs": [],
   "source": [
    "study.optimize(objective, n_trials=500)"
   ]
  },
  {
   "cell_type": "code",
   "execution_count": 26,
   "id": "2de6ae10",
   "metadata": {},
   "outputs": [],
   "source": [
    "# Get best trial based on metric score\n",
    "trial = study.best_trial"
   ]
  },
  {
   "cell_type": "code",
   "execution_count": 27,
   "id": "89bdb921",
   "metadata": {},
   "outputs": [
    {
     "name": "stdout",
     "output_type": "stream",
     "text": [
      "    n_components: 98\n",
      "    lambda_l1: 4.997984938308335e-06\n",
      "    lambda_l2: 9.51579276153768e-06\n",
      "    num_leaves: 44\n",
      "    feature_fraction: 0.5421454819677247\n",
      "    bagging_fraction: 0.48235662397332973\n",
      "    bagging_freq: 4\n",
      "    min_child_samples: 8\n",
      "    max_depth: 563\n"
     ]
    }
   ],
   "source": [
    "# Print params for best trial\n",
    "for key, value in trial.params.items():\n",
    "    print(\"    {}: {}\".format(key, value))"
   ]
  },
  {
   "cell_type": "code",
   "execution_count": 28,
   "id": "1afe3420",
   "metadata": {},
   "outputs": [
    {
     "data": {
      "text/plain": [
       "0.7134464057614213"
      ]
     },
     "execution_count": 28,
     "metadata": {},
     "output_type": "execute_result"
    }
   ],
   "source": [
    "# Best Score from HP Opt\n",
    "trial.values[0]"
   ]
  },
  {
   "cell_type": "markdown",
   "id": "152d13a2",
   "metadata": {},
   "source": [
    "- Utilizar redução de dimensionalidade via PCA piorou bastante a performance do modelo"
   ]
  },
  {
   "cell_type": "markdown",
   "id": "ad983cfc",
   "metadata": {},
   "source": [
    "##### 4.3) Features Scaler + Hyper Parameter Optimization with Optuna"
   ]
  },
  {
   "cell_type": "code",
   "execution_count": 29,
   "id": "417135dc",
   "metadata": {},
   "outputs": [],
   "source": [
    "# Define objectiva funtion to maximize metric\n",
    "def objective(trial):\n",
    "    \n",
    "    # List scalers to chose from\n",
    "    scalers = trial.suggest_categorical(\"scalers\", ['minmax', 'standard', 'robust'])\n",
    "    # Define scalers\n",
    "    if scalers == \"minmax\":\n",
    "        scaler = MinMaxScaler()\n",
    "    elif scalers == \"standard\":\n",
    "        scaler = StandardScaler()\n",
    "    else:\n",
    "        scaler = RobustScaler()\n",
    "    # LGBM Hyper Parameter Grid\n",
    "    param = {\n",
    "        \"objective\": \"binary\",\n",
    "        \"metric\": \"binary_logloss\",\n",
    "        \"verbosity\": -1,\n",
    "        \"boosting_type\": \"gbdt\",\n",
    "        \"lambda_l1\": trial.suggest_float(\"lambda_l1\", 1e-8, 10.0, log=True),\n",
    "        \"lambda_l2\": trial.suggest_float(\"lambda_l2\", 1e-8, 10.0, log=True),\n",
    "        \"num_leaves\": trial.suggest_int(\"num_leaves\", 2, 256),\n",
    "        \"feature_fraction\": trial.suggest_float(\"feature_fraction\", 0.4, 1.0),\n",
    "        \"bagging_fraction\": trial.suggest_float(\"bagging_fraction\", 0.4, 1.0),\n",
    "        \"bagging_freq\": trial.suggest_int(\"bagging_freq\", 1, 7),\n",
    "        \"min_child_samples\": trial.suggest_int(\"min_child_samples\", 5, 100),\n",
    "        \"n_estimators\": trial.suggest_int(\"max_depth\", 100, 1000)\n",
    "    }\n",
    "    # Create model pipeline with param trial\n",
    "    clf = Pipeline([(\"scaler\", scaler),\n",
    "                    (\"lgbm_clf\", lgb.LGBMClassifier(random_state=SEED, **param))])\n",
    "    # Get CV Metric we want to maximize\n",
    "    balanced_accuracy = np.mean(cross_val_score(clf, X, y, scoring=metric_scorer, cv=rkf, n_jobs=-1))\n",
    "    \n",
    "    return balanced_accuracy"
   ]
  },
  {
   "cell_type": "code",
   "execution_count": 30,
   "id": "f50ae95b",
   "metadata": {},
   "outputs": [
    {
     "name": "stderr",
     "output_type": "stream",
     "text": [
      "\u001b[32m[I 2022-06-07 22:15:09,043]\u001b[0m A new study created in memory with name: no-name-9d027bd4-11fc-4b2d-8846-da6f6ffb30f6\u001b[0m\n"
     ]
    }
   ],
   "source": [
    "study = optuna.create_study(direction=\"maximize\")"
   ]
  },
  {
   "cell_type": "code",
   "execution_count": null,
   "id": "0359a477",
   "metadata": {
    "scrolled": true
   },
   "outputs": [],
   "source": [
    "study.optimize(objective, n_trials=500)"
   ]
  },
  {
   "cell_type": "code",
   "execution_count": 32,
   "id": "c12b4332",
   "metadata": {},
   "outputs": [],
   "source": [
    "# Get best trial based on metric score\n",
    "trial = study.best_trial"
   ]
  },
  {
   "cell_type": "code",
   "execution_count": 33,
   "id": "136c5fb7",
   "metadata": {},
   "outputs": [
    {
     "name": "stdout",
     "output_type": "stream",
     "text": [
      "    scalers: robust\n",
      "    lambda_l1: 4.3223282482835764e-07\n",
      "    lambda_l2: 3.3796186878776776e-05\n",
      "    num_leaves: 188\n",
      "    feature_fraction: 0.650978565866076\n",
      "    bagging_fraction: 0.9212536490874126\n",
      "    bagging_freq: 7\n",
      "    min_child_samples: 36\n",
      "    max_depth: 956\n"
     ]
    }
   ],
   "source": [
    "# Print params for best trial\n",
    "for key, value in trial.params.items():\n",
    "    print(\"    {}: {}\".format(key, value))"
   ]
  },
  {
   "cell_type": "code",
   "execution_count": 34,
   "id": "794fde22",
   "metadata": {},
   "outputs": [
    {
     "data": {
      "text/plain": [
       "0.8521054248039541"
      ]
     },
     "execution_count": 34,
     "metadata": {},
     "output_type": "execute_result"
    }
   ],
   "source": [
    "# Best Score from HP Opt\n",
    "trial.values[0]"
   ]
  },
  {
   "cell_type": "markdown",
   "id": "636f5deb",
   "metadata": {},
   "source": [
    "- A adição de um estágio de feature scaling antes do treinamento parece ter ajudado o modelo"
   ]
  },
  {
   "cell_type": "markdown",
   "id": "5a6f3352",
   "metadata": {},
   "source": [
    "##### 4.4) Boruta Feature Selection + Features Scaler + Hyper Parameter Optimization with Optuna"
   ]
  },
  {
   "cell_type": "code",
   "execution_count": 275,
   "id": "7b70bb42",
   "metadata": {},
   "outputs": [],
   "source": [
    "# define random forest classifier, with utilising all cores and\n",
    "# sampling in proportion to y labels\n",
    "rf = RandomForestClassifier(n_jobs=-1, class_weight='balanced', max_depth=5)\n",
    "# define Boruta feature selection method\n",
    "feat_selector = BorutaPy(rf, n_estimators='auto', verbose=2, random_state=SEED, )"
   ]
  },
  {
   "cell_type": "code",
   "execution_count": 276,
   "id": "2ae7aab1",
   "metadata": {
    "scrolled": true
   },
   "outputs": [
    {
     "name": "stdout",
     "output_type": "stream",
     "text": [
      "Iteration: \t1 / 100\n",
      "Confirmed: \t0\n",
      "Tentative: \t635\n",
      "Rejected: \t0\n",
      "Iteration: \t2 / 100\n",
      "Confirmed: \t0\n",
      "Tentative: \t635\n",
      "Rejected: \t0\n",
      "Iteration: \t3 / 100\n",
      "Confirmed: \t0\n",
      "Tentative: \t635\n",
      "Rejected: \t0\n",
      "Iteration: \t4 / 100\n",
      "Confirmed: \t0\n",
      "Tentative: \t635\n",
      "Rejected: \t0\n",
      "Iteration: \t5 / 100\n",
      "Confirmed: \t0\n",
      "Tentative: \t635\n",
      "Rejected: \t0\n",
      "Iteration: \t6 / 100\n",
      "Confirmed: \t0\n",
      "Tentative: \t635\n",
      "Rejected: \t0\n",
      "Iteration: \t7 / 100\n",
      "Confirmed: \t0\n",
      "Tentative: \t635\n",
      "Rejected: \t0\n",
      "Iteration: \t8 / 100\n",
      "Confirmed: \t0\n",
      "Tentative: \t50\n",
      "Rejected: \t585\n",
      "Iteration: \t9 / 100\n",
      "Confirmed: \t10\n",
      "Tentative: \t40\n",
      "Rejected: \t585\n",
      "Iteration: \t10 / 100\n",
      "Confirmed: \t10\n",
      "Tentative: \t40\n",
      "Rejected: \t585\n",
      "Iteration: \t11 / 100\n",
      "Confirmed: \t10\n",
      "Tentative: \t40\n",
      "Rejected: \t585\n",
      "Iteration: \t12 / 100\n",
      "Confirmed: \t12\n",
      "Tentative: \t32\n",
      "Rejected: \t591\n",
      "Iteration: \t13 / 100\n",
      "Confirmed: \t12\n",
      "Tentative: \t32\n",
      "Rejected: \t591\n",
      "Iteration: \t14 / 100\n",
      "Confirmed: \t12\n",
      "Tentative: \t32\n",
      "Rejected: \t591\n",
      "Iteration: \t15 / 100\n",
      "Confirmed: \t12\n",
      "Tentative: \t32\n",
      "Rejected: \t591\n",
      "Iteration: \t16 / 100\n",
      "Confirmed: \t16\n",
      "Tentative: \t28\n",
      "Rejected: \t591\n",
      "Iteration: \t17 / 100\n",
      "Confirmed: \t16\n",
      "Tentative: \t28\n",
      "Rejected: \t591\n",
      "Iteration: \t18 / 100\n",
      "Confirmed: \t16\n",
      "Tentative: \t28\n",
      "Rejected: \t591\n",
      "Iteration: \t19 / 100\n",
      "Confirmed: \t18\n",
      "Tentative: \t26\n",
      "Rejected: \t591\n",
      "Iteration: \t20 / 100\n",
      "Confirmed: \t18\n",
      "Tentative: \t26\n",
      "Rejected: \t591\n",
      "Iteration: \t21 / 100\n",
      "Confirmed: \t18\n",
      "Tentative: \t26\n",
      "Rejected: \t591\n",
      "Iteration: \t22 / 100\n",
      "Confirmed: \t18\n",
      "Tentative: \t26\n",
      "Rejected: \t591\n",
      "Iteration: \t23 / 100\n",
      "Confirmed: \t18\n",
      "Tentative: \t26\n",
      "Rejected: \t591\n",
      "Iteration: \t24 / 100\n",
      "Confirmed: \t18\n",
      "Tentative: \t26\n",
      "Rejected: \t591\n",
      "Iteration: \t25 / 100\n",
      "Confirmed: \t18\n",
      "Tentative: \t26\n",
      "Rejected: \t591\n",
      "Iteration: \t26 / 100\n",
      "Confirmed: \t20\n",
      "Tentative: \t24\n",
      "Rejected: \t591\n",
      "Iteration: \t27 / 100\n",
      "Confirmed: \t20\n",
      "Tentative: \t24\n",
      "Rejected: \t591\n",
      "Iteration: \t28 / 100\n",
      "Confirmed: \t20\n",
      "Tentative: \t24\n",
      "Rejected: \t591\n",
      "Iteration: \t29 / 100\n",
      "Confirmed: \t22\n",
      "Tentative: \t22\n",
      "Rejected: \t591\n",
      "Iteration: \t30 / 100\n",
      "Confirmed: \t22\n",
      "Tentative: \t22\n",
      "Rejected: \t591\n",
      "Iteration: \t31 / 100\n",
      "Confirmed: \t22\n",
      "Tentative: \t22\n",
      "Rejected: \t591\n",
      "Iteration: \t32 / 100\n",
      "Confirmed: \t23\n",
      "Tentative: \t21\n",
      "Rejected: \t591\n",
      "Iteration: \t33 / 100\n",
      "Confirmed: \t23\n",
      "Tentative: \t21\n",
      "Rejected: \t591\n",
      "Iteration: \t34 / 100\n",
      "Confirmed: \t23\n",
      "Tentative: \t21\n",
      "Rejected: \t591\n",
      "Iteration: \t35 / 100\n",
      "Confirmed: \t23\n",
      "Tentative: \t21\n",
      "Rejected: \t591\n",
      "Iteration: \t36 / 100\n",
      "Confirmed: \t23\n",
      "Tentative: \t21\n",
      "Rejected: \t591\n",
      "Iteration: \t37 / 100\n",
      "Confirmed: \t23\n",
      "Tentative: \t21\n",
      "Rejected: \t591\n",
      "Iteration: \t38 / 100\n",
      "Confirmed: \t23\n",
      "Tentative: \t21\n",
      "Rejected: \t591\n",
      "Iteration: \t39 / 100\n",
      "Confirmed: \t23\n",
      "Tentative: \t21\n",
      "Rejected: \t591\n",
      "Iteration: \t40 / 100\n",
      "Confirmed: \t23\n",
      "Tentative: \t21\n",
      "Rejected: \t591\n",
      "Iteration: \t41 / 100\n",
      "Confirmed: \t23\n",
      "Tentative: \t21\n",
      "Rejected: \t591\n",
      "Iteration: \t42 / 100\n",
      "Confirmed: \t23\n",
      "Tentative: \t21\n",
      "Rejected: \t591\n",
      "Iteration: \t43 / 100\n",
      "Confirmed: \t24\n",
      "Tentative: \t20\n",
      "Rejected: \t591\n",
      "Iteration: \t44 / 100\n",
      "Confirmed: \t24\n",
      "Tentative: \t20\n",
      "Rejected: \t591\n",
      "Iteration: \t45 / 100\n",
      "Confirmed: \t24\n",
      "Tentative: \t20\n",
      "Rejected: \t591\n",
      "Iteration: \t46 / 100\n",
      "Confirmed: \t24\n",
      "Tentative: \t20\n",
      "Rejected: \t591\n",
      "Iteration: \t47 / 100\n",
      "Confirmed: \t24\n",
      "Tentative: \t20\n",
      "Rejected: \t591\n",
      "Iteration: \t48 / 100\n",
      "Confirmed: \t24\n",
      "Tentative: \t20\n",
      "Rejected: \t591\n",
      "Iteration: \t49 / 100\n",
      "Confirmed: \t24\n",
      "Tentative: \t20\n",
      "Rejected: \t591\n",
      "Iteration: \t50 / 100\n",
      "Confirmed: \t24\n",
      "Tentative: \t20\n",
      "Rejected: \t591\n",
      "Iteration: \t51 / 100\n",
      "Confirmed: \t24\n",
      "Tentative: \t18\n",
      "Rejected: \t593\n",
      "Iteration: \t52 / 100\n",
      "Confirmed: \t24\n",
      "Tentative: \t18\n",
      "Rejected: \t593\n",
      "Iteration: \t53 / 100\n",
      "Confirmed: \t24\n",
      "Tentative: \t18\n",
      "Rejected: \t593\n",
      "Iteration: \t54 / 100\n",
      "Confirmed: \t24\n",
      "Tentative: \t18\n",
      "Rejected: \t593\n",
      "Iteration: \t55 / 100\n",
      "Confirmed: \t24\n",
      "Tentative: \t18\n",
      "Rejected: \t593\n",
      "Iteration: \t56 / 100\n",
      "Confirmed: \t24\n",
      "Tentative: \t18\n",
      "Rejected: \t593\n",
      "Iteration: \t57 / 100\n",
      "Confirmed: \t24\n",
      "Tentative: \t18\n",
      "Rejected: \t593\n",
      "Iteration: \t58 / 100\n",
      "Confirmed: \t24\n",
      "Tentative: \t18\n",
      "Rejected: \t593\n",
      "Iteration: \t59 / 100\n",
      "Confirmed: \t24\n",
      "Tentative: \t18\n",
      "Rejected: \t593\n",
      "Iteration: \t60 / 100\n",
      "Confirmed: \t24\n",
      "Tentative: \t18\n",
      "Rejected: \t593\n",
      "Iteration: \t61 / 100\n",
      "Confirmed: \t24\n",
      "Tentative: \t18\n",
      "Rejected: \t593\n",
      "Iteration: \t62 / 100\n",
      "Confirmed: \t24\n",
      "Tentative: \t18\n",
      "Rejected: \t593\n",
      "Iteration: \t63 / 100\n",
      "Confirmed: \t24\n",
      "Tentative: \t18\n",
      "Rejected: \t593\n",
      "Iteration: \t64 / 100\n",
      "Confirmed: \t24\n",
      "Tentative: \t18\n",
      "Rejected: \t593\n",
      "Iteration: \t65 / 100\n",
      "Confirmed: \t24\n",
      "Tentative: \t18\n",
      "Rejected: \t593\n",
      "Iteration: \t66 / 100\n",
      "Confirmed: \t24\n",
      "Tentative: \t18\n",
      "Rejected: \t593\n",
      "Iteration: \t67 / 100\n",
      "Confirmed: \t24\n",
      "Tentative: \t18\n",
      "Rejected: \t593\n",
      "Iteration: \t68 / 100\n",
      "Confirmed: \t24\n",
      "Tentative: \t18\n",
      "Rejected: \t593\n",
      "Iteration: \t69 / 100\n",
      "Confirmed: \t24\n",
      "Tentative: \t18\n",
      "Rejected: \t593\n",
      "Iteration: \t70 / 100\n",
      "Confirmed: \t24\n",
      "Tentative: \t17\n",
      "Rejected: \t594\n",
      "Iteration: \t71 / 100\n",
      "Confirmed: \t24\n",
      "Tentative: \t17\n",
      "Rejected: \t594\n",
      "Iteration: \t72 / 100\n",
      "Confirmed: \t25\n",
      "Tentative: \t16\n",
      "Rejected: \t594\n",
      "Iteration: \t73 / 100\n",
      "Confirmed: \t25\n",
      "Tentative: \t16\n",
      "Rejected: \t594\n",
      "Iteration: \t74 / 100\n",
      "Confirmed: \t25\n",
      "Tentative: \t16\n",
      "Rejected: \t594\n",
      "Iteration: \t75 / 100\n",
      "Confirmed: \t25\n",
      "Tentative: \t16\n",
      "Rejected: \t594\n",
      "Iteration: \t76 / 100\n",
      "Confirmed: \t25\n",
      "Tentative: \t16\n",
      "Rejected: \t594\n",
      "Iteration: \t77 / 100\n",
      "Confirmed: \t25\n",
      "Tentative: \t16\n",
      "Rejected: \t594\n",
      "Iteration: \t78 / 100\n",
      "Confirmed: \t25\n",
      "Tentative: \t16\n",
      "Rejected: \t594\n",
      "Iteration: \t79 / 100\n",
      "Confirmed: \t25\n",
      "Tentative: \t16\n",
      "Rejected: \t594\n",
      "Iteration: \t80 / 100\n",
      "Confirmed: \t25\n",
      "Tentative: \t16\n",
      "Rejected: \t594\n",
      "Iteration: \t81 / 100\n",
      "Confirmed: \t25\n",
      "Tentative: \t16\n",
      "Rejected: \t594\n",
      "Iteration: \t82 / 100\n",
      "Confirmed: \t25\n",
      "Tentative: \t16\n",
      "Rejected: \t594\n",
      "Iteration: \t83 / 100\n",
      "Confirmed: \t25\n",
      "Tentative: \t16\n",
      "Rejected: \t594\n",
      "Iteration: \t84 / 100\n",
      "Confirmed: \t25\n",
      "Tentative: \t16\n",
      "Rejected: \t594\n",
      "Iteration: \t85 / 100\n",
      "Confirmed: \t26\n",
      "Tentative: \t15\n",
      "Rejected: \t594\n",
      "Iteration: \t86 / 100\n",
      "Confirmed: \t26\n",
      "Tentative: \t15\n",
      "Rejected: \t594\n",
      "Iteration: \t87 / 100\n",
      "Confirmed: \t26\n",
      "Tentative: \t15\n",
      "Rejected: \t594\n",
      "Iteration: \t88 / 100\n",
      "Confirmed: \t26\n",
      "Tentative: \t15\n",
      "Rejected: \t594\n",
      "Iteration: \t89 / 100\n",
      "Confirmed: \t26\n",
      "Tentative: \t15\n",
      "Rejected: \t594\n",
      "Iteration: \t90 / 100\n",
      "Confirmed: \t26\n",
      "Tentative: \t15\n",
      "Rejected: \t594\n",
      "Iteration: \t91 / 100\n",
      "Confirmed: \t26\n",
      "Tentative: \t15\n",
      "Rejected: \t594\n",
      "Iteration: \t92 / 100\n",
      "Confirmed: \t26\n",
      "Tentative: \t15\n",
      "Rejected: \t594\n",
      "Iteration: \t93 / 100\n",
      "Confirmed: \t26\n",
      "Tentative: \t15\n",
      "Rejected: \t594\n",
      "Iteration: \t94 / 100\n",
      "Confirmed: \t26\n",
      "Tentative: \t15\n",
      "Rejected: \t594\n",
      "Iteration: \t95 / 100\n",
      "Confirmed: \t27\n",
      "Tentative: \t14\n",
      "Rejected: \t594\n",
      "Iteration: \t96 / 100\n",
      "Confirmed: \t27\n",
      "Tentative: \t14\n",
      "Rejected: \t594\n",
      "Iteration: \t97 / 100\n",
      "Confirmed: \t27\n",
      "Tentative: \t14\n",
      "Rejected: \t594\n",
      "Iteration: \t98 / 100\n",
      "Confirmed: \t27\n",
      "Tentative: \t14\n",
      "Rejected: \t594\n",
      "Iteration: \t99 / 100\n",
      "Confirmed: \t27\n",
      "Tentative: \t14\n",
      "Rejected: \t594\n",
      "\n",
      "\n",
      "BorutaPy finished running.\n",
      "\n",
      "Iteration: \t100 / 100\n",
      "Confirmed: \t27\n",
      "Tentative: \t11\n",
      "Rejected: \t594\n"
     ]
    },
    {
     "data": {
      "text/html": [
       "<style>#sk-container-id-20 {color: black;background-color: white;}#sk-container-id-20 pre{padding: 0;}#sk-container-id-20 div.sk-toggleable {background-color: white;}#sk-container-id-20 label.sk-toggleable__label {cursor: pointer;display: block;width: 100%;margin-bottom: 0;padding: 0.3em;box-sizing: border-box;text-align: center;}#sk-container-id-20 label.sk-toggleable__label-arrow:before {content: \"▸\";float: left;margin-right: 0.25em;color: #696969;}#sk-container-id-20 label.sk-toggleable__label-arrow:hover:before {color: black;}#sk-container-id-20 div.sk-estimator:hover label.sk-toggleable__label-arrow:before {color: black;}#sk-container-id-20 div.sk-toggleable__content {max-height: 0;max-width: 0;overflow: hidden;text-align: left;background-color: #f0f8ff;}#sk-container-id-20 div.sk-toggleable__content pre {margin: 0.2em;color: black;border-radius: 0.25em;background-color: #f0f8ff;}#sk-container-id-20 input.sk-toggleable__control:checked~div.sk-toggleable__content {max-height: 200px;max-width: 100%;overflow: auto;}#sk-container-id-20 input.sk-toggleable__control:checked~label.sk-toggleable__label-arrow:before {content: \"▾\";}#sk-container-id-20 div.sk-estimator input.sk-toggleable__control:checked~label.sk-toggleable__label {background-color: #d4ebff;}#sk-container-id-20 div.sk-label input.sk-toggleable__control:checked~label.sk-toggleable__label {background-color: #d4ebff;}#sk-container-id-20 input.sk-hidden--visually {border: 0;clip: rect(1px 1px 1px 1px);clip: rect(1px, 1px, 1px, 1px);height: 1px;margin: -1px;overflow: hidden;padding: 0;position: absolute;width: 1px;}#sk-container-id-20 div.sk-estimator {font-family: monospace;background-color: #f0f8ff;border: 1px dotted black;border-radius: 0.25em;box-sizing: border-box;margin-bottom: 0.5em;}#sk-container-id-20 div.sk-estimator:hover {background-color: #d4ebff;}#sk-container-id-20 div.sk-parallel-item::after {content: \"\";width: 100%;border-bottom: 1px solid gray;flex-grow: 1;}#sk-container-id-20 div.sk-label:hover label.sk-toggleable__label {background-color: #d4ebff;}#sk-container-id-20 div.sk-serial::before {content: \"\";position: absolute;border-left: 1px solid gray;box-sizing: border-box;top: 0;bottom: 0;left: 50%;z-index: 0;}#sk-container-id-20 div.sk-serial {display: flex;flex-direction: column;align-items: center;background-color: white;padding-right: 0.2em;padding-left: 0.2em;position: relative;}#sk-container-id-20 div.sk-item {position: relative;z-index: 1;}#sk-container-id-20 div.sk-parallel {display: flex;align-items: stretch;justify-content: center;background-color: white;position: relative;}#sk-container-id-20 div.sk-item::before, #sk-container-id-20 div.sk-parallel-item::before {content: \"\";position: absolute;border-left: 1px solid gray;box-sizing: border-box;top: 0;bottom: 0;left: 50%;z-index: -1;}#sk-container-id-20 div.sk-parallel-item {display: flex;flex-direction: column;z-index: 1;position: relative;background-color: white;}#sk-container-id-20 div.sk-parallel-item:first-child::after {align-self: flex-end;width: 50%;}#sk-container-id-20 div.sk-parallel-item:last-child::after {align-self: flex-start;width: 50%;}#sk-container-id-20 div.sk-parallel-item:only-child::after {width: 0;}#sk-container-id-20 div.sk-dashed-wrapped {border: 1px dashed gray;margin: 0 0.4em 0.5em 0.4em;box-sizing: border-box;padding-bottom: 0.4em;background-color: white;}#sk-container-id-20 div.sk-label label {font-family: monospace;font-weight: bold;display: inline-block;line-height: 1.2em;}#sk-container-id-20 div.sk-label-container {text-align: center;}#sk-container-id-20 div.sk-container {/* jupyter's `normalize.less` sets `[hidden] { display: none; }` but bootstrap.min.css set `[hidden] { display: none !important; }` so we also need the `!important` here to be able to override the default hidden behavior on the sphinx rendered scikit-learn.org. See: https://github.com/scikit-learn/scikit-learn/issues/21755 */display: inline-block !important;position: relative;}#sk-container-id-20 div.sk-text-repr-fallback {display: none;}</style><div id=\"sk-container-id-20\" class=\"sk-top-container\"><div class=\"sk-text-repr-fallback\"><pre>BorutaPy(estimator=RandomForestClassifier(class_weight=&#x27;balanced&#x27;, max_depth=5,\n",
       "                                          n_estimators=181, n_jobs=-1,\n",
       "                                          random_state=RandomState(MT19937) at 0x166410F7740),\n",
       "         n_estimators=&#x27;auto&#x27;,\n",
       "         random_state=RandomState(MT19937) at 0x166410F7740, verbose=2)</pre><b>In a Jupyter environment, please rerun this cell to show the HTML representation or trust the notebook. <br />On GitHub, the HTML representation is unable to render, please try loading this page with nbviewer.org.</b></div><div class=\"sk-container\" hidden><div class=\"sk-item sk-dashed-wrapped\"><div class=\"sk-label-container\"><div class=\"sk-label sk-toggleable\"><input class=\"sk-toggleable__control sk-hidden--visually\" id=\"sk-estimator-id-34\" type=\"checkbox\" ><label for=\"sk-estimator-id-34\" class=\"sk-toggleable__label sk-toggleable__label-arrow\">BorutaPy</label><div class=\"sk-toggleable__content\"><pre>BorutaPy(estimator=RandomForestClassifier(class_weight=&#x27;balanced&#x27;, max_depth=5,\n",
       "                                          n_estimators=181, n_jobs=-1,\n",
       "                                          random_state=RandomState(MT19937) at 0x166410F7740),\n",
       "         n_estimators=&#x27;auto&#x27;,\n",
       "         random_state=RandomState(MT19937) at 0x166410F7740, verbose=2)</pre></div></div></div><div class=\"sk-parallel\"><div class=\"sk-parallel-item\"><div class=\"sk-item\"><div class=\"sk-label-container\"><div class=\"sk-label sk-toggleable\"><input class=\"sk-toggleable__control sk-hidden--visually\" id=\"sk-estimator-id-35\" type=\"checkbox\" ><label for=\"sk-estimator-id-35\" class=\"sk-toggleable__label sk-toggleable__label-arrow\">estimator: RandomForestClassifier</label><div class=\"sk-toggleable__content\"><pre>RandomForestClassifier(class_weight=&#x27;balanced&#x27;, max_depth=5, n_estimators=181,\n",
       "                       n_jobs=-1,\n",
       "                       random_state=RandomState(MT19937) at 0x166410F7740)</pre></div></div></div><div class=\"sk-serial\"><div class=\"sk-item\"><div class=\"sk-estimator sk-toggleable\"><input class=\"sk-toggleable__control sk-hidden--visually\" id=\"sk-estimator-id-36\" type=\"checkbox\" ><label for=\"sk-estimator-id-36\" class=\"sk-toggleable__label sk-toggleable__label-arrow\">RandomForestClassifier</label><div class=\"sk-toggleable__content\"><pre>RandomForestClassifier(class_weight=&#x27;balanced&#x27;, max_depth=5, n_estimators=181,\n",
       "                       n_jobs=-1,\n",
       "                       random_state=RandomState(MT19937) at 0x166410F7740)</pre></div></div></div></div></div></div></div></div></div></div>"
      ],
      "text/plain": [
       "BorutaPy(estimator=RandomForestClassifier(class_weight='balanced', max_depth=5,\n",
       "                                          n_estimators=181, n_jobs=-1,\n",
       "                                          random_state=RandomState(MT19937) at 0x166410F7740),\n",
       "         n_estimators='auto',\n",
       "         random_state=RandomState(MT19937) at 0x166410F7740, verbose=2)"
      ]
     },
     "execution_count": 276,
     "metadata": {},
     "output_type": "execute_result"
    }
   ],
   "source": [
    "feat_selector.fit(np.array(X), y)"
   ]
  },
  {
   "cell_type": "code",
   "execution_count": 277,
   "id": "82c8863f",
   "metadata": {},
   "outputs": [
    {
     "name": "stdout",
     "output_type": "stream",
     "text": [
      "Number of selected features:  27\n"
     ]
    }
   ],
   "source": [
    "print(\"Number of selected features: \", feat_selector.n_features_)"
   ]
  },
  {
   "cell_type": "code",
   "execution_count": 278,
   "id": "732e41b3",
   "metadata": {
    "scrolled": true
   },
   "outputs": [
    {
     "data": {
      "text/plain": [
       "Index(['Freq.1715.32907573994', 'Freq.1793.31292765446',\n",
       "       'Freq.1984.28695988636', 'Freq.2032.95119529926',\n",
       "       'Freq.2148.55916353654', 'Freq.2182.52259691583',\n",
       "       'Freq.2186.33577081196', 'Freq.2242.07973381149',\n",
       "       'Freq.2761.81291676166', 'Freq.3044.21704373186',\n",
       "       'Freq.3077.77601350217', 'Freq.3414.71158220371',\n",
       "       'Freq.3425.70211639867', 'Freq.3912.82100942603',\n",
       "       'Freq.4266.3135397872', 'Freq.4282.69712175929',\n",
       "       'Freq.4305.85988898402', 'Freq.4318.14922038936',\n",
       "       'Freq.4395.12541812139', 'Freq.4773.1748593189',\n",
       "       'Freq.4823.05474215093', 'Freq.5085.12753419191',\n",
       "       'Freq.5224.39772946441', 'Freq.5433.51287445961',\n",
       "       'Freq.6079.05181901815', 'Freq.7738.28945568542',\n",
       "       'Freq.8943.76551923189'],\n",
       "      dtype='object')"
      ]
     },
     "execution_count": 278,
     "metadata": {},
     "output_type": "execute_result"
    }
   ],
   "source": [
    "# Best Features (accord to Boruta)\n",
    "X.columns[feat_selector.support_]"
   ]
  },
  {
   "cell_type": "code",
   "execution_count": 279,
   "id": "89cd78e5",
   "metadata": {},
   "outputs": [],
   "source": [
    "# Filter most importante features\n",
    "X_transform = feat_selector.transform(np.array(X))"
   ]
  },
  {
   "cell_type": "code",
   "execution_count": 280,
   "id": "c23a5f03",
   "metadata": {},
   "outputs": [],
   "source": [
    "# Define objectiva funtion to maximize metric\n",
    "def objective(trial):\n",
    "    \n",
    "    # List scalers to chose from\n",
    "    scalers = trial.suggest_categorical(\"scalers\", ['minmax', 'standard', 'robust'])\n",
    "    # Define scalers\n",
    "    if scalers == \"minmax\":\n",
    "        scaler = MinMaxScaler()\n",
    "    elif scalers == \"standard\":\n",
    "        scaler = StandardScaler()\n",
    "    else:\n",
    "        scaler = RobustScaler()\n",
    "    # LGBM Hyper Parameter Grid\n",
    "    param = {\n",
    "        \"objective\": \"binary\",\n",
    "        \"metric\": \"binary_logloss\",\n",
    "        \"verbosity\": -1,\n",
    "        \"boosting_type\": \"gbdt\",\n",
    "        \"lambda_l1\": trial.suggest_float(\"lambda_l1\", 1e-8, 10.0, log=True),\n",
    "        \"lambda_l2\": trial.suggest_float(\"lambda_l2\", 1e-8, 10.0, log=True),\n",
    "        \"num_leaves\": trial.suggest_int(\"num_leaves\", 2, 256),\n",
    "        \"feature_fraction\": trial.suggest_float(\"feature_fraction\", 0.4, 1.0),\n",
    "        \"bagging_fraction\": trial.suggest_float(\"bagging_fraction\", 0.4, 1.0),\n",
    "        \"bagging_freq\": trial.suggest_int(\"bagging_freq\", 1, 7),\n",
    "        \"min_child_samples\": trial.suggest_int(\"min_child_samples\", 5, 100),\n",
    "        \"n_estimators\": trial.suggest_int(\"max_depth\", 100, 1000)\n",
    "    }\n",
    "    # Create model pipeline with param trial\n",
    "    clf = Pipeline([(\"scaler\", scaler),\n",
    "                    (\"lgbm_clf\", lgb.LGBMClassifier(random_state=SEED, **param))])\n",
    "    # Get CV Metric we want to maximize\n",
    "    balanced_accuracy = np.mean(cross_val_score(clf, X_transform, y, scoring=metric_scorer, cv=rkf, n_jobs=-1))\n",
    "    \n",
    "    return balanced_accuracy"
   ]
  },
  {
   "cell_type": "code",
   "execution_count": 281,
   "id": "4623ad8b",
   "metadata": {},
   "outputs": [
    {
     "name": "stderr",
     "output_type": "stream",
     "text": [
      "\u001b[32m[I 2022-06-22 12:23:24,685]\u001b[0m A new study created in memory with name: no-name-9537cfd1-f771-4be9-84f2-c5085aacaac4\u001b[0m\n"
     ]
    }
   ],
   "source": [
    "study = optuna.create_study(direction=\"maximize\")"
   ]
  },
  {
   "cell_type": "code",
   "execution_count": 282,
   "id": "c5b8c6fc",
   "metadata": {
    "scrolled": true
   },
   "outputs": [
    {
     "name": "stderr",
     "output_type": "stream",
     "text": [
      "\u001b[32m[I 2022-06-22 12:23:33,031]\u001b[0m Trial 0 finished with value: 0.5 and parameters: {'scalers': 'minmax', 'lambda_l1': 0.00010650389196195333, 'lambda_l2': 0.5284911398502122, 'num_leaves': 91, 'feature_fraction': 0.487892320827369, 'bagging_fraction': 0.928213850523036, 'bagging_freq': 4, 'min_child_samples': 68, 'max_depth': 116}. Best is trial 0 with value: 0.5.\u001b[0m\n",
      "\u001b[32m[I 2022-06-22 12:23:33,706]\u001b[0m Trial 1 finished with value: 0.5 and parameters: {'scalers': 'standard', 'lambda_l1': 0.00024207495676854067, 'lambda_l2': 1.9141138837209378e-06, 'num_leaves': 171, 'feature_fraction': 0.45548449794622425, 'bagging_fraction': 0.4576570690947096, 'bagging_freq': 5, 'min_child_samples': 84, 'max_depth': 244}. Best is trial 0 with value: 0.5.\u001b[0m\n",
      "\u001b[32m[I 2022-06-22 12:23:34,257]\u001b[0m Trial 2 finished with value: 0.5 and parameters: {'scalers': 'minmax', 'lambda_l1': 0.00028470085166451916, 'lambda_l2': 1.227952984016988e-07, 'num_leaves': 99, 'feature_fraction': 0.9874417190432293, 'bagging_fraction': 0.6133499179616299, 'bagging_freq': 7, 'min_child_samples': 89, 'max_depth': 155}. Best is trial 0 with value: 0.5.\u001b[0m\n",
      "\u001b[32m[I 2022-06-22 12:23:36,939]\u001b[0m Trial 3 finished with value: 0.8480250824382014 and parameters: {'scalers': 'minmax', 'lambda_l1': 0.036812694453657736, 'lambda_l2': 0.016194933557606123, 'num_leaves': 126, 'feature_fraction': 0.6505286008441089, 'bagging_fraction': 0.9584087220310424, 'bagging_freq': 5, 'min_child_samples': 16, 'max_depth': 355}. Best is trial 3 with value: 0.8480250824382014.\u001b[0m\n",
      "\u001b[32m[I 2022-06-22 12:23:38,307]\u001b[0m Trial 4 finished with value: 0.8440333668524458 and parameters: {'scalers': 'robust', 'lambda_l1': 2.9838025134476982e-06, 'lambda_l2': 4.0630534249820565e-06, 'num_leaves': 19, 'feature_fraction': 0.7708080837428106, 'bagging_fraction': 0.8161498925555897, 'bagging_freq': 4, 'min_child_samples': 36, 'max_depth': 124}. Best is trial 3 with value: 0.8480250824382014.\u001b[0m\n",
      "\u001b[32m[I 2022-06-22 12:23:40,497]\u001b[0m Trial 5 finished with value: 0.8710019716910196 and parameters: {'scalers': 'standard', 'lambda_l1': 0.00046816767752427363, 'lambda_l2': 5.576204935122948e-07, 'num_leaves': 176, 'feature_fraction': 0.5154317651223376, 'bagging_fraction': 0.6613874655825746, 'bagging_freq': 7, 'min_child_samples': 35, 'max_depth': 348}. Best is trial 5 with value: 0.8710019716910196.\u001b[0m\n",
      "\u001b[32m[I 2022-06-22 12:23:41,273]\u001b[0m Trial 6 finished with value: 0.5 and parameters: {'scalers': 'standard', 'lambda_l1': 0.00048523811575239246, 'lambda_l2': 0.2076765747233037, 'num_leaves': 3, 'feature_fraction': 0.49740744951817395, 'bagging_fraction': 0.5525719136986778, 'bagging_freq': 6, 'min_child_samples': 68, 'max_depth': 381}. Best is trial 5 with value: 0.8710019716910196.\u001b[0m\n",
      "\u001b[32m[I 2022-06-22 12:23:42,024]\u001b[0m Trial 7 finished with value: 0.5 and parameters: {'scalers': 'minmax', 'lambda_l1': 1.7113196804433343e-08, 'lambda_l2': 0.010811539509232857, 'num_leaves': 163, 'feature_fraction': 0.6823258487418897, 'bagging_fraction': 0.5450795419580942, 'bagging_freq': 2, 'min_child_samples': 59, 'max_depth': 393}. Best is trial 5 with value: 0.8710019716910196.\u001b[0m\n",
      "\u001b[32m[I 2022-06-22 12:23:42,848]\u001b[0m Trial 8 finished with value: 0.5 and parameters: {'scalers': 'minmax', 'lambda_l1': 0.014229560744710863, 'lambda_l2': 0.001725806594286031, 'num_leaves': 198, 'feature_fraction': 0.906166237859611, 'bagging_fraction': 0.605894588095257, 'bagging_freq': 7, 'min_child_samples': 90, 'max_depth': 447}. Best is trial 5 with value: 0.8710019716910196.\u001b[0m\n",
      "\u001b[32m[I 2022-06-22 12:23:44,925]\u001b[0m Trial 9 finished with value: 0.7959749157146604 and parameters: {'scalers': 'minmax', 'lambda_l1': 4.4466182742703895, 'lambda_l2': 2.2119423081146136e-05, 'num_leaves': 2, 'feature_fraction': 0.416064157023137, 'bagging_fraction': 0.5712467313102559, 'bagging_freq': 5, 'min_child_samples': 29, 'max_depth': 601}. Best is trial 5 with value: 0.8710019716910196.\u001b[0m\n",
      "\u001b[32m[I 2022-06-22 12:23:46,998]\u001b[0m Trial 10 finished with value: 0.845155200449705 and parameters: {'scalers': 'standard', 'lambda_l1': 6.306506628981656e-07, 'lambda_l2': 1.4578355615894935e-08, 'num_leaves': 234, 'feature_fraction': 0.6008827045095528, 'bagging_fraction': 0.7368156011280579, 'bagging_freq': 1, 'min_child_samples': 42, 'max_depth': 862}. Best is trial 5 with value: 0.8710019716910196.\u001b[0m\n",
      "\u001b[32m[I 2022-06-22 12:23:50,495]\u001b[0m Trial 11 finished with value: 0.8325974348149271 and parameters: {'scalers': 'robust', 'lambda_l1': 0.17933046803880048, 'lambda_l2': 0.0001587673435041913, 'num_leaves': 122, 'feature_fraction': 0.605110640621927, 'bagging_fraction': 0.9991981061982655, 'bagging_freq': 6, 'min_child_samples': 9, 'max_depth': 633}. Best is trial 5 with value: 0.8710019716910196.\u001b[0m\n",
      "\u001b[32m[I 2022-06-22 12:23:53,752]\u001b[0m Trial 12 finished with value: 0.8481148275529081 and parameters: {'scalers': 'standard', 'lambda_l1': 0.023862327902264082, 'lambda_l2': 8.680871542003542, 'num_leaves': 64, 'feature_fraction': 0.7590534165775996, 'bagging_fraction': 0.7585738799457775, 'bagging_freq': 3, 'min_child_samples': 11, 'max_depth': 303}. Best is trial 5 with value: 0.8710019716910196.\u001b[0m\n",
      "\u001b[32m[I 2022-06-22 12:23:57,228]\u001b[0m Trial 13 finished with value: 0.8432457750367968 and parameters: {'scalers': 'standard', 'lambda_l1': 1.8035216082890284, 'lambda_l2': 6.252347287528422, 'num_leaves': 62, 'feature_fraction': 0.7745897643820818, 'bagging_fraction': 0.742130047799409, 'bagging_freq': 3, 'min_child_samples': 23, 'max_depth': 509}. Best is trial 5 with value: 0.8710019716910196.\u001b[0m\n",
      "\u001b[32m[I 2022-06-22 12:24:01,120]\u001b[0m Trial 14 finished with value: 0.8521826141479778 and parameters: {'scalers': 'standard', 'lambda_l1': 0.002877453933813411, 'lambda_l2': 4.49251916873629e-07, 'num_leaves': 256, 'feature_fraction': 0.7933152685269681, 'bagging_fraction': 0.8608126166182599, 'bagging_freq': 3, 'min_child_samples': 6, 'max_depth': 275}. Best is trial 5 with value: 0.8710019716910196.\u001b[0m\n",
      "\u001b[32m[I 2022-06-22 12:24:05,556]\u001b[0m Trial 15 finished with value: 0.8612032490857956 and parameters: {'scalers': 'standard', 'lambda_l1': 1.3199207222344458e-05, 'lambda_l2': 3.275328390461412e-07, 'num_leaves': 252, 'feature_fraction': 0.8802643443046236, 'bagging_fraction': 0.8598765382705811, 'bagging_freq': 2, 'min_child_samples': 45, 'max_depth': 733}. Best is trial 5 with value: 0.8710019716910196.\u001b[0m\n",
      "\u001b[32m[I 2022-06-22 12:24:07,731]\u001b[0m Trial 16 finished with value: 0.7687970667533359 and parameters: {'scalers': 'standard', 'lambda_l1': 3.1444604936810114e-06, 'lambda_l2': 1.1214118950352157e-08, 'num_leaves': 214, 'feature_fraction': 0.9010857082765121, 'bagging_fraction': 0.8601493516390037, 'bagging_freq': 1, 'min_child_samples': 49, 'max_depth': 958}. Best is trial 5 with value: 0.8710019716910196.\u001b[0m\n",
      "\u001b[32m[I 2022-06-22 12:24:10,819]\u001b[0m Trial 17 finished with value: 0.5 and parameters: {'scalers': 'robust', 'lambda_l1': 3.780280086510315e-05, 'lambda_l2': 6.696244027232546e-05, 'num_leaves': 174, 'feature_fraction': 0.5571230500463717, 'bagging_fraction': 0.6603357675349265, 'bagging_freq': 2, 'min_child_samples': 57, 'max_depth': 782}. Best is trial 5 with value: 0.8710019716910196.\u001b[0m\n",
      "\u001b[32m[I 2022-06-22 12:24:12,649]\u001b[0m Trial 18 finished with value: 0.5 and parameters: {'scalers': 'standard', 'lambda_l1': 3.801199136333191e-08, 'lambda_l2': 1.7341983915516992e-07, 'num_leaves': 250, 'feature_fraction': 0.8651121412890507, 'bagging_fraction': 0.41155836010585967, 'bagging_freq': 2, 'min_child_samples': 38, 'max_depth': 684}. Best is trial 5 with value: 0.8710019716910196.\u001b[0m\n",
      "\u001b[32m[I 2022-06-22 12:24:18,972]\u001b[0m Trial 19 finished with value: 0.8610240559878717 and parameters: {'scalers': 'standard', 'lambda_l1': 8.82627054321948e-06, 'lambda_l2': 1.0430437862944228e-05, 'num_leaves': 206, 'feature_fraction': 0.9873715758066398, 'bagging_fraction': 0.6870420452519574, 'bagging_freq': 4, 'min_child_samples': 27, 'max_depth': 739}. Best is trial 5 with value: 0.8710019716910196.\u001b[0m\n",
      "\u001b[32m[I 2022-06-22 12:24:21,197]\u001b[0m Trial 20 finished with value: 0.7712230040341495 and parameters: {'scalers': 'standard', 'lambda_l1': 2.960862481093361e-07, 'lambda_l2': 1.1798332606711725e-06, 'num_leaves': 151, 'feature_fraction': 0.8469517111755497, 'bagging_fraction': 0.8092602576548092, 'bagging_freq': 6, 'min_child_samples': 47, 'max_depth': 499}. Best is trial 5 with value: 0.8710019716910196.\u001b[0m\n"
     ]
    },
    {
     "name": "stderr",
     "output_type": "stream",
     "text": [
      "\u001b[32m[I 2022-06-22 12:24:27,689]\u001b[0m Trial 21 finished with value: 0.8592067886104263 and parameters: {'scalers': 'standard', 'lambda_l1': 2.4065039926722546e-05, 'lambda_l2': 1.570508061367828e-05, 'num_leaves': 202, 'feature_fraction': 0.9917645229352783, 'bagging_fraction': 0.6831882741343556, 'bagging_freq': 4, 'min_child_samples': 28, 'max_depth': 725}. Best is trial 5 with value: 0.8710019716910196.\u001b[0m\n",
      "\u001b[32m[I 2022-06-22 12:24:32,871]\u001b[0m Trial 22 finished with value: 0.8713779969815186 and parameters: {'scalers': 'standard', 'lambda_l1': 7.304353833037338e-06, 'lambda_l2': 6.291546369282907e-08, 'num_leaves': 222, 'feature_fraction': 0.9392423667211711, 'bagging_fraction': 0.6760225543292433, 'bagging_freq': 3, 'min_child_samples': 19, 'max_depth': 833}. Best is trial 22 with value: 0.8713779969815186.\u001b[0m\n",
      "\u001b[32m[I 2022-06-22 12:24:38,923]\u001b[0m Trial 23 finished with value: 0.8747459322583161 and parameters: {'scalers': 'standard', 'lambda_l1': 0.0011259192845105394, 'lambda_l2': 5.388835644428738e-08, 'num_leaves': 224, 'feature_fraction': 0.9319591818706668, 'bagging_fraction': 0.6520952066306352, 'bagging_freq': 2, 'min_child_samples': 17, 'max_depth': 853}. Best is trial 23 with value: 0.8747459322583161.\u001b[0m\n",
      "\u001b[32m[I 2022-06-22 12:24:45,062]\u001b[0m Trial 24 finished with value: 0.8741284812968249 and parameters: {'scalers': 'standard', 'lambda_l1': 0.0023758188732796648, 'lambda_l2': 5.222585591425669e-08, 'num_leaves': 224, 'feature_fraction': 0.9448098512528846, 'bagging_fraction': 0.6340246427066597, 'bagging_freq': 3, 'min_child_samples': 18, 'max_depth': 989}. Best is trial 23 with value: 0.8747459322583161.\u001b[0m\n",
      "\u001b[32m[I 2022-06-22 12:24:51,178]\u001b[0m Trial 25 finished with value: 0.8706660300269047 and parameters: {'scalers': 'robust', 'lambda_l1': 0.0025503194165129414, 'lambda_l2': 5.7553562265762596e-08, 'num_leaves': 230, 'feature_fraction': 0.931752912855327, 'bagging_fraction': 0.4935776197621044, 'bagging_freq': 3, 'min_child_samples': 20, 'max_depth': 998}. Best is trial 23 with value: 0.8747459322583161.\u001b[0m\n",
      "\u001b[32m[I 2022-06-22 12:24:56,825]\u001b[0m Trial 26 finished with value: 0.8717011912665938 and parameters: {'scalers': 'standard', 'lambda_l1': 0.002877720865023308, 'lambda_l2': 5.97317206699378e-08, 'num_leaves': 222, 'feature_fraction': 0.9287516263415431, 'bagging_fraction': 0.625810469203112, 'bagging_freq': 1, 'min_child_samples': 16, 'max_depth': 880}. Best is trial 23 with value: 0.8747459322583161.\u001b[0m\n",
      "\u001b[32m[I 2022-06-22 12:25:01,690]\u001b[0m Trial 27 finished with value: 0.8613911811013204 and parameters: {'scalers': 'standard', 'lambda_l1': 0.23206495019861406, 'lambda_l2': 4.4417466696688255e-08, 'num_leaves': 189, 'feature_fraction': 0.8264707553249093, 'bagging_fraction': 0.617221968622605, 'bagging_freq': 1, 'min_child_samples': 11, 'max_depth': 912}. Best is trial 23 with value: 0.8747459322583161.\u001b[0m\n",
      "\u001b[32m[I 2022-06-22 12:25:07,670]\u001b[0m Trial 28 finished with value: 0.8752193140751576 and parameters: {'scalers': 'standard', 'lambda_l1': 0.002573391078673378, 'lambda_l2': 1.5500206261691146e-08, 'num_leaves': 150, 'feature_fraction': 0.9512382556889073, 'bagging_fraction': 0.5208969713676338, 'bagging_freq': 1, 'min_child_samples': 17, 'max_depth': 883}. Best is trial 28 with value: 0.8752193140751576.\u001b[0m\n",
      "\u001b[32m[I 2022-06-22 12:25:10,107]\u001b[0m Trial 29 finished with value: 0.6925464229827618 and parameters: {'scalers': 'robust', 'lambda_l1': 0.1263035069625309, 'lambda_l2': 1.5786463450295114e-08, 'num_leaves': 147, 'feature_fraction': 0.9576507584353147, 'bagging_fraction': 0.49818999765485916, 'bagging_freq': 2, 'min_child_samples': 33, 'max_depth': 947}. Best is trial 28 with value: 0.8752193140751576.\u001b[0m\n",
      "\u001b[32m[I 2022-06-22 12:25:15,254]\u001b[0m Trial 30 finished with value: 0.8709203785120967 and parameters: {'scalers': 'standard', 'lambda_l1': 8.908455059285714e-05, 'lambda_l2': 2.891959582698076e-06, 'num_leaves': 108, 'feature_fraction': 0.7151793661083267, 'bagging_fraction': 0.5149401835118659, 'bagging_freq': 1, 'min_child_samples': 5, 'max_depth': 815}. Best is trial 28 with value: 0.8752193140751576.\u001b[0m\n",
      "\u001b[32m[I 2022-06-22 12:25:21,203]\u001b[0m Trial 31 finished with value: 0.8836487496206924 and parameters: {'scalers': 'standard', 'lambda_l1': 0.002582131634536214, 'lambda_l2': 3.2178313261528817e-08, 'num_leaves': 234, 'feature_fraction': 0.9407161075784332, 'bagging_fraction': 0.5836822742754505, 'bagging_freq': 1, 'min_child_samples': 17, 'max_depth': 887}. Best is trial 31 with value: 0.8836487496206924.\u001b[0m\n",
      "\u001b[32m[I 2022-06-22 12:25:26,332]\u001b[0m Trial 32 finished with value: 0.8623541216910025 and parameters: {'scalers': 'standard', 'lambda_l1': 0.00843293882941699, 'lambda_l2': 1.139516550891545e-08, 'num_leaves': 238, 'feature_fraction': 0.8157073732524616, 'bagging_fraction': 0.4453963657560711, 'bagging_freq': 2, 'min_child_samples': 23, 'max_depth': 1000}. Best is trial 31 with value: 0.8836487496206924.\u001b[0m\n",
      "\u001b[32m[I 2022-06-22 12:25:32,731]\u001b[0m Trial 33 finished with value: 0.874246076420999 and parameters: {'scalers': 'standard', 'lambda_l1': 0.0016744475142543877, 'lambda_l2': 1.001246654797659e-06, 'num_leaves': 239, 'feature_fraction': 0.9563029026427232, 'bagging_fraction': 0.5839205625682004, 'bagging_freq': 1, 'min_child_samples': 15, 'max_depth': 911}. Best is trial 31 with value: 0.8836487496206924.\u001b[0m\n",
      "\u001b[32m[I 2022-06-22 12:25:39,163]\u001b[0m Trial 34 finished with value: 0.8777616616269868 and parameters: {'scalers': 'standard', 'lambda_l1': 0.0005431374020171438, 'lambda_l2': 9.964852039459146e-07, 'num_leaves': 190, 'feature_fraction': 0.8888887547061398, 'bagging_fraction': 0.5854395518614973, 'bagging_freq': 1, 'min_child_samples': 13, 'max_depth': 894}. Best is trial 31 with value: 0.8836487496206924.\u001b[0m\n",
      "\u001b[32m[I 2022-06-22 12:25:40,572]\u001b[0m Trial 35 finished with value: 0.5 and parameters: {'scalers': 'standard', 'lambda_l1': 0.00014384588698314053, 'lambda_l2': 1.269010513691279e-07, 'num_leaves': 191, 'feature_fraction': 0.8916389222150904, 'bagging_fraction': 0.466445062993895, 'bagging_freq': 1, 'min_child_samples': 100, 'max_depth': 786}. Best is trial 31 with value: 0.8836487496206924.\u001b[0m\n",
      "\u001b[32m[I 2022-06-22 12:25:49,143]\u001b[0m Trial 36 finished with value: 0.8834410427034265 and parameters: {'scalers': 'minmax', 'lambda_l1': 0.0008184368135737997, 'lambda_l2': 2.8385985979338407e-07, 'num_leaves': 155, 'feature_fraction': 0.842889806381573, 'bagging_fraction': 0.5301974685218904, 'bagging_freq': 1, 'min_child_samples': 12, 'max_depth': 892}. Best is trial 31 with value: 0.8836487496206924.\u001b[0m\n",
      "\u001b[32m[I 2022-06-22 12:25:53,845]\u001b[0m Trial 37 finished with value: 0.8745965196868835 and parameters: {'scalers': 'minmax', 'lambda_l1': 7.686912727543821e-05, 'lambda_l2': 2.306743863003325e-07, 'num_leaves': 143, 'feature_fraction': 0.734324606193338, 'bagging_fraction': 0.5270981267113902, 'bagging_freq': 1, 'min_child_samples': 12, 'max_depth': 921}. Best is trial 31 with value: 0.8836487496206924.\u001b[0m\n",
      "\u001b[32m[I 2022-06-22 12:25:54,861]\u001b[0m Trial 38 finished with value: 0.8253652163969499 and parameters: {'scalers': 'minmax', 'lambda_l1': 0.0004075730063124396, 'lambda_l2': 4.358642250686603e-06, 'num_leaves': 164, 'feature_fraction': 0.8479478108781904, 'bagging_fraction': 0.40362069140888834, 'bagging_freq': 1, 'min_child_samples': 24, 'max_depth': 183}. Best is trial 31 with value: 0.8836487496206924.\u001b[0m\n",
      "\u001b[32m[I 2022-06-22 12:25:56,025]\u001b[0m Trial 39 finished with value: 0.5 and parameters: {'scalers': 'minmax', 'lambda_l1': 0.06517723902422987, 'lambda_l2': 1.329129352148797e-06, 'num_leaves': 135, 'feature_fraction': 0.9930602262096982, 'bagging_fraction': 0.5772463335062393, 'bagging_freq': 2, 'min_child_samples': 74, 'max_depth': 686}. Best is trial 31 with value: 0.8836487496206924.\u001b[0m\n",
      "\u001b[32m[I 2022-06-22 12:25:57,799]\u001b[0m Trial 40 finished with value: 0.5 and parameters: {'scalers': 'minmax', 'lambda_l1': 0.007272311754403401, 'lambda_l2': 0.000954318292915465, 'num_leaves': 114, 'feature_fraction': 0.8274263358789211, 'bagging_fraction': 0.4587302452146331, 'bagging_freq': 1, 'min_child_samples': 33, 'max_depth': 789}. Best is trial 31 with value: 0.8836487496206924.\u001b[0m\n",
      "\u001b[32m[I 2022-06-22 12:26:03,350]\u001b[0m Trial 41 finished with value: 0.8758582442883913 and parameters: {'scalers': 'minmax', 'lambda_l1': 0.0009346774976704332, 'lambda_l2': 2.6323699595323605e-08, 'num_leaves': 182, 'feature_fraction': 0.9094078967074192, 'bagging_fraction': 0.5532470307104429, 'bagging_freq': 2, 'min_child_samples': 15, 'max_depth': 832}. Best is trial 31 with value: 0.8836487496206924.\u001b[0m\n"
     ]
    },
    {
     "name": "stderr",
     "output_type": "stream",
     "text": [
      "\u001b[32m[I 2022-06-22 12:26:09,156]\u001b[0m Trial 42 finished with value: 0.8681394836673474 and parameters: {'scalers': 'minmax', 'lambda_l1': 0.00042898405555965034, 'lambda_l2': 3.0771362823084766e-08, 'num_leaves': 183, 'feature_fraction': 0.8792173213292823, 'bagging_fraction': 0.539665647382743, 'bagging_freq': 1, 'min_child_samples': 9, 'max_depth': 880}. Best is trial 31 with value: 0.8836487496206924.\u001b[0m\n",
      "\u001b[32m[I 2022-06-22 12:26:14,973]\u001b[0m Trial 43 finished with value: 0.8737881053629891 and parameters: {'scalers': 'minmax', 'lambda_l1': 0.0008016617685338747, 'lambda_l2': 5.705124892639596e-07, 'num_leaves': 156, 'feature_fraction': 0.9119443593512041, 'bagging_fraction': 0.5894490661510684, 'bagging_freq': 2, 'min_child_samples': 13, 'max_depth': 936}. Best is trial 31 with value: 0.8836487496206924.\u001b[0m\n",
      "\u001b[32m[I 2022-06-22 12:26:20,083]\u001b[0m Trial 44 finished with value: 0.8752180070531463 and parameters: {'scalers': 'minmax', 'lambda_l1': 0.0001956553712468332, 'lambda_l2': 1.9810297930850482e-07, 'num_leaves': 90, 'feature_fraction': 0.9696287074296263, 'bagging_fraction': 0.557839857884025, 'bagging_freq': 1, 'min_child_samples': 7, 'max_depth': 870}. Best is trial 31 with value: 0.8836487496206924.\u001b[0m\n",
      "\u001b[32m[I 2022-06-22 12:26:24,114]\u001b[0m Trial 45 finished with value: 0.8637264027896768 and parameters: {'scalers': 'minmax', 'lambda_l1': 0.005916721590309992, 'lambda_l2': 0.06674408516715069, 'num_leaves': 171, 'feature_fraction': 0.8612075126667929, 'bagging_fraction': 0.49090983798665827, 'bagging_freq': 2, 'min_child_samples': 23, 'max_depth': 811}. Best is trial 31 with value: 0.8836487496206924.\u001b[0m\n",
      "\u001b[32m[I 2022-06-22 12:26:27,651]\u001b[0m Trial 46 finished with value: 0.8647426843022817 and parameters: {'scalers': 'minmax', 'lambda_l1': 0.03136415906485285, 'lambda_l2': 2.2437032047203824e-08, 'num_leaves': 161, 'feature_fraction': 0.908615825794405, 'bagging_fraction': 0.5252632767735068, 'bagging_freq': 1, 'min_child_samples': 27, 'max_depth': 898}. Best is trial 31 with value: 0.8836487496206924.\u001b[0m\n",
      "\u001b[32m[I 2022-06-22 12:26:29,958]\u001b[0m Trial 47 finished with value: 0.875063117545509 and parameters: {'scalers': 'minmax', 'lambda_l1': 0.0008444814268414787, 'lambda_l2': 4.337305689411879e-06, 'num_leaves': 138, 'feature_fraction': 0.7921304632024994, 'bagging_fraction': 0.6042758361879919, 'bagging_freq': 1, 'min_child_samples': 32, 'max_depth': 630}. Best is trial 31 with value: 0.8836487496206924.\u001b[0m\n",
      "\u001b[32m[I 2022-06-22 12:26:34,282]\u001b[0m Trial 48 finished with value: 0.8617957139180049 and parameters: {'scalers': 'robust', 'lambda_l1': 0.013749076542598163, 'lambda_l2': 5.823249050316449e-05, 'num_leaves': 181, 'feature_fraction': 0.6902712945641309, 'bagging_fraction': 0.7199641731150874, 'bagging_freq': 2, 'min_child_samples': 38, 'max_depth': 964}. Best is trial 31 with value: 0.8836487496206924.\u001b[0m\n",
      "\u001b[32m[I 2022-06-22 12:26:39,463]\u001b[0m Trial 49 finished with value: 0.868167369674529 and parameters: {'scalers': 'minmax', 'lambda_l1': 0.0002401228491275575, 'lambda_l2': 1.5040621957325359e-07, 'num_leaves': 207, 'feature_fraction': 0.909283037553323, 'bagging_fraction': 0.5587663251094479, 'bagging_freq': 5, 'min_child_samples': 5, 'max_depth': 757}. Best is trial 31 with value: 0.8836487496206924.\u001b[0m\n",
      "\u001b[32m[I 2022-06-22 12:26:43,896]\u001b[0m Trial 50 finished with value: 0.8706861307552096 and parameters: {'scalers': 'minmax', 'lambda_l1': 4.879897175842074e-05, 'lambda_l2': 4.910398230114029e-07, 'num_leaves': 122, 'feature_fraction': 0.9664773244611367, 'bagging_fraction': 0.4754760096498393, 'bagging_freq': 1, 'min_child_samples': 20, 'max_depth': 699}. Best is trial 31 with value: 0.8836487496206924.\u001b[0m\n",
      "\u001b[32m[I 2022-06-22 12:26:48,864]\u001b[0m Trial 51 finished with value: 0.8717476581725808 and parameters: {'scalers': 'minmax', 'lambda_l1': 0.00021504709512477883, 'lambda_l2': 1.0223563094120988e-07, 'num_leaves': 90, 'feature_fraction': 0.9689975690756901, 'bagging_fraction': 0.5487976293832907, 'bagging_freq': 1, 'min_child_samples': 10, 'max_depth': 848}. Best is trial 31 with value: 0.8836487496206924.\u001b[0m\n",
      "\u001b[32m[I 2022-06-22 12:26:54,009]\u001b[0m Trial 52 finished with value: 0.8735367533653136 and parameters: {'scalers': 'minmax', 'lambda_l1': 0.0006876032537977642, 'lambda_l2': 2.5344098205481137e-08, 'num_leaves': 56, 'feature_fraction': 0.884247061729005, 'bagging_fraction': 0.4396544105878887, 'bagging_freq': 1, 'min_child_samples': 14, 'max_depth': 864}. Best is trial 31 with value: 0.8836487496206924.\u001b[0m\n",
      "\u001b[32m[I 2022-06-22 12:26:58,886]\u001b[0m Trial 53 finished with value: 0.8749005505158755 and parameters: {'scalers': 'minmax', 'lambda_l1': 0.003962916461911951, 'lambda_l2': 2.681033661168797e-07, 'num_leaves': 84, 'feature_fraction': 0.9748627046442296, 'bagging_fraction': 0.5167566158753144, 'bagging_freq': 2, 'min_child_samples': 8, 'max_depth': 829}. Best is trial 31 with value: 0.8836487496206924.\u001b[0m\n",
      "\u001b[32m[I 2022-06-22 12:27:00,092]\u001b[0m Trial 54 finished with value: 0.5 and parameters: {'scalers': 'minmax', 'lambda_l1': 0.00013092602760392692, 'lambda_l2': 1.053530735638743e-08, 'num_leaves': 167, 'feature_fraction': 0.6524501954589474, 'bagging_fraction': 0.5650976140921679, 'bagging_freq': 1, 'min_child_samples': 69, 'max_depth': 883}. Best is trial 31 with value: 0.8836487496206924.\u001b[0m\n",
      "\u001b[32m[I 2022-06-22 12:27:05,563]\u001b[0m Trial 55 finished with value: 0.8760795219787092 and parameters: {'scalers': 'minmax', 'lambda_l1': 0.0012489799604852585, 'lambda_l2': 6.836906861556658e-07, 'num_leaves': 133, 'feature_fraction': 0.8596200372126229, 'bagging_fraction': 0.5975404844251753, 'bagging_freq': 1, 'min_child_samples': 14, 'max_depth': 948}. Best is trial 31 with value: 0.8836487496206924.\u001b[0m\n",
      "\u001b[32m[I 2022-06-22 12:27:10,767]\u001b[0m Trial 56 finished with value: 0.8663194713782949 and parameters: {'scalers': 'standard', 'lambda_l1': 0.012670050842545862, 'lambda_l2': 7.137883924562882e-06, 'num_leaves': 126, 'feature_fraction': 0.8032725325946443, 'bagging_fraction': 0.6465519343888575, 'bagging_freq': 2, 'min_child_samples': 22, 'max_depth': 968}. Best is trial 31 with value: 0.8836487496206924.\u001b[0m\n",
      "\u001b[32m[I 2022-06-22 12:27:16,631]\u001b[0m Trial 57 finished with value: 0.8759202107017507 and parameters: {'scalers': 'robust', 'lambda_l1': 0.0010468565821520302, 'lambda_l2': 7.548411700672232e-07, 'num_leaves': 195, 'feature_fraction': 0.8430642706049832, 'bagging_fraction': 0.5961919246570331, 'bagging_freq': 1, 'min_child_samples': 16, 'max_depth': 933}. Best is trial 31 with value: 0.8836487496206924.\u001b[0m\n",
      "\u001b[32m[I 2022-06-22 12:27:22,342]\u001b[0m Trial 58 finished with value: 0.8745653812991273 and parameters: {'scalers': 'robust', 'lambda_l1': 0.0011894144627515564, 'lambda_l2': 3.4784130999086386e-05, 'num_leaves': 196, 'feature_fraction': 0.7644315606726533, 'bagging_fraction': 0.6051036559529828, 'bagging_freq': 2, 'min_child_samples': 13, 'max_depth': 934}. Best is trial 31 with value: 0.8836487496206924.\u001b[0m\n",
      "\u001b[32m[I 2022-06-22 12:27:27,814]\u001b[0m Trial 59 finished with value: 0.8606673967372497 and parameters: {'scalers': 'robust', 'lambda_l1': 0.00043967962533206136, 'lambda_l2': 2.0553269338751945e-06, 'num_leaves': 210, 'feature_fraction': 0.8474418395385281, 'bagging_fraction': 0.599193340188952, 'bagging_freq': 1, 'min_child_samples': 26, 'max_depth': 970}. Best is trial 31 with value: 0.8836487496206924.\u001b[0m\n",
      "\u001b[32m[I 2022-06-22 12:27:32,026]\u001b[0m Trial 60 finished with value: 0.8556899572950268 and parameters: {'scalers': 'robust', 'lambda_l1': 2.377342243638027e-05, 'lambda_l2': 8.066548167876836e-07, 'num_leaves': 176, 'feature_fraction': 0.7451290292592913, 'bagging_fraction': 0.639514590869175, 'bagging_freq': 3, 'min_child_samples': 30, 'max_depth': 757}. Best is trial 31 with value: 0.8836487496206924.\u001b[0m\n",
      "\u001b[32m[I 2022-06-22 12:27:37,537]\u001b[0m Trial 61 finished with value: 0.8775613861113087 and parameters: {'scalers': 'robust', 'lambda_l1': 0.00431927798716342, 'lambda_l2': 9.108423581263248e-08, 'num_leaves': 148, 'feature_fraction': 0.8641354906476335, 'bagging_fraction': 0.5357814857285703, 'bagging_freq': 1, 'min_child_samples': 17, 'max_depth': 907}. Best is trial 31 with value: 0.8836487496206924.\u001b[0m\n"
     ]
    },
    {
     "name": "stderr",
     "output_type": "stream",
     "text": [
      "\u001b[32m[I 2022-06-22 12:27:43,290]\u001b[0m Trial 62 finished with value: 0.8708441697191697 and parameters: {'scalers': 'robust', 'lambda_l1': 0.004916108164899716, 'lambda_l2': 1.142078775121887e-07, 'num_leaves': 156, 'feature_fraction': 0.8708465328314912, 'bagging_fraction': 0.5868893451991998, 'bagging_freq': 1, 'min_child_samples': 19, 'max_depth': 921}. Best is trial 31 with value: 0.8836487496206924.\u001b[0m\n",
      "\u001b[32m[I 2022-06-22 12:27:48,226]\u001b[0m Trial 63 finished with value: 0.8688115109864334 and parameters: {'scalers': 'robust', 'lambda_l1': 0.05808091627402084, 'lambda_l2': 3.266790532452957e-07, 'num_leaves': 188, 'feature_fraction': 0.8451196666373337, 'bagging_fraction': 0.5452725959472474, 'bagging_freq': 1, 'min_child_samples': 10, 'max_depth': 838}. Best is trial 31 with value: 0.8836487496206924.\u001b[0m\n",
      "\u001b[32m[I 2022-06-22 12:27:54,689]\u001b[0m Trial 64 finished with value: 0.8684830714521119 and parameters: {'scalers': 'robust', 'lambda_l1': 0.001475220523645136, 'lambda_l2': 6.970202791100006e-07, 'num_leaves': 197, 'feature_fraction': 0.9210954071930787, 'bagging_fraction': 0.7084357593551758, 'bagging_freq': 1, 'min_child_samples': 15, 'max_depth': 941}. Best is trial 31 with value: 0.8836487496206924.\u001b[0m\n",
      "\u001b[32m[I 2022-06-22 12:28:00,564]\u001b[0m Trial 65 finished with value: 0.8648686141215164 and parameters: {'scalers': 'robust', 'lambda_l1': 0.021966521203413525, 'lambda_l2': 2.7733153482305988, 'num_leaves': 134, 'feature_fraction': 0.781357429734751, 'bagging_fraction': 0.6174639617240427, 'bagging_freq': 2, 'min_child_samples': 21, 'max_depth': 904}. Best is trial 31 with value: 0.8836487496206924.\u001b[0m\n",
      "\u001b[32m[I 2022-06-22 12:28:06,781]\u001b[0m Trial 66 finished with value: 0.87168820863519 and parameters: {'scalers': 'robust', 'lambda_l1': 0.0012656396975631074, 'lambda_l2': 0.006955015720672276, 'num_leaves': 217, 'feature_fraction': 0.8262092372912028, 'bagging_fraction': 0.6721820117613153, 'bagging_freq': 2, 'min_child_samples': 17, 'max_depth': 804}. Best is trial 31 with value: 0.8836487496206924.\u001b[0m\n",
      "\u001b[32m[I 2022-06-22 12:28:10,106]\u001b[0m Trial 67 finished with value: 0.8603268771562115 and parameters: {'scalers': 'robust', 'lambda_l1': 0.0005628261848533631, 'lambda_l2': 9.268667711501321e-08, 'num_leaves': 178, 'feature_fraction': 0.8912779269629929, 'bagging_fraction': 0.5684386066118504, 'bagging_freq': 1, 'min_child_samples': 25, 'max_depth': 548}. Best is trial 31 with value: 0.8836487496206924.\u001b[0m\n",
      "\u001b[32m[I 2022-06-22 12:28:12,412]\u001b[0m Trial 68 finished with value: 0.5 and parameters: {'scalers': 'robust', 'lambda_l1': 0.009597406181874215, 'lambda_l2': 1.8815239425048762e-06, 'num_leaves': 142, 'feature_fraction': 0.4482835126825792, 'bagging_fraction': 0.49166060752089924, 'bagging_freq': 5, 'min_child_samples': 52, 'max_depth': 988}. Best is trial 31 with value: 0.8836487496206924.\u001b[0m\n",
      "\u001b[32m[I 2022-06-22 12:28:14,245]\u001b[0m Trial 69 finished with value: 0.5 and parameters: {'scalers': 'minmax', 'lambda_l1': 0.3642967502818545, 'lambda_l2': 0.000323625013995767, 'num_leaves': 247, 'feature_fraction': 0.8653485378499322, 'bagging_fraction': 0.5390829146265296, 'bagging_freq': 1, 'min_child_samples': 43, 'max_depth': 947}. Best is trial 31 with value: 0.8836487496206924.\u001b[0m\n",
      "\u001b[32m[I 2022-06-22 12:28:18,616]\u001b[0m Trial 70 finished with value: 0.8690777624937841 and parameters: {'scalers': 'standard', 'lambda_l1': 0.003530658799442508, 'lambda_l2': 3.503344140197746e-08, 'num_leaves': 157, 'feature_fraction': 0.8085455775974149, 'bagging_fraction': 0.7679198801106284, 'bagging_freq': 7, 'min_child_samples': 12, 'max_depth': 843}. Best is trial 31 with value: 0.8836487496206924.\u001b[0m\n",
      "\u001b[32m[I 2022-06-22 12:28:24,633]\u001b[0m Trial 71 finished with value: 0.8747485472044295 and parameters: {'scalers': 'standard', 'lambda_l1': 0.0021614062358619856, 'lambda_l2': 1.7570460236533258e-08, 'num_leaves': 150, 'feature_fraction': 0.9473701813349722, 'bagging_fraction': 0.5062012162825094, 'bagging_freq': 1, 'min_child_samples': 17, 'max_depth': 892}. Best is trial 31 with value: 0.8836487496206924.\u001b[0m\n",
      "\u001b[32m[I 2022-06-22 12:28:30,794]\u001b[0m Trial 72 finished with value: 0.874873699099318 and parameters: {'scalers': 'standard', 'lambda_l1': 0.000325344571976717, 'lambda_l2': 3.3210559237970585e-08, 'num_leaves': 130, 'feature_fraction': 0.9019418023165043, 'bagging_fraction': 0.5297128001252244, 'bagging_freq': 1, 'min_child_samples': 8, 'max_depth': 869}. Best is trial 31 with value: 0.8836487496206924.\u001b[0m\n",
      "\u001b[32m[I 2022-06-22 12:28:36,698]\u001b[0m Trial 73 finished with value: 0.8736549661423887 and parameters: {'scalers': 'standard', 'lambda_l1': 0.002149817990882281, 'lambda_l2': 7.815090821529936e-08, 'num_leaves': 169, 'feature_fraction': 0.9285945688425274, 'bagging_fraction': 0.5792489029884477, 'bagging_freq': 1, 'min_child_samples': 15, 'max_depth': 910}. Best is trial 31 with value: 0.8836487496206924.\u001b[0m\n",
      "\u001b[32m[I 2022-06-22 12:28:42,382]\u001b[0m Trial 74 finished with value: 0.870554707139266 and parameters: {'scalers': 'standard', 'lambda_l1': 8.558972671996399e-05, 'lambda_l2': 4.191043673209263e-07, 'num_leaves': 113, 'feature_fraction': 0.8358397336982744, 'bagging_fraction': 0.47691012732954396, 'bagging_freq': 1, 'min_child_samples': 19, 'max_depth': 975}. Best is trial 31 with value: 0.8836487496206924.\u001b[0m\n",
      "\u001b[32m[I 2022-06-22 12:28:48,225]\u001b[0m Trial 75 finished with value: 0.8763006321593784 and parameters: {'scalers': 'standard', 'lambda_l1': 0.0007893837005863766, 'lambda_l2': 2.143583064845238e-07, 'num_leaves': 184, 'feature_fraction': 0.8565133986258926, 'bagging_fraction': 0.6252991602884709, 'bagging_freq': 2, 'min_child_samples': 11, 'max_depth': 817}. Best is trial 31 with value: 0.8836487496206924.\u001b[0m\n",
      "\u001b[32m[I 2022-06-22 12:28:52,847]\u001b[0m Trial 76 finished with value: 0.8543229789860982 and parameters: {'scalers': 'standard', 'lambda_l1': 0.0007603485925339657, 'lambda_l2': 2.2611453614396253e-07, 'num_leaves': 186, 'feature_fraction': 0.858813736488202, 'bagging_fraction': 0.9418769756868299, 'bagging_freq': 3, 'min_child_samples': 12, 'max_depth': 772}. Best is trial 31 with value: 0.8836487496206924.\u001b[0m\n",
      "\u001b[32m[I 2022-06-22 12:28:56,777]\u001b[0m Trial 77 finished with value: 0.8652126866941107 and parameters: {'scalers': 'minmax', 'lambda_l1': 0.004364701362742054, 'lambda_l2': 1.3987597890712156e-06, 'num_leaves': 201, 'feature_fraction': 0.8783505916344058, 'bagging_fraction': 0.6263002179329915, 'bagging_freq': 2, 'min_child_samples': 5, 'max_depth': 449}. Best is trial 31 with value: 0.8836487496206924.\u001b[0m\n",
      "\u001b[32m[I 2022-06-22 12:29:01,756]\u001b[0m Trial 78 finished with value: 0.8670367759175808 and parameters: {'scalers': 'robust', 'lambda_l1': 4.588402483179005e-05, 'lambda_l2': 1.104280799493587e-05, 'num_leaves': 213, 'feature_fraction': 0.8923029309296452, 'bagging_fraction': 0.6603679063905384, 'bagging_freq': 2, 'min_child_samples': 8, 'max_depth': 815}. Best is trial 31 with value: 0.8836487496206924.\u001b[0m\n",
      "\u001b[32m[I 2022-06-22 12:29:05,444]\u001b[0m Trial 79 finished with value: 0.8642957997025336 and parameters: {'scalers': 'standard', 'lambda_l1': 0.019398467371057805, 'lambda_l2': 2.749560594443238e-06, 'num_leaves': 193, 'feature_fraction': 0.8173390345485317, 'bagging_fraction': 0.5900027278562685, 'bagging_freq': 4, 'min_child_samples': 30, 'max_depth': 719}. Best is trial 31 with value: 0.8836487496206924.\u001b[0m\n",
      "\u001b[32m[I 2022-06-22 12:29:12,218]\u001b[0m Trial 80 finished with value: 0.8728488016111854 and parameters: {'scalers': 'minmax', 'lambda_l1': 0.00027008069264740917, 'lambda_l2': 1.559079722290719e-07, 'num_leaves': 175, 'feature_fraction': 0.9156922834079727, 'bagging_fraction': 0.6149246797898177, 'bagging_freq': 2, 'min_child_samples': 14, 'max_depth': 858}. Best is trial 31 with value: 0.8836487496206924.\u001b[0m\n",
      "\u001b[32m[I 2022-06-22 12:29:18,017]\u001b[0m Trial 81 finished with value: 0.8712823534609525 and parameters: {'scalers': 'standard', 'lambda_l1': 0.0015593320360985517, 'lambda_l2': 4.8125965535907716e-08, 'num_leaves': 146, 'feature_fraction': 0.9341605702577767, 'bagging_fraction': 0.5667958099344225, 'bagging_freq': 1, 'min_child_samples': 18, 'max_depth': 929}. Best is trial 31 with value: 0.8836487496206924.\u001b[0m\n",
      "\u001b[32m[I 2022-06-22 12:29:23,134]\u001b[0m Trial 82 finished with value: 0.8677324890022257 and parameters: {'scalers': 'standard', 'lambda_l1': 0.00548673586641431, 'lambda_l2': 1.8677038882782844e-08, 'num_leaves': 153, 'feature_fraction': 0.9518312480212442, 'bagging_fraction': 0.5081893707999003, 'bagging_freq': 1, 'min_child_samples': 21, 'max_depth': 898}. Best is trial 31 with value: 0.8836487496206924.\u001b[0m\n"
     ]
    },
    {
     "name": "stderr",
     "output_type": "stream",
     "text": [
      "\u001b[32m[I 2022-06-22 12:29:28,795]\u001b[0m Trial 83 finished with value: 0.8788550160924388 and parameters: {'scalers': 'standard', 'lambda_l1': 0.0009984593970234243, 'lambda_l2': 7.591205265253566e-08, 'num_leaves': 162, 'feature_fraction': 0.8503663106899272, 'bagging_fraction': 0.5352040781193108, 'bagging_freq': 1, 'min_child_samples': 10, 'max_depth': 882}. Best is trial 31 with value: 0.8836487496206924.\u001b[0m\n",
      "\u001b[32m[I 2022-06-22 12:29:34,579]\u001b[0m Trial 84 finished with value: 0.8733723577334258 and parameters: {'scalers': 'standard', 'lambda_l1': 0.0005874617198536758, 'lambda_l2': 3.557389110981414e-07, 'num_leaves': 183, 'feature_fraction': 0.83975580450065, 'bagging_fraction': 0.5370577976793572, 'bagging_freq': 1, 'min_child_samples': 10, 'max_depth': 952}. Best is trial 31 with value: 0.8836487496206924.\u001b[0m\n",
      "\u001b[32m[I 2022-06-22 12:29:40,240]\u001b[0m Trial 85 finished with value: 0.8686329806674233 and parameters: {'scalers': 'standard', 'lambda_l1': 0.0010192521360826718, 'lambda_l2': 7.234580477109604e-07, 'num_leaves': 166, 'feature_fraction': 0.857533217984165, 'bagging_fraction': 0.5569715685809139, 'bagging_freq': 1, 'min_child_samples': 7, 'max_depth': 839}. Best is trial 31 with value: 0.8836487496206924.\u001b[0m\n",
      "\u001b[32m[I 2022-06-22 12:29:44,784]\u001b[0m Trial 86 finished with value: 0.873380498779686 and parameters: {'scalers': 'minmax', 'lambda_l1': 0.00015487433553422852, 'lambda_l2': 8.611328776552047e-08, 'num_leaves': 205, 'feature_fraction': 0.7912294262483001, 'bagging_fraction': 0.5956844279905907, 'bagging_freq': 1, 'min_child_samples': 11, 'max_depth': 798}. Best is trial 31 with value: 0.8836487496206924.\u001b[0m\n",
      "\u001b[32m[I 2022-06-22 12:29:49,711]\u001b[0m Trial 87 finished with value: 0.8741076112355135 and parameters: {'scalers': 'standard', 'lambda_l1': 0.00030856203804641977, 'lambda_l2': 2.1828357120205738e-07, 'num_leaves': 162, 'feature_fraction': 0.8748356673604982, 'bagging_fraction': 0.6326941802950209, 'bagging_freq': 2, 'min_child_samples': 14, 'max_depth': 880}. Best is trial 31 with value: 0.8836487496206924.\u001b[0m\n",
      "\u001b[32m[I 2022-06-22 12:29:54,061]\u001b[0m Trial 88 finished with value: 0.8620477655514419 and parameters: {'scalers': 'minmax', 'lambda_l1': 0.0030079521934150127, 'lambda_l2': 6.214153965369049e-08, 'num_leaves': 140, 'feature_fraction': 0.8956257278558127, 'bagging_fraction': 0.5718167689866321, 'bagging_freq': 1, 'min_child_samples': 24, 'max_depth': 826}. Best is trial 31 with value: 0.8836487496206924.\u001b[0m\n",
      "\u001b[32m[I 2022-06-22 12:29:59,129]\u001b[0m Trial 89 finished with value: 0.8772898284206333 and parameters: {'scalers': 'standard', 'lambda_l1': 0.007384675103841409, 'lambda_l2': 1.4998186535315473e-07, 'num_leaves': 172, 'feature_fraction': 0.5669438108511006, 'bagging_fraction': 0.5495124392147908, 'bagging_freq': 2, 'min_child_samples': 16, 'max_depth': 917}. Best is trial 31 with value: 0.8836487496206924.\u001b[0m\n",
      "\u001b[32m[I 2022-06-22 12:30:00,449]\u001b[0m Trial 90 finished with value: 0.5 and parameters: {'scalers': 'standard', 'lambda_l1': 0.008498757621424465, 'lambda_l2': 4.845870586047005e-07, 'num_leaves': 159, 'feature_fraction': 0.5858430608356897, 'bagging_fraction': 0.6067022451124497, 'bagging_freq': 4, 'min_child_samples': 59, 'max_depth': 918}. Best is trial 31 with value: 0.8836487496206924.\u001b[0m\n",
      "\u001b[32m[I 2022-06-22 12:30:05,564]\u001b[0m Trial 91 finished with value: 0.8821866869800306 and parameters: {'scalers': 'standard', 'lambda_l1': 0.0018099485531470067, 'lambda_l2': 1.3488381521184077e-07, 'num_leaves': 191, 'feature_fraction': 0.6166447583107519, 'bagging_fraction': 0.5501314997705808, 'bagging_freq': 3, 'min_child_samples': 17, 'max_depth': 860}. Best is trial 31 with value: 0.8836487496206924.\u001b[0m\n",
      "\u001b[32m[I 2022-06-22 12:30:10,904]\u001b[0m Trial 92 finished with value: 0.878944223153008 and parameters: {'scalers': 'standard', 'lambda_l1': 0.0018426878237630387, 'lambda_l2': 1.0258748402524874e-06, 'num_leaves': 168, 'feature_fraction': 0.5343697359982656, 'bagging_fraction': 0.5215523579177425, 'bagging_freq': 3, 'min_child_samples': 17, 'max_depth': 987}. Best is trial 31 with value: 0.8836487496206924.\u001b[0m\n",
      "\u001b[32m[I 2022-06-22 12:30:12,275]\u001b[0m Trial 93 finished with value: 0.5 and parameters: {'scalers': 'standard', 'lambda_l1': 0.04260865824817916, 'lambda_l2': 1.199720665091409e-07, 'num_leaves': 173, 'feature_fraction': 0.5174964450822405, 'bagging_fraction': 0.5304924843113547, 'bagging_freq': 3, 'min_child_samples': 84, 'max_depth': 981}. Best is trial 31 with value: 0.8836487496206924.\u001b[0m\n",
      "\u001b[32m[I 2022-06-22 12:30:17,282]\u001b[0m Trial 94 finished with value: 0.8722459412577446 and parameters: {'scalers': 'standard', 'lambda_l1': 0.00170176454205061, 'lambda_l2': 2.7686882115478535e-07, 'num_leaves': 165, 'feature_fraction': 0.5512203625326391, 'bagging_fraction': 0.506778566392323, 'bagging_freq': 3, 'min_child_samples': 20, 'max_depth': 952}. Best is trial 31 with value: 0.8836487496206924.\u001b[0m\n",
      "\u001b[32m[I 2022-06-22 12:30:22,210]\u001b[0m Trial 95 finished with value: 0.8762807495651923 and parameters: {'scalers': 'standard', 'lambda_l1': 0.005929643407355927, 'lambda_l2': 1.589119225315559e-07, 'num_leaves': 147, 'feature_fraction': 0.6389079091003853, 'bagging_fraction': 0.4814799731455704, 'bagging_freq': 4, 'min_child_samples': 11, 'max_depth': 859}. Best is trial 31 with value: 0.8836487496206924.\u001b[0m\n",
      "\u001b[32m[I 2022-06-22 12:30:26,934]\u001b[0m Trial 96 finished with value: 0.8738843133990193 and parameters: {'scalers': 'standard', 'lambda_l1': 0.014078092976266273, 'lambda_l2': 1.3048599030530224e-07, 'num_leaves': 150, 'feature_fraction': 0.6114042695050077, 'bagging_fraction': 0.4453398512883606, 'bagging_freq': 4, 'min_child_samples': 9, 'max_depth': 863}. Best is trial 31 with value: 0.8836487496206924.\u001b[0m\n",
      "\u001b[32m[I 2022-06-22 12:30:31,733]\u001b[0m Trial 97 finished with value: 0.8759146162145386 and parameters: {'scalers': 'standard', 'lambda_l1': 0.008659705475094447, 'lambda_l2': 4.099791062892263e-08, 'num_leaves': 171, 'feature_fraction': 0.5828246173104545, 'bagging_fraction': 0.490163189559247, 'bagging_freq': 4, 'min_child_samples': 6, 'max_depth': 900}. Best is trial 31 with value: 0.8836487496206924.\u001b[0m\n",
      "\u001b[32m[I 2022-06-22 12:30:36,882]\u001b[0m Trial 98 finished with value: 0.8749044455286716 and parameters: {'scalers': 'standard', 'lambda_l1': 0.00578857362365761, 'lambda_l2': 1.779431243011227e-07, 'num_leaves': 230, 'feature_fraction': 0.6658258017623822, 'bagging_fraction': 0.5496742747694956, 'bagging_freq': 3, 'min_child_samples': 12, 'max_depth': 996}. Best is trial 31 with value: 0.8836487496206924.\u001b[0m\n",
      "\u001b[32m[I 2022-06-22 12:30:41,114]\u001b[0m Trial 99 finished with value: 0.8686252106596534 and parameters: {'scalers': 'standard', 'lambda_l1': 0.003113283405760679, 'lambda_l2': 1.0680444495277258e-06, 'num_leaves': 190, 'feature_fraction': 0.6229054825576583, 'bagging_fraction': 0.4656746967103488, 'bagging_freq': 5, 'min_child_samples': 18, 'max_depth': 766}. Best is trial 31 with value: 0.8836487496206924.\u001b[0m\n",
      "\u001b[32m[I 2022-06-22 12:30:45,434]\u001b[0m Trial 100 finished with value: 0.8677415028856593 and parameters: {'scalers': 'standard', 'lambda_l1': 4.0263325022413485e-07, 'lambda_l2': 5.8794427138122444e-08, 'num_leaves': 180, 'feature_fraction': 0.5364522325585268, 'bagging_fraction': 0.48177323332259864, 'bagging_freq': 3, 'min_child_samples': 22, 'max_depth': 853}. Best is trial 31 with value: 0.8836487496206924.\u001b[0m\n",
      "\u001b[32m[I 2022-06-22 12:30:50,162]\u001b[0m Trial 101 finished with value: 0.8707558986206432 and parameters: {'scalers': 'standard', 'lambda_l1': 0.0005782430976485317, 'lambda_l2': 3.941722117546562e-07, 'num_leaves': 134, 'feature_fraction': 0.6374701307594723, 'bagging_fraction': 0.4201439266916244, 'bagging_freq': 4, 'min_child_samples': 16, 'max_depth': 884}. Best is trial 31 with value: 0.8836487496206924.\u001b[0m\n",
      "\u001b[32m[I 2022-06-22 12:30:55,348]\u001b[0m Trial 102 finished with value: 0.8793695686408535 and parameters: {'scalers': 'standard', 'lambda_l1': 0.0021999156835431984, 'lambda_l2': 1.412334941270941e-06, 'num_leaves': 160, 'feature_fraction': 0.4788743638254383, 'bagging_fraction': 0.5149854120290235, 'bagging_freq': 3, 'min_child_samples': 11, 'max_depth': 961}. Best is trial 31 with value: 0.8836487496206924.\u001b[0m\n"
     ]
    },
    {
     "name": "stderr",
     "output_type": "stream",
     "text": [
      "\u001b[32m[I 2022-06-22 12:31:00,267]\u001b[0m Trial 103 finished with value: 0.8734872313144372 and parameters: {'scalers': 'standard', 'lambda_l1': 0.0025027640575862515, 'lambda_l2': 1.6488413168823194e-06, 'num_leaves': 146, 'feature_fraction': 0.4662615723370299, 'bagging_fraction': 0.5135807458990556, 'bagging_freq': 3, 'min_child_samples': 10, 'max_depth': 924}. Best is trial 31 with value: 0.8836487496206924.\u001b[0m\n",
      "\u001b[32m[I 2022-06-22 12:31:02,817]\u001b[0m Trial 104 finished with value: 0.8793289634127484 and parameters: {'scalers': 'standard', 'lambda_l1': 0.0282533576854392, 'lambda_l2': 8.944620128751643e-08, 'num_leaves': 155, 'feature_fraction': 0.48996670085494004, 'bagging_fraction': 0.5357822422030867, 'bagging_freq': 3, 'min_child_samples': 12, 'max_depth': 327}. Best is trial 31 with value: 0.8836487496206924.\u001b[0m\n",
      "\u001b[32m[I 2022-06-22 12:31:05,458]\u001b[0m Trial 105 finished with value: 0.8692502265751103 and parameters: {'scalers': 'standard', 'lambda_l1': 0.0945856077579523, 'lambda_l2': 8.165497421703038e-08, 'num_leaves': 160, 'feature_fraction': 0.5034124294202827, 'bagging_fraction': 0.5225726845003852, 'bagging_freq': 3, 'min_child_samples': 7, 'max_depth': 336}. Best is trial 31 with value: 0.8836487496206924.\u001b[0m\n",
      "\u001b[32m[I 2022-06-22 12:31:07,342]\u001b[0m Trial 106 finished with value: 0.8726331772587578 and parameters: {'scalers': 'standard', 'lambda_l1': 0.020663316660235312, 'lambda_l2': 5.575889844830462e-06, 'num_leaves': 171, 'feature_fraction': 0.4788753539755492, 'bagging_fraction': 0.5433495254633052, 'bagging_freq': 3, 'min_child_samples': 13, 'max_depth': 214}. Best is trial 31 with value: 0.8836487496206924.\u001b[0m\n",
      "\u001b[32m[I 2022-06-22 12:31:08,391]\u001b[0m Trial 107 finished with value: 0.8627822367476006 and parameters: {'scalers': 'standard', 'lambda_l1': 0.03682110544274843, 'lambda_l2': 2.5959794868975067e-08, 'num_leaves': 12, 'feature_fraction': 0.4249455313044388, 'bagging_fraction': 0.5779930986947867, 'bagging_freq': 3, 'min_child_samples': 17, 'max_depth': 107}. Best is trial 31 with value: 0.8836487496206924.\u001b[0m\n",
      "\u001b[32m[I 2022-06-22 12:31:11,212]\u001b[0m Trial 108 finished with value: 0.8684792786977384 and parameters: {'scalers': 'standard', 'lambda_l1': 0.0019000008270776394, 'lambda_l2': 2.8712780178924097e-07, 'num_leaves': 154, 'feature_fraction': 0.5279511948677162, 'bagging_fraction': 0.5593884449201987, 'bagging_freq': 3, 'min_child_samples': 20, 'max_depth': 465}. Best is trial 31 with value: 0.8836487496206924.\u001b[0m\n",
      "\u001b[32m[I 2022-06-22 12:31:14,911]\u001b[0m Trial 109 finished with value: 0.8740304188200859 and parameters: {'scalers': 'standard', 'lambda_l1': 7.845857339201218e-08, 'lambda_l2': 3.0918628407629555e-06, 'num_leaves': 177, 'feature_fraction': 0.49904331198940544, 'bagging_fraction': 0.5010625048533309, 'bagging_freq': 2, 'min_child_samples': 5, 'max_depth': 376}. Best is trial 31 with value: 0.8836487496206924.\u001b[0m\n",
      "\u001b[32m[I 2022-06-22 12:31:15,647]\u001b[0m Trial 110 finished with value: 0.5 and parameters: {'scalers': 'standard', 'lambda_l1': 0.3708066762579054, 'lambda_l2': 1.0857125964190134e-06, 'num_leaves': 185, 'feature_fraction': 0.5621278277043882, 'bagging_fraction': 0.5148437258577131, 'bagging_freq': 3, 'min_child_samples': 65, 'max_depth': 302}. Best is trial 31 with value: 0.8836487496206924.\u001b[0m\n",
      "\u001b[32m[I 2022-06-22 12:31:20,593]\u001b[0m Trial 111 finished with value: 0.8749589584177434 and parameters: {'scalers': 'standard', 'lambda_l1': 0.005037023174060117, 'lambda_l2': 1.7024266851643333e-07, 'num_leaves': 163, 'feature_fraction': 0.5671181295457333, 'bagging_fraction': 0.5224973433672145, 'bagging_freq': 4, 'min_child_samples': 11, 'max_depth': 960}. Best is trial 31 with value: 0.8836487496206924.\u001b[0m\n",
      "\u001b[32m[I 2022-06-22 12:31:25,861]\u001b[0m Trial 112 finished with value: 0.8662795799831403 and parameters: {'scalers': 'standard', 'lambda_l1': 0.00041629553764031276, 'lambda_l2': 1.0928713676341562e-07, 'num_leaves': 144, 'feature_fraction': 0.44225892615920265, 'bagging_fraction': 0.8871157311812012, 'bagging_freq': 4, 'min_child_samples': 15, 'max_depth': 915}. Best is trial 31 with value: 0.8836487496206924.\u001b[0m\n",
      "\u001b[32m[I 2022-06-22 12:31:30,497]\u001b[0m Trial 113 finished with value: 0.8706936283530708 and parameters: {'scalers': 'standard', 'lambda_l1': 0.003760193020681844, 'lambda_l2': 7.141500542183609e-08, 'num_leaves': 155, 'feature_fraction': 0.4861094071259702, 'bagging_fraction': 0.5394889187040509, 'bagging_freq': 6, 'min_child_samples': 9, 'max_depth': 891}. Best is trial 31 with value: 0.8836487496206924.\u001b[0m\n",
      "\u001b[32m[I 2022-06-22 12:31:35,173]\u001b[0m Trial 114 finished with value: 0.8746035262681933 and parameters: {'scalers': 'standard', 'lambda_l1': 0.010930275706251814, 'lambda_l2': 4.0526386241689925e-08, 'num_leaves': 166, 'feature_fraction': 0.6725411843289827, 'bagging_fraction': 0.5336199670195009, 'bagging_freq': 3, 'min_child_samples': 13, 'max_depth': 873}. Best is trial 31 with value: 0.8836487496206924.\u001b[0m\n",
      "\u001b[32m[I 2022-06-22 12:31:40,070]\u001b[0m Trial 115 finished with value: 0.8773549513996494 and parameters: {'scalers': 'standard', 'lambda_l1': 0.0011768899087707513, 'lambda_l2': 5.490124981953875e-07, 'num_leaves': 150, 'feature_fraction': 0.5425533083154149, 'bagging_fraction': 0.4890120075834027, 'bagging_freq': 3, 'min_child_samples': 11, 'max_depth': 823}. Best is trial 31 with value: 0.8836487496206924.\u001b[0m\n",
      "\u001b[32m[I 2022-06-22 12:31:44,845]\u001b[0m Trial 116 finished with value: 0.8763949553198779 and parameters: {'scalers': 'standard', 'lambda_l1': 0.0007642149839130738, 'lambda_l2': 4.946113022424595e-07, 'num_leaves': 138, 'feature_fraction': 0.5422207786093103, 'bagging_fraction': 0.5498703512184088, 'bagging_freq': 3, 'min_child_samples': 16, 'max_depth': 821}. Best is trial 31 with value: 0.8836487496206924.\u001b[0m\n",
      "\u001b[32m[I 2022-06-22 12:31:45,891]\u001b[0m Trial 117 finished with value: 0.8536539051119161 and parameters: {'scalers': 'standard', 'lambda_l1': 0.000186503630117196, 'lambda_l2': 5.176795443367024e-07, 'num_leaves': 139, 'feature_fraction': 0.5407031740568266, 'bagging_fraction': 0.4946297374043499, 'bagging_freq': 3, 'min_child_samples': 25, 'max_depth': 139}. Best is trial 31 with value: 0.8836487496206924.\u001b[0m\n",
      "\u001b[32m[I 2022-06-22 12:31:51,051]\u001b[0m Trial 118 finished with value: 0.876370769345034 and parameters: {'scalers': 'standard', 'lambda_l1': 0.0011135873518086758, 'lambda_l2': 2.4226521211856548e-06, 'num_leaves': 123, 'feature_fraction': 0.513897922978136, 'bagging_fraction': 0.4587080938174191, 'bagging_freq': 3, 'min_child_samples': 16, 'max_depth': 977}. Best is trial 31 with value: 0.8836487496206924.\u001b[0m\n",
      "\u001b[32m[I 2022-06-22 12:31:54,435]\u001b[0m Trial 119 finished with value: 0.8766679392803618 and parameters: {'scalers': 'standard', 'lambda_l1': 0.0017804921512002585, 'lambda_l2': 9.732945580314546e-07, 'num_leaves': 151, 'feature_fraction': 0.5760097633643619, 'bagging_fraction': 0.5595678750651818, 'bagging_freq': 3, 'min_child_samples': 18, 'max_depth': 540}. Best is trial 31 with value: 0.8836487496206924.\u001b[0m\n",
      "\u001b[32m[I 2022-06-22 12:31:56,873]\u001b[0m Trial 120 finished with value: 0.8628777433866445 and parameters: {'scalers': 'standard', 'lambda_l1': 0.0015810126934145258, 'lambda_l2': 1.0104289568226832e-06, 'num_leaves': 128, 'feature_fraction': 0.5772692074924599, 'bagging_fraction': 0.5674122596933157, 'bagging_freq': 3, 'min_child_samples': 22, 'max_depth': 408}. Best is trial 31 with value: 0.8836487496206924.\u001b[0m\n",
      "\u001b[32m[I 2022-06-22 12:32:00,326]\u001b[0m Trial 121 finished with value: 0.8752590174273612 and parameters: {'scalers': 'standard', 'lambda_l1': 0.0006752735887105909, 'lambda_l2': 6.030490213536669e-07, 'num_leaves': 151, 'feature_fraction': 0.5467401853705279, 'bagging_fraction': 0.5494429968587576, 'bagging_freq': 3, 'min_child_samples': 19, 'max_depth': 581}. Best is trial 31 with value: 0.8836487496206924.\u001b[0m\n",
      "\u001b[32m[I 2022-06-22 12:32:03,430]\u001b[0m Trial 122 finished with value: 0.8767212938205584 and parameters: {'scalers': 'standard', 'lambda_l1': 0.002614162818226399, 'lambda_l2': 3.584979038531287e-07, 'num_leaves': 158, 'feature_fraction': 0.5973198174554823, 'bagging_fraction': 0.5283496808773964, 'bagging_freq': 3, 'min_child_samples': 18, 'max_depth': 506}. Best is trial 31 with value: 0.8836487496206924.\u001b[0m\n"
     ]
    },
    {
     "name": "stderr",
     "output_type": "stream",
     "text": [
      "\u001b[32m[I 2022-06-22 12:32:06,833]\u001b[0m Trial 123 finished with value: 0.8724082177067858 and parameters: {'scalers': 'standard', 'lambda_l1': 0.0023326744552785565, 'lambda_l2': 3.418189263738051e-06, 'num_leaves': 160, 'feature_fraction': 0.5908119850425395, 'bagging_fraction': 0.5272769549484085, 'bagging_freq': 3, 'min_child_samples': 18, 'max_depth': 562}. Best is trial 31 with value: 0.8836487496206924.\u001b[0m\n",
      "\u001b[32m[I 2022-06-22 12:32:09,556]\u001b[0m Trial 124 finished with value: 0.8643864547260444 and parameters: {'scalers': 'standard', 'lambda_l1': 0.00312421174179364, 'lambda_l2': 1.495332466781988e-06, 'num_leaves': 169, 'feature_fraction': 0.6030274613653532, 'bagging_fraction': 0.579293067121224, 'bagging_freq': 3, 'min_child_samples': 28, 'max_depth': 509}. Best is trial 31 with value: 0.8836487496206924.\u001b[0m\n",
      "\u001b[32m[I 2022-06-22 12:32:13,496]\u001b[0m Trial 125 finished with value: 0.8777167114790955 and parameters: {'scalers': 'standard', 'lambda_l1': 0.007092149776836769, 'lambda_l2': 3.067086589196208e-07, 'num_leaves': 154, 'feature_fraction': 0.525967338831103, 'bagging_fraction': 0.5028246366149343, 'bagging_freq': 3, 'min_child_samples': 14, 'max_depth': 644}. Best is trial 31 with value: 0.8836487496206924.\u001b[0m\n",
      "\u001b[32m[I 2022-06-22 12:32:17,373]\u001b[0m Trial 126 finished with value: 0.8768309804875208 and parameters: {'scalers': 'standard', 'lambda_l1': 0.01636189827989088, 'lambda_l2': 3.095322335425665e-07, 'num_leaves': 157, 'feature_fraction': 0.52383130104056, 'bagging_fraction': 0.5015069764266497, 'bagging_freq': 3, 'min_child_samples': 14, 'max_depth': 659}. Best is trial 31 with value: 0.8836487496206924.\u001b[0m\n",
      "\u001b[32m[I 2022-06-22 12:32:22,191]\u001b[0m Trial 127 finished with value: 0.876298567123451 and parameters: {'scalers': 'standard', 'lambda_l1': 0.02609663149337134, 'lambda_l2': 2.9508257334038626e-07, 'num_leaves': 243, 'feature_fraction': 0.4674463919550346, 'bagging_fraction': 0.5053138055079494, 'bagging_freq': 3, 'min_child_samples': 13, 'max_depth': 944}. Best is trial 31 with value: 0.8836487496206924.\u001b[0m\n",
      "\u001b[32m[I 2022-06-22 12:32:26,211]\u001b[0m Trial 128 finished with value: 0.8730301292704544 and parameters: {'scalers': 'standard', 'lambda_l1': 0.013641790246084097, 'lambda_l2': 1.0468162962693242e-07, 'num_leaves': 164, 'feature_fraction': 0.5264675228330113, 'bagging_fraction': 0.46601127528692865, 'bagging_freq': 2, 'min_child_samples': 8, 'max_depth': 639}. Best is trial 31 with value: 0.8836487496206924.\u001b[0m\n",
      "\u001b[32m[I 2022-06-22 12:32:30,030]\u001b[0m Trial 129 finished with value: 0.873785037159263 and parameters: {'scalers': 'standard', 'lambda_l1': 0.006253816856591409, 'lambda_l2': 1.1495483592067983e-08, 'num_leaves': 175, 'feature_fraction': 0.5111830299627815, 'bagging_fraction': 0.42729122818668586, 'bagging_freq': 1, 'min_child_samples': 14, 'max_depth': 617}. Best is trial 31 with value: 0.8836487496206924.\u001b[0m\n",
      "\u001b[32m[I 2022-06-22 12:32:34,262]\u001b[0m Trial 130 finished with value: 0.8752095201410216 and parameters: {'scalers': 'standard', 'lambda_l1': 0.058940251799833636, 'lambda_l2': 2.1450512191787123e-07, 'num_leaves': 142, 'feature_fraction': 0.48777099650334393, 'bagging_fraction': 0.48389861800816897, 'bagging_freq': 3, 'min_child_samples': 9, 'max_depth': 904}. Best is trial 31 with value: 0.8836487496206924.\u001b[0m\n",
      "\u001b[32m[I 2022-06-22 12:32:38,261]\u001b[0m Trial 131 finished with value: 0.8781703882203109 and parameters: {'scalers': 'standard', 'lambda_l1': 0.009109843021003736, 'lambda_l2': 3.7592035651726684e-07, 'num_leaves': 160, 'feature_fraction': 0.5288052856960107, 'bagging_fraction': 0.5158492908356117, 'bagging_freq': 3, 'min_child_samples': 15, 'max_depth': 666}. Best is trial 31 with value: 0.8836487496206924.\u001b[0m\n",
      "\u001b[32m[I 2022-06-22 12:32:42,227]\u001b[0m Trial 132 finished with value: 0.8740780977493438 and parameters: {'scalers': 'standard', 'lambda_l1': 0.014338975259331473, 'lambda_l2': 5.963894154645914e-08, 'num_leaves': 158, 'feature_fraction': 0.5224619667302899, 'bagging_fraction': 0.5163232050810178, 'bagging_freq': 3, 'min_child_samples': 12, 'max_depth': 662}. Best is trial 31 with value: 0.8836487496206924.\u001b[0m\n",
      "\u001b[32m[I 2022-06-22 12:32:46,349]\u001b[0m Trial 133 finished with value: 0.8737694583753022 and parameters: {'scalers': 'standard', 'lambda_l1': 0.008177134523114199, 'lambda_l2': 1.3343464609320347e-07, 'num_leaves': 153, 'feature_fraction': 0.5069652037117094, 'bagging_fraction': 0.5005545307085222, 'bagging_freq': 3, 'min_child_samples': 15, 'max_depth': 705}. Best is trial 31 with value: 0.8836487496206924.\u001b[0m\n",
      "\u001b[32m[I 2022-06-22 12:32:50,527]\u001b[0m Trial 134 finished with value: 0.8751685035595639 and parameters: {'scalers': 'standard', 'lambda_l1': 0.004118650241585086, 'lambda_l2': 3.824201182310667e-07, 'num_leaves': 37, 'feature_fraction': 0.5349577144871418, 'bagging_fraction': 0.4709250095323348, 'bagging_freq': 3, 'min_child_samples': 7, 'max_depth': 667}. Best is trial 31 with value: 0.8836487496206924.\u001b[0m\n",
      "\u001b[32m[I 2022-06-22 12:32:54,616]\u001b[0m Trial 135 finished with value: 0.8652440533322887 and parameters: {'scalers': 'standard', 'lambda_l1': 0.02037822729625795, 'lambda_l2': 7.363965784254156e-07, 'num_leaves': 168, 'feature_fraction': 0.5624557652714648, 'bagging_fraction': 0.49572022530956494, 'bagging_freq': 2, 'min_child_samples': 21, 'max_depth': 594}. Best is trial 31 with value: 0.8836487496206924.\u001b[0m\n",
      "\u001b[32m[I 2022-06-22 12:33:00,031]\u001b[0m Trial 136 finished with value: 0.8737084126958353 and parameters: {'scalers': 'standard', 'lambda_l1': 0.09402146922111136, 'lambda_l2': 0.35044261099115825, 'num_leaves': 147, 'feature_fraction': 0.4914888174963983, 'bagging_fraction': 0.5386003543358813, 'bagging_freq': 3, 'min_child_samples': 13, 'max_depth': 663}. Best is trial 31 with value: 0.8836487496206924.\u001b[0m\n",
      "\u001b[32m[I 2022-06-22 12:33:03,848]\u001b[0m Trial 137 finished with value: 0.8721795081853131 and parameters: {'scalers': 'standard', 'lambda_l1': 0.034581069495802634, 'lambda_l2': 3.173767849628545e-08, 'num_leaves': 161, 'feature_fraction': 0.4745734644549614, 'bagging_fraction': 0.5155507446022404, 'bagging_freq': 1, 'min_child_samples': 10, 'max_depth': 644}. Best is trial 31 with value: 0.8836487496206924.\u001b[0m\n",
      "\u001b[32m[I 2022-06-22 12:33:08,385]\u001b[0m Trial 138 finished with value: 0.877092187825934 and parameters: {'scalers': 'standard', 'lambda_l1': 0.008305626216828189, 'lambda_l2': 0.001992729504023731, 'num_leaves': 173, 'feature_fraction': 0.5515329543843336, 'bagging_fraction': 0.5317528857176923, 'bagging_freq': 3, 'min_child_samples': 16, 'max_depth': 735}. Best is trial 31 with value: 0.8836487496206924.\u001b[0m\n",
      "\u001b[32m[I 2022-06-22 12:33:13,231]\u001b[0m Trial 139 finished with value: 0.8722567671191896 and parameters: {'scalers': 'robust', 'lambda_l1': 0.008550460310347317, 'lambda_l2': 0.003815095840438749, 'num_leaves': 179, 'feature_fraction': 0.7056573366980219, 'bagging_fraction': 0.5346540525985396, 'bagging_freq': 1, 'min_child_samples': 16, 'max_depth': 743}. Best is trial 31 with value: 0.8836487496206924.\u001b[0m\n",
      "\u001b[32m[I 2022-06-22 12:33:18,198]\u001b[0m Trial 140 finished with value: 0.8668406305596705 and parameters: {'scalers': 'standard', 'lambda_l1': 0.0012945475967334008, 'lambda_l2': 2.158326013945518e-08, 'num_leaves': 202, 'feature_fraction': 0.5671555863469422, 'bagging_fraction': 0.5507137184498501, 'bagging_freq': 1, 'min_child_samples': 23, 'max_depth': 932}. Best is trial 31 with value: 0.8836487496206924.\u001b[0m\n",
      "\u001b[32m[I 2022-06-22 12:33:22,510]\u001b[0m Trial 141 finished with value: 0.8790699277073116 and parameters: {'scalers': 'standard', 'lambda_l1': 0.01216496532803714, 'lambda_l2': 0.0008471593849700617, 'num_leaves': 174, 'feature_fraction': 0.5523319368682865, 'bagging_fraction': 0.5069456475414132, 'bagging_freq': 3, 'min_child_samples': 12, 'max_depth': 717}. Best is trial 31 with value: 0.8836487496206924.\u001b[0m\n",
      "\u001b[32m[I 2022-06-22 12:33:26,983]\u001b[0m Trial 142 finished with value: 0.8772265863221747 and parameters: {'scalers': 'standard', 'lambda_l1': 0.004393112108562702, 'lambda_l2': 0.0008825620256570731, 'num_leaves': 175, 'feature_fraction': 0.5570362461343412, 'bagging_fraction': 0.524443603124397, 'bagging_freq': 3, 'min_child_samples': 11, 'max_depth': 717}. Best is trial 31 with value: 0.8836487496206924.\u001b[0m\n"
     ]
    },
    {
     "name": "stderr",
     "output_type": "stream",
     "text": [
      "\u001b[32m[I 2022-06-22 12:33:31,375]\u001b[0m Trial 143 finished with value: 0.8776563271180144 and parameters: {'scalers': 'standard', 'lambda_l1': 0.0032170216058973575, 'lambda_l2': 0.00033819754045059415, 'num_leaves': 169, 'feature_fraction': 0.5560626148630541, 'bagging_fraction': 0.5185643379967751, 'bagging_freq': 3, 'min_child_samples': 11, 'max_depth': 689}. Best is trial 31 with value: 0.8836487496206924.\u001b[0m\n",
      "\u001b[32m[I 2022-06-22 12:33:36,513]\u001b[0m Trial 144 finished with value: 0.8775680476429314 and parameters: {'scalers': 'standard', 'lambda_l1': 0.001072727430778094, 'lambda_l2': 0.001402497528447426, 'num_leaves': 168, 'feature_fraction': 0.5383205530755695, 'bagging_fraction': 0.5051322195747276, 'bagging_freq': 3, 'min_child_samples': 6, 'max_depth': 695}. Best is trial 31 with value: 0.8836487496206924.\u001b[0m\n",
      "\u001b[32m[I 2022-06-22 12:33:41,411]\u001b[0m Trial 145 finished with value: 0.8757740915989756 and parameters: {'scalers': 'standard', 'lambda_l1': 0.0008984569339613656, 'lambda_l2': 0.0004098716936168023, 'num_leaves': 165, 'feature_fraction': 0.49872645647336156, 'bagging_fraction': 0.48087814572251414, 'bagging_freq': 3, 'min_child_samples': 6, 'max_depth': 691}. Best is trial 31 with value: 0.8836487496206924.\u001b[0m\n",
      "\u001b[32m[I 2022-06-22 12:33:45,814]\u001b[0m Trial 146 finished with value: 0.8787304040773468 and parameters: {'scalers': 'standard', 'lambda_l1': 0.0003762001737463445, 'lambda_l2': 0.00010160400436942248, 'num_leaves': 192, 'feature_fraction': 0.5405678474676512, 'bagging_fraction': 0.5123185285807589, 'bagging_freq': 3, 'min_child_samples': 8, 'max_depth': 698}. Best is trial 31 with value: 0.8836487496206924.\u001b[0m\n",
      "\u001b[32m[I 2022-06-22 12:33:50,704]\u001b[0m Trial 147 finished with value: 0.8734016117396536 and parameters: {'scalers': 'standard', 'lambda_l1': 0.00038672954656246146, 'lambda_l2': 0.0005568140705208299, 'num_leaves': 191, 'feature_fraction': 0.511988713053702, 'bagging_fraction': 0.5126861026193559, 'bagging_freq': 3, 'min_child_samples': 5, 'max_depth': 677}. Best is trial 31 with value: 0.8836487496206924.\u001b[0m\n",
      "\u001b[32m[I 2022-06-22 12:33:55,711]\u001b[0m Trial 148 finished with value: 0.8780289899943537 and parameters: {'scalers': 'standard', 'lambda_l1': 0.0004413896182740096, 'lambda_l2': 0.0014311378783463421, 'num_leaves': 219, 'feature_fraction': 0.4607610269395573, 'bagging_fraction': 0.5075090236109894, 'bagging_freq': 3, 'min_child_samples': 8, 'max_depth': 703}. Best is trial 31 with value: 0.8836487496206924.\u001b[0m\n",
      "\u001b[32m[I 2022-06-22 12:34:01,850]\u001b[0m Trial 149 finished with value: 0.8721128454663671 and parameters: {'scalers': 'standard', 'lambda_l1': 0.00047347044781933476, 'lambda_l2': 0.00014569365503591845, 'num_leaves': 234, 'feature_fraction': 0.44147189663014946, 'bagging_fraction': 0.5065178757600612, 'bagging_freq': 3, 'min_child_samples': 8, 'max_depth': 706}. Best is trial 31 with value: 0.8836487496206924.\u001b[0m\n",
      "\u001b[32m[I 2022-06-22 12:34:07,595]\u001b[0m Trial 150 finished with value: 0.8795188098150559 and parameters: {'scalers': 'standard', 'lambda_l1': 0.0002603640821916689, 'lambda_l2': 0.001876364808235574, 'num_leaves': 219, 'feature_fraction': 0.4610712998453644, 'bagging_fraction': 0.4527153774729153, 'bagging_freq': 3, 'min_child_samples': 9, 'max_depth': 622}. Best is trial 31 with value: 0.8836487496206924.\u001b[0m\n",
      "\u001b[32m[I 2022-06-22 12:34:13,048]\u001b[0m Trial 151 finished with value: 0.8798473840186302 and parameters: {'scalers': 'standard', 'lambda_l1': 0.00031219724902946356, 'lambda_l2': 0.0011973445698107012, 'num_leaves': 227, 'feature_fraction': 0.40483696016158927, 'bagging_fraction': 0.44819121353567637, 'bagging_freq': 3, 'min_child_samples': 9, 'max_depth': 617}. Best is trial 31 with value: 0.8836487496206924.\u001b[0m\n",
      "\u001b[32m[I 2022-06-22 12:34:18,459]\u001b[0m Trial 152 finished with value: 0.8759076321854958 and parameters: {'scalers': 'standard', 'lambda_l1': 0.00022207589710334473, 'lambda_l2': 0.0029442147996720357, 'num_leaves': 218, 'feature_fraction': 0.41385676291513523, 'bagging_fraction': 0.43591099653994436, 'bagging_freq': 3, 'min_child_samples': 9, 'max_depth': 606}. Best is trial 31 with value: 0.8836487496206924.\u001b[0m\n",
      "\u001b[32m[I 2022-06-22 12:34:24,434]\u001b[0m Trial 153 finished with value: 0.879825219500142 and parameters: {'scalers': 'standard', 'lambda_l1': 7.981861041241018e-05, 'lambda_l2': 0.0009744946760421404, 'num_leaves': 224, 'feature_fraction': 0.4273570019574807, 'bagging_fraction': 0.4482227161910373, 'bagging_freq': 3, 'min_child_samples': 9, 'max_depth': 646}. Best is trial 31 with value: 0.8836487496206924.\u001b[0m\n",
      "\u001b[32m[I 2022-06-22 12:34:29,139]\u001b[0m Trial 154 finished with value: 0.8801969067224484 and parameters: {'scalers': 'standard', 'lambda_l1': 0.00013428757158551657, 'lambda_l2': 0.00014703626178929323, 'num_leaves': 227, 'feature_fraction': 0.42777115348134553, 'bagging_fraction': 0.44826902313049566, 'bagging_freq': 3, 'min_child_samples': 8, 'max_depth': 629}. Best is trial 31 with value: 0.8836487496206924.\u001b[0m\n",
      "\u001b[32m[I 2022-06-22 12:34:33,070]\u001b[0m Trial 155 finished with value: 0.8773991874998065 and parameters: {'scalers': 'standard', 'lambda_l1': 5.345579545105472e-05, 'lambda_l2': 0.0001430977141139537, 'num_leaves': 227, 'feature_fraction': 0.40455213251016253, 'bagging_fraction': 0.44648810893684204, 'bagging_freq': 3, 'min_child_samples': 8, 'max_depth': 623}. Best is trial 31 with value: 0.8836487496206924.\u001b[0m\n",
      "\u001b[32m[I 2022-06-22 12:34:38,116]\u001b[0m Trial 156 finished with value: 0.8761555229686034 and parameters: {'scalers': 'standard', 'lambda_l1': 7.901468107394828e-05, 'lambda_l2': 0.0161818363722383, 'num_leaves': 222, 'feature_fraction': 0.4310422744148938, 'bagging_fraction': 0.4525618622973229, 'bagging_freq': 3, 'min_child_samples': 5, 'max_depth': 594}. Best is trial 31 with value: 0.8836487496206924.\u001b[0m\n",
      "\u001b[32m[I 2022-06-22 12:34:42,157]\u001b[0m Trial 157 finished with value: 0.8784619552059567 and parameters: {'scalers': 'standard', 'lambda_l1': 0.0001329078945010965, 'lambda_l2': 0.0010125381663940712, 'num_leaves': 236, 'feature_fraction': 0.4563389442355279, 'bagging_fraction': 0.404385414192225, 'bagging_freq': 3, 'min_child_samples': 9, 'max_depth': 575}. Best is trial 31 with value: 0.8836487496206924.\u001b[0m\n",
      "\u001b[32m[I 2022-06-22 12:34:45,998]\u001b[0m Trial 158 finished with value: 0.8814588780028022 and parameters: {'scalers': 'standard', 'lambda_l1': 0.00012536225877353692, 'lambda_l2': 0.001042843451217979, 'num_leaves': 255, 'feature_fraction': 0.42584942747981575, 'bagging_fraction': 0.4019685500225283, 'bagging_freq': 3, 'min_child_samples': 9, 'max_depth': 536}. Best is trial 31 with value: 0.8836487496206924.\u001b[0m\n",
      "\u001b[32m[I 2022-06-22 12:34:49,970]\u001b[0m Trial 159 finished with value: 0.8774714202206462 and parameters: {'scalers': 'standard', 'lambda_l1': 0.0001230351133085352, 'lambda_l2': 0.0007496164801189914, 'num_leaves': 249, 'feature_fraction': 0.42839418319877387, 'bagging_fraction': 0.40793407266206877, 'bagging_freq': 3, 'min_child_samples': 10, 'max_depth': 570}. Best is trial 31 with value: 0.8836487496206924.\u001b[0m\n",
      "\u001b[32m[I 2022-06-22 12:34:53,659]\u001b[0m Trial 160 finished with value: 0.8797335418709258 and parameters: {'scalers': 'standard', 'lambda_l1': 1.5756305000477822e-05, 'lambda_l2': 0.004042813092797893, 'num_leaves': 256, 'feature_fraction': 0.453883358610432, 'bagging_fraction': 0.4211108831805366, 'bagging_freq': 3, 'min_child_samples': 12, 'max_depth': 544}. Best is trial 31 with value: 0.8836487496206924.\u001b[0m\n",
      "\u001b[32m[I 2022-06-22 12:34:57,640]\u001b[0m Trial 161 finished with value: 0.8788136726319776 and parameters: {'scalers': 'standard', 'lambda_l1': 1.1898321394660892e-05, 'lambda_l2': 0.003888372701261835, 'num_leaves': 236, 'feature_fraction': 0.4509052461148386, 'bagging_fraction': 0.4180226178550688, 'bagging_freq': 3, 'min_child_samples': 12, 'max_depth': 609}. Best is trial 31 with value: 0.8836487496206924.\u001b[0m\n",
      "\u001b[32m[I 2022-06-22 12:35:02,004]\u001b[0m Trial 162 finished with value: 0.8778855793759044 and parameters: {'scalers': 'standard', 'lambda_l1': 8.975611980310701e-06, 'lambda_l2': 0.007356241908497235, 'num_leaves': 253, 'feature_fraction': 0.4565055253986278, 'bagging_fraction': 0.41797512937052456, 'bagging_freq': 3, 'min_child_samples': 7, 'max_depth': 545}. Best is trial 31 with value: 0.8836487496206924.\u001b[0m\n"
     ]
    },
    {
     "name": "stderr",
     "output_type": "stream",
     "text": [
      "\u001b[32m[I 2022-06-22 12:35:06,408]\u001b[0m Trial 163 finished with value: 0.8816434446831118 and parameters: {'scalers': 'standard', 'lambda_l1': 4.0798914178225835e-06, 'lambda_l2': 0.003548747600347742, 'num_leaves': 240, 'feature_fraction': 0.40348991112322957, 'bagging_fraction': 0.42896615808546773, 'bagging_freq': 3, 'min_child_samples': 9, 'max_depth': 610}. Best is trial 31 with value: 0.8836487496206924.\u001b[0m\n",
      "\u001b[32m[I 2022-06-22 12:35:10,511]\u001b[0m Trial 164 finished with value: 0.8797804489112537 and parameters: {'scalers': 'standard', 'lambda_l1': 1.822414185711631e-06, 'lambda_l2': 0.0035279446065690613, 'num_leaves': 255, 'feature_fraction': 0.40639377427558904, 'bagging_fraction': 0.4325650149410472, 'bagging_freq': 3, 'min_child_samples': 12, 'max_depth': 615}. Best is trial 31 with value: 0.8836487496206924.\u001b[0m\n",
      "\u001b[32m[I 2022-06-22 12:35:14,105]\u001b[0m Trial 165 finished with value: 0.8822216784333656 and parameters: {'scalers': 'standard', 'lambda_l1': 1.1905081794180516e-06, 'lambda_l2': 0.003526581889161335, 'num_leaves': 241, 'feature_fraction': 0.40270523694068, 'bagging_fraction': 0.4321362367859159, 'bagging_freq': 3, 'min_child_samples': 12, 'max_depth': 529}. Best is trial 31 with value: 0.8836487496206924.\u001b[0m\n",
      "\u001b[32m[I 2022-06-22 12:35:17,802]\u001b[0m Trial 166 finished with value: 0.8766356518223778 and parameters: {'scalers': 'standard', 'lambda_l1': 1.610464947709491e-06, 'lambda_l2': 0.002500836360174464, 'num_leaves': 245, 'feature_fraction': 0.40280861805526097, 'bagging_fraction': 0.44060590421723383, 'bagging_freq': 3, 'min_child_samples': 11, 'max_depth': 523}. Best is trial 31 with value: 0.8836487496206924.\u001b[0m\n",
      "\u001b[32m[I 2022-06-22 12:35:21,022]\u001b[0m Trial 167 finished with value: 0.8706154310300982 and parameters: {'scalers': 'standard', 'lambda_l1': 3.7871741179169915e-06, 'lambda_l2': 0.038222338666028206, 'num_leaves': 256, 'feature_fraction': 0.41537346268370545, 'bagging_fraction': 0.4322897369611167, 'bagging_freq': 3, 'min_child_samples': 13, 'max_depth': 486}. Best is trial 31 with value: 0.8836487496206924.\u001b[0m\n",
      "\u001b[32m[I 2022-06-22 12:35:25,129]\u001b[0m Trial 168 finished with value: 0.8757711277585504 and parameters: {'scalers': 'standard', 'lambda_l1': 2.4090561922338775e-06, 'lambda_l2': 0.0050764161444989625, 'num_leaves': 251, 'feature_fraction': 0.42648026856606736, 'bagging_fraction': 0.4279300218239133, 'bagging_freq': 4, 'min_child_samples': 10, 'max_depth': 587}. Best is trial 31 with value: 0.8836487496206924.\u001b[0m\n",
      "\u001b[32m[I 2022-06-22 12:35:28,715]\u001b[0m Trial 169 finished with value: 0.8779840462684889 and parameters: {'scalers': 'standard', 'lambda_l1': 7.516460884298758e-07, 'lambda_l2': 0.0018877847406355945, 'num_leaves': 230, 'feature_fraction': 0.41046071186494476, 'bagging_fraction': 0.447464513626933, 'bagging_freq': 3, 'min_child_samples': 12, 'max_depth': 525}. Best is trial 31 with value: 0.8836487496206924.\u001b[0m\n",
      "\u001b[32m[I 2022-06-22 12:35:29,713]\u001b[0m Trial 170 finished with value: 0.5 and parameters: {'scalers': 'standard', 'lambda_l1': 2.3695737702758305e-05, 'lambda_l2': 0.008840553482639683, 'num_leaves': 227, 'feature_fraction': 0.43669151959012686, 'bagging_fraction': 0.42292025650506215, 'bagging_freq': 4, 'min_child_samples': 80, 'max_depth': 560}. Best is trial 31 with value: 0.8836487496206924.\u001b[0m\n",
      "\u001b[32m[I 2022-06-22 12:35:33,664]\u001b[0m Trial 171 finished with value: 0.8762611200074436 and parameters: {'scalers': 'standard', 'lambda_l1': 5.54695687304929e-06, 'lambda_l2': 0.0037009944552405965, 'num_leaves': 242, 'feature_fraction': 0.4470602710955471, 'bagging_fraction': 0.4021445296751145, 'bagging_freq': 3, 'min_child_samples': 12, 'max_depth': 610}. Best is trial 31 with value: 0.8836487496206924.\u001b[0m\n",
      "\u001b[32m[I 2022-06-22 12:35:39,247]\u001b[0m Trial 172 finished with value: 0.8753449376346047 and parameters: {'scalers': 'standard', 'lambda_l1': 1.0944498753562928e-06, 'lambda_l2': 0.016499914143428655, 'num_leaves': 239, 'feature_fraction': 0.4242724045022134, 'bagging_fraction': 0.41754964073645573, 'bagging_freq': 3, 'min_child_samples': 7, 'max_depth': 627}. Best is trial 31 with value: 0.8836487496206924.\u001b[0m\n",
      "\u001b[32m[I 2022-06-22 12:35:43,125]\u001b[0m Trial 173 finished with value: 0.8745898044808648 and parameters: {'scalers': 'standard', 'lambda_l1': 1.4097726421553929e-05, 'lambda_l2': 0.0058014631947876346, 'num_leaves': 234, 'feature_fraction': 0.40153784313022384, 'bagging_fraction': 0.45397943358688253, 'bagging_freq': 3, 'min_child_samples': 13, 'max_depth': 607}. Best is trial 31 with value: 0.8836487496206924.\u001b[0m\n",
      "\u001b[32m[I 2022-06-22 12:35:46,922]\u001b[0m Trial 174 finished with value: 0.8772195075091745 and parameters: {'scalers': 'standard', 'lambda_l1': 2.309060589779534e-06, 'lambda_l2': 0.0034932552049161875, 'num_leaves': 240, 'feature_fraction': 0.4484258191181616, 'bagging_fraction': 0.43418729369224257, 'bagging_freq': 3, 'min_child_samples': 10, 'max_depth': 528}. Best is trial 31 with value: 0.8836487496206924.\u001b[0m\n",
      "\u001b[32m[I 2022-06-22 12:35:51,153]\u001b[0m Trial 175 finished with value: 0.8786748392431442 and parameters: {'scalers': 'standard', 'lambda_l1': 4.880486339309031e-06, 'lambda_l2': 0.0011084735459628383, 'num_leaves': 246, 'feature_fraction': 0.4173420821640558, 'bagging_fraction': 0.40044370881472746, 'bagging_freq': 3, 'min_child_samples': 9, 'max_depth': 634}. Best is trial 31 with value: 0.8836487496206924.\u001b[0m\n",
      "\u001b[32m[I 2022-06-22 12:35:55,353]\u001b[0m Trial 176 finished with value: 0.8784104531948959 and parameters: {'scalers': 'standard', 'lambda_l1': 2.932274919948537e-05, 'lambda_l2': 0.0005792291306046416, 'num_leaves': 254, 'feature_fraction': 0.438059125147502, 'bagging_fraction': 0.41408866988333437, 'bagging_freq': 3, 'min_child_samples': 5, 'max_depth': 597}. Best is trial 31 with value: 0.8836487496206924.\u001b[0m\n",
      "\u001b[32m[I 2022-06-22 12:35:57,510]\u001b[0m Trial 177 finished with value: 0.8757039035311094 and parameters: {'scalers': 'standard', 'lambda_l1': 1.4750170123433611e-05, 'lambda_l2': 0.012309399160963876, 'num_leaves': 235, 'feature_fraction': 0.4793210098542924, 'bagging_fraction': 0.46134653379458435, 'bagging_freq': 3, 'min_child_samples': 12, 'max_depth': 268}. Best is trial 31 with value: 0.8836487496206924.\u001b[0m\n",
      "\u001b[32m[I 2022-06-22 12:36:01,489]\u001b[0m Trial 178 finished with value: 0.8779032874804935 and parameters: {'scalers': 'standard', 'lambda_l1': 3.5254111800344333e-07, 'lambda_l2': 0.0023222445502075733, 'num_leaves': 229, 'feature_fraction': 0.4205879016613361, 'bagging_fraction': 0.4371627594304299, 'bagging_freq': 3, 'min_child_samples': 14, 'max_depth': 650}. Best is trial 31 with value: 0.8836487496206924.\u001b[0m\n",
      "\u001b[32m[I 2022-06-22 12:36:05,719]\u001b[0m Trial 179 finished with value: 0.8768278256616105 and parameters: {'scalers': 'standard', 'lambda_l1': 1.4777906258859088e-06, 'lambda_l2': 0.0015560397215828787, 'num_leaves': 248, 'feature_fraction': 0.4667674289560137, 'bagging_fraction': 0.42046448857168284, 'bagging_freq': 3, 'min_child_samples': 7, 'max_depth': 562}. Best is trial 31 with value: 0.8836487496206924.\u001b[0m\n",
      "\u001b[32m[I 2022-06-22 12:36:09,819]\u001b[0m Trial 180 finished with value: 0.8769543860851912 and parameters: {'scalers': 'minmax', 'lambda_l1': 8.798027684390768e-06, 'lambda_l2': 0.004868385543059144, 'num_leaves': 213, 'feature_fraction': 0.40055714378519974, 'bagging_fraction': 0.45339943552788464, 'bagging_freq': 3, 'min_child_samples': 11, 'max_depth': 619}. Best is trial 31 with value: 0.8836487496206924.\u001b[0m\n",
      "\u001b[32m[I 2022-06-22 12:36:13,451]\u001b[0m Trial 181 finished with value: 0.8785451240795666 and parameters: {'scalers': 'standard', 'lambda_l1': 5.6876560655522505e-05, 'lambda_l2': 0.00018274966114425426, 'num_leaves': 256, 'feature_fraction': 0.4171392195682408, 'bagging_fraction': 0.4269834065926935, 'bagging_freq': 3, 'min_child_samples': 9, 'max_depth': 487}. Best is trial 31 with value: 0.8836487496206924.\u001b[0m\n",
      "\u001b[32m[I 2022-06-22 12:36:17,380]\u001b[0m Trial 182 finished with value: 0.8751086192144629 and parameters: {'scalers': 'standard', 'lambda_l1': 0.00024677573879299214, 'lambda_l2': 3.728602759244009e-05, 'num_leaves': 224, 'feature_fraction': 0.42799098783374145, 'bagging_fraction': 0.47242088320707015, 'bagging_freq': 3, 'min_child_samples': 8, 'max_depth': 578}. Best is trial 31 with value: 0.8836487496206924.\u001b[0m\n"
     ]
    },
    {
     "name": "stderr",
     "output_type": "stream",
     "text": [
      "\u001b[32m[I 2022-06-22 12:36:21,430]\u001b[0m Trial 183 finished with value: 0.87593984507065 and parameters: {'scalers': 'standard', 'lambda_l1': 0.00018168208572779486, 'lambda_l2': 0.0002179649272508385, 'num_leaves': 241, 'feature_fraction': 0.4455800256475023, 'bagging_fraction': 0.4382882384495033, 'bagging_freq': 3, 'min_child_samples': 10, 'max_depth': 633}. Best is trial 31 with value: 0.8836487496206924.\u001b[0m\n",
      "\u001b[32m[I 2022-06-22 12:36:22,274]\u001b[0m Trial 184 finished with value: 0.5 and parameters: {'scalers': 'standard', 'lambda_l1': 0.00010005243994162052, 'lambda_l2': 6.84581282090692e-05, 'num_leaves': 246, 'feature_fraction': 0.43630569783178624, 'bagging_fraction': 0.4114971509773171, 'bagging_freq': 3, 'min_child_samples': 98, 'max_depth': 411}. Best is trial 31 with value: 0.8836487496206924.\u001b[0m\n",
      "\u001b[32m[I 2022-06-22 12:36:26,162]\u001b[0m Trial 185 finished with value: 0.8790320101510117 and parameters: {'scalers': 'standard', 'lambda_l1': 0.00028777843862436446, 'lambda_l2': 0.0006002609385542831, 'num_leaves': 208, 'feature_fraction': 0.4124080130891425, 'bagging_fraction': 0.46388388393137686, 'bagging_freq': 3, 'min_child_samples': 13, 'max_depth': 608}. Best is trial 31 with value: 0.8836487496206924.\u001b[0m\n",
      "\u001b[32m[I 2022-06-22 12:36:29,938]\u001b[0m Trial 186 finished with value: 0.8778403918278144 and parameters: {'scalers': 'standard', 'lambda_l1': 7.534449041958698e-07, 'lambda_l2': 0.0006685505938497335, 'num_leaves': 214, 'feature_fraction': 0.4121875874292974, 'bagging_fraction': 0.457051510551903, 'bagging_freq': 3, 'min_child_samples': 14, 'max_depth': 608}. Best is trial 31 with value: 0.8836487496206924.\u001b[0m\n",
      "\u001b[32m[I 2022-06-22 12:36:33,907]\u001b[0m Trial 187 finished with value: 0.8791600849915477 and parameters: {'scalers': 'standard', 'lambda_l1': 6.561898346125584e-05, 'lambda_l2': 0.0005014440970843253, 'num_leaves': 209, 'feature_fraction': 0.7382895559892927, 'bagging_fraction': 0.46721731982436954, 'bagging_freq': 3, 'min_child_samples': 12, 'max_depth': 542}. Best is trial 31 with value: 0.8836487496206924.\u001b[0m\n",
      "\u001b[32m[I 2022-06-22 12:36:35,449]\u001b[0m Trial 188 finished with value: 0.5 and parameters: {'scalers': 'standard', 'lambda_l1': 3.655565044130413e-05, 'lambda_l2': 0.000425644257529064, 'num_leaves': 221, 'feature_fraction': 0.7611144276682937, 'bagging_fraction': 0.46723860499835174, 'bagging_freq': 3, 'min_child_samples': 49, 'max_depth': 581}. Best is trial 31 with value: 0.8836487496206924.\u001b[0m\n",
      "\u001b[32m[I 2022-06-22 12:36:36,928]\u001b[0m Trial 189 finished with value: 0.5 and parameters: {'scalers': 'standard', 'lambda_l1': 7.544179140449463e-05, 'lambda_l2': 0.0013038346639889116, 'num_leaves': 208, 'feature_fraction': 0.7451171342196177, 'bagging_fraction': 0.4480292713236268, 'bagging_freq': 3, 'min_child_samples': 40, 'max_depth': 539}. Best is trial 31 with value: 0.8836487496206924.\u001b[0m\n",
      "\u001b[32m[I 2022-06-22 12:36:40,287]\u001b[0m Trial 190 finished with value: 0.8779540300171107 and parameters: {'scalers': 'standard', 'lambda_l1': 0.0002596871657542343, 'lambda_l2': 0.0002667065436766973, 'num_leaves': 211, 'feature_fraction': 0.41085660239341076, 'bagging_fraction': 0.4729970476488505, 'bagging_freq': 3, 'min_child_samples': 16, 'max_depth': 548}. Best is trial 31 with value: 0.8836487496206924.\u001b[0m\n",
      "\u001b[32m[I 2022-06-22 12:36:44,327]\u001b[0m Trial 191 finished with value: 0.879983557786383 and parameters: {'scalers': 'standard', 'lambda_l1': 3.112526033238638e-06, 'lambda_l2': 0.0008257826313150401, 'num_leaves': 235, 'feature_fraction': 0.4558541151603613, 'bagging_fraction': 0.43111850545451613, 'bagging_freq': 3, 'min_child_samples': 12, 'max_depth': 617}. Best is trial 31 with value: 0.8836487496206924.\u001b[0m\n",
      "\u001b[32m[I 2022-06-22 12:36:47,248]\u001b[0m Trial 192 finished with value: 0.7742092268112003 and parameters: {'scalers': 'standard', 'lambda_l1': 9.510789192656828, 'lambda_l2': 0.000852726769525585, 'num_leaves': 230, 'feature_fraction': 0.47528849111258414, 'bagging_fraction': 0.4341890149207879, 'bagging_freq': 3, 'min_child_samples': 13, 'max_depth': 590}. Best is trial 31 with value: 0.8836487496206924.\u001b[0m\n",
      "\u001b[32m[I 2022-06-22 12:36:53,239]\u001b[0m Trial 193 finished with value: 0.8526011599554557 and parameters: {'scalers': 'standard', 'lambda_l1': 3.738661161101164e-06, 'lambda_l2': 0.0004815994135294731, 'num_leaves': 217, 'feature_fraction': 0.40019274942815436, 'bagging_fraction': 0.979232636267097, 'bagging_freq': 3, 'min_child_samples': 11, 'max_depth': 621}. Best is trial 31 with value: 0.8836487496206924.\u001b[0m\n",
      "\u001b[32m[I 2022-06-22 12:36:58,388]\u001b[0m Trial 194 finished with value: 0.8729704641763465 and parameters: {'scalers': 'standard', 'lambda_l1': 1.4096428911617222e-06, 'lambda_l2': 0.0026385090746099183, 'num_leaves': 199, 'feature_fraction': 0.42727783200775615, 'bagging_fraction': 0.42611117269960663, 'bagging_freq': 3, 'min_child_samples': 15, 'max_depth': 645}. Best is trial 31 with value: 0.8836487496206924.\u001b[0m\n",
      "\u001b[32m[I 2022-06-22 12:37:03,437]\u001b[0m Trial 195 finished with value: 0.8795574733573959 and parameters: {'scalers': 'standard', 'lambda_l1': 0.00016688790742058277, 'lambda_l2': 0.0015982349258042094, 'num_leaves': 250, 'feature_fraction': 0.4610110217569059, 'bagging_fraction': 0.4455492443508868, 'bagging_freq': 3, 'min_child_samples': 13, 'max_depth': 560}. Best is trial 31 with value: 0.8836487496206924.\u001b[0m\n",
      "\u001b[32m[I 2022-06-22 12:37:07,507]\u001b[0m Trial 196 finished with value: 0.8740463276403679 and parameters: {'scalers': 'standard', 'lambda_l1': 0.00015930974158904067, 'lambda_l2': 0.0020715758447999734, 'num_leaves': 243, 'feature_fraction': 0.4665642513167314, 'bagging_fraction': 0.4451826040526788, 'bagging_freq': 3, 'min_child_samples': 17, 'max_depth': 560}. Best is trial 31 with value: 0.8836487496206924.\u001b[0m\n",
      "\u001b[32m[I 2022-06-22 12:37:11,151]\u001b[0m Trial 197 finished with value: 0.8773391181831585 and parameters: {'scalers': 'standard', 'lambda_l1': 9.066340443827285e-05, 'lambda_l2': 0.0009834799727163868, 'num_leaves': 250, 'feature_fraction': 0.4569743165860425, 'bagging_fraction': 0.45845866282557873, 'bagging_freq': 3, 'min_child_samples': 14, 'max_depth': 472}. Best is trial 31 with value: 0.8836487496206924.\u001b[0m\n",
      "\u001b[32m[I 2022-06-22 12:37:16,199]\u001b[0m Trial 198 finished with value: 0.8678832105501995 and parameters: {'scalers': 'standard', 'lambda_l1': 2.1816791449368238e-07, 'lambda_l2': 0.0016729104327397203, 'num_leaves': 224, 'feature_fraction': 0.724352296437078, 'bagging_fraction': 0.44209733272056784, 'bagging_freq': 6, 'min_child_samples': 12, 'max_depth': 584}. Best is trial 31 with value: 0.8836487496206924.\u001b[0m\n",
      "\u001b[32m[I 2022-06-22 12:37:17,559]\u001b[0m Trial 199 finished with value: 0.8644746047296359 and parameters: {'scalers': 'minmax', 'lambda_l1': 2.4342921947036654e-06, 'lambda_l2': 0.0005943134256010562, 'num_leaves': 251, 'feature_fraction': 0.43395763346865773, 'bagging_fraction': 0.464175272498489, 'bagging_freq': 3, 'min_child_samples': 19, 'max_depth': 182}. Best is trial 31 with value: 0.8836487496206924.\u001b[0m\n",
      "\u001b[32m[I 2022-06-22 12:37:22,930]\u001b[0m Trial 200 finished with value: 0.8767829042732292 and parameters: {'scalers': 'standard', 'lambda_l1': 0.00029782194765170416, 'lambda_l2': 0.0011273165363977523, 'num_leaves': 205, 'feature_fraction': 0.4864522306979579, 'bagging_fraction': 0.48089706301867463, 'bagging_freq': 4, 'min_child_samples': 7, 'max_depth': 998}. Best is trial 31 with value: 0.8836487496206924.\u001b[0m\n",
      "\u001b[32m[I 2022-06-22 12:37:26,957]\u001b[0m Trial 201 finished with value: 0.878633903355846 and parameters: {'scalers': 'standard', 'lambda_l1': 0.00017446024203657503, 'lambda_l2': 0.0017131375420213466, 'num_leaves': 238, 'feature_fraction': 0.6886467920518852, 'bagging_fraction': 0.43006581249173437, 'bagging_freq': 3, 'min_child_samples': 10, 'max_depth': 530}. Best is trial 31 with value: 0.8836487496206924.\u001b[0m\n",
      "\u001b[32m[I 2022-06-22 12:37:30,786]\u001b[0m Trial 202 finished with value: 0.8780152814806453 and parameters: {'scalers': 'standard', 'lambda_l1': 0.00012094813761286328, 'lambda_l2': 0.0008611089151625667, 'num_leaves': 231, 'feature_fraction': 0.4189116777607564, 'bagging_fraction': 0.44635001865327956, 'bagging_freq': 3, 'min_child_samples': 9, 'max_depth': 515}. Best is trial 31 with value: 0.8836487496206924.\u001b[0m\n"
     ]
    },
    {
     "name": "stderr",
     "output_type": "stream",
     "text": [
      "\u001b[32m[I 2022-06-22 12:37:34,697]\u001b[0m Trial 203 finished with value: 0.8777268078928294 and parameters: {'scalers': 'standard', 'lambda_l1': 0.0005892100737320585, 'lambda_l2': 0.0003942964526655976, 'num_leaves': 256, 'feature_fraction': 0.7755088526483217, 'bagging_fraction': 0.41663207987280365, 'bagging_freq': 3, 'min_child_samples': 12, 'max_depth': 556}. Best is trial 31 with value: 0.8836487496206924.\u001b[0m\n",
      "\u001b[32m[I 2022-06-22 12:37:38,745]\u001b[0m Trial 204 finished with value: 0.8820022878308482 and parameters: {'scalers': 'standard', 'lambda_l1': 5.329896732365912e-05, 'lambda_l2': 0.00315560164316693, 'num_leaves': 241, 'feature_fraction': 0.4399706567820615, 'bagging_fraction': 0.45631993756335715, 'bagging_freq': 3, 'min_child_samples': 14, 'max_depth': 627}. Best is trial 31 with value: 0.8836487496206924.\u001b[0m\n",
      "\u001b[32m[I 2022-06-22 12:37:42,583]\u001b[0m Trial 205 finished with value: 0.880019134352919 and parameters: {'scalers': 'standard', 'lambda_l1': 5.4906573248575276e-05, 'lambda_l2': 0.0051187570995590665, 'num_leaves': 243, 'feature_fraction': 0.44004733542524754, 'bagging_fraction': 0.4556143397383066, 'bagging_freq': 3, 'min_child_samples': 15, 'max_depth': 625}. Best is trial 31 with value: 0.8836487496206924.\u001b[0m\n",
      "\u001b[32m[I 2022-06-22 12:37:46,354]\u001b[0m Trial 206 finished with value: 0.8765693195478411 and parameters: {'scalers': 'standard', 'lambda_l1': 5.6604199138971306e-05, 'lambda_l2': 0.0053646757203141306, 'num_leaves': 244, 'feature_fraction': 0.44054305057812254, 'bagging_fraction': 0.45715594111008767, 'bagging_freq': 3, 'min_child_samples': 15, 'max_depth': 626}. Best is trial 31 with value: 0.8836487496206924.\u001b[0m\n",
      "\u001b[32m[I 2022-06-22 12:37:50,474]\u001b[0m Trial 207 finished with value: 0.8800669905859533 and parameters: {'scalers': 'standard', 'lambda_l1': 1.9837601867777083e-05, 'lambda_l2': 0.0026895997373858347, 'num_leaves': 237, 'feature_fraction': 0.4524181707742465, 'bagging_fraction': 0.4394689104480671, 'bagging_freq': 3, 'min_child_samples': 13, 'max_depth': 655}. Best is trial 31 with value: 0.8836487496206924.\u001b[0m\n",
      "\u001b[32m[I 2022-06-22 12:37:54,833]\u001b[0m Trial 208 finished with value: 0.8764038838913065 and parameters: {'scalers': 'standard', 'lambda_l1': 2.1459539924922784e-05, 'lambda_l2': 0.003169183365686896, 'num_leaves': 236, 'feature_fraction': 0.45471154603691233, 'bagging_fraction': 0.440536794321782, 'bagging_freq': 3, 'min_child_samples': 11, 'max_depth': 648}. Best is trial 31 with value: 0.8836487496206924.\u001b[0m\n",
      "\u001b[32m[I 2022-06-22 12:37:58,682]\u001b[0m Trial 209 finished with value: 0.873236487476232 and parameters: {'scalers': 'standard', 'lambda_l1': 3.176389791520346e-05, 'lambda_l2': 0.0072150896394381145, 'num_leaves': 249, 'feature_fraction': 0.45905891870076226, 'bagging_fraction': 0.42790815711602903, 'bagging_freq': 3, 'min_child_samples': 15, 'max_depth': 664}. Best is trial 31 with value: 0.8836487496206924.\u001b[0m\n",
      "\u001b[32m[I 2022-06-22 12:38:03,934]\u001b[0m Trial 210 finished with value: 0.8717257698227125 and parameters: {'scalers': 'standard', 'lambda_l1': 5.820829164659427e-05, 'lambda_l2': 0.011790207919631182, 'num_leaves': 241, 'feature_fraction': 0.473204431303806, 'bagging_fraction': 0.7981342939696255, 'bagging_freq': 3, 'min_child_samples': 13, 'max_depth': 636}. Best is trial 31 with value: 0.8836487496206924.\u001b[0m\n",
      "\u001b[32m[I 2022-06-22 12:38:07,812]\u001b[0m Trial 211 finished with value: 0.8720357315113509 and parameters: {'scalers': 'standard', 'lambda_l1': 8.985360382795711e-05, 'lambda_l2': 0.0028962795061612703, 'num_leaves': 228, 'feature_fraction': 0.43462200145861235, 'bagging_fraction': 0.4523518014091981, 'bagging_freq': 3, 'min_child_samples': 13, 'max_depth': 607}. Best is trial 31 with value: 0.8836487496206924.\u001b[0m\n",
      "\u001b[32m[I 2022-06-22 12:38:12,063]\u001b[0m Trial 212 finished with value: 0.8846667409173213 and parameters: {'scalers': 'standard', 'lambda_l1': 3.90781130614177e-05, 'lambda_l2': 0.002410149039459155, 'num_leaves': 234, 'feature_fraction': 0.4461558626194165, 'bagging_fraction': 0.46617574883986274, 'bagging_freq': 3, 'min_child_samples': 10, 'max_depth': 597}. Best is trial 212 with value: 0.8846667409173213.\u001b[0m\n",
      "\u001b[32m[I 2022-06-22 12:38:16,324]\u001b[0m Trial 213 finished with value: 0.8794741369526586 and parameters: {'scalers': 'standard', 'lambda_l1': 4.5146370138380196e-05, 'lambda_l2': 0.0021412309840073878, 'num_leaves': 232, 'feature_fraction': 0.4528876827253564, 'bagging_fraction': 0.47062927474228866, 'bagging_freq': 3, 'min_child_samples': 9, 'max_depth': 596}. Best is trial 212 with value: 0.8846667409173213.\u001b[0m\n",
      "\u001b[32m[I 2022-06-22 12:38:20,536]\u001b[0m Trial 214 finished with value: 0.8811443461294468 and parameters: {'scalers': 'standard', 'lambda_l1': 3.321343187762197e-05, 'lambda_l2': 0.002350454222784791, 'num_leaves': 237, 'feature_fraction': 0.44908884510069896, 'bagging_fraction': 0.474743848990676, 'bagging_freq': 3, 'min_child_samples': 9, 'max_depth': 573}. Best is trial 212 with value: 0.8846667409173213.\u001b[0m\n",
      "\u001b[32m[I 2022-06-22 12:38:25,029]\u001b[0m Trial 215 finished with value: 0.8831571023790451 and parameters: {'scalers': 'standard', 'lambda_l1': 1.742095544102705e-05, 'lambda_l2': 0.004692568168769088, 'num_leaves': 233, 'feature_fraction': 0.44919276975399003, 'bagging_fraction': 0.43780920279580654, 'bagging_freq': 3, 'min_child_samples': 7, 'max_depth': 590}. Best is trial 212 with value: 0.8846667409173213.\u001b[0m\n",
      "\u001b[32m[I 2022-06-22 12:38:29,542]\u001b[0m Trial 216 finished with value: 0.8843527020150472 and parameters: {'scalers': 'standard', 'lambda_l1': 1.931044278045029e-05, 'lambda_l2': 0.00438515955926232, 'num_leaves': 233, 'feature_fraction': 0.4475480237868925, 'bagging_fraction': 0.4384758096476504, 'bagging_freq': 3, 'min_child_samples': 6, 'max_depth': 573}. Best is trial 212 with value: 0.8846667409173213.\u001b[0m\n",
      "\u001b[32m[I 2022-06-22 12:38:34,166]\u001b[0m Trial 217 finished with value: 0.8783993347124153 and parameters: {'scalers': 'standard', 'lambda_l1': 2.1127750885436104e-05, 'lambda_l2': 0.004795172806153383, 'num_leaves': 232, 'feature_fraction': 0.4447383642504115, 'bagging_fraction': 0.43495411493881064, 'bagging_freq': 3, 'min_child_samples': 5, 'max_depth': 573}. Best is trial 212 with value: 0.8846667409173213.\u001b[0m\n",
      "\u001b[32m[I 2022-06-22 12:38:38,458]\u001b[0m Trial 218 finished with value: 0.8795917510636936 and parameters: {'scalers': 'standard', 'lambda_l1': 4.1366308620097126e-05, 'lambda_l2': 0.0027434894003468186, 'num_leaves': 237, 'feature_fraction': 0.449588988134966, 'bagging_fraction': 0.4478938558281873, 'bagging_freq': 5, 'min_child_samples': 8, 'max_depth': 593}. Best is trial 212 with value: 0.8846667409173213.\u001b[0m\n",
      "\u001b[32m[I 2022-06-22 12:38:42,689]\u001b[0m Trial 219 finished with value: 0.8730259313699714 and parameters: {'scalers': 'minmax', 'lambda_l1': 1.8148366332198164e-05, 'lambda_l2': 0.004015043085593517, 'num_leaves': 237, 'feature_fraction': 0.4283781927179968, 'bagging_fraction': 0.4446461187652887, 'bagging_freq': 6, 'min_child_samples': 7, 'max_depth': 579}. Best is trial 212 with value: 0.8846667409173213.\u001b[0m\n",
      "\u001b[32m[I 2022-06-22 12:38:47,235]\u001b[0m Trial 220 finished with value: 0.8729623316569911 and parameters: {'scalers': 'standard', 'lambda_l1': 3.119008401851047e-05, 'lambda_l2': 0.007171326851009065, 'num_leaves': 241, 'feature_fraction': 0.44624357605833215, 'bagging_fraction': 0.4118229706890073, 'bagging_freq': 5, 'min_child_samples': 6, 'max_depth': 595}. Best is trial 212 with value: 0.8846667409173213.\u001b[0m\n",
      "\u001b[32m[I 2022-06-22 12:38:51,567]\u001b[0m Trial 221 finished with value: 0.8809161969351597 and parameters: {'scalers': 'standard', 'lambda_l1': 4.3991590666509206e-05, 'lambda_l2': 0.002348576660208676, 'num_leaves': 226, 'feature_fraction': 0.46119133582889926, 'bagging_fraction': 0.45503447865647034, 'bagging_freq': 3, 'min_child_samples': 8, 'max_depth': 590}. Best is trial 212 with value: 0.8846667409173213.\u001b[0m\n",
      "\u001b[32m[I 2022-06-22 12:38:55,879]\u001b[0m Trial 222 finished with value: 0.8787016232176836 and parameters: {'scalers': 'standard', 'lambda_l1': 3.827376130660576e-05, 'lambda_l2': 0.002561982376000288, 'num_leaves': 245, 'feature_fraction': 0.4627392512808067, 'bagging_fraction': 0.4522405489126377, 'bagging_freq': 3, 'min_child_samples': 7, 'max_depth': 561}. Best is trial 212 with value: 0.8846667409173213.\u001b[0m\n"
     ]
    },
    {
     "name": "stderr",
     "output_type": "stream",
     "text": [
      "\u001b[32m[I 2022-06-22 12:39:00,651]\u001b[0m Trial 223 finished with value: 0.8763821645975283 and parameters: {'scalers': 'standard', 'lambda_l1': 1.1523541064789146e-05, 'lambda_l2': 0.003244028690506324, 'num_leaves': 225, 'feature_fraction': 0.43604278765547744, 'bagging_fraction': 0.42784328622881257, 'bagging_freq': 3, 'min_child_samples': 5, 'max_depth': 630}. Best is trial 212 with value: 0.8846667409173213.\u001b[0m\n",
      "\u001b[32m[I 2022-06-22 12:39:04,824]\u001b[0m Trial 224 finished with value: 0.8773171267801685 and parameters: {'scalers': 'standard', 'lambda_l1': 7.563657817951725e-06, 'lambda_l2': 0.001535307358969394, 'num_leaves': 235, 'feature_fraction': 0.44695306489549863, 'bagging_fraction': 0.43993372005694764, 'bagging_freq': 7, 'min_child_samples': 8, 'max_depth': 594}. Best is trial 212 with value: 0.8846667409173213.\u001b[0m\n",
      "\u001b[32m[I 2022-06-22 12:39:09,328]\u001b[0m Trial 225 finished with value: 0.8721915915826518 and parameters: {'scalers': 'standard', 'lambda_l1': 2.874574836562151e-05, 'lambda_l2': 0.005387997002745944, 'num_leaves': 239, 'feature_fraction': 0.46398330675112337, 'bagging_fraction': 0.45369051171996894, 'bagging_freq': 5, 'min_child_samples': 9, 'max_depth': 617}. Best is trial 212 with value: 0.8846667409173213.\u001b[0m\n",
      "\u001b[32m[I 2022-06-22 12:39:13,486]\u001b[0m Trial 226 finished with value: 0.8754766887309456 and parameters: {'scalers': 'standard', 'lambda_l1': 1.6571366831608534e-05, 'lambda_l2': 0.0023395983897975038, 'num_leaves': 226, 'feature_fraction': 0.42393282209631566, 'bagging_fraction': 0.4007322966288309, 'bagging_freq': 3, 'min_child_samples': 7, 'max_depth': 568}. Best is trial 212 with value: 0.8846667409173213.\u001b[0m\n",
      "\u001b[32m[I 2022-06-22 12:39:17,981]\u001b[0m Trial 227 finished with value: 0.8783573010881446 and parameters: {'scalers': 'standard', 'lambda_l1': 4.3202552219141675e-05, 'lambda_l2': 0.00401999411086529, 'num_leaves': 248, 'feature_fraction': 0.43738648824688553, 'bagging_fraction': 0.428735611523846, 'bagging_freq': 3, 'min_child_samples': 9, 'max_depth': 618}. Best is trial 212 with value: 0.8846667409173213.\u001b[0m\n",
      "\u001b[32m[I 2022-06-22 12:39:21,998]\u001b[0m Trial 228 finished with value: 0.8752179641179254 and parameters: {'scalers': 'standard', 'lambda_l1': 6.177744646244096e-06, 'lambda_l2': 0.008372096930307662, 'num_leaves': 233, 'feature_fraction': 0.41707946119863515, 'bagging_fraction': 0.4178452724317529, 'bagging_freq': 5, 'min_child_samples': 10, 'max_depth': 581}. Best is trial 212 with value: 0.8846667409173213.\u001b[0m\n",
      "\u001b[32m[I 2022-06-22 12:39:26,261]\u001b[0m Trial 229 finished with value: 0.8789599569032619 and parameters: {'scalers': 'standard', 'lambda_l1': 0.00011482922481711498, 'lambda_l2': 0.0014629735055690387, 'num_leaves': 242, 'feature_fraction': 0.4530920426392677, 'bagging_fraction': 0.43973055643349707, 'bagging_freq': 3, 'min_child_samples': 6, 'max_depth': 554}. Best is trial 212 with value: 0.8846667409173213.\u001b[0m\n",
      "\u001b[32m[I 2022-06-22 12:39:30,613]\u001b[0m Trial 230 finished with value: 0.8806270362549387 and parameters: {'scalers': 'standard', 'lambda_l1': 2.3233495535763074e-05, 'lambda_l2': 0.0021541384529270733, 'num_leaves': 221, 'feature_fraction': 0.4278867682199882, 'bagging_fraction': 0.47726307201269086, 'bagging_freq': 3, 'min_child_samples': 8, 'max_depth': 601}. Best is trial 212 with value: 0.8846667409173213.\u001b[0m\n",
      "\u001b[32m[I 2022-06-22 12:39:34,935]\u001b[0m Trial 231 finished with value: 0.880473562385327 and parameters: {'scalers': 'standard', 'lambda_l1': 2.2878377385966817e-05, 'lambda_l2': 0.002248307112461044, 'num_leaves': 224, 'feature_fraction': 0.42670870932774285, 'bagging_fraction': 0.4785053966112554, 'bagging_freq': 3, 'min_child_samples': 9, 'max_depth': 603}. Best is trial 212 with value: 0.8846667409173213.\u001b[0m\n",
      "\u001b[32m[I 2022-06-22 12:39:39,385]\u001b[0m Trial 232 finished with value: 0.8768134557436028 and parameters: {'scalers': 'standard', 'lambda_l1': 2.1659946419948444e-05, 'lambda_l2': 0.002558975414671557, 'num_leaves': 228, 'feature_fraction': 0.426209779534061, 'bagging_fraction': 0.4752149368218221, 'bagging_freq': 3, 'min_child_samples': 7, 'max_depth': 595}. Best is trial 212 with value: 0.8846667409173213.\u001b[0m\n",
      "\u001b[32m[I 2022-06-22 12:39:43,485]\u001b[0m Trial 233 finished with value: 0.877313617131922 and parameters: {'scalers': 'standard', 'lambda_l1': 4.334504630814263e-05, 'lambda_l2': 0.004268242676590655, 'num_leaves': 222, 'feature_fraction': 0.4131763552769698, 'bagging_fraction': 0.47668700586673435, 'bagging_freq': 3, 'min_child_samples': 10, 'max_depth': 571}. Best is trial 212 with value: 0.8846667409173213.\u001b[0m\n",
      "\u001b[32m[I 2022-06-22 12:39:47,929]\u001b[0m Trial 234 finished with value: 0.8796898039610888 and parameters: {'scalers': 'standard', 'lambda_l1': 1.1814754163325228e-05, 'lambda_l2': 0.002995867070427689, 'num_leaves': 237, 'feature_fraction': 0.441130889945376, 'bagging_fraction': 0.4606794168990031, 'bagging_freq': 3, 'min_child_samples': 8, 'max_depth': 604}. Best is trial 212 with value: 0.8846667409173213.\u001b[0m\n",
      "\u001b[32m[I 2022-06-22 12:39:52,874]\u001b[0m Trial 235 finished with value: 0.8762665816510631 and parameters: {'scalers': 'standard', 'lambda_l1': 1.1636556498149083e-05, 'lambda_l2': 0.020275136437063024, 'num_leaves': 234, 'feature_fraction': 0.40031303400326707, 'bagging_fraction': 0.484465854283726, 'bagging_freq': 3, 'min_child_samples': 8, 'max_depth': 642}. Best is trial 212 with value: 0.8846667409173213.\u001b[0m\n",
      "\u001b[32m[I 2022-06-22 12:39:57,732]\u001b[0m Trial 236 finished with value: 0.8767774031309249 and parameters: {'scalers': 'standard', 'lambda_l1': 2.6133242110508398e-05, 'lambda_l2': 0.010222379118176828, 'num_leaves': 238, 'feature_fraction': 0.4356321546805215, 'bagging_fraction': 0.4627420460191464, 'bagging_freq': 3, 'min_child_samples': 6, 'max_depth': 600}. Best is trial 212 with value: 0.8846667409173213.\u001b[0m\n",
      "\u001b[32m[I 2022-06-22 12:40:02,205]\u001b[0m Trial 237 finished with value: 0.8757599822563056 and parameters: {'scalers': 'standard', 'lambda_l1': 1.7949401740590956e-05, 'lambda_l2': 0.0031026000952979562, 'num_leaves': 232, 'feature_fraction': 0.42976998597442834, 'bagging_fraction': 0.4581909406994803, 'bagging_freq': 3, 'min_child_samples': 8, 'max_depth': 607}. Best is trial 212 with value: 0.8846667409173213.\u001b[0m\n",
      "\u001b[32m[I 2022-06-22 12:40:07,110]\u001b[0m Trial 238 finished with value: 0.8771734572402141 and parameters: {'scalers': 'standard', 'lambda_l1': 1.1448800766870675e-05, 'lambda_l2': 0.005750550714402898, 'num_leaves': 228, 'feature_fraction': 0.44290559387403416, 'bagging_fraction': 0.432602550659893, 'bagging_freq': 4, 'min_child_samples': 5, 'max_depth': 628}. Best is trial 212 with value: 0.8846667409173213.\u001b[0m\n",
      "\u001b[32m[I 2022-06-22 12:40:11,283]\u001b[0m Trial 239 finished with value: 0.8756543648345118 and parameters: {'scalers': 'standard', 'lambda_l1': 3.444931251298358e-05, 'lambda_l2': 0.0025939338158493734, 'num_leaves': 238, 'feature_fraction': 0.42066928466091064, 'bagging_fraction': 0.4687086733309289, 'bagging_freq': 3, 'min_child_samples': 10, 'max_depth': 590}. Best is trial 212 with value: 0.8846667409173213.\u001b[0m\n",
      "\u001b[32m[I 2022-06-22 12:40:15,524]\u001b[0m Trial 240 finished with value: 0.8808632758065806 and parameters: {'scalers': 'minmax', 'lambda_l1': 4.650833409927305e-06, 'lambda_l2': 0.004138856209935468, 'num_leaves': 222, 'feature_fraction': 0.44470275648396385, 'bagging_fraction': 0.4121515420446955, 'bagging_freq': 3, 'min_child_samples': 10, 'max_depth': 650}. Best is trial 212 with value: 0.8846667409173213.\u001b[0m\n",
      "\u001b[32m[I 2022-06-22 12:40:16,539]\u001b[0m Trial 241 finished with value: 0.5 and parameters: {'scalers': 'minmax', 'lambda_l1': 6.482221887660101e-06, 'lambda_l2': 0.003966179546914683, 'num_leaves': 226, 'feature_fraction': 0.4463010921395062, 'bagging_fraction': 0.41951012365058155, 'bagging_freq': 3, 'min_child_samples': 55, 'max_depth': 646}. Best is trial 212 with value: 0.8846667409173213.\u001b[0m\n",
      "\u001b[32m[I 2022-06-22 12:40:20,561]\u001b[0m Trial 242 finished with value: 0.8841363274023877 and parameters: {'scalers': 'minmax', 'lambda_l1': 1.6166094450040793e-05, 'lambda_l2': 0.007279590743015528, 'num_leaves': 220, 'feature_fraction': 0.4124055707291618, 'bagging_fraction': 0.40760764617366807, 'bagging_freq': 3, 'min_child_samples': 10, 'max_depth': 614}. Best is trial 212 with value: 0.8846667409173213.\u001b[0m\n"
     ]
    },
    {
     "name": "stderr",
     "output_type": "stream",
     "text": [
      "\u001b[32m[I 2022-06-22 12:40:24,883]\u001b[0m Trial 243 finished with value: 0.883723163661244 and parameters: {'scalers': 'minmax', 'lambda_l1': 9.155410641950171e-06, 'lambda_l2': 0.0068885141857731565, 'num_leaves': 217, 'feature_fraction': 0.41070276731679234, 'bagging_fraction': 0.4103717291614584, 'bagging_freq': 3, 'min_child_samples': 10, 'max_depth': 670}. Best is trial 212 with value: 0.8846667409173213.\u001b[0m\n",
      "\u001b[32m[I 2022-06-22 12:40:29,030]\u001b[0m Trial 244 finished with value: 0.8820298869731918 and parameters: {'scalers': 'minmax', 'lambda_l1': 8.692555617096305e-06, 'lambda_l2': 0.007123718436064789, 'num_leaves': 219, 'feature_fraction': 0.40953784430982, 'bagging_fraction': 0.40967114975431634, 'bagging_freq': 3, 'min_child_samples': 11, 'max_depth': 659}. Best is trial 212 with value: 0.8846667409173213.\u001b[0m\n",
      "\u001b[32m[I 2022-06-22 12:40:33,393]\u001b[0m Trial 245 finished with value: 0.8831657031479012 and parameters: {'scalers': 'minmax', 'lambda_l1': 3.7440072489947992e-06, 'lambda_l2': 0.009540404076264759, 'num_leaves': 219, 'feature_fraction': 0.4092021801405308, 'bagging_fraction': 0.4060746762557898, 'bagging_freq': 3, 'min_child_samples': 10, 'max_depth': 678}. Best is trial 212 with value: 0.8846667409173213.\u001b[0m\n",
      "\u001b[32m[I 2022-06-22 12:40:37,697]\u001b[0m Trial 246 finished with value: 0.8802186940811167 and parameters: {'scalers': 'minmax', 'lambda_l1': 5.255029105761611e-06, 'lambda_l2': 0.013006283749308421, 'num_leaves': 217, 'feature_fraction': 0.41333462075093164, 'bagging_fraction': 0.408596173392409, 'bagging_freq': 3, 'min_child_samples': 10, 'max_depth': 676}. Best is trial 212 with value: 0.8846667409173213.\u001b[0m\n",
      "\u001b[32m[I 2022-06-22 12:40:41,968]\u001b[0m Trial 247 finished with value: 0.8839287504720942 and parameters: {'scalers': 'minmax', 'lambda_l1': 4.570577471446578e-06, 'lambda_l2': 0.03176771015671228, 'num_leaves': 222, 'feature_fraction': 0.40850049880741146, 'bagging_fraction': 0.4011167860219302, 'bagging_freq': 3, 'min_child_samples': 10, 'max_depth': 673}. Best is trial 212 with value: 0.8846667409173213.\u001b[0m\n",
      "\u001b[32m[I 2022-06-22 12:40:46,110]\u001b[0m Trial 248 finished with value: 0.8835024211684427 and parameters: {'scalers': 'minmax', 'lambda_l1': 3.5950366358250934e-06, 'lambda_l2': 0.025977824165960905, 'num_leaves': 217, 'feature_fraction': 0.41232958232935596, 'bagging_fraction': 0.4010691744786316, 'bagging_freq': 3, 'min_child_samples': 11, 'max_depth': 677}. Best is trial 212 with value: 0.8846667409173213.\u001b[0m\n",
      "\u001b[32m[I 2022-06-22 12:40:47,772]\u001b[0m Trial 249 finished with value: 0.5 and parameters: {'scalers': 'minmax', 'lambda_l1': 5.076917932336372e-06, 'lambda_l2': 0.03722414968375975, 'num_leaves': 218, 'feature_fraction': 0.4131497784396607, 'bagging_fraction': 0.40041348036205954, 'bagging_freq': 3, 'min_child_samples': 36, 'max_depth': 686}. Best is trial 212 with value: 0.8846667409173213.\u001b[0m\n",
      "\u001b[32m[I 2022-06-22 12:40:52,012]\u001b[0m Trial 250 finished with value: 0.8768674452482501 and parameters: {'scalers': 'minmax', 'lambda_l1': 4.084893296626764e-06, 'lambda_l2': 0.02970821379567046, 'num_leaves': 216, 'feature_fraction': 0.4116931928178844, 'bagging_fraction': 0.40670425034706464, 'bagging_freq': 3, 'min_child_samples': 10, 'max_depth': 671}. Best is trial 212 with value: 0.8846667409173213.\u001b[0m\n",
      "\u001b[32m[I 2022-06-22 12:40:56,285]\u001b[0m Trial 251 finished with value: 0.8811612286707101 and parameters: {'scalers': 'minmax', 'lambda_l1': 8.378072105634252e-06, 'lambda_l2': 0.01555945590388898, 'num_leaves': 220, 'feature_fraction': 0.4248600099417588, 'bagging_fraction': 0.4106927802890772, 'bagging_freq': 3, 'min_child_samples': 10, 'max_depth': 666}. Best is trial 212 with value: 0.8846667409173213.\u001b[0m\n",
      "\u001b[32m[I 2022-06-22 12:41:00,577]\u001b[0m Trial 252 finished with value: 0.8822586011769448 and parameters: {'scalers': 'minmax', 'lambda_l1': 7.056248744311144e-06, 'lambda_l2': 0.07308619684371495, 'num_leaves': 215, 'feature_fraction': 0.40000423039322763, 'bagging_fraction': 0.4069056648928816, 'bagging_freq': 3, 'min_child_samples': 10, 'max_depth': 677}. Best is trial 212 with value: 0.8846667409173213.\u001b[0m\n",
      "\u001b[32m[I 2022-06-22 12:41:04,827]\u001b[0m Trial 253 finished with value: 0.8800439516408943 and parameters: {'scalers': 'minmax', 'lambda_l1': 8.355200457272359e-06, 'lambda_l2': 0.12214278881351555, 'num_leaves': 216, 'feature_fraction': 0.4220159082120667, 'bagging_fraction': 0.40924576441105637, 'bagging_freq': 3, 'min_child_samples': 10, 'max_depth': 674}. Best is trial 212 with value: 0.8846667409173213.\u001b[0m\n",
      "\u001b[32m[I 2022-06-22 12:41:09,593]\u001b[0m Trial 254 finished with value: 0.8814994272368498 and parameters: {'scalers': 'minmax', 'lambda_l1': 6.5399949842582126e-06, 'lambda_l2': 0.021262120076576865, 'num_leaves': 219, 'feature_fraction': 0.4032114303410134, 'bagging_fraction': 0.40293657354101453, 'bagging_freq': 3, 'min_child_samples': 7, 'max_depth': 675}. Best is trial 212 with value: 0.8846667409173213.\u001b[0m\n",
      "\u001b[32m[I 2022-06-22 12:41:14,730]\u001b[0m Trial 255 finished with value: 0.8759430440775253 and parameters: {'scalers': 'minmax', 'lambda_l1': 6.083176458801855e-06, 'lambda_l2': 0.025163589263011432, 'num_leaves': 220, 'feature_fraction': 0.40636221455884575, 'bagging_fraction': 0.40292028809292263, 'bagging_freq': 3, 'min_child_samples': 5, 'max_depth': 678}. Best is trial 212 with value: 0.8846667409173213.\u001b[0m\n",
      "\u001b[32m[I 2022-06-22 12:41:18,993]\u001b[0m Trial 256 finished with value: 0.8795317378484949 and parameters: {'scalers': 'minmax', 'lambda_l1': 3.1851565405531124e-06, 'lambda_l2': 0.07657252112582474, 'num_leaves': 213, 'feature_fraction': 0.40369574882994885, 'bagging_fraction': 0.4098849954536183, 'bagging_freq': 3, 'min_child_samples': 10, 'max_depth': 669}. Best is trial 212 with value: 0.8846667409173213.\u001b[0m\n",
      "\u001b[32m[I 2022-06-22 12:41:23,235]\u001b[0m Trial 257 finished with value: 0.8834877632472447 and parameters: {'scalers': 'minmax', 'lambda_l1': 7.609276253610644e-06, 'lambda_l2': 0.05684948160436942, 'num_leaves': 220, 'feature_fraction': 0.40122260747658195, 'bagging_fraction': 0.4113860708954239, 'bagging_freq': 3, 'min_child_samples': 11, 'max_depth': 685}. Best is trial 212 with value: 0.8846667409173213.\u001b[0m\n",
      "\u001b[32m[I 2022-06-22 12:41:28,141]\u001b[0m Trial 258 finished with value: 0.8816037365197582 and parameters: {'scalers': 'minmax', 'lambda_l1': 8.488696372649236e-06, 'lambda_l2': 0.12463550668853801, 'num_leaves': 221, 'feature_fraction': 0.4010389115544882, 'bagging_fraction': 0.4129460369728275, 'bagging_freq': 3, 'min_child_samples': 7, 'max_depth': 704}. Best is trial 212 with value: 0.8846667409173213.\u001b[0m\n",
      "\u001b[32m[I 2022-06-22 12:41:33,136]\u001b[0m Trial 259 finished with value: 0.8758667358827963 and parameters: {'scalers': 'minmax', 'lambda_l1': 8.083183820998322e-06, 'lambda_l2': 0.05251788472171675, 'num_leaves': 220, 'feature_fraction': 0.4004296006936554, 'bagging_fraction': 0.41483103764787665, 'bagging_freq': 3, 'min_child_samples': 7, 'max_depth': 715}. Best is trial 212 with value: 0.8846667409173213.\u001b[0m\n",
      "\u001b[32m[I 2022-06-22 12:41:37,941]\u001b[0m Trial 260 finished with value: 0.8763396133020745 and parameters: {'scalers': 'minmax', 'lambda_l1': 8.116821622636141e-06, 'lambda_l2': 0.06349422766321411, 'num_leaves': 213, 'feature_fraction': 0.41406871991390487, 'bagging_fraction': 0.4117406039652717, 'bagging_freq': 3, 'min_child_samples': 7, 'max_depth': 686}. Best is trial 212 with value: 0.8846667409173213.\u001b[0m\n",
      "\u001b[32m[I 2022-06-22 12:41:42,194]\u001b[0m Trial 261 finished with value: 0.8768329407305799 and parameters: {'scalers': 'minmax', 'lambda_l1': 3.335701993453836e-06, 'lambda_l2': 0.1061613894771441, 'num_leaves': 221, 'feature_fraction': 0.4021748873769288, 'bagging_fraction': 0.40591226681134956, 'bagging_freq': 3, 'min_child_samples': 11, 'max_depth': 696}. Best is trial 212 with value: 0.8846667409173213.\u001b[0m\n",
      "\u001b[32m[I 2022-06-22 12:41:47,182]\u001b[0m Trial 262 finished with value: 0.8773394896512156 and parameters: {'scalers': 'minmax', 'lambda_l1': 9.29674910523106e-06, 'lambda_l2': 0.019515974790216026, 'num_leaves': 213, 'feature_fraction': 0.40087957146342307, 'bagging_fraction': 0.40233594296484354, 'bagging_freq': 3, 'min_child_samples': 5, 'max_depth': 661}. Best is trial 212 with value: 0.8846667409173213.\u001b[0m\n"
     ]
    },
    {
     "name": "stderr",
     "output_type": "stream",
     "text": [
      "\u001b[32m[I 2022-06-22 12:41:51,684]\u001b[0m Trial 263 finished with value: 0.8834765138757011 and parameters: {'scalers': 'minmax', 'lambda_l1': 4.9353936958893845e-06, 'lambda_l2': 0.11549936676953122, 'num_leaves': 221, 'feature_fraction': 0.42181176868926623, 'bagging_fraction': 0.42149691462664624, 'bagging_freq': 3, 'min_child_samples': 11, 'max_depth': 733}. Best is trial 212 with value: 0.8846667409173213.\u001b[0m\n",
      "\u001b[32m[I 2022-06-22 12:41:56,108]\u001b[0m Trial 264 finished with value: 0.8764710672239697 and parameters: {'scalers': 'minmax', 'lambda_l1': 4.7724216305378966e-06, 'lambda_l2': 0.1262066396773385, 'num_leaves': 217, 'feature_fraction': 0.4163250419004575, 'bagging_fraction': 0.40043966494528344, 'bagging_freq': 3, 'min_child_samples': 11, 'max_depth': 743}. Best is trial 212 with value: 0.8846667409173213.\u001b[0m\n",
      "\u001b[32m[I 2022-06-22 12:42:00,538]\u001b[0m Trial 265 finished with value: 0.8819842664430513 and parameters: {'scalers': 'minmax', 'lambda_l1': 2.5802934769963756e-06, 'lambda_l2': 0.19233215778052495, 'num_leaves': 208, 'feature_fraction': 0.4177666165677905, 'bagging_fraction': 0.4189497058491201, 'bagging_freq': 3, 'min_child_samples': 11, 'max_depth': 721}. Best is trial 212 with value: 0.8846667409173213.\u001b[0m\n",
      "\u001b[32m[I 2022-06-22 12:42:04,912]\u001b[0m Trial 266 finished with value: 0.8734970304248555 and parameters: {'scalers': 'minmax', 'lambda_l1': 2.2456977759265266e-06, 'lambda_l2': 0.29860015539543, 'num_leaves': 204, 'feature_fraction': 0.4161871407273569, 'bagging_fraction': 0.41915678928136807, 'bagging_freq': 3, 'min_child_samples': 11, 'max_depth': 723}. Best is trial 212 with value: 0.8846667409173213.\u001b[0m\n",
      "\u001b[32m[I 2022-06-22 12:42:09,817]\u001b[0m Trial 267 finished with value: 0.8796912836905095 and parameters: {'scalers': 'minmax', 'lambda_l1': 1.0536737793418234e-06, 'lambda_l2': 0.1885475504683565, 'num_leaves': 211, 'feature_fraction': 0.40006307542151937, 'bagging_fraction': 0.4182643094888017, 'bagging_freq': 2, 'min_child_samples': 7, 'max_depth': 701}. Best is trial 212 with value: 0.8846667409173213.\u001b[0m\n",
      "\u001b[32m[I 2022-06-22 12:42:13,928]\u001b[0m Trial 268 finished with value: 0.8780627013810061 and parameters: {'scalers': 'minmax', 'lambda_l1': 2.7091775329539345e-06, 'lambda_l2': 0.04506220460988512, 'num_leaves': 208, 'feature_fraction': 0.41660700783963117, 'bagging_fraction': 0.4252371203041377, 'bagging_freq': 3, 'min_child_samples': 14, 'max_depth': 724}. Best is trial 212 with value: 0.8846667409173213.\u001b[0m\n",
      "\u001b[32m[I 2022-06-22 12:42:18,038]\u001b[0m Trial 269 finished with value: 0.8811968910217748 and parameters: {'scalers': 'minmax', 'lambda_l1': 7.21299127398289e-06, 'lambda_l2': 0.20343266891802114, 'num_leaves': 223, 'feature_fraction': 0.4127726717856625, 'bagging_fraction': 0.42100352929206875, 'bagging_freq': 3, 'min_child_samples': 12, 'max_depth': 686}. Best is trial 212 with value: 0.8846667409173213.\u001b[0m\n",
      "\u001b[32m[I 2022-06-22 12:42:21,896]\u001b[0m Trial 270 finished with value: 0.8758249540492187 and parameters: {'scalers': 'minmax', 'lambda_l1': 6.600591120442945e-06, 'lambda_l2': 0.19136893206373112, 'num_leaves': 215, 'feature_fraction': 0.41279435071014664, 'bagging_fraction': 0.4200581721274704, 'bagging_freq': 3, 'min_child_samples': 14, 'max_depth': 689}. Best is trial 212 with value: 0.8846667409173213.\u001b[0m\n",
      "\u001b[32m[I 2022-06-22 12:42:26,189]\u001b[0m Trial 271 finished with value: 0.875384239126886 and parameters: {'scalers': 'minmax', 'lambda_l1': 3.417001685144584e-06, 'lambda_l2': 0.65721893721053, 'num_leaves': 220, 'feature_fraction': 0.4210873642603065, 'bagging_fraction': 0.414628703167631, 'bagging_freq': 3, 'min_child_samples': 12, 'max_depth': 739}. Best is trial 212 with value: 0.8846667409173213.\u001b[0m\n",
      "\u001b[32m[I 2022-06-22 12:42:30,309]\u001b[0m Trial 272 finished with value: 0.8814002797383214 and parameters: {'scalers': 'minmax', 'lambda_l1': 8.693730842488322e-06, 'lambda_l2': 0.09211415392995767, 'num_leaves': 210, 'feature_fraction': 0.40909490256392683, 'bagging_fraction': 0.40181651291633663, 'bagging_freq': 3, 'min_child_samples': 11, 'max_depth': 679}. Best is trial 212 with value: 0.8846667409173213.\u001b[0m\n",
      "\u001b[32m[I 2022-06-22 12:42:34,551]\u001b[0m Trial 273 finished with value: 0.8794850131378769 and parameters: {'scalers': 'minmax', 'lambda_l1': 9.48654079591021e-06, 'lambda_l2': 0.07259358991416072, 'num_leaves': 203, 'feature_fraction': 0.40122624528640055, 'bagging_fraction': 0.4007177346660205, 'bagging_freq': 3, 'min_child_samples': 11, 'max_depth': 707}. Best is trial 212 with value: 0.8846667409173213.\u001b[0m\n",
      "\u001b[32m[I 2022-06-22 12:42:38,358]\u001b[0m Trial 274 finished with value: 0.8737941602815829 and parameters: {'scalers': 'minmax', 'lambda_l1': 5.981987240941612e-06, 'lambda_l2': 0.322379916555673, 'num_leaves': 210, 'feature_fraction': 0.41153426182779956, 'bagging_fraction': 0.4202934216992912, 'bagging_freq': 3, 'min_child_samples': 14, 'max_depth': 684}. Best is trial 212 with value: 0.8846667409173213.\u001b[0m\n",
      "\u001b[32m[I 2022-06-22 12:42:42,307]\u001b[0m Trial 275 finished with value: 0.8778236311117503 and parameters: {'scalers': 'minmax', 'lambda_l1': 1.3635007993359795e-05, 'lambda_l2': 0.8156032746708507, 'num_leaves': 216, 'feature_fraction': 0.42334400609932044, 'bagging_fraction': 0.4112540094884714, 'bagging_freq': 3, 'min_child_samples': 12, 'max_depth': 671}. Best is trial 212 with value: 0.8846667409173213.\u001b[0m\n",
      "\u001b[32m[I 2022-06-22 12:42:46,034]\u001b[0m Trial 276 finished with value: 0.8786307123174383 and parameters: {'scalers': 'minmax', 'lambda_l1': 3.993814353007958e-06, 'lambda_l2': 0.09509378711230558, 'num_leaves': 199, 'feature_fraction': 0.4096253531262478, 'bagging_fraction': 0.42499133676006284, 'bagging_freq': 3, 'min_child_samples': 16, 'max_depth': 705}. Best is trial 212 with value: 0.8846667409173213.\u001b[0m\n",
      "\u001b[32m[I 2022-06-22 12:42:50,730]\u001b[0m Trial 277 finished with value: 0.8798064877159304 and parameters: {'scalers': 'minmax', 'lambda_l1': 1.9289072865891383e-06, 'lambda_l2': 0.13891077580725944, 'num_leaves': 209, 'feature_fraction': 0.40064744099364835, 'bagging_fraction': 0.41171845536032586, 'bagging_freq': 3, 'min_child_samples': 11, 'max_depth': 779}. Best is trial 212 with value: 0.8846667409173213.\u001b[0m\n",
      "\u001b[32m[I 2022-06-22 12:42:54,667]\u001b[0m Trial 278 finished with value: 0.8792111329073403 and parameters: {'scalers': 'minmax', 'lambda_l1': 7.674853548891493e-06, 'lambda_l2': 0.013086424125237568, 'num_leaves': 223, 'feature_fraction': 0.42194922173481514, 'bagging_fraction': 0.4234519040135265, 'bagging_freq': 3, 'min_child_samples': 13, 'max_depth': 660}. Best is trial 212 with value: 0.8846667409173213.\u001b[0m\n",
      "\u001b[32m[I 2022-06-22 12:42:58,979]\u001b[0m Trial 279 finished with value: 0.879073424210808 and parameters: {'scalers': 'minmax', 'lambda_l1': 1.1219966267694082e-05, 'lambda_l2': 0.03005799097903286, 'num_leaves': 213, 'feature_fraction': 0.4121371830534134, 'bagging_fraction': 0.4003616712058745, 'bagging_freq': 3, 'min_child_samples': 10, 'max_depth': 686}. Best is trial 212 with value: 0.8846667409173213.\u001b[0m\n",
      "\u001b[32m[I 2022-06-22 12:43:03,282]\u001b[0m Trial 280 finished with value: 0.8716732564820799 and parameters: {'scalers': 'minmax', 'lambda_l1': 4.51964014981919e-06, 'lambda_l2': 0.04647866647148557, 'num_leaves': 219, 'feature_fraction': 0.9770363000647801, 'bagging_fraction': 0.40010139793532845, 'bagging_freq': 3, 'min_child_samples': 14, 'max_depth': 727}. Best is trial 212 with value: 0.8846667409173213.\u001b[0m\n",
      "\u001b[32m[I 2022-06-22 12:43:08,658]\u001b[0m Trial 281 finished with value: 0.875318293011598 and parameters: {'scalers': 'minmax', 'lambda_l1': 1.4118186988695867e-05, 'lambda_l2': 0.009567609912312109, 'num_leaves': 104, 'feature_fraction': 0.4286204703201425, 'bagging_fraction': 0.6927234811196862, 'bagging_freq': 3, 'min_child_samples': 7, 'max_depth': 680}. Best is trial 212 with value: 0.8846667409173213.\u001b[0m\n",
      "\u001b[32m[I 2022-06-22 12:43:13,002]\u001b[0m Trial 282 finished with value: 0.8781592142377747 and parameters: {'scalers': 'minmax', 'lambda_l1': 6.32335963073586e-06, 'lambda_l2': 0.02361734211835758, 'num_leaves': 229, 'feature_fraction': 0.4115355631934926, 'bagging_fraction': 0.4158478357306239, 'bagging_freq': 3, 'min_child_samples': 11, 'max_depth': 702}. Best is trial 212 with value: 0.8846667409173213.\u001b[0m\n"
     ]
    },
    {
     "name": "stderr",
     "output_type": "stream",
     "text": [
      "\u001b[32m[I 2022-06-22 12:43:16,325]\u001b[0m Trial 283 finished with value: 0.8697712020306834 and parameters: {'scalers': 'minmax', 'lambda_l1': 3.644926651367471e-06, 'lambda_l2': 0.07293207198193219, 'num_leaves': 71, 'feature_fraction': 0.4005115299838523, 'bagging_fraction': 0.42660993116823537, 'bagging_freq': 3, 'min_child_samples': 17, 'max_depth': 656}. Best is trial 212 with value: 0.8846667409173213.\u001b[0m\n",
      "\u001b[32m[I 2022-06-22 12:43:21,262]\u001b[0m Trial 284 finished with value: 0.8762632418536055 and parameters: {'scalers': 'minmax', 'lambda_l1': 9.68530877192183e-06, 'lambda_l2': 0.03312532378133076, 'num_leaves': 223, 'feature_fraction': 0.4232919262132287, 'bagging_fraction': 0.413252910085033, 'bagging_freq': 3, 'min_child_samples': 9, 'max_depth': 762}. Best is trial 212 with value: 0.8846667409173213.\u001b[0m\n",
      "\u001b[32m[I 2022-06-22 12:43:22,287]\u001b[0m Trial 285 finished with value: 0.5 and parameters: {'scalers': 'minmax', 'lambda_l1': 1.3597027723578746e-06, 'lambda_l2': 0.2050717779013016, 'num_leaves': 230, 'feature_fraction': 0.4288030796736313, 'bagging_fraction': 0.4006841435851024, 'bagging_freq': 4, 'min_child_samples': 70, 'max_depth': 662}. Best is trial 212 with value: 0.8846667409173213.\u001b[0m\n",
      "\u001b[32m[I 2022-06-22 12:43:27,646]\u001b[0m Trial 286 finished with value: 0.878154922176207 and parameters: {'scalers': 'minmax', 'lambda_l1': 2.418881451011348e-06, 'lambda_l2': 0.16590441425623229, 'num_leaves': 204, 'feature_fraction': 0.4160262324409585, 'bagging_fraction': 0.4278605030138374, 'bagging_freq': 3, 'min_child_samples': 5, 'max_depth': 692}. Best is trial 212 with value: 0.8846667409173213.\u001b[0m\n",
      "\u001b[32m[I 2022-06-22 12:43:31,978]\u001b[0m Trial 287 finished with value: 0.8806158658378085 and parameters: {'scalers': 'minmax', 'lambda_l1': 6.0246526553789075e-06, 'lambda_l2': 0.017773052691322528, 'num_leaves': 215, 'feature_fraction': 0.4309904553493794, 'bagging_fraction': 0.4127241640483374, 'bagging_freq': 3, 'min_child_samples': 12, 'max_depth': 723}. Best is trial 212 with value: 0.8846667409173213.\u001b[0m\n",
      "\u001b[32m[I 2022-06-22 12:43:35,767]\u001b[0m Trial 288 finished with value: 0.8719902722836159 and parameters: {'scalers': 'minmax', 'lambda_l1': 1.417385473112072e-05, 'lambda_l2': 0.44651648951977496, 'num_leaves': 224, 'feature_fraction': 0.40991848511574763, 'bagging_fraction': 0.4297052304741835, 'bagging_freq': 2, 'min_child_samples': 15, 'max_depth': 683}. Best is trial 212 with value: 0.8846667409173213.\u001b[0m\n",
      "\u001b[32m[I 2022-06-22 12:43:41,115]\u001b[0m Trial 289 finished with value: 0.8754598762091023 and parameters: {'scalers': 'minmax', 'lambda_l1': 7.671352639046444e-06, 'lambda_l2': 0.09252035989898155, 'num_leaves': 207, 'feature_fraction': 0.994426493960873, 'bagging_fraction': 0.40052904941449247, 'bagging_freq': 3, 'min_child_samples': 9, 'max_depth': 746}. Best is trial 212 with value: 0.8846667409173213.\u001b[0m\n",
      "\u001b[32m[I 2022-06-22 12:43:45,305]\u001b[0m Trial 290 finished with value: 0.8743553459354542 and parameters: {'scalers': 'minmax', 'lambda_l1': 2.431443308534628e-06, 'lambda_l2': 0.009225232273077595, 'num_leaves': 220, 'feature_fraction': 0.4204369440133281, 'bagging_fraction': 0.42118286645608466, 'bagging_freq': 3, 'min_child_samples': 13, 'max_depth': 706}. Best is trial 212 with value: 0.8846667409173213.\u001b[0m\n",
      "\u001b[32m[I 2022-06-22 12:43:50,313]\u001b[0m Trial 291 finished with value: 0.8768329034012082 and parameters: {'scalers': 'minmax', 'lambda_l1': 4.208754147735406e-06, 'lambda_l2': 0.043836838707490236, 'num_leaves': 231, 'feature_fraction': 0.40128624925939654, 'bagging_fraction': 0.41321035072605544, 'bagging_freq': 3, 'min_child_samples': 7, 'max_depth': 668}. Best is trial 212 with value: 0.8846667409173213.\u001b[0m\n",
      "\u001b[32m[I 2022-06-22 12:43:55,117]\u001b[0m Trial 292 finished with value: 0.8764808994110465 and parameters: {'scalers': 'minmax', 'lambda_l1': 1.5850953798864785e-05, 'lambda_l2': 0.27009863749279567, 'num_leaves': 212, 'feature_fraction': 0.4328621767574284, 'bagging_fraction': 0.43152148452123007, 'bagging_freq': 3, 'min_child_samples': 10, 'max_depth': 649}. Best is trial 212 with value: 0.8846667409173213.\u001b[0m\n",
      "\u001b[32m[I 2022-06-22 12:43:59,387]\u001b[0m Trial 293 finished with value: 0.8801941550881177 and parameters: {'scalers': 'minmax', 'lambda_l1': 1.0173566298421871e-05, 'lambda_l2': 0.013517420383710505, 'num_leaves': 225, 'feature_fraction': 0.411837556240753, 'bagging_fraction': 0.4214131924959238, 'bagging_freq': 3, 'min_child_samples': 11, 'max_depth': 679}. Best is trial 212 with value: 0.8846667409173213.\u001b[0m\n",
      "\u001b[32m[I 2022-06-22 12:44:05,575]\u001b[0m Trial 294 finished with value: 0.8778122915526164 and parameters: {'scalers': 'minmax', 'lambda_l1': 4.785292357358083e-06, 'lambda_l2': 0.021512478734130796, 'num_leaves': 216, 'feature_fraction': 0.4218037305063025, 'bagging_fraction': 0.41358272064572016, 'bagging_freq': 3, 'min_child_samples': 8, 'max_depth': 660}. Best is trial 212 with value: 0.8846667409173213.\u001b[0m\n",
      "\u001b[32m[I 2022-06-22 12:44:07,005]\u001b[0m Trial 295 finished with value: 0.5 and parameters: {'scalers': 'minmax', 'lambda_l1': 9.407661147005608e-07, 'lambda_l2': 0.007599111857277464, 'num_leaves': 227, 'feature_fraction': 0.4336677902044378, 'bagging_fraction': 0.43241827710253283, 'bagging_freq': 3, 'min_child_samples': 62, 'max_depth': 716}. Best is trial 212 with value: 0.8846667409173213.\u001b[0m\n",
      "\u001b[32m[I 2022-06-22 12:44:12,031]\u001b[0m Trial 296 finished with value: 0.8787150295524908 and parameters: {'scalers': 'minmax', 'lambda_l1': 1.8513782127150338e-06, 'lambda_l2': 0.05242478468903905, 'num_leaves': 218, 'feature_fraction': 0.4009919449181183, 'bagging_fraction': 0.4010148193715117, 'bagging_freq': 3, 'min_child_samples': 13, 'max_depth': 643}. Best is trial 212 with value: 0.8846667409173213.\u001b[0m\n",
      "\u001b[32m[I 2022-06-22 12:44:18,825]\u001b[0m Trial 297 finished with value: 0.876290108262051 and parameters: {'scalers': 'minmax', 'lambda_l1': 7.1691698015263005e-06, 'lambda_l2': 0.10313960159486255, 'num_leaves': 209, 'feature_fraction': 0.41308061306346017, 'bagging_fraction': 0.4124713002691295, 'bagging_freq': 3, 'min_child_samples': 6, 'max_depth': 703}. Best is trial 212 with value: 0.8846667409173213.\u001b[0m\n",
      "\u001b[32m[I 2022-06-22 12:44:25,356]\u001b[0m Trial 298 finished with value: 0.8683075948818982 and parameters: {'scalers': 'minmax', 'lambda_l1': 2.7776126170534874e-06, 'lambda_l2': 0.0069253010049508505, 'num_leaves': 231, 'feature_fraction': 0.4187137458134443, 'bagging_fraction': 0.43393341073413116, 'bagging_freq': 3, 'min_child_samples': 15, 'max_depth': 869}. Best is trial 212 with value: 0.8846667409173213.\u001b[0m\n",
      "\u001b[32m[I 2022-06-22 12:44:32,105]\u001b[0m Trial 299 finished with value: 0.8821528192954277 and parameters: {'scalers': 'minmax', 'lambda_l1': 9.899506117089368e-06, 'lambda_l2': 0.14567118681441352, 'num_leaves': 219, 'feature_fraction': 0.4320130141070027, 'bagging_fraction': 0.423992544230274, 'bagging_freq': 3, 'min_child_samples': 9, 'max_depth': 676}. Best is trial 212 with value: 0.8846667409173213.\u001b[0m\n",
      "\u001b[32m[I 2022-06-22 12:44:38,695]\u001b[0m Trial 300 finished with value: 0.8745395262417319 and parameters: {'scalers': 'minmax', 'lambda_l1': 5.647949021711387e-07, 'lambda_l2': 0.22099084795730606, 'num_leaves': 224, 'feature_fraction': 0.4318645888134216, 'bagging_fraction': 0.4243189672142632, 'bagging_freq': 2, 'min_child_samples': 9, 'max_depth': 689}. Best is trial 212 with value: 0.8846667409173213.\u001b[0m\n",
      "\u001b[32m[I 2022-06-22 12:44:45,312]\u001b[0m Trial 301 finished with value: 0.8788613520767157 and parameters: {'scalers': 'minmax', 'lambda_l1': 1.3295246011900183e-05, 'lambda_l2': 0.14954883326260818, 'num_leaves': 213, 'feature_fraction': 0.4103380125650723, 'bagging_fraction': 0.4353971805364485, 'bagging_freq': 3, 'min_child_samples': 5, 'max_depth': 676}. Best is trial 212 with value: 0.8846667409173213.\u001b[0m\n",
      "\u001b[32m[I 2022-06-22 12:44:52,082]\u001b[0m Trial 302 finished with value: 0.8721327769237986 and parameters: {'scalers': 'minmax', 'lambda_l1': 3.4049575937504795e-06, 'lambda_l2': 0.07935817187158876, 'num_leaves': 228, 'feature_fraction': 0.40091184730206963, 'bagging_fraction': 0.7310201238675499, 'bagging_freq': 3, 'min_child_samples': 12, 'max_depth': 716}. Best is trial 212 with value: 0.8846667409173213.\u001b[0m\n"
     ]
    },
    {
     "name": "stderr",
     "output_type": "stream",
     "text": [
      "\u001b[32m[I 2022-06-22 12:44:58,708]\u001b[0m Trial 303 finished with value: 0.8786520215680433 and parameters: {'scalers': 'minmax', 'lambda_l1': 5.340062507668073e-06, 'lambda_l2': 0.155132939377533, 'num_leaves': 196, 'feature_fraction': 0.6547990675239339, 'bagging_fraction': 0.4187980390636136, 'bagging_freq': 3, 'min_child_samples': 8, 'max_depth': 888}. Best is trial 212 with value: 0.8846667409173213.\u001b[0m\n",
      "\u001b[32m[I 2022-06-22 12:45:02,751]\u001b[0m Trial 304 finished with value: 0.8682608600549777 and parameters: {'scalers': 'minmax', 'lambda_l1': 1.699653866091738e-05, 'lambda_l2': 0.42468031151283214, 'num_leaves': 220, 'feature_fraction': 0.4350990068184032, 'bagging_fraction': 0.4005819889698662, 'bagging_freq': 4, 'min_child_samples': 17, 'max_depth': 641}. Best is trial 212 with value: 0.8846667409173213.\u001b[0m\n",
      "\u001b[32m[I 2022-06-22 12:45:09,426]\u001b[0m Trial 305 finished with value: 0.8811905131117591 and parameters: {'scalers': 'minmax', 'lambda_l1': 9.382751133596857e-06, 'lambda_l2': 0.05995181039212789, 'num_leaves': 232, 'feature_fraction': 0.4196224514902546, 'bagging_fraction': 0.42400322737841967, 'bagging_freq': 3, 'min_child_samples': 7, 'max_depth': 694}. Best is trial 212 with value: 0.8846667409173213.\u001b[0m\n",
      "\u001b[32m[I 2022-06-22 12:45:10,294]\u001b[0m Trial 306 finished with value: 0.5 and parameters: {'scalers': 'minmax', 'lambda_l1': 5.734241531061131e-06, 'lambda_l2': 0.030922054020293264, 'num_leaves': 205, 'feature_fraction': 0.41307304290700775, 'bagging_fraction': 0.4386183217218997, 'bagging_freq': 3, 'min_child_samples': 92, 'max_depth': 495}. Best is trial 212 with value: 0.8846667409173213.\u001b[0m\n",
      "\u001b[32m[I 2022-06-22 12:45:15,054]\u001b[0m Trial 307 finished with value: 0.8777733187864767 and parameters: {'scalers': 'minmax', 'lambda_l1': 3.4347438539246424e-06, 'lambda_l2': 0.11077098879296274, 'num_leaves': 215, 'feature_fraction': 0.4374025089073659, 'bagging_fraction': 0.40812405579375427, 'bagging_freq': 3, 'min_child_samples': 12, 'max_depth': 736}. Best is trial 212 with value: 0.8846667409173213.\u001b[0m\n",
      "\u001b[32m[I 2022-06-22 12:45:20,394]\u001b[0m Trial 308 finished with value: 0.8798468110621748 and parameters: {'scalers': 'minmax', 'lambda_l1': 1.1414513012683625e-05, 'lambda_l2': 0.009444231536005869, 'num_leaves': 225, 'feature_fraction': 0.4001370009150308, 'bagging_fraction': 0.4002077279140958, 'bagging_freq': 3, 'min_child_samples': 10, 'max_depth': 514}. Best is trial 212 with value: 0.8846667409173213.\u001b[0m\n",
      "\u001b[32m[I 2022-06-22 12:45:25,827]\u001b[0m Trial 309 finished with value: 0.8748726396152865 and parameters: {'scalers': 'minmax', 'lambda_l1': 1.5151242716650995e-06, 'lambda_l2': 0.006241009985635835, 'num_leaves': 212, 'feature_fraction': 0.42322246728356067, 'bagging_fraction': 0.42426375317474974, 'bagging_freq': 3, 'min_child_samples': 14, 'max_depth': 659}. Best is trial 212 with value: 0.8846667409173213.\u001b[0m\n",
      "\u001b[32m[I 2022-06-22 12:45:31,892]\u001b[0m Trial 310 finished with value: 0.8806350994636598 and parameters: {'scalers': 'minmax', 'lambda_l1': 1.621107363267908e-05, 'lambda_l2': 0.05796068909585156, 'num_leaves': 223, 'feature_fraction': 0.41160505251976287, 'bagging_fraction': 0.412731556313329, 'bagging_freq': 3, 'min_child_samples': 9, 'max_depth': 680}. Best is trial 212 with value: 0.8846667409173213.\u001b[0m\n",
      "\u001b[32m[I 2022-06-22 12:45:36,931]\u001b[0m Trial 311 finished with value: 0.8795879744180826 and parameters: {'scalers': 'minmax', 'lambda_l1': 6.704352220079251e-06, 'lambda_l2': 0.2251937052815087, 'num_leaves': 218, 'feature_fraction': 0.40040615510117816, 'bagging_fraction': 0.43636299770724063, 'bagging_freq': 3, 'min_child_samples': 11, 'max_depth': 640}. Best is trial 212 with value: 0.8846667409173213.\u001b[0m\n",
      "\u001b[32m[I 2022-06-22 12:45:43,622]\u001b[0m Trial 312 finished with value: 0.8760645716512591 and parameters: {'scalers': 'minmax', 'lambda_l1': 4.431597771403588e-06, 'lambda_l2': 0.09934907495440341, 'num_leaves': 229, 'feature_fraction': 0.43749258340459485, 'bagging_fraction': 0.41993099413377016, 'bagging_freq': 3, 'min_child_samples': 7, 'max_depth': 843}. Best is trial 212 with value: 0.8846667409173213.\u001b[0m\n",
      "\u001b[32m[I 2022-06-22 12:45:49,057]\u001b[0m Trial 313 finished with value: 0.8746004140982856 and parameters: {'scalers': 'minmax', 'lambda_l1': 1.1531106772446779e-05, 'lambda_l2': 0.011352092667788603, 'num_leaves': 232, 'feature_fraction': 0.4219045252004217, 'bagging_fraction': 0.41411949671107495, 'bagging_freq': 3, 'min_child_samples': 15, 'max_depth': 705}. Best is trial 212 with value: 0.8846667409173213.\u001b[0m\n",
      "\u001b[32m[I 2022-06-22 12:45:53,727]\u001b[0m Trial 314 finished with value: 0.8745094400998039 and parameters: {'scalers': 'minmax', 'lambda_l1': 2.5956472927435804e-06, 'lambda_l2': 0.9577117929331781, 'num_leaves': 209, 'feature_fraction': 0.4133774302137345, 'bagging_fraction': 0.43753370354365867, 'bagging_freq': 2, 'min_child_samples': 12, 'max_depth': 673}. Best is trial 212 with value: 0.8846667409173213.\u001b[0m\n",
      "\u001b[32m[I 2022-06-22 12:45:58,841]\u001b[0m Trial 315 finished with value: 0.8797398976582411 and parameters: {'scalers': 'minmax', 'lambda_l1': 7.432337146248597e-06, 'lambda_l2': 0.02610513892034769, 'num_leaves': 201, 'feature_fraction': 0.6237431537016289, 'bagging_fraction': 0.4001806284707717, 'bagging_freq': 3, 'min_child_samples': 9, 'max_depth': 655}. Best is trial 212 with value: 0.8846667409173213.\u001b[0m\n",
      "\u001b[32m[I 2022-06-22 12:46:05,862]\u001b[0m Trial 316 finished with value: 0.875564940155304 and parameters: {'scalers': 'robust', 'lambda_l1': 5.444876329182289e-06, 'lambda_l2': 0.1490543743761287, 'num_leaves': 244, 'feature_fraction': 0.7953497742995248, 'bagging_fraction': 0.4261740336337355, 'bagging_freq': 3, 'min_child_samples': 5, 'max_depth': 753}. Best is trial 212 with value: 0.8846667409173213.\u001b[0m\n",
      "\u001b[32m[I 2022-06-22 12:46:10,748]\u001b[0m Trial 317 finished with value: 0.8776267546737748 and parameters: {'scalers': 'minmax', 'lambda_l1': 2.0015187449951463e-05, 'lambda_l2': 0.007292197736092893, 'num_leaves': 220, 'feature_fraction': 0.4316481179287623, 'bagging_fraction': 0.4118854460280069, 'bagging_freq': 3, 'min_child_samples': 7, 'max_depth': 697}. Best is trial 212 with value: 0.8846667409173213.\u001b[0m\n",
      "\u001b[32m[I 2022-06-22 12:46:12,168]\u001b[0m Trial 318 finished with value: 0.5 and parameters: {'scalers': 'minmax', 'lambda_l1': 1.0213482262482495e-05, 'lambda_l2': 0.06185774541962313, 'num_leaves': 216, 'feature_fraction': 0.41043840383341884, 'bagging_fraction': 0.42739971972001856, 'bagging_freq': 3, 'min_child_samples': 47, 'max_depth': 532}. Best is trial 212 with value: 0.8846667409173213.\u001b[0m\n",
      "\u001b[32m[I 2022-06-22 12:46:15,766]\u001b[0m Trial 319 finished with value: 0.8648296985951783 and parameters: {'scalers': 'minmax', 'lambda_l1': 2.5061600171634314e-05, 'lambda_l2': 0.2861578358213692, 'num_leaves': 224, 'feature_fraction': 0.41937885945740894, 'bagging_fraction': 0.413002529680771, 'bagging_freq': 3, 'min_child_samples': 19, 'max_depth': 730}. Best is trial 212 with value: 0.8846667409173213.\u001b[0m\n",
      "\u001b[32m[I 2022-06-22 12:46:21,947]\u001b[0m Trial 320 finished with value: 0.8795570257700674 and parameters: {'scalers': 'minmax', 'lambda_l1': 3.3440571157404413e-06, 'lambda_l2': 0.03698922527728616, 'num_leaves': 210, 'feature_fraction': 0.9381306882754519, 'bagging_fraction': 0.438471714786309, 'bagging_freq': 3, 'min_child_samples': 11, 'max_depth': 906}. Best is trial 212 with value: 0.8846667409173213.\u001b[0m\n",
      "\u001b[32m[I 2022-06-22 12:46:27,348]\u001b[0m Trial 321 finished with value: 0.8691515312602774 and parameters: {'scalers': 'minmax', 'lambda_l1': 1.5665594252334694e-05, 'lambda_l2': 0.01668217754060263, 'num_leaves': 232, 'feature_fraction': 0.40001997209416207, 'bagging_fraction': 0.7535614824838072, 'bagging_freq': 4, 'min_child_samples': 9, 'max_depth': 638}. Best is trial 212 with value: 0.8846667409173213.\u001b[0m\n",
      "\u001b[32m[I 2022-06-22 12:46:33,007]\u001b[0m Trial 322 finished with value: 0.8642958090670936 and parameters: {'scalers': 'minmax', 'lambda_l1': 8.587676082167095e-06, 'lambda_l2': 0.08840380777151892, 'num_leaves': 227, 'feature_fraction': 0.437718221521447, 'bagging_fraction': 0.8809049215902013, 'bagging_freq': 3, 'min_child_samples': 13, 'max_depth': 674}. Best is trial 212 with value: 0.8846667409173213.\u001b[0m\n"
     ]
    },
    {
     "name": "stderr",
     "output_type": "stream",
     "text": [
      "\u001b[32m[I 2022-06-22 12:46:36,775]\u001b[0m Trial 323 finished with value: 0.874757685125332 and parameters: {'scalers': 'minmax', 'lambda_l1': 2.262808188013875e-06, 'lambda_l2': 0.005269175536920084, 'num_leaves': 218, 'feature_fraction': 0.4253664944291647, 'bagging_fraction': 0.42291916316097206, 'bagging_freq': 3, 'min_child_samples': 16, 'max_depth': 692}. Best is trial 212 with value: 0.8846667409173213.\u001b[0m\n",
      "\u001b[32m[I 2022-06-22 12:46:40,863]\u001b[0m Trial 324 finished with value: 0.8860457100948587 and parameters: {'scalers': 'minmax', 'lambda_l1': 4.75261507145719e-06, 'lambda_l2': 0.011742802261727603, 'num_leaves': 241, 'feature_fraction': 0.4109969027768354, 'bagging_fraction': 0.4003975536156305, 'bagging_freq': 3, 'min_child_samples': 11, 'max_depth': 655}. Best is trial 324 with value: 0.8860457100948587.\u001b[0m\n",
      "\u001b[32m[I 2022-06-22 12:46:45,536]\u001b[0m Trial 325 finished with value: 0.8825576095516109 and parameters: {'scalers': 'minmax', 'lambda_l1': 4.464824147385123e-06, 'lambda_l2': 0.01568406239233424, 'num_leaves': 242, 'feature_fraction': 0.4257240135692101, 'bagging_fraction': 0.4109685780328493, 'bagging_freq': 3, 'min_child_samples': 7, 'max_depth': 652}. Best is trial 324 with value: 0.8860457100948587.\u001b[0m\n",
      "\u001b[32m[I 2022-06-22 12:46:50,333]\u001b[0m Trial 326 finished with value: 0.8815018923929527 and parameters: {'scalers': 'minmax', 'lambda_l1': 4.270005751425586e-06, 'lambda_l2': 0.012934853899173171, 'num_leaves': 246, 'feature_fraction': 0.43760069149386693, 'bagging_fraction': 0.40986450606268177, 'bagging_freq': 3, 'min_child_samples': 6, 'max_depth': 634}. Best is trial 324 with value: 0.8860457100948587.\u001b[0m\n",
      "\u001b[32m[I 2022-06-22 12:46:55,823]\u001b[0m Trial 327 finished with value: 0.8763878191811628 and parameters: {'scalers': 'minmax', 'lambda_l1': 4.129258109464739e-06, 'lambda_l2': 0.01264931186490688, 'num_leaves': 247, 'feature_fraction': 0.8268517065419334, 'bagging_fraction': 0.43393158705017065, 'bagging_freq': 1, 'min_child_samples': 7, 'max_depth': 646}. Best is trial 324 with value: 0.8860457100948587.\u001b[0m\n",
      "\u001b[32m[I 2022-06-22 12:47:00,797]\u001b[0m Trial 328 finished with value: 0.8785639524733952 and parameters: {'scalers': 'minmax', 'lambda_l1': 1.3501703753331484e-06, 'lambda_l2': 0.020136484492200436, 'num_leaves': 243, 'feature_fraction': 0.4423865475906895, 'bagging_fraction': 0.41287257079079426, 'bagging_freq': 3, 'min_child_samples': 5, 'max_depth': 626}. Best is trial 324 with value: 0.8860457100948587.\u001b[0m\n",
      "\u001b[32m[I 2022-06-22 12:47:06,874]\u001b[0m Trial 329 finished with value: 0.8701251569852576 and parameters: {'scalers': 'minmax', 'lambda_l1': 1.8944119538910031e-06, 'lambda_l2': 0.012220789972499367, 'num_leaves': 240, 'feature_fraction': 0.7139958536530155, 'bagging_fraction': 0.6717923312108874, 'bagging_freq': 3, 'min_child_samples': 5, 'max_depth': 636}. Best is trial 324 with value: 0.8860457100948587.\u001b[0m\n",
      "\u001b[32m[I 2022-06-22 12:47:11,617]\u001b[0m Trial 330 finished with value: 0.8824749422189437 and parameters: {'scalers': 'minmax', 'lambda_l1': 3.843558212988941e-06, 'lambda_l2': 0.01008579778956511, 'num_leaves': 246, 'feature_fraction': 0.4337786151159703, 'bagging_fraction': 0.41214499442078106, 'bagging_freq': 3, 'min_child_samples': 7, 'max_depth': 653}. Best is trial 324 with value: 0.8860457100948587.\u001b[0m\n",
      "\u001b[32m[I 2022-06-22 12:47:13,128]\u001b[0m Trial 331 finished with value: 0.5 and parameters: {'scalers': 'minmax', 'lambda_l1': 2.913821375331022e-06, 'lambda_l2': 0.007880453938958887, 'num_leaves': 116, 'feature_fraction': 0.44113497639559995, 'bagging_fraction': 0.4408782170296927, 'bagging_freq': 3, 'min_child_samples': 33, 'max_depth': 630}. Best is trial 324 with value: 0.8860457100948587.\u001b[0m\n",
      "\u001b[32m[I 2022-06-22 12:47:17,884]\u001b[0m Trial 332 finished with value: 0.8793285713254753 and parameters: {'scalers': 'minmax', 'lambda_l1': 1.790248797875305e-06, 'lambda_l2': 0.00912834353073121, 'num_leaves': 241, 'feature_fraction': 0.43593200443613744, 'bagging_fraction': 0.4263296551371931, 'bagging_freq': 3, 'min_child_samples': 7, 'max_depth': 656}. Best is trial 324 with value: 0.8860457100948587.\u001b[0m\n",
      "\u001b[32m[I 2022-06-22 12:47:22,447]\u001b[0m Trial 333 finished with value: 0.8850663323389716 and parameters: {'scalers': 'minmax', 'lambda_l1': 4.0703477618714094e-06, 'lambda_l2': 0.01498039469349175, 'num_leaves': 245, 'feature_fraction': 0.4278492143324827, 'bagging_fraction': 0.41219378176293725, 'bagging_freq': 3, 'min_child_samples': 8, 'max_depth': 651}. Best is trial 324 with value: 0.8860457100948587.\u001b[0m\n",
      "\u001b[32m[I 2022-06-22 12:47:27,341]\u001b[0m Trial 334 finished with value: 0.8774629520805992 and parameters: {'scalers': 'robust', 'lambda_l1': 2.9821343989434196e-06, 'lambda_l2': 0.00617222985489099, 'num_leaves': 251, 'feature_fraction': 0.42567974161238764, 'bagging_fraction': 0.44260437635196404, 'bagging_freq': 3, 'min_child_samples': 9, 'max_depth': 655}. Best is trial 324 with value: 0.8860457100948587.\u001b[0m\n",
      "\u001b[32m[I 2022-06-22 12:47:31,825]\u001b[0m Trial 335 finished with value: 0.879369728203513 and parameters: {'scalers': 'minmax', 'lambda_l1': 3.6110584207619934e-06, 'lambda_l2': 0.01418046878436211, 'num_leaves': 239, 'feature_fraction': 0.42336499584122744, 'bagging_fraction': 0.42136163513234876, 'bagging_freq': 3, 'min_child_samples': 9, 'max_depth': 658}. Best is trial 324 with value: 0.8860457100948587.\u001b[0m\n",
      "\u001b[32m[I 2022-06-22 12:47:36,189]\u001b[0m Trial 336 finished with value: 0.8796887497607311 and parameters: {'scalers': 'minmax', 'lambda_l1': 5.097484635391862e-06, 'lambda_l2': 0.027757227186580136, 'num_leaves': 245, 'feature_fraction': 0.44762789919286083, 'bagging_fraction': 0.4315516097550772, 'bagging_freq': 4, 'min_child_samples': 10, 'max_depth': 649}. Best is trial 324 with value: 0.8860457100948587.\u001b[0m\n",
      "\u001b[32m[I 2022-06-22 12:47:39,845]\u001b[0m Trial 337 finished with value: 0.8770663240912853 and parameters: {'scalers': 'minmax', 'lambda_l1': 7.840936285423656e-07, 'lambda_l2': 0.007845319605342729, 'num_leaves': 243, 'feature_fraction': 0.4207733966747733, 'bagging_fraction': 0.4153564137298702, 'bagging_freq': 3, 'min_child_samples': 14, 'max_depth': 625}. Best is trial 324 with value: 0.8860457100948587.\u001b[0m\n",
      "\u001b[32m[I 2022-06-22 12:47:46,996]\u001b[0m Trial 338 finished with value: 0.87389041299258 and parameters: {'scalers': 'minmax', 'lambda_l1': 1.1072618325515224e-06, 'lambda_l2': 0.0175861723331384, 'num_leaves': 235, 'feature_fraction': 0.6761534468632197, 'bagging_fraction': 0.6446575502651197, 'bagging_freq': 3, 'min_child_samples': 8, 'max_depth': 867}. Best is trial 324 with value: 0.8860457100948587.\u001b[0m\n",
      "\u001b[32m[I 2022-06-22 12:47:52,013]\u001b[0m Trial 339 finished with value: 0.8809139106292744 and parameters: {'scalers': 'minmax', 'lambda_l1': 2.143939779250756e-06, 'lambda_l2': 0.005438390604409109, 'num_leaves': 236, 'feature_fraction': 0.4122818000023475, 'bagging_fraction': 0.4109927389833988, 'bagging_freq': 2, 'min_child_samples': 10, 'max_depth': 787}. Best is trial 324 with value: 0.8860457100948587.\u001b[0m\n",
      "\u001b[32m[I 2022-06-22 12:47:56,184]\u001b[0m Trial 340 finished with value: 0.8768374408314423 and parameters: {'scalers': 'minmax', 'lambda_l1': 4.899159396584934e-06, 'lambda_l2': 0.010161905725479358, 'num_leaves': 246, 'feature_fraction': 0.4293159296231194, 'bagging_fraction': 0.42671742631127263, 'bagging_freq': 1, 'min_child_samples': 13, 'max_depth': 662}. Best is trial 324 with value: 0.8860457100948587.\u001b[0m\n",
      "\u001b[32m[I 2022-06-22 12:47:57,190]\u001b[0m Trial 341 finished with value: 0.5 and parameters: {'scalers': 'minmax', 'lambda_l1': 5.511981136194947e-07, 'lambda_l2': 0.026111711550868038, 'num_leaves': 240, 'feature_fraction': 0.4313873934307791, 'bagging_fraction': 0.40009085591730714, 'bagging_freq': 3, 'min_child_samples': 76, 'max_depth': 619}. Best is trial 324 with value: 0.8860457100948587.\u001b[0m\n",
      "\u001b[32m[I 2022-06-22 12:48:01,933]\u001b[0m Trial 342 finished with value: 0.8832574228102478 and parameters: {'scalers': 'minmax', 'lambda_l1': 3.2982235964496488e-06, 'lambda_l2': 0.005650769532136529, 'num_leaves': 235, 'feature_fraction': 0.41141605133194004, 'bagging_fraction': 0.4424897744784296, 'bagging_freq': 3, 'min_child_samples': 8, 'max_depth': 672}. Best is trial 324 with value: 0.8860457100948587.\u001b[0m\n"
     ]
    },
    {
     "name": "stderr",
     "output_type": "stream",
     "text": [
      "\u001b[32m[I 2022-06-22 12:48:06,163]\u001b[0m Trial 343 finished with value: 0.885193542547064 and parameters: {'scalers': 'minmax', 'lambda_l1': 1.7987385986191625e-06, 'lambda_l2': 0.007837746162029742, 'num_leaves': 234, 'feature_fraction': 0.44906761388425287, 'bagging_fraction': 0.44605806175203583, 'bagging_freq': 3, 'min_child_samples': 11, 'max_depth': 641}. Best is trial 324 with value: 0.8860457100948587.\u001b[0m\n",
      "\u001b[32m[I 2022-06-22 12:48:09,216]\u001b[0m Trial 344 finished with value: 0.8652011262731079 and parameters: {'scalers': 'minmax', 'lambda_l1': 1.3145780196423376, 'lambda_l2': 0.010596239576547444, 'num_leaves': 233, 'feature_fraction': 0.4529423104461867, 'bagging_fraction': 0.44257898171572796, 'bagging_freq': 3, 'min_child_samples': 11, 'max_depth': 645}. Best is trial 324 with value: 0.8860457100948587.\u001b[0m\n",
      "\u001b[32m[I 2022-06-22 12:48:12,845]\u001b[0m Trial 345 finished with value: 0.8756159732725135 and parameters: {'scalers': 'minmax', 'lambda_l1': 1.6077445551017187e-06, 'lambda_l2': 0.006513620725369233, 'num_leaves': 250, 'feature_fraction': 0.471438934963371, 'bagging_fraction': 0.4486703250758644, 'bagging_freq': 3, 'min_child_samples': 18, 'max_depth': 666}. Best is trial 324 with value: 0.8860457100948587.\u001b[0m\n",
      "\u001b[32m[I 2022-06-22 12:48:16,913]\u001b[0m Trial 346 finished with value: 0.8726876392441407 and parameters: {'scalers': 'minmax', 'lambda_l1': 1.185663811988159e-06, 'lambda_l2': 1.579665638590563e-08, 'num_leaves': 36, 'feature_fraction': 0.44391147235597406, 'bagging_fraction': 0.4448565686473846, 'bagging_freq': 3, 'min_child_samples': 14, 'max_depth': 892}. Best is trial 324 with value: 0.8860457100948587.\u001b[0m\n",
      "\u001b[32m[I 2022-06-22 12:48:21,536]\u001b[0m Trial 347 finished with value: 0.8753603831668846 and parameters: {'scalers': 'minmax', 'lambda_l1': 2.068412337190631e-06, 'lambda_l2': 0.016972703607252636, 'num_leaves': 234, 'feature_fraction': 0.44994538780026055, 'bagging_fraction': 0.5892175791900727, 'bagging_freq': 3, 'min_child_samples': 12, 'max_depth': 642}. Best is trial 324 with value: 0.8860457100948587.\u001b[0m\n",
      "\u001b[32m[I 2022-06-22 12:48:26,982]\u001b[0m Trial 348 finished with value: 0.8609946249570861 and parameters: {'scalers': 'minmax', 'lambda_l1': 3.2202054247140135e-06, 'lambda_l2': 0.0053924473995836325, 'num_leaves': 232, 'feature_fraction': 0.9215769412655646, 'bagging_fraction': 0.8228382752942929, 'bagging_freq': 3, 'min_child_samples': 16, 'max_depth': 660}. Best is trial 324 with value: 0.8860457100948587.\u001b[0m\n",
      "\u001b[32m[I 2022-06-22 12:48:31,326]\u001b[0m Trial 349 finished with value: 0.8793750839588688 and parameters: {'scalers': 'minmax', 'lambda_l1': 0.0017910838317823632, 'lambda_l2': 0.009726299680940112, 'num_leaves': 240, 'feature_fraction': 0.43545832814805646, 'bagging_fraction': 0.4356509007422947, 'bagging_freq': 3, 'min_child_samples': 11, 'max_depth': 675}. Best is trial 324 with value: 0.8860457100948587.\u001b[0m\n",
      "\u001b[32m[I 2022-06-22 12:48:35,901]\u001b[0m Trial 350 finished with value: 0.8796308840153655 and parameters: {'scalers': 'minmax', 'lambda_l1': 1.9300849724118732e-07, 'lambda_l2': 0.04078757555937216, 'num_leaves': 236, 'feature_fraction': 0.46550249646628894, 'bagging_fraction': 0.4228421380697213, 'bagging_freq': 3, 'min_child_samples': 8, 'max_depth': 640}. Best is trial 324 with value: 0.8860457100948587.\u001b[0m\n",
      "\u001b[32m[I 2022-06-22 12:48:40,514]\u001b[0m Trial 351 finished with value: 0.8827878078663681 and parameters: {'scalers': 'minmax', 'lambda_l1': 2.352094609793531e-06, 'lambda_l2': 0.004743382175679636, 'num_leaves': 248, 'feature_fraction': 0.42193927250269897, 'bagging_fraction': 0.614555047436067, 'bagging_freq': 3, 'min_child_samples': 13, 'max_depth': 666}. Best is trial 324 with value: 0.8860457100948587.\u001b[0m\n",
      "\u001b[32m[I 2022-06-22 12:48:45,037]\u001b[0m Trial 352 finished with value: 0.878586874511797 and parameters: {'scalers': 'minmax', 'lambda_l1': 1.4858000867204779e-06, 'lambda_l2': 0.004703174201400494, 'num_leaves': 250, 'feature_fraction': 0.44404784193258034, 'bagging_fraction': 0.6170492546770007, 'bagging_freq': 3, 'min_child_samples': 14, 'max_depth': 657}. Best is trial 324 with value: 0.8860457100948587.\u001b[0m\n",
      "\u001b[32m[I 2022-06-22 12:48:50,428]\u001b[0m Trial 353 finished with value: 0.8742530457588507 and parameters: {'scalers': 'minmax', 'lambda_l1': 2.754492408868796e-06, 'lambda_l2': 0.007756523611024349, 'num_leaves': 246, 'feature_fraction': 0.9553625255858088, 'bagging_fraction': 0.611417024405146, 'bagging_freq': 2, 'min_child_samples': 16, 'max_depth': 627}. Best is trial 324 with value: 0.8860457100948587.\u001b[0m\n",
      "\u001b[32m[I 2022-06-22 12:48:56,375]\u001b[0m Trial 354 finished with value: 0.8798481320451133 and parameters: {'scalers': 'robust', 'lambda_l1': 5.351821917425778e-06, 'lambda_l2': 0.004756905057794461, 'num_leaves': 251, 'feature_fraction': 0.4267291902639528, 'bagging_fraction': 0.588550316344478, 'bagging_freq': 3, 'min_child_samples': 9, 'max_depth': 672}. Best is trial 324 with value: 0.8860457100948587.\u001b[0m\n",
      "\u001b[32m[I 2022-06-22 12:49:00,660]\u001b[0m Trial 355 finished with value: 0.879265707224492 and parameters: {'scalers': 'minmax', 'lambda_l1': 1.2653751320998883e-05, 'lambda_l2': 1.1756197351534302e-05, 'num_leaves': 242, 'feature_fraction': 0.45858314821992924, 'bagging_fraction': 0.566202949951255, 'bagging_freq': 3, 'min_child_samples': 13, 'max_depth': 647}. Best is trial 324 with value: 0.8860457100948587.\u001b[0m\n",
      "\u001b[32m[I 2022-06-22 12:49:07,290]\u001b[0m Trial 356 finished with value: 0.8671559833999849 and parameters: {'scalers': 'minmax', 'lambda_l1': 1.7900411989174112e-08, 'lambda_l2': 0.013515059738582885, 'num_leaves': 238, 'feature_fraction': 0.43267481694588633, 'bagging_fraction': 0.7083728106760179, 'bagging_freq': 1, 'min_child_samples': 5, 'max_depth': 618}. Best is trial 324 with value: 0.8860457100948587.\u001b[0m\n",
      "\u001b[32m[I 2022-06-22 12:49:12,476]\u001b[0m Trial 357 finished with value: 0.8782084270863295 and parameters: {'scalers': 'minmax', 'lambda_l1': 3.913202617845977e-06, 'lambda_l2': 0.006479520226221297, 'num_leaves': 246, 'feature_fraction': 0.4174995863209311, 'bagging_fraction': 0.5809656271194094, 'bagging_freq': 3, 'min_child_samples': 11, 'max_depth': 687}. Best is trial 324 with value: 0.8860457100948587.\u001b[0m\n",
      "\u001b[32m[I 2022-06-22 12:49:16,486]\u001b[0m Trial 358 finished with value: 0.8718651682210117 and parameters: {'scalers': 'minmax', 'lambda_l1': 2.1419616702115876e-06, 'lambda_l2': 0.022474734781221195, 'num_leaves': 229, 'feature_fraction': 0.4417138679887847, 'bagging_fraction': 0.44860228948926606, 'bagging_freq': 3, 'min_child_samples': 20, 'max_depth': 667}. Best is trial 324 with value: 0.8860457100948587.\u001b[0m\n",
      "\u001b[32m[I 2022-06-22 12:49:18,384]\u001b[0m Trial 359 finished with value: 0.5 and parameters: {'scalers': 'minmax', 'lambda_l1': 6.199972973093316e-06, 'lambda_l2': 1.0020336439538487e-08, 'num_leaves': 235, 'feature_fraction': 0.42204340871101564, 'bagging_fraction': 0.4346379910660225, 'bagging_freq': 3, 'min_child_samples': 42, 'max_depth': 628}. Best is trial 324 with value: 0.8860457100948587.\u001b[0m\n",
      "\u001b[32m[I 2022-06-22 12:49:23,587]\u001b[0m Trial 360 finished with value: 0.8765806356526171 and parameters: {'scalers': 'minmax', 'lambda_l1': 2.13230737367533e-05, 'lambda_l2': 0.004056597981472406, 'num_leaves': 241, 'feature_fraction': 0.9023042890671791, 'bagging_fraction': 0.40021860344860205, 'bagging_freq': 3, 'min_child_samples': 8, 'max_depth': 652}. Best is trial 324 with value: 0.8860457100948587.\u001b[0m\n",
      "\u001b[32m[I 2022-06-22 12:49:29,959]\u001b[0m Trial 361 finished with value: 0.8768217435943828 and parameters: {'scalers': 'minmax', 'lambda_l1': 7.805632154181177e-07, 'lambda_l2': 0.009142031564441608, 'num_leaves': 229, 'feature_fraction': 0.4143533384621777, 'bagging_fraction': 0.6297116944882382, 'bagging_freq': 3, 'min_child_samples': 13, 'max_depth': 917}. Best is trial 324 with value: 0.8860457100948587.\u001b[0m\n",
      "\u001b[32m[I 2022-06-22 12:49:34,663]\u001b[0m Trial 362 finished with value: 0.875474107076274 and parameters: {'scalers': 'minmax', 'lambda_l1': 3.3206597252872697e-06, 'lambda_l2': 0.016198319252967032, 'num_leaves': 248, 'feature_fraction': 0.6958209960082289, 'bagging_fraction': 0.5714979593798939, 'bagging_freq': 3, 'min_child_samples': 15, 'max_depth': 681}. Best is trial 324 with value: 0.8860457100948587.\u001b[0m\n"
     ]
    },
    {
     "name": "stderr",
     "output_type": "stream",
     "text": [
      "\u001b[32m[I 2022-06-22 12:49:39,164]\u001b[0m Trial 363 finished with value: 0.8808055827686246 and parameters: {'scalers': 'minmax', 'lambda_l1': 1.3602799292298448e-06, 'lambda_l2': 0.009860531057247105, 'num_leaves': 232, 'feature_fraction': 0.8090189526019089, 'bagging_fraction': 0.41256841861663474, 'bagging_freq': 3, 'min_child_samples': 10, 'max_depth': 635}. Best is trial 324 with value: 0.8860457100948587.\u001b[0m\n",
      "\u001b[32m[I 2022-06-22 12:49:44,884]\u001b[0m Trial 364 finished with value: 0.8769212410181837 and parameters: {'scalers': 'minmax', 'lambda_l1': 0.0013388348025826712, 'lambda_l2': 0.00566809049110198, 'num_leaves': 242, 'feature_fraction': 0.431083930218379, 'bagging_fraction': 0.4284291147481357, 'bagging_freq': 4, 'min_child_samples': 7, 'max_depth': 854}. Best is trial 324 with value: 0.8860457100948587.\u001b[0m\n",
      "\u001b[32m[I 2022-06-22 12:49:49,043]\u001b[0m Trial 365 finished with value: 0.8796149739493392 and parameters: {'scalers': 'minmax', 'lambda_l1': 0.0026834410933103446, 'lambda_l2': 0.018178264996930128, 'num_leaves': 237, 'feature_fraction': 0.4117690387322624, 'bagging_fraction': 0.4554925662634679, 'bagging_freq': 3, 'min_child_samples': 12, 'max_depth': 665}. Best is trial 324 with value: 0.8860457100948587.\u001b[0m\n",
      "\u001b[32m[I 2022-06-22 12:49:52,449]\u001b[0m Trial 366 finished with value: 0.8684213245689638 and parameters: {'scalers': 'minmax', 'lambda_l1': 1.1461722634885362e-05, 'lambda_l2': 0.03524950909406641, 'num_leaves': 227, 'feature_fraction': 0.44980976620481367, 'bagging_fraction': 0.40926421677673713, 'bagging_freq': 3, 'min_child_samples': 17, 'max_depth': 612}. Best is trial 324 with value: 0.8860457100948587.\u001b[0m\n",
      "\u001b[32m[I 2022-06-22 12:49:59,217]\u001b[0m Trial 367 finished with value: 0.8673070938349576 and parameters: {'scalers': 'minmax', 'lambda_l1': 6.149887336799239e-06, 'lambda_l2': 0.007474437322077685, 'num_leaves': 252, 'feature_fraction': 0.8832417238938988, 'bagging_fraction': 0.600187201167109, 'bagging_freq': 3, 'min_child_samples': 9, 'max_depth': 881}. Best is trial 324 with value: 0.8860457100948587.\u001b[0m\n",
      "\u001b[32m[I 2022-06-22 12:50:04,185]\u001b[0m Trial 368 finished with value: 0.8834427030228111 and parameters: {'scalers': 'minmax', 'lambda_l1': 3.0254615109964285e-05, 'lambda_l2': 0.012520501015170502, 'num_leaves': 96, 'feature_fraction': 0.4222532574860487, 'bagging_fraction': 0.4414123163470131, 'bagging_freq': 3, 'min_child_samples': 6, 'max_depth': 698}. Best is trial 324 with value: 0.8860457100948587.\u001b[0m\n",
      "\u001b[32m[I 2022-06-22 12:50:09,376]\u001b[0m Trial 369 finished with value: 0.8781796616266431 and parameters: {'scalers': 'minmax', 'lambda_l1': 1.7060250123242586e-05, 'lambda_l2': 0.012688539230920332, 'num_leaves': 225, 'feature_fraction': 0.42308258039151553, 'bagging_fraction': 0.43674805435230035, 'bagging_freq': 1, 'min_child_samples': 7, 'max_depth': 699}. Best is trial 324 with value: 0.8860457100948587.\u001b[0m\n",
      "\u001b[32m[I 2022-06-22 12:50:14,452]\u001b[0m Trial 370 finished with value: 0.8722005473886278 and parameters: {'scalers': 'minmax', 'lambda_l1': 2.2646565163935183e-06, 'lambda_l2': 0.02444505667541658, 'num_leaves': 94, 'feature_fraction': 0.4100297038243715, 'bagging_fraction': 0.4220340298407763, 'bagging_freq': 2, 'min_child_samples': 5, 'max_depth': 685}. Best is trial 324 with value: 0.8860457100948587.\u001b[0m\n",
      "\u001b[32m[I 2022-06-22 12:50:19,496]\u001b[0m Trial 371 finished with value: 0.8781903355931994 and parameters: {'scalers': 'minmax', 'lambda_l1': 2.8199200068705542e-05, 'lambda_l2': 0.010489964050453382, 'num_leaves': 232, 'feature_fraction': 0.42688893898596075, 'bagging_fraction': 0.4004867043873701, 'bagging_freq': 3, 'min_child_samples': 6, 'max_depth': 695}. Best is trial 324 with value: 0.8860457100948587.\u001b[0m\n",
      "\u001b[32m[I 2022-06-22 12:50:24,716]\u001b[0m Trial 372 finished with value: 0.8698320755826561 and parameters: {'scalers': 'minmax', 'lambda_l1': 8.599275505420344e-06, 'lambda_l2': 0.03791537471140115, 'num_leaves': 121, 'feature_fraction': 0.9801126641618326, 'bagging_fraction': 0.41704366793467207, 'bagging_freq': 3, 'min_child_samples': 8, 'max_depth': 677}. Best is trial 324 with value: 0.8860457100948587.\u001b[0m\n",
      "\u001b[32m[I 2022-06-22 12:50:30,224]\u001b[0m Trial 373 finished with value: 0.877535393313257 and parameters: {'scalers': 'minmax', 'lambda_l1': 4.716638699552829e-06, 'lambda_l2': 0.01378112441872597, 'num_leaves': 226, 'feature_fraction': 0.4008288650650031, 'bagging_fraction': 0.4409272819094998, 'bagging_freq': 3, 'min_child_samples': 5, 'max_depth': 712}. Best is trial 324 with value: 0.8860457100948587.\u001b[0m\n",
      "\u001b[32m[I 2022-06-22 12:50:34,719]\u001b[0m Trial 374 finished with value: 0.8804754157091618 and parameters: {'scalers': 'minmax', 'lambda_l1': 3.5944122056538565e-06, 'lambda_l2': 0.022098399519447306, 'num_leaves': 237, 'feature_fraction': 0.41244160743880065, 'bagging_fraction': 0.4118253276029771, 'bagging_freq': 3, 'min_child_samples': 10, 'max_depth': 663}. Best is trial 324 with value: 0.8860457100948587.\u001b[0m\n",
      "\u001b[32m[I 2022-06-22 12:50:39,647]\u001b[0m Trial 375 finished with value: 0.8749417505439178 and parameters: {'scalers': 'minmax', 'lambda_l1': 1.2722370257442019e-05, 'lambda_l2': 4.869240795619617, 'num_leaves': 245, 'feature_fraction': 0.42091620344144015, 'bagging_fraction': 0.42622782462259445, 'bagging_freq': 3, 'min_child_samples': 7, 'max_depth': 687}. Best is trial 324 with value: 0.8860457100948587.\u001b[0m\n",
      "\u001b[32m[I 2022-06-22 12:50:44,483]\u001b[0m Trial 376 finished with value: 0.8797571420452612 and parameters: {'scalers': 'robust', 'lambda_l1': 1.696690249513807e-06, 'lambda_l2': 0.008118017487459838, 'num_leaves': 231, 'feature_fraction': 0.43285571544843254, 'bagging_fraction': 0.4303117701471718, 'bagging_freq': 3, 'min_child_samples': 9, 'max_depth': 654}. Best is trial 324 with value: 0.8860457100948587.\u001b[0m\n",
      "\u001b[32m[I 2022-06-22 12:50:48,603]\u001b[0m Trial 377 finished with value: 0.8803279474653313 and parameters: {'scalers': 'minmax', 'lambda_l1': 6.204897378876963e-06, 'lambda_l2': 0.004385102254199084, 'num_leaves': 80, 'feature_fraction': 0.4102286776804609, 'bagging_fraction': 0.4104545375175142, 'bagging_freq': 3, 'min_child_samples': 11, 'max_depth': 696}. Best is trial 324 with value: 0.8860457100948587.\u001b[0m\n",
      "\u001b[32m[I 2022-06-22 12:50:53,124]\u001b[0m Trial 378 finished with value: 0.8757277302805552 and parameters: {'scalers': 'minmax', 'lambda_l1': 9.47942651855384e-06, 'lambda_l2': 0.055363195034061355, 'num_leaves': 72, 'feature_fraction': 0.43371899438942235, 'bagging_fraction': 0.4000821877569378, 'bagging_freq': 2, 'min_child_samples': 7, 'max_depth': 672}. Best is trial 324 with value: 0.8860457100948587.\u001b[0m\n",
      "\u001b[32m[I 2022-06-22 12:50:56,802]\u001b[0m Trial 379 finished with value: 0.8745429140862576 and parameters: {'scalers': 'minmax', 'lambda_l1': 9.239489925048577e-07, 'lambda_l2': 2.2874046116804875e-05, 'num_leaves': 235, 'feature_fraction': 0.42078337941599075, 'bagging_fraction': 0.446236988428627, 'bagging_freq': 7, 'min_child_samples': 9, 'max_depth': 645}. Best is trial 324 with value: 0.8860457100948587.\u001b[0m\n",
      "\u001b[32m[I 2022-06-22 12:51:01,213]\u001b[0m Trial 380 finished with value: 0.8786557181423666 and parameters: {'scalers': 'minmax', 'lambda_l1': 2.706273816140373e-06, 'lambda_l2': 0.01602441844911822, 'num_leaves': 104, 'feature_fraction': 0.47461294088878486, 'bagging_fraction': 0.4207572846094183, 'bagging_freq': 3, 'min_child_samples': 11, 'max_depth': 718}. Best is trial 324 with value: 0.8860457100948587.\u001b[0m\n",
      "\u001b[32m[I 2022-06-22 12:51:05,232]\u001b[0m Trial 381 finished with value: 0.8737818570103787 and parameters: {'scalers': 'minmax', 'lambda_l1': 4.6307683006498585e-06, 'lambda_l2': 3.626888160313715e-08, 'num_leaves': 55, 'feature_fraction': 0.6127434973596738, 'bagging_fraction': 0.43290322224412064, 'bagging_freq': 4, 'min_child_samples': 5, 'max_depth': 672}. Best is trial 324 with value: 0.8860457100948587.\u001b[0m\n",
      "\u001b[32m[I 2022-06-22 12:51:10,216]\u001b[0m Trial 382 finished with value: 0.876761635724097 and parameters: {'scalers': 'minmax', 'lambda_l1': 1.7484406871828442e-05, 'lambda_l2': 0.007767038170459792, 'num_leaves': 224, 'feature_fraction': 0.4475337201511295, 'bagging_fraction': 0.5547200771507257, 'bagging_freq': 3, 'min_child_samples': 8, 'max_depth': 653}. Best is trial 324 with value: 0.8860457100948587.\u001b[0m\n"
     ]
    },
    {
     "name": "stderr",
     "output_type": "stream",
     "text": [
      "\u001b[32m[I 2022-06-22 12:51:14,390]\u001b[0m Trial 383 finished with value: 0.8813669558425751 and parameters: {'scalers': 'minmax', 'lambda_l1': 7.43246086513516e-06, 'lambda_l2': 0.03198250506124418, 'num_leaves': 215, 'feature_fraction': 0.4005821884843612, 'bagging_fraction': 0.41280558004456963, 'bagging_freq': 3, 'min_child_samples': 12, 'max_depth': 703}. Best is trial 324 with value: 0.8860457100948587.\u001b[0m\n",
      "\u001b[32m[I 2022-06-22 12:51:18,175]\u001b[0m Trial 384 finished with value: 0.8781228434448249 and parameters: {'scalers': 'minmax', 'lambda_l1': 2.5689944697433075e-05, 'lambda_l2': 0.005675355374559127, 'num_leaves': 131, 'feature_fraction': 0.4101287534816503, 'bagging_fraction': 0.4204288570107275, 'bagging_freq': 3, 'min_child_samples': 10, 'max_depth': 583}. Best is trial 324 with value: 0.8860457100948587.\u001b[0m\n",
      "\u001b[32m[I 2022-06-22 12:51:23,575]\u001b[0m Trial 385 finished with value: 0.8810548059826311 and parameters: {'scalers': 'minmax', 'lambda_l1': 0.0008092729071714408, 'lambda_l2': 0.012651180263164094, 'num_leaves': 83, 'feature_fraction': 0.4239675691503331, 'bagging_fraction': 0.4444997497866583, 'bagging_freq': 3, 'min_child_samples': 7, 'max_depth': 799}. Best is trial 324 with value: 0.8860457100948587.\u001b[0m\n",
      "\u001b[32m[I 2022-06-22 12:51:29,228]\u001b[0m Trial 386 finished with value: 0.8724209229238253 and parameters: {'scalers': 'minmax', 'lambda_l1': 3.195138788724789e-06, 'lambda_l2': 0.0036985818599996768, 'num_leaves': 256, 'feature_fraction': 0.4570766355756178, 'bagging_fraction': 0.6564936612589449, 'bagging_freq': 3, 'min_child_samples': 13, 'max_depth': 902}. Best is trial 324 with value: 0.8860457100948587.\u001b[0m\n",
      "\u001b[32m[I 2022-06-22 12:51:33,680]\u001b[0m Trial 387 finished with value: 0.8746147586074058 and parameters: {'scalers': 'minmax', 'lambda_l1': 1.9221330689105302e-06, 'lambda_l2': 0.017874694677473393, 'num_leaves': 229, 'feature_fraction': 0.4382324617318671, 'bagging_fraction': 0.461942387084034, 'bagging_freq': 6, 'min_child_samples': 9, 'max_depth': 640}. Best is trial 324 with value: 0.8860457100948587.\u001b[0m\n",
      "\u001b[32m[I 2022-06-22 12:51:38,665]\u001b[0m Trial 388 finished with value: 0.8799962198534179 and parameters: {'scalers': 'minmax', 'lambda_l1': 4.535016129285769e-06, 'lambda_l2': 0.009062018774428322, 'num_leaves': 246, 'feature_fraction': 0.4097658594103777, 'bagging_fraction': 0.41080611679226875, 'bagging_freq': 3, 'min_child_samples': 6, 'max_depth': 679}. Best is trial 324 with value: 0.8860457100948587.\u001b[0m\n",
      "\u001b[32m[I 2022-06-22 12:51:42,802]\u001b[0m Trial 389 finished with value: 0.8825593390312818 and parameters: {'scalers': 'minmax', 'lambda_l1': 9.241153071412333e-06, 'lambda_l2': 0.0056976483076289245, 'num_leaves': 222, 'feature_fraction': 0.4246474097185233, 'bagging_fraction': 0.43216955270072577, 'bagging_freq': 1, 'min_child_samples': 11, 'max_depth': 612}. Best is trial 324 with value: 0.8860457100948587.\u001b[0m\n",
      "\u001b[32m[I 2022-06-22 12:51:44,365]\u001b[0m Trial 390 finished with value: 0.5 and parameters: {'scalers': 'minmax', 'lambda_l1': 1.3831174566058967e-05, 'lambda_l2': 0.003848222800651202, 'num_leaves': 241, 'feature_fraction': 0.4419430782440285, 'bagging_fraction': 0.44974383725203587, 'bagging_freq': 1, 'min_child_samples': 52, 'max_depth': 609}. Best is trial 324 with value: 0.8860457100948587.\u001b[0m\n",
      "\u001b[32m[I 2022-06-22 12:51:48,752]\u001b[0m Trial 391 finished with value: 0.8781324366852616 and parameters: {'scalers': 'minmax', 'lambda_l1': 1.182338213524348e-06, 'lambda_l2': 0.04946190046995267, 'num_leaves': 222, 'feature_fraction': 0.42931082308614477, 'bagging_fraction': 0.43355038358198045, 'bagging_freq': 1, 'min_child_samples': 9, 'max_depth': 623}. Best is trial 324 with value: 0.8860457100948587.\u001b[0m\n",
      "\u001b[32m[I 2022-06-22 12:51:52,602]\u001b[0m Trial 392 finished with value: 0.8779088760396809 and parameters: {'scalers': 'minmax', 'lambda_l1': 6.384157289824601e-06, 'lambda_l2': 0.005528139032887497, 'num_leaves': 231, 'feature_fraction': 0.45752416909600546, 'bagging_fraction': 0.43667858074795035, 'bagging_freq': 1, 'min_child_samples': 12, 'max_depth': 580}. Best is trial 324 with value: 0.8860457100948587.\u001b[0m\n",
      "\u001b[32m[I 2022-06-22 12:51:56,773]\u001b[0m Trial 393 finished with value: 0.8765051013013475 and parameters: {'scalers': 'minmax', 'lambda_l1': 0.0022559460080429075, 'lambda_l2': 0.023906733968570716, 'num_leaves': 236, 'feature_fraction': 0.42101144070310714, 'bagging_fraction': 0.4228691702705713, 'bagging_freq': 1, 'min_child_samples': 7, 'max_depth': 549}. Best is trial 324 with value: 0.8860457100948587.\u001b[0m\n",
      "\u001b[32m[I 2022-06-22 12:52:00,950]\u001b[0m Trial 394 finished with value: 0.8760776450716466 and parameters: {'scalers': 'robust', 'lambda_l1': 2.53918584240963e-06, 'lambda_l2': 0.010674913226434003, 'num_leaves': 53, 'feature_fraction': 0.7860814103124866, 'bagging_fraction': 0.4546135867135122, 'bagging_freq': 1, 'min_child_samples': 14, 'max_depth': 601}. Best is trial 324 with value: 0.8860457100948587.\u001b[0m\n",
      "\u001b[32m[I 2022-06-22 12:52:04,681]\u001b[0m Trial 395 finished with value: 0.8788647612492426 and parameters: {'scalers': 'minmax', 'lambda_l1': 1.2008195583363625e-05, 'lambda_l2': 4.8612145858774116e-08, 'num_leaves': 97, 'feature_fraction': 0.4002927423823449, 'bagging_fraction': 0.42819179640929167, 'bagging_freq': 1, 'min_child_samples': 10, 'max_depth': 569}. Best is trial 324 with value: 0.8860457100948587.\u001b[0m\n",
      "\u001b[32m[I 2022-06-22 12:52:06,325]\u001b[0m Trial 396 finished with value: 0.5 and parameters: {'scalers': 'minmax', 'lambda_l1': 3.083995977005685e-05, 'lambda_l2': 0.005806782524239937, 'num_leaves': 251, 'feature_fraction': 0.6429661234739096, 'bagging_fraction': 0.4414509811684314, 'bagging_freq': 1, 'min_child_samples': 31, 'max_depth': 635}. Best is trial 324 with value: 0.8860457100948587.\u001b[0m\n",
      "\u001b[32m[I 2022-06-22 12:52:10,927]\u001b[0m Trial 397 finished with value: 0.8755871581334042 and parameters: {'scalers': 'minmax', 'lambda_l1': 3.666614163635313e-06, 'lambda_l2': 0.0037173456271606628, 'num_leaves': 111, 'feature_fraction': 0.43538924189948613, 'bagging_fraction': 0.4213210183326183, 'bagging_freq': 1, 'min_child_samples': 5, 'max_depth': 608}. Best is trial 324 with value: 0.8860457100948587.\u001b[0m\n",
      "\u001b[32m[I 2022-06-22 12:52:16,431]\u001b[0m Trial 398 finished with value: 0.8759918977006826 and parameters: {'scalers': 'minmax', 'lambda_l1': 5.5957849569840235e-06, 'lambda_l2': 0.03284118210341632, 'num_leaves': 228, 'feature_fraction': 0.445989079910169, 'bagging_fraction': 0.5618883630081662, 'bagging_freq': 3, 'min_child_samples': 8, 'max_depth': 694}. Best is trial 324 with value: 0.8860457100948587.\u001b[0m\n",
      "\u001b[32m[I 2022-06-22 12:52:20,773]\u001b[0m Trial 399 finished with value: 0.873626556836696 and parameters: {'scalers': 'minmax', 'lambda_l1': 1.785587581967037e-05, 'lambda_l2': 0.012887959197029671, 'num_leaves': 239, 'feature_fraction': 0.42079212389391885, 'bagging_fraction': 0.40997109089633404, 'bagging_freq': 1, 'min_child_samples': 11, 'max_depth': 660}. Best is trial 324 with value: 0.8860457100948587.\u001b[0m\n",
      "\u001b[32m[I 2022-06-22 12:52:24,897]\u001b[0m Trial 400 finished with value: 0.8774594834130438 and parameters: {'scalers': 'minmax', 'lambda_l1': 8.944309992915097e-06, 'lambda_l2': 2.0445240813702693e-08, 'num_leaves': 187, 'feature_fraction': 0.4661938316078821, 'bagging_fraction': 0.5452691711077002, 'bagging_freq': 3, 'min_child_samples': 15, 'max_depth': 832}. Best is trial 324 with value: 0.8860457100948587.\u001b[0m\n",
      "\u001b[32m[I 2022-06-22 12:52:31,386]\u001b[0m Trial 401 finished with value: 0.875399055085781 and parameters: {'scalers': 'minmax', 'lambda_l1': 1.8112000993214706e-06, 'lambda_l2': 0.019625375928850795, 'num_leaves': 221, 'feature_fraction': 0.7563232064411498, 'bagging_fraction': 0.6019905518982358, 'bagging_freq': 3, 'min_child_samples': 12, 'max_depth': 869}. Best is trial 324 with value: 0.8860457100948587.\u001b[0m\n",
      "\u001b[32m[I 2022-06-22 12:52:35,627]\u001b[0m Trial 402 finished with value: 0.8808885771950787 and parameters: {'scalers': 'minmax', 'lambda_l1': 5.2029694004752625e-06, 'lambda_l2': 0.007214940333683056, 'num_leaves': 246, 'feature_fraction': 0.43065176823033624, 'bagging_fraction': 0.4604721778440019, 'bagging_freq': 3, 'min_child_samples': 9, 'max_depth': 589}. Best is trial 324 with value: 0.8860457100948587.\u001b[0m\n"
     ]
    },
    {
     "name": "stderr",
     "output_type": "stream",
     "text": [
      "\u001b[32m[I 2022-06-22 12:52:40,763]\u001b[0m Trial 403 finished with value: 0.880622160197044 and parameters: {'scalers': 'minmax', 'lambda_l1': 6.039748814217228e-07, 'lambda_l2': 0.07081047323122279, 'num_leaves': 215, 'feature_fraction': 0.41523517302887114, 'bagging_fraction': 0.4336495409442528, 'bagging_freq': 2, 'min_child_samples': 7, 'max_depth': 715}. Best is trial 324 with value: 0.8860457100948587.\u001b[0m\n",
      "\u001b[32m[I 2022-06-22 12:52:45,944]\u001b[0m Trial 404 finished with value: 0.879525139162523 and parameters: {'scalers': 'minmax', 'lambda_l1': 0.001301324268739333, 'lambda_l2': 0.009998874000345616, 'num_leaves': 234, 'feature_fraction': 0.44195455407399337, 'bagging_fraction': 0.4003995434083204, 'bagging_freq': 3, 'min_child_samples': 13, 'max_depth': 934}. Best is trial 324 with value: 0.8860457100948587.\u001b[0m\n",
      "\u001b[32m[I 2022-06-22 12:52:50,193]\u001b[0m Trial 405 finished with value: 0.8756150638577108 and parameters: {'scalers': 'minmax', 'lambda_l1': 3.7081444034990286e-06, 'lambda_l2': 0.04333143125554678, 'num_leaves': 224, 'feature_fraction': 0.42123382587277064, 'bagging_fraction': 0.4467761090558112, 'bagging_freq': 3, 'min_child_samples': 10, 'max_depth': 638}. Best is trial 324 with value: 0.8860457100948587.\u001b[0m\n",
      "\u001b[32m[I 2022-06-22 12:52:54,629]\u001b[0m Trial 406 finished with value: 0.8819474141914156 and parameters: {'scalers': 'minmax', 'lambda_l1': 0.003425598901567707, 'lambda_l2': 0.004987486027053775, 'num_leaves': 227, 'feature_fraction': 0.41236387306345734, 'bagging_fraction': 0.4271967741801088, 'bagging_freq': 4, 'min_child_samples': 5, 'max_depth': 617}. Best is trial 324 with value: 0.8860457100948587.\u001b[0m\n",
      "\u001b[32m[I 2022-06-22 12:52:58,668]\u001b[0m Trial 407 finished with value: 0.8733282352752169 and parameters: {'scalers': 'minmax', 'lambda_l1': 1.0773607744017963e-05, 'lambda_l2': 0.01567080720835095, 'num_leaves': 244, 'feature_fraction': 0.40024777928559496, 'bagging_fraction': 0.5767201874611866, 'bagging_freq': 1, 'min_child_samples': 18, 'max_depth': 676}. Best is trial 324 with value: 0.8860457100948587.\u001b[0m\n",
      "\u001b[32m[I 2022-06-22 12:53:03,172]\u001b[0m Trial 408 finished with value: 0.8809860635580449 and parameters: {'scalers': 'minmax', 'lambda_l1': 2.2836812346765443e-05, 'lambda_l2': 0.0034158069734034546, 'num_leaves': 239, 'feature_fraction': 0.4525712630957364, 'bagging_fraction': 0.4195560379165784, 'bagging_freq': 3, 'min_child_samples': 8, 'max_depth': 647}. Best is trial 324 with value: 0.8860457100948587.\u001b[0m\n",
      "\u001b[32m[I 2022-06-22 12:53:07,444]\u001b[0m Trial 409 finished with value: 0.878904360238145 and parameters: {'scalers': 'minmax', 'lambda_l1': 2.747289216206624e-06, 'lambda_l2': 0.025628513396951193, 'num_leaves': 214, 'feature_fraction': 0.4278573569643118, 'bagging_fraction': 0.41408717760649233, 'bagging_freq': 3, 'min_child_samples': 11, 'max_depth': 685}. Best is trial 324 with value: 0.8860457100948587.\u001b[0m\n",
      "\u001b[32m[I 2022-06-22 12:53:11,947]\u001b[0m Trial 410 finished with value: 0.8767650597811201 and parameters: {'scalers': 'robust', 'lambda_l1': 6.921767758234776e-06, 'lambda_l2': 0.006380742830101085, 'num_leaves': 233, 'feature_fraction': 0.7238281071353806, 'bagging_fraction': 0.4388618348090827, 'bagging_freq': 3, 'min_child_samples': 14, 'max_depth': 665}. Best is trial 324 with value: 0.8860457100948587.\u001b[0m\n",
      "\u001b[32m[I 2022-06-22 12:53:15,867]\u001b[0m Trial 411 finished with value: 0.8774810809031011 and parameters: {'scalers': 'minmax', 'lambda_l1': 1.3008748936271193e-06, 'lambda_l2': 0.01009083824025744, 'num_leaves': 221, 'feature_fraction': 0.47957931428458006, 'bagging_fraction': 0.4104497165482053, 'bagging_freq': 3, 'min_child_samples': 9, 'max_depth': 564}. Best is trial 324 with value: 0.8860457100948587.\u001b[0m\n",
      "\u001b[32m[I 2022-06-22 12:53:20,007]\u001b[0m Trial 412 finished with value: 0.8696499472534687 and parameters: {'scalers': 'minmax', 'lambda_l1': 4.382695296725485e-06, 'lambda_l2': 0.017463155438745194, 'num_leaves': 195, 'feature_fraction': 0.8381497019269952, 'bagging_fraction': 0.4264260546470265, 'bagging_freq': 3, 'min_child_samples': 16, 'max_depth': 737}. Best is trial 324 with value: 0.8860457100948587.\u001b[0m\n",
      "\u001b[32m[I 2022-06-22 12:53:25,230]\u001b[0m Trial 413 finished with value: 0.8738608109511746 and parameters: {'scalers': 'minmax', 'lambda_l1': 1.4695730192408494e-05, 'lambda_l2': 0.004477721235735856, 'num_leaves': 9, 'feature_fraction': 0.437576569179747, 'bagging_fraction': 0.44275962279119935, 'bagging_freq': 3, 'min_child_samples': 7, 'max_depth': 894}. Best is trial 324 with value: 0.8860457100948587.\u001b[0m\n",
      "\u001b[32m[I 2022-06-22 12:53:29,425]\u001b[0m Trial 414 finished with value: 0.8852531888046593 and parameters: {'scalers': 'minmax', 'lambda_l1': 7.556099578055707e-06, 'lambda_l2': 0.007797934190265763, 'num_leaves': 249, 'feature_fraction': 0.4109459967906411, 'bagging_fraction': 0.40012432293349004, 'bagging_freq': 3, 'min_child_samples': 12, 'max_depth': 704}. Best is trial 324 with value: 0.8860457100948587.\u001b[0m\n",
      "\u001b[32m[I 2022-06-22 12:53:33,605]\u001b[0m Trial 415 finished with value: 0.8745225579159401 and parameters: {'scalers': 'minmax', 'lambda_l1': 2.477154699582543e-06, 'lambda_l2': 0.006822325331685864, 'num_leaves': 251, 'feature_fraction': 0.4106142812343084, 'bagging_fraction': 0.4035349658488896, 'bagging_freq': 3, 'min_child_samples': 13, 'max_depth': 715}. Best is trial 324 with value: 0.8860457100948587.\u001b[0m\n",
      "\u001b[32m[I 2022-06-22 12:53:37,626]\u001b[0m Trial 416 finished with value: 0.8752645899851781 and parameters: {'scalers': 'minmax', 'lambda_l1': 6.99424042654468e-06, 'lambda_l2': 0.011247468041472603, 'num_leaves': 249, 'feature_fraction': 0.41119746038471383, 'bagging_fraction': 0.40215665095004327, 'bagging_freq': 3, 'min_child_samples': 13, 'max_depth': 702}. Best is trial 324 with value: 0.8860457100948587.\u001b[0m\n",
      "\u001b[32m[I 2022-06-22 12:53:41,049]\u001b[0m Trial 417 finished with value: 0.8721736238692508 and parameters: {'scalers': 'minmax', 'lambda_l1': 3.99541995373375e-06, 'lambda_l2': 0.0033779898838751945, 'num_leaves': 252, 'feature_fraction': 0.42001234925961695, 'bagging_fraction': 0.41172568525474507, 'bagging_freq': 3, 'min_child_samples': 15, 'max_depth': 596}. Best is trial 324 with value: 0.8860457100948587.\u001b[0m\n",
      "\u001b[32m[I 2022-06-22 12:53:45,665]\u001b[0m Trial 418 finished with value: 0.8765519749857983 and parameters: {'scalers': 'minmax', 'lambda_l1': 4.5527171416975376e-07, 'lambda_l2': 0.007150284893691256, 'num_leaves': 244, 'feature_fraction': 0.4002626553992562, 'bagging_fraction': 0.4011227688029456, 'bagging_freq': 1, 'min_child_samples': 11, 'max_depth': 727}. Best is trial 324 with value: 0.8860457100948587.\u001b[0m\n",
      "\u001b[32m[I 2022-06-22 12:53:49,675]\u001b[0m Trial 419 finished with value: 0.8800884412714908 and parameters: {'scalers': 'minmax', 'lambda_l1': 2.2644649508309272e-06, 'lambda_l2': 0.014065791356128876, 'num_leaves': 256, 'feature_fraction': 0.42041344246172924, 'bagging_fraction': 0.4139312755576195, 'bagging_freq': 3, 'min_child_samples': 11, 'max_depth': 631}. Best is trial 324 with value: 0.8860457100948587.\u001b[0m\n",
      "\u001b[32m[I 2022-06-22 12:53:55,921]\u001b[0m Trial 420 finished with value: 0.8589962976050436 and parameters: {'scalers': 'minmax', 'lambda_l1': 8.635042938213386e-07, 'lambda_l2': 0.010096964464538867, 'num_leaves': 241, 'feature_fraction': 0.4114802630020183, 'bagging_fraction': 0.9296661213800661, 'bagging_freq': 3, 'min_child_samples': 16, 'max_depth': 699}. Best is trial 324 with value: 0.8860457100948587.\u001b[0m\n",
      "\u001b[32m[I 2022-06-22 12:53:59,496]\u001b[0m Trial 421 finished with value: 0.8758162901125361 and parameters: {'scalers': 'minmax', 'lambda_l1': 6.495534016719256e-06, 'lambda_l2': 0.024905929419005823, 'num_leaves': 247, 'feature_fraction': 0.4277946139932898, 'bagging_fraction': 0.40079116687816796, 'bagging_freq': 3, 'min_child_samples': 13, 'max_depth': 541}. Best is trial 324 with value: 0.8860457100948587.\u001b[0m\n",
      "\u001b[32m[I 2022-06-22 12:54:02,408]\u001b[0m Trial 422 finished with value: 0.8627416690851287 and parameters: {'scalers': 'minmax', 'lambda_l1': 4.384691102467938e-06, 'lambda_l2': 0.005004286609475693, 'num_leaves': 237, 'feature_fraction': 0.8670780098914914, 'bagging_fraction': 0.4001320497536189, 'bagging_freq': 3, 'min_child_samples': 22, 'max_depth': 651}. Best is trial 324 with value: 0.8860457100948587.\u001b[0m\n"
     ]
    },
    {
     "name": "stderr",
     "output_type": "stream",
     "text": [
      "\u001b[32m[I 2022-06-22 12:54:06,510]\u001b[0m Trial 423 finished with value: 0.8737359527727177 and parameters: {'scalers': 'minmax', 'lambda_l1': 1.0151184010932386e-05, 'lambda_l2': 0.0020143240895745293, 'num_leaves': 242, 'feature_fraction': 0.4100711149217103, 'bagging_fraction': 0.4217348873994826, 'bagging_freq': 3, 'min_child_samples': 10, 'max_depth': 610}. Best is trial 324 with value: 0.8860457100948587.\u001b[0m\n",
      "\u001b[32m[I 2022-06-22 12:54:08,990]\u001b[0m Trial 424 finished with value: 0.8667789924428856 and parameters: {'scalers': 'minmax', 'lambda_l1': 1.5954425977148137e-06, 'lambda_l2': 0.002871167731614152, 'num_leaves': 231, 'feature_fraction': 0.42195791797257687, 'bagging_fraction': 0.48990922269470116, 'bagging_freq': 3, 'min_child_samples': 26, 'max_depth': 518}. Best is trial 324 with value: 0.8860457100948587.\u001b[0m\n",
      "\u001b[32m[I 2022-06-22 12:54:15,095]\u001b[0m Trial 425 finished with value: 0.8738322260814521 and parameters: {'scalers': 'minmax', 'lambda_l1': 0.0016372010670453654, 'lambda_l2': 0.008563908632198216, 'num_leaves': 236, 'feature_fraction': 0.4448865241013925, 'bagging_fraction': 0.4635866111581229, 'bagging_freq': 2, 'min_child_samples': 6, 'max_depth': 853}. Best is trial 324 with value: 0.8860457100948587.\u001b[0m\n",
      "\u001b[32m[I 2022-06-22 12:54:16,495]\u001b[0m Trial 426 finished with value: 0.5 and parameters: {'scalers': 'robust', 'lambda_l1': 2.0499402807702386e-05, 'lambda_l2': 0.015044763335620952, 'num_leaves': 248, 'feature_fraction': 0.9620430994747594, 'bagging_fraction': 0.4344001581307978, 'bagging_freq': 3, 'min_child_samples': 57, 'max_depth': 765}. Best is trial 324 with value: 0.8860457100948587.\u001b[0m\n",
      "\u001b[32m[I 2022-06-22 12:54:20,758]\u001b[0m Trial 427 finished with value: 0.8770372662253467 and parameters: {'scalers': 'minmax', 'lambda_l1': 3.448394897271912e-06, 'lambda_l2': 6.7076895114692325e-06, 'num_leaves': 227, 'feature_fraction': 0.43066115397917804, 'bagging_fraction': 0.4177600062186758, 'bagging_freq': 4, 'min_child_samples': 8, 'max_depth': 917}. Best is trial 324 with value: 0.8860457100948587.\u001b[0m\n",
      "\u001b[32m[I 2022-06-22 12:54:24,496]\u001b[0m Trial 428 finished with value: 0.8765542186356814 and parameters: {'scalers': 'minmax', 'lambda_l1': 7.064671391344939e-06, 'lambda_l2': 0.03862485188276446, 'num_leaves': 241, 'feature_fraction': 0.41209439522788177, 'bagging_fraction': 0.42679629903832206, 'bagging_freq': 3, 'min_child_samples': 12, 'max_depth': 580}. Best is trial 324 with value: 0.8860457100948587.\u001b[0m\n",
      "\u001b[32m[I 2022-06-22 12:54:29,121]\u001b[0m Trial 429 finished with value: 0.8782446919695371 and parameters: {'scalers': 'minmax', 'lambda_l1': 4.036898883182544e-05, 'lambda_l2': 0.005399345670913133, 'num_leaves': 234, 'feature_fraction': 0.4012542496612245, 'bagging_fraction': 0.4505604474272827, 'bagging_freq': 3, 'min_child_samples': 10, 'max_depth': 693}. Best is trial 324 with value: 0.8860457100948587.\u001b[0m\n",
      "\u001b[32m[I 2022-06-22 12:54:32,940]\u001b[0m Trial 430 finished with value: 0.8737581009461813 and parameters: {'scalers': 'minmax', 'lambda_l1': 1.4219537055748567e-05, 'lambda_l2': 0.022054928395015553, 'num_leaves': 246, 'feature_fraction': 0.4317214484481703, 'bagging_fraction': 0.4134048984622942, 'bagging_freq': 3, 'min_child_samples': 14, 'max_depth': 666}. Best is trial 324 with value: 0.8860457100948587.\u001b[0m\n",
      "\u001b[32m[I 2022-06-22 12:54:37,534]\u001b[0m Trial 431 finished with value: 0.8800737389545439 and parameters: {'scalers': 'minmax', 'lambda_l1': 2.860879182177691e-06, 'lambda_l2': 0.008050118576266984, 'num_leaves': 229, 'feature_fraction': 0.455106293464, 'bagging_fraction': 0.435375100349737, 'bagging_freq': 1, 'min_child_samples': 8, 'max_depth': 624}. Best is trial 324 with value: 0.8860457100948587.\u001b[0m\n",
      "\u001b[32m[I 2022-06-22 12:54:42,671]\u001b[0m Trial 432 finished with value: 0.8812512577077206 and parameters: {'scalers': 'minmax', 'lambda_l1': 0.0008784102563964117, 'lambda_l2': 0.0035526665241739338, 'num_leaves': 252, 'feature_fraction': 0.4199115605063464, 'bagging_fraction': 0.41230498861106246, 'bagging_freq': 3, 'min_child_samples': 5, 'max_depth': 713}. Best is trial 324 with value: 0.8860457100948587.\u001b[0m\n",
      "\u001b[32m[I 2022-06-22 12:54:43,778]\u001b[0m Trial 433 finished with value: 0.5 and parameters: {'scalers': 'minmax', 'lambda_l1': 5.446799336482494e-06, 'lambda_l2': 0.010308101254788801, 'num_leaves': 237, 'feature_fraction': 0.4010033658920271, 'bagging_fraction': 0.40020160062672455, 'bagging_freq': 3, 'min_child_samples': 86, 'max_depth': 685}. Best is trial 324 with value: 0.8860457100948587.\u001b[0m\n",
      "\u001b[32m[I 2022-06-22 12:54:45,826]\u001b[0m Trial 434 finished with value: 0.5 and parameters: {'scalers': 'minmax', 'lambda_l1': 1.5349320724599772e-06, 'lambda_l2': 0.004870631076356879, 'num_leaves': 205, 'feature_fraction': 0.4375200998273897, 'bagging_fraction': 0.4510040130910395, 'bagging_freq': 3, 'min_child_samples': 39, 'max_depth': 879}. Best is trial 324 with value: 0.8860457100948587.\u001b[0m\n",
      "\u001b[32m[I 2022-06-22 12:54:49,593]\u001b[0m Trial 435 finished with value: 0.865297958684762 and parameters: {'scalers': 'minmax', 'lambda_l1': 2.9737234844767534e-05, 'lambda_l2': 0.01593089982337252, 'num_leaves': 226, 'feature_fraction': 0.4164862581977326, 'bagging_fraction': 0.42303867679640816, 'bagging_freq': 3, 'min_child_samples': 19, 'max_depth': 745}. Best is trial 324 with value: 0.8860457100948587.\u001b[0m\n",
      "\u001b[32m[I 2022-06-22 12:54:53,382]\u001b[0m Trial 436 finished with value: 0.883605572102476 and parameters: {'scalers': 'minmax', 'lambda_l1': 9.230973022567529e-06, 'lambda_l2': 2.646927001296739e-08, 'num_leaves': 243, 'feature_fraction': 0.4002781332999884, 'bagging_fraction': 0.4661410643467512, 'bagging_freq': 3, 'min_child_samples': 11, 'max_depth': 657}. Best is trial 324 with value: 0.8860457100948587.\u001b[0m\n",
      "\u001b[32m[I 2022-06-22 12:54:57,152]\u001b[0m Trial 437 finished with value: 0.8795012675018481 and parameters: {'scalers': 'minmax', 'lambda_l1': 9.891035178386275e-06, 'lambda_l2': 1.7747259046986482e-08, 'num_leaves': 244, 'feature_fraction': 0.4097062459742381, 'bagging_fraction': 0.4654528179396933, 'bagging_freq': 3, 'min_child_samples': 11, 'max_depth': 651}. Best is trial 324 with value: 0.8860457100948587.\u001b[0m\n",
      "\u001b[32m[I 2022-06-22 12:55:01,053]\u001b[0m Trial 438 finished with value: 0.87368061848712 and parameters: {'scalers': 'minmax', 'lambda_l1': 1.7031919826448418e-05, 'lambda_l2': 2.3546257362366674e-08, 'num_leaves': 252, 'feature_fraction': 0.40949624924090494, 'bagging_fraction': 0.4758903599378823, 'bagging_freq': 5, 'min_child_samples': 10, 'max_depth': 635}. Best is trial 324 with value: 0.8860457100948587.\u001b[0m\n",
      "\u001b[32m[I 2022-06-22 12:55:06,121]\u001b[0m Trial 439 finished with value: 0.877281766736875 and parameters: {'scalers': 'minmax', 'lambda_l1': 7.793170937523296e-06, 'lambda_l2': 0.06069105703191467, 'num_leaves': 240, 'feature_fraction': 0.40031633960902446, 'bagging_fraction': 0.4696515609794509, 'bagging_freq': 3, 'min_child_samples': 7, 'max_depth': 668}. Best is trial 324 with value: 0.8860457100948587.\u001b[0m\n",
      "\u001b[32m[I 2022-06-22 12:55:09,978]\u001b[0m Trial 440 finished with value: 0.8774200685795113 and parameters: {'scalers': 'minmax', 'lambda_l1': 1.230545793865965e-05, 'lambda_l2': 6.457805002010354e-08, 'num_leaves': 29, 'feature_fraction': 0.42326616600478034, 'bagging_fraction': 0.44824550338830704, 'bagging_freq': 1, 'min_child_samples': 12, 'max_depth': 653}. Best is trial 324 with value: 0.8860457100948587.\u001b[0m\n",
      "\u001b[32m[I 2022-06-22 12:55:14,885]\u001b[0m Trial 441 finished with value: 0.8693598818407253 and parameters: {'scalers': 'minmax', 'lambda_l1': 3.81874923249253e-06, 'lambda_l2': 0.027915225098876586, 'num_leaves': 245, 'feature_fraction': 0.9444218293411291, 'bagging_fraction': 0.45403091969094334, 'bagging_freq': 2, 'min_child_samples': 9, 'max_depth': 613}. Best is trial 324 with value: 0.8860457100948587.\u001b[0m\n",
      "\u001b[32m[I 2022-06-22 12:55:16,641]\u001b[0m Trial 442 finished with value: 0.5 and parameters: {'scalers': 'minmax', 'lambda_l1': 5.423823899060291e-06, 'lambda_l2': 4.1631685115260856e-08, 'num_leaves': 249, 'feature_fraction': 0.4216166249470475, 'bagging_fraction': 0.49167811793986355, 'bagging_freq': 3, 'min_child_samples': 44, 'max_depth': 683}. Best is trial 324 with value: 0.8860457100948587.\u001b[0m\n",
      "\u001b[32m[I 2022-06-22 12:55:21,312]\u001b[0m Trial 443 finished with value: 0.8845885721605535 and parameters: {'scalers': 'minmax', 'lambda_l1': 2.266575706614407e-06, 'lambda_l2': 0.00693912042196417, 'num_leaves': 236, 'feature_fraction': 0.43476731312303907, 'bagging_fraction': 0.4356070588919454, 'bagging_freq': 3, 'min_child_samples': 7, 'max_depth': 633}. Best is trial 324 with value: 0.8860457100948587.\u001b[0m\n"
     ]
    },
    {
     "name": "stderr",
     "output_type": "stream",
     "text": [
      "\u001b[32m[I 2022-06-22 12:55:25,378]\u001b[0m Trial 444 finished with value: 0.8817689606789838 and parameters: {'scalers': 'minmax', 'lambda_l1': 2.807377985791381e-06, 'lambda_l2': 1.3767166736272074e-08, 'num_leaves': 228, 'feature_fraction': 0.4454500640407263, 'bagging_fraction': 0.4382327166990512, 'bagging_freq': 3, 'min_child_samples': 5, 'max_depth': 632}. Best is trial 324 with value: 0.8860457100948587.\u001b[0m\n",
      "\u001b[32m[I 2022-06-22 12:55:29,154]\u001b[0m Trial 445 finished with value: 0.8767286242094678 and parameters: {'scalers': 'minmax', 'lambda_l1': 8.345354091838188e-06, 'lambda_l2': 2.71799957118158e-08, 'num_leaves': 234, 'feature_fraction': 0.4653156746873899, 'bagging_fraction': 0.6801092215665016, 'bagging_freq': 4, 'min_child_samples': 7, 'max_depth': 598}. Best is trial 324 with value: 0.8860457100948587.\u001b[0m\n",
      "\u001b[32m[I 2022-06-22 12:55:33,946]\u001b[0m Trial 446 finished with value: 0.8796720529212788 and parameters: {'scalers': 'minmax', 'lambda_l1': 4.479831307382189e-06, 'lambda_l2': 0.007429999779819605, 'num_leaves': 233, 'feature_fraction': 0.43985579273546793, 'bagging_fraction': 0.464388052767123, 'bagging_freq': 3, 'min_child_samples': 7, 'max_depth': 634}. Best is trial 324 with value: 0.8860457100948587.\u001b[0m\n",
      "\u001b[32m[I 2022-06-22 12:55:38,403]\u001b[0m Trial 447 finished with value: 0.8752569775855378 and parameters: {'scalers': 'minmax', 'lambda_l1': 2.198130613584273e-06, 'lambda_l2': 0.011494968512217915, 'num_leaves': 240, 'feature_fraction': 0.45491170205839254, 'bagging_fraction': 0.41797851136197856, 'bagging_freq': 2, 'min_child_samples': 9, 'max_depth': 652}. Best is trial 324 with value: 0.8860457100948587.\u001b[0m\n",
      "\u001b[32m[I 2022-06-22 12:55:43,323]\u001b[0m Trial 448 finished with value: 0.8756860636138888 and parameters: {'scalers': 'minmax', 'lambda_l1': 2.340921169052481e-05, 'lambda_l2': 0.017761302573099724, 'num_leaves': 223, 'feature_fraction': 0.4328989016421369, 'bagging_fraction': 0.43331972691242165, 'bagging_freq': 3, 'min_child_samples': 5, 'max_depth': 616}. Best is trial 324 with value: 0.8860457100948587.\u001b[0m\n",
      "\u001b[32m[I 2022-06-22 12:55:47,712]\u001b[0m Trial 449 finished with value: 0.8784943102133504 and parameters: {'scalers': 'minmax', 'lambda_l1': 5.893319193121224e-06, 'lambda_l2': 0.005921027490717432, 'num_leaves': 88, 'feature_fraction': 0.4303596035187568, 'bagging_fraction': 0.41115886661114626, 'bagging_freq': 3, 'min_child_samples': 8, 'max_depth': 664}. Best is trial 324 with value: 0.8860457100948587.\u001b[0m\n",
      "\u001b[32m[I 2022-06-22 12:55:52,695]\u001b[0m Trial 450 finished with value: 0.8769209094569002 and parameters: {'scalers': 'minmax', 'lambda_l1': 1.2519221269242624e-05, 'lambda_l2': 0.01206217047019614, 'num_leaves': 256, 'feature_fraction': 0.42130173668930043, 'bagging_fraction': 0.6456889053813766, 'bagging_freq': 3, 'min_child_samples': 10, 'max_depth': 641}. Best is trial 324 with value: 0.8860457100948587.\u001b[0m\n",
      "\u001b[32m[I 2022-06-22 12:55:57,631]\u001b[0m Trial 451 finished with value: 0.880716915523417 and parameters: {'scalers': 'minmax', 'lambda_l1': 3.0264137043699104e-06, 'lambda_l2': 0.03520337370520857, 'num_leaves': 231, 'feature_fraction': 0.4520668244161634, 'bagging_fraction': 0.42725182251241595, 'bagging_freq': 3, 'min_child_samples': 7, 'max_depth': 677}. Best is trial 324 with value: 0.8860457100948587.\u001b[0m\n",
      "\u001b[32m[I 2022-06-22 12:56:02,489]\u001b[0m Trial 452 finished with value: 0.879185780207065 and parameters: {'scalers': 'minmax', 'lambda_l1': 8.442079766049473e-06, 'lambda_l2': 0.007757867861588746, 'num_leaves': 236, 'feature_fraction': 0.4442539588035386, 'bagging_fraction': 0.44440106958962816, 'bagging_freq': 3, 'min_child_samples': 9, 'max_depth': 711}. Best is trial 324 with value: 0.8860457100948587.\u001b[0m\n",
      "\u001b[32m[I 2022-06-22 12:56:06,227]\u001b[0m Trial 453 finished with value: 0.8768449107007545 and parameters: {'scalers': 'minmax', 'lambda_l1': 4.761690954663559e-06, 'lambda_l2': 0.019347934220604376, 'num_leaves': 217, 'feature_fraction': 0.4329611433006568, 'bagging_fraction': 0.4000695802219805, 'bagging_freq': 3, 'min_child_samples': 12, 'max_depth': 620}. Best is trial 324 with value: 0.8860457100948587.\u001b[0m\n",
      "\u001b[32m[I 2022-06-22 12:56:11,224]\u001b[0m Trial 454 finished with value: 0.8766541703695342 and parameters: {'scalers': 'minmax', 'lambda_l1': 1.8369008184458434e-06, 'lambda_l2': 0.004445926829849409, 'num_leaves': 243, 'feature_fraction': 0.4142024165262431, 'bagging_fraction': 0.45982538388633165, 'bagging_freq': 1, 'min_child_samples': 6, 'max_depth': 661}. Best is trial 324 with value: 0.8860457100948587.\u001b[0m\n",
      "\u001b[32m[I 2022-06-22 12:56:12,290]\u001b[0m Trial 455 finished with value: 0.5 and parameters: {'scalers': 'minmax', 'lambda_l1': 1.765568306059258e-05, 'lambda_l2': 0.010919344144855788, 'num_leaves': 62, 'feature_fraction': 0.4002370304035165, 'bagging_fraction': 0.6330908131421249, 'bagging_freq': 3, 'min_child_samples': 67, 'max_depth': 698}. Best is trial 324 with value: 0.8860457100948587.\u001b[0m\n",
      "\u001b[32m[I 2022-06-22 12:56:16,380]\u001b[0m Trial 456 finished with value: 0.8767078445505302 and parameters: {'scalers': 'minmax', 'lambda_l1': 3.3295268224360345e-06, 'lambda_l2': 0.00703249331497261, 'num_leaves': 120, 'feature_fraction': 0.4252180984231377, 'bagging_fraction': 0.419666165851872, 'bagging_freq': 3, 'min_child_samples': 10, 'max_depth': 645}. Best is trial 324 with value: 0.8860457100948587.\u001b[0m\n",
      "\u001b[32m[I 2022-06-22 12:56:20,904]\u001b[0m Trial 457 finished with value: 0.8784085575157558 and parameters: {'scalers': 'minmax', 'lambda_l1': 1.0945403375229756e-05, 'lambda_l2': 0.0465050485772814, 'num_leaves': 102, 'feature_fraction': 0.9127637161170168, 'bagging_fraction': 0.41170176848682477, 'bagging_freq': 3, 'min_child_samples': 8, 'max_depth': 594}. Best is trial 324 with value: 0.8860457100948587.\u001b[0m\n",
      "\u001b[32m[I 2022-06-22 12:56:25,145]\u001b[0m Trial 458 finished with value: 0.8809027591990052 and parameters: {'scalers': 'minmax', 'lambda_l1': 3.3586634259921066e-05, 'lambda_l2': 0.025863032691185305, 'num_leaves': 76, 'feature_fraction': 0.4664027344802918, 'bagging_fraction': 0.43938646947740967, 'bagging_freq': 3, 'min_child_samples': 11, 'max_depth': 686}. Best is trial 324 with value: 0.8860457100948587.\u001b[0m\n",
      "\u001b[32m[I 2022-06-22 12:56:29,367]\u001b[0m Trial 459 finished with value: 0.8775053860398287 and parameters: {'scalers': 'robust', 'lambda_l1': 7.0417450940222864e-06, 'lambda_l2': 0.002660787810724888, 'num_leaves': 222, 'feature_fraction': 0.44208780640977713, 'bagging_fraction': 0.4267073766813152, 'bagging_freq': 3, 'min_child_samples': 14, 'max_depth': 665}. Best is trial 324 with value: 0.8860457100948587.\u001b[0m\n",
      "\u001b[32m[I 2022-06-22 12:56:34,201]\u001b[0m Trial 460 finished with value: 0.8796805775923423 and parameters: {'scalers': 'minmax', 'lambda_l1': 4.738613640722135e-06, 'lambda_l2': 0.01175609789886632, 'num_leaves': 247, 'feature_fraction': 0.4142447561372498, 'bagging_fraction': 0.4108166094212608, 'bagging_freq': 3, 'min_child_samples': 5, 'max_depth': 608}. Best is trial 324 with value: 0.8860457100948587.\u001b[0m\n",
      "\u001b[32m[I 2022-06-22 12:56:39,030]\u001b[0m Trial 461 finished with value: 0.8806607144790195 and parameters: {'scalers': 'minmax', 'lambda_l1': 2.1906109903221606e-06, 'lambda_l2': 0.006934791703904782, 'num_leaves': 239, 'feature_fraction': 0.42854786229286296, 'bagging_fraction': 0.45356785824784374, 'bagging_freq': 3, 'min_child_samples': 8, 'max_depth': 629}. Best is trial 324 with value: 0.8860457100948587.\u001b[0m\n",
      "\u001b[32m[I 2022-06-22 12:56:43,443]\u001b[0m Trial 462 finished with value: 0.8831880022497282 and parameters: {'scalers': 'minmax', 'lambda_l1': 1.8563879100069058e-05, 'lambda_l2': 0.0048552251057334085, 'num_leaves': 230, 'feature_fraction': 0.41195483288376844, 'bagging_fraction': 0.40027386243550933, 'bagging_freq': 3, 'min_child_samples': 12, 'max_depth': 734}. Best is trial 324 with value: 0.8860457100948587.\u001b[0m\n",
      "\u001b[32m[I 2022-06-22 12:56:48,984]\u001b[0m Trial 463 finished with value: 0.8475308500623902 and parameters: {'scalers': 'minmax', 'lambda_l1': 2.302201393531431e-05, 'lambda_l2': 0.00414550549851376, 'num_leaves': 231, 'feature_fraction': 0.4389810771656755, 'bagging_fraction': 0.9869472902911316, 'bagging_freq': 1, 'min_child_samples': 13, 'max_depth': 753}. Best is trial 324 with value: 0.8860457100948587.\u001b[0m\n"
     ]
    },
    {
     "name": "stderr",
     "output_type": "stream",
     "text": [
      "\u001b[32m[I 2022-06-22 12:56:53,651]\u001b[0m Trial 464 finished with value: 0.8780635506134732 and parameters: {'scalers': 'minmax', 'lambda_l1': 3.338745988830862e-05, 'lambda_l2': 0.0031307383510765204, 'num_leaves': 236, 'feature_fraction': 0.45255452765296345, 'bagging_fraction': 0.6677060648585293, 'bagging_freq': 3, 'min_child_samples': 15, 'max_depth': 707}. Best is trial 324 with value: 0.8860457100948587.\u001b[0m\n",
      "\u001b[32m[I 2022-06-22 12:56:58,347]\u001b[0m Trial 465 finished with value: 0.8807520680858528 and parameters: {'scalers': 'minmax', 'lambda_l1': 5.4079394366272204e-05, 'lambda_l2': 0.005045734507853339, 'num_leaves': 229, 'feature_fraction': 0.4204983486464603, 'bagging_fraction': 0.48148066837281733, 'bagging_freq': 3, 'min_child_samples': 12, 'max_depth': 737}. Best is trial 324 with value: 0.8860457100948587.\u001b[0m\n",
      "\u001b[32m[I 2022-06-22 12:57:02,882]\u001b[0m Trial 466 finished with value: 0.8711710729930546 and parameters: {'scalers': 'minmax', 'lambda_l1': 1.7868531329506287e-05, 'lambda_l2': 0.001926246682730383, 'num_leaves': 238, 'feature_fraction': 0.4320546176596213, 'bagging_fraction': 0.42350386556489406, 'bagging_freq': 6, 'min_child_samples': 11, 'max_depth': 763}. Best is trial 324 with value: 0.8860457100948587.\u001b[0m\n",
      "\u001b[32m[I 2022-06-22 12:57:07,658]\u001b[0m Trial 467 finished with value: 0.8789791049378899 and parameters: {'scalers': 'minmax', 'lambda_l1': 1.482768002101917e-05, 'lambda_l2': 0.009479227556011643, 'num_leaves': 226, 'feature_fraction': 0.414050142890406, 'bagging_fraction': 0.40879166924452864, 'bagging_freq': 3, 'min_child_samples': 9, 'max_depth': 728}. Best is trial 324 with value: 0.8860457100948587.\u001b[0m\n",
      "\u001b[32m[I 2022-06-22 12:57:12,703]\u001b[0m Trial 468 finished with value: 0.8723828111173313 and parameters: {'scalers': 'minmax', 'lambda_l1': 1.03143715822493e-05, 'lambda_l2': 0.015385221387953554, 'num_leaves': 234, 'feature_fraction': 0.42305058947171387, 'bagging_fraction': 0.40114672441763877, 'bagging_freq': 4, 'min_child_samples': 7, 'max_depth': 728}. Best is trial 324 with value: 0.8860457100948587.\u001b[0m\n",
      "\u001b[32m[I 2022-06-22 12:57:16,421]\u001b[0m Trial 469 finished with value: 0.8753113211178225 and parameters: {'scalers': 'minmax', 'lambda_l1': 2.6819740501748456e-05, 'lambda_l2': 7.115921060501542e-05, 'num_leaves': 243, 'feature_fraction': 0.4412690504679847, 'bagging_fraction': 0.4357134949361933, 'bagging_freq': 3, 'min_child_samples': 13, 'max_depth': 578}. Best is trial 324 with value: 0.8860457100948587.\u001b[0m\n",
      "\u001b[32m[I 2022-06-22 12:57:22,024]\u001b[0m Trial 470 finished with value: 0.8824351047129685 and parameters: {'scalers': 'minmax', 'lambda_l1': 1.2705863516591923e-06, 'lambda_l2': 0.006907760916700411, 'num_leaves': 230, 'feature_fraction': 0.4118974436504799, 'bagging_fraction': 0.4191761616605096, 'bagging_freq': 3, 'min_child_samples': 10, 'max_depth': 649}. Best is trial 324 with value: 0.8860457100948587.\u001b[0m\n",
      "\u001b[32m[I 2022-06-22 12:57:25,532]\u001b[0m Trial 471 finished with value: 0.8746038929465787 and parameters: {'scalers': 'minmax', 'lambda_l1': 2.765943535729843e-06, 'lambda_l2': 0.004635025645497864, 'num_leaves': 225, 'feature_fraction': 0.42928642483713936, 'bagging_fraction': 0.4444530157704714, 'bagging_freq': 3, 'min_child_samples': 15, 'max_depth': 600}. Best is trial 324 with value: 0.8860457100948587.\u001b[0m\n",
      "\u001b[32m[I 2022-06-22 12:57:30,439]\u001b[0m Trial 472 finished with value: 0.8798537321381749 and parameters: {'scalers': 'minmax', 'lambda_l1': 1.3043104614573925e-05, 'lambda_l2': 0.009483710412524061, 'num_leaves': 250, 'feature_fraction': 0.4583846114174348, 'bagging_fraction': 0.42558213955798607, 'bagging_freq': 3, 'min_child_samples': 5, 'max_depth': 624}. Best is trial 324 with value: 0.8860457100948587.\u001b[0m\n",
      "\u001b[32m[I 2022-06-22 12:57:34,894]\u001b[0m Trial 473 finished with value: 0.880942485919653 and parameters: {'scalers': 'minmax', 'lambda_l1': 5.386656592215997e-06, 'lambda_l2': 0.002859820350531521, 'num_leaves': 238, 'feature_fraction': 0.4123401259402159, 'bagging_fraction': 0.4004939021593196, 'bagging_freq': 3, 'min_child_samples': 12, 'max_depth': 688}. Best is trial 324 with value: 0.8860457100948587.\u001b[0m\n",
      "\u001b[32m[I 2022-06-22 12:57:40,134]\u001b[0m Trial 474 finished with value: 0.8775696720505155 and parameters: {'scalers': 'minmax', 'lambda_l1': 6.979877250975615e-05, 'lambda_l2': 0.01544147123484655, 'num_leaves': 243, 'feature_fraction': 0.44665053037017305, 'bagging_fraction': 0.4000404837195251, 'bagging_freq': 1, 'min_child_samples': 7, 'max_depth': 712}. Best is trial 324 with value: 0.8860457100948587.\u001b[0m\n",
      "\u001b[32m[I 2022-06-22 12:57:45,898]\u001b[0m Trial 475 finished with value: 0.869641474216358 and parameters: {'scalers': 'minmax', 'lambda_l1': 3.314608538072869e-06, 'lambda_l2': 0.005757967289654236, 'num_leaves': 234, 'feature_fraction': 0.40038832573467703, 'bagging_fraction': 0.7959053591030947, 'bagging_freq': 3, 'min_child_samples': 9, 'max_depth': 783}. Best is trial 324 with value: 0.8860457100948587.\u001b[0m\n",
      "\u001b[32m[I 2022-06-22 12:57:47,520]\u001b[0m Trial 476 finished with value: 0.5 and parameters: {'scalers': 'minmax', 'lambda_l1': 9.358838162217357e-06, 'lambda_l2': 0.020782898856762624, 'num_leaves': 222, 'feature_fraction': 0.4238614384644491, 'bagging_fraction': 0.460379712777051, 'bagging_freq': 3, 'min_child_samples': 36, 'max_depth': 641}. Best is trial 324 with value: 0.8860457100948587.\u001b[0m\n",
      "\u001b[32m[I 2022-06-22 12:57:52,162]\u001b[0m Trial 477 finished with value: 0.8732764026049629 and parameters: {'scalers': 'robust', 'lambda_l1': 2.1405119956884184e-05, 'lambda_l2': 0.00870060533633059, 'num_leaves': 230, 'feature_fraction': 0.47233311700180075, 'bagging_fraction': 0.41554512845977504, 'bagging_freq': 2, 'min_child_samples': 11, 'max_depth': 670}. Best is trial 324 with value: 0.8860457100948587.\u001b[0m\n",
      "\u001b[32m[I 2022-06-22 12:57:55,701]\u001b[0m Trial 478 finished with value: 0.8827095059653111 and parameters: {'scalers': 'minmax', 'lambda_l1': 5.8651420575001615e-06, 'lambda_l2': 0.0037325004348377254, 'num_leaves': 246, 'feature_fraction': 0.4325837614777234, 'bagging_fraction': 0.4374632922993017, 'bagging_freq': 3, 'min_child_samples': 14, 'max_depth': 584}. Best is trial 324 with value: 0.8860457100948587.\u001b[0m\n",
      "\u001b[32m[I 2022-06-22 12:57:59,087]\u001b[0m Trial 479 finished with value: 0.8792561058008042 and parameters: {'scalers': 'minmax', 'lambda_l1': 6.856096043769084e-06, 'lambda_l2': 0.0024734603879952846, 'num_leaves': 238, 'feature_fraction': 0.4883689636483293, 'bagging_fraction': 0.46738817301028884, 'bagging_freq': 3, 'min_child_samples': 16, 'max_depth': 569}. Best is trial 324 with value: 0.8860457100948587.\u001b[0m\n",
      "\u001b[32m[I 2022-06-22 12:58:03,924]\u001b[0m Trial 480 finished with value: 0.8769730369604596 and parameters: {'scalers': 'minmax', 'lambda_l1': 1.5018417428051339e-05, 'lambda_l2': 0.0017573025648903956, 'num_leaves': 252, 'feature_fraction': 0.8509286794171951, 'bagging_fraction': 0.45195483539279824, 'bagging_freq': 3, 'min_child_samples': 14, 'max_depth': 812}. Best is trial 324 with value: 0.8860457100948587.\u001b[0m\n",
      "\u001b[32m[I 2022-06-22 12:58:07,452]\u001b[0m Trial 481 finished with value: 0.8781592478943487 and parameters: {'scalers': 'minmax', 'lambda_l1': 4.3434744663833246e-05, 'lambda_l2': 0.003531241442866892, 'num_leaves': 218, 'feature_fraction': 0.41325548889604363, 'bagging_fraction': 0.4431689320730901, 'bagging_freq': 3, 'min_child_samples': 14, 'max_depth': 587}. Best is trial 324 with value: 0.8860457100948587.\u001b[0m\n",
      "\u001b[32m[I 2022-06-22 12:58:10,745]\u001b[0m Trial 482 finished with value: 0.8687848583305241 and parameters: {'scalers': 'minmax', 'lambda_l1': 9.497392190850975e-06, 'lambda_l2': 0.0013407737052533262, 'num_leaves': 225, 'feature_fraction': 0.9301813982313927, 'bagging_fraction': 0.4344386748818727, 'bagging_freq': 7, 'min_child_samples': 17, 'max_depth': 571}. Best is trial 324 with value: 0.8860457100948587.\u001b[0m\n",
      "\u001b[32m[I 2022-06-22 12:58:14,443]\u001b[0m Trial 483 finished with value: 0.8795562454186681 and parameters: {'scalers': 'minmax', 'lambda_l1': 5.520310914521846e-06, 'lambda_l2': 3.1819690915041405e-08, 'num_leaves': 233, 'feature_fraction': 0.43411931066754983, 'bagging_fraction': 0.4853936157908297, 'bagging_freq': 3, 'min_child_samples': 13, 'max_depth': 598}. Best is trial 324 with value: 0.8860457100948587.\u001b[0m\n"
     ]
    },
    {
     "name": "stderr",
     "output_type": "stream",
     "text": [
      "\u001b[32m[I 2022-06-22 12:58:17,781]\u001b[0m Trial 484 finished with value: 0.8770583290118894 and parameters: {'scalers': 'minmax', 'lambda_l1': 1.433626564102245e-05, 'lambda_l2': 0.003910273830979929, 'num_leaves': 248, 'feature_fraction': 0.41947518984840815, 'bagging_fraction': 0.43121228729720423, 'bagging_freq': 1, 'min_child_samples': 15, 'max_depth': 553}. Best is trial 324 with value: 0.8860457100948587.\u001b[0m\n",
      "\u001b[32m[I 2022-06-22 12:58:22,021]\u001b[0m Trial 485 finished with value: 0.8774274724243765 and parameters: {'scalers': 'minmax', 'lambda_l1': 1.885458127913055e-06, 'lambda_l2': 0.005236252891708598, 'num_leaves': 241, 'feature_fraction': 0.8173470733853108, 'bagging_fraction': 0.4490773992044536, 'bagging_freq': 3, 'min_child_samples': 12, 'max_depth': 609}. Best is trial 324 with value: 0.8860457100948587.\u001b[0m\n",
      "\u001b[32m[I 2022-06-22 12:58:27,383]\u001b[0m Trial 486 finished with value: 0.8722169933609559 and parameters: {'scalers': 'minmax', 'lambda_l1': 8.115259976526958e-06, 'lambda_l2': 0.005986203857225213, 'num_leaves': 227, 'feature_fraction': 0.895205286190257, 'bagging_fraction': 0.47288959707994105, 'bagging_freq': 3, 'min_child_samples': 11, 'max_depth': 751}. Best is trial 324 with value: 0.8860457100948587.\u001b[0m\n",
      "\u001b[32m[I 2022-06-22 12:58:30,525]\u001b[0m Trial 487 finished with value: 0.8735972460846688 and parameters: {'scalers': 'minmax', 'lambda_l1': 2.834996237884659e-05, 'lambda_l2': 0.0020932225731126876, 'num_leaves': 127, 'feature_fraction': 0.44763394814150054, 'bagging_fraction': 0.4402390137669835, 'bagging_freq': 3, 'min_child_samples': 17, 'max_depth': 582}. Best is trial 324 with value: 0.8860457100948587.\u001b[0m\n",
      "\u001b[32m[I 2022-06-22 12:58:34,255]\u001b[0m Trial 488 finished with value: 0.8747342379627598 and parameters: {'scalers': 'minmax', 'lambda_l1': 4.258612653648521e-06, 'lambda_l2': 0.0037698571336039354, 'num_leaves': 234, 'feature_fraction': 0.4101691278250594, 'bagging_fraction': 0.4260446757787609, 'bagging_freq': 4, 'min_child_samples': 13, 'max_depth': 616}. Best is trial 324 with value: 0.8860457100948587.\u001b[0m\n",
      "\u001b[32m[I 2022-06-22 12:58:38,810]\u001b[0m Trial 489 finished with value: 0.8747655962243809 and parameters: {'scalers': 'minmax', 'lambda_l1': 2.0626826432254054e-05, 'lambda_l2': 0.0027999415371182347, 'num_leaves': 244, 'feature_fraction': 0.42629943337352266, 'bagging_fraction': 0.4592380980441945, 'bagging_freq': 5, 'min_child_samples': 10, 'max_depth': 697}. Best is trial 324 with value: 0.8860457100948587.\u001b[0m\n",
      "\u001b[32m[I 2022-06-22 12:58:43,071]\u001b[0m Trial 490 finished with value: 0.876960284082962 and parameters: {'scalers': 'minmax', 'lambda_l1': 2.573612057944389e-06, 'lambda_l2': 0.0067302874166379305, 'num_leaves': 221, 'feature_fraction': 0.41144754499262365, 'bagging_fraction': 0.4158209553217132, 'bagging_freq': 3, 'min_child_samples': 9, 'max_depth': 629}. Best is trial 324 with value: 0.8860457100948587.\u001b[0m\n",
      "\u001b[32m[I 2022-06-22 12:58:47,465]\u001b[0m Trial 491 finished with value: 0.8772725864606669 and parameters: {'scalers': 'minmax', 'lambda_l1': 6.337213359193576e-06, 'lambda_l2': 0.015137096028369693, 'num_leaves': 256, 'feature_fraction': 0.43540737151906733, 'bagging_fraction': 0.4342094206217039, 'bagging_freq': 3, 'min_child_samples': 13, 'max_depth': 730}. Best is trial 324 with value: 0.8860457100948587.\u001b[0m\n",
      "\u001b[32m[I 2022-06-22 12:58:51,120]\u001b[0m Trial 492 finished with value: 0.8815795852324491 and parameters: {'scalers': 'minmax', 'lambda_l1': 9.939099304351125e-06, 'lambda_l2': 0.030850738565283174, 'num_leaves': 137, 'feature_fraction': 0.4226296397895215, 'bagging_fraction': 0.4179053125419039, 'bagging_freq': 3, 'min_child_samples': 11, 'max_depth': 590}. Best is trial 324 with value: 0.8860457100948587.\u001b[0m\n",
      "\u001b[32m[I 2022-06-22 12:58:53,752]\u001b[0m Trial 493 finished with value: 0.8512326440973887 and parameters: {'scalers': 'minmax', 'lambda_l1': 2.3398847614464215, 'lambda_l2': 0.012437955393426906, 'num_leaves': 239, 'feature_fraction': 0.4615362614054496, 'bagging_fraction': 0.49807667903734126, 'bagging_freq': 3, 'min_child_samples': 14, 'max_depth': 556}. Best is trial 324 with value: 0.8860457100948587.\u001b[0m\n",
      "\u001b[32m[I 2022-06-22 12:58:58,324]\u001b[0m Trial 494 finished with value: 0.8799310256736725 and parameters: {'scalers': 'minmax', 'lambda_l1': 4.075458042013979e-06, 'lambda_l2': 0.004746662599850956, 'num_leaves': 213, 'feature_fraction': 0.4083415738516338, 'bagging_fraction': 0.4515723453953114, 'bagging_freq': 3, 'min_child_samples': 9, 'max_depth': 673}. Best is trial 324 with value: 0.8860457100948587.\u001b[0m\n",
      "\u001b[32m[I 2022-06-22 12:59:03,492]\u001b[0m Trial 495 finished with value: 0.8766279191439794 and parameters: {'scalers': 'minmax', 'lambda_l1': 1.199189939372811e-06, 'lambda_l2': 0.008279801915027928, 'num_leaves': 229, 'feature_fraction': 0.993134375246914, 'bagging_fraction': 0.4289646739245419, 'bagging_freq': 1, 'min_child_samples': 11, 'max_depth': 696}. Best is trial 324 with value: 0.8860457100948587.\u001b[0m\n",
      "\u001b[32m[I 2022-06-22 12:59:08,085]\u001b[0m Trial 496 finished with value: 0.8752353646095906 and parameters: {'scalers': 'robust', 'lambda_l1': 1.4219853463633229e-05, 'lambda_l2': 0.003092746874451807, 'num_leaves': 249, 'feature_fraction': 0.40082643528788087, 'bagging_fraction': 0.40029606855924854, 'bagging_freq': 2, 'min_child_samples': 8, 'max_depth': 608}. Best is trial 324 with value: 0.8860457100948587.\u001b[0m\n",
      "\u001b[32m[I 2022-06-22 12:59:12,400]\u001b[0m Trial 497 finished with value: 0.8800283615378429 and parameters: {'scalers': 'minmax', 'lambda_l1': 1.7796262182378556e-06, 'lambda_l2': 0.006506496254635791, 'num_leaves': 219, 'feature_fraction': 0.4440928255255746, 'bagging_fraction': 0.41173597760100883, 'bagging_freq': 3, 'min_child_samples': 12, 'max_depth': 718}. Best is trial 324 with value: 0.8860457100948587.\u001b[0m\n",
      "\u001b[32m[I 2022-06-22 12:59:15,958]\u001b[0m Trial 498 finished with value: 0.8753858560814831 and parameters: {'scalers': 'minmax', 'lambda_l1': 6.180653871374015e-06, 'lambda_l2': 0.021872943107284614, 'num_leaves': 235, 'feature_fraction': 0.4251267572880413, 'bagging_fraction': 0.42295219412779295, 'bagging_freq': 3, 'min_child_samples': 16, 'max_depth': 649}. Best is trial 324 with value: 0.8860457100948587.\u001b[0m\n",
      "\u001b[32m[I 2022-06-22 12:59:19,680]\u001b[0m Trial 499 finished with value: 0.8758174134731798 and parameters: {'scalers': 'minmax', 'lambda_l1': 3.282848266879012e-06, 'lambda_l2': 3.665692316010078e-05, 'num_leaves': 45, 'feature_fraction': 0.4368079849506744, 'bagging_fraction': 0.44549532795863334, 'bagging_freq': 3, 'min_child_samples': 6, 'max_depth': 367}. Best is trial 324 with value: 0.8860457100948587.\u001b[0m\n"
     ]
    }
   ],
   "source": [
    "study.optimize(objective, n_trials=500)"
   ]
  },
  {
   "cell_type": "code",
   "execution_count": 284,
   "id": "728e2a21",
   "metadata": {},
   "outputs": [],
   "source": [
    "# Get best trial based on metric score\n",
    "trial = study.best_trial"
   ]
  },
  {
   "cell_type": "code",
   "execution_count": 285,
   "id": "72c14fe5",
   "metadata": {},
   "outputs": [
    {
     "name": "stdout",
     "output_type": "stream",
     "text": [
      "    scalers: minmax\n",
      "    lambda_l1: 4.75261507145719e-06\n",
      "    lambda_l2: 0.011742802261727603\n",
      "    num_leaves: 241\n",
      "    feature_fraction: 0.4109969027768354\n",
      "    bagging_fraction: 0.4003975536156305\n",
      "    bagging_freq: 3\n",
      "    min_child_samples: 11\n",
      "    max_depth: 655\n"
     ]
    }
   ],
   "source": [
    "# Print params for best trial\n",
    "for key, value in trial.params.items():\n",
    "    print(\"    {}: {}\".format(key, value))"
   ]
  },
  {
   "cell_type": "code",
   "execution_count": 286,
   "id": "932d3319",
   "metadata": {},
   "outputs": [
    {
     "data": {
      "text/plain": [
       "0.8860457100948587"
      ]
     },
     "execution_count": 286,
     "metadata": {},
     "output_type": "execute_result"
    }
   ],
   "source": [
    "# Best Score from HP Opt\n",
    "trial.values[0]"
   ]
  },
  {
   "cell_type": "code",
   "execution_count": 287,
   "id": "1f10bcb9",
   "metadata": {},
   "outputs": [],
   "source": [
    "gbm_opt = lgb.LGBMClassifier(random_state=SEED, **trial.params)"
   ]
  },
  {
   "cell_type": "markdown",
   "id": "a61cf7c6",
   "metadata": {},
   "source": [
    "- Pré selecionar as features mais importantes auxiliou a obter uma performance ainda melhor a partir do pipeline com Robust Scaler e LightGBM"
   ]
  },
  {
   "cell_type": "code",
   "execution_count": 288,
   "id": "562367ae",
   "metadata": {},
   "outputs": [],
   "source": [
    "X_transform_test = feat_selector.transform(np.array(X_test))"
   ]
  },
  {
   "cell_type": "code",
   "execution_count": 289,
   "id": "3268dd65",
   "metadata": {},
   "outputs": [
    {
     "data": {
      "text/plain": [
       "(64, 27)"
      ]
     },
     "execution_count": 289,
     "metadata": {},
     "output_type": "execute_result"
    }
   ],
   "source": [
    "X_transform_test.shape"
   ]
  },
  {
   "cell_type": "code",
   "execution_count": 290,
   "id": "ad2fe04e",
   "metadata": {},
   "outputs": [
    {
     "name": "stdout",
     "output_type": "stream",
     "text": [
      "[LightGBM] [Warning] Unknown parameter: scalers\n",
      "[LightGBM] [Warning] feature_fraction is set=0.4109969027768354, colsample_bytree=1.0 will be ignored. Current value: feature_fraction=0.4109969027768354\n",
      "[LightGBM] [Warning] lambda_l1 is set=4.75261507145719e-06, reg_alpha=0.0 will be ignored. Current value: lambda_l1=4.75261507145719e-06\n",
      "[LightGBM] [Warning] bagging_fraction is set=0.4003975536156305, subsample=1.0 will be ignored. Current value: bagging_fraction=0.4003975536156305\n",
      "[LightGBM] [Warning] lambda_l2 is set=0.011742802261727603, reg_lambda=0.0 will be ignored. Current value: lambda_l2=0.011742802261727603\n",
      "[LightGBM] [Warning] bagging_freq is set=3, subsample_freq=0 will be ignored. Current value: bagging_freq=3\n"
     ]
    },
    {
     "data": {
      "text/html": [
       "<style>#sk-container-id-21 {color: black;background-color: white;}#sk-container-id-21 pre{padding: 0;}#sk-container-id-21 div.sk-toggleable {background-color: white;}#sk-container-id-21 label.sk-toggleable__label {cursor: pointer;display: block;width: 100%;margin-bottom: 0;padding: 0.3em;box-sizing: border-box;text-align: center;}#sk-container-id-21 label.sk-toggleable__label-arrow:before {content: \"▸\";float: left;margin-right: 0.25em;color: #696969;}#sk-container-id-21 label.sk-toggleable__label-arrow:hover:before {color: black;}#sk-container-id-21 div.sk-estimator:hover label.sk-toggleable__label-arrow:before {color: black;}#sk-container-id-21 div.sk-toggleable__content {max-height: 0;max-width: 0;overflow: hidden;text-align: left;background-color: #f0f8ff;}#sk-container-id-21 div.sk-toggleable__content pre {margin: 0.2em;color: black;border-radius: 0.25em;background-color: #f0f8ff;}#sk-container-id-21 input.sk-toggleable__control:checked~div.sk-toggleable__content {max-height: 200px;max-width: 100%;overflow: auto;}#sk-container-id-21 input.sk-toggleable__control:checked~label.sk-toggleable__label-arrow:before {content: \"▾\";}#sk-container-id-21 div.sk-estimator input.sk-toggleable__control:checked~label.sk-toggleable__label {background-color: #d4ebff;}#sk-container-id-21 div.sk-label input.sk-toggleable__control:checked~label.sk-toggleable__label {background-color: #d4ebff;}#sk-container-id-21 input.sk-hidden--visually {border: 0;clip: rect(1px 1px 1px 1px);clip: rect(1px, 1px, 1px, 1px);height: 1px;margin: -1px;overflow: hidden;padding: 0;position: absolute;width: 1px;}#sk-container-id-21 div.sk-estimator {font-family: monospace;background-color: #f0f8ff;border: 1px dotted black;border-radius: 0.25em;box-sizing: border-box;margin-bottom: 0.5em;}#sk-container-id-21 div.sk-estimator:hover {background-color: #d4ebff;}#sk-container-id-21 div.sk-parallel-item::after {content: \"\";width: 100%;border-bottom: 1px solid gray;flex-grow: 1;}#sk-container-id-21 div.sk-label:hover label.sk-toggleable__label {background-color: #d4ebff;}#sk-container-id-21 div.sk-serial::before {content: \"\";position: absolute;border-left: 1px solid gray;box-sizing: border-box;top: 0;bottom: 0;left: 50%;z-index: 0;}#sk-container-id-21 div.sk-serial {display: flex;flex-direction: column;align-items: center;background-color: white;padding-right: 0.2em;padding-left: 0.2em;position: relative;}#sk-container-id-21 div.sk-item {position: relative;z-index: 1;}#sk-container-id-21 div.sk-parallel {display: flex;align-items: stretch;justify-content: center;background-color: white;position: relative;}#sk-container-id-21 div.sk-item::before, #sk-container-id-21 div.sk-parallel-item::before {content: \"\";position: absolute;border-left: 1px solid gray;box-sizing: border-box;top: 0;bottom: 0;left: 50%;z-index: -1;}#sk-container-id-21 div.sk-parallel-item {display: flex;flex-direction: column;z-index: 1;position: relative;background-color: white;}#sk-container-id-21 div.sk-parallel-item:first-child::after {align-self: flex-end;width: 50%;}#sk-container-id-21 div.sk-parallel-item:last-child::after {align-self: flex-start;width: 50%;}#sk-container-id-21 div.sk-parallel-item:only-child::after {width: 0;}#sk-container-id-21 div.sk-dashed-wrapped {border: 1px dashed gray;margin: 0 0.4em 0.5em 0.4em;box-sizing: border-box;padding-bottom: 0.4em;background-color: white;}#sk-container-id-21 div.sk-label label {font-family: monospace;font-weight: bold;display: inline-block;line-height: 1.2em;}#sk-container-id-21 div.sk-label-container {text-align: center;}#sk-container-id-21 div.sk-container {/* jupyter's `normalize.less` sets `[hidden] { display: none; }` but bootstrap.min.css set `[hidden] { display: none !important; }` so we also need the `!important` here to be able to override the default hidden behavior on the sphinx rendered scikit-learn.org. See: https://github.com/scikit-learn/scikit-learn/issues/21755 */display: inline-block !important;position: relative;}#sk-container-id-21 div.sk-text-repr-fallback {display: none;}</style><div id=\"sk-container-id-21\" class=\"sk-top-container\"><div class=\"sk-text-repr-fallback\"><pre>LGBMClassifier(bagging_fraction=0.4003975536156305, bagging_freq=3,\n",
       "               feature_fraction=0.4109969027768354,\n",
       "               lambda_l1=4.75261507145719e-06, lambda_l2=0.011742802261727603,\n",
       "               max_depth=655, min_child_samples=11, num_leaves=241,\n",
       "               random_state=42, scalers=&#x27;minmax&#x27;)</pre><b>In a Jupyter environment, please rerun this cell to show the HTML representation or trust the notebook. <br />On GitHub, the HTML representation is unable to render, please try loading this page with nbviewer.org.</b></div><div class=\"sk-container\" hidden><div class=\"sk-item\"><div class=\"sk-estimator sk-toggleable\"><input class=\"sk-toggleable__control sk-hidden--visually\" id=\"sk-estimator-id-37\" type=\"checkbox\" checked><label for=\"sk-estimator-id-37\" class=\"sk-toggleable__label sk-toggleable__label-arrow\">LGBMClassifier</label><div class=\"sk-toggleable__content\"><pre>LGBMClassifier(bagging_fraction=0.4003975536156305, bagging_freq=3,\n",
       "               feature_fraction=0.4109969027768354,\n",
       "               lambda_l1=4.75261507145719e-06, lambda_l2=0.011742802261727603,\n",
       "               max_depth=655, min_child_samples=11, num_leaves=241,\n",
       "               random_state=42, scalers=&#x27;minmax&#x27;)</pre></div></div></div></div></div>"
      ],
      "text/plain": [
       "LGBMClassifier(bagging_fraction=0.4003975536156305, bagging_freq=3,\n",
       "               feature_fraction=0.4109969027768354,\n",
       "               lambda_l1=4.75261507145719e-06, lambda_l2=0.011742802261727603,\n",
       "               max_depth=655, min_child_samples=11, num_leaves=241,\n",
       "               random_state=42, scalers='minmax')"
      ]
     },
     "execution_count": 290,
     "metadata": {},
     "output_type": "execute_result"
    }
   ],
   "source": [
    "gbm_opt.fit(X_transform,y)"
   ]
  },
  {
   "cell_type": "code",
   "execution_count": 291,
   "id": "d587ef0a",
   "metadata": {},
   "outputs": [],
   "source": [
    "y_pred = gbm_opt.predict(X_transform_test)"
   ]
  },
  {
   "cell_type": "code",
   "execution_count": 292,
   "id": "69112598",
   "metadata": {},
   "outputs": [
    {
     "name": "stdout",
     "output_type": "stream",
     "text": [
      "              precision    recall  f1-score   support\n",
      "\n",
      "        MILD       0.67      0.74      0.70        42\n",
      "      SEVERE       0.39      0.32      0.35        22\n",
      "\n",
      "    accuracy                           0.59        64\n",
      "   macro avg       0.53      0.53      0.53        64\n",
      "weighted avg       0.58      0.59      0.58        64\n",
      "\n"
     ]
    }
   ],
   "source": [
    "print(classification_report(y_test, y_pred))"
   ]
  },
  {
   "cell_type": "markdown",
   "id": "a61347a5",
   "metadata": {},
   "source": [
    "### Testing other algorithms "
   ]
  },
  {
   "cell_type": "code",
   "execution_count": 233,
   "id": "6215f6f8",
   "metadata": {},
   "outputs": [],
   "source": [
    "X_test, y_test = test_mod.drop(\"Group\", axis=1), test_mod[\"Group\"]\n",
    "X, y = train_mod.drop(\"Group\", axis=1), train_mod[\"Group\"]"
   ]
  },
  {
   "cell_type": "markdown",
   "id": "246eb406",
   "metadata": {},
   "source": [
    "###### Get most important features from boruta"
   ]
  },
  {
   "cell_type": "code",
   "execution_count": 235,
   "id": "7a49642c",
   "metadata": {
    "scrolled": true
   },
   "outputs": [
    {
     "name": "stdout",
     "output_type": "stream",
     "text": [
      "Iteration: \t1 / 100\n",
      "Confirmed: \t0\n",
      "Tentative: \t635\n",
      "Rejected: \t0\n",
      "Iteration: \t2 / 100\n",
      "Confirmed: \t0\n",
      "Tentative: \t635\n",
      "Rejected: \t0\n",
      "Iteration: \t3 / 100\n",
      "Confirmed: \t0\n",
      "Tentative: \t635\n",
      "Rejected: \t0\n",
      "Iteration: \t4 / 100\n",
      "Confirmed: \t0\n",
      "Tentative: \t635\n",
      "Rejected: \t0\n",
      "Iteration: \t5 / 100\n",
      "Confirmed: \t0\n",
      "Tentative: \t635\n",
      "Rejected: \t0\n",
      "Iteration: \t6 / 100\n",
      "Confirmed: \t0\n",
      "Tentative: \t635\n",
      "Rejected: \t0\n",
      "Iteration: \t7 / 100\n",
      "Confirmed: \t0\n",
      "Tentative: \t635\n",
      "Rejected: \t0\n",
      "Iteration: \t8 / 100\n",
      "Confirmed: \t0\n",
      "Tentative: \t50\n",
      "Rejected: \t585\n",
      "Iteration: \t9 / 100\n",
      "Confirmed: \t10\n",
      "Tentative: \t40\n",
      "Rejected: \t585\n",
      "Iteration: \t10 / 100\n",
      "Confirmed: \t10\n",
      "Tentative: \t40\n",
      "Rejected: \t585\n",
      "Iteration: \t11 / 100\n",
      "Confirmed: \t10\n",
      "Tentative: \t40\n",
      "Rejected: \t585\n",
      "Iteration: \t12 / 100\n",
      "Confirmed: \t12\n",
      "Tentative: \t32\n",
      "Rejected: \t591\n",
      "Iteration: \t13 / 100\n",
      "Confirmed: \t12\n",
      "Tentative: \t32\n",
      "Rejected: \t591\n",
      "Iteration: \t14 / 100\n",
      "Confirmed: \t12\n",
      "Tentative: \t32\n",
      "Rejected: \t591\n",
      "Iteration: \t15 / 100\n",
      "Confirmed: \t12\n",
      "Tentative: \t32\n",
      "Rejected: \t591\n",
      "Iteration: \t16 / 100\n",
      "Confirmed: \t16\n",
      "Tentative: \t28\n",
      "Rejected: \t591\n",
      "Iteration: \t17 / 100\n",
      "Confirmed: \t16\n",
      "Tentative: \t28\n",
      "Rejected: \t591\n",
      "Iteration: \t18 / 100\n",
      "Confirmed: \t16\n",
      "Tentative: \t28\n",
      "Rejected: \t591\n",
      "Iteration: \t19 / 100\n",
      "Confirmed: \t18\n",
      "Tentative: \t26\n",
      "Rejected: \t591\n",
      "Iteration: \t20 / 100\n",
      "Confirmed: \t18\n",
      "Tentative: \t26\n",
      "Rejected: \t591\n",
      "Iteration: \t21 / 100\n",
      "Confirmed: \t18\n",
      "Tentative: \t26\n",
      "Rejected: \t591\n",
      "Iteration: \t22 / 100\n",
      "Confirmed: \t18\n",
      "Tentative: \t26\n",
      "Rejected: \t591\n",
      "Iteration: \t23 / 100\n",
      "Confirmed: \t18\n",
      "Tentative: \t26\n",
      "Rejected: \t591\n",
      "Iteration: \t24 / 100\n",
      "Confirmed: \t18\n",
      "Tentative: \t26\n",
      "Rejected: \t591\n",
      "Iteration: \t25 / 100\n",
      "Confirmed: \t18\n",
      "Tentative: \t26\n",
      "Rejected: \t591\n",
      "Iteration: \t26 / 100\n",
      "Confirmed: \t20\n",
      "Tentative: \t24\n",
      "Rejected: \t591\n",
      "Iteration: \t27 / 100\n",
      "Confirmed: \t20\n",
      "Tentative: \t24\n",
      "Rejected: \t591\n",
      "Iteration: \t28 / 100\n",
      "Confirmed: \t20\n",
      "Tentative: \t24\n",
      "Rejected: \t591\n",
      "Iteration: \t29 / 100\n",
      "Confirmed: \t22\n",
      "Tentative: \t22\n",
      "Rejected: \t591\n",
      "Iteration: \t30 / 100\n",
      "Confirmed: \t22\n",
      "Tentative: \t22\n",
      "Rejected: \t591\n",
      "Iteration: \t31 / 100\n",
      "Confirmed: \t22\n",
      "Tentative: \t22\n",
      "Rejected: \t591\n",
      "Iteration: \t32 / 100\n",
      "Confirmed: \t23\n",
      "Tentative: \t21\n",
      "Rejected: \t591\n",
      "Iteration: \t33 / 100\n",
      "Confirmed: \t23\n",
      "Tentative: \t21\n",
      "Rejected: \t591\n",
      "Iteration: \t34 / 100\n",
      "Confirmed: \t23\n",
      "Tentative: \t21\n",
      "Rejected: \t591\n",
      "Iteration: \t35 / 100\n",
      "Confirmed: \t23\n",
      "Tentative: \t21\n",
      "Rejected: \t591\n",
      "Iteration: \t36 / 100\n",
      "Confirmed: \t23\n",
      "Tentative: \t21\n",
      "Rejected: \t591\n",
      "Iteration: \t37 / 100\n",
      "Confirmed: \t23\n",
      "Tentative: \t21\n",
      "Rejected: \t591\n",
      "Iteration: \t38 / 100\n",
      "Confirmed: \t23\n",
      "Tentative: \t21\n",
      "Rejected: \t591\n",
      "Iteration: \t39 / 100\n",
      "Confirmed: \t23\n",
      "Tentative: \t21\n",
      "Rejected: \t591\n",
      "Iteration: \t40 / 100\n",
      "Confirmed: \t23\n",
      "Tentative: \t21\n",
      "Rejected: \t591\n",
      "Iteration: \t41 / 100\n",
      "Confirmed: \t23\n",
      "Tentative: \t21\n",
      "Rejected: \t591\n",
      "Iteration: \t42 / 100\n",
      "Confirmed: \t23\n",
      "Tentative: \t21\n",
      "Rejected: \t591\n",
      "Iteration: \t43 / 100\n",
      "Confirmed: \t24\n",
      "Tentative: \t20\n",
      "Rejected: \t591\n",
      "Iteration: \t44 / 100\n",
      "Confirmed: \t24\n",
      "Tentative: \t20\n",
      "Rejected: \t591\n",
      "Iteration: \t45 / 100\n",
      "Confirmed: \t24\n",
      "Tentative: \t20\n",
      "Rejected: \t591\n",
      "Iteration: \t46 / 100\n",
      "Confirmed: \t24\n",
      "Tentative: \t20\n",
      "Rejected: \t591\n",
      "Iteration: \t47 / 100\n",
      "Confirmed: \t24\n",
      "Tentative: \t20\n",
      "Rejected: \t591\n",
      "Iteration: \t48 / 100\n",
      "Confirmed: \t24\n",
      "Tentative: \t20\n",
      "Rejected: \t591\n",
      "Iteration: \t49 / 100\n",
      "Confirmed: \t24\n",
      "Tentative: \t20\n",
      "Rejected: \t591\n",
      "Iteration: \t50 / 100\n",
      "Confirmed: \t24\n",
      "Tentative: \t20\n",
      "Rejected: \t591\n",
      "Iteration: \t51 / 100\n",
      "Confirmed: \t24\n",
      "Tentative: \t18\n",
      "Rejected: \t593\n",
      "Iteration: \t52 / 100\n",
      "Confirmed: \t24\n",
      "Tentative: \t18\n",
      "Rejected: \t593\n",
      "Iteration: \t53 / 100\n",
      "Confirmed: \t24\n",
      "Tentative: \t18\n",
      "Rejected: \t593\n",
      "Iteration: \t54 / 100\n",
      "Confirmed: \t24\n",
      "Tentative: \t18\n",
      "Rejected: \t593\n",
      "Iteration: \t55 / 100\n",
      "Confirmed: \t24\n",
      "Tentative: \t18\n",
      "Rejected: \t593\n",
      "Iteration: \t56 / 100\n",
      "Confirmed: \t24\n",
      "Tentative: \t18\n",
      "Rejected: \t593\n",
      "Iteration: \t57 / 100\n",
      "Confirmed: \t24\n",
      "Tentative: \t18\n",
      "Rejected: \t593\n",
      "Iteration: \t58 / 100\n",
      "Confirmed: \t24\n",
      "Tentative: \t18\n",
      "Rejected: \t593\n",
      "Iteration: \t59 / 100\n",
      "Confirmed: \t24\n",
      "Tentative: \t18\n",
      "Rejected: \t593\n",
      "Iteration: \t60 / 100\n",
      "Confirmed: \t24\n",
      "Tentative: \t18\n",
      "Rejected: \t593\n",
      "Iteration: \t61 / 100\n",
      "Confirmed: \t24\n",
      "Tentative: \t18\n",
      "Rejected: \t593\n",
      "Iteration: \t62 / 100\n",
      "Confirmed: \t24\n",
      "Tentative: \t18\n",
      "Rejected: \t593\n",
      "Iteration: \t63 / 100\n",
      "Confirmed: \t24\n",
      "Tentative: \t18\n",
      "Rejected: \t593\n",
      "Iteration: \t64 / 100\n",
      "Confirmed: \t24\n",
      "Tentative: \t18\n",
      "Rejected: \t593\n",
      "Iteration: \t65 / 100\n",
      "Confirmed: \t24\n",
      "Tentative: \t18\n",
      "Rejected: \t593\n",
      "Iteration: \t66 / 100\n",
      "Confirmed: \t24\n",
      "Tentative: \t18\n",
      "Rejected: \t593\n",
      "Iteration: \t67 / 100\n",
      "Confirmed: \t24\n",
      "Tentative: \t18\n",
      "Rejected: \t593\n",
      "Iteration: \t68 / 100\n",
      "Confirmed: \t24\n",
      "Tentative: \t18\n",
      "Rejected: \t593\n",
      "Iteration: \t69 / 100\n",
      "Confirmed: \t24\n",
      "Tentative: \t18\n",
      "Rejected: \t593\n",
      "Iteration: \t70 / 100\n",
      "Confirmed: \t24\n",
      "Tentative: \t17\n",
      "Rejected: \t594\n",
      "Iteration: \t71 / 100\n",
      "Confirmed: \t24\n",
      "Tentative: \t17\n",
      "Rejected: \t594\n",
      "Iteration: \t72 / 100\n",
      "Confirmed: \t25\n",
      "Tentative: \t16\n",
      "Rejected: \t594\n",
      "Iteration: \t73 / 100\n",
      "Confirmed: \t25\n",
      "Tentative: \t16\n",
      "Rejected: \t594\n",
      "Iteration: \t74 / 100\n",
      "Confirmed: \t25\n",
      "Tentative: \t16\n",
      "Rejected: \t594\n",
      "Iteration: \t75 / 100\n",
      "Confirmed: \t25\n",
      "Tentative: \t16\n",
      "Rejected: \t594\n",
      "Iteration: \t76 / 100\n",
      "Confirmed: \t25\n",
      "Tentative: \t16\n",
      "Rejected: \t594\n",
      "Iteration: \t77 / 100\n",
      "Confirmed: \t25\n",
      "Tentative: \t16\n",
      "Rejected: \t594\n",
      "Iteration: \t78 / 100\n",
      "Confirmed: \t25\n",
      "Tentative: \t16\n",
      "Rejected: \t594\n",
      "Iteration: \t79 / 100\n",
      "Confirmed: \t25\n",
      "Tentative: \t16\n",
      "Rejected: \t594\n",
      "Iteration: \t80 / 100\n",
      "Confirmed: \t25\n",
      "Tentative: \t16\n",
      "Rejected: \t594\n",
      "Iteration: \t81 / 100\n",
      "Confirmed: \t25\n",
      "Tentative: \t16\n",
      "Rejected: \t594\n",
      "Iteration: \t82 / 100\n",
      "Confirmed: \t25\n",
      "Tentative: \t16\n",
      "Rejected: \t594\n",
      "Iteration: \t83 / 100\n",
      "Confirmed: \t25\n",
      "Tentative: \t16\n",
      "Rejected: \t594\n",
      "Iteration: \t84 / 100\n",
      "Confirmed: \t25\n",
      "Tentative: \t16\n",
      "Rejected: \t594\n",
      "Iteration: \t85 / 100\n",
      "Confirmed: \t26\n",
      "Tentative: \t15\n",
      "Rejected: \t594\n",
      "Iteration: \t86 / 100\n",
      "Confirmed: \t26\n",
      "Tentative: \t15\n",
      "Rejected: \t594\n",
      "Iteration: \t87 / 100\n",
      "Confirmed: \t26\n",
      "Tentative: \t15\n",
      "Rejected: \t594\n",
      "Iteration: \t88 / 100\n",
      "Confirmed: \t26\n",
      "Tentative: \t15\n",
      "Rejected: \t594\n",
      "Iteration: \t89 / 100\n",
      "Confirmed: \t26\n",
      "Tentative: \t15\n",
      "Rejected: \t594\n",
      "Iteration: \t90 / 100\n",
      "Confirmed: \t26\n",
      "Tentative: \t15\n",
      "Rejected: \t594\n",
      "Iteration: \t91 / 100\n",
      "Confirmed: \t26\n",
      "Tentative: \t15\n",
      "Rejected: \t594\n",
      "Iteration: \t92 / 100\n",
      "Confirmed: \t26\n",
      "Tentative: \t15\n",
      "Rejected: \t594\n",
      "Iteration: \t93 / 100\n",
      "Confirmed: \t26\n",
      "Tentative: \t15\n",
      "Rejected: \t594\n",
      "Iteration: \t94 / 100\n",
      "Confirmed: \t26\n",
      "Tentative: \t15\n",
      "Rejected: \t594\n",
      "Iteration: \t95 / 100\n",
      "Confirmed: \t27\n",
      "Tentative: \t14\n",
      "Rejected: \t594\n",
      "Iteration: \t96 / 100\n",
      "Confirmed: \t27\n",
      "Tentative: \t14\n",
      "Rejected: \t594\n",
      "Iteration: \t97 / 100\n",
      "Confirmed: \t27\n",
      "Tentative: \t14\n",
      "Rejected: \t594\n",
      "Iteration: \t98 / 100\n",
      "Confirmed: \t27\n",
      "Tentative: \t14\n",
      "Rejected: \t594\n",
      "Iteration: \t99 / 100\n",
      "Confirmed: \t27\n",
      "Tentative: \t14\n",
      "Rejected: \t594\n",
      "\n",
      "\n",
      "BorutaPy finished running.\n",
      "\n",
      "Iteration: \t100 / 100\n",
      "Confirmed: \t27\n",
      "Tentative: \t11\n",
      "Rejected: \t594\n",
      "Number of selected features:  27\n"
     ]
    }
   ],
   "source": [
    "# define random forest classifier, with utilising all cores and\n",
    "# sampling in proportion to y labels\n",
    "rf = RandomForestClassifier(n_jobs=-1, class_weight='balanced', max_depth=5)\n",
    "# define Boruta feature selection method\n",
    "feat_selector = BorutaPy(rf, n_estimators='auto', verbose=2, random_state=SEED, )\n",
    "feat_selector.fit(np.array(X), y)\n",
    "print(\"Number of selected features: \", feat_selector.n_features_)"
   ]
  },
  {
   "cell_type": "code",
   "execution_count": 236,
   "id": "5be56801",
   "metadata": {},
   "outputs": [],
   "source": [
    "# Filter most importante features\n",
    "X_transform = feat_selector.transform(np.array(X))\n",
    "X_transform_test = feat_selector.transform(np.array(X_test))"
   ]
  },
  {
   "cell_type": "code",
   "execution_count": 237,
   "id": "10216836",
   "metadata": {},
   "outputs": [],
   "source": [
    "gbc = GradientBoostingClassifier(random_state = SEED)"
   ]
  },
  {
   "cell_type": "code",
   "execution_count": 238,
   "id": "9c4988bc",
   "metadata": {},
   "outputs": [],
   "source": [
    "parameters = {'max_depth':list(range(1,100,1)), 'subsample':list(np.arange(0.05,1,0.05)),\n",
    "             'learning_rate':list(np.arange(0.05,1,0.05)), 'n_estimators':list(range(50,500,25)), }"
   ]
  },
  {
   "cell_type": "code",
   "execution_count": 239,
   "id": "e50d759d",
   "metadata": {},
   "outputs": [],
   "source": [
    "rscv_gbc = RandomizedSearchCV(gbc, parameters, scoring=metric_scorer, n_jobs = -1, verbose = 4, n_iter = 200)"
   ]
  },
  {
   "cell_type": "code",
   "execution_count": 240,
   "id": "2cdc42f1",
   "metadata": {},
   "outputs": [
    {
     "name": "stdout",
     "output_type": "stream",
     "text": [
      "Fitting 5 folds for each of 200 candidates, totalling 1000 fits\n"
     ]
    }
   ],
   "source": [
    "scores_gbc = rscv_gbc.fit(X,y)"
   ]
  },
  {
   "cell_type": "code",
   "execution_count": 241,
   "id": "c8625829",
   "metadata": {},
   "outputs": [
    {
     "data": {
      "text/plain": [
       "0.8336363636363636"
      ]
     },
     "execution_count": 241,
     "metadata": {},
     "output_type": "execute_result"
    }
   ],
   "source": [
    "scores_gbc.best_score_"
   ]
  },
  {
   "cell_type": "code",
   "execution_count": 245,
   "id": "16b60ac0",
   "metadata": {
    "scrolled": true
   },
   "outputs": [
    {
     "name": "stdout",
     "output_type": "stream",
     "text": [
      "              precision    recall  f1-score   support\n",
      "\n",
      "        MILD       0.65      0.57      0.61        42\n",
      "      SEVERE       0.33      0.41      0.37        22\n",
      "\n",
      "    accuracy                           0.52        64\n",
      "   macro avg       0.49      0.49      0.49        64\n",
      "weighted avg       0.54      0.52      0.53        64\n",
      "\n"
     ]
    }
   ],
   "source": [
    "y_pred = scores_gbc.predict(X_test)\n",
    "print(classification_report(y_test, y_pred))"
   ]
  },
  {
   "cell_type": "code",
   "execution_count": 246,
   "id": "fea1723a",
   "metadata": {},
   "outputs": [
    {
     "name": "stdout",
     "output_type": "stream",
     "text": [
      "Fitting 5 folds for each of 200 candidates, totalling 1000 fits\n"
     ]
    }
   ],
   "source": [
    "scores_gbc_boruta = rscv_gbc.fit(X_transform, y)"
   ]
  },
  {
   "cell_type": "code",
   "execution_count": 247,
   "id": "9086544f",
   "metadata": {},
   "outputs": [
    {
     "data": {
      "text/plain": [
       "0.8705681818181817"
      ]
     },
     "execution_count": 247,
     "metadata": {},
     "output_type": "execute_result"
    }
   ],
   "source": [
    "scores_gbc_boruta.best_score_"
   ]
  },
  {
   "cell_type": "code",
   "execution_count": 248,
   "id": "f37a43e1",
   "metadata": {},
   "outputs": [
    {
     "data": {
      "text/plain": [
       "{'subsample': 0.9000000000000001,\n",
       " 'n_estimators': 200,\n",
       " 'max_depth': 6,\n",
       " 'learning_rate': 0.2}"
      ]
     },
     "execution_count": 248,
     "metadata": {},
     "output_type": "execute_result"
    }
   ],
   "source": [
    "scores_gbc_boruta.best_params_"
   ]
  },
  {
   "cell_type": "code",
   "execution_count": 250,
   "id": "cfa9a9d3",
   "metadata": {},
   "outputs": [
    {
     "name": "stdout",
     "output_type": "stream",
     "text": [
      "              precision    recall  f1-score   support\n",
      "\n",
      "        MILD       0.63      0.74      0.68        42\n",
      "      SEVERE       0.27      0.18      0.22        22\n",
      "\n",
      "    accuracy                           0.55        64\n",
      "   macro avg       0.45      0.46      0.45        64\n",
      "weighted avg       0.51      0.55      0.52        64\n",
      "\n"
     ]
    }
   ],
   "source": [
    "y_pred = scores_gbc_boruta.predict(X_transform_test)\n",
    "print(classification_report(y_test, y_pred))"
   ]
  },
  {
   "cell_type": "code",
   "execution_count": 251,
   "id": "e2e220c3",
   "metadata": {},
   "outputs": [],
   "source": [
    "lgbm = lgb.LGBMClassifier(random_state=SEED)\n",
    "parameters = {'num_leaves':list(range(20,100,5)), 'min_child_samples':list(range(5,30,5)),'max_depth':list(range(-1,20,1)),\n",
    "             'learning_rate':list(np.arange(0.05,1,0.05)),'reg_alpha':list(np.arange(0,0.6, 0.1))}\n",
    "rscv_lgbm = RandomizedSearchCV(lgbm, parameters, scoring=metric_scorer, n_jobs = -1, verbose = 4, n_iter = 200)"
   ]
  },
  {
   "cell_type": "code",
   "execution_count": 259,
   "id": "e96efca3",
   "metadata": {},
   "outputs": [
    {
     "name": "stdout",
     "output_type": "stream",
     "text": [
      "Fitting 5 folds for each of 200 candidates, totalling 1000 fits\n"
     ]
    },
    {
     "data": {
      "text/html": [
       "<div>\n",
       "<style scoped>\n",
       "    .dataframe tbody tr th:only-of-type {\n",
       "        vertical-align: middle;\n",
       "    }\n",
       "\n",
       "    .dataframe tbody tr th {\n",
       "        vertical-align: top;\n",
       "    }\n",
       "\n",
       "    .dataframe thead th {\n",
       "        text-align: right;\n",
       "    }\n",
       "</style>\n",
       "<table border=\"1\" class=\"dataframe\">\n",
       "  <thead>\n",
       "    <tr style=\"text-align: right;\">\n",
       "      <th></th>\n",
       "      <th>Freq.1198.05707939985</th>\n",
       "      <th>Freq.1204.07148226988</th>\n",
       "      <th>Freq.1211.25531677913</th>\n",
       "      <th>Freq.1217.79534957812</th>\n",
       "      <th>Freq.1223.24180676615</th>\n",
       "      <th>Freq.1234.42874922858</th>\n",
       "      <th>Freq.1239.04873179697</th>\n",
       "      <th>Freq.1243.98934968702</th>\n",
       "      <th>Freq.1249.10239635402</th>\n",
       "      <th>Freq.1254.7097579948</th>\n",
       "      <th>...</th>\n",
       "      <th>Freq.8812.07967315325</th>\n",
       "      <th>Freq.8943.76551923189</th>\n",
       "      <th>Freq.9058.85825530971</th>\n",
       "      <th>Freq.9098.58510797401</th>\n",
       "      <th>Freq.9437.74469644083</th>\n",
       "      <th>Freq.9593.90405666006</th>\n",
       "      <th>Freq.9799.842201746</th>\n",
       "      <th>Freq.10432.4853106264</th>\n",
       "      <th>Freq.11006.9514551194</th>\n",
       "      <th>Freq.11161.31855876</th>\n",
       "    </tr>\n",
       "    <tr>\n",
       "      <th>ID</th>\n",
       "      <th></th>\n",
       "      <th></th>\n",
       "      <th></th>\n",
       "      <th></th>\n",
       "      <th></th>\n",
       "      <th></th>\n",
       "      <th></th>\n",
       "      <th></th>\n",
       "      <th></th>\n",
       "      <th></th>\n",
       "      <th></th>\n",
       "      <th></th>\n",
       "      <th></th>\n",
       "      <th></th>\n",
       "      <th></th>\n",
       "      <th></th>\n",
       "      <th></th>\n",
       "      <th></th>\n",
       "      <th></th>\n",
       "      <th></th>\n",
       "      <th></th>\n",
       "    </tr>\n",
       "  </thead>\n",
       "  <tbody>\n",
       "    <tr>\n",
       "      <th>1</th>\n",
       "      <td>0.000319</td>\n",
       "      <td>0.000416</td>\n",
       "      <td>0.000077</td>\n",
       "      <td>4.034140e-05</td>\n",
       "      <td>0.000089</td>\n",
       "      <td>0.000282</td>\n",
       "      <td>0.000004</td>\n",
       "      <td>0.000130</td>\n",
       "      <td>0.000288</td>\n",
       "      <td>0.000000e+00</td>\n",
       "      <td>...</td>\n",
       "      <td>0.000004</td>\n",
       "      <td>0.000017</td>\n",
       "      <td>0.000005</td>\n",
       "      <td>0.000020</td>\n",
       "      <td>0.000029</td>\n",
       "      <td>0.000037</td>\n",
       "      <td>0.000024</td>\n",
       "      <td>0.000016</td>\n",
       "      <td>0.000030</td>\n",
       "      <td>3.036588e-05</td>\n",
       "    </tr>\n",
       "    <tr>\n",
       "      <th>10</th>\n",
       "      <td>0.000000</td>\n",
       "      <td>0.000000</td>\n",
       "      <td>0.000021</td>\n",
       "      <td>1.064014e-03</td>\n",
       "      <td>0.000113</td>\n",
       "      <td>0.001591</td>\n",
       "      <td>0.016310</td>\n",
       "      <td>0.002330</td>\n",
       "      <td>0.000476</td>\n",
       "      <td>6.074661e-04</td>\n",
       "      <td>...</td>\n",
       "      <td>0.000000</td>\n",
       "      <td>0.000040</td>\n",
       "      <td>0.000010</td>\n",
       "      <td>0.000001</td>\n",
       "      <td>0.000005</td>\n",
       "      <td>0.000002</td>\n",
       "      <td>0.000052</td>\n",
       "      <td>0.000003</td>\n",
       "      <td>0.000155</td>\n",
       "      <td>1.095279e-06</td>\n",
       "    </tr>\n",
       "    <tr>\n",
       "      <th>100</th>\n",
       "      <td>0.000199</td>\n",
       "      <td>0.000006</td>\n",
       "      <td>0.000013</td>\n",
       "      <td>5.089552e-08</td>\n",
       "      <td>0.000087</td>\n",
       "      <td>0.000543</td>\n",
       "      <td>0.000231</td>\n",
       "      <td>0.000068</td>\n",
       "      <td>0.000018</td>\n",
       "      <td>1.286428e-04</td>\n",
       "      <td>...</td>\n",
       "      <td>0.000020</td>\n",
       "      <td>0.000009</td>\n",
       "      <td>0.000044</td>\n",
       "      <td>0.000012</td>\n",
       "      <td>0.000067</td>\n",
       "      <td>0.000207</td>\n",
       "      <td>0.000020</td>\n",
       "      <td>0.000027</td>\n",
       "      <td>0.000100</td>\n",
       "      <td>1.003297e-04</td>\n",
       "    </tr>\n",
       "    <tr>\n",
       "      <th>101</th>\n",
       "      <td>0.000196</td>\n",
       "      <td>0.000244</td>\n",
       "      <td>0.000069</td>\n",
       "      <td>4.874671e-05</td>\n",
       "      <td>0.000125</td>\n",
       "      <td>0.000353</td>\n",
       "      <td>0.000029</td>\n",
       "      <td>0.000125</td>\n",
       "      <td>0.000120</td>\n",
       "      <td>4.988436e-07</td>\n",
       "      <td>...</td>\n",
       "      <td>0.000027</td>\n",
       "      <td>0.000072</td>\n",
       "      <td>0.000051</td>\n",
       "      <td>0.000013</td>\n",
       "      <td>0.000061</td>\n",
       "      <td>0.000040</td>\n",
       "      <td>0.000008</td>\n",
       "      <td>0.000003</td>\n",
       "      <td>0.000055</td>\n",
       "      <td>2.944864e-05</td>\n",
       "    </tr>\n",
       "    <tr>\n",
       "      <th>105</th>\n",
       "      <td>0.000000</td>\n",
       "      <td>0.000000</td>\n",
       "      <td>0.000000</td>\n",
       "      <td>0.000000e+00</td>\n",
       "      <td>0.000000</td>\n",
       "      <td>0.000000</td>\n",
       "      <td>0.000000</td>\n",
       "      <td>0.000000</td>\n",
       "      <td>0.000000</td>\n",
       "      <td>0.000000e+00</td>\n",
       "      <td>...</td>\n",
       "      <td>0.000034</td>\n",
       "      <td>0.000027</td>\n",
       "      <td>0.000031</td>\n",
       "      <td>0.000014</td>\n",
       "      <td>0.000017</td>\n",
       "      <td>0.000028</td>\n",
       "      <td>0.000009</td>\n",
       "      <td>0.000012</td>\n",
       "      <td>0.000026</td>\n",
       "      <td>1.714090e-05</td>\n",
       "    </tr>\n",
       "    <tr>\n",
       "      <th>...</th>\n",
       "      <td>...</td>\n",
       "      <td>...</td>\n",
       "      <td>...</td>\n",
       "      <td>...</td>\n",
       "      <td>...</td>\n",
       "      <td>...</td>\n",
       "      <td>...</td>\n",
       "      <td>...</td>\n",
       "      <td>...</td>\n",
       "      <td>...</td>\n",
       "      <td>...</td>\n",
       "      <td>...</td>\n",
       "      <td>...</td>\n",
       "      <td>...</td>\n",
       "      <td>...</td>\n",
       "      <td>...</td>\n",
       "      <td>...</td>\n",
       "      <td>...</td>\n",
       "      <td>...</td>\n",
       "      <td>...</td>\n",
       "      <td>...</td>\n",
       "    </tr>\n",
       "    <tr>\n",
       "      <th>86</th>\n",
       "      <td>0.000010</td>\n",
       "      <td>0.000394</td>\n",
       "      <td>0.000042</td>\n",
       "      <td>1.213255e-04</td>\n",
       "      <td>0.000052</td>\n",
       "      <td>0.000586</td>\n",
       "      <td>0.014572</td>\n",
       "      <td>0.001462</td>\n",
       "      <td>0.000112</td>\n",
       "      <td>2.465139e-04</td>\n",
       "      <td>...</td>\n",
       "      <td>0.000006</td>\n",
       "      <td>0.000003</td>\n",
       "      <td>0.000005</td>\n",
       "      <td>0.000007</td>\n",
       "      <td>0.000003</td>\n",
       "      <td>0.000011</td>\n",
       "      <td>0.000003</td>\n",
       "      <td>0.000016</td>\n",
       "      <td>0.001243</td>\n",
       "      <td>6.332741e-08</td>\n",
       "    </tr>\n",
       "    <tr>\n",
       "      <th>87</th>\n",
       "      <td>0.000048</td>\n",
       "      <td>0.000095</td>\n",
       "      <td>0.000039</td>\n",
       "      <td>7.052825e-05</td>\n",
       "      <td>0.000100</td>\n",
       "      <td>0.000121</td>\n",
       "      <td>0.001347</td>\n",
       "      <td>0.000230</td>\n",
       "      <td>0.000061</td>\n",
       "      <td>6.719760e-05</td>\n",
       "      <td>...</td>\n",
       "      <td>0.000000</td>\n",
       "      <td>0.000000</td>\n",
       "      <td>0.000023</td>\n",
       "      <td>0.000054</td>\n",
       "      <td>0.000042</td>\n",
       "      <td>0.000016</td>\n",
       "      <td>0.000023</td>\n",
       "      <td>0.000006</td>\n",
       "      <td>0.000498</td>\n",
       "      <td>0.000000e+00</td>\n",
       "    </tr>\n",
       "    <tr>\n",
       "      <th>93</th>\n",
       "      <td>0.000000</td>\n",
       "      <td>0.000000</td>\n",
       "      <td>0.000000</td>\n",
       "      <td>0.000000e+00</td>\n",
       "      <td>0.000000</td>\n",
       "      <td>0.000000</td>\n",
       "      <td>0.000000</td>\n",
       "      <td>0.000000</td>\n",
       "      <td>0.000000</td>\n",
       "      <td>0.000000e+00</td>\n",
       "      <td>...</td>\n",
       "      <td>0.000004</td>\n",
       "      <td>0.000012</td>\n",
       "      <td>0.000016</td>\n",
       "      <td>0.000014</td>\n",
       "      <td>0.000062</td>\n",
       "      <td>0.000028</td>\n",
       "      <td>0.000025</td>\n",
       "      <td>0.000010</td>\n",
       "      <td>0.000178</td>\n",
       "      <td>9.164915e-05</td>\n",
       "    </tr>\n",
       "    <tr>\n",
       "      <th>94</th>\n",
       "      <td>0.000000</td>\n",
       "      <td>0.000000</td>\n",
       "      <td>0.000206</td>\n",
       "      <td>1.762211e-04</td>\n",
       "      <td>0.000221</td>\n",
       "      <td>0.000161</td>\n",
       "      <td>0.000160</td>\n",
       "      <td>0.000013</td>\n",
       "      <td>0.000284</td>\n",
       "      <td>1.165049e-04</td>\n",
       "      <td>...</td>\n",
       "      <td>0.000001</td>\n",
       "      <td>0.000006</td>\n",
       "      <td>0.000013</td>\n",
       "      <td>0.000013</td>\n",
       "      <td>0.000016</td>\n",
       "      <td>0.000026</td>\n",
       "      <td>0.000008</td>\n",
       "      <td>0.000025</td>\n",
       "      <td>0.000049</td>\n",
       "      <td>2.309093e-05</td>\n",
       "    </tr>\n",
       "    <tr>\n",
       "      <th>95</th>\n",
       "      <td>0.000000</td>\n",
       "      <td>0.000000</td>\n",
       "      <td>0.000048</td>\n",
       "      <td>6.551786e-05</td>\n",
       "      <td>0.000036</td>\n",
       "      <td>0.000065</td>\n",
       "      <td>0.000648</td>\n",
       "      <td>0.000094</td>\n",
       "      <td>0.000037</td>\n",
       "      <td>0.000000e+00</td>\n",
       "      <td>...</td>\n",
       "      <td>0.000006</td>\n",
       "      <td>0.000005</td>\n",
       "      <td>0.000010</td>\n",
       "      <td>0.000009</td>\n",
       "      <td>0.000008</td>\n",
       "      <td>0.000241</td>\n",
       "      <td>0.000007</td>\n",
       "      <td>0.000004</td>\n",
       "      <td>0.000008</td>\n",
       "      <td>2.367157e-05</td>\n",
       "    </tr>\n",
       "  </tbody>\n",
       "</table>\n",
       "<p>132 rows × 635 columns</p>\n",
       "</div>"
      ],
      "text/plain": [
       "     Freq.1198.05707939985  Freq.1204.07148226988  Freq.1211.25531677913  \\\n",
       "ID                                                                         \n",
       "1                 0.000319               0.000416               0.000077   \n",
       "10                0.000000               0.000000               0.000021   \n",
       "100               0.000199               0.000006               0.000013   \n",
       "101               0.000196               0.000244               0.000069   \n",
       "105               0.000000               0.000000               0.000000   \n",
       "..                     ...                    ...                    ...   \n",
       "86                0.000010               0.000394               0.000042   \n",
       "87                0.000048               0.000095               0.000039   \n",
       "93                0.000000               0.000000               0.000000   \n",
       "94                0.000000               0.000000               0.000206   \n",
       "95                0.000000               0.000000               0.000048   \n",
       "\n",
       "     Freq.1217.79534957812  Freq.1223.24180676615  Freq.1234.42874922858  \\\n",
       "ID                                                                         \n",
       "1             4.034140e-05               0.000089               0.000282   \n",
       "10            1.064014e-03               0.000113               0.001591   \n",
       "100           5.089552e-08               0.000087               0.000543   \n",
       "101           4.874671e-05               0.000125               0.000353   \n",
       "105           0.000000e+00               0.000000               0.000000   \n",
       "..                     ...                    ...                    ...   \n",
       "86            1.213255e-04               0.000052               0.000586   \n",
       "87            7.052825e-05               0.000100               0.000121   \n",
       "93            0.000000e+00               0.000000               0.000000   \n",
       "94            1.762211e-04               0.000221               0.000161   \n",
       "95            6.551786e-05               0.000036               0.000065   \n",
       "\n",
       "     Freq.1239.04873179697  Freq.1243.98934968702  Freq.1249.10239635402  \\\n",
       "ID                                                                         \n",
       "1                 0.000004               0.000130               0.000288   \n",
       "10                0.016310               0.002330               0.000476   \n",
       "100               0.000231               0.000068               0.000018   \n",
       "101               0.000029               0.000125               0.000120   \n",
       "105               0.000000               0.000000               0.000000   \n",
       "..                     ...                    ...                    ...   \n",
       "86                0.014572               0.001462               0.000112   \n",
       "87                0.001347               0.000230               0.000061   \n",
       "93                0.000000               0.000000               0.000000   \n",
       "94                0.000160               0.000013               0.000284   \n",
       "95                0.000648               0.000094               0.000037   \n",
       "\n",
       "     Freq.1254.7097579948  ...  Freq.8812.07967315325  Freq.8943.76551923189  \\\n",
       "ID                         ...                                                 \n",
       "1            0.000000e+00  ...               0.000004               0.000017   \n",
       "10           6.074661e-04  ...               0.000000               0.000040   \n",
       "100          1.286428e-04  ...               0.000020               0.000009   \n",
       "101          4.988436e-07  ...               0.000027               0.000072   \n",
       "105          0.000000e+00  ...               0.000034               0.000027   \n",
       "..                    ...  ...                    ...                    ...   \n",
       "86           2.465139e-04  ...               0.000006               0.000003   \n",
       "87           6.719760e-05  ...               0.000000               0.000000   \n",
       "93           0.000000e+00  ...               0.000004               0.000012   \n",
       "94           1.165049e-04  ...               0.000001               0.000006   \n",
       "95           0.000000e+00  ...               0.000006               0.000005   \n",
       "\n",
       "     Freq.9058.85825530971  Freq.9098.58510797401  Freq.9437.74469644083  \\\n",
       "ID                                                                         \n",
       "1                 0.000005               0.000020               0.000029   \n",
       "10                0.000010               0.000001               0.000005   \n",
       "100               0.000044               0.000012               0.000067   \n",
       "101               0.000051               0.000013               0.000061   \n",
       "105               0.000031               0.000014               0.000017   \n",
       "..                     ...                    ...                    ...   \n",
       "86                0.000005               0.000007               0.000003   \n",
       "87                0.000023               0.000054               0.000042   \n",
       "93                0.000016               0.000014               0.000062   \n",
       "94                0.000013               0.000013               0.000016   \n",
       "95                0.000010               0.000009               0.000008   \n",
       "\n",
       "     Freq.9593.90405666006  Freq.9799.842201746  Freq.10432.4853106264  \\\n",
       "ID                                                                       \n",
       "1                 0.000037             0.000024               0.000016   \n",
       "10                0.000002             0.000052               0.000003   \n",
       "100               0.000207             0.000020               0.000027   \n",
       "101               0.000040             0.000008               0.000003   \n",
       "105               0.000028             0.000009               0.000012   \n",
       "..                     ...                  ...                    ...   \n",
       "86                0.000011             0.000003               0.000016   \n",
       "87                0.000016             0.000023               0.000006   \n",
       "93                0.000028             0.000025               0.000010   \n",
       "94                0.000026             0.000008               0.000025   \n",
       "95                0.000241             0.000007               0.000004   \n",
       "\n",
       "     Freq.11006.9514551194  Freq.11161.31855876  \n",
       "ID                                               \n",
       "1                 0.000030         3.036588e-05  \n",
       "10                0.000155         1.095279e-06  \n",
       "100               0.000100         1.003297e-04  \n",
       "101               0.000055         2.944864e-05  \n",
       "105               0.000026         1.714090e-05  \n",
       "..                     ...                  ...  \n",
       "86                0.001243         6.332741e-08  \n",
       "87                0.000498         0.000000e+00  \n",
       "93                0.000178         9.164915e-05  \n",
       "94                0.000049         2.309093e-05  \n",
       "95                0.000008         2.367157e-05  \n",
       "\n",
       "[132 rows x 635 columns]"
      ]
     },
     "execution_count": 259,
     "metadata": {},
     "output_type": "execute_result"
    }
   ],
   "source": [
    "scores_lgbm = rscv_lgbm.fit(X, y)"
   ]
  },
  {
   "cell_type": "code",
   "execution_count": 253,
   "id": "2b6dece5",
   "metadata": {},
   "outputs": [
    {
     "data": {
      "text/plain": [
       "0.8252272727272727"
      ]
     },
     "execution_count": 253,
     "metadata": {},
     "output_type": "execute_result"
    }
   ],
   "source": [
    "scores_lgbm.best_score_"
   ]
  },
  {
   "cell_type": "code",
   "execution_count": 261,
   "id": "1abeb037",
   "metadata": {},
   "outputs": [
    {
     "data": {
      "text/plain": [
       "(64, 635)"
      ]
     },
     "execution_count": 261,
     "metadata": {},
     "output_type": "execute_result"
    }
   ],
   "source": [
    "X_test.shape"
   ]
  },
  {
   "cell_type": "code",
   "execution_count": 263,
   "id": "3e7516a5",
   "metadata": {},
   "outputs": [
    {
     "name": "stdout",
     "output_type": "stream",
     "text": [
      "              precision    recall  f1-score   support\n",
      "\n",
      "        MILD       0.67      0.67      0.67        42\n",
      "      SEVERE       0.36      0.36      0.36        22\n",
      "\n",
      "    accuracy                           0.56        64\n",
      "   macro avg       0.52      0.52      0.52        64\n",
      "weighted avg       0.56      0.56      0.56        64\n",
      "\n"
     ]
    }
   ],
   "source": [
    "y_pred = scores_lgbm.predict(X_test)\n",
    "print(classification_report(y_test, y_pred))"
   ]
  },
  {
   "cell_type": "code",
   "execution_count": 268,
   "id": "dcb411c3",
   "metadata": {},
   "outputs": [
    {
     "name": "stdout",
     "output_type": "stream",
     "text": [
      "Fitting 5 folds for each of 200 candidates, totalling 1000 fits\n"
     ]
    }
   ],
   "source": [
    "scores_lgbm_boruta = rscv_lgbm.fit(X_transform, y)"
   ]
  },
  {
   "cell_type": "code",
   "execution_count": 274,
   "id": "9cd37037",
   "metadata": {},
   "outputs": [
    {
     "data": {
      "text/plain": [
       "0.8743181818181818"
      ]
     },
     "execution_count": 274,
     "metadata": {},
     "output_type": "execute_result"
    }
   ],
   "source": [
    "scores_lgbm_boruta.best_score_"
   ]
  },
  {
   "cell_type": "code",
   "execution_count": 270,
   "id": "35b36aa9",
   "metadata": {},
   "outputs": [
    {
     "data": {
      "text/plain": [
       "(64, 27)"
      ]
     },
     "execution_count": 270,
     "metadata": {},
     "output_type": "execute_result"
    }
   ],
   "source": [
    "X_transform_test.shape"
   ]
  },
  {
   "cell_type": "code",
   "execution_count": 272,
   "id": "fdbc1bed",
   "metadata": {},
   "outputs": [
    {
     "name": "stdout",
     "output_type": "stream",
     "text": [
      "              precision    recall  f1-score   support\n",
      "\n",
      "        MILD       0.62      0.60      0.61        42\n",
      "      SEVERE       0.29      0.32      0.30        22\n",
      "\n",
      "    accuracy                           0.50        64\n",
      "   macro avg       0.46      0.46      0.46        64\n",
      "weighted avg       0.51      0.50      0.50        64\n",
      "\n"
     ]
    }
   ],
   "source": [
    "y_pred = scores_lgbm_boruta.predict(X_transform_test)\n",
    "print(classification_report(y_test, y_pred))"
   ]
  },
  {
   "cell_type": "code",
   "execution_count": null,
   "id": "c06d53dd",
   "metadata": {},
   "outputs": [],
   "source": [
    "svc_poly = svc.LGBMClassifier(random_state=SEED)\n",
    "parameters = {'num_leaves':list(range(20,100,5)), 'min_child_samples':list(range(5,30,5)),'max_depth':list(range(-1,20,1)),\n",
    "             'learning_rate':list(np.arange(0.05,1,0.05)),'reg_alpha':list(np.arange(0,0.6, 0.1))}\n",
    "rscv_lgbm = RandomizedSearchCV(lgbm, parameters, scoring=metric_scorer, n_jobs = -1, verbose = 4, n_iter = 200)"
   ]
  }
 ],
 "metadata": {
  "kernelspec": {
   "display_name": "Python 3 (ipykernel)",
   "language": "python",
   "name": "python3"
  },
  "language_info": {
   "codemirror_mode": {
    "name": "ipython",
    "version": 3
   },
   "file_extension": ".py",
   "mimetype": "text/x-python",
   "name": "python",
   "nbconvert_exporter": "python",
   "pygments_lexer": "ipython3",
   "version": "3.10.5"
  }
 },
 "nbformat": 4,
 "nbformat_minor": 5
}
