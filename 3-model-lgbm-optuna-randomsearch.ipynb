{
 "cells": [
  {
   "cell_type": "markdown",
   "id": "44a0ae40",
   "metadata": {},
   "source": [
    "# Notebook to Implement Model Training - LGBM"
   ]
  },
  {
   "cell_type": "markdown",
   "id": "e47ad424",
   "metadata": {},
   "source": [
    "---"
   ]
  },
  {
   "cell_type": "markdown",
   "id": "58aabb6a",
   "metadata": {},
   "source": [
    "### 1) Setup"
   ]
  },
  {
   "cell_type": "code",
   "execution_count": 34,
   "id": "e33b8c0f",
   "metadata": {},
   "outputs": [],
   "source": [
    "# Imports\n",
    "import pandas as pd\n",
    "import numpy as np\n",
    "import matplotlib.pyplot as plt\n",
    "import seaborn as sns\n",
    "import scipy\n",
    "\n",
    "from scipy import stats\n",
    "from scipy.stats import wilcoxon\n",
    "\n",
    "from sklearn.metrics import balanced_accuracy_score, make_scorer, confusion_matrix, classification_report\n",
    "from sklearn.model_selection import RepeatedKFold, cross_val_score, GridSearchCV, RandomizedSearchCV\n",
    "from sklearn.ensemble import GradientBoostingClassifier\n",
    "from sklearn.svm import SVC\n",
    "\n",
    "import optuna\n",
    "import lightgbm as lgb\n",
    "\n",
    "from sklearn.decomposition import PCA\n",
    "from sklearn.pipeline import Pipeline\n",
    "from sklearn.preprocessing import StandardScaler, MinMaxScaler, RobustScaler\n",
    "from sklearn.impute import SimpleImputer\n",
    "\n",
    "\n",
    "from sklearn.ensemble import RandomForestClassifier\n",
    "from boruta import BorutaPy"
   ]
  },
  {
   "cell_type": "code",
   "execution_count": 128,
   "id": "1028d840",
   "metadata": {},
   "outputs": [],
   "source": [
    "SEED = 42"
   ]
  },
  {
   "cell_type": "code",
   "execution_count": 129,
   "id": "c2e29d7c",
   "metadata": {},
   "outputs": [],
   "source": [
    "TRAIN_CLINICAL_FILENAME = \"train_set2.csv\"\n",
    "TEST_CLINICAL_FILENAME = \"test_set2.csv\""
   ]
  },
  {
   "cell_type": "markdown",
   "id": "84adf36c",
   "metadata": {},
   "source": [
    "---"
   ]
  },
  {
   "cell_type": "markdown",
   "id": "f9589ede",
   "metadata": {},
   "source": [
    "### 2) Read and Preprocess Data"
   ]
  },
  {
   "cell_type": "code",
   "execution_count": 151,
   "id": "a841c96a",
   "metadata": {},
   "outputs": [],
   "source": [
    "train = pd.read_csv(TRAIN_CLINICAL_FILENAME, sep=\",\")\n",
    "train = train.iloc[: , 1:]"
   ]
  },
  {
   "cell_type": "code",
   "execution_count": 152,
   "id": "dfe72ece",
   "metadata": {},
   "outputs": [
    {
     "data": {
      "text/plain": [
       "(132, 547)"
      ]
     },
     "execution_count": 152,
     "metadata": {},
     "output_type": "execute_result"
    }
   ],
   "source": [
    "train.shape"
   ]
  },
  {
   "cell_type": "code",
   "execution_count": 153,
   "id": "be41efe6",
   "metadata": {},
   "outputs": [
    {
     "data": {
      "text/html": [
       "<div>\n",
       "<style scoped>\n",
       "    .dataframe tbody tr th:only-of-type {\n",
       "        vertical-align: middle;\n",
       "    }\n",
       "\n",
       "    .dataframe tbody tr th {\n",
       "        vertical-align: top;\n",
       "    }\n",
       "\n",
       "    .dataframe thead th {\n",
       "        text-align: right;\n",
       "    }\n",
       "</style>\n",
       "<table border=\"1\" class=\"dataframe\">\n",
       "  <thead>\n",
       "    <tr style=\"text-align: right;\">\n",
       "      <th></th>\n",
       "      <th>Freq.1198.26559877594</th>\n",
       "      <th>Freq.1204.07148226988</th>\n",
       "      <th>Freq.1211.13623593336</th>\n",
       "      <th>Freq.1217.73683596229</th>\n",
       "      <th>Freq.1223.16958659828</th>\n",
       "      <th>Freq.1234.45996741201</th>\n",
       "      <th>Freq.1239.41043347512</th>\n",
       "      <th>Freq.1244.8230732813</th>\n",
       "      <th>Freq.1254.64710066874</th>\n",
       "      <th>Freq.1261.3335177338</th>\n",
       "      <th>...</th>\n",
       "      <th>Freq.9059.04784969308</th>\n",
       "      <th>Freq.9098.3102509794</th>\n",
       "      <th>Freq.9436.045671808</th>\n",
       "      <th>Freq.9594.78353572215</th>\n",
       "      <th>Freq.9799.45047805923</th>\n",
       "      <th>Freq.10431.4344537929</th>\n",
       "      <th>Freq.11007.128608859</th>\n",
       "      <th>Freq.11035.3843513154</th>\n",
       "      <th>Freq.11160.836582373</th>\n",
       "      <th>Group</th>\n",
       "    </tr>\n",
       "  </thead>\n",
       "  <tbody>\n",
       "    <tr>\n",
       "      <th>0</th>\n",
       "      <td>0.000251</td>\n",
       "      <td>0.000345</td>\n",
       "      <td>0.000074</td>\n",
       "      <td>3.541783e-05</td>\n",
       "      <td>0.000079</td>\n",
       "      <td>0.000245</td>\n",
       "      <td>0.000006</td>\n",
       "      <td>0.000061</td>\n",
       "      <td>0.000000e+00</td>\n",
       "      <td>0.000052</td>\n",
       "      <td>...</td>\n",
       "      <td>0.000018</td>\n",
       "      <td>0.000078</td>\n",
       "      <td>0.000070</td>\n",
       "      <td>0.000116</td>\n",
       "      <td>0.000078</td>\n",
       "      <td>0.000061</td>\n",
       "      <td>0.000102</td>\n",
       "      <td>0.000021</td>\n",
       "      <td>0.000100</td>\n",
       "      <td>MILD</td>\n",
       "    </tr>\n",
       "    <tr>\n",
       "      <th>1</th>\n",
       "      <td>0.000000</td>\n",
       "      <td>0.000000</td>\n",
       "      <td>0.000015</td>\n",
       "      <td>8.515219e-04</td>\n",
       "      <td>0.000107</td>\n",
       "      <td>0.001334</td>\n",
       "      <td>0.005597</td>\n",
       "      <td>0.001388</td>\n",
       "      <td>5.144433e-04</td>\n",
       "      <td>0.001511</td>\n",
       "      <td>...</td>\n",
       "      <td>0.000032</td>\n",
       "      <td>0.000004</td>\n",
       "      <td>0.000012</td>\n",
       "      <td>0.000007</td>\n",
       "      <td>0.000152</td>\n",
       "      <td>0.000008</td>\n",
       "      <td>0.000397</td>\n",
       "      <td>0.000112</td>\n",
       "      <td>0.000003</td>\n",
       "      <td>MILD</td>\n",
       "    </tr>\n",
       "    <tr>\n",
       "      <th>2</th>\n",
       "      <td>0.000210</td>\n",
       "      <td>0.000006</td>\n",
       "      <td>0.000018</td>\n",
       "      <td>8.649685e-09</td>\n",
       "      <td>0.000084</td>\n",
       "      <td>0.000487</td>\n",
       "      <td>0.000185</td>\n",
       "      <td>0.000092</td>\n",
       "      <td>1.294411e-04</td>\n",
       "      <td>0.000000</td>\n",
       "      <td>...</td>\n",
       "      <td>0.000119</td>\n",
       "      <td>0.000052</td>\n",
       "      <td>0.000205</td>\n",
       "      <td>0.000420</td>\n",
       "      <td>0.000060</td>\n",
       "      <td>0.000096</td>\n",
       "      <td>0.000243</td>\n",
       "      <td>0.000036</td>\n",
       "      <td>0.000253</td>\n",
       "      <td>MILD</td>\n",
       "    </tr>\n",
       "    <tr>\n",
       "      <th>3</th>\n",
       "      <td>0.000171</td>\n",
       "      <td>0.000233</td>\n",
       "      <td>0.000076</td>\n",
       "      <td>4.854921e-05</td>\n",
       "      <td>0.000122</td>\n",
       "      <td>0.000333</td>\n",
       "      <td>0.000038</td>\n",
       "      <td>0.000075</td>\n",
       "      <td>1.764229e-07</td>\n",
       "      <td>0.000064</td>\n",
       "      <td>...</td>\n",
       "      <td>0.000134</td>\n",
       "      <td>0.000038</td>\n",
       "      <td>0.000153</td>\n",
       "      <td>0.000124</td>\n",
       "      <td>0.000026</td>\n",
       "      <td>0.000012</td>\n",
       "      <td>0.000147</td>\n",
       "      <td>0.000052</td>\n",
       "      <td>0.000086</td>\n",
       "      <td>MILD</td>\n",
       "    </tr>\n",
       "    <tr>\n",
       "      <th>4</th>\n",
       "      <td>0.000000</td>\n",
       "      <td>0.000000</td>\n",
       "      <td>0.000000</td>\n",
       "      <td>0.000000e+00</td>\n",
       "      <td>0.000000</td>\n",
       "      <td>0.000000</td>\n",
       "      <td>0.000000</td>\n",
       "      <td>0.000000</td>\n",
       "      <td>0.000000e+00</td>\n",
       "      <td>0.000000</td>\n",
       "      <td>...</td>\n",
       "      <td>0.000078</td>\n",
       "      <td>0.000074</td>\n",
       "      <td>0.000027</td>\n",
       "      <td>0.000079</td>\n",
       "      <td>0.000018</td>\n",
       "      <td>0.000044</td>\n",
       "      <td>0.000074</td>\n",
       "      <td>0.000042</td>\n",
       "      <td>0.000040</td>\n",
       "      <td>MILD</td>\n",
       "    </tr>\n",
       "  </tbody>\n",
       "</table>\n",
       "<p>5 rows × 547 columns</p>\n",
       "</div>"
      ],
      "text/plain": [
       "   Freq.1198.26559877594  Freq.1204.07148226988  Freq.1211.13623593336  \\\n",
       "0               0.000251               0.000345               0.000074   \n",
       "1               0.000000               0.000000               0.000015   \n",
       "2               0.000210               0.000006               0.000018   \n",
       "3               0.000171               0.000233               0.000076   \n",
       "4               0.000000               0.000000               0.000000   \n",
       "\n",
       "   Freq.1217.73683596229  Freq.1223.16958659828  Freq.1234.45996741201  \\\n",
       "0           3.541783e-05               0.000079               0.000245   \n",
       "1           8.515219e-04               0.000107               0.001334   \n",
       "2           8.649685e-09               0.000084               0.000487   \n",
       "3           4.854921e-05               0.000122               0.000333   \n",
       "4           0.000000e+00               0.000000               0.000000   \n",
       "\n",
       "   Freq.1239.41043347512  Freq.1244.8230732813  Freq.1254.64710066874  \\\n",
       "0               0.000006              0.000061           0.000000e+00   \n",
       "1               0.005597              0.001388           5.144433e-04   \n",
       "2               0.000185              0.000092           1.294411e-04   \n",
       "3               0.000038              0.000075           1.764229e-07   \n",
       "4               0.000000              0.000000           0.000000e+00   \n",
       "\n",
       "   Freq.1261.3335177338  ...  Freq.9059.04784969308  Freq.9098.3102509794  \\\n",
       "0              0.000052  ...               0.000018              0.000078   \n",
       "1              0.001511  ...               0.000032              0.000004   \n",
       "2              0.000000  ...               0.000119              0.000052   \n",
       "3              0.000064  ...               0.000134              0.000038   \n",
       "4              0.000000  ...               0.000078              0.000074   \n",
       "\n",
       "   Freq.9436.045671808  Freq.9594.78353572215  Freq.9799.45047805923  \\\n",
       "0             0.000070               0.000116               0.000078   \n",
       "1             0.000012               0.000007               0.000152   \n",
       "2             0.000205               0.000420               0.000060   \n",
       "3             0.000153               0.000124               0.000026   \n",
       "4             0.000027               0.000079               0.000018   \n",
       "\n",
       "   Freq.10431.4344537929  Freq.11007.128608859  Freq.11035.3843513154  \\\n",
       "0               0.000061              0.000102               0.000021   \n",
       "1               0.000008              0.000397               0.000112   \n",
       "2               0.000096              0.000243               0.000036   \n",
       "3               0.000012              0.000147               0.000052   \n",
       "4               0.000044              0.000074               0.000042   \n",
       "\n",
       "   Freq.11160.836582373  Group  \n",
       "0              0.000100   MILD  \n",
       "1              0.000003   MILD  \n",
       "2              0.000253   MILD  \n",
       "3              0.000086   MILD  \n",
       "4              0.000040   MILD  \n",
       "\n",
       "[5 rows x 547 columns]"
      ]
     },
     "execution_count": 153,
     "metadata": {},
     "output_type": "execute_result"
    }
   ],
   "source": [
    "train.head()"
   ]
  },
  {
   "cell_type": "code",
   "execution_count": 154,
   "id": "646285c1",
   "metadata": {},
   "outputs": [],
   "source": [
    "##### Preprocessing\n",
    "\n",
    "train_mod = train.copy()\n",
    "# Imputation using mean method\n",
    "#train_mod = train_mod.replace(0,np.nan)\n",
    "#train_mod_imp = train_mod.transform(lambda x: x.fillna(x.mean()))"
   ]
  },
  {
   "cell_type": "code",
   "execution_count": 156,
   "id": "b27da16d",
   "metadata": {},
   "outputs": [
    {
     "data": {
      "text/plain": [
       "(132, 547)"
      ]
     },
     "execution_count": 156,
     "metadata": {},
     "output_type": "execute_result"
    }
   ],
   "source": [
    "train_mod.shape"
   ]
  },
  {
   "cell_type": "code",
   "execution_count": 157,
   "id": "81e259a5",
   "metadata": {
    "scrolled": true
   },
   "outputs": [
    {
     "data": {
      "text/html": [
       "<div>\n",
       "<style scoped>\n",
       "    .dataframe tbody tr th:only-of-type {\n",
       "        vertical-align: middle;\n",
       "    }\n",
       "\n",
       "    .dataframe tbody tr th {\n",
       "        vertical-align: top;\n",
       "    }\n",
       "\n",
       "    .dataframe thead th {\n",
       "        text-align: right;\n",
       "    }\n",
       "</style>\n",
       "<table border=\"1\" class=\"dataframe\">\n",
       "  <thead>\n",
       "    <tr style=\"text-align: right;\">\n",
       "      <th></th>\n",
       "      <th>Freq.1198.26559877594</th>\n",
       "      <th>Freq.1204.07148226988</th>\n",
       "      <th>Freq.1211.13623593336</th>\n",
       "      <th>Freq.1217.73683596229</th>\n",
       "      <th>Freq.1223.16958659828</th>\n",
       "      <th>Freq.1234.45996741201</th>\n",
       "      <th>Freq.1239.41043347512</th>\n",
       "      <th>Freq.1244.8230732813</th>\n",
       "      <th>Freq.1254.64710066874</th>\n",
       "      <th>Freq.1261.3335177338</th>\n",
       "      <th>...</th>\n",
       "      <th>Freq.9059.04784969308</th>\n",
       "      <th>Freq.9098.3102509794</th>\n",
       "      <th>Freq.9436.045671808</th>\n",
       "      <th>Freq.9594.78353572215</th>\n",
       "      <th>Freq.9799.45047805923</th>\n",
       "      <th>Freq.10431.4344537929</th>\n",
       "      <th>Freq.11007.128608859</th>\n",
       "      <th>Freq.11035.3843513154</th>\n",
       "      <th>Freq.11160.836582373</th>\n",
       "      <th>Group</th>\n",
       "    </tr>\n",
       "  </thead>\n",
       "  <tbody>\n",
       "    <tr>\n",
       "      <th>0</th>\n",
       "      <td>0.000251</td>\n",
       "      <td>0.000345</td>\n",
       "      <td>0.000074</td>\n",
       "      <td>3.541783e-05</td>\n",
       "      <td>0.000079</td>\n",
       "      <td>0.000245</td>\n",
       "      <td>0.000006</td>\n",
       "      <td>0.000061</td>\n",
       "      <td>0.000000e+00</td>\n",
       "      <td>0.000052</td>\n",
       "      <td>...</td>\n",
       "      <td>0.000018</td>\n",
       "      <td>0.000078</td>\n",
       "      <td>0.000070</td>\n",
       "      <td>0.000116</td>\n",
       "      <td>0.000078</td>\n",
       "      <td>0.000061</td>\n",
       "      <td>0.000102</td>\n",
       "      <td>0.000021</td>\n",
       "      <td>0.000100</td>\n",
       "      <td>MILD</td>\n",
       "    </tr>\n",
       "    <tr>\n",
       "      <th>1</th>\n",
       "      <td>0.000000</td>\n",
       "      <td>0.000000</td>\n",
       "      <td>0.000015</td>\n",
       "      <td>8.515219e-04</td>\n",
       "      <td>0.000107</td>\n",
       "      <td>0.001334</td>\n",
       "      <td>0.005597</td>\n",
       "      <td>0.001388</td>\n",
       "      <td>5.144433e-04</td>\n",
       "      <td>0.001511</td>\n",
       "      <td>...</td>\n",
       "      <td>0.000032</td>\n",
       "      <td>0.000004</td>\n",
       "      <td>0.000012</td>\n",
       "      <td>0.000007</td>\n",
       "      <td>0.000152</td>\n",
       "      <td>0.000008</td>\n",
       "      <td>0.000397</td>\n",
       "      <td>0.000112</td>\n",
       "      <td>0.000003</td>\n",
       "      <td>MILD</td>\n",
       "    </tr>\n",
       "    <tr>\n",
       "      <th>2</th>\n",
       "      <td>0.000210</td>\n",
       "      <td>0.000006</td>\n",
       "      <td>0.000018</td>\n",
       "      <td>8.649685e-09</td>\n",
       "      <td>0.000084</td>\n",
       "      <td>0.000487</td>\n",
       "      <td>0.000185</td>\n",
       "      <td>0.000092</td>\n",
       "      <td>1.294411e-04</td>\n",
       "      <td>0.000000</td>\n",
       "      <td>...</td>\n",
       "      <td>0.000119</td>\n",
       "      <td>0.000052</td>\n",
       "      <td>0.000205</td>\n",
       "      <td>0.000420</td>\n",
       "      <td>0.000060</td>\n",
       "      <td>0.000096</td>\n",
       "      <td>0.000243</td>\n",
       "      <td>0.000036</td>\n",
       "      <td>0.000253</td>\n",
       "      <td>MILD</td>\n",
       "    </tr>\n",
       "    <tr>\n",
       "      <th>3</th>\n",
       "      <td>0.000171</td>\n",
       "      <td>0.000233</td>\n",
       "      <td>0.000076</td>\n",
       "      <td>4.854921e-05</td>\n",
       "      <td>0.000122</td>\n",
       "      <td>0.000333</td>\n",
       "      <td>0.000038</td>\n",
       "      <td>0.000075</td>\n",
       "      <td>1.764229e-07</td>\n",
       "      <td>0.000064</td>\n",
       "      <td>...</td>\n",
       "      <td>0.000134</td>\n",
       "      <td>0.000038</td>\n",
       "      <td>0.000153</td>\n",
       "      <td>0.000124</td>\n",
       "      <td>0.000026</td>\n",
       "      <td>0.000012</td>\n",
       "      <td>0.000147</td>\n",
       "      <td>0.000052</td>\n",
       "      <td>0.000086</td>\n",
       "      <td>MILD</td>\n",
       "    </tr>\n",
       "    <tr>\n",
       "      <th>4</th>\n",
       "      <td>0.000000</td>\n",
       "      <td>0.000000</td>\n",
       "      <td>0.000000</td>\n",
       "      <td>0.000000e+00</td>\n",
       "      <td>0.000000</td>\n",
       "      <td>0.000000</td>\n",
       "      <td>0.000000</td>\n",
       "      <td>0.000000</td>\n",
       "      <td>0.000000e+00</td>\n",
       "      <td>0.000000</td>\n",
       "      <td>...</td>\n",
       "      <td>0.000078</td>\n",
       "      <td>0.000074</td>\n",
       "      <td>0.000027</td>\n",
       "      <td>0.000079</td>\n",
       "      <td>0.000018</td>\n",
       "      <td>0.000044</td>\n",
       "      <td>0.000074</td>\n",
       "      <td>0.000042</td>\n",
       "      <td>0.000040</td>\n",
       "      <td>MILD</td>\n",
       "    </tr>\n",
       "  </tbody>\n",
       "</table>\n",
       "<p>5 rows × 547 columns</p>\n",
       "</div>"
      ],
      "text/plain": [
       "   Freq.1198.26559877594  Freq.1204.07148226988  Freq.1211.13623593336  \\\n",
       "0               0.000251               0.000345               0.000074   \n",
       "1               0.000000               0.000000               0.000015   \n",
       "2               0.000210               0.000006               0.000018   \n",
       "3               0.000171               0.000233               0.000076   \n",
       "4               0.000000               0.000000               0.000000   \n",
       "\n",
       "   Freq.1217.73683596229  Freq.1223.16958659828  Freq.1234.45996741201  \\\n",
       "0           3.541783e-05               0.000079               0.000245   \n",
       "1           8.515219e-04               0.000107               0.001334   \n",
       "2           8.649685e-09               0.000084               0.000487   \n",
       "3           4.854921e-05               0.000122               0.000333   \n",
       "4           0.000000e+00               0.000000               0.000000   \n",
       "\n",
       "   Freq.1239.41043347512  Freq.1244.8230732813  Freq.1254.64710066874  \\\n",
       "0               0.000006              0.000061           0.000000e+00   \n",
       "1               0.005597              0.001388           5.144433e-04   \n",
       "2               0.000185              0.000092           1.294411e-04   \n",
       "3               0.000038              0.000075           1.764229e-07   \n",
       "4               0.000000              0.000000           0.000000e+00   \n",
       "\n",
       "   Freq.1261.3335177338  ...  Freq.9059.04784969308  Freq.9098.3102509794  \\\n",
       "0              0.000052  ...               0.000018              0.000078   \n",
       "1              0.001511  ...               0.000032              0.000004   \n",
       "2              0.000000  ...               0.000119              0.000052   \n",
       "3              0.000064  ...               0.000134              0.000038   \n",
       "4              0.000000  ...               0.000078              0.000074   \n",
       "\n",
       "   Freq.9436.045671808  Freq.9594.78353572215  Freq.9799.45047805923  \\\n",
       "0             0.000070               0.000116               0.000078   \n",
       "1             0.000012               0.000007               0.000152   \n",
       "2             0.000205               0.000420               0.000060   \n",
       "3             0.000153               0.000124               0.000026   \n",
       "4             0.000027               0.000079               0.000018   \n",
       "\n",
       "   Freq.10431.4344537929  Freq.11007.128608859  Freq.11035.3843513154  \\\n",
       "0               0.000061              0.000102               0.000021   \n",
       "1               0.000008              0.000397               0.000112   \n",
       "2               0.000096              0.000243               0.000036   \n",
       "3               0.000012              0.000147               0.000052   \n",
       "4               0.000044              0.000074               0.000042   \n",
       "\n",
       "   Freq.11160.836582373  Group  \n",
       "0              0.000100   MILD  \n",
       "1              0.000003   MILD  \n",
       "2              0.000253   MILD  \n",
       "3              0.000086   MILD  \n",
       "4              0.000040   MILD  \n",
       "\n",
       "[5 rows x 547 columns]"
      ]
     },
     "execution_count": 157,
     "metadata": {},
     "output_type": "execute_result"
    }
   ],
   "source": [
    "train_mod.head()"
   ]
  },
  {
   "cell_type": "code",
   "execution_count": 158,
   "id": "78d1a54a",
   "metadata": {},
   "outputs": [
    {
     "data": {
      "text/html": [
       "<div>\n",
       "<style scoped>\n",
       "    .dataframe tbody tr th:only-of-type {\n",
       "        vertical-align: middle;\n",
       "    }\n",
       "\n",
       "    .dataframe tbody tr th {\n",
       "        vertical-align: top;\n",
       "    }\n",
       "\n",
       "    .dataframe thead th {\n",
       "        text-align: right;\n",
       "    }\n",
       "</style>\n",
       "<table border=\"1\" class=\"dataframe\">\n",
       "  <thead>\n",
       "    <tr style=\"text-align: right;\">\n",
       "      <th></th>\n",
       "      <th>Freq.1198.26559877594</th>\n",
       "      <th>Freq.1204.07148226988</th>\n",
       "      <th>Freq.1211.13623593336</th>\n",
       "      <th>Freq.1217.73683596229</th>\n",
       "      <th>Freq.1223.16958659828</th>\n",
       "      <th>Freq.1234.45996741201</th>\n",
       "      <th>Freq.1239.41043347512</th>\n",
       "      <th>Freq.1244.8230732813</th>\n",
       "      <th>Freq.1254.64710066874</th>\n",
       "      <th>Freq.1261.3335177338</th>\n",
       "      <th>...</th>\n",
       "      <th>Freq.9059.04784969308</th>\n",
       "      <th>Freq.9098.3102509794</th>\n",
       "      <th>Freq.9436.045671808</th>\n",
       "      <th>Freq.9594.78353572215</th>\n",
       "      <th>Freq.9799.45047805923</th>\n",
       "      <th>Freq.10431.4344537929</th>\n",
       "      <th>Freq.11007.128608859</th>\n",
       "      <th>Freq.11035.3843513154</th>\n",
       "      <th>Freq.11160.836582373</th>\n",
       "      <th>Group</th>\n",
       "    </tr>\n",
       "  </thead>\n",
       "  <tbody>\n",
       "    <tr>\n",
       "      <th>0</th>\n",
       "      <td>1.363486e-04</td>\n",
       "      <td>0.000205</td>\n",
       "      <td>0.000115</td>\n",
       "      <td>0.000077</td>\n",
       "      <td>0.000199</td>\n",
       "      <td>0.000066</td>\n",
       "      <td>0.000024</td>\n",
       "      <td>0.000406</td>\n",
       "      <td>0.000072</td>\n",
       "      <td>0.000154</td>\n",
       "      <td>...</td>\n",
       "      <td>0.000055</td>\n",
       "      <td>0.000032</td>\n",
       "      <td>0.000028</td>\n",
       "      <td>0.000051</td>\n",
       "      <td>0.000025</td>\n",
       "      <td>0.000056</td>\n",
       "      <td>0.000083</td>\n",
       "      <td>0.000074</td>\n",
       "      <td>0.000035</td>\n",
       "      <td>MILD</td>\n",
       "    </tr>\n",
       "    <tr>\n",
       "      <th>1</th>\n",
       "      <td>8.938546e-07</td>\n",
       "      <td>0.000051</td>\n",
       "      <td>0.000017</td>\n",
       "      <td>0.000024</td>\n",
       "      <td>0.000017</td>\n",
       "      <td>0.000072</td>\n",
       "      <td>0.000062</td>\n",
       "      <td>0.000202</td>\n",
       "      <td>0.000217</td>\n",
       "      <td>0.000036</td>\n",
       "      <td>...</td>\n",
       "      <td>0.000026</td>\n",
       "      <td>0.000037</td>\n",
       "      <td>0.000054</td>\n",
       "      <td>0.000500</td>\n",
       "      <td>0.000125</td>\n",
       "      <td>0.000128</td>\n",
       "      <td>0.000049</td>\n",
       "      <td>0.000004</td>\n",
       "      <td>0.000192</td>\n",
       "      <td>MILD</td>\n",
       "    </tr>\n",
       "    <tr>\n",
       "      <th>2</th>\n",
       "      <td>2.061797e-04</td>\n",
       "      <td>0.000237</td>\n",
       "      <td>0.000002</td>\n",
       "      <td>0.000109</td>\n",
       "      <td>0.000136</td>\n",
       "      <td>0.000029</td>\n",
       "      <td>0.000629</td>\n",
       "      <td>0.000150</td>\n",
       "      <td>0.000105</td>\n",
       "      <td>0.000229</td>\n",
       "      <td>...</td>\n",
       "      <td>0.000135</td>\n",
       "      <td>0.000079</td>\n",
       "      <td>0.000053</td>\n",
       "      <td>0.000232</td>\n",
       "      <td>0.000076</td>\n",
       "      <td>0.000187</td>\n",
       "      <td>0.000120</td>\n",
       "      <td>0.000031</td>\n",
       "      <td>0.000156</td>\n",
       "      <td>MILD</td>\n",
       "    </tr>\n",
       "    <tr>\n",
       "      <th>3</th>\n",
       "      <td>2.256595e-03</td>\n",
       "      <td>0.001221</td>\n",
       "      <td>0.000174</td>\n",
       "      <td>0.000109</td>\n",
       "      <td>0.001292</td>\n",
       "      <td>0.000142</td>\n",
       "      <td>0.000579</td>\n",
       "      <td>0.001619</td>\n",
       "      <td>0.000003</td>\n",
       "      <td>0.002916</td>\n",
       "      <td>...</td>\n",
       "      <td>0.000016</td>\n",
       "      <td>0.000010</td>\n",
       "      <td>0.000009</td>\n",
       "      <td>0.000020</td>\n",
       "      <td>0.000030</td>\n",
       "      <td>0.000006</td>\n",
       "      <td>0.000015</td>\n",
       "      <td>0.000018</td>\n",
       "      <td>0.000021</td>\n",
       "      <td>MILD</td>\n",
       "    </tr>\n",
       "    <tr>\n",
       "      <th>4</th>\n",
       "      <td>1.023898e-05</td>\n",
       "      <td>0.000314</td>\n",
       "      <td>0.000073</td>\n",
       "      <td>0.000023</td>\n",
       "      <td>0.000071</td>\n",
       "      <td>0.000000</td>\n",
       "      <td>0.000430</td>\n",
       "      <td>0.000378</td>\n",
       "      <td>0.000096</td>\n",
       "      <td>0.000026</td>\n",
       "      <td>...</td>\n",
       "      <td>0.000072</td>\n",
       "      <td>0.000019</td>\n",
       "      <td>0.000072</td>\n",
       "      <td>0.000166</td>\n",
       "      <td>0.000006</td>\n",
       "      <td>0.000204</td>\n",
       "      <td>0.000079</td>\n",
       "      <td>0.000026</td>\n",
       "      <td>0.000094</td>\n",
       "      <td>MILD</td>\n",
       "    </tr>\n",
       "  </tbody>\n",
       "</table>\n",
       "<p>5 rows × 547 columns</p>\n",
       "</div>"
      ],
      "text/plain": [
       "   Freq.1198.26559877594  Freq.1204.07148226988  Freq.1211.13623593336  \\\n",
       "0           1.363486e-04               0.000205               0.000115   \n",
       "1           8.938546e-07               0.000051               0.000017   \n",
       "2           2.061797e-04               0.000237               0.000002   \n",
       "3           2.256595e-03               0.001221               0.000174   \n",
       "4           1.023898e-05               0.000314               0.000073   \n",
       "\n",
       "   Freq.1217.73683596229  Freq.1223.16958659828  Freq.1234.45996741201  \\\n",
       "0               0.000077               0.000199               0.000066   \n",
       "1               0.000024               0.000017               0.000072   \n",
       "2               0.000109               0.000136               0.000029   \n",
       "3               0.000109               0.001292               0.000142   \n",
       "4               0.000023               0.000071               0.000000   \n",
       "\n",
       "   Freq.1239.41043347512  Freq.1244.8230732813  Freq.1254.64710066874  \\\n",
       "0               0.000024              0.000406               0.000072   \n",
       "1               0.000062              0.000202               0.000217   \n",
       "2               0.000629              0.000150               0.000105   \n",
       "3               0.000579              0.001619               0.000003   \n",
       "4               0.000430              0.000378               0.000096   \n",
       "\n",
       "   Freq.1261.3335177338  ...  Freq.9059.04784969308  Freq.9098.3102509794  \\\n",
       "0              0.000154  ...               0.000055              0.000032   \n",
       "1              0.000036  ...               0.000026              0.000037   \n",
       "2              0.000229  ...               0.000135              0.000079   \n",
       "3              0.002916  ...               0.000016              0.000010   \n",
       "4              0.000026  ...               0.000072              0.000019   \n",
       "\n",
       "   Freq.9436.045671808  Freq.9594.78353572215  Freq.9799.45047805923  \\\n",
       "0             0.000028               0.000051               0.000025   \n",
       "1             0.000054               0.000500               0.000125   \n",
       "2             0.000053               0.000232               0.000076   \n",
       "3             0.000009               0.000020               0.000030   \n",
       "4             0.000072               0.000166               0.000006   \n",
       "\n",
       "   Freq.10431.4344537929  Freq.11007.128608859  Freq.11035.3843513154  \\\n",
       "0               0.000056              0.000083               0.000074   \n",
       "1               0.000128              0.000049               0.000004   \n",
       "2               0.000187              0.000120               0.000031   \n",
       "3               0.000006              0.000015               0.000018   \n",
       "4               0.000204              0.000079               0.000026   \n",
       "\n",
       "   Freq.11160.836582373  Group  \n",
       "0              0.000035   MILD  \n",
       "1              0.000192   MILD  \n",
       "2              0.000156   MILD  \n",
       "3              0.000021   MILD  \n",
       "4              0.000094   MILD  \n",
       "\n",
       "[5 rows x 547 columns]"
      ]
     },
     "execution_count": 158,
     "metadata": {},
     "output_type": "execute_result"
    }
   ],
   "source": [
    "test = pd.read_csv(TEST_CLINICAL_FILENAME, sep=\",\")\n",
    "test = test.iloc[: , 1:]\n",
    "test_mod = test.copy()\n",
    "test_mod.head()"
   ]
  },
  {
   "cell_type": "code",
   "execution_count": 159,
   "id": "94c8974e",
   "metadata": {},
   "outputs": [],
   "source": [
    "X_test, y_test = test_mod.drop(\"Group\", axis=1), test_mod[\"Group\"]"
   ]
  },
  {
   "cell_type": "markdown",
   "id": "70f65f1f",
   "metadata": {},
   "source": [
    "---"
   ]
  },
  {
   "cell_type": "markdown",
   "id": "2cc47ef4",
   "metadata": {},
   "source": [
    "### 3) Baseline Model Training and CV"
   ]
  },
  {
   "cell_type": "code",
   "execution_count": 160,
   "id": "adcaec69",
   "metadata": {},
   "outputs": [],
   "source": [
    "# Define Classifier (or pipeline)\n",
    "clf = lgb.LGBMClassifier(random_state=SEED)"
   ]
  },
  {
   "cell_type": "code",
   "execution_count": 161,
   "id": "3de5c702",
   "metadata": {},
   "outputs": [],
   "source": [
    "# Get Features and Target\n",
    "X, y = train_mod.drop(\"Group\", axis=1), train_mod[\"Group\"]"
   ]
  },
  {
   "cell_type": "code",
   "execution_count": 162,
   "id": "2dbd6b39",
   "metadata": {},
   "outputs": [],
   "source": [
    "# Defining RepeatedKFold Cross Validator\n",
    "rkf = RepeatedKFold(n_splits=5, n_repeats=20, random_state=SEED)"
   ]
  },
  {
   "cell_type": "code",
   "execution_count": 163,
   "id": "356afa19",
   "metadata": {},
   "outputs": [
    {
     "data": {
      "text/plain": [
       "make_scorer(balanced_accuracy_score)"
      ]
     },
     "execution_count": 163,
     "metadata": {},
     "output_type": "execute_result"
    }
   ],
   "source": [
    "# Define metric scorer\n",
    "metric_scorer = make_scorer(balanced_accuracy_score)\n",
    "metric_scorer"
   ]
  },
  {
   "cell_type": "code",
   "execution_count": 164,
   "id": "8258c5a6",
   "metadata": {},
   "outputs": [],
   "source": [
    "# Cross validate model\n",
    "scores = cross_val_score(clf, X, y, scoring=metric_scorer, cv=rkf, n_jobs=-1)"
   ]
  },
  {
   "cell_type": "code",
   "execution_count": 165,
   "id": "5e19c754",
   "metadata": {},
   "outputs": [
    {
     "data": {
      "text/plain": [
       "array([0.54605263, 0.94444444, 0.70676692, 0.61538462, 0.7797619 ,\n",
       "       0.66666667, 0.875     , 0.67857143, 0.75625   , 0.83333333,\n",
       "       0.64204545, 0.9       , 0.65413534, 0.81944444, 0.6875    ,\n",
       "       0.80555556, 0.84117647, 0.71428571, 0.85947712, 0.71568627,\n",
       "       0.725     , 0.63486842, 0.73030303, 0.66875   , 0.8875    ,\n",
       "       0.76666667, 0.76923077, 0.65972222, 0.7745098 , 0.66013072,\n",
       "       0.61111111, 0.73235294, 0.87593985, 0.71875   , 0.91176471,\n",
       "       0.77272727, 0.66118421, 0.7202381 , 0.625     , 0.85714286,\n",
       "       0.77777778, 0.875     , 0.67272727, 0.81818182, 0.69444444,\n",
       "       0.89285714, 0.68181818, 0.74509804, 0.76875   , 0.89473684,\n",
       "       0.84117647, 0.68333333, 0.8875    , 0.68954248, 0.65625   ,\n",
       "       0.78693182, 0.76176471, 0.57638889, 0.79761905, 0.90625   ,\n",
       "       0.81176471, 0.75      , 0.7202381 , 0.63194444, 0.72619048,\n",
       "       0.725     , 0.8       , 0.90972222, 0.65972222, 0.73939394,\n",
       "       0.84659091, 0.75      , 0.9       , 0.74183007, 0.75151515,\n",
       "       0.87784091, 0.74117647, 0.65384615, 0.82330827, 0.7375    ,\n",
       "       0.66666667, 0.76176471, 0.91503268, 0.73333333, 0.75694444,\n",
       "       0.66428571, 0.84659091, 0.7202381 , 0.76363636, 0.61875   ,\n",
       "       0.77777778, 0.79605263, 0.75151515, 0.7375    , 0.69230769,\n",
       "       0.59210526, 0.66666667, 0.80392157, 0.78484848, 0.74404762])"
      ]
     },
     "execution_count": 165,
     "metadata": {},
     "output_type": "execute_result"
    }
   ],
   "source": [
    "# Score from each CV Iteration\n",
    "scores"
   ]
  },
  {
   "cell_type": "code",
   "execution_count": 166,
   "id": "92335208",
   "metadata": {},
   "outputs": [
    {
     "data": {
      "text/plain": [
       "0.7530414906515912"
      ]
     },
     "execution_count": 166,
     "metadata": {},
     "output_type": "execute_result"
    }
   ],
   "source": [
    "# Mean Metric Value\n",
    "np.mean(scores)"
   ]
  },
  {
   "cell_type": "markdown",
   "id": "a9248c66",
   "metadata": {},
   "source": [
    "# Feature reduction"
   ]
  },
  {
   "cell_type": "code",
   "execution_count": 167,
   "id": "65e27dc7",
   "metadata": {},
   "outputs": [],
   "source": [
    "train_mod_stats = train_mod.drop('Group', axis = 1)\n"
   ]
  },
  {
   "cell_type": "code",
   "execution_count": 168,
   "id": "cabaf37e",
   "metadata": {},
   "outputs": [],
   "source": [
    "df = train_mod.copy()\n",
    "peaks_list = []\n",
    "pval_list = []\n",
    "df2 = pd.melt(df, id_vars = [\"Group\"])\n",
    "mild = df.where(df.Group == \"MILD\").dropna()\n",
    "sev = df.where(df.Group == \"SEVERE\").dropna()\n",
    "for i in range(1,(len(df.columns)-1)):\n",
    "    s, p1 = stats.mannwhitneyu(mild.iloc[:,i], sev.iloc[:,i], alternative = 'two-sided')\n",
    "    if p1 <= 0.05:\n",
    "        pval_list.append(p1)\n",
    "        peaks_list.append(df.columns[i])\n",
    "peaks_list.append(\"Group\")"
   ]
  },
  {
   "cell_type": "code",
   "execution_count": 169,
   "id": "e21c173b",
   "metadata": {},
   "outputs": [],
   "source": [
    "df_filtered = df.drop(columns=[col for col in df if col not in peaks_list])\n",
    "df_test_filtered = test.drop(columns=[col for col in test if col not in peaks_list])"
   ]
  },
  {
   "cell_type": "code",
   "execution_count": 170,
   "id": "3b9b19e4",
   "metadata": {},
   "outputs": [
    {
     "data": {
      "text/plain": [
       "(64, 119)"
      ]
     },
     "execution_count": 170,
     "metadata": {},
     "output_type": "execute_result"
    }
   ],
   "source": [
    "df_test_filtered.shape"
   ]
  },
  {
   "cell_type": "markdown",
   "id": "8e848ed4",
   "metadata": {},
   "source": [
    "---"
   ]
  },
  {
   "cell_type": "code",
   "execution_count": 171,
   "id": "3dc6c626",
   "metadata": {
    "scrolled": false
   },
   "outputs": [
    {
     "data": {
      "text/plain": [
       "array([0.63486842, 0.97222222, 0.70676692, 0.73076923, 0.66666667,\n",
       "       0.74166667, 1.        , 0.72619048, 0.80625   , 0.83333333,\n",
       "       0.6875    , 1.        , 0.77819549, 0.76388889, 0.76875   ,\n",
       "       0.94444444, 0.84117647, 0.78571429, 0.85947712, 0.74509804,\n",
       "       0.88333333, 0.72368421, 0.77575758, 0.81875   , 0.8875    ,\n",
       "       0.84166667, 0.92307692, 0.63194444, 0.77124183, 0.63398693,\n",
       "       0.69444444, 0.75294118, 0.70676692, 0.6875    , 0.88235294,\n",
       "       0.83238636, 0.69736842, 0.76190476, 0.75833333, 0.92857143,\n",
       "       0.77777778, 0.875     , 0.69393939, 0.83030303, 0.78472222,\n",
       "       0.85714286, 0.74147727, 0.74509804, 0.8375    , 0.89473684,\n",
       "       0.78235294, 0.80833333, 0.8875    , 0.74509804, 0.65625   ,\n",
       "       0.81534091, 0.76176471, 0.63888889, 0.76190476, 0.96875   ,\n",
       "       0.9       , 0.77777778, 0.76190476, 0.78472222, 0.76785714,\n",
       "       0.69166667, 0.8       , 0.9375    , 0.75694444, 0.87575758,\n",
       "       0.87784091, 0.8       , 0.7875    , 0.74183007, 0.78484848,\n",
       "       0.81818182, 0.68235294, 0.57692308, 0.84962406, 0.70625   ,\n",
       "       0.77777778, 0.86176471, 0.91503268, 0.75454545, 0.81944444,\n",
       "       0.76071429, 0.84659091, 0.79761905, 0.77575758, 0.75      ,\n",
       "       0.83333333, 0.94736842, 0.7969697 , 0.7375    , 0.76923077,\n",
       "       0.70723684, 0.69444444, 0.7745098 , 0.78484848, 0.89285714])"
      ]
     },
     "execution_count": 171,
     "metadata": {},
     "output_type": "execute_result"
    }
   ],
   "source": [
    "# Get Features and Target\n",
    "X, y = df_filtered.drop(\"Group\", axis=1), df_filtered[\"Group\"]\n",
    "X_test, y_test = df_test_filtered.drop(\"Group\", axis=1), df_test_filtered[\"Group\"]\n",
    "# Cross validate model\n",
    "scores = cross_val_score(clf, X, y, scoring=metric_scorer, cv=rkf, n_jobs=-1)\n",
    "# Score from each CV Iteration\n",
    "scores"
   ]
  },
  {
   "cell_type": "code",
   "execution_count": 172,
   "id": "62399d1a",
   "metadata": {},
   "outputs": [
    {
     "data": {
      "text/plain": [
       "0.7912739915743012"
      ]
     },
     "execution_count": 172,
     "metadata": {},
     "output_type": "execute_result"
    }
   ],
   "source": [
    "# Mean Metric Value\n",
    "np.mean(scores)"
   ]
  },
  {
   "cell_type": "markdown",
   "id": "58c49d27",
   "metadata": {},
   "source": [
    "### 4) Experiments"
   ]
  },
  {
   "cell_type": "markdown",
   "id": "8c019825",
   "metadata": {},
   "source": [
    "##### 4.1) Hyper Parameter Optimization with Optuna"
   ]
  },
  {
   "cell_type": "code",
   "execution_count": 173,
   "id": "fac3358e",
   "metadata": {},
   "outputs": [],
   "source": [
    "# Define objectiva funtion to maximize metric\n",
    "def objective(trial):\n",
    "    \n",
    "    # Hyper Parameter Grid\n",
    "    param = {\n",
    "        \"objective\": \"binary\",\n",
    "        \"metric\": \"binary_logloss\",\n",
    "        \"verbosity\": -1,\n",
    "        \"boosting_type\": \"gbdt\",\n",
    "        \"lambda_l1\": trial.suggest_float(\"lambda_l1\", 1e-8, 10.0, log=True),\n",
    "        \"lambda_l2\": trial.suggest_float(\"lambda_l2\", 1e-8, 10.0, log=True),\n",
    "        \"num_leaves\": trial.suggest_int(\"num_leaves\", 2, 256),\n",
    "        \"feature_fraction\": trial.suggest_float(\"feature_fraction\", 0.4, 1.0),\n",
    "        \"bagging_fraction\": trial.suggest_float(\"bagging_fraction\", 0.4, 1.0),\n",
    "        \"bagging_freq\": trial.suggest_int(\"bagging_freq\", 1, 7),\n",
    "        \"min_child_samples\": trial.suggest_int(\"min_child_samples\", 5, 100),\n",
    "        \"n_estimators\": trial.suggest_int(\"max_depth\", 100, 1000)\n",
    "    }\n",
    "    # Create model with param trial\n",
    "    clf = lgb.LGBMClassifier(random_state=SEED, **param)\n",
    "    # Get CV Metric we want to maximize\n",
    "    balanced_accuracy = np.mean(cross_val_score(clf, X, y, scoring=metric_scorer, cv=rkf, n_jobs=-1))\n",
    "    \n",
    "    return balanced_accuracy"
   ]
  },
  {
   "cell_type": "code",
   "execution_count": 174,
   "id": "a1574fcb",
   "metadata": {},
   "outputs": [
    {
     "name": "stderr",
     "output_type": "stream",
     "text": [
      "\u001b[32m[I 2022-06-23 23:34:05,756]\u001b[0m A new study created in memory with name: no-name-266a551f-14d7-4c9e-bae0-eb3eeb77289c\u001b[0m\n"
     ]
    }
   ],
   "source": [
    "study = optuna.create_study(direction=\"maximize\")"
   ]
  },
  {
   "cell_type": "code",
   "execution_count": 175,
   "id": "03e01408",
   "metadata": {
    "scrolled": true
   },
   "outputs": [
    {
     "name": "stderr",
     "output_type": "stream",
     "text": [
      "\u001b[32m[I 2022-06-23 23:34:06,946]\u001b[0m Trial 0 finished with value: 0.5 and parameters: {'lambda_l1': 2.3595784575679856e-05, 'lambda_l2': 1.1012063752489056e-06, 'num_leaves': 184, 'feature_fraction': 0.6866384687759279, 'bagging_fraction': 0.6995098509208947, 'bagging_freq': 7, 'min_child_samples': 75, 'max_depth': 294}. Best is trial 0 with value: 0.5.\u001b[0m\n",
      "\u001b[32m[I 2022-06-23 23:34:08,520]\u001b[0m Trial 1 finished with value: 0.7823621184027532 and parameters: {'lambda_l1': 3.8693967443574304, 'lambda_l2': 9.689284707975446e-08, 'num_leaves': 180, 'feature_fraction': 0.8189516075958034, 'bagging_fraction': 0.9077794004028834, 'bagging_freq': 1, 'min_child_samples': 48, 'max_depth': 906}. Best is trial 1 with value: 0.7823621184027532.\u001b[0m\n",
      "\u001b[32m[I 2022-06-23 23:34:09,175]\u001b[0m Trial 2 finished with value: 0.5 and parameters: {'lambda_l1': 0.04583950873771014, 'lambda_l2': 0.030289944481967472, 'num_leaves': 158, 'feature_fraction': 0.4396819945927838, 'bagging_fraction': 0.6935136647082449, 'bagging_freq': 6, 'min_child_samples': 64, 'max_depth': 741}. Best is trial 1 with value: 0.7823621184027532.\u001b[0m\n",
      "\u001b[32m[I 2022-06-23 23:34:10,931]\u001b[0m Trial 3 finished with value: 0.7424142134954828 and parameters: {'lambda_l1': 4.109374221993595, 'lambda_l2': 0.2504108872067899, 'num_leaves': 101, 'feature_fraction': 0.9995947185664412, 'bagging_fraction': 0.9623176453824333, 'bagging_freq': 3, 'min_child_samples': 12, 'max_depth': 425}. Best is trial 1 with value: 0.7823621184027532.\u001b[0m\n",
      "\u001b[32m[I 2022-06-23 23:34:11,430]\u001b[0m Trial 4 finished with value: 0.5 and parameters: {'lambda_l1': 4.925551821523983e-05, 'lambda_l2': 0.004205243104238682, 'num_leaves': 118, 'feature_fraction': 0.9674572767970472, 'bagging_fraction': 0.4616321518647151, 'bagging_freq': 1, 'min_child_samples': 68, 'max_depth': 907}. Best is trial 1 with value: 0.7823621184027532.\u001b[0m\n",
      "\u001b[32m[I 2022-06-23 23:34:12,736]\u001b[0m Trial 5 finished with value: 0.8198989571874633 and parameters: {'lambda_l1': 1.6709553182058003, 'lambda_l2': 0.0005753445459215573, 'num_leaves': 128, 'feature_fraction': 0.8232065934838249, 'bagging_fraction': 0.7734369007356514, 'bagging_freq': 4, 'min_child_samples': 26, 'max_depth': 345}. Best is trial 5 with value: 0.8198989571874633.\u001b[0m\n",
      "\u001b[32m[I 2022-06-23 23:34:13,376]\u001b[0m Trial 6 finished with value: 0.6929781230766139 and parameters: {'lambda_l1': 0.0017427233564758086, 'lambda_l2': 0.005078588685465049, 'num_leaves': 76, 'feature_fraction': 0.5311798790628268, 'bagging_fraction': 0.9051982196385983, 'bagging_freq': 7, 'min_child_samples': 51, 'max_depth': 608}. Best is trial 5 with value: 0.8198989571874633.\u001b[0m\n",
      "\u001b[32m[I 2022-06-23 23:34:13,821]\u001b[0m Trial 7 finished with value: 0.5 and parameters: {'lambda_l1': 1.2169043144149536e-07, 'lambda_l2': 6.869341856293074e-08, 'num_leaves': 214, 'feature_fraction': 0.8341958631644268, 'bagging_fraction': 0.8436885229232005, 'bagging_freq': 7, 'min_child_samples': 91, 'max_depth': 695}. Best is trial 5 with value: 0.8198989571874633.\u001b[0m\n",
      "\u001b[32m[I 2022-06-23 23:34:16,295]\u001b[0m Trial 8 finished with value: 0.8459123710611713 and parameters: {'lambda_l1': 1.3854469051112613e-06, 'lambda_l2': 1.0037925181946122e-05, 'num_leaves': 130, 'feature_fraction': 0.4847144254763272, 'bagging_fraction': 0.5442182188920921, 'bagging_freq': 3, 'min_child_samples': 5, 'max_depth': 354}. Best is trial 8 with value: 0.8459123710611713.\u001b[0m\n",
      "\u001b[32m[I 2022-06-23 23:34:16,789]\u001b[0m Trial 9 finished with value: 0.5 and parameters: {'lambda_l1': 5.890397324370857e-06, 'lambda_l2': 0.12246423830281324, 'num_leaves': 4, 'feature_fraction': 0.4122170190574107, 'bagging_fraction': 0.6508743739937018, 'bagging_freq': 5, 'min_child_samples': 78, 'max_depth': 992}. Best is trial 8 with value: 0.8459123710611713.\u001b[0m\n",
      "\u001b[32m[I 2022-06-23 23:34:18,736]\u001b[0m Trial 10 finished with value: 0.8239373965602681 and parameters: {'lambda_l1': 3.312293579723415e-08, 'lambda_l2': 1.3573400748998998e-05, 'num_leaves': 243, 'feature_fraction': 0.5726600498580747, 'bagging_fraction': 0.4917616249558671, 'bagging_freq': 3, 'min_child_samples': 6, 'max_depth': 128}. Best is trial 8 with value: 0.8459123710611713.\u001b[0m\n",
      "\u001b[32m[I 2022-06-23 23:34:20,029]\u001b[0m Trial 11 finished with value: 0.8288559797400741 and parameters: {'lambda_l1': 1.1129452875849301e-08, 'lambda_l2': 1.643470559874587e-05, 'num_leaves': 255, 'feature_fraction': 0.5819875451059902, 'bagging_fraction': 0.4807471217703577, 'bagging_freq': 3, 'min_child_samples': 10, 'max_depth': 103}. Best is trial 8 with value: 0.8459123710611713.\u001b[0m\n",
      "\u001b[32m[I 2022-06-23 23:34:20,916]\u001b[0m Trial 12 finished with value: 0.8253629553710823 and parameters: {'lambda_l1': 6.371112411931919e-07, 'lambda_l2': 1.7280939558528636e-05, 'num_leaves': 50, 'feature_fraction': 0.5880268361348604, 'bagging_fraction': 0.5748678064570028, 'bagging_freq': 3, 'min_child_samples': 28, 'max_depth': 129}. Best is trial 8 with value: 0.8459123710611713.\u001b[0m\n",
      "\u001b[32m[I 2022-06-23 23:34:21,711]\u001b[0m Trial 13 finished with value: 0.7727563671708408 and parameters: {'lambda_l1': 1.7162738733186206e-08, 'lambda_l2': 2.78006695177947e-05, 'num_leaves': 252, 'feature_fraction': 0.4971932009023, 'bagging_fraction': 0.4107116814030086, 'bagging_freq': 2, 'min_child_samples': 26, 'max_depth': 256}. Best is trial 8 with value: 0.8459123710611713.\u001b[0m\n",
      "\u001b[32m[I 2022-06-23 23:34:22,226]\u001b[0m Trial 14 finished with value: 0.5 and parameters: {'lambda_l1': 1.6783817497920854e-06, 'lambda_l2': 1.2254632806229611e-06, 'num_leaves': 30, 'feature_fraction': 0.6538379905083568, 'bagging_fraction': 0.5683674471361325, 'bagging_freq': 4, 'min_child_samples': 38, 'max_depth': 477}. Best is trial 8 with value: 0.8459123710611713.\u001b[0m\n",
      "\u001b[32m[I 2022-06-23 23:34:23,530]\u001b[0m Trial 15 finished with value: 0.8490542926715525 and parameters: {'lambda_l1': 0.0009915416356701358, 'lambda_l2': 0.00022835736741305663, 'num_leaves': 208, 'feature_fraction': 0.635873837158664, 'bagging_fraction': 0.5610871233733845, 'bagging_freq': 2, 'min_child_samples': 14, 'max_depth': 208}. Best is trial 15 with value: 0.8490542926715525.\u001b[0m\n",
      "\u001b[32m[I 2022-06-23 23:34:24,737]\u001b[0m Trial 16 finished with value: 0.8494044834164802 and parameters: {'lambda_l1': 0.00036425571540495583, 'lambda_l2': 1.9128533686135134, 'num_leaves': 154, 'feature_fraction': 0.4765738556477759, 'bagging_fraction': 0.5845945687646814, 'bagging_freq': 2, 'min_child_samples': 18, 'max_depth': 227}. Best is trial 16 with value: 0.8494044834164802.\u001b[0m\n",
      "\u001b[32m[I 2022-06-23 23:34:25,997]\u001b[0m Trial 17 finished with value: 0.8447546831608364 and parameters: {'lambda_l1': 0.0017499306223956047, 'lambda_l2': 1.9339279721939873, 'num_leaves': 207, 'feature_fraction': 0.7322005242244476, 'bagging_fraction': 0.6337414670638685, 'bagging_freq': 2, 'min_child_samples': 19, 'max_depth': 250}. Best is trial 16 with value: 0.8494044834164802.\u001b[0m\n",
      "\u001b[32m[I 2022-06-23 23:34:26,515]\u001b[0m Trial 18 finished with value: 0.5 and parameters: {'lambda_l1': 0.09328176322878254, 'lambda_l2': 7.034691190946526, 'num_leaves': 157, 'feature_fraction': 0.6369784324608392, 'bagging_fraction': 0.6178917439024357, 'bagging_freq': 2, 'min_child_samples': 41, 'max_depth': 204}. Best is trial 16 with value: 0.8494044834164802.\u001b[0m\n",
      "\u001b[32m[I 2022-06-23 23:34:27,238]\u001b[0m Trial 19 finished with value: 0.5 and parameters: {'lambda_l1': 0.00033478825125434777, 'lambda_l2': 0.0003269400979132031, 'num_leaves': 219, 'feature_fraction': 0.7360554857571037, 'bagging_fraction': 0.5237704228653791, 'bagging_freq': 1, 'min_child_samples': 36, 'max_depth': 542}. Best is trial 16 with value: 0.8494044834164802.\u001b[0m\n",
      "\u001b[32m[I 2022-06-23 23:34:29,393]\u001b[0m Trial 20 finished with value: 0.8514517096680408 and parameters: {'lambda_l1': 0.018098457147994358, 'lambda_l2': 0.0035692338507366615, 'num_leaves': 161, 'feature_fraction': 0.47015199761911003, 'bagging_fraction': 0.7735440443732575, 'bagging_freq': 5, 'min_child_samples': 19, 'max_depth': 417}. Best is trial 20 with value: 0.8514517096680408.\u001b[0m\n",
      "\u001b[32m[I 2022-06-23 23:34:31,030]\u001b[0m Trial 21 finished with value: 0.8438464985092305 and parameters: {'lambda_l1': 0.023431448889296193, 'lambda_l2': 0.0032653081362694876, 'num_leaves': 160, 'feature_fraction': 0.45483380287027175, 'bagging_fraction': 0.7629317845329081, 'bagging_freq': 5, 'min_child_samples': 18, 'max_depth': 405}. Best is trial 20 with value: 0.8514517096680408.\u001b[0m\n"
     ]
    },
    {
     "name": "stderr",
     "output_type": "stream",
     "text": [
      "\u001b[32m[I 2022-06-23 23:34:32,041]\u001b[0m Trial 22 finished with value: 0.8458864038653124 and parameters: {'lambda_l1': 0.0049848585689571435, 'lambda_l2': 0.4350407031813399, 'num_leaves': 190, 'feature_fraction': 0.40232254850151916, 'bagging_fraction': 0.7686444240928251, 'bagging_freq': 5, 'min_child_samples': 20, 'max_depth': 191}. Best is trial 20 with value: 0.8514517096680408.\u001b[0m\n",
      "\u001b[32m[I 2022-06-23 23:34:32,944]\u001b[0m Trial 23 finished with value: 0.8483214730960473 and parameters: {'lambda_l1': 0.00014041839015897656, 'lambda_l2': 0.024737071573333977, 'num_leaves': 141, 'feature_fraction': 0.5309675943408307, 'bagging_fraction': 0.6007980823669852, 'bagging_freq': 4, 'min_child_samples': 32, 'max_depth': 324}. Best is trial 20 with value: 0.8514517096680408.\u001b[0m\n",
      "\u001b[32m[I 2022-06-23 23:34:34,448]\u001b[0m Trial 24 finished with value: 0.8261507213546686 and parameters: {'lambda_l1': 0.3387155633074678, 'lambda_l2': 0.00013554409961060858, 'num_leaves': 103, 'feature_fraction': 0.5148044341195899, 'bagging_fraction': 0.8286918056105155, 'bagging_freq': 6, 'min_child_samples': 16, 'max_depth': 518}. Best is trial 20 with value: 0.8514517096680408.\u001b[0m\n",
      "\u001b[32m[I 2022-06-23 23:34:35,009]\u001b[0m Trial 25 finished with value: 0.5 and parameters: {'lambda_l1': 0.008123694751487854, 'lambda_l2': 8.967861398395181, 'num_leaves': 173, 'feature_fraction': 0.6141217253121352, 'bagging_fraction': 0.6672458268318295, 'bagging_freq': 2, 'min_child_samples': 44, 'max_depth': 202}. Best is trial 20 with value: 0.8514517096680408.\u001b[0m\n",
      "\u001b[32m[I 2022-06-23 23:34:35,391]\u001b[0m Trial 26 finished with value: 0.5 and parameters: {'lambda_l1': 0.00040670513551551037, 'lambda_l2': 0.000993337803471016, 'num_leaves': 229, 'feature_fraction': 0.45560100073215576, 'bagging_fraction': 0.7256215214440511, 'bagging_freq': 4, 'min_child_samples': 56, 'max_depth': 424}. Best is trial 20 with value: 0.8514517096680408.\u001b[0m\n",
      "\u001b[32m[I 2022-06-23 23:34:37,857]\u001b[0m Trial 27 finished with value: 0.8448829183802092 and parameters: {'lambda_l1': 0.0013086197733508686, 'lambda_l2': 0.0283661093629875, 'num_leaves': 201, 'feature_fraction': 0.5418095336769511, 'bagging_fraction': 0.8232240945645716, 'bagging_freq': 6, 'min_child_samples': 23, 'max_depth': 647}. Best is trial 20 with value: 0.8514517096680408.\u001b[0m\n",
      "\u001b[32m[I 2022-06-23 23:34:39,074]\u001b[0m Trial 28 finished with value: 0.8525434247340207 and parameters: {'lambda_l1': 0.23262549664122306, 'lambda_l2': 1.4937091651114989, 'num_leaves': 139, 'feature_fraction': 0.681355912793349, 'bagging_fraction': 0.4171511186817847, 'bagging_freq': 2, 'min_child_samples': 12, 'max_depth': 269}. Best is trial 28 with value: 0.8525434247340207.\u001b[0m\n",
      "\u001b[32m[I 2022-06-23 23:34:39,550]\u001b[0m Trial 29 finished with value: 0.5 and parameters: {'lambda_l1': 0.4433332080332377, 'lambda_l2': 1.3041691078325586, 'num_leaves': 81, 'feature_fraction': 0.6936726720317222, 'bagging_fraction': 0.42994467303175454, 'bagging_freq': 1, 'min_child_samples': 33, 'max_depth': 283}. Best is trial 28 with value: 0.8525434247340207.\u001b[0m\n",
      "\u001b[32m[I 2022-06-23 23:34:39,921]\u001b[0m Trial 30 finished with value: 0.5 and parameters: {'lambda_l1': 0.2655126162654206, 'lambda_l2': 1.308900025021662, 'num_leaves': 146, 'feature_fraction': 0.9070873711831385, 'bagging_fraction': 0.701646505418323, 'bagging_freq': 5, 'min_child_samples': 96, 'max_depth': 381}. Best is trial 28 with value: 0.8525434247340207.\u001b[0m\n",
      "\u001b[32m[I 2022-06-23 23:34:41,488]\u001b[0m Trial 31 finished with value: 0.8473401339587485 and parameters: {'lambda_l1': 2.20392219828739e-05, 'lambda_l2': 0.11586241264206969, 'num_leaves': 174, 'feature_fraction': 0.7453062514130372, 'bagging_fraction': 0.5059924378012062, 'bagging_freq': 2, 'min_child_samples': 12, 'max_depth': 282}. Best is trial 28 with value: 0.8525434247340207.\u001b[0m\n",
      "\u001b[32m[I 2022-06-23 23:34:42,696]\u001b[0m Trial 32 finished with value: 0.855070957143132 and parameters: {'lambda_l1': 0.016087424739380924, 'lambda_l2': 0.00010485274006293073, 'num_leaves': 188, 'feature_fraction': 0.6765436499757205, 'bagging_fraction': 0.46058965585182027, 'bagging_freq': 2, 'min_child_samples': 14, 'max_depth': 200}. Best is trial 32 with value: 0.855070957143132.\u001b[0m\n",
      "\u001b[32m[I 2022-06-23 23:34:44,234]\u001b[0m Trial 33 finished with value: 0.8202589278841214 and parameters: {'lambda_l1': 0.014045217423030332, 'lambda_l2': 3.1416129200320464, 'num_leaves': 191, 'feature_fraction': 0.7857204352534015, 'bagging_fraction': 0.4354901426575567, 'bagging_freq': 1, 'min_child_samples': 5, 'max_depth': 160}. Best is trial 32 with value: 0.855070957143132.\u001b[0m\n",
      "\u001b[32m[I 2022-06-23 23:34:45,733]\u001b[0m Trial 34 finished with value: 0.8587185535482749 and parameters: {'lambda_l1': 0.056898347457982175, 'lambda_l2': 9.288799838202661e-07, 'num_leaves': 167, 'feature_fraction': 0.6788773216009135, 'bagging_fraction': 0.45821071410992287, 'bagging_freq': 3, 'min_child_samples': 22, 'max_depth': 473}. Best is trial 34 with value: 0.8587185535482749.\u001b[0m\n",
      "\u001b[32m[I 2022-06-23 23:34:46,515]\u001b[0m Trial 35 finished with value: 0.5467785283172281 and parameters: {'lambda_l1': 0.06635863736412465, 'lambda_l2': 1.8159424438099757e-08, 'num_leaves': 172, 'feature_fraction': 0.6775345924770063, 'bagging_fraction': 0.40860634225516274, 'bagging_freq': 3, 'min_child_samples': 29, 'max_depth': 475}. Best is trial 34 with value: 0.8587185535482749.\u001b[0m\n",
      "\u001b[32m[I 2022-06-23 23:34:47,711]\u001b[0m Trial 36 finished with value: 0.7272584595487072 and parameters: {'lambda_l1': 9.119002317804867, 'lambda_l2': 1.4443658943645516e-06, 'num_leaves': 107, 'feature_fraction': 0.8728074456334184, 'bagging_fraction': 0.45887614526471465, 'bagging_freq': 4, 'min_child_samples': 10, 'max_depth': 477}. Best is trial 34 with value: 0.8587185535482749.\u001b[0m\n",
      "\u001b[32m[I 2022-06-23 23:34:48,649]\u001b[0m Trial 37 finished with value: 0.8295485351421884 and parameters: {'lambda_l1': 1.482838495017094, 'lambda_l2': 3.0283313726170933e-06, 'num_leaves': 135, 'feature_fraction': 0.7129255423414091, 'bagging_fraction': 0.44380720788607947, 'bagging_freq': 3, 'min_child_samples': 23, 'max_depth': 322}. Best is trial 34 with value: 0.8587185535482749.\u001b[0m\n",
      "\u001b[32m[I 2022-06-23 23:34:49,134]\u001b[0m Trial 38 finished with value: 0.5 and parameters: {'lambda_l1': 0.1773556846116737, 'lambda_l2': 2.1616459539293982e-07, 'num_leaves': 117, 'feature_fraction': 0.7779865990673405, 'bagging_fraction': 0.40010153182330965, 'bagging_freq': 1, 'min_child_samples': 64, 'max_depth': 790}. Best is trial 34 with value: 0.8587185535482749.\u001b[0m\n",
      "\u001b[32m[I 2022-06-23 23:34:50,639]\u001b[0m Trial 39 finished with value: 0.8468599849153253 and parameters: {'lambda_l1': 1.2825883672962566, 'lambda_l2': 6.316919368017719e-05, 'num_leaves': 185, 'feature_fraction': 0.6740307371227647, 'bagging_fraction': 0.5237804492799658, 'bagging_freq': 4, 'min_child_samples': 23, 'max_depth': 568}. Best is trial 34 with value: 0.8587185535482749.\u001b[0m\n",
      "\u001b[32m[I 2022-06-23 23:34:51,023]\u001b[0m Trial 40 finished with value: 0.5 and parameters: {'lambda_l1': 0.03895013812339749, 'lambda_l2': 0.004400578245789423, 'num_leaves': 166, 'feature_fraction': 0.7740697030141461, 'bagging_fraction': 0.8578575339457744, 'bagging_freq': 3, 'min_child_samples': 57, 'max_depth': 393}. Best is trial 34 with value: 0.8587185535482749.\u001b[0m\n",
      "\u001b[32m[I 2022-06-23 23:34:52,059]\u001b[0m Trial 41 finished with value: 0.858459910896637 and parameters: {'lambda_l1': 0.006286446497762297, 'lambda_l2': 3.379137885881099e-07, 'num_leaves': 144, 'feature_fraction': 0.5623868226241424, 'bagging_fraction': 0.45709756680328917, 'bagging_freq': 2, 'min_child_samples': 15, 'max_depth': 241}. Best is trial 34 with value: 0.8587185535482749.\u001b[0m\n",
      "\u001b[32m[I 2022-06-23 23:34:54,282]\u001b[0m Trial 42 finished with value: 0.7950581215739883 and parameters: {'lambda_l1': 0.004604642077690244, 'lambda_l2': 4.2829379381632147e-07, 'num_leaves': 120, 'feature_fraction': 0.6146630267761799, 'bagging_fraction': 0.9830616933045848, 'bagging_freq': 2, 'min_child_samples': 10, 'max_depth': 353}. Best is trial 34 with value: 0.8587185535482749.\u001b[0m\n",
      "\u001b[32m[I 2022-06-23 23:34:55,544]\u001b[0m Trial 43 finished with value: 0.8576938406880356 and parameters: {'lambda_l1': 0.012349917102621578, 'lambda_l2': 3.551692456242891e-08, 'num_leaves': 149, 'feature_fraction': 0.5662618762034473, 'bagging_fraction': 0.47476054762439424, 'bagging_freq': 6, 'min_child_samples': 15, 'max_depth': 300}. Best is trial 34 with value: 0.8587185535482749.\u001b[0m\n"
     ]
    },
    {
     "name": "stderr",
     "output_type": "stream",
     "text": [
      "\u001b[32m[I 2022-06-23 23:34:56,458]\u001b[0m Trial 44 finished with value: 0.8309216784462528 and parameters: {'lambda_l1': 0.12805272165280263, 'lambda_l2': 1.1096030783653459e-08, 'num_leaves': 146, 'feature_fraction': 0.564379479523821, 'bagging_fraction': 0.4740626746323659, 'bagging_freq': 7, 'min_child_samples': 14, 'max_depth': 160}. Best is trial 34 with value: 0.8587185535482749.\u001b[0m\n",
      "\u001b[32m[I 2022-06-23 23:34:58,260]\u001b[0m Trial 45 finished with value: 0.847702398521671 and parameters: {'lambda_l1': 0.0042033404046229175, 'lambda_l2': 3.45172810622433e-08, 'num_leaves': 82, 'feature_fraction': 0.5986836272784102, 'bagging_fraction': 0.5004357529230422, 'bagging_freq': 3, 'min_child_samples': 7, 'max_depth': 295}. Best is trial 34 with value: 0.8587185535482749.\u001b[0m\n",
      "\u001b[32m[I 2022-06-23 23:34:59,397]\u001b[0m Trial 46 finished with value: 0.8450055008416075 and parameters: {'lambda_l1': 0.6769662413006188, 'lambda_l2': 1.2202155135645877e-07, 'num_leaves': 128, 'feature_fraction': 0.6577406849774157, 'bagging_fraction': 0.45879016093928365, 'bagging_freq': 2, 'min_child_samples': 14, 'max_depth': 255}. Best is trial 34 with value: 0.8587185535482749.\u001b[0m\n",
      "\u001b[32m[I 2022-06-23 23:35:00,046]\u001b[0m Trial 47 finished with value: 0.8282005234832248 and parameters: {'lambda_l1': 0.03409113162301743, 'lambda_l2': 4.075451250323421e-06, 'num_leaves': 93, 'feature_fraction': 0.5594633272312388, 'bagging_fraction': 0.5397281202661245, 'bagging_freq': 1, 'min_child_samples': 27, 'max_depth': 154}. Best is trial 34 with value: 0.8587185535482749.\u001b[0m\n",
      "\u001b[32m[I 2022-06-23 23:35:00,526]\u001b[0m Trial 48 finished with value: 0.5 and parameters: {'lambda_l1': 0.010212715029535302, 'lambda_l2': 5.486340946657493e-07, 'num_leaves': 149, 'feature_fraction': 0.7046602503731748, 'bagging_fraction': 0.4277602849986984, 'bagging_freq': 2, 'min_child_samples': 83, 'max_depth': 801}. Best is trial 34 with value: 0.8587185535482749.\u001b[0m\n",
      "\u001b[32m[I 2022-06-23 23:35:02,149]\u001b[0m Trial 49 finished with value: 0.844133149444295 and parameters: {'lambda_l1': 0.07115906598361428, 'lambda_l2': 5.5207768912246695e-08, 'num_leaves': 198, 'feature_fraction': 0.6287187485279477, 'bagging_fraction': 0.4824777904216231, 'bagging_freq': 3, 'min_child_samples': 10, 'max_depth': 308}. Best is trial 34 with value: 0.8587185535482749.\u001b[0m\n",
      "\u001b[32m[I 2022-06-23 23:35:02,737]\u001b[0m Trial 50 finished with value: 0.5 and parameters: {'lambda_l1': 4.537351325470187, 'lambda_l2': 1.5429784306007553e-07, 'num_leaves': 183, 'feature_fraction': 0.6583933542079912, 'bagging_fraction': 0.5211526675898172, 'bagging_freq': 7, 'min_child_samples': 47, 'max_depth': 233}. Best is trial 34 with value: 0.8587185535482749.\u001b[0m\n",
      "\u001b[32m[I 2022-06-23 23:35:04,189]\u001b[0m Trial 51 finished with value: 0.8602098498122105 and parameters: {'lambda_l1': 0.013705761683009769, 'lambda_l2': 5.399653575942708e-06, 'num_leaves': 161, 'feature_fraction': 0.5021926153939574, 'bagging_fraction': 0.44980762015463555, 'bagging_freq': 6, 'min_child_samples': 21, 'max_depth': 445}. Best is trial 51 with value: 0.8602098498122105.\u001b[0m\n",
      "\u001b[32m[I 2022-06-23 23:35:05,628]\u001b[0m Trial 52 finished with value: 0.8551855968249156 and parameters: {'lambda_l1': 0.0025304454168593145, 'lambda_l2': 3.888960700548029e-06, 'num_leaves': 138, 'feature_fraction': 0.5184218896323016, 'bagging_fraction': 0.45748367806130286, 'bagging_freq': 6, 'min_child_samples': 22, 'max_depth': 454}. Best is trial 51 with value: 0.8602098498122105.\u001b[0m\n",
      "\u001b[32m[I 2022-06-23 23:35:06,308]\u001b[0m Trial 53 finished with value: 0.5789310156218052 and parameters: {'lambda_l1': 0.002229539151228159, 'lambda_l2': 6.436952616961961e-06, 'num_leaves': 122, 'feature_fraction': 0.5095289127030158, 'bagging_fraction': 0.4539024051628908, 'bagging_freq': 6, 'min_child_samples': 32, 'max_depth': 590}. Best is trial 51 with value: 0.8602098498122105.\u001b[0m\n",
      "\u001b[32m[I 2022-06-23 23:35:07,615]\u001b[0m Trial 54 finished with value: 0.8564146586987146 and parameters: {'lambda_l1': 9.853567339413267e-05, 'lambda_l2': 4.3934932355403315e-05, 'num_leaves': 165, 'feature_fraction': 0.42676414134279717, 'bagging_fraction': 0.4882274724366387, 'bagging_freq': 6, 'min_child_samples': 23, 'max_depth': 459}. Best is trial 51 with value: 0.8602098498122105.\u001b[0m\n",
      "\u001b[32m[I 2022-06-23 23:35:08,282]\u001b[0m Trial 55 finished with value: 0.5 and parameters: {'lambda_l1': 0.00012323836988856226, 'lambda_l2': 4.846228922742809e-07, 'num_leaves': 165, 'feature_fraction': 0.4224776770735123, 'bagging_fraction': 0.49601682810806125, 'bagging_freq': 6, 'min_child_samples': 39, 'max_depth': 519}. Best is trial 51 with value: 0.8602098498122105.\u001b[0m\n",
      "\u001b[32m[I 2022-06-23 23:35:09,504]\u001b[0m Trial 56 finished with value: 0.8549426062413679 and parameters: {'lambda_l1': 2.09733990770205e-05, 'lambda_l2': 3.495730924196708e-05, 'num_leaves': 153, 'feature_fraction': 0.4403586327131535, 'bagging_fraction': 0.47695989395087285, 'bagging_freq': 7, 'min_child_samples': 22, 'max_depth': 453}. Best is trial 51 with value: 0.8602098498122105.\u001b[0m\n",
      "\u001b[32m[I 2022-06-23 23:35:10,922]\u001b[0m Trial 57 finished with value: 0.8606168648173292 and parameters: {'lambda_l1': 0.0006923087596175005, 'lambda_l2': 2.6274921506863935e-06, 'num_leaves': 136, 'feature_fraction': 0.4910287483622795, 'bagging_fraction': 0.5468571504080152, 'bagging_freq': 6, 'min_child_samples': 29, 'max_depth': 624}. Best is trial 57 with value: 0.8606168648173292.\u001b[0m\n",
      "\u001b[32m[I 2022-06-23 23:35:11,629]\u001b[0m Trial 58 finished with value: 0.6719195355727864 and parameters: {'lambda_l1': 4.836479579269072e-05, 'lambda_l2': 7.64111295863255e-07, 'num_leaves': 111, 'feature_fraction': 0.4936146313872409, 'bagging_fraction': 0.5486108670857622, 'bagging_freq': 6, 'min_child_samples': 36, 'max_depth': 640}. Best is trial 57 with value: 0.8606168648173292.\u001b[0m\n",
      "\u001b[32m[I 2022-06-23 23:35:13,182]\u001b[0m Trial 59 finished with value: 0.8579477664363498 and parameters: {'lambda_l1': 7.350815506424822e-06, 'lambda_l2': 1.3169158701310805e-06, 'num_leaves': 130, 'feature_fraction': 0.4277361281406702, 'bagging_fraction': 0.586348561936376, 'bagging_freq': 5, 'min_child_samples': 29, 'max_depth': 685}. Best is trial 57 with value: 0.8606168648173292.\u001b[0m\n",
      "\u001b[32m[I 2022-06-23 23:35:14,841]\u001b[0m Trial 60 finished with value: 0.8598101733148172 and parameters: {'lambda_l1': 1.2063657547765817e-07, 'lambda_l2': 1.6190316156692834e-06, 'num_leaves': 94, 'feature_fraction': 0.5468067930423938, 'bagging_fraction': 0.6015978372779789, 'bagging_freq': 5, 'min_child_samples': 29, 'max_depth': 716}. Best is trial 57 with value: 0.8606168648173292.\u001b[0m\n",
      "\u001b[32m[I 2022-06-23 23:35:16,422]\u001b[0m Trial 61 finished with value: 0.8584301703628329 and parameters: {'lambda_l1': 7.48616853292663e-07, 'lambda_l2': 2.0127164839621506e-06, 'num_leaves': 97, 'feature_fraction': 0.5515127999896763, 'bagging_fraction': 0.5881242139613481, 'bagging_freq': 5, 'min_child_samples': 29, 'max_depth': 715}. Best is trial 57 with value: 0.8606168648173292.\u001b[0m\n",
      "\u001b[32m[I 2022-06-23 23:35:18,074]\u001b[0m Trial 62 finished with value: 0.8627685659283957 and parameters: {'lambda_l1': 1.5612992077241274e-07, 'lambda_l2': 1.7805925430875943e-06, 'num_leaves': 100, 'feature_fraction': 0.5495728585288866, 'bagging_fraction': 0.5920117842491677, 'bagging_freq': 5, 'min_child_samples': 30, 'max_depth': 725}. Best is trial 62 with value: 0.8627685659283957.\u001b[0m\n",
      "\u001b[32m[I 2022-06-23 23:35:18,738]\u001b[0m Trial 63 finished with value: 0.5 and parameters: {'lambda_l1': 1.208065753984252e-07, 'lambda_l2': 2.1185748431679605e-06, 'num_leaves': 54, 'feature_fraction': 0.5482978958097032, 'bagging_fraction': 0.5915732333571385, 'bagging_freq': 5, 'min_child_samples': 43, 'max_depth': 772}. Best is trial 62 with value: 0.8627685659283957.\u001b[0m\n",
      "\u001b[32m[I 2022-06-23 23:35:20,431]\u001b[0m Trial 64 finished with value: 0.8584216529299732 and parameters: {'lambda_l1': 1.3162488299990337e-07, 'lambda_l2': 8.121346494745945e-06, 'num_leaves': 95, 'feature_fraction': 0.4772566105933212, 'bagging_fraction': 0.6156083427148065, 'bagging_freq': 5, 'min_child_samples': 26, 'max_depth': 723}. Best is trial 62 with value: 0.8627685659283957.\u001b[0m\n",
      "\u001b[32m[I 2022-06-23 23:35:21,875]\u001b[0m Trial 65 finished with value: 0.8578073898710507 and parameters: {'lambda_l1': 7.694388524816639e-07, 'lambda_l2': 1.3365033605670465e-05, 'num_leaves': 75, 'feature_fraction': 0.587548668796158, 'bagging_fraction': 0.6607644855762844, 'bagging_freq': 5, 'min_child_samples': 34, 'max_depth': 664}. Best is trial 62 with value: 0.8627685659283957.\u001b[0m\n"
     ]
    },
    {
     "name": "stderr",
     "output_type": "stream",
     "text": [
      "\u001b[32m[I 2022-06-23 23:35:23,777]\u001b[0m Trial 66 finished with value: 0.8624388564222155 and parameters: {'lambda_l1': 3.332194359867164e-08, 'lambda_l2': 2.8748091577579024e-07, 'num_leaves': 99, 'feature_fraction': 0.5202959488420069, 'bagging_fraction': 0.6412478137487818, 'bagging_freq': 4, 'min_child_samples': 31, 'max_depth': 890}. Best is trial 62 with value: 0.8627685659283957.\u001b[0m\n",
      "\u001b[32m[I 2022-06-23 23:35:25,717]\u001b[0m Trial 67 finished with value: 0.8590302445018003 and parameters: {'lambda_l1': 6.486994021115984e-08, 'lambda_l2': 3.3498734276185855e-07, 'num_leaves': 80, 'feature_fraction': 0.5212812170695712, 'bagging_fraction': 0.6395867937595023, 'bagging_freq': 4, 'min_child_samples': 18, 'max_depth': 875}. Best is trial 62 with value: 0.8627685659283957.\u001b[0m\n",
      "\u001b[32m[I 2022-06-23 23:35:27,604]\u001b[0m Trial 68 finished with value: 0.861898707029125 and parameters: {'lambda_l1': 4.5346043038858475e-08, 'lambda_l2': 2.3372156525239048e-07, 'num_leaves': 71, 'feature_fraction': 0.5274956655946123, 'bagging_fraction': 0.6290160446503709, 'bagging_freq': 4, 'min_child_samples': 31, 'max_depth': 901}. Best is trial 62 with value: 0.8627685659283957.\u001b[0m\n",
      "\u001b[32m[I 2022-06-23 23:35:29,420]\u001b[0m Trial 69 finished with value: 0.8615332620380994 and parameters: {'lambda_l1': 4.699126644935128e-08, 'lambda_l2': 2.627994867960753e-07, 'num_leaves': 73, 'feature_fraction': 0.5285185171512958, 'bagging_fraction': 0.6392735046668193, 'bagging_freq': 4, 'min_child_samples': 32, 'max_depth': 885}. Best is trial 62 with value: 0.8627685659283957.\u001b[0m\n",
      "\u001b[32m[I 2022-06-23 23:35:31,114]\u001b[0m Trial 70 finished with value: 0.8522230923101667 and parameters: {'lambda_l1': 2.9400342135207805e-08, 'lambda_l2': 7.584182125405617e-08, 'num_leaves': 60, 'feature_fraction': 0.46150282936030884, 'bagging_fraction': 0.6923182111726365, 'bagging_freq': 4, 'min_child_samples': 37, 'max_depth': 987}. Best is trial 62 with value: 0.8627685659283957.\u001b[0m\n",
      "\u001b[32m[I 2022-06-23 23:35:33,036]\u001b[0m Trial 71 finished with value: 0.8572658923249094 and parameters: {'lambda_l1': 2.0466814057328264e-07, 'lambda_l2': 2.821298023959652e-07, 'num_leaves': 64, 'feature_fraction': 0.5305581184794494, 'bagging_fraction': 0.6324806317408542, 'bagging_freq': 4, 'min_child_samples': 30, 'max_depth': 862}. Best is trial 62 with value: 0.8627685659283957.\u001b[0m\n",
      "\u001b[32m[I 2022-06-23 23:35:33,743]\u001b[0m Trial 72 finished with value: 0.7161123134261682 and parameters: {'lambda_l1': 3.765404364764673e-08, 'lambda_l2': 1.5160523785179544e-07, 'num_leaves': 36, 'feature_fraction': 0.4997607542325423, 'bagging_fraction': 0.6383420710897674, 'bagging_freq': 4, 'min_child_samples': 40, 'max_depth': 917}. Best is trial 62 with value: 0.8627685659283957.\u001b[0m\n",
      "\u001b[32m[I 2022-06-23 23:35:35,585]\u001b[0m Trial 73 finished with value: 0.8564626705638702 and parameters: {'lambda_l1': 6.354962944062976e-08, 'lambda_l2': 7.901379515242157e-07, 'num_leaves': 85, 'feature_fraction': 0.5222537761459624, 'bagging_fraction': 0.6812043037734379, 'bagging_freq': 4, 'min_child_samples': 34, 'max_depth': 858}. Best is trial 62 with value: 0.8627685659283957.\u001b[0m\n",
      "\u001b[32m[I 2022-06-23 23:35:37,727]\u001b[0m Trial 74 finished with value: 0.8577465559681116 and parameters: {'lambda_l1': 1.231435486229448e-08, 'lambda_l2': 2.2429735474362457e-07, 'num_leaves': 75, 'feature_fraction': 0.49017618676109287, 'bagging_fraction': 0.614045880442762, 'bagging_freq': 4, 'min_child_samples': 26, 'max_depth': 946}. Best is trial 62 with value: 0.8627685659283957.\u001b[0m\n",
      "\u001b[32m[I 2022-06-23 23:35:40,025]\u001b[0m Trial 75 finished with value: 0.8579652940154101 and parameters: {'lambda_l1': 3.795984979082395e-07, 'lambda_l2': 4.415475082288555e-06, 'num_leaves': 67, 'feature_fraction': 0.5042456085807975, 'bagging_fraction': 0.6469196470994805, 'bagging_freq': 4, 'min_child_samples': 19, 'max_depth': 841}. Best is trial 62 with value: 0.8627685659283957.\u001b[0m\n",
      "\u001b[32m[I 2022-06-23 23:35:41,007]\u001b[0m Trial 76 finished with value: 0.5 and parameters: {'lambda_l1': 5.962910623662412e-08, 'lambda_l2': 2.2225160499151157e-06, 'num_leaves': 92, 'feature_fraction': 0.5359256951417886, 'bagging_fraction': 0.5655634131355936, 'bagging_freq': 5, 'min_child_samples': 48, 'max_depth': 895}. Best is trial 62 with value: 0.8627685659283957.\u001b[0m\n",
      "\u001b[32m[I 2022-06-23 23:35:43,116]\u001b[0m Trial 77 finished with value: 0.856611161348971 and parameters: {'lambda_l1': 2.194239927370341e-06, 'lambda_l2': 2.0551417483738928e-05, 'num_leaves': 110, 'feature_fraction': 0.5811257603926674, 'bagging_fraction': 0.6017067269033275, 'bagging_freq': 4, 'min_child_samples': 31, 'max_depth': 825}. Best is trial 62 with value: 0.8627685659283957.\u001b[0m\n",
      "\u001b[32m[I 2022-06-23 23:35:43,773]\u001b[0m Trial 78 finished with value: 0.5 and parameters: {'lambda_l1': 1.9088920964726677e-08, 'lambda_l2': 4.74146042477638e-08, 'num_leaves': 70, 'feature_fraction': 0.4769821548943606, 'bagging_fraction': 0.6759089568243503, 'bagging_freq': 5, 'min_child_samples': 44, 'max_depth': 760}. Best is trial 62 with value: 0.8627685659283957.\u001b[0m\n",
      "\u001b[32m[I 2022-06-23 23:35:45,724]\u001b[0m Trial 79 finished with value: 0.8600160569994161 and parameters: {'lambda_l1': 2.978753476314266e-07, 'lambda_l2': 6.709798405472408e-07, 'num_leaves': 34, 'feature_fraction': 0.5403295478814475, 'bagging_fraction': 0.7033490665170643, 'bagging_freq': 4, 'min_child_samples': 25, 'max_depth': 888}. Best is trial 62 with value: 0.8627685659283957.\u001b[0m\n",
      "\u001b[32m[I 2022-06-23 23:35:47,674]\u001b[0m Trial 80 finished with value: 0.8564785973185741 and parameters: {'lambda_l1': 3.3776533668675113e-07, 'lambda_l2': 1.102481537954078e-06, 'num_leaves': 4, 'feature_fraction': 0.6105587438500207, 'bagging_fraction': 0.7141760513201796, 'bagging_freq': 5, 'min_child_samples': 25, 'max_depth': 932}. Best is trial 62 with value: 0.8627685659283957.\u001b[0m\n",
      "\u001b[32m[I 2022-06-23 23:35:49,604]\u001b[0m Trial 81 finished with value: 0.8527087305539317 and parameters: {'lambda_l1': 9.230535953203379e-08, 'lambda_l2': 8.499077446083698e-08, 'num_leaves': 40, 'feature_fraction': 0.5420548172805912, 'bagging_fraction': 0.7528112541059996, 'bagging_freq': 4, 'min_child_samples': 34, 'max_depth': 889}. Best is trial 62 with value: 0.8627685659283957.\u001b[0m\n",
      "\u001b[32m[I 2022-06-23 23:35:51,390]\u001b[0m Trial 82 finished with value: 0.8564620948152295 and parameters: {'lambda_l1': 2.163510415612061e-07, 'lambda_l2': 4.888639864249148e-07, 'num_leaves': 23, 'feature_fraction': 0.4581867995939932, 'bagging_fraction': 0.7351349015910547, 'bagging_freq': 4, 'min_child_samples': 25, 'max_depth': 869}. Best is trial 62 with value: 0.8627685659283957.\u001b[0m\n",
      "\u001b[32m[I 2022-06-23 23:35:53,445]\u001b[0m Trial 83 finished with value: 0.8584372180322256 and parameters: {'lambda_l1': 2.3746310498394126e-08, 'lambda_l2': 2.454862405442576e-07, 'num_leaves': 88, 'feature_fraction': 0.5211176120720148, 'bagging_fraction': 0.6287376988253803, 'bagging_freq': 4, 'min_child_samples': 17, 'max_depth': 964}. Best is trial 62 with value: 0.8627685659283957.\u001b[0m\n",
      "\u001b[32m[I 2022-06-23 23:35:55,415]\u001b[0m Trial 84 finished with value: 0.8602732306822862 and parameters: {'lambda_l1': 5.537278123428985e-08, 'lambda_l2': 6.834211775352423e-06, 'num_leaves': 103, 'feature_fraction': 0.576288901520507, 'bagging_fraction': 0.6507735571151149, 'bagging_freq': 4, 'min_child_samples': 20, 'max_depth': 831}. Best is trial 62 with value: 0.8627685659283957.\u001b[0m\n",
      "\u001b[32m[I 2022-06-23 23:35:56,858]\u001b[0m Trial 85 finished with value: 0.8542879947280103 and parameters: {'lambda_l1': 3.8436811383271706e-08, 'lambda_l2': 6.502591125103073e-06, 'num_leaves': 104, 'feature_fraction': 0.598400500315114, 'bagging_fraction': 0.6580146379571379, 'bagging_freq': 4, 'min_child_samples': 36, 'max_depth': 823}. Best is trial 62 with value: 0.8627685659283957.\u001b[0m\n",
      "\u001b[32m[I 2022-06-23 23:35:58,772]\u001b[0m Trial 86 finished with value: 0.8613873875737267 and parameters: {'lambda_l1': 1.4677507535080036e-08, 'lambda_l2': 1.6392390776191579e-06, 'num_leaves': 99, 'feature_fraction': 0.571484874161016, 'bagging_fraction': 0.5726416184989621, 'bagging_freq': 5, 'min_child_samples': 28, 'max_depth': 796}. Best is trial 62 with value: 0.8627685659283957.\u001b[0m\n",
      "\u001b[32m[I 2022-06-23 23:36:00,734]\u001b[0m Trial 87 finished with value: 0.8598368504775239 and parameters: {'lambda_l1': 1.0026113873388306e-08, 'lambda_l2': 7.453352028643686e-07, 'num_leaves': 116, 'feature_fraction': 0.5753193591816548, 'bagging_fraction': 0.5707915644169365, 'bagging_freq': 6, 'min_child_samples': 20, 'max_depth': 803}. Best is trial 62 with value: 0.8627685659283957.\u001b[0m\n"
     ]
    },
    {
     "name": "stderr",
     "output_type": "stream",
     "text": [
      "\u001b[32m[I 2022-06-23 23:36:01,954]\u001b[0m Trial 88 finished with value: 0.8526266152578073 and parameters: {'lambda_l1': 4.818120766385874e-08, 'lambda_l2': 1.2497593771243688e-05, 'num_leaves': 47, 'feature_fraction': 0.48639136083604334, 'bagging_fraction': 0.555751654860862, 'bagging_freq': 4, 'min_child_samples': 32, 'max_depth': 914}. Best is trial 62 with value: 0.8627685659283957.\u001b[0m\n",
      "\u001b[32m[I 2022-06-23 23:36:02,743]\u001b[0m Trial 89 finished with value: 0.5 and parameters: {'lambda_l1': 1.600771207270657e-08, 'lambda_l2': 2.466229149104665e-06, 'num_leaves': 102, 'feature_fraction': 0.5074234648852856, 'bagging_fraction': 0.7060544958260057, 'bagging_freq': 3, 'min_child_samples': 51, 'max_depth': 745}. Best is trial 62 with value: 0.8627685659283957.\u001b[0m\n",
      "\u001b[32m[I 2022-06-23 23:36:03,568]\u001b[0m Trial 90 finished with value: 0.652139272814389 and parameters: {'lambda_l1': 0.0007686671648022217, 'lambda_l2': 5.509232029833948e-06, 'num_leaves': 21, 'feature_fraction': 0.4410034475085249, 'bagging_fraction': 0.6756921246120623, 'bagging_freq': 5, 'min_child_samples': 42, 'max_depth': 839}. Best is trial 62 with value: 0.8627685659283957.\u001b[0m\n",
      "\u001b[32m[I 2022-06-23 23:36:05,422]\u001b[0m Trial 91 finished with value: 0.8648581544444547 and parameters: {'lambda_l1': 1.0712937142551042e-08, 'lambda_l2': 6.609156635240845e-07, 'num_leaves': 114, 'feature_fraction': 0.5756928467636622, 'bagging_fraction': 0.5783485748324911, 'bagging_freq': 6, 'min_child_samples': 25, 'max_depth': 775}. Best is trial 91 with value: 0.8648581544444547.\u001b[0m\n",
      "\u001b[32m[I 2022-06-23 23:36:07,258]\u001b[0m Trial 92 finished with value: 0.8538382428759751 and parameters: {'lambda_l1': 2.164359829627845e-08, 'lambda_l2': 1.2690871326647538e-07, 'num_leaves': 111, 'feature_fraction': 0.5994705542466617, 'bagging_fraction': 0.6179149018294074, 'bagging_freq': 6, 'min_child_samples': 27, 'max_depth': 768}. Best is trial 91 with value: 0.8648581544444547.\u001b[0m\n",
      "\u001b[32m[I 2022-06-23 23:36:09,076]\u001b[0m Trial 93 finished with value: 0.8669831659783285 and parameters: {'lambda_l1': 2.659499529081245e-07, 'lambda_l2': 1.1606013737525633e-06, 'num_leaves': 123, 'feature_fraction': 0.5733600247687612, 'bagging_fraction': 0.5388476621053373, 'bagging_freq': 7, 'min_child_samples': 24, 'max_depth': 790}. Best is trial 93 with value: 0.8669831659783285.\u001b[0m\n",
      "\u001b[32m[I 2022-06-23 23:36:10,405]\u001b[0m Trial 94 finished with value: 0.8562542309986195 and parameters: {'lambda_l1': 8.115615419495532e-08, 'lambda_l2': 1.2007224875264788e-06, 'num_leaves': 124, 'feature_fraction': 0.6248091840518709, 'bagging_fraction': 0.5326243720311017, 'bagging_freq': 7, 'min_child_samples': 31, 'max_depth': 795}. Best is trial 93 with value: 0.8669831659783285.\u001b[0m\n",
      "\u001b[32m[I 2022-06-23 23:36:11,771]\u001b[0m Trial 95 finished with value: 0.860839928819031 and parameters: {'lambda_l1': 3.3965262764272684e-08, 'lambda_l2': 3.184377341415907e-06, 'num_leaves': 115, 'feature_fraction': 0.5711445214849317, 'bagging_fraction': 0.5190276744092057, 'bagging_freq': 7, 'min_child_samples': 28, 'max_depth': 617}. Best is trial 93 with value: 0.8669831659783285.\u001b[0m\n",
      "\u001b[32m[I 2022-06-23 23:36:12,439]\u001b[0m Trial 96 finished with value: 0.5 and parameters: {'lambda_l1': 3.4191889488610744e-08, 'lambda_l2': 3.0082230357261373e-06, 'num_leaves': 131, 'feature_fraction': 0.643794449246573, 'bagging_fraction': 0.5094184889355158, 'bagging_freq': 7, 'min_child_samples': 35, 'max_depth': 620}. Best is trial 93 with value: 0.8669831659783285.\u001b[0m\n",
      "\u001b[32m[I 2022-06-23 23:36:13,113]\u001b[0m Trial 97 finished with value: 0.5 and parameters: {'lambda_l1': 1.4952934400948942e-08, 'lambda_l2': 2.220961792239508e-05, 'num_leaves': 115, 'feature_fraction': 0.5658284814262781, 'bagging_fraction': 0.5457328012323976, 'bagging_freq': 7, 'min_child_samples': 39, 'max_depth': 686}. Best is trial 93 with value: 0.8669831659783285.\u001b[0m\n",
      "\u001b[32m[I 2022-06-23 23:36:14,803]\u001b[0m Trial 98 finished with value: 0.8570983947038513 and parameters: {'lambda_l1': 1.8556571311261748e-07, 'lambda_l2': 2.6404200509727375e-08, 'num_leaves': 99, 'feature_fraction': 0.5870924600698235, 'bagging_fraction': 0.5737448482624088, 'bagging_freq': 7, 'min_child_samples': 28, 'max_depth': 745}. Best is trial 93 with value: 0.8669831659783285.\u001b[0m\n",
      "\u001b[32m[I 2022-06-23 23:36:15,226]\u001b[0m Trial 99 finished with value: 0.5 and parameters: {'lambda_l1': 2.543346403922344e-08, 'lambda_l2': 0.0012894461531130109, 'num_leaves': 89, 'feature_fraction': 0.5769090887735252, 'bagging_fraction': 0.517452231907945, 'bagging_freq': 7, 'min_child_samples': 73, 'max_depth': 578}. Best is trial 93 with value: 0.8669831659783285.\u001b[0m\n",
      "\u001b[32m[I 2022-06-23 23:36:17,127]\u001b[0m Trial 100 finished with value: 0.865364127208361 and parameters: {'lambda_l1': 4.602726689951724e-07, 'lambda_l2': 1.613247752663723e-07, 'num_leaves': 123, 'feature_fraction': 0.5548138596019171, 'bagging_fraction': 0.5604383049795447, 'bagging_freq': 7, 'min_child_samples': 24, 'max_depth': 817}. Best is trial 93 with value: 0.8669831659783285.\u001b[0m\n",
      "\u001b[32m[I 2022-06-23 23:36:19,007]\u001b[0m Trial 101 finished with value: 0.8575687659219003 and parameters: {'lambda_l1': 1.0270783189000661e-07, 'lambda_l2': 4.494133878032042e-07, 'num_leaves': 122, 'feature_fraction': 0.5563196661042689, 'bagging_fraction': 0.5570524964874848, 'bagging_freq': 7, 'min_child_samples': 24, 'max_depth': 779}. Best is trial 93 with value: 0.8669831659783285.\u001b[0m\n",
      "\u001b[32m[I 2022-06-23 23:36:20,827]\u001b[0m Trial 102 finished with value: 0.8602656312555693 and parameters: {'lambda_l1': 5.498863796976654e-07, 'lambda_l2': 1.566785307676728e-07, 'num_leaves': 106, 'feature_fraction': 0.5536844566829331, 'bagging_fraction': 0.5758991895976731, 'bagging_freq': 7, 'min_child_samples': 27, 'max_depth': 819}. Best is trial 93 with value: 0.8669831659783285.\u001b[0m\n",
      "\u001b[32m[I 2022-06-23 23:36:22,706]\u001b[0m Trial 103 finished with value: 0.8631756862418627 and parameters: {'lambda_l1': 1.6973303931197657e-06, 'lambda_l2': 1.4811453135478866e-06, 'num_leaves': 134, 'feature_fraction': 0.5306498351693195, 'bagging_fraction': 0.5288246716710739, 'bagging_freq': 7, 'min_child_samples': 20, 'max_depth': 852}. Best is trial 93 with value: 0.8669831659783285.\u001b[0m\n",
      "\u001b[32m[I 2022-06-23 23:36:24,750]\u001b[0m Trial 104 finished with value: 0.8546802485440255 and parameters: {'lambda_l1': 1.9929350375420325e-07, 'lambda_l2': 1.0037556193173986e-06, 'num_leaves': 137, 'feature_fraction': 0.9917119685562175, 'bagging_fraction': 0.5992456799136595, 'bagging_freq': 7, 'min_child_samples': 31, 'max_depth': 847}. Best is trial 93 with value: 0.8669831659783285.\u001b[0m\n",
      "\u001b[32m[I 2022-06-23 23:36:26,437]\u001b[0m Trial 105 finished with value: 0.8663188899593698 and parameters: {'lambda_l1': 2.780273098875974e-06, 'lambda_l2': 3.50144180994358e-07, 'num_leaves': 124, 'feature_fraction': 0.5316758933409416, 'bagging_fraction': 0.5319510682922339, 'bagging_freq': 7, 'min_child_samples': 21, 'max_depth': 667}. Best is trial 93 with value: 0.8669831659783285.\u001b[0m\n",
      "\u001b[32m[I 2022-06-23 23:36:28,286]\u001b[0m Trial 106 finished with value: 0.8550915676600661 and parameters: {'lambda_l1': 2.2883835172567723e-06, 'lambda_l2': 1.0332651242012118e-07, 'num_leaves': 128, 'feature_fraction': 0.5360961167243063, 'bagging_fraction': 0.5327430611291375, 'bagging_freq': 7, 'min_child_samples': 17, 'max_depth': 731}. Best is trial 93 with value: 0.8669831659783285.\u001b[0m\n",
      "\u001b[32m[I 2022-06-23 23:36:29,956]\u001b[0m Trial 107 finished with value: 0.8641838328510155 and parameters: {'lambda_l1': 1.1493973317244265e-06, 'lambda_l2': 3.2512082834724494e-07, 'num_leaves': 114, 'feature_fraction': 0.5270121757864257, 'bagging_fraction': 0.5355254819361874, 'bagging_freq': 7, 'min_child_samples': 21, 'max_depth': 660}. Best is trial 93 with value: 0.8669831659783285.\u001b[0m\n",
      "\u001b[32m[I 2022-06-23 23:36:31,719]\u001b[0m Trial 108 finished with value: 0.8602121011513425 and parameters: {'lambda_l1': 1.4363825290273754e-06, 'lambda_l2': 1.831139489236944e-07, 'num_leaves': 124, 'feature_fraction': 0.5285219543129055, 'bagging_fraction': 0.5807602215319061, 'bagging_freq': 7, 'min_child_samples': 22, 'max_depth': 705}. Best is trial 93 with value: 0.8669831659783285.\u001b[0m\n",
      "\u001b[32m[I 2022-06-23 23:36:33,669]\u001b[0m Trial 109 finished with value: 0.8542707622399959 and parameters: {'lambda_l1': 4.1141237507672536e-06, 'lambda_l2': 3.363352615159923e-07, 'num_leaves': 133, 'feature_fraction': 0.515743065078906, 'bagging_fraction': 0.5366492448932118, 'bagging_freq': 7, 'min_child_samples': 12, 'max_depth': 660}. Best is trial 93 with value: 0.8669831659783285.\u001b[0m\n"
     ]
    },
    {
     "name": "stderr",
     "output_type": "stream",
     "text": [
      "\u001b[32m[I 2022-06-23 23:36:35,669]\u001b[0m Trial 110 finished with value: 0.8507242804495126 and parameters: {'lambda_l1': 1.0159467181529021e-05, 'lambda_l2': 6.213213697908753e-08, 'num_leaves': 119, 'feature_fraction': 0.5973770740931523, 'bagging_fraction': 0.5564618457768707, 'bagging_freq': 7, 'min_child_samples': 16, 'max_depth': 811}. Best is trial 93 with value: 0.8669831659783285.\u001b[0m\n",
      "\u001b[32m[I 2022-06-23 23:36:37,271]\u001b[0m Trial 111 finished with value: 0.8632371132049924 and parameters: {'lambda_l1': 4.95036111816296e-07, 'lambda_l2': 5.77697730476053e-07, 'num_leaves': 115, 'feature_fraction': 0.5596063700980043, 'bagging_fraction': 0.514225138782351, 'bagging_freq': 7, 'min_child_samples': 24, 'max_depth': 675}. Best is trial 93 with value: 0.8669831659783285.\u001b[0m\n",
      "\u001b[32m[I 2022-06-23 23:36:39,441]\u001b[0m Trial 112 finished with value: 0.8613373396684154 and parameters: {'lambda_l1': 1.0505812770458955e-06, 'lambda_l2': 5.433539435674912e-07, 'num_leaves': 109, 'feature_fraction': 0.5551352574660887, 'bagging_fraction': 0.6209570774461307, 'bagging_freq': 7, 'min_child_samples': 24, 'max_depth': 783}. Best is trial 93 with value: 0.8669831659783285.\u001b[0m\n",
      "\u001b[32m[I 2022-06-23 23:36:41,209]\u001b[0m Trial 113 finished with value: 0.8586203576050713 and parameters: {'lambda_l1': 5.297263877514326e-07, 'lambda_l2': 3.197878963276008e-07, 'num_leaves': 126, 'feature_fraction': 0.5369639955326629, 'bagging_fraction': 0.5054993093409856, 'bagging_freq': 7, 'min_child_samples': 20, 'max_depth': 745}. Best is trial 93 with value: 0.8669831659783285.\u001b[0m\n",
      "\u001b[32m[I 2022-06-23 23:36:43,201]\u001b[0m Trial 114 finished with value: 0.8323566571672223 and parameters: {'lambda_l1': 3.2994574463064044e-06, 'lambda_l2': 1.6872357171707697e-06, 'num_leaves': 141, 'feature_fraction': 0.5134612610315363, 'bagging_fraction': 0.9326586669910364, 'bagging_freq': 7, 'min_child_samples': 21, 'max_depth': 675}. Best is trial 93 with value: 0.8669831659783285.\u001b[0m\n",
      "\u001b[32m[I 2022-06-23 23:36:44,892]\u001b[0m Trial 115 finished with value: 0.8584816333906891 and parameters: {'lambda_l1': 1.2194005814199429e-06, 'lambda_l2': 2.137140061344313e-07, 'num_leaves': 99, 'feature_fraction': 0.5469105231016542, 'bagging_fraction': 0.6034174288086398, 'bagging_freq': 6, 'min_child_samples': 23, 'max_depth': 639}. Best is trial 93 with value: 0.8669831659783285.\u001b[0m\n",
      "\u001b[32m[I 2022-06-23 23:36:46,418]\u001b[0m Trial 116 finished with value: 0.8508992037803956 and parameters: {'lambda_l1': 4.1434587705447775e-07, 'lambda_l2': 1.9559796028102127e-08, 'num_leaves': 114, 'feature_fraction': 0.5297961325503598, 'bagging_fraction': 0.5664632254265056, 'bagging_freq': 7, 'min_child_samples': 33, 'max_depth': 941}. Best is trial 93 with value: 0.8669831659783285.\u001b[0m\n",
      "\u001b[32m[I 2022-06-23 23:36:48,350]\u001b[0m Trial 117 finished with value: 0.865903159383616 and parameters: {'lambda_l1': 9.412592843587114e-07, 'lambda_l2': 1.0192744709108388e-07, 'num_leaves': 80, 'feature_fraction': 0.5635004014658028, 'bagging_fraction': 0.5298066728135375, 'bagging_freq': 7, 'min_child_samples': 26, 'max_depth': 703}. Best is trial 93 with value: 0.8669831659783285.\u001b[0m\n",
      "\u001b[32m[I 2022-06-23 23:36:50,095]\u001b[0m Trial 118 finished with value: 0.8609621723520717 and parameters: {'lambda_l1': 9.65744731484885e-07, 'lambda_l2': 9.088414825407439e-08, 'num_leaves': 80, 'feature_fraction': 0.6142931283197037, 'bagging_fraction': 0.5339932008856347, 'bagging_freq': 7, 'min_child_samples': 19, 'max_depth': 703}. Best is trial 93 with value: 0.8669831659783285.\u001b[0m\n",
      "\u001b[32m[I 2022-06-23 23:36:51,888]\u001b[0m Trial 119 finished with value: 0.8639159140867733 and parameters: {'lambda_l1': 1.31156849718205e-05, 'lambda_l2': 4.163285449895926e-08, 'num_leaves': 62, 'feature_fraction': 0.5639362377062865, 'bagging_fraction': 0.5121895853526375, 'bagging_freq': 7, 'min_child_samples': 26, 'max_depth': 906}. Best is trial 93 with value: 0.8669831659783285.\u001b[0m\n",
      "\u001b[32m[I 2022-06-23 23:36:53,493]\u001b[0m Trial 120 finished with value: 0.8559844042266643 and parameters: {'lambda_l1': 9.525183636006694e-06, 'lambda_l2': 4.501361968837994e-08, 'num_leaves': 60, 'feature_fraction': 0.5600658807068757, 'bagging_fraction': 0.4974617431126027, 'bagging_freq': 7, 'min_child_samples': 24, 'max_depth': 752}. Best is trial 93 with value: 0.8669831659783285.\u001b[0m\n",
      "\u001b[32m[I 2022-06-23 23:36:55,327]\u001b[0m Trial 121 finished with value: 0.8599639634746059 and parameters: {'lambda_l1': 2.066060378153938e-06, 'lambda_l2': 1.205923854830878e-08, 'num_leaves': 70, 'feature_fraction': 0.5253057830218879, 'bagging_fraction': 0.5268887014343303, 'bagging_freq': 7, 'min_child_samples': 25, 'max_depth': 901}. Best is trial 93 with value: 0.8669831659783285.\u001b[0m\n",
      "\u001b[32m[I 2022-06-23 23:36:57,093]\u001b[0m Trial 122 finished with value: 0.8658233279448448 and parameters: {'lambda_l1': 4.535843349559779e-06, 'lambda_l2': 1.1034401908441901e-07, 'num_leaves': 53, 'feature_fraction': 0.5036284292659805, 'bagging_fraction': 0.5062257306428183, 'bagging_freq': 7, 'min_child_samples': 26, 'max_depth': 873}. Best is trial 93 with value: 0.8669831659783285.\u001b[0m\n",
      "\u001b[32m[I 2022-06-23 23:36:58,852]\u001b[0m Trial 123 finished with value: 0.85827811846736 and parameters: {'lambda_l1': 4.538975460031885e-06, 'lambda_l2': 3.408505552328061e-08, 'num_leaves': 47, 'feature_fraction': 0.5006850289219532, 'bagging_fraction': 0.5097822299209038, 'bagging_freq': 7, 'min_child_samples': 21, 'max_depth': 856}. Best is trial 93 with value: 0.8669831659783285.\u001b[0m\n",
      "\u001b[32m[I 2022-06-23 23:37:01,106]\u001b[0m Trial 124 finished with value: 0.8559579235479003 and parameters: {'lambda_l1': 2.9372139100499765e-06, 'lambda_l2': 7.049113985471627e-08, 'num_leaves': 54, 'feature_fraction': 0.5878979795645739, 'bagging_fraction': 0.49073306935199607, 'bagging_freq': 7, 'min_child_samples': 18, 'max_depth': 960}. Best is trial 93 with value: 0.8669831659783285.\u001b[0m\n",
      "\u001b[32m[I 2022-06-23 23:37:03,203]\u001b[0m Trial 125 finished with value: 0.864333481297684 and parameters: {'lambda_l1': 1.4841658199685617e-06, 'lambda_l2': 1.523186277257498e-07, 'num_leaves': 59, 'feature_fraction': 0.4686422777437767, 'bagging_fraction': 0.5487968577529058, 'bagging_freq': 7, 'min_child_samples': 26, 'max_depth': 915}. Best is trial 93 with value: 0.8669831659783285.\u001b[0m\n",
      "\u001b[32m[I 2022-06-23 23:37:04,839]\u001b[0m Trial 126 finished with value: 0.8623908262360274 and parameters: {'lambda_l1': 7.132414375523965e-07, 'lambda_l2': 1.1674373698075373e-07, 'num_leaves': 62, 'feature_fraction': 0.46297119462705394, 'bagging_fraction': 0.5436999125443254, 'bagging_freq': 7, 'min_child_samples': 26, 'max_depth': 661}. Best is trial 93 with value: 0.8669831659783285.\u001b[0m\n",
      "\u001b[32m[I 2022-06-23 23:37:06,721]\u001b[0m Trial 127 finished with value: 0.8639368514827106 and parameters: {'lambda_l1': 1.5845150425755707e-06, 'lambda_l2': 4.4768843580217085e-07, 'num_leaves': 86, 'feature_fraction': 0.47442209174328875, 'bagging_fraction': 0.5512011638849179, 'bagging_freq': 7, 'min_child_samples': 22, 'max_depth': 871}. Best is trial 93 with value: 0.8669831659783285.\u001b[0m\n",
      "\u001b[32m[I 2022-06-23 23:37:08,612]\u001b[0m Trial 128 finished with value: 0.8577424641491979 and parameters: {'lambda_l1': 1.589729812344194e-05, 'lambda_l2': 5.458468633823354e-07, 'num_leaves': 87, 'feature_fraction': 0.4747273494814123, 'bagging_fraction': 0.4708634438266268, 'bagging_freq': 7, 'min_child_samples': 16, 'max_depth': 928}. Best is trial 93 with value: 0.8669831659783285.\u001b[0m\n",
      "\u001b[32m[I 2022-06-23 23:37:10,826]\u001b[0m Trial 129 finished with value: 0.8493253868594427 and parameters: {'lambda_l1': 5.6098714213429745e-06, 'lambda_l2': 8.203349152452954e-07, 'num_leaves': 56, 'feature_fraction': 0.4898126139263606, 'bagging_fraction': 0.5168994990725331, 'bagging_freq': 7, 'min_child_samples': 8, 'max_depth': 728}. Best is trial 93 with value: 0.8669831659783285.\u001b[0m\n",
      "\u001b[32m[I 2022-06-23 23:37:12,582]\u001b[0m Trial 130 finished with value: 0.8619979560128551 and parameters: {'lambda_l1': 2.045317573264635e-06, 'lambda_l2': 1.6578781387227768e-08, 'num_leaves': 120, 'feature_fraction': 0.4492287772375469, 'bagging_fraction': 0.5490613359393661, 'bagging_freq': 7, 'min_child_samples': 22, 'max_depth': 690}. Best is trial 93 with value: 0.8669831659783285.\u001b[0m\n"
     ]
    },
    {
     "name": "stderr",
     "output_type": "stream",
     "text": [
      "\u001b[32m[I 2022-06-23 23:37:14,648]\u001b[0m Trial 131 finished with value: 0.8612691074620252 and parameters: {'lambda_l1': 1.4447298520837669e-06, 'lambda_l2': 3.972040831436347e-07, 'num_leaves': 107, 'feature_fraction': 0.5090066986371035, 'bagging_fraction': 0.5617362531838136, 'bagging_freq': 7, 'min_child_samples': 26, 'max_depth': 879}. Best is trial 93 with value: 0.8669831659783285.\u001b[0m\n",
      "\u001b[32m[I 2022-06-23 23:37:16,561]\u001b[0m Trial 132 finished with value: 0.8642255075720634 and parameters: {'lambda_l1': 3.639981739520953e-05, 'lambda_l2': 1.6309334424409136e-07, 'num_leaves': 77, 'feature_fraction': 0.5447445262144984, 'bagging_fraction': 0.5257647253495119, 'bagging_freq': 7, 'min_child_samples': 23, 'max_depth': 912}. Best is trial 93 with value: 0.8669831659783285.\u001b[0m\n",
      "\u001b[32m[I 2022-06-23 23:37:17,967]\u001b[0m Trial 133 finished with value: 0.861188004934522 and parameters: {'lambda_l1': 3.0364323160031347e-05, 'lambda_l2': 1.646446088067987e-07, 'num_leaves': 45, 'feature_fraction': 0.4057581295612533, 'bagging_fraction': 0.5266754101713874, 'bagging_freq': 7, 'min_child_samples': 23, 'max_depth': 601}. Best is trial 93 with value: 0.8669831659783285.\u001b[0m\n",
      "\u001b[32m[I 2022-06-23 23:37:21,117]\u001b[0m Trial 134 finished with value: 0.8579921051385836 and parameters: {'lambda_l1': 7.523175365891283e-06, 'lambda_l2': 0.016867956507884068, 'num_leaves': 83, 'feature_fraction': 0.5476802079748874, 'bagging_fraction': 0.5016455401121792, 'bagging_freq': 7, 'min_child_samples': 14, 'max_depth': 915}. Best is trial 93 with value: 0.8669831659783285.\u001b[0m\n",
      "\u001b[32m[I 2022-06-23 23:37:22,953]\u001b[0m Trial 135 finished with value: 0.8597207967900691 and parameters: {'lambda_l1': 1.2555909138300562e-05, 'lambda_l2': 4.9463959001323974e-08, 'num_leaves': 77, 'feature_fraction': 0.4684640238367803, 'bagging_fraction': 0.539949653437254, 'bagging_freq': 7, 'min_child_samples': 19, 'max_depth': 866}. Best is trial 93 with value: 0.8669831659783285.\u001b[0m\n",
      "\u001b[32m[I 2022-06-23 23:37:24,925]\u001b[0m Trial 136 finished with value: 0.859724676682107 and parameters: {'lambda_l1': 4.287220226340072e-05, 'lambda_l2': 1.1334051150698042e-07, 'num_leaves': 68, 'feature_fraction': 0.56376567506285, 'bagging_fraction': 0.48660116923328073, 'bagging_freq': 6, 'min_child_samples': 24, 'max_depth': 968}. Best is trial 93 with value: 0.8669831659783285.\u001b[0m\n",
      "\u001b[32m[I 2022-06-23 23:37:27,011]\u001b[0m Trial 137 finished with value: 0.8607263187448946 and parameters: {'lambda_l1': 2.8415005923733834e-06, 'lambda_l2': 2.7782832143638144e-08, 'num_leaves': 65, 'feature_fraction': 0.6025024878702272, 'bagging_fraction': 0.516820331079086, 'bagging_freq': 7, 'min_child_samples': 21, 'max_depth': 994}. Best is trial 93 with value: 0.8669831659783285.\u001b[0m\n",
      "\u001b[32m[I 2022-06-23 23:37:29,118]\u001b[0m Trial 138 finished with value: 0.866376973860333 and parameters: {'lambda_l1': 0.0002062041866690953, 'lambda_l2': 1.0689119937941398e-06, 'num_leaves': 53, 'feature_fraction': 0.5418452518311808, 'bagging_fraction': 0.5555864583267307, 'bagging_freq': 7, 'min_child_samples': 29, 'max_depth': 815}. Best is trial 93 with value: 0.8669831659783285.\u001b[0m\n",
      "\u001b[32m[I 2022-06-23 23:37:31,157]\u001b[0m Trial 139 finished with value: 0.867258153868835 and parameters: {'lambda_l1': 8.791759723458895e-07, 'lambda_l2': 7.317493713300059e-08, 'num_leaves': 55, 'feature_fraction': 0.8567502211864291, 'bagging_fraction': 0.552544794609826, 'bagging_freq': 7, 'min_child_samples': 28, 'max_depth': 847}. Best is trial 139 with value: 0.867258153868835.\u001b[0m\n",
      "\u001b[32m[I 2022-06-23 23:37:32,494]\u001b[0m Trial 140 finished with value: 0.8569501678447112 and parameters: {'lambda_l1': 9.120430732990305e-07, 'lambda_l2': 7.8939182918736e-08, 'num_leaves': 53, 'feature_fraction': 0.8734274836035608, 'bagging_fraction': 0.5536122014804177, 'bagging_freq': 7, 'min_child_samples': 27, 'max_depth': 549}. Best is trial 139 with value: 0.867258153868835.\u001b[0m\n",
      "\u001b[32m[I 2022-06-23 23:37:34,109]\u001b[0m Trial 141 finished with value: 0.8599602233421892 and parameters: {'lambda_l1': 7.785883255265798e-05, 'lambda_l2': 1.720339137580972e-07, 'num_leaves': 41, 'feature_fraction': 0.7506342886113879, 'bagging_fraction': 0.5257571212623764, 'bagging_freq': 7, 'min_child_samples': 29, 'max_depth': 843}. Best is trial 139 with value: 0.867258153868835.\u001b[0m\n",
      "\u001b[32m[I 2022-06-23 23:37:36,137]\u001b[0m Trial 142 finished with value: 0.860415912347027 and parameters: {'lambda_l1': 0.0002686699839547301, 'lambda_l2': 6.526789195223795e-07, 'num_leaves': 59, 'feature_fraction': 0.8501498279542276, 'bagging_fraction': 0.5084777981449319, 'bagging_freq': 7, 'min_child_samples': 26, 'max_depth': 854}. Best is trial 139 with value: 0.867258153868835.\u001b[0m\n",
      "\u001b[32m[I 2022-06-23 23:37:38,532]\u001b[0m Trial 143 finished with value: 0.8658011461792421 and parameters: {'lambda_l1': 5.810386599221196e-06, 'lambda_l2': 3.6356788517836076e-07, 'num_leaves': 53, 'feature_fraction': 0.4802491148340273, 'bagging_fraction': 0.5359756429615726, 'bagging_freq': 7, 'min_child_samples': 22, 'max_depth': 829}. Best is trial 139 with value: 0.867258153868835.\u001b[0m\n",
      "\u001b[32m[I 2022-06-23 23:37:40,563]\u001b[0m Trial 144 finished with value: 0.8636959542865117 and parameters: {'lambda_l1': 1.8417664046596173e-05, 'lambda_l2': 3.5409393870846996e-07, 'num_leaves': 51, 'feature_fraction': 0.9535467174466702, 'bagging_fraction': 0.5396944893999801, 'bagging_freq': 7, 'min_child_samples': 22, 'max_depth': 820}. Best is trial 139 with value: 0.867258153868835.\u001b[0m\n",
      "\u001b[32m[I 2022-06-23 23:37:42,544]\u001b[0m Trial 145 finished with value: 0.8587551962356527 and parameters: {'lambda_l1': 5.84394226863985e-06, 'lambda_l2': 6.32541472534829e-08, 'num_leaves': 42, 'feature_fraction': 0.9543535340526758, 'bagging_fraction': 0.5627828091740302, 'bagging_freq': 7, 'min_child_samples': 22, 'max_depth': 814}. Best is trial 139 with value: 0.867258153868835.\u001b[0m\n",
      "\u001b[32m[I 2022-06-23 23:37:44,591]\u001b[0m Trial 146 finished with value: 0.8561878102547609 and parameters: {'lambda_l1': 1.5606591916299483e-05, 'lambda_l2': 2.472299753574902e-07, 'num_leaves': 29, 'feature_fraction': 0.9286090579028944, 'bagging_fraction': 0.5425808726215594, 'bagging_freq': 7, 'min_child_samples': 18, 'max_depth': 829}. Best is trial 139 with value: 0.867258153868835.\u001b[0m\n",
      "\u001b[32m[I 2022-06-23 23:37:46,329]\u001b[0m Trial 147 finished with value: 0.8594137922406111 and parameters: {'lambda_l1': 2.2156329110316517e-05, 'lambda_l2': 1.1835779296532497e-07, 'num_leaves': 48, 'feature_fraction': 0.8236986038287306, 'bagging_fraction': 0.5492143595413073, 'bagging_freq': 7, 'min_child_samples': 28, 'max_depth': 770}. Best is trial 139 with value: 0.867258153868835.\u001b[0m\n",
      "\u001b[32m[I 2022-06-23 23:37:48,333]\u001b[0m Trial 148 finished with value: 0.8652535441639543 and parameters: {'lambda_l1': 0.00022154238435753235, 'lambda_l2': 4.2473535180370255e-07, 'num_leaves': 51, 'feature_fraction': 0.47919717633420467, 'bagging_fraction': 0.583855686135664, 'bagging_freq': 7, 'min_child_samples': 25, 'max_depth': 804}. Best is trial 139 with value: 0.867258153868835.\u001b[0m\n",
      "\u001b[32m[I 2022-06-23 23:37:48,836]\u001b[0m Trial 149 finished with value: 0.5 and parameters: {'lambda_l1': 0.00022094751930181472, 'lambda_l2': 4.163237218089128e-08, 'num_leaves': 51, 'feature_fraction': 0.4436868173055765, 'bagging_fraction': 0.5815821414422045, 'bagging_freq': 7, 'min_child_samples': 100, 'max_depth': 791}. Best is trial 139 with value: 0.867258153868835.\u001b[0m\n",
      "\u001b[32m[I 2022-06-23 23:37:49,409]\u001b[0m Trial 150 finished with value: 0.5 and parameters: {'lambda_l1': 0.00018987254159853178, 'lambda_l2': 2.1884250378648703e-07, 'num_leaves': 58, 'feature_fraction': 0.4830723845422389, 'bagging_fraction': 0.5630998812873019, 'bagging_freq': 7, 'min_child_samples': 62, 'max_depth': 881}. Best is trial 139 with value: 0.867258153868835.\u001b[0m\n",
      "\u001b[32m[I 2022-06-23 23:37:51,829]\u001b[0m Trial 151 finished with value: 0.8609942176416634 and parameters: {'lambda_l1': 0.00045139203760613983, 'lambda_l2': 3.496784774906632e-07, 'num_leaves': 65, 'feature_fraction': 0.9363024814454456, 'bagging_fraction': 0.5398797095624174, 'bagging_freq': 7, 'min_child_samples': 25, 'max_depth': 809}. Best is trial 139 with value: 0.867258153868835.\u001b[0m\n",
      "\u001b[32m[I 2022-06-23 23:37:53,854]\u001b[0m Trial 152 finished with value: 0.8622132451097235 and parameters: {'lambda_l1': 3.721372249122125e-06, 'lambda_l2': 4.0817129134434653e-07, 'num_leaves': 36, 'feature_fraction': 0.49966764345282255, 'bagging_fraction': 0.532084609978671, 'bagging_freq': 7, 'min_child_samples': 23, 'max_depth': 834}. Best is trial 139 with value: 0.867258153868835.\u001b[0m\n"
     ]
    },
    {
     "name": "stderr",
     "output_type": "stream",
     "text": [
      "\u001b[32m[I 2022-06-23 23:37:56,341]\u001b[0m Trial 153 finished with value: 0.8527526709831276 and parameters: {'lambda_l1': 6.160326146954555e-05, 'lambda_l2': 9.683751181348257e-07, 'num_leaves': 52, 'feature_fraction': 0.4771417795844353, 'bagging_fraction': 0.5874330405425392, 'bagging_freq': 7, 'min_child_samples': 29, 'max_depth': 788}. Best is trial 139 with value: 0.867258153868835.\u001b[0m\n",
      "\u001b[32m[I 2022-06-23 23:37:58,443]\u001b[0m Trial 154 finished with value: 0.859382634865994 and parameters: {'lambda_l1': 3.280300841432966e-05, 'lambda_l2': 1.3801506762654663e-07, 'num_leaves': 62, 'feature_fraction': 0.46065415840021795, 'bagging_fraction': 0.4942941749492299, 'bagging_freq': 7, 'min_child_samples': 27, 'max_depth': 909}. Best is trial 139 with value: 0.867258153868835.\u001b[0m\n",
      "\u001b[32m[I 2022-06-23 23:38:00,711]\u001b[0m Trial 155 finished with value: 0.8602038302040236 and parameters: {'lambda_l1': 0.0001390538871014217, 'lambda_l2': 3.0694065297350307e-07, 'num_leaves': 74, 'feature_fraction': 0.7998937463086497, 'bagging_fraction': 0.5531234498385049, 'bagging_freq': 7, 'min_child_samples': 22, 'max_depth': 814}. Best is trial 139 with value: 0.867258153868835.\u001b[0m\n",
      "\u001b[32m[I 2022-06-23 23:38:01,266]\u001b[0m Trial 156 finished with value: 0.5 and parameters: {'lambda_l1': 6.965571475134277e-06, 'lambda_l2': 9.880858374312015e-08, 'num_leaves': 57, 'feature_fraction': 0.9046635695212296, 'bagging_fraction': 0.5722643326109714, 'bagging_freq': 7, 'min_child_samples': 88, 'max_depth': 874}. Best is trial 139 with value: 0.867258153868835.\u001b[0m\n",
      "\u001b[32m[I 2022-06-23 23:38:03,366]\u001b[0m Trial 157 finished with value: 0.8631459965902689 and parameters: {'lambda_l1': 1.2177449403484407e-06, 'lambda_l2': 1.9161499554245387e-07, 'num_leaves': 31, 'feature_fraction': 0.49185427009601046, 'bagging_fraction': 0.5178580595637292, 'bagging_freq': 6, 'min_child_samples': 25, 'max_depth': 763}. Best is trial 139 with value: 0.867258153868835.\u001b[0m\n",
      "\u001b[32m[I 2022-06-23 23:38:05,302]\u001b[0m Trial 158 finished with value: 0.8598379825154205 and parameters: {'lambda_l1': 1.3497933832000852e-05, 'lambda_l2': 7.635210060941563e-08, 'num_leaves': 44, 'feature_fraction': 0.7212293986017172, 'bagging_fraction': 0.5363594659812343, 'bagging_freq': 7, 'min_child_samples': 20, 'max_depth': 862}. Best is trial 139 with value: 0.867258153868835.\u001b[0m\n",
      "\u001b[32m[I 2022-06-23 23:38:08,183]\u001b[0m Trial 159 finished with value: 0.8528504716602626 and parameters: {'lambda_l1': 3.1591037433697327e-07, 'lambda_l2': 4.617506619441227e-07, 'num_leaves': 50, 'feature_fraction': 0.987988869399883, 'bagging_fraction': 0.5567933312912646, 'bagging_freq': 7, 'min_child_samples': 17, 'max_depth': 926}. Best is trial 139 with value: 0.867258153868835.\u001b[0m\n",
      "\u001b[32m[I 2022-06-23 23:38:09,751]\u001b[0m Trial 160 finished with value: 0.8627273945954286 and parameters: {'lambda_l1': 4.9066286979342705e-06, 'lambda_l2': 8.801930966633765e-07, 'num_leaves': 68, 'feature_fraction': 0.4292550509517803, 'bagging_fraction': 0.5761296056840477, 'bagging_freq': 7, 'min_child_samples': 30, 'max_depth': 833}. Best is trial 139 with value: 0.867258153868835.\u001b[0m\n",
      "\u001b[32m[I 2022-06-23 23:38:11,421]\u001b[0m Trial 161 finished with value: 0.8560465707108509 and parameters: {'lambda_l1': 5.159354442141492e-07, 'lambda_l2': 6.264306978979124e-07, 'num_leaves': 39, 'feature_fraction': 0.539908543935846, 'bagging_fraction': 0.5062074397040637, 'bagging_freq': 7, 'min_child_samples': 24, 'max_depth': 805}. Best is trial 139 with value: 0.867258153868835.\u001b[0m\n",
      "\u001b[32m[I 2022-06-23 23:38:13,054]\u001b[0m Trial 162 finished with value: 0.8561533222968981 and parameters: {'lambda_l1': 2.6702387104364404e-06, 'lambda_l2': 2.8360356969482637e-07, 'num_leaves': 57, 'feature_fraction': 0.5692747697166416, 'bagging_fraction': 0.5211621445533494, 'bagging_freq': 7, 'min_child_samples': 24, 'max_depth': 778}. Best is trial 139 with value: 0.867258153868835.\u001b[0m\n",
      "\u001b[32m[I 2022-06-23 23:38:14,790]\u001b[0m Trial 163 finished with value: 0.8636872330455921 and parameters: {'lambda_l1': 6.97167052593105e-07, 'lambda_l2': 5.280407370964466e-07, 'num_leaves': 48, 'feature_fraction': 0.5854867451320542, 'bagging_fraction': 0.5439480945181785, 'bagging_freq': 7, 'min_child_samples': 26, 'max_depth': 894}. Best is trial 139 with value: 0.867258153868835.\u001b[0m\n",
      "\u001b[32m[I 2022-06-23 23:38:16,563]\u001b[0m Trial 164 finished with value: 0.8583809307952108 and parameters: {'lambda_l1': 1.6253796370944366e-06, 'lambda_l2': 1.6184245244067665e-07, 'num_leaves': 50, 'feature_fraction': 0.5851743474832676, 'bagging_fraction': 0.5453208670691311, 'bagging_freq': 7, 'min_child_samples': 27, 'max_depth': 949}. Best is trial 139 with value: 0.867258153868835.\u001b[0m\n",
      "\u001b[32m[I 2022-06-23 23:38:18,312]\u001b[0m Trial 165 finished with value: 0.8562324517158107 and parameters: {'lambda_l1': 6.870096722330846e-07, 'lambda_l2': 4.3282380918001423e-07, 'num_leaves': 63, 'feature_fraction': 0.5448897959164835, 'bagging_fraction': 0.5612284274436681, 'bagging_freq': 7, 'min_child_samples': 21, 'max_depth': 896}. Best is trial 139 with value: 0.867258153868835.\u001b[0m\n",
      "\u001b[32m[I 2022-06-23 23:38:19,938]\u001b[0m Trial 166 finished with value: 0.8626253217241993 and parameters: {'lambda_l1': 1.1680663208413253e-06, 'lambda_l2': 1.2170319382399648e-06, 'num_leaves': 46, 'feature_fraction': 0.5117166100078772, 'bagging_fraction': 0.5306886368517291, 'bagging_freq': 7, 'min_child_samples': 26, 'max_depth': 870}. Best is trial 139 with value: 0.867258153868835.\u001b[0m\n",
      "\u001b[32m[I 2022-06-23 23:38:21,569]\u001b[0m Trial 167 finished with value: 0.8607751007377554 and parameters: {'lambda_l1': 3.0022739636612646e-07, 'lambda_l2': 2.2300487935432983e-07, 'num_leaves': 52, 'feature_fraction': 0.5765829629115059, 'bagging_fraction': 0.5476399247823439, 'bagging_freq': 7, 'min_child_samples': 22, 'max_depth': 848}. Best is trial 139 with value: 0.867258153868835.\u001b[0m\n",
      "\u001b[32m[I 2022-06-23 23:38:22,900]\u001b[0m Trial 168 finished with value: 0.8523260706441821 and parameters: {'lambda_l1': 8.22899718142537e-07, 'lambda_l2': 5.8367967369183595e-08, 'num_leaves': 79, 'feature_fraction': 0.46947043044518516, 'bagging_fraction': 0.48313275734229977, 'bagging_freq': 7, 'min_child_samples': 28, 'max_depth': 902}. Best is trial 139 with value: 0.867258153868835.\u001b[0m\n",
      "\u001b[32m[I 2022-06-23 23:38:24,538]\u001b[0m Trial 169 finished with value: 0.8573925609993719 and parameters: {'lambda_l1': 9.373645913681189e-05, 'lambda_l2': 6.400048492193157e-07, 'num_leaves': 72, 'feature_fraction': 0.4862834209912588, 'bagging_fraction': 0.5861922628636212, 'bagging_freq': 6, 'min_child_samples': 19, 'max_depth': 828}. Best is trial 139 with value: 0.867258153868835.\u001b[0m\n",
      "\u001b[32m[I 2022-06-23 23:38:26,147]\u001b[0m Trial 170 finished with value: 0.8636101273382618 and parameters: {'lambda_l1': 3.1996374803919707e-06, 'lambda_l2': 2.8815538518071794e-08, 'num_leaves': 57, 'feature_fraction': 0.4519336397590046, 'bagging_fraction': 0.5380886063939311, 'bagging_freq': 7, 'min_child_samples': 23, 'max_depth': 924}. Best is trial 139 with value: 0.867258153868835.\u001b[0m\n",
      "\u001b[32m[I 2022-06-23 23:38:27,902]\u001b[0m Trial 171 finished with value: 0.8448670420137138 and parameters: {'lambda_l1': 3.6680053894097478e-06, 'lambda_l2': 3.60012455093664e-08, 'num_leaves': 55, 'feature_fraction': 0.4506458823370921, 'bagging_fraction': 0.8072701941441534, 'bagging_freq': 7, 'min_child_samples': 23, 'max_depth': 919}. Best is trial 139 with value: 0.867258153868835.\u001b[0m\n",
      "\u001b[32m[I 2022-06-23 23:38:29,545]\u001b[0m Trial 172 finished with value: 0.8626749279487281 and parameters: {'lambda_l1': 8.622361817225647e-06, 'lambda_l2': 1.7950646107622345e-08, 'num_leaves': 60, 'feature_fraction': 0.5048784093874591, 'bagging_fraction': 0.5373640619399283, 'bagging_freq': 7, 'min_child_samples': 26, 'max_depth': 883}. Best is trial 139 with value: 0.867258153868835.\u001b[0m\n",
      "\u001b[32m[I 2022-06-23 23:38:30,938]\u001b[0m Trial 173 finished with value: 0.8534375250437556 and parameters: {'lambda_l1': 2.184080169760196e-06, 'lambda_l2': 1.1261288529540194e-07, 'num_leaves': 65, 'feature_fraction': 0.5559415027280489, 'bagging_fraction': 0.5247268243303751, 'bagging_freq': 7, 'min_child_samples': 30, 'max_depth': 940}. Best is trial 139 with value: 0.867258153868835.\u001b[0m\n"
     ]
    },
    {
     "name": "stderr",
     "output_type": "stream",
     "text": [
      "\u001b[32m[I 2022-06-23 23:38:33,121]\u001b[0m Trial 174 finished with value: 0.8644614868705426 and parameters: {'lambda_l1': 1.992813575788047e-05, 'lambda_l2': 2.9737669071130354e-08, 'num_leaves': 43, 'feature_fraction': 0.4181771462743229, 'bagging_fraction': 0.5632852406039218, 'bagging_freq': 7, 'min_child_samples': 25, 'max_depth': 849}. Best is trial 139 with value: 0.867258153868835.\u001b[0m\n",
      "\u001b[32m[I 2022-06-23 23:38:35,083]\u001b[0m Trial 175 finished with value: 0.8605554749043526 and parameters: {'lambda_l1': 5.313869915439392e-05, 'lambda_l2': 7.644804592458342e-08, 'num_leaves': 39, 'feature_fraction': 0.41610508633309434, 'bagging_fraction': 0.5673298232976314, 'bagging_freq': 7, 'min_child_samples': 25, 'max_depth': 847}. Best is trial 139 with value: 0.867258153868835.\u001b[0m\n",
      "\u001b[32m[I 2022-06-23 23:38:37,219]\u001b[0m Trial 176 finished with value: 0.8590831013456787 and parameters: {'lambda_l1': 3.1573112506855846e-05, 'lambda_l2': 3.491879012284155e-07, 'num_leaves': 45, 'feature_fraction': 0.5174036732496221, 'bagging_fraction': 0.5576781990559484, 'bagging_freq': 7, 'min_child_samples': 20, 'max_depth': 813}. Best is trial 139 with value: 0.867258153868835.\u001b[0m\n",
      "\u001b[32m[I 2022-06-23 23:38:38,843]\u001b[0m Trial 177 finished with value: 0.8572379439660786 and parameters: {'lambda_l1': 0.00047504924500778496, 'lambda_l2': 1.5225692352752534e-07, 'num_leaves': 25, 'feature_fraction': 0.43031182329453876, 'bagging_fraction': 0.5043879059991898, 'bagging_freq': 7, 'min_child_samples': 28, 'max_depth': 796}. Best is trial 139 with value: 0.867258153868835.\u001b[0m\n",
      "\u001b[32m[I 2022-06-23 23:38:40,294]\u001b[0m Trial 178 finished with value: 0.8501697837121598 and parameters: {'lambda_l1': 1.5327051128695425e-05, 'lambda_l2': 2.2585373976552226e-08, 'num_leaves': 128, 'feature_fraction': 0.536315736031296, 'bagging_fraction': 0.5502254705011909, 'bagging_freq': 7, 'min_child_samples': 32, 'max_depth': 865}. Best is trial 139 with value: 0.867258153868835.\u001b[0m\n",
      "\u001b[32m[I 2022-06-23 23:38:42,222]\u001b[0m Trial 179 finished with value: 0.8593144780271328 and parameters: {'lambda_l1': 9.65027241414412e-06, 'lambda_l2': 4.777284779349453e-08, 'num_leaves': 34, 'feature_fraction': 0.5479385266704595, 'bagging_fraction': 0.5974079621672372, 'bagging_freq': 7, 'min_child_samples': 26, 'max_depth': 831}. Best is trial 139 with value: 0.867258153868835.\u001b[0m\n",
      "\u001b[32m[I 2022-06-23 23:38:44,159]\u001b[0m Trial 180 finished with value: 0.8624705149082084 and parameters: {'lambda_l1': 1.9863367833555945e-05, 'lambda_l2': 2.5856462931396485e-07, 'num_leaves': 44, 'feature_fraction': 0.5644872967837202, 'bagging_fraction': 0.5765044701484985, 'bagging_freq': 7, 'min_child_samples': 22, 'max_depth': 896}. Best is trial 139 with value: 0.867258153868835.\u001b[0m\n",
      "\u001b[32m[I 2022-06-23 23:38:45,917]\u001b[0m Trial 181 finished with value: 0.8627837207082563 and parameters: {'lambda_l1': 1.8005441010462981e-06, 'lambda_l2': 3.365919486458745e-08, 'num_leaves': 49, 'feature_fraction': 0.4584473408648988, 'bagging_fraction': 0.5294705734710219, 'bagging_freq': 7, 'min_child_samples': 24, 'max_depth': 921}. Best is trial 139 with value: 0.867258153868835.\u001b[0m\n",
      "\u001b[32m[I 2022-06-23 23:38:48,055]\u001b[0m Trial 182 finished with value: 0.8633041071630467 and parameters: {'lambda_l1': 3.907602059710713e-06, 'lambda_l2': 9.388226489923435e-08, 'num_leaves': 57, 'feature_fraction': 0.43730521628739566, 'bagging_fraction': 0.5364746361585562, 'bagging_freq': 7, 'min_child_samples': 21, 'max_depth': 971}. Best is trial 139 with value: 0.867258153868835.\u001b[0m\n",
      "\u001b[32m[I 2022-06-23 23:38:49,857]\u001b[0m Trial 183 finished with value: 0.8608411496054684 and parameters: {'lambda_l1': 9.118907031947018e-07, 'lambda_l2': 1.2889328566510499e-08, 'num_leaves': 52, 'feature_fraction': 0.471078376452235, 'bagging_fraction': 0.5181318361325139, 'bagging_freq': 7, 'min_child_samples': 23, 'max_depth': 905}. Best is trial 139 with value: 0.867258153868835.\u001b[0m\n",
      "\u001b[32m[I 2022-06-23 23:38:51,608]\u001b[0m Trial 184 finished with value: 0.8614946116190311 and parameters: {'lambda_l1': 5.539546114257553e-06, 'lambda_l2': 5.498601136823801e-08, 'num_leaves': 69, 'feature_fraction': 0.40812225796326346, 'bagging_fraction': 0.5455342161391211, 'bagging_freq': 7, 'min_child_samples': 17, 'max_depth': 850}. Best is trial 139 with value: 0.867258153868835.\u001b[0m\n",
      "\u001b[32m[I 2022-06-23 23:38:53,581]\u001b[0m Trial 185 finished with value: 0.8641417343191723 and parameters: {'lambda_l1': 1.4481081746302283e-06, 'lambda_l2': 4.915077343892118e-07, 'num_leaves': 121, 'feature_fraction': 0.4525228523489411, 'bagging_fraction': 0.5710296029789534, 'bagging_freq': 7, 'min_child_samples': 27, 'max_depth': 878}. Best is trial 139 with value: 0.867258153868835.\u001b[0m\n",
      "\u001b[32m[I 2022-06-23 23:38:55,557]\u001b[0m Trial 186 finished with value: 0.8569411217222749 and parameters: {'lambda_l1': 1.3995946468335954e-06, 'lambda_l2': 8.642481429056671e-07, 'num_leaves': 123, 'feature_fraction': 0.5923833861963995, 'bagging_fraction': 0.5651671034085725, 'bagging_freq': 7, 'min_child_samples': 29, 'max_depth': 874}. Best is trial 139 with value: 0.867258153868835.\u001b[0m\n",
      "\u001b[32m[I 2022-06-23 23:38:57,468]\u001b[0m Trial 187 finished with value: 0.8580462253819452 and parameters: {'lambda_l1': 8.47328660515342e-07, 'lambda_l2': 5.239364462933758e-07, 'num_leaves': 120, 'feature_fraction': 0.4865627980072047, 'bagging_fraction': 0.5832308339557463, 'bagging_freq': 7, 'min_child_samples': 27, 'max_depth': 823}. Best is trial 139 with value: 0.867258153868835.\u001b[0m\n",
      "\u001b[32m[I 2022-06-23 23:38:59,489]\u001b[0m Trial 188 finished with value: 0.8586217373742528 and parameters: {'lambda_l1': 4.7228880027806185e-07, 'lambda_l2': 3.813787832536443e-07, 'num_leaves': 129, 'feature_fraction': 0.501467245532679, 'bagging_fraction': 0.5560445987186348, 'bagging_freq': 7, 'min_child_samples': 25, 'max_depth': 886}. Best is trial 139 with value: 0.867258153868835.\u001b[0m\n",
      "\u001b[32m[I 2022-06-23 23:39:01,311]\u001b[0m Trial 189 finished with value: 0.8592991669493216 and parameters: {'lambda_l1': 2.3146781764973804e-06, 'lambda_l2': 1.7185905632054024e-07, 'num_leaves': 115, 'feature_fraction': 0.5788442232758138, 'bagging_fraction': 0.5652383308747213, 'bagging_freq': 7, 'min_child_samples': 28, 'max_depth': 787}. Best is trial 139 with value: 0.867258153868835.\u001b[0m\n",
      "\u001b[32m[I 2022-06-23 23:39:02,540]\u001b[0m Trial 190 finished with value: 0.8544924705927027 and parameters: {'lambda_l1': 2.6238062454004675e-07, 'lambda_l2': 2.731451682555959e-07, 'num_leaves': 41, 'feature_fraction': 0.8522391042103918, 'bagging_fraction': 0.5001039090722437, 'bagging_freq': 7, 'min_child_samples': 30, 'max_depth': 861}. Best is trial 139 with value: 0.867258153868835.\u001b[0m\n",
      "\u001b[32m[I 2022-06-23 23:39:04,304]\u001b[0m Trial 191 finished with value: 0.8644678778393947 and parameters: {'lambda_l1': 2.808971165850372e-06, 'lambda_l2': 1.2513018391591234e-06, 'num_leaves': 54, 'feature_fraction': 0.44359253590751097, 'bagging_fraction': 0.5413847406393224, 'bagging_freq': 7, 'min_child_samples': 23, 'max_depth': 839}. Best is trial 139 with value: 0.867258153868835.\u001b[0m\n",
      "\u001b[32m[I 2022-06-23 23:39:06,076]\u001b[0m Trial 192 finished with value: 0.8614932820447525 and parameters: {'lambda_l1': 1.5088363590349322e-06, 'lambda_l2': 1.4712331484776154e-06, 'num_leaves': 62, 'feature_fraction': 0.41786809888615845, 'bagging_fraction': 0.5425872987954193, 'bagging_freq': 7, 'min_child_samples': 19, 'max_depth': 838}. Best is trial 139 with value: 0.867258153868835.\u001b[0m\n",
      "\u001b[32m[I 2022-06-23 23:39:07,745]\u001b[0m Trial 193 finished with value: 0.862874387995905 and parameters: {'lambda_l1': 7.150502759833671e-06, 'lambda_l2': 1.0030456787443896e-06, 'num_leaves': 52, 'feature_fraction': 0.4395840821670462, 'bagging_fraction': 0.5197837311260258, 'bagging_freq': 7, 'min_child_samples': 25, 'max_depth': 805}. Best is trial 139 with value: 0.867258153868835.\u001b[0m\n",
      "\u001b[32m[I 2022-06-23 23:39:09,568]\u001b[0m Trial 194 finished with value: 0.8608889672633867 and parameters: {'lambda_l1': 5.507131819971577e-07, 'lambda_l2': 7.193067924456552e-07, 'num_leaves': 83, 'feature_fraction': 0.46565834935808115, 'bagging_fraction': 0.5511049388619204, 'bagging_freq': 7, 'min_child_samples': 21, 'max_depth': 845}. Best is trial 139 with value: 0.867258153868835.\u001b[0m\n"
     ]
    },
    {
     "name": "stderr",
     "output_type": "stream",
     "text": [
      "\u001b[32m[I 2022-06-23 23:39:11,767]\u001b[0m Trial 195 finished with value: 0.8598642040578958 and parameters: {'lambda_l1': 2.9885149481594142e-05, 'lambda_l2': 4.916188634469289e-07, 'num_leaves': 231, 'feature_fraction': 0.8987861013454304, 'bagging_fraction': 0.5746642052695575, 'bagging_freq': 7, 'min_child_samples': 27, 'max_depth': 766}. Best is trial 139 with value: 0.867258153868835.\u001b[0m\n",
      "\u001b[32m[I 2022-06-23 23:39:13,581]\u001b[0m Trial 196 finished with value: 0.8627065093059673 and parameters: {'lambda_l1': 1.1386823416540284e-06, 'lambda_l2': 2.2451851361478862e-07, 'num_leaves': 91, 'feature_fraction': 0.47656871975998566, 'bagging_fraction': 0.5123133660949802, 'bagging_freq': 7, 'min_child_samples': 24, 'max_depth': 820}. Best is trial 139 with value: 0.867258153868835.\u001b[0m\n",
      "\u001b[32m[I 2022-06-23 23:39:14,822]\u001b[0m Trial 197 finished with value: 0.8569075719172469 and parameters: {'lambda_l1': 4.693603665232704e-06, 'lambda_l2': 3.6213107143618475e-07, 'num_leaves': 47, 'feature_fraction': 0.4481619445395129, 'bagging_fraction': 0.5289804638964789, 'bagging_freq': 7, 'min_child_samples': 22, 'max_depth': 505}. Best is trial 139 with value: 0.867258153868835.\u001b[0m\n",
      "\u001b[32m[I 2022-06-23 23:39:16,361]\u001b[0m Trial 198 finished with value: 0.8602365802412243 and parameters: {'lambda_l1': 2.5393467370765277e-06, 'lambda_l2': 1.1638250057298358e-07, 'num_leaves': 111, 'feature_fraction': 0.5283946110302984, 'bagging_fraction': 0.5520084090782159, 'bagging_freq': 7, 'min_child_samples': 26, 'max_depth': 633}. Best is trial 139 with value: 0.867258153868835.\u001b[0m\n",
      "\u001b[32m[I 2022-06-23 23:39:18,829]\u001b[0m Trial 199 finished with value: 0.8539630229161963 and parameters: {'lambda_l1': 1.155555205733122e-05, 'lambda_l2': 2.1733924615550885e-06, 'num_leaves': 124, 'feature_fraction': 0.9753641156871231, 'bagging_fraction': 0.5718523399901256, 'bagging_freq': 7, 'min_child_samples': 18, 'max_depth': 883}. Best is trial 139 with value: 0.867258153868835.\u001b[0m\n",
      "\u001b[32m[I 2022-06-23 23:39:20,816]\u001b[0m Trial 200 finished with value: 0.8650084671520429 and parameters: {'lambda_l1': 0.0012663075610338031, 'lambda_l2': 1.1130074800958926e-06, 'num_leaves': 76, 'feature_fraction': 0.4289468724909151, 'bagging_fraction': 0.6097130307481065, 'bagging_freq': 7, 'min_child_samples': 23, 'max_depth': 871}. Best is trial 139 with value: 0.867258153868835.\u001b[0m\n",
      "\u001b[32m[I 2022-06-23 23:39:22,634]\u001b[0m Trial 201 finished with value: 0.8607592451837806 and parameters: {'lambda_l1': 1.6637014293461771e-06, 'lambda_l2': 7.015850619759881e-07, 'num_leaves': 75, 'feature_fraction': 0.42349446847132544, 'bagging_fraction': 0.6109388985816705, 'bagging_freq': 7, 'min_child_samples': 23, 'max_depth': 868}. Best is trial 139 with value: 0.867258153868835.\u001b[0m\n",
      "\u001b[32m[I 2022-06-23 23:39:24,657]\u001b[0m Trial 202 finished with value: 0.8605106756203891 and parameters: {'lambda_l1': 0.001758176216296834, 'lambda_l2': 1.2666189187892618e-06, 'num_leaves': 65, 'feature_fraction': 0.43363423108132765, 'bagging_fraction': 0.5889027212710781, 'bagging_freq': 7, 'min_child_samples': 20, 'max_depth': 839}. Best is trial 139 with value: 0.867258153868835.\u001b[0m\n",
      "\u001b[32m[I 2022-06-23 23:39:26,506]\u001b[0m Trial 203 finished with value: 0.857041972174712 and parameters: {'lambda_l1': 0.0003322090595251426, 'lambda_l2': 4.859379438723789e-07, 'num_leaves': 55, 'feature_fraction': 0.45510814409678746, 'bagging_fraction': 0.562225874692459, 'bagging_freq': 7, 'min_child_samples': 25, 'max_depth': 862}. Best is trial 139 with value: 0.867258153868835.\u001b[0m\n",
      "\u001b[32m[I 2022-06-23 23:39:28,697]\u001b[0m Trial 204 finished with value: 0.8669851295075752 and parameters: {'lambda_l1': 0.0007122803846705533, 'lambda_l2': 1.5957042081486696e-07, 'num_leaves': 77, 'feature_fraction': 0.5546367525928345, 'bagging_fraction': 0.5398162285778757, 'bagging_freq': 7, 'min_child_samples': 27, 'max_depth': 904}. Best is trial 139 with value: 0.867258153868835.\u001b[0m\n",
      "\u001b[32m[I 2022-06-23 23:39:30,616]\u001b[0m Trial 205 finished with value: 0.8641835910692335 and parameters: {'lambda_l1': 0.0010825863133231025, 'lambda_l2': 0.42729442467627565, 'num_leaves': 85, 'feature_fraction': 0.4056064583825924, 'bagging_fraction': 0.5281825947234222, 'bagging_freq': 7, 'min_child_samples': 28, 'max_depth': 811}. Best is trial 139 with value: 0.867258153868835.\u001b[0m\n",
      "\u001b[32m[I 2022-06-23 23:39:32,093]\u001b[0m Trial 206 finished with value: 0.8596736165666117 and parameters: {'lambda_l1': 0.0007024972160010014, 'lambda_l2': 1.6879202343989912e-07, 'num_leaves': 88, 'feature_fraction': 0.42011650947788703, 'bagging_fraction': 0.5234720968101695, 'bagging_freq': 7, 'min_child_samples': 30, 'max_depth': 789}. Best is trial 139 with value: 0.867258153868835.\u001b[0m\n",
      "\u001b[32m[I 2022-06-23 23:39:33,050]\u001b[0m Trial 207 finished with value: 0.8020037141221351 and parameters: {'lambda_l1': 0.001303384263001608, 'lambda_l2': 0.5011560066275612, 'num_leaves': 77, 'feature_fraction': 0.41080964057326036, 'bagging_fraction': 0.5275889742516248, 'bagging_freq': 7, 'min_child_samples': 33, 'max_depth': 801}. Best is trial 139 with value: 0.867258153868835.\u001b[0m\n",
      "\u001b[32m[I 2022-06-23 23:39:34,717]\u001b[0m Trial 208 finished with value: 0.855972554470813 and parameters: {'lambda_l1': 0.0004982126059332883, 'lambda_l2': 0.00025411390128363365, 'num_leaves': 86, 'feature_fraction': 0.44057610251110013, 'bagging_fraction': 0.5089426380379931, 'bagging_freq': 7, 'min_child_samples': 28, 'max_depth': 650}. Best is trial 139 with value: 0.867258153868835.\u001b[0m\n",
      "\u001b[32m[I 2022-06-23 23:39:37,099]\u001b[0m Trial 209 finished with value: 0.8657132846943217 and parameters: {'lambda_l1': 0.002591549014645728, 'lambda_l2': 0.010352244685100027, 'num_leaves': 81, 'feature_fraction': 0.40866069199404703, 'bagging_fraction': 0.558248587689156, 'bagging_freq': 7, 'min_child_samples': 24, 'max_depth': 911}. Best is trial 139 with value: 0.867258153868835.\u001b[0m\n",
      "\u001b[32m[I 2022-06-23 23:39:39,323]\u001b[0m Trial 210 finished with value: 0.8595026186189112 and parameters: {'lambda_l1': 0.002658222857632584, 'lambda_l2': 0.06450975536613088, 'num_leaves': 77, 'feature_fraction': 0.4057884260601166, 'bagging_fraction': 0.5800590978250216, 'bagging_freq': 7, 'min_child_samples': 24, 'max_depth': 942}. Best is trial 139 with value: 0.867258153868835.\u001b[0m\n",
      "\u001b[32m[I 2022-06-23 23:39:41,283]\u001b[0m Trial 211 finished with value: 0.8550626862172913 and parameters: {'lambda_l1': 0.0008513406541025449, 'lambda_l2': 6.004064542362639, 'num_leaves': 82, 'feature_fraction': 0.4036209603714162, 'bagging_fraction': 0.562211154361795, 'bagging_freq': 7, 'min_child_samples': 27, 'max_depth': 910}. Best is trial 139 with value: 0.867258153868835.\u001b[0m\n",
      "\u001b[32m[I 2022-06-23 23:39:43,010]\u001b[0m Trial 212 finished with value: 0.8638151982176752 and parameters: {'lambda_l1': 0.0034248375592190587, 'lambda_l2': 8.390373987668286e-08, 'num_leaves': 71, 'feature_fraction': 0.4252725509168533, 'bagging_fraction': 0.5535440857225308, 'bagging_freq': 7, 'min_child_samples': 29, 'max_depth': 860}. Best is trial 139 with value: 0.867258153868835.\u001b[0m\n",
      "\u001b[32m[I 2022-06-23 23:39:45,130]\u001b[0m Trial 213 finished with value: 0.86431849067685 and parameters: {'lambda_l1': 0.0017666389581527469, 'lambda_l2': 0.01662481872552688, 'num_leaves': 94, 'feature_fraction': 0.40079920068924735, 'bagging_fraction': 0.5372527711973809, 'bagging_freq': 7, 'min_child_samples': 24, 'max_depth': 884}. Best is trial 139 with value: 0.867258153868835.\u001b[0m\n",
      "\u001b[32m[I 2022-06-23 23:39:47,180]\u001b[0m Trial 214 finished with value: 0.8649658539130287 and parameters: {'lambda_l1': 0.0009737000875498203, 'lambda_l2': 0.008519665649807575, 'num_leaves': 90, 'feature_fraction': 0.4043580901886176, 'bagging_fraction': 0.5383788146191202, 'bagging_freq': 7, 'min_child_samples': 23, 'max_depth': 881}. Best is trial 139 with value: 0.867258153868835.\u001b[0m\n",
      "\u001b[32m[I 2022-06-23 23:39:49,245]\u001b[0m Trial 215 finished with value: 0.8645348715182305 and parameters: {'lambda_l1': 0.0015038782775299814, 'lambda_l2': 0.012075178240315183, 'num_leaves': 95, 'feature_fraction': 0.4037575937477116, 'bagging_fraction': 0.5350465289912806, 'bagging_freq': 7, 'min_child_samples': 24, 'max_depth': 886}. Best is trial 139 with value: 0.867258153868835.\u001b[0m\n",
      "\u001b[32m[I 2022-06-23 23:39:51,239]\u001b[0m Trial 216 finished with value: 0.8637848535623303 and parameters: {'lambda_l1': 0.0013051809036632464, 'lambda_l2': 0.007574496203385201, 'num_leaves': 94, 'feature_fraction': 0.40211327891313087, 'bagging_fraction': 0.5330423115236024, 'bagging_freq': 7, 'min_child_samples': 24, 'max_depth': 895}. Best is trial 139 with value: 0.867258153868835.\u001b[0m\n"
     ]
    },
    {
     "name": "stderr",
     "output_type": "stream",
     "text": [
      "\u001b[32m[I 2022-06-23 23:39:53,252]\u001b[0m Trial 217 finished with value: 0.8687246830182201 and parameters: {'lambda_l1': 0.0012186619598463103, 'lambda_l2': 0.010621422784060185, 'num_leaves': 91, 'feature_fraction': 0.41026908475219803, 'bagging_fraction': 0.538812846851669, 'bagging_freq': 7, 'min_child_samples': 21, 'max_depth': 846}. Best is trial 217 with value: 0.8687246830182201.\u001b[0m\n",
      "\u001b[32m[I 2022-06-23 23:39:55,171]\u001b[0m Trial 218 finished with value: 0.8604815054441601 and parameters: {'lambda_l1': 0.006115342657051539, 'lambda_l2': 0.032586685379544005, 'num_leaves': 93, 'feature_fraction': 0.4004934751756876, 'bagging_fraction': 0.5425119414960488, 'bagging_freq': 7, 'min_child_samples': 21, 'max_depth': 847}. Best is trial 217 with value: 0.8687246830182201.\u001b[0m\n",
      "\u001b[32m[I 2022-06-23 23:39:57,393]\u001b[0m Trial 219 finished with value: 0.8633436895277065 and parameters: {'lambda_l1': 0.002099628661688207, 'lambda_l2': 0.012878897352011542, 'num_leaves': 99, 'feature_fraction': 0.42121939158656935, 'bagging_fraction': 0.540353505050062, 'bagging_freq': 6, 'min_child_samples': 20, 'max_depth': 934}. Best is trial 217 with value: 0.8687246830182201.\u001b[0m\n",
      "\u001b[32m[I 2022-06-23 23:39:59,361]\u001b[0m Trial 220 finished with value: 0.8663469265727392 and parameters: {'lambda_l1': 0.0018178384186716822, 'lambda_l2': 0.005651218283166253, 'num_leaves': 93, 'feature_fraction': 0.4168227432892937, 'bagging_fraction': 0.5553734101170525, 'bagging_freq': 7, 'min_child_samples': 23, 'max_depth': 885}. Best is trial 217 with value: 0.8687246830182201.\u001b[0m\n",
      "\u001b[32m[I 2022-06-23 23:40:01,412]\u001b[0m Trial 221 finished with value: 0.8636573206420342 and parameters: {'lambda_l1': 0.0018241710539030427, 'lambda_l2': 0.007774241431529244, 'num_leaves': 92, 'feature_fraction': 0.4118703025209063, 'bagging_fraction': 0.5553573236830086, 'bagging_freq': 7, 'min_child_samples': 23, 'max_depth': 889}. Best is trial 217 with value: 0.8687246830182201.\u001b[0m\n",
      "\u001b[32m[I 2022-06-23 23:40:03,454]\u001b[0m Trial 222 finished with value: 0.860521176879536 and parameters: {'lambda_l1': 0.0032060719545257796, 'lambda_l2': 0.009266115709681182, 'num_leaves': 97, 'feature_fraction': 0.41563764974571554, 'bagging_fraction': 0.5370651495495554, 'bagging_freq': 7, 'min_child_samples': 24, 'max_depth': 913}. Best is trial 217 with value: 0.8687246830182201.\u001b[0m\n",
      "\u001b[32m[I 2022-06-23 23:40:05,850]\u001b[0m Trial 223 finished with value: 0.8643339934489314 and parameters: {'lambda_l1': 0.0010158347934971306, 'lambda_l2': 0.004408527786353409, 'num_leaves': 105, 'feature_fraction': 0.42407007026343824, 'bagging_fraction': 0.5495710220884857, 'bagging_freq': 7, 'min_child_samples': 21, 'max_depth': 878}. Best is trial 217 with value: 0.8687246830182201.\u001b[0m\n",
      "\u001b[32m[I 2022-06-23 23:40:08,148]\u001b[0m Trial 224 finished with value: 0.8572900371901919 and parameters: {'lambda_l1': 0.0010480824080015294, 'lambda_l2': 0.002342773490807191, 'num_leaves': 108, 'feature_fraction': 0.42630778783554457, 'bagging_fraction': 0.5657101721776945, 'bagging_freq': 7, 'min_child_samples': 19, 'max_depth': 878}. Best is trial 217 with value: 0.8687246830182201.\u001b[0m\n",
      "\u001b[32m[I 2022-06-23 23:40:10,129]\u001b[0m Trial 225 finished with value: 0.8633590784430567 and parameters: {'lambda_l1': 0.0014675511826560488, 'lambda_l2': 0.005182298759253326, 'num_leaves': 105, 'feature_fraction': 0.4197082264594174, 'bagging_fraction': 0.5520874359611616, 'bagging_freq': 7, 'min_child_samples': 23, 'max_depth': 853}. Best is trial 217 with value: 0.8687246830182201.\u001b[0m\n",
      "\u001b[32m[I 2022-06-23 23:40:12,112]\u001b[0m Trial 226 finished with value: 0.8637479673319456 and parameters: {'lambda_l1': 0.0007348842709858885, 'lambda_l2': 0.017704705110276556, 'num_leaves': 90, 'feature_fraction': 0.42940813550737217, 'bagging_fraction': 0.5464825478708137, 'bagging_freq': 7, 'min_child_samples': 25, 'max_depth': 893}. Best is trial 217 with value: 0.8687246830182201.\u001b[0m\n",
      "\u001b[32m[I 2022-06-23 23:40:14,118]\u001b[0m Trial 227 finished with value: 0.8609340749549728 and parameters: {'lambda_l1': 0.0005529380132090954, 'lambda_l2': 0.0026614629502247013, 'num_leaves': 102, 'feature_fraction': 0.43556313034447947, 'bagging_fraction': 0.5232316813211345, 'bagging_freq': 7, 'min_child_samples': 21, 'max_depth': 829}. Best is trial 217 with value: 0.8687246830182201.\u001b[0m\n",
      "\u001b[32m[I 2022-06-23 23:40:16,114]\u001b[0m Trial 228 finished with value: 0.8672977950626943 and parameters: {'lambda_l1': 0.004266321535513631, 'lambda_l2': 0.014821771666667016, 'num_leaves': 80, 'feature_fraction': 0.4005455321183814, 'bagging_fraction': 0.558804662844363, 'bagging_freq': 7, 'min_child_samples': 22, 'max_depth': 906}. Best is trial 217 with value: 0.8687246830182201.\u001b[0m\n",
      "\u001b[32m[I 2022-06-23 23:40:18,487]\u001b[0m Trial 229 finished with value: 0.8558196569727143 and parameters: {'lambda_l1': 0.0035161532344238438, 'lambda_l2': 0.00525444625763267, 'num_leaves': 95, 'feature_fraction': 0.4010355463080029, 'bagging_fraction': 0.5769202246030573, 'bagging_freq': 7, 'min_child_samples': 16, 'max_depth': 865}. Best is trial 217 with value: 0.8687246830182201.\u001b[0m\n",
      "\u001b[32m[I 2022-06-23 23:40:20,333]\u001b[0m Trial 230 finished with value: 0.8624041386674901 and parameters: {'lambda_l1': 0.0075808294395191015, 'lambda_l2': 0.02528234093952164, 'num_leaves': 82, 'feature_fraction': 0.4110419718885064, 'bagging_fraction': 0.5977680462152627, 'bagging_freq': 7, 'min_child_samples': 25, 'max_depth': 841}. Best is trial 217 with value: 0.8687246830182201.\u001b[0m\n",
      "\u001b[32m[I 2022-06-23 23:40:22,541]\u001b[0m Trial 231 finished with value: 0.8678322701765039 and parameters: {'lambda_l1': 0.002236474744390923, 'lambda_l2': 0.01491293039554688, 'num_leaves': 79, 'feature_fraction': 0.4170905667267754, 'bagging_fraction': 0.557382768318698, 'bagging_freq': 7, 'min_child_samples': 22, 'max_depth': 906}. Best is trial 217 with value: 0.8687246830182201.\u001b[0m\n",
      "\u001b[32m[I 2022-06-23 23:40:24,645]\u001b[0m Trial 232 finished with value: 0.8652955414898139 and parameters: {'lambda_l1': 0.002196173944547818, 'lambda_l2': 0.015174192178012974, 'num_leaves': 83, 'feature_fraction': 0.4003313996840509, 'bagging_fraction': 0.5636215871840667, 'bagging_freq': 7, 'min_child_samples': 22, 'max_depth': 903}. Best is trial 217 with value: 0.8687246830182201.\u001b[0m\n",
      "\u001b[32m[I 2022-06-23 23:40:26,978]\u001b[0m Trial 233 finished with value: 0.8611617966441883 and parameters: {'lambda_l1': 0.004336391178595529, 'lambda_l2': 0.03703108346103725, 'num_leaves': 80, 'feature_fraction': 0.41670455370197496, 'bagging_fraction': 0.5628959872258101, 'bagging_freq': 7, 'min_child_samples': 21, 'max_depth': 926}. Best is trial 217 with value: 0.8687246830182201.\u001b[0m\n",
      "\u001b[32m[I 2022-06-23 23:40:29,504]\u001b[0m Trial 234 finished with value: 0.8552420573922123 and parameters: {'lambda_l1': 0.002227763317070059, 'lambda_l2': 0.013258760869719248, 'num_leaves': 85, 'feature_fraction': 0.41647191080960055, 'bagging_fraction': 0.5861493106498923, 'bagging_freq': 7, 'min_child_samples': 18, 'max_depth': 904}. Best is trial 217 with value: 0.8687246830182201.\u001b[0m\n",
      "\u001b[32m[I 2022-06-23 23:40:32,024]\u001b[0m Trial 235 finished with value: 0.8631400808513812 and parameters: {'lambda_l1': 0.0011278097821554533, 'lambda_l2': 0.009486380449061286, 'num_leaves': 88, 'feature_fraction': 0.4301603444679359, 'bagging_fraction': 0.5577129131379159, 'bagging_freq': 7, 'min_child_samples': 20, 'max_depth': 902}. Best is trial 217 with value: 0.8687246830182201.\u001b[0m\n",
      "\u001b[32m[I 2022-06-23 23:40:34,033]\u001b[0m Trial 236 finished with value: 0.8652374976244945 and parameters: {'lambda_l1': 0.0023360396655714597, 'lambda_l2': 0.005939941855602258, 'num_leaves': 75, 'feature_fraction': 0.43803693720807946, 'bagging_fraction': 0.5719262663525915, 'bagging_freq': 7, 'min_child_samples': 22, 'max_depth': 878}. Best is trial 217 with value: 0.8687246830182201.\u001b[0m\n",
      "\u001b[32m[I 2022-06-23 23:40:36,412]\u001b[0m Trial 237 finished with value: 0.8653568407856334 and parameters: {'lambda_l1': 0.0026041690916806253, 'lambda_l2': 0.00567239519532085, 'num_leaves': 75, 'feature_fraction': 0.43891438433034397, 'bagging_fraction': 0.5698246148220031, 'bagging_freq': 7, 'min_child_samples': 22, 'max_depth': 870}. Best is trial 217 with value: 0.8687246830182201.\u001b[0m\n",
      "\u001b[32m[I 2022-06-23 23:40:38,378]\u001b[0m Trial 238 finished with value: 0.8639565759103297 and parameters: {'lambda_l1': 0.0046364977327789285, 'lambda_l2': 0.001720121768315596, 'num_leaves': 79, 'feature_fraction': 0.4402647085651706, 'bagging_fraction': 0.5734777270039327, 'bagging_freq': 7, 'min_child_samples': 22, 'max_depth': 857}. Best is trial 217 with value: 0.8687246830182201.\u001b[0m\n"
     ]
    },
    {
     "name": "stderr",
     "output_type": "stream",
     "text": [
      "\u001b[32m[I 2022-06-23 23:40:40,244]\u001b[0m Trial 239 finished with value: 0.8570742702215225 and parameters: {'lambda_l1': 0.003407753744998582, 'lambda_l2': 0.0004829150728734601, 'num_leaves': 74, 'feature_fraction': 0.41271730742862905, 'bagging_fraction': 0.5834663545190748, 'bagging_freq': 7, 'min_child_samples': 23, 'max_depth': 829}. Best is trial 217 with value: 0.8687246830182201.\u001b[0m\n",
      "\u001b[32m[I 2022-06-23 23:40:42,509]\u001b[0m Trial 240 finished with value: 0.8578470547340515 and parameters: {'lambda_l1': 0.0018567023036396508, 'lambda_l2': 0.006783336498717448, 'num_leaves': 72, 'feature_fraction': 0.4359513805905052, 'bagging_fraction': 0.5932072573261093, 'bagging_freq': 7, 'min_child_samples': 19, 'max_depth': 869}. Best is trial 217 with value: 0.8687246830182201.\u001b[0m\n",
      "\u001b[32m[I 2022-06-23 23:40:44,549]\u001b[0m Trial 241 finished with value: 0.8648182820361613 and parameters: {'lambda_l1': 0.0008996885138093709, 'lambda_l2': 0.00402858107500018, 'num_leaves': 82, 'feature_fraction': 0.400235073982503, 'bagging_fraction': 0.5669608872664244, 'bagging_freq': 7, 'min_child_samples': 22, 'max_depth': 879}. Best is trial 217 with value: 0.8687246830182201.\u001b[0m\n",
      "\u001b[32m[I 2022-06-23 23:40:46,524]\u001b[0m Trial 242 finished with value: 0.864342187954804 and parameters: {'lambda_l1': 0.0027307718485535537, 'lambda_l2': 0.013339811018713583, 'num_leaves': 83, 'feature_fraction': 0.40007426355719194, 'bagging_fraction': 0.5672105021552615, 'bagging_freq': 7, 'min_child_samples': 23, 'max_depth': 886}. Best is trial 217 with value: 0.8687246830182201.\u001b[0m\n",
      "\u001b[32m[I 2022-06-23 23:40:48,477]\u001b[0m Trial 243 finished with value: 0.8650579274956209 and parameters: {'lambda_l1': 0.0007766744778419502, 'lambda_l2': 0.010416130740699612, 'num_leaves': 76, 'feature_fraction': 0.41645529292396666, 'bagging_fraction': 0.5692565609071245, 'bagging_freq': 7, 'min_child_samples': 22, 'max_depth': 857}. Best is trial 217 with value: 0.8687246830182201.\u001b[0m\n",
      "\u001b[32m[I 2022-06-23 23:40:50,473]\u001b[0m Trial 244 finished with value: 0.8613582652297821 and parameters: {'lambda_l1': 0.0007102612061484038, 'lambda_l2': 0.003207419427791149, 'num_leaves': 76, 'feature_fraction': 0.41124714932537604, 'bagging_fraction': 0.5755648606991635, 'bagging_freq': 7, 'min_child_samples': 22, 'max_depth': 871}. Best is trial 217 with value: 0.8687246830182201.\u001b[0m\n",
      "\u001b[32m[I 2022-06-23 23:40:52,600]\u001b[0m Trial 245 finished with value: 0.8659384861784241 and parameters: {'lambda_l1': 0.0023478207156179642, 'lambda_l2': 0.0111281528891265, 'num_leaves': 82, 'feature_fraction': 0.423095433608893, 'bagging_fraction': 0.5603747299089816, 'bagging_freq': 7, 'min_child_samples': 20, 'max_depth': 899}. Best is trial 217 with value: 0.8687246830182201.\u001b[0m\n",
      "\u001b[32m[I 2022-06-23 23:40:54,945]\u001b[0m Trial 246 finished with value: 0.8599256223008157 and parameters: {'lambda_l1': 0.0015877506761967756, 'lambda_l2': 0.01087906204163698, 'num_leaves': 79, 'feature_fraction': 0.41691495519356425, 'bagging_fraction': 0.6035698713527348, 'bagging_freq': 7, 'min_child_samples': 19, 'max_depth': 897}. Best is trial 217 with value: 0.8687246830182201.\u001b[0m\n",
      "\u001b[32m[I 2022-06-23 23:40:57,186]\u001b[0m Trial 247 finished with value: 0.8561594213964568 and parameters: {'lambda_l1': 0.009657854957883221, 'lambda_l2': 0.020464233554712698, 'num_leaves': 87, 'feature_fraction': 0.40133674591916496, 'bagging_fraction': 0.569453878374443, 'bagging_freq': 7, 'min_child_samples': 18, 'max_depth': 924}. Best is trial 217 with value: 0.8687246830182201.\u001b[0m\n",
      "\u001b[32m[I 2022-06-23 23:40:59,421]\u001b[0m Trial 248 finished with value: 0.8566330913024025 and parameters: {'lambda_l1': 0.0024913225272920232, 'lambda_l2': 0.006727168096471826, 'num_leaves': 82, 'feature_fraction': 0.4275286492782422, 'bagging_fraction': 0.5878028503562256, 'bagging_freq': 7, 'min_child_samples': 20, 'max_depth': 890}. Best is trial 217 with value: 0.8687246830182201.\u001b[0m\n",
      "\u001b[32m[I 2022-06-23 23:41:01,655]\u001b[0m Trial 249 finished with value: 0.8329494241783327 and parameters: {'lambda_l1': 0.006117949032970832, 'lambda_l2': 0.004468754608230631, 'num_leaves': 71, 'feature_fraction': 0.412583845934055, 'bagging_fraction': 0.8780491083221462, 'bagging_freq': 7, 'min_child_samples': 16, 'max_depth': 914}. Best is trial 217 with value: 0.8687246830182201.\u001b[0m\n",
      "\u001b[32m[I 2022-06-23 23:41:02,192]\u001b[0m Trial 250 finished with value: 0.5 and parameters: {'lambda_l1': 0.000979190744437126, 'lambda_l2': 0.011396637796179424, 'num_leaves': 89, 'feature_fraction': 0.4255438417834175, 'bagging_fraction': 0.5568921642053409, 'bagging_freq': 7, 'min_child_samples': 54, 'max_depth': 950}. Best is trial 217 with value: 0.8687246830182201.\u001b[0m\n",
      "\u001b[32m[I 2022-06-23 23:41:04,352]\u001b[0m Trial 251 finished with value: 0.8625464040818143 and parameters: {'lambda_l1': 0.0002816189684970783, 'lambda_l2': 0.02454021196532415, 'num_leaves': 77, 'feature_fraction': 0.4098351100307079, 'bagging_fraction': 0.5755546112531996, 'bagging_freq': 7, 'min_child_samples': 20, 'max_depth': 879}. Best is trial 217 with value: 0.8687246830182201.\u001b[0m\n",
      "\u001b[32m[I 2022-06-23 23:41:06,324]\u001b[0m Trial 252 finished with value: 0.8676372266794092 and parameters: {'lambda_l1': 0.001403992051611769, 'lambda_l2': 0.006350272300170232, 'num_leaves': 83, 'feature_fraction': 0.4014192704055186, 'bagging_fraction': 0.5614360510179472, 'bagging_freq': 7, 'min_child_samples': 22, 'max_depth': 862}. Best is trial 217 with value: 0.8687246830182201.\u001b[0m\n",
      "\u001b[32m[I 2022-06-23 23:41:08,312]\u001b[0m Trial 253 finished with value: 0.8613750666473189 and parameters: {'lambda_l1': 0.0005136910227323646, 'lambda_l2': 0.00613067820786329, 'num_leaves': 83, 'feature_fraction': 0.42948494268940557, 'bagging_fraction': 0.5670126702946826, 'bagging_freq': 7, 'min_child_samples': 21, 'max_depth': 820}. Best is trial 217 with value: 0.8687246830182201.\u001b[0m\n",
      "\u001b[32m[I 2022-06-23 23:41:08,816]\u001b[0m Trial 254 finished with value: 0.5 and parameters: {'lambda_l1': 0.004535799552209135, 'lambda_l2': 0.038727896979497106, 'num_leaves': 72, 'feature_fraction': 0.42079352676439014, 'bagging_fraction': 0.556701515078722, 'bagging_freq': 7, 'min_child_samples': 69, 'max_depth': 857}. Best is trial 217 with value: 0.8687246830182201.\u001b[0m\n",
      "\u001b[32m[I 2022-06-23 23:41:10,808]\u001b[0m Trial 255 finished with value: 0.8589836175176732 and parameters: {'lambda_l1': 0.0022704162371478607, 'lambda_l2': 0.003241478179327293, 'num_leaves': 80, 'feature_fraction': 0.4397607463521603, 'bagging_fraction': 0.5852071739124655, 'bagging_freq': 7, 'min_child_samples': 22, 'max_depth': 855}. Best is trial 217 with value: 0.8687246830182201.\u001b[0m\n",
      "\u001b[32m[I 2022-06-23 23:41:13,245]\u001b[0m Trial 256 finished with value: 0.8604946887477847 and parameters: {'lambda_l1': 0.0007563372073775474, 'lambda_l2': 0.00793809811910988, 'num_leaves': 87, 'feature_fraction': 0.41287729281309893, 'bagging_fraction': 0.5644871477270818, 'bagging_freq': 7, 'min_child_samples': 18, 'max_depth': 909}. Best is trial 217 with value: 0.8687246830182201.\u001b[0m\n",
      "\u001b[32m[I 2022-06-23 23:41:15,357]\u001b[0m Trial 257 finished with value: 0.8565319639940383 and parameters: {'lambda_l1': 0.0010363991524166235, 'lambda_l2': 0.018304166937642953, 'num_leaves': 77, 'feature_fraction': 0.7620682657579407, 'bagging_fraction': 0.5784818951066469, 'bagging_freq': 7, 'min_child_samples': 26, 'max_depth': 868}. Best is trial 217 with value: 0.8687246830182201.\u001b[0m\n",
      "\u001b[32m[I 2022-06-23 23:41:17,224]\u001b[0m Trial 258 finished with value: 0.8607939645493823 and parameters: {'lambda_l1': 0.0003649468722398752, 'lambda_l2': 0.004160610600524086, 'num_leaves': 74, 'feature_fraction': 0.401211586915118, 'bagging_fraction': 0.5954275947837061, 'bagging_freq': 7, 'min_child_samples': 22, 'max_depth': 776}. Best is trial 217 with value: 0.8687246830182201.\u001b[0m\n",
      "\u001b[32m[I 2022-06-23 23:41:19,228]\u001b[0m Trial 259 finished with value: 0.8602519526182452 and parameters: {'lambda_l1': 0.00273119996061194, 'lambda_l2': 0.009379976387978727, 'num_leaves': 68, 'feature_fraction': 0.43011481042303334, 'bagging_fraction': 0.5514268790434573, 'bagging_freq': 7, 'min_child_samples': 25, 'max_depth': 930}. Best is trial 217 with value: 0.8687246830182201.\u001b[0m\n",
      "\u001b[32m[I 2022-06-23 23:41:21,061]\u001b[0m Trial 260 finished with value: 0.8597896733684272 and parameters: {'lambda_l1': 0.001400989403629139, 'lambda_l2': 0.014402357422509978, 'num_leaves': 81, 'feature_fraction': 0.4002089927732606, 'bagging_fraction': 0.5622181136415391, 'bagging_freq': 7, 'min_child_samples': 20, 'max_depth': 800}. Best is trial 217 with value: 0.8687246830182201.\u001b[0m\n"
     ]
    },
    {
     "name": "stderr",
     "output_type": "stream",
     "text": [
      "\u001b[32m[I 2022-06-23 23:41:22,642]\u001b[0m Trial 261 finished with value: 0.8606191635377006 and parameters: {'lambda_l1': 0.00019073427580550075, 'lambda_l2': 0.056330374846064714, 'num_leaves': 85, 'feature_fraction': 0.41881802125967516, 'bagging_fraction': 0.5485985929754897, 'bagging_freq': 7, 'min_child_samples': 23, 'max_depth': 755}. Best is trial 217 with value: 0.8687246830182201.\u001b[0m\n",
      "\u001b[32m[I 2022-06-23 23:41:24,768]\u001b[0m Trial 262 finished with value: 0.8543616865375765 and parameters: {'lambda_l1': 0.0020098973369900163, 'lambda_l2': 0.00012110619127255987, 'num_leaves': 89, 'feature_fraction': 0.5543993402685228, 'bagging_fraction': 0.5722723820344939, 'bagging_freq': 7, 'min_child_samples': 17, 'max_depth': 840}. Best is trial 217 with value: 0.8687246830182201.\u001b[0m\n",
      "\u001b[32m[I 2022-06-23 23:41:26,531]\u001b[0m Trial 263 finished with value: 0.8612881434655815 and parameters: {'lambda_l1': 0.0006064282363193419, 'lambda_l2': 0.006422929091744252, 'num_leaves': 73, 'feature_fraction': 0.45047473547357564, 'bagging_fraction': 0.5578494134701306, 'bagging_freq': 7, 'min_child_samples': 26, 'max_depth': 898}. Best is trial 217 with value: 0.8687246830182201.\u001b[0m\n",
      "\u001b[32m[I 2022-06-23 23:41:28,608]\u001b[0m Trial 264 finished with value: 0.8642421398261182 and parameters: {'lambda_l1': 0.003676015886376693, 'lambda_l2': 0.009053789842271584, 'num_leaves': 69, 'feature_fraction': 0.4140258992800586, 'bagging_fraction': 0.5448933486925567, 'bagging_freq': 7, 'min_child_samples': 22, 'max_depth': 869}. Best is trial 217 with value: 0.8687246830182201.\u001b[0m\n",
      "\u001b[32m[I 2022-06-23 23:41:30,494]\u001b[0m Trial 265 finished with value: 0.859979038977878 and parameters: {'lambda_l1': 0.0010264194389897172, 'lambda_l2': 0.0017922748861069725, 'num_leaves': 80, 'feature_fraction': 0.43373485212593016, 'bagging_fraction': 0.6086429539197167, 'bagging_freq': 7, 'min_child_samples': 24, 'max_depth': 824}. Best is trial 217 with value: 0.8687246830182201.\u001b[0m\n",
      "\u001b[32m[I 2022-06-23 23:41:32,479]\u001b[0m Trial 266 finished with value: 0.8611193469842852 and parameters: {'lambda_l1': 0.0014837607449119728, 'lambda_l2': 0.025403874698191522, 'num_leaves': 84, 'feature_fraction': 0.5666116827007511, 'bagging_fraction': 0.587109640618871, 'bagging_freq': 7, 'min_child_samples': 21, 'max_depth': 848}. Best is trial 217 with value: 0.8687246830182201.\u001b[0m\n",
      "\u001b[32m[I 2022-06-23 23:41:34,734]\u001b[0m Trial 267 finished with value: 0.8517154058316985 and parameters: {'lambda_l1': 0.0030555890154328243, 'lambda_l2': 0.016911179927052097, 'num_leaves': 13, 'feature_fraction': 0.42394456319301577, 'bagging_fraction': 0.5768168223212649, 'bagging_freq': 7, 'min_child_samples': 14, 'max_depth': 883}. Best is trial 217 with value: 0.8687246830182201.\u001b[0m\n",
      "\u001b[32m[I 2022-06-23 23:41:36,404]\u001b[0m Trial 268 finished with value: 0.8605861340027361 and parameters: {'lambda_l1': 0.00475474096107853, 'lambda_l2': 0.0039675562237015, 'num_leaves': 75, 'feature_fraction': 0.4001855092550855, 'bagging_fraction': 0.5600165832844142, 'bagging_freq': 7, 'min_child_samples': 27, 'max_depth': 901}. Best is trial 217 with value: 0.8687246830182201.\u001b[0m\n",
      "\u001b[32m[I 2022-06-23 23:41:38,104]\u001b[0m Trial 269 finished with value: 0.8631834499779546 and parameters: {'lambda_l1': 0.002220095382790882, 'lambda_l2': 0.005734535377174131, 'num_leaves': 132, 'feature_fraction': 0.44640373956814466, 'bagging_fraction': 0.5449827839299953, 'bagging_freq': 7, 'min_child_samples': 24, 'max_depth': 809}. Best is trial 217 with value: 0.8687246830182201.\u001b[0m\n",
      "\u001b[32m[I 2022-06-23 23:41:40,131]\u001b[0m Trial 270 finished with value: 0.8624973596879556 and parameters: {'lambda_l1': 0.00041132369207337344, 'lambda_l2': 0.010139241137488684, 'num_leaves': 91, 'feature_fraction': 0.41803381751177576, 'bagging_fraction': 0.5640481008914369, 'bagging_freq': 7, 'min_child_samples': 19, 'max_depth': 865}. Best is trial 217 with value: 0.8687246830182201.\u001b[0m\n",
      "\u001b[32m[I 2022-06-23 23:41:41,763]\u001b[0m Trial 271 finished with value: 0.8634132791657945 and parameters: {'lambda_l1': 0.0015514042052843634, 'lambda_l2': 0.000745976084212536, 'num_leaves': 82, 'feature_fraction': 0.43415636647023337, 'bagging_fraction': 0.5345017678409507, 'bagging_freq': 6, 'min_child_samples': 25, 'max_depth': 834}. Best is trial 217 with value: 0.8687246830182201.\u001b[0m\n",
      "\u001b[32m[I 2022-06-23 23:41:43,739]\u001b[0m Trial 272 finished with value: 0.8599357929007698 and parameters: {'lambda_l1': 0.0007567263568266242, 'lambda_l2': 0.0065539159843514255, 'num_leaves': 65, 'feature_fraction': 0.5396047308774979, 'bagging_fraction': 0.5715950989239027, 'bagging_freq': 7, 'min_child_samples': 22, 'max_depth': 929}. Best is trial 217 with value: 0.8687246830182201.\u001b[0m\n",
      "\u001b[32m[I 2022-06-23 23:41:45,462]\u001b[0m Trial 273 finished with value: 0.857279876298452 and parameters: {'lambda_l1': 0.006167383107338665, 'lambda_l2': 0.013345527651362293, 'num_leaves': 78, 'feature_fraction': 0.4145279232367051, 'bagging_fraction': 0.5935779158282515, 'bagging_freq': 7, 'min_child_samples': 27, 'max_depth': 911}. Best is trial 217 with value: 0.8687246830182201.\u001b[0m\n",
      "\u001b[32m[I 2022-06-23 23:41:47,451]\u001b[0m Trial 274 finished with value: 0.8638539996724981 and parameters: {'lambda_l1': 0.0010312812162775842, 'lambda_l2': 0.02209241603608848, 'num_leaves': 89, 'feature_fraction': 0.4127285985288009, 'bagging_fraction': 0.5510417578181039, 'bagging_freq': 7, 'min_child_samples': 20, 'max_depth': 877}. Best is trial 217 with value: 0.8687246830182201.\u001b[0m\n",
      "\u001b[32m[I 2022-06-23 23:41:48,934]\u001b[0m Trial 275 finished with value: 0.8610201008356967 and parameters: {'lambda_l1': 0.00200650645243521, 'lambda_l2': 0.007629427716920297, 'num_leaves': 69, 'feature_fraction': 0.44220375442926435, 'bagging_fraction': 0.5800793077598433, 'bagging_freq': 7, 'min_child_samples': 24, 'max_depth': 709}. Best is trial 217 with value: 0.8687246830182201.\u001b[0m\n",
      "\u001b[32m[I 2022-06-23 23:41:51,428]\u001b[0m Trial 276 finished with value: 0.8590418680906297 and parameters: {'lambda_l1': 0.019006034246493827, 'lambda_l2': 0.0031386713668160307, 'num_leaves': 77, 'feature_fraction': 0.5578191783584819, 'bagging_fraction': 0.5440016377058534, 'bagging_freq': 7, 'min_child_samples': 22, 'max_depth': 790}. Best is trial 217 with value: 0.8687246830182201.\u001b[0m\n",
      "\u001b[32m[I 2022-06-23 23:41:53,645]\u001b[0m Trial 277 finished with value: 0.8638784091725268 and parameters: {'lambda_l1': 0.0013670369893395715, 'lambda_l2': 0.04814577681858783, 'num_leaves': 85, 'feature_fraction': 0.4254837996318019, 'bagging_fraction': 0.521794073141971, 'bagging_freq': 7, 'min_child_samples': 18, 'max_depth': 847}. Best is trial 217 with value: 0.8687246830182201.\u001b[0m\n",
      "\u001b[32m[I 2022-06-23 23:41:55,361]\u001b[0m Trial 278 finished with value: 0.864343303368458 and parameters: {'lambda_l1': 0.0005915964282043428, 'lambda_l2': 0.004571933078761178, 'num_leaves': 72, 'feature_fraction': 0.40083048532790805, 'bagging_fraction': 0.5575795130941205, 'bagging_freq': 7, 'min_child_samples': 26, 'max_depth': 893}. Best is trial 217 with value: 0.8687246830182201.\u001b[0m\n",
      "\u001b[32m[I 2022-06-23 23:41:57,110]\u001b[0m Trial 279 finished with value: 0.8568271348104938 and parameters: {'lambda_l1': 0.0031691061670055744, 'lambda_l2': 0.014305274667098185, 'num_leaves': 92, 'feature_fraction': 0.7970232958492282, 'bagging_fraction': 0.5678125849195197, 'bagging_freq': 7, 'min_child_samples': 29, 'max_depth': 815}. Best is trial 217 with value: 0.8687246830182201.\u001b[0m\n",
      "\u001b[32m[I 2022-06-23 23:41:58,635]\u001b[0m Trial 280 finished with value: 0.8650411497472256 and parameters: {'lambda_l1': 0.0008350108039476078, 'lambda_l2': 0.009381983575268723, 'num_leaves': 81, 'feature_fraction': 0.45718063085115807, 'bagging_fraction': 0.5303667115390714, 'bagging_freq': 7, 'min_child_samples': 24, 'max_depth': 736}. Best is trial 217 with value: 0.8687246830182201.\u001b[0m\n",
      "\u001b[32m[I 2022-06-23 23:42:00,154]\u001b[0m Trial 281 finished with value: 0.8603892134482304 and parameters: {'lambda_l1': 0.00014438684577896296, 'lambda_l2': 7.196196610256647e-05, 'num_leaves': 67, 'feature_fraction': 0.4612753713363593, 'bagging_fraction': 0.5162280673474995, 'bagging_freq': 7, 'min_child_samples': 24, 'max_depth': 742}. Best is trial 217 with value: 0.8687246830182201.\u001b[0m\n"
     ]
    },
    {
     "name": "stderr",
     "output_type": "stream",
     "text": [
      "\u001b[32m[I 2022-06-23 23:42:01,687]\u001b[0m Trial 282 finished with value: 0.862293431392309 and parameters: {'lambda_l1': 0.0003222299057201958, 'lambda_l2': 0.009968675665249609, 'num_leaves': 125, 'feature_fraction': 0.4525041252483267, 'bagging_fraction': 0.5303749787214656, 'bagging_freq': 7, 'min_child_samples': 26, 'max_depth': 733}. Best is trial 217 with value: 0.8687246830182201.\u001b[0m\n",
      "\u001b[32m[I 2022-06-23 23:42:03,887]\u001b[0m Trial 283 finished with value: 0.8535479988922325 and parameters: {'lambda_l1': 0.010161786385994208, 'lambda_l2': 0.023821569762222806, 'num_leaves': 78, 'feature_fraction': 0.6633804834656041, 'bagging_fraction': 0.5372874500773479, 'bagging_freq': 7, 'min_child_samples': 15, 'max_depth': 772}. Best is trial 217 with value: 0.8687246830182201.\u001b[0m\n",
      "\u001b[32m[I 2022-06-23 23:42:05,484]\u001b[0m Trial 284 finished with value: 0.8626389157368258 and parameters: {'lambda_l1': 0.002347697085999192, 'lambda_l2': 0.01020009205122552, 'num_leaves': 87, 'feature_fraction': 0.46222371305536974, 'bagging_fraction': 0.49651370210751283, 'bagging_freq': 6, 'min_child_samples': 20, 'max_depth': 730}. Best is trial 217 with value: 0.8687246830182201.\u001b[0m\n",
      "\u001b[32m[I 2022-06-23 23:42:06,992]\u001b[0m Trial 285 finished with value: 0.8672853054238504 and parameters: {'lambda_l1': 1.6480997674496267e-07, 'lambda_l2': 0.01529731912896506, 'num_leaves': 96, 'feature_fraction': 0.49235892327129954, 'bagging_fraction': 0.5470588236061148, 'bagging_freq': 7, 'min_child_samples': 24, 'max_depth': 698}. Best is trial 217 with value: 0.8687246830182201.\u001b[0m\n",
      "\u001b[32m[I 2022-06-23 23:42:08,484]\u001b[0m Trial 286 finished with value: 0.8650840840660886 and parameters: {'lambda_l1': 1.613592596402162e-07, 'lambda_l2': 0.021977770196549007, 'num_leaves': 98, 'feature_fraction': 0.48284191426815914, 'bagging_fraction': 0.5286424697542496, 'bagging_freq': 7, 'min_child_samples': 23, 'max_depth': 707}. Best is trial 217 with value: 0.8687246830182201.\u001b[0m\n",
      "\u001b[32m[I 2022-06-23 23:42:09,786]\u001b[0m Trial 287 finished with value: 0.8617126805513027 and parameters: {'lambda_l1': 1.590742916167862e-07, 'lambda_l2': 0.017691255321346595, 'num_leaves': 100, 'feature_fraction': 0.4970753832300607, 'bagging_fraction': 0.5093121159300972, 'bagging_freq': 7, 'min_child_samples': 28, 'max_depth': 696}. Best is trial 217 with value: 0.8687246830182201.\u001b[0m\n",
      "\u001b[32m[I 2022-06-23 23:42:11,331]\u001b[0m Trial 288 finished with value: 0.859599546824005 and parameters: {'lambda_l1': 1.3635851997187145e-07, 'lambda_l2': 0.09557039617460124, 'num_leaves': 94, 'feature_fraction': 0.48663484314699373, 'bagging_fraction': 0.5479563728565736, 'bagging_freq': 7, 'min_child_samples': 21, 'max_depth': 680}. Best is trial 217 with value: 0.8687246830182201.\u001b[0m\n",
      "\u001b[32m[I 2022-06-23 23:42:12,821]\u001b[0m Trial 289 finished with value: 0.8636297382528031 and parameters: {'lambda_l1': 2.529436067081528e-07, 'lambda_l2': 0.033152618664966146, 'num_leaves': 98, 'feature_fraction': 0.4904944855221229, 'bagging_fraction': 0.5288247151468383, 'bagging_freq': 7, 'min_child_samples': 24, 'max_depth': 712}. Best is trial 217 with value: 0.8687246830182201.\u001b[0m\n",
      "\u001b[32m[I 2022-06-23 23:42:14,760]\u001b[0m Trial 290 finished with value: 0.8622503140349502 and parameters: {'lambda_l1': 8.017127772036062e-08, 'lambda_l2': 0.029569192194165865, 'num_leaves': 141, 'feature_fraction': 0.48067413051320984, 'bagging_fraction': 0.5199359530999634, 'bagging_freq': 7, 'min_child_samples': 19, 'max_depth': 686}. Best is trial 217 with value: 0.8687246830182201.\u001b[0m\n",
      "\u001b[32m[I 2022-06-23 23:42:16,929]\u001b[0m Trial 291 finished with value: 0.8259296913741572 and parameters: {'lambda_l1': 1.795364268449856e-07, 'lambda_l2': 0.01613764488578195, 'num_leaves': 73, 'feature_fraction': 0.47549620883681787, 'bagging_fraction': 0.9888800384409324, 'bagging_freq': 7, 'min_child_samples': 26, 'max_depth': 688}. Best is trial 217 with value: 0.8687246830182201.\u001b[0m\n",
      "\u001b[32m[I 2022-06-23 23:42:17,369]\u001b[0m Trial 292 finished with value: 0.5 and parameters: {'lambda_l1': 4.112880416177978e-07, 'lambda_l2': 0.02137683268382597, 'num_leaves': 83, 'feature_fraction': 0.512809000654286, 'bagging_fraction': 0.5335293924687592, 'bagging_freq': 7, 'min_child_samples': 58, 'max_depth': 706}. Best is trial 217 with value: 0.8687246830182201.\u001b[0m\n",
      "\u001b[32m[I 2022-06-23 23:42:18,508]\u001b[0m Trial 293 finished with value: 0.8574737734101123 and parameters: {'lambda_l1': 3.1905772604299704e-07, 'lambda_l2': 0.01382505700211017, 'num_leaves': 62, 'feature_fraction': 0.4650503445310413, 'bagging_fraction': 0.5507644156666752, 'bagging_freq': 7, 'min_child_samples': 31, 'max_depth': 666}. Best is trial 217 with value: 0.8687246830182201.\u001b[0m\n",
      "\u001b[32m[I 2022-06-23 23:42:19,097]\u001b[0m Trial 294 finished with value: 0.5 and parameters: {'lambda_l1': 1.2395176823150202e-07, 'lambda_l2': 0.005982293446582883, 'num_leaves': 77, 'feature_fraction': 0.4460021390901684, 'bagging_fraction': 0.5409513393181297, 'bagging_freq': 7, 'min_child_samples': 47, 'max_depth': 711}. Best is trial 217 with value: 0.8687246830182201.\u001b[0m\n",
      "\u001b[32m[I 2022-06-23 23:42:20,671]\u001b[0m Trial 295 finished with value: 0.8624863775285602 and parameters: {'lambda_l1': 2.53695855641787e-07, 'lambda_l2': 0.01101190004381558, 'num_leaves': 96, 'feature_fraction': 0.4971454511196618, 'bagging_fraction': 0.5243105046646925, 'bagging_freq': 7, 'min_child_samples': 23, 'max_depth': 727}. Best is trial 217 with value: 0.8687246830182201.\u001b[0m\n",
      "\u001b[32m[I 2022-06-23 23:42:22,646]\u001b[0m Trial 296 finished with value: 0.853124101302894 and parameters: {'lambda_l1': 0.004705021742224423, 'lambda_l2': 0.04201804974832999, 'num_leaves': 87, 'feature_fraction': 0.504831663315777, 'bagging_fraction': 0.5539468414699548, 'bagging_freq': 7, 'min_child_samples': 17, 'max_depth': 701}. Best is trial 217 with value: 0.8687246830182201.\u001b[0m\n",
      "\u001b[32m[I 2022-06-23 23:42:25,465]\u001b[0m Trial 297 finished with value: 0.8654735406707155 and parameters: {'lambda_l1': 0.0016737560033335255, 'lambda_l2': 0.001991551917106141, 'num_leaves': 80, 'feature_fraction': 0.4820639146685759, 'bagging_fraction': 0.5575089432068386, 'bagging_freq': 7, 'min_child_samples': 21, 'max_depth': 952}. Best is trial 217 with value: 0.8687246830182201.\u001b[0m\n",
      "\u001b[32m[I 2022-06-23 23:42:27,888]\u001b[0m Trial 298 finished with value: 0.8528812885815593 and parameters: {'lambda_l1': 0.003024950731746624, 'lambda_l2': 0.002089594497043817, 'num_leaves': 82, 'feature_fraction': 0.4779239919708127, 'bagging_fraction': 0.7873306617266012, 'bagging_freq': 7, 'min_child_samples': 21, 'max_depth': 986}. Best is trial 217 with value: 0.8687246830182201.\u001b[0m\n",
      "\u001b[32m[I 2022-06-23 23:42:29,957]\u001b[0m Trial 299 finished with value: 0.8590141657018592 and parameters: {'lambda_l1': 0.0020304183603614277, 'lambda_l2': 0.0065991067892611005, 'num_leaves': 90, 'feature_fraction': 0.4899423843523135, 'bagging_fraction': 0.514733255754106, 'bagging_freq': 7, 'min_child_samples': 20, 'max_depth': 945}. Best is trial 217 with value: 0.8687246830182201.\u001b[0m\n",
      "\u001b[32m[I 2022-06-23 23:42:31,776]\u001b[0m Trial 300 finished with value: 0.8626040895808699 and parameters: {'lambda_l1': 0.006660009164810527, 'lambda_l2': 0.001350967328967236, 'num_leaves': 85, 'feature_fraction': 0.5189921704239114, 'bagging_fraction': 0.5406719649961952, 'bagging_freq': 7, 'min_child_samples': 25, 'max_depth': 934}. Best is trial 217 with value: 0.8687246830182201.\u001b[0m\n",
      "\u001b[32m[I 2022-06-23 23:42:34,061]\u001b[0m Trial 301 finished with value: 0.8601676084493421 and parameters: {'lambda_l1': 4.08508592494363e-07, 'lambda_l2': 0.020706604931163126, 'num_leaves': 68, 'feature_fraction': 0.4551182886207598, 'bagging_fraction': 0.5589921517656555, 'bagging_freq': 7, 'min_child_samples': 18, 'max_depth': 950}. Best is trial 217 with value: 0.8687246830182201.\u001b[0m\n",
      "\u001b[32m[I 2022-06-23 23:42:35,226]\u001b[0m Trial 302 finished with value: 0.8602852959304197 and parameters: {'lambda_l1': 1.9072228323577594e-07, 'lambda_l2': 0.002748027203628245, 'num_leaves': 92, 'feature_fraction': 0.6913843197032261, 'bagging_fraction': 0.5293643567029195, 'bagging_freq': 1, 'min_child_samples': 28, 'max_depth': 752}. Best is trial 217 with value: 0.8687246830182201.\u001b[0m\n",
      "\u001b[32m[I 2022-06-23 23:42:36,232]\u001b[0m Trial 303 finished with value: 0.8544349703873698 and parameters: {'lambda_l1': 0.0035827351787313926, 'lambda_l2': 0.008977402490092486, 'num_leaves': 81, 'feature_fraction': 0.4700844199391858, 'bagging_fraction': 0.550276041379168, 'bagging_freq': 7, 'min_child_samples': 22, 'max_depth': 370}. Best is trial 217 with value: 0.8687246830182201.\u001b[0m\n"
     ]
    },
    {
     "name": "stderr",
     "output_type": "stream",
     "text": [
      "\u001b[32m[I 2022-06-23 23:42:38,175]\u001b[0m Trial 304 finished with value: 0.8602551586914977 and parameters: {'lambda_l1': 0.0015497999131978209, 'lambda_l2': 0.005108269337080783, 'num_leaves': 73, 'feature_fraction': 0.4852500586431378, 'bagging_fraction': 0.49651833170337667, 'bagging_freq': 7, 'min_child_samples': 25, 'max_depth': 917}. Best is trial 217 with value: 0.8687246830182201.\u001b[0m\n",
      "\u001b[32m[I 2022-06-23 23:42:40,307]\u001b[0m Trial 305 finished with value: 0.8622846610518823 and parameters: {'lambda_l1': 0.0005859550425546332, 'lambda_l2': 0.012318197143969744, 'num_leaves': 101, 'feature_fraction': 0.5059871424473631, 'bagging_fraction': 0.56020503402158, 'bagging_freq': 7, 'min_child_samples': 21, 'max_depth': 974}. Best is trial 217 with value: 0.8687246830182201.\u001b[0m\n",
      "\u001b[32m[I 2022-06-23 23:42:42,045]\u001b[0m Trial 306 finished with value: 0.8633898118994867 and parameters: {'lambda_l1': 9.241020663959357e-08, 'lambda_l2': 0.07522733004311231, 'num_leaves': 154, 'feature_fraction': 0.5368488784201112, 'bagging_fraction': 0.5449907011117915, 'bagging_freq': 7, 'min_child_samples': 27, 'max_depth': 828}. Best is trial 217 with value: 0.8687246830182201.\u001b[0m\n",
      "\u001b[32m[I 2022-06-23 23:42:43,905]\u001b[0m Trial 307 finished with value: 0.8594368278994827 and parameters: {'lambda_l1': 0.0025603450609404366, 'lambda_l2': 0.020117163450485566, 'num_leaves': 58, 'feature_fraction': 0.4960735185234467, 'bagging_fraction': 0.5347469445250049, 'bagging_freq': 7, 'min_child_samples': 23, 'max_depth': 962}. Best is trial 217 with value: 0.8687246830182201.\u001b[0m\n",
      "\u001b[32m[I 2022-06-23 23:42:45,767]\u001b[0m Trial 308 finished with value: 0.8553170061362786 and parameters: {'lambda_l1': 0.0015978761829220187, 'lambda_l2': 0.0010179041984672633, 'num_leaves': 64, 'feature_fraction': 0.4615766955870825, 'bagging_fraction': 0.5684183230799492, 'bagging_freq': 7, 'min_child_samples': 16, 'max_depth': 724}. Best is trial 217 with value: 0.8687246830182201.\u001b[0m\n",
      "\u001b[32m[I 2022-06-23 23:42:46,340]\u001b[0m Trial 309 finished with value: 0.8207946117994495 and parameters: {'lambda_l1': 0.005141291274833179, 'lambda_l2': 0.027362235520316767, 'num_leaves': 78, 'feature_fraction': 0.5262810088789706, 'bagging_fraction': 0.5094850725561857, 'bagging_freq': 7, 'min_child_samples': 20, 'max_depth': 112}. Best is trial 217 with value: 0.8687246830182201.\u001b[0m\n",
      "\u001b[32m[I 2022-06-23 23:42:47,773]\u001b[0m Trial 310 finished with value: 0.8630945202028792 and parameters: {'lambda_l1': 6.149101547225874e-07, 'lambda_l2': 0.007844211613495357, 'num_leaves': 86, 'feature_fraction': 0.4722440269470883, 'bagging_fraction': 0.5536411421445584, 'bagging_freq': 7, 'min_child_samples': 24, 'max_depth': 672}. Best is trial 217 with value: 0.8687246830182201.\u001b[0m\n",
      "\u001b[32m[I 2022-06-23 23:42:49,695]\u001b[0m Trial 311 finished with value: 0.8610511577131159 and parameters: {'lambda_l1': 0.000937610497378975, 'lambda_l2': 1.0854656666617709e-07, 'num_leaves': 97, 'feature_fraction': 0.5522163100916491, 'bagging_fraction': 0.524667750646762, 'bagging_freq': 7, 'min_child_samples': 19, 'max_depth': 852}. Best is trial 217 with value: 0.8687246830182201.\u001b[0m\n",
      "\u001b[32m[I 2022-06-23 23:42:51,025]\u001b[0m Trial 312 finished with value: 0.86208403967034 and parameters: {'lambda_l1': 0.03204052451000775, 'lambda_l2': 0.013416408740646507, 'num_leaves': 81, 'feature_fraction': 0.447196239806139, 'bagging_fraction': 0.5417004331142237, 'bagging_freq': 7, 'min_child_samples': 30, 'max_depth': 796}. Best is trial 217 with value: 0.8687246830182201.\u001b[0m\n",
      "\u001b[32m[I 2022-06-23 23:42:53,427]\u001b[0m Trial 313 finished with value: 0.8525803996055542 and parameters: {'lambda_l1': 0.0024484829608090943, 'lambda_l2': 0.003665485922229093, 'num_leaves': 73, 'feature_fraction': 0.48291433809194273, 'bagging_fraction': 0.5741278577751172, 'bagging_freq': 7, 'min_child_samples': 12, 'max_depth': 905}. Best is trial 217 with value: 0.8687246830182201.\u001b[0m\n",
      "\u001b[32m[I 2022-06-23 23:42:55,405]\u001b[0m Trial 314 finished with value: 0.8692806059609466 and parameters: {'lambda_l1': 0.00024361253352463442, 'lambda_l2': 0.005076612339930848, 'num_leaves': 89, 'feature_fraction': 0.428785388246211, 'bagging_fraction': 0.5575371666771144, 'bagging_freq': 7, 'min_child_samples': 22, 'max_depth': 839}. Best is trial 314 with value: 0.8692806059609466.\u001b[0m\n",
      "\u001b[32m[I 2022-06-23 23:42:57,423]\u001b[0m Trial 315 finished with value: 0.8677673830727235 and parameters: {'lambda_l1': 0.00025273643161551724, 'lambda_l2': 0.0058264747297215955, 'num_leaves': 92, 'feature_fraction': 0.4356117918908713, 'bagging_fraction': 0.5573686691083438, 'bagging_freq': 7, 'min_child_samples': 22, 'max_depth': 837}. Best is trial 314 with value: 0.8692806059609466.\u001b[0m\n",
      "\u001b[32m[I 2022-06-23 23:42:59,712]\u001b[0m Trial 316 finished with value: 0.8282092145470628 and parameters: {'lambda_l1': 0.00021105962049332804, 'lambda_l2': 0.002280909707686782, 'num_leaves': 95, 'feature_fraction': 0.43781779539503907, 'bagging_fraction': 0.9434123449557364, 'bagging_freq': 7, 'min_child_samples': 18, 'max_depth': 573}. Best is trial 314 with value: 0.8692806059609466.\u001b[0m\n",
      "\u001b[32m[I 2022-06-23 23:43:02,828]\u001b[0m Trial 317 finished with value: 0.8606263279419238 and parameters: {'lambda_l1': 0.00012111276468305299, 'lambda_l2': 0.004529571315397585, 'num_leaves': 104, 'feature_fraction': 0.5182561554714562, 'bagging_fraction': 0.556838958766296, 'bagging_freq': 7, 'min_child_samples': 21, 'max_depth': 831}. Best is trial 314 with value: 0.8692806059609466.\u001b[0m\n",
      "\u001b[32m[I 2022-06-23 23:43:05,428]\u001b[0m Trial 318 finished with value: 0.8597354392253773 and parameters: {'lambda_l1': 0.00024429579205509795, 'lambda_l2': 0.0055887720531502625, 'num_leaves': 91, 'feature_fraction': 0.435425666620451, 'bagging_fraction': 0.5486325580954482, 'bagging_freq': 7, 'min_child_samples': 27, 'max_depth': 816}. Best is trial 314 with value: 0.8692806059609466.\u001b[0m\n",
      "\u001b[32m[I 2022-06-23 23:43:08,182]\u001b[0m Trial 319 finished with value: 0.8652740428646 and parameters: {'lambda_l1': 0.000138090967684403, 'lambda_l2': 0.002969527874413717, 'num_leaves': 91, 'feature_fraction': 0.7127501313898463, 'bagging_fraction': 0.5611934641972443, 'bagging_freq': 7, 'min_child_samples': 22, 'max_depth': 840}. Best is trial 314 with value: 0.8692806059609466.\u001b[0m\n",
      "\u001b[32m[I 2022-06-23 23:43:11,169]\u001b[0m Trial 320 finished with value: 0.8584538938658521 and parameters: {'lambda_l1': 0.00018417469981946125, 'lambda_l2': 0.0031117935850468294, 'num_leaves': 89, 'feature_fraction': 0.5435260020018446, 'bagging_fraction': 0.5810402580369621, 'bagging_freq': 7, 'min_child_samples': 19, 'max_depth': 840}. Best is trial 314 with value: 0.8692806059609466.\u001b[0m\n",
      "\u001b[32m[I 2022-06-23 23:43:13,338]\u001b[0m Trial 321 finished with value: 0.8608644561278075 and parameters: {'lambda_l1': 0.00011788144584932224, 'lambda_l2': 0.00233254533752374, 'num_leaves': 87, 'feature_fraction': 0.4270324143661369, 'bagging_fraction': 0.5649425107819457, 'bagging_freq': 7, 'min_child_samples': 25, 'max_depth': 808}. Best is trial 314 with value: 0.8692806059609466.\u001b[0m\n",
      "\u001b[32m[I 2022-06-23 23:43:15,909]\u001b[0m Trial 322 finished with value: 0.8534581689165667 and parameters: {'lambda_l1': 8.454757091351192e-05, 'lambda_l2': 0.004268607671264832, 'num_leaves': 93, 'feature_fraction': 0.7091278438412023, 'bagging_fraction': 0.5586120941515024, 'bagging_freq': 7, 'min_child_samples': 21, 'max_depth': 834}. Best is trial 314 with value: 0.8692806059609466.\u001b[0m\n",
      "\u001b[32m[I 2022-06-23 23:43:19,102]\u001b[0m Trial 323 finished with value: 0.859736337106306 and parameters: {'lambda_l1': 0.00029869374878846493, 'lambda_l2': 0.006256813532045083, 'num_leaves': 119, 'feature_fraction': 0.8110132271615144, 'bagging_fraction': 0.5821572466934157, 'bagging_freq': 7, 'min_child_samples': 17, 'max_depth': 844}. Best is trial 314 with value: 0.8692806059609466.\u001b[0m\n",
      "\u001b[32m[I 2022-06-23 23:43:21,035]\u001b[0m Trial 324 finished with value: 0.8611844483346032 and parameters: {'lambda_l1': 0.00015431171674799797, 'lambda_l2': 1.384258031683806e-07, 'num_leaves': 53, 'feature_fraction': 0.6220126233334162, 'bagging_fraction': 0.5661062915569961, 'bagging_freq': 7, 'min_child_samples': 22, 'max_depth': 863}. Best is trial 314 with value: 0.8692806059609466.\u001b[0m\n"
     ]
    },
    {
     "name": "stderr",
     "output_type": "stream",
     "text": [
      "\u001b[32m[I 2022-06-23 23:43:23,234]\u001b[0m Trial 325 finished with value: 0.8578223068211457 and parameters: {'lambda_l1': 0.00025096486808194596, 'lambda_l2': 0.001570835679880564, 'num_leaves': 85, 'feature_fraction': 0.7794277181682177, 'bagging_fraction': 0.5488731257982931, 'bagging_freq': 7, 'min_child_samples': 26, 'max_depth': 806}. Best is trial 314 with value: 0.8692806059609466.\u001b[0m\n",
      "\u001b[32m[I 2022-06-23 23:43:25,317]\u001b[0m Trial 326 finished with value: 0.8588471341180319 and parameters: {'lambda_l1': 0.0003103410687211104, 'lambda_l2': 7.505080496073651e-08, 'num_leaves': 136, 'feature_fraction': 0.4210518289704224, 'bagging_fraction': 0.5743215995516393, 'bagging_freq': 7, 'min_child_samples': 29, 'max_depth': 859}. Best is trial 314 with value: 0.8692806059609466.\u001b[0m\n",
      "\u001b[32m[I 2022-06-23 23:43:27,605]\u001b[0m Trial 327 finished with value: 0.8621488113924258 and parameters: {'lambda_l1': 0.0004551025855082303, 'lambda_l2': 0.003075894258533625, 'num_leaves': 110, 'feature_fraction': 0.9205295784603666, 'bagging_fraction': 0.557110679547458, 'bagging_freq': 7, 'min_child_samples': 23, 'max_depth': 826}. Best is trial 314 with value: 0.8692806059609466.\u001b[0m\n",
      "\u001b[32m[I 2022-06-23 23:43:30,229]\u001b[0m Trial 328 finished with value: 0.8560264819030299 and parameters: {'lambda_l1': 0.003857233525383612, 'lambda_l2': 1.9461501218194754e-07, 'num_leaves': 91, 'feature_fraction': 0.8725303555815543, 'bagging_fraction': 0.5918276059020843, 'bagging_freq': 7, 'min_child_samples': 20, 'max_depth': 925}. Best is trial 314 with value: 0.8692806059609466.\u001b[0m\n",
      "\u001b[32m[I 2022-06-23 23:43:32,440]\u001b[0m Trial 329 finished with value: 0.8632006424518033 and parameters: {'lambda_l1': 6.070849258567742e-05, 'lambda_l2': 0.0050226795284427665, 'num_leaves': 58, 'feature_fraction': 0.5710780664986567, 'bagging_fraction': 0.5415962157226684, 'bagging_freq': 7, 'min_child_samples': 24, 'max_depth': 896}. Best is trial 314 with value: 0.8692806059609466.\u001b[0m\n",
      "\u001b[32m[I 2022-06-23 23:43:35,009]\u001b[0m Trial 330 finished with value: 0.8627447285471667 and parameters: {'lambda_l1': 0.00015383788021270495, 'lambda_l2': 0.008011238104823548, 'num_leaves': 251, 'feature_fraction': 0.6411682071481066, 'bagging_fraction': 0.4700161745621094, 'bagging_freq': 3, 'min_child_samples': 19, 'max_depth': 844}. Best is trial 314 with value: 0.8692806059609466.\u001b[0m\n",
      "\u001b[32m[I 2022-06-23 23:43:36,959]\u001b[0m Trial 331 finished with value: 0.8639718190735991 and parameters: {'lambda_l1': 0.0017780925987357992, 'lambda_l2': 0.0042903486910157015, 'num_leaves': 128, 'feature_fraction': 0.4363226218370653, 'bagging_fraction': 0.5662583839918004, 'bagging_freq': 7, 'min_child_samples': 26, 'max_depth': 818}. Best is trial 314 with value: 0.8692806059609466.\u001b[0m\n",
      "\u001b[32m[I 2022-06-23 23:43:38,905]\u001b[0m Trial 332 finished with value: 0.8573749902488292 and parameters: {'lambda_l1': 0.00035904067809134396, 'lambda_l2': 2.5315240083335663e-07, 'num_leaves': 47, 'feature_fraction': 0.4115264106618187, 'bagging_fraction': 0.5513519892038524, 'bagging_freq': 7, 'min_child_samples': 15, 'max_depth': 878}. Best is trial 314 with value: 0.8692806059609466.\u001b[0m\n",
      "\u001b[32m[I 2022-06-23 23:43:41,028]\u001b[0m Trial 333 finished with value: 0.8627261513641158 and parameters: {'lambda_l1': 8.628395949484789e-05, 'lambda_l2': 0.00064768583994852, 'num_leaves': 85, 'feature_fraction': 0.7443199934631702, 'bagging_fraction': 0.53993414939744, 'bagging_freq': 7, 'min_child_samples': 23, 'max_depth': 941}. Best is trial 314 with value: 0.8692806059609466.\u001b[0m\n",
      "\u001b[32m[I 2022-06-23 23:43:43,259]\u001b[0m Trial 334 finished with value: 0.8593922422821416 and parameters: {'lambda_l1': 0.0035112363431109082, 'lambda_l2': 8.896866111756033e-08, 'num_leaves': 96, 'feature_fraction': 0.5300777082232033, 'bagging_fraction': 0.5818871789473199, 'bagging_freq': 7, 'min_child_samples': 21, 'max_depth': 912}. Best is trial 314 with value: 0.8692806059609466.\u001b[0m\n",
      "\u001b[32m[I 2022-06-23 23:43:45,019]\u001b[0m Trial 335 finished with value: 0.8615288006841797 and parameters: {'lambda_l1': 0.0004729636033283311, 'lambda_l2': 0.007151833130357838, 'num_leaves': 79, 'feature_fraction': 0.5522270298775525, 'bagging_fraction': 0.558588811413398, 'bagging_freq': 7, 'min_child_samples': 27, 'max_depth': 784}. Best is trial 314 with value: 0.8692806059609466.\u001b[0m\n",
      "\u001b[32m[I 2022-06-23 23:43:46,931]\u001b[0m Trial 336 finished with value: 0.8605259871277673 and parameters: {'lambda_l1': 0.008019328863275832, 'lambda_l2': 0.013646760345053091, 'num_leaves': 102, 'feature_fraction': 0.4309624793918093, 'bagging_fraction': 0.5721905043130671, 'bagging_freq': 7, 'min_child_samples': 25, 'max_depth': 862}. Best is trial 314 with value: 0.8692806059609466.\u001b[0m\n",
      "\u001b[32m[I 2022-06-23 23:43:49,289]\u001b[0m Trial 337 finished with value: 0.8620491681950659 and parameters: {'lambda_l1': 0.0002067885394773031, 'lambda_l2': 0.00300611944758587, 'num_leaves': 90, 'feature_fraction': 0.8406908743976611, 'bagging_fraction': 0.5463345673390576, 'bagging_freq': 7, 'min_child_samples': 22, 'max_depth': 888}. Best is trial 314 with value: 0.8692806059609466.\u001b[0m\n",
      "\u001b[32m[I 2022-06-23 23:43:49,813]\u001b[0m Trial 338 finished with value: 0.5 and parameters: {'lambda_l1': 0.013160880385751066, 'lambda_l2': 1.3194586740966476e-07, 'num_leaves': 85, 'feature_fraction': 0.4135097662243129, 'bagging_fraction': 0.5596469167456055, 'bagging_freq': 7, 'min_child_samples': 81, 'max_depth': 850}. Best is trial 314 with value: 0.8692806059609466.\u001b[0m\n",
      "\u001b[32m[I 2022-06-23 23:43:52,081]\u001b[0m Trial 339 finished with value: 0.8552405521679901 and parameters: {'lambda_l1': 3.796866401881987e-07, 'lambda_l2': 0.001944418329078357, 'num_leaves': 62, 'feature_fraction': 0.5118764166666859, 'bagging_fraction': 0.7312018152974128, 'bagging_freq': 7, 'min_child_samples': 18, 'max_depth': 827}. Best is trial 314 with value: 0.8692806059609466.\u001b[0m\n",
      "\u001b[32m[I 2022-06-23 23:43:53,809]\u001b[0m Trial 340 finished with value: 0.862783853981416 and parameters: {'lambda_l1': 7.770457288388611e-07, 'lambda_l2': 0.006761356776326321, 'num_leaves': 67, 'feature_fraction': 0.4442848629981967, 'bagging_fraction': 0.5390533721809371, 'bagging_freq': 7, 'min_child_samples': 29, 'max_depth': 896}. Best is trial 314 with value: 0.8692806059609466.\u001b[0m\n",
      "\u001b[32m[I 2022-06-23 23:43:56,019]\u001b[0m Trial 341 finished with value: 0.8603420705326664 and parameters: {'lambda_l1': 0.0013433773643507846, 'lambda_l2': 2.3302598109159856e-07, 'num_leaves': 39, 'feature_fraction': 0.563828690669365, 'bagging_fraction': 0.5959946088215968, 'bagging_freq': 7, 'min_child_samples': 20, 'max_depth': 795}. Best is trial 314 with value: 0.8692806059609466.\u001b[0m\n",
      "\u001b[32m[I 2022-06-23 23:43:56,536]\u001b[0m Trial 342 finished with value: 0.5 and parameters: {'lambda_l1': 0.0027801400375395426, 'lambda_l2': 0.011388122359853255, 'num_leaves': 50, 'feature_fraction': 0.4252010537894724, 'bagging_fraction': 0.575279186140303, 'bagging_freq': 7, 'min_child_samples': 89, 'max_depth': 596}. Best is trial 314 with value: 0.8692806059609466.\u001b[0m\n",
      "\u001b[32m[I 2022-06-23 23:43:58,317]\u001b[0m Trial 343 finished with value: 0.8659657957711363 and parameters: {'lambda_l1': 0.0022176095693257963, 'lambda_l2': 0.00579021030318334, 'num_leaves': 195, 'feature_fraction': 0.5414284366502621, 'bagging_fraction': 0.5508834040759858, 'bagging_freq': 7, 'min_child_samples': 24, 'max_depth': 539}. Best is trial 314 with value: 0.8692806059609466.\u001b[0m\n",
      "\u001b[32m[I 2022-06-23 23:43:59,218]\u001b[0m Trial 344 finished with value: 0.836004365904134 and parameters: {'lambda_l1': 0.005414316477764728, 'lambda_l2': 7.482501262457834e-08, 'num_leaves': 116, 'feature_fraction': 0.5514866376061642, 'bagging_fraction': 0.5331308952474012, 'bagging_freq': 7, 'min_child_samples': 32, 'max_depth': 537}. Best is trial 314 with value: 0.8692806059609466.\u001b[0m\n",
      "\u001b[32m[I 2022-06-23 23:44:01,334]\u001b[0m Trial 345 finished with value: 0.8611604488562692 and parameters: {'lambda_l1': 0.0017001541514773024, 'lambda_l2': 0.000396869818239, 'num_leaves': 97, 'feature_fraction': 0.5407044707660552, 'bagging_fraction': 0.5159073453434914, 'bagging_freq': 7, 'min_child_samples': 25, 'max_depth': 956}. Best is trial 314 with value: 0.8692806059609466.\u001b[0m\n",
      "\u001b[32m[I 2022-06-23 23:44:03,391]\u001b[0m Trial 346 finished with value: 0.8573002540115542 and parameters: {'lambda_l1': 0.0011705534563083006, 'lambda_l2': 0.0036500262648231016, 'num_leaves': 208, 'feature_fraction': 0.5228961586349594, 'bagging_fraction': 0.5479907755652124, 'bagging_freq': 7, 'min_child_samples': 27, 'max_depth': 809}. Best is trial 314 with value: 0.8692806059609466.\u001b[0m\n"
     ]
    },
    {
     "name": "stderr",
     "output_type": "stream",
     "text": [
      "\u001b[32m[I 2022-06-23 23:44:04,883]\u001b[0m Trial 347 finished with value: 0.8481726023374629 and parameters: {'lambda_l1': 0.630887588496574, 'lambda_l2': 6.003688132312409e-08, 'num_leaves': 195, 'feature_fraction': 0.5353282323522818, 'bagging_fraction': 0.556684312534875, 'bagging_freq': 7, 'min_child_samples': 24, 'max_depth': 522}. Best is trial 314 with value: 0.8692806059609466.\u001b[0m\n",
      "\u001b[32m[I 2022-06-23 23:44:06,769]\u001b[0m Trial 348 finished with value: 0.8666485605253019 and parameters: {'lambda_l1': 5.218685746662984e-07, 'lambda_l2': 0.014915915120576504, 'num_leaves': 149, 'feature_fraction': 0.5761036132554095, 'bagging_fraction': 0.5220605779995002, 'bagging_freq': 7, 'min_child_samples': 28, 'max_depth': 838}. Best is trial 314 with value: 0.8692806059609466.\u001b[0m\n",
      "\u001b[32m[I 2022-06-23 23:44:08,157]\u001b[0m Trial 349 finished with value: 0.8496795661983357 and parameters: {'lambda_l1': 4.2357057267967383e-07, 'lambda_l2': 0.00017216070444441708, 'num_leaves': 190, 'feature_fraction': 0.5776818728179284, 'bagging_fraction': 0.5179863620865646, 'bagging_freq': 7, 'min_child_samples': 30, 'max_depth': 529}. Best is trial 314 with value: 0.8692806059609466.\u001b[0m\n",
      "\u001b[32m[I 2022-06-23 23:44:10,536]\u001b[0m Trial 350 finished with value: 0.857746373982055 and parameters: {'lambda_l1': 6.162141698420039e-07, 'lambda_l2': 0.015566546052650804, 'num_leaves': 172, 'feature_fraction': 0.5607765996098641, 'bagging_fraction': 0.5238789202395804, 'bagging_freq': 7, 'min_child_samples': 29, 'max_depth': 841}. Best is trial 314 with value: 0.8692806059609466.\u001b[0m\n",
      "\u001b[32m[I 2022-06-23 23:44:13,304]\u001b[0m Trial 351 finished with value: 0.8645862030771085 and parameters: {'lambda_l1': 2.7984621187796053e-07, 'lambda_l2': 0.03946381242647301, 'num_leaves': 206, 'feature_fraction': 0.5863041712647127, 'bagging_fraction': 0.5034926948386536, 'bagging_freq': 7, 'min_child_samples': 28, 'max_depth': 863}. Best is trial 314 with value: 0.8692806059609466.\u001b[0m\n",
      "\u001b[32m[I 2022-06-23 23:44:14,624]\u001b[0m Trial 352 finished with value: 0.8608399757062684 and parameters: {'lambda_l1': 9.122413437898965e-07, 'lambda_l2': 0.0090992090858556, 'num_leaves': 130, 'feature_fraction': 0.5632977211212101, 'bagging_fraction': 0.4886659897232939, 'bagging_freq': 6, 'min_child_samples': 23, 'max_depth': 556}. Best is trial 314 with value: 0.8692806059609466.\u001b[0m\n",
      "\u001b[32m[I 2022-06-23 23:44:16,151]\u001b[0m Trial 353 finished with value: 0.8635623325118295 and parameters: {'lambda_l1': 5.533705144428995e-07, 'lambda_l2': 0.012674178517291811, 'num_leaves': 177, 'feature_fraction': 0.545774172811163, 'bagging_fraction': 0.5335098311299524, 'bagging_freq': 7, 'min_child_samples': 21, 'max_depth': 565}. Best is trial 314 with value: 0.8692806059609466.\u001b[0m\n",
      "\u001b[32m[I 2022-06-23 23:44:19,546]\u001b[0m Trial 354 finished with value: 0.8614961717633932 and parameters: {'lambda_l1': 0.003712397489086846, 'lambda_l2': 0.0048634863834290006, 'num_leaves': 182, 'feature_fraction': 0.5921697577849079, 'bagging_fraction': 0.5404514042392569, 'bagging_freq': 7, 'min_child_samples': 26, 'max_depth': 923}. Best is trial 314 with value: 0.8692806059609466.\u001b[0m\n",
      "\u001b[32m[I 2022-06-23 23:44:24,708]\u001b[0m Trial 355 finished with value: 0.8445751277016756 and parameters: {'lambda_l1': 2.4454371058615316e-07, 'lambda_l2': 0.021458996747931787, 'num_leaves': 162, 'feature_fraction': 0.5669858420784131, 'bagging_fraction': 0.5241269250244235, 'bagging_freq': 7, 'min_child_samples': 5, 'max_depth': 834}. Best is trial 314 with value: 0.8692806059609466.\u001b[0m\n",
      "\u001b[32m[I 2022-06-23 23:44:26,312]\u001b[0m Trial 356 finished with value: 0.8590398650626977 and parameters: {'lambda_l1': 0.00200076396684178, 'lambda_l2': 0.00833629319003454, 'num_leaves': 158, 'feature_fraction': 0.6110776111447773, 'bagging_fraction': 0.5035140778882479, 'bagging_freq': 7, 'min_child_samples': 17, 'max_depth': 516}. Best is trial 314 with value: 0.8692806059609466.\u001b[0m\n",
      "\u001b[32m[I 2022-06-23 23:44:27,865]\u001b[0m Trial 357 finished with value: 0.8550106015845179 and parameters: {'lambda_l1': 0.002643407243047299, 'lambda_l2': 0.0012876293663366535, 'num_leaves': 230, 'feature_fraction': 0.5320421830380965, 'bagging_fraction': 0.5420638473599082, 'bagging_freq': 7, 'min_child_samples': 31, 'max_depth': 853}. Best is trial 314 with value: 0.8692806059609466.\u001b[0m\n",
      "\u001b[32m[I 2022-06-23 23:44:29,063]\u001b[0m Trial 358 finished with value: 0.856612774523378 and parameters: {'lambda_l1': 0.0013154818779645935, 'lambda_l2': 0.018294512273822124, 'num_leaves': 92, 'feature_fraction': 0.5500713315299279, 'bagging_fraction': 0.5516396789226624, 'bagging_freq': 7, 'min_child_samples': 23, 'max_depth': 477}. Best is trial 314 with value: 0.8692806059609466.\u001b[0m\n",
      "\u001b[32m[I 2022-06-23 23:44:30,512]\u001b[0m Trial 359 finished with value: 0.8628281343914083 and parameters: {'lambda_l1': 9.251213832993653e-07, 'lambda_l2': 0.002370470850858629, 'num_leaves': 108, 'feature_fraction': 0.41156409170858965, 'bagging_fraction': 0.5119703217547519, 'bagging_freq': 7, 'min_child_samples': 19, 'max_depth': 582}. Best is trial 314 with value: 0.8692806059609466.\u001b[0m\n",
      "\u001b[32m[I 2022-06-23 23:44:32,689]\u001b[0m Trial 360 finished with value: 0.865484124170463 and parameters: {'lambda_l1': 0.0006073550854182683, 'lambda_l2': 0.005511799385587832, 'num_leaves': 81, 'feature_fraction': 0.41026365415193017, 'bagging_fraction': 0.5309536488160305, 'bagging_freq': 7, 'min_child_samples': 25, 'max_depth': 911}. Best is trial 314 with value: 0.8692806059609466.\u001b[0m\n",
      "\u001b[32m[I 2022-06-23 23:44:35,246]\u001b[0m Trial 361 finished with value: 0.8617807107538146 and parameters: {'lambda_l1': 0.0005702867714905637, 'lambda_l2': 0.029052757189906554, 'num_leaves': 81, 'feature_fraction': 0.40991264751171536, 'bagging_fraction': 0.5281000807296645, 'bagging_freq': 7, 'min_child_samples': 28, 'max_depth': 937}. Best is trial 314 with value: 0.8692806059609466.\u001b[0m\n",
      "\u001b[32m[I 2022-06-23 23:44:36,290]\u001b[0m Trial 362 finished with value: 0.5 and parameters: {'lambda_l1': 0.0007054406561244877, 'lambda_l2': 0.010636147912682832, 'num_leaves': 238, 'feature_fraction': 0.4252081199524685, 'bagging_fraction': 0.5179226570503035, 'bagging_freq': 7, 'min_child_samples': 45, 'max_depth': 906}. Best is trial 314 with value: 0.8692806059609466.\u001b[0m\n",
      "\u001b[32m[I 2022-06-23 23:44:38,230]\u001b[0m Trial 363 finished with value: 0.8653554058815283 and parameters: {'lambda_l1': 0.005403909087259101, 'lambda_l2': 0.006407459419401731, 'num_leaves': 220, 'feature_fraction': 0.41051766938619527, 'bagging_fraction': 0.5345622069921878, 'bagging_freq': 7, 'min_child_samples': 25, 'max_depth': 614}. Best is trial 314 with value: 0.8692806059609466.\u001b[0m\n",
      "\u001b[32m[I 2022-06-23 23:44:40,776]\u001b[0m Trial 364 finished with value: 0.8611004633051847 and parameters: {'lambda_l1': 0.005830444774208645, 'lambda_l2': 0.00677502787955101, 'num_leaves': 241, 'feature_fraction': 0.5742913370150778, 'bagging_fraction': 0.5301268653448771, 'bagging_freq': 7, 'min_child_samples': 27, 'max_depth': 876}. Best is trial 314 with value: 0.8692806059609466.\u001b[0m\n",
      "\u001b[32m[I 2022-06-23 23:44:42,305]\u001b[0m Trial 365 finished with value: 0.7346357560353303 and parameters: {'lambda_l1': 5.637931938141691, 'lambda_l2': 0.005441624688926324, 'num_leaves': 219, 'feature_fraction': 0.42286324781992607, 'bagging_fraction': 0.5124515899202815, 'bagging_freq': 2, 'min_child_samples': 25, 'max_depth': 619}. Best is trial 314 with value: 0.8692806059609466.\u001b[0m\n",
      "\u001b[32m[I 2022-06-23 23:44:44,244]\u001b[0m Trial 366 finished with value: 0.8569463702577091 and parameters: {'lambda_l1': 0.007994430562627504, 'lambda_l2': 0.004186428243303931, 'num_leaves': 221, 'feature_fraction': 0.4160385325447924, 'bagging_fraction': 0.537283896051491, 'bagging_freq': 7, 'min_child_samples': 26, 'max_depth': 647}. Best is trial 314 with value: 0.8692806059609466.\u001b[0m\n",
      "\u001b[32m[I 2022-06-23 23:44:45,384]\u001b[0m Trial 367 finished with value: 0.8442486138732269 and parameters: {'lambda_l1': 0.004076981450573914, 'lambda_l2': 1.0781143320597601e-07, 'num_leaves': 126, 'feature_fraction': 0.40940300634231047, 'bagging_fraction': 0.4941423370021075, 'bagging_freq': 7, 'min_child_samples': 30, 'max_depth': 632}. Best is trial 314 with value: 0.8692806059609466.\u001b[0m\n",
      "\u001b[32m[I 2022-06-23 23:44:46,202]\u001b[0m Trial 368 finished with value: 0.5 and parameters: {'lambda_l1': 3.4055088938867564e-07, 'lambda_l2': 0.008291999930314315, 'num_leaves': 167, 'feature_fraction': 0.40048314672184065, 'bagging_fraction': 0.5219486269536109, 'bagging_freq': 7, 'min_child_samples': 37, 'max_depth': 643}. Best is trial 314 with value: 0.8692806059609466.\u001b[0m\n"
     ]
    },
    {
     "name": "stderr",
     "output_type": "stream",
     "text": [
      "\u001b[32m[I 2022-06-23 23:44:48,463]\u001b[0m Trial 369 finished with value: 0.8638034359860985 and parameters: {'lambda_l1': 5.441755742344828e-07, 'lambda_l2': 0.1826744513897969, 'num_leaves': 209, 'feature_fraction': 0.42453658394820515, 'bagging_fraction': 0.5349531027865656, 'bagging_freq': 7, 'min_child_samples': 28, 'max_depth': 924}. Best is trial 314 with value: 0.8692806059609466.\u001b[0m\n",
      "\u001b[32m[I 2022-06-23 23:44:49,812]\u001b[0m Trial 370 finished with value: 0.8594715465562989 and parameters: {'lambda_l1': 0.013642825056322413, 'lambda_l2': 0.00623738419612872, 'num_leaves': 147, 'feature_fraction': 0.5114270979783081, 'bagging_fraction': 0.5451786034181727, 'bagging_freq': 7, 'min_child_samples': 25, 'max_depth': 549}. Best is trial 314 with value: 0.8692806059609466.\u001b[0m\n",
      "\u001b[32m[I 2022-06-23 23:44:51,642]\u001b[0m Trial 371 finished with value: 0.8580650440890377 and parameters: {'lambda_l1': 0.0009473148386408692, 'lambda_l2': 4.978059548390485e-08, 'num_leaves': 253, 'feature_fraction': 0.5444208769024191, 'bagging_fraction': 0.43751611694468534, 'bagging_freq': 7, 'min_child_samples': 25, 'max_depth': 982}. Best is trial 314 with value: 0.8692806059609466.\u001b[0m\n",
      "\u001b[32m[I 2022-06-23 23:44:53,138]\u001b[0m Trial 372 finished with value: 0.8598011985434585 and parameters: {'lambda_l1': 0.008189340778911975, 'lambda_l2': 0.010108065518262146, 'num_leaves': 151, 'feature_fraction': 0.5264103504060595, 'bagging_fraction': 0.5067427454073594, 'bagging_freq': 7, 'min_child_samples': 24, 'max_depth': 661}. Best is trial 314 with value: 0.8692806059609466.\u001b[0m\n",
      "\u001b[32m[I 2022-06-23 23:44:55,063]\u001b[0m Trial 373 finished with value: 0.867305305633479 and parameters: {'lambda_l1': 0.004513542849016589, 'lambda_l2': 1.6454014594043076e-07, 'num_leaves': 202, 'feature_fraction': 0.4366288474513439, 'bagging_fraction': 0.527205036544676, 'bagging_freq': 7, 'min_child_samples': 27, 'max_depth': 954}. Best is trial 314 with value: 0.8692806059609466.\u001b[0m\n",
      "\u001b[32m[I 2022-06-23 23:44:55,988]\u001b[0m Trial 374 finished with value: 0.7860393832174019 and parameters: {'lambda_l1': 0.0016221545941393178, 'lambda_l2': 1.889414829850336e-07, 'num_leaves': 202, 'feature_fraction': 0.44173262789424017, 'bagging_fraction': 0.5173315812450235, 'bagging_freq': 7, 'min_child_samples': 33, 'max_depth': 973}. Best is trial 314 with value: 0.8692806059609466.\u001b[0m\n",
      "\u001b[32m[I 2022-06-23 23:44:57,103]\u001b[0m Trial 375 finished with value: 0.8530666690765375 and parameters: {'lambda_l1': 6.402394990070738e-06, 'lambda_l2': 2.2463836591902826e-07, 'num_leaves': 120, 'feature_fraction': 0.4374339592412693, 'bagging_fraction': 0.478341827970402, 'bagging_freq': 7, 'min_child_samples': 29, 'max_depth': 962}. Best is trial 314 with value: 0.8692806059609466.\u001b[0m\n",
      "\u001b[32m[I 2022-06-23 23:44:57,765]\u001b[0m Trial 376 finished with value: 0.6998793203055975 and parameters: {'lambda_l1': 0.003222794659142523, 'lambda_l2': 1.1559196938828877e-07, 'num_leaves': 190, 'feature_fraction': 0.5537704917674182, 'bagging_fraction': 0.5483249434261076, 'bagging_freq': 7, 'min_child_samples': 35, 'max_depth': 490}. Best is trial 314 with value: 0.8692806059609466.\u001b[0m\n",
      "\u001b[32m[I 2022-06-23 23:45:00,662]\u001b[0m Trial 377 finished with value: 0.8660244663746987 and parameters: {'lambda_l1': 3.478690553080012e-06, 'lambda_l2': 1.4603699040432058e-07, 'num_leaves': 136, 'feature_fraction': 0.4498012634907514, 'bagging_fraction': 0.5271809908333028, 'bagging_freq': 7, 'min_child_samples': 27, 'max_depth': 950}. Best is trial 314 with value: 0.8692806059609466.\u001b[0m\n",
      "\u001b[32m[I 2022-06-23 23:45:03,078]\u001b[0m Trial 378 finished with value: 0.8655508460407841 and parameters: {'lambda_l1': 3.4565681869677776e-06, 'lambda_l2': 9.631952475409015e-08, 'num_leaves': 146, 'feature_fraction': 0.4580831234094987, 'bagging_fraction': 0.5245163675609521, 'bagging_freq': 7, 'min_child_samples': 28, 'max_depth': 958}. Best is trial 314 with value: 0.8692806059609466.\u001b[0m\n",
      "\u001b[32m[I 2022-06-23 23:45:04,558]\u001b[0m Trial 379 finished with value: 0.849591254677555 and parameters: {'lambda_l1': 2.732378629586538e-06, 'lambda_l2': 7.999932635361241e-08, 'num_leaves': 198, 'feature_fraction': 0.4631123220329743, 'bagging_fraction': 0.501156244438865, 'bagging_freq': 6, 'min_child_samples': 31, 'max_depth': 990}. Best is trial 314 with value: 0.8692806059609466.\u001b[0m\n",
      "\u001b[32m[I 2022-06-23 23:45:05,666]\u001b[0m Trial 380 finished with value: 0.8198008807712757 and parameters: {'lambda_l1': 4.087659965461439e-06, 'lambda_l2': 1.245662035208485e-07, 'num_leaves': 145, 'feature_fraction': 0.45443483379314115, 'bagging_fraction': 0.5250994679070957, 'bagging_freq': 7, 'min_child_samples': 33, 'max_depth': 942}. Best is trial 314 with value: 0.8692806059609466.\u001b[0m\n",
      "\u001b[32m[I 2022-06-23 23:45:06,552]\u001b[0m Trial 381 finished with value: 0.5 and parameters: {'lambda_l1': 4.46979154113549e-06, 'lambda_l2': 4.683199543901361e-08, 'num_leaves': 134, 'feature_fraction': 0.4503159714704871, 'bagging_fraction': 0.5123307053257117, 'bagging_freq': 7, 'min_child_samples': 51, 'max_depth': 967}. Best is trial 314 with value: 0.8692806059609466.\u001b[0m\n",
      "\u001b[32m[I 2022-06-23 23:45:08,589]\u001b[0m Trial 382 finished with value: 0.8634686057836213 and parameters: {'lambda_l1': 3.2020548358523497e-06, 'lambda_l2': 1.435362529136502e-07, 'num_leaves': 86, 'feature_fraction': 0.45235682549922773, 'bagging_fraction': 0.5244967146213857, 'bagging_freq': 7, 'min_child_samples': 28, 'max_depth': 932}. Best is trial 314 with value: 0.8692806059609466.\u001b[0m\n",
      "\u001b[32m[I 2022-06-23 23:45:10,462]\u001b[0m Trial 383 finished with value: 0.8534319367637866 and parameters: {'lambda_l1': 7.226036484971221e-06, 'lambda_l2': 6.70796244582907e-08, 'num_leaves': 203, 'feature_fraction': 0.465113994826664, 'bagging_fraction': 0.531621009138099, 'bagging_freq': 7, 'min_child_samples': 31, 'max_depth': 951}. Best is trial 314 with value: 0.8692806059609466.\u001b[0m\n",
      "\u001b[32m[I 2022-06-23 23:45:12,119]\u001b[0m Trial 384 finished with value: 0.8592160551222083 and parameters: {'lambda_l1': 2.6902081130298712e-06, 'lambda_l2': 1.0242323588044879e-07, 'num_leaves': 154, 'feature_fraction': 0.42982654453438895, 'bagging_fraction': 0.4866013596830123, 'bagging_freq': 7, 'min_child_samples': 29, 'max_depth': 964}. Best is trial 314 with value: 0.8692806059609466.\u001b[0m\n",
      "\u001b[32m[I 2022-06-23 23:45:14,407]\u001b[0m Trial 385 finished with value: 0.8653701624742645 and parameters: {'lambda_l1': 1.929951587784977e-06, 'lambda_l2': 1.6347202532089873e-07, 'num_leaves': 140, 'feature_fraction': 0.4980502335856607, 'bagging_fraction': 0.5055844454757142, 'bagging_freq': 7, 'min_child_samples': 27, 'max_depth': 958}. Best is trial 314 with value: 0.8692806059609466.\u001b[0m\n",
      "\u001b[32m[I 2022-06-23 23:45:16,654]\u001b[0m Trial 386 finished with value: 0.8701349327057532 and parameters: {'lambda_l1': 1.7041729834121394e-06, 'lambda_l2': 2.4052254871273986e-07, 'num_leaves': 103, 'feature_fraction': 0.4695184070092103, 'bagging_fraction': 0.5227683914677907, 'bagging_freq': 7, 'min_child_samples': 27, 'max_depth': 954}. Best is trial 386 with value: 0.8701349327057532.\u001b[0m\n",
      "\u001b[32m[I 2022-06-23 23:45:18,397]\u001b[0m Trial 387 finished with value: 0.8533300693974069 and parameters: {'lambda_l1': 1.84120133562745e-06, 'lambda_l2': 2.7161457772622134e-07, 'num_leaves': 134, 'feature_fraction': 0.4446956114312421, 'bagging_fraction': 0.5160609301672914, 'bagging_freq': 7, 'min_child_samples': 30, 'max_depth': 920}. Best is trial 386 with value: 0.8701349327057532.\u001b[0m\n",
      "\u001b[32m[I 2022-06-23 23:45:20,188]\u001b[0m Trial 388 finished with value: 0.863173905600763 and parameters: {'lambda_l1': 1.5267574067342075e-06, 'lambda_l2': 2.3405649764877757e-07, 'num_leaves': 149, 'feature_fraction': 0.4571913629025009, 'bagging_fraction': 0.49724984408782924, 'bagging_freq': 7, 'min_child_samples': 28, 'max_depth': 945}. Best is trial 386 with value: 0.8701349327057532.\u001b[0m\n",
      "\u001b[32m[I 2022-06-23 23:45:22,466]\u001b[0m Trial 389 finished with value: 0.8707509203687609 and parameters: {'lambda_l1': 1.2537265730755262e-06, 'lambda_l2': 3.451074192111965e-07, 'num_leaves': 141, 'feature_fraction': 0.4703062413129908, 'bagging_fraction': 0.5227902554474249, 'bagging_freq': 7, 'min_child_samples': 27, 'max_depth': 996}. Best is trial 389 with value: 0.8707509203687609.\u001b[0m\n"
     ]
    },
    {
     "name": "stderr",
     "output_type": "stream",
     "text": [
      "\u001b[32m[I 2022-06-23 23:45:23,762]\u001b[0m Trial 390 finished with value: 0.8326813908915303 and parameters: {'lambda_l1': 1.406645375598954e-06, 'lambda_l2': 3.3818791600288737e-07, 'num_leaves': 143, 'feature_fraction': 0.47387325973299066, 'bagging_fraction': 0.5115302451331699, 'bagging_freq': 7, 'min_child_samples': 32, 'max_depth': 993}. Best is trial 389 with value: 0.8707509203687609.\u001b[0m\n",
      "\u001b[32m[I 2022-06-23 23:45:26,080]\u001b[0m Trial 391 finished with value: 0.867966289451003 and parameters: {'lambda_l1': 3.6055919093473432e-06, 'lambda_l2': 3.234812940229759e-07, 'num_leaves': 148, 'feature_fraction': 0.4615413056785933, 'bagging_fraction': 0.5220472425680726, 'bagging_freq': 7, 'min_child_samples': 27, 'max_depth': 977}. Best is trial 389 with value: 0.8707509203687609.\u001b[0m\n",
      "\u001b[32m[I 2022-06-23 23:45:28,311]\u001b[0m Trial 392 finished with value: 0.8669040362587189 and parameters: {'lambda_l1': 8.88292186759587e-07, 'lambda_l2': 3.328163649830276e-07, 'num_leaves': 144, 'feature_fraction': 0.47698257271973377, 'bagging_fraction': 0.5065474823381565, 'bagging_freq': 7, 'min_child_samples': 27, 'max_depth': 949}. Best is trial 389 with value: 0.8707509203687609.\u001b[0m\n",
      "\u001b[32m[I 2022-06-23 23:45:29,683]\u001b[0m Trial 393 finished with value: 0.8515863106406837 and parameters: {'lambda_l1': 1.0998995000093044e-06, 'lambda_l2': 3.9495807238994975e-07, 'num_leaves': 142, 'feature_fraction': 0.46481475823970503, 'bagging_fraction': 0.4891718337814325, 'bagging_freq': 7, 'min_child_samples': 30, 'max_depth': 990}. Best is trial 389 with value: 0.8707509203687609.\u001b[0m\n",
      "\u001b[32m[I 2022-06-23 23:45:31,396]\u001b[0m Trial 394 finished with value: 0.8608770877170645 and parameters: {'lambda_l1': 2.330853127084237e-06, 'lambda_l2': 3.6754353762921794e-07, 'num_leaves': 138, 'feature_fraction': 0.4705331881275159, 'bagging_fraction': 0.504063299311252, 'bagging_freq': 7, 'min_child_samples': 28, 'max_depth': 987}. Best is trial 389 with value: 0.8707509203687609.\u001b[0m\n",
      "\u001b[32m[I 2022-06-23 23:45:33,210]\u001b[0m Trial 395 finished with value: 0.8652660512861751 and parameters: {'lambda_l1': 1.0931072543936107e-06, 'lambda_l2': 5.948611312351373e-07, 'num_leaves': 139, 'feature_fraction': 0.488191874808511, 'bagging_fraction': 0.4950154929733103, 'bagging_freq': 7, 'min_child_samples': 27, 'max_depth': 991}. Best is trial 389 with value: 0.8707509203687609.\u001b[0m\n",
      "\u001b[32m[I 2022-06-23 23:45:34,823]\u001b[0m Trial 396 finished with value: 0.8598459192596191 and parameters: {'lambda_l1': 4.431633671043074e-06, 'lambda_l2': 2.3758193703307772e-07, 'num_leaves': 152, 'feature_fraction': 0.47645925867831435, 'bagging_fraction': 0.4713418169262993, 'bagging_freq': 7, 'min_child_samples': 27, 'max_depth': 971}. Best is trial 389 with value: 0.8707509203687609.\u001b[0m\n",
      "\u001b[32m[I 2022-06-23 23:45:35,962]\u001b[0m Trial 397 finished with value: 0.8546211900414684 and parameters: {'lambda_l1': 7.683887715183036e-07, 'lambda_l2': 3.2736770145067746e-07, 'num_leaves': 145, 'feature_fraction': 0.4951708017646538, 'bagging_fraction': 0.5132863885129015, 'bagging_freq': 7, 'min_child_samples': 31, 'max_depth': 987}. Best is trial 389 with value: 0.8707509203687609.\u001b[0m\n",
      "\u001b[32m[I 2022-06-23 23:45:36,739]\u001b[0m Trial 398 finished with value: 0.5 and parameters: {'lambda_l1': 1.8997347295497319e-06, 'lambda_l2': 1.9842442599078678e-07, 'num_leaves': 136, 'feature_fraction': 0.4696989906305329, 'bagging_fraction': 0.5215451145404366, 'bagging_freq': 7, 'min_child_samples': 72, 'max_depth': 966}. Best is trial 389 with value: 0.8707509203687609.\u001b[0m\n",
      "\u001b[32m[I 2022-06-23 23:45:38,765]\u001b[0m Trial 399 finished with value: 0.8635438637729658 and parameters: {'lambda_l1': 1.0014484855276033e-06, 'lambda_l2': 3.7063276146289504e-05, 'num_leaves': 157, 'feature_fraction': 0.4530522480077773, 'bagging_fraction': 0.5087149354421583, 'bagging_freq': 7, 'min_child_samples': 29, 'max_depth': 976}. Best is trial 389 with value: 0.8707509203687609.\u001b[0m\n",
      "\u001b[32m[I 2022-06-23 23:45:41,333]\u001b[0m Trial 400 finished with value: 0.8495030772246329 and parameters: {'lambda_l1': 0.1059658537962573, 'lambda_l2': 7.836843101191796e-07, 'num_leaves': 140, 'feature_fraction': 0.4788164816619992, 'bagging_fraction': 0.690863938763775, 'bagging_freq': 7, 'min_child_samples': 26, 'max_depth': 998}. Best is trial 389 with value: 0.8707509203687609.\u001b[0m\n",
      "\u001b[32m[I 2022-06-23 23:45:43,671]\u001b[0m Trial 401 finished with value: 0.8629554621934653 and parameters: {'lambda_l1': 2.6700386611434846e-06, 'lambda_l2': 3.318333554408079e-07, 'num_leaves': 149, 'feature_fraction': 0.49994073512433007, 'bagging_fraction': 0.5364705852516267, 'bagging_freq': 7, 'min_child_samples': 27, 'max_depth': 973}. Best is trial 389 with value: 0.8707509203687609.\u001b[0m\n",
      "\u001b[32m[I 2022-06-23 23:45:44,551]\u001b[0m Trial 402 finished with value: 0.5 and parameters: {'lambda_l1': 1.2978055051505125e-06, 'lambda_l2': 1.9930262917064625e-07, 'num_leaves': 132, 'feature_fraction': 0.44731958404829175, 'bagging_fraction': 0.4075991025315001, 'bagging_freq': 7, 'min_child_samples': 30, 'max_depth': 943}. Best is trial 389 with value: 0.8707509203687609.\u001b[0m\n",
      "\u001b[32m[I 2022-06-23 23:45:45,146]\u001b[0m Trial 403 finished with value: 0.5 and parameters: {'lambda_l1': 5.560139399636768e-06, 'lambda_l2': 5.219171948901524e-07, 'num_leaves': 144, 'feature_fraction': 0.4609470371121887, 'bagging_fraction': 0.5217224671281506, 'bagging_freq': 7, 'min_child_samples': 60, 'max_depth': 937}. Best is trial 389 with value: 0.8707509203687609.\u001b[0m\n",
      "\u001b[32m[I 2022-06-23 23:45:47,366]\u001b[0m Trial 404 finished with value: 0.8607233489979234 and parameters: {'lambda_l1': 1.9290644246885404e-06, 'lambda_l2': 1.544095936258071e-07, 'num_leaves': 106, 'feature_fraction': 0.48632652241974955, 'bagging_fraction': 0.5015063807903408, 'bagging_freq': 7, 'min_child_samples': 26, 'max_depth': 977}. Best is trial 389 with value: 0.8707509203687609.\u001b[0m\n",
      "\u001b[32m[I 2022-06-23 23:45:49,590]\u001b[0m Trial 405 finished with value: 0.8652273066415868 and parameters: {'lambda_l1': 7.027385381778152e-07, 'lambda_l2': 2.817862251836187e-07, 'num_leaves': 103, 'feature_fraction': 0.5061235459329808, 'bagging_fraction': 0.5379822097813411, 'bagging_freq': 7, 'min_child_samples': 26, 'max_depth': 953}. Best is trial 389 with value: 0.8707509203687609.\u001b[0m\n",
      "\u001b[32m[I 2022-06-23 23:45:50,638]\u001b[0m Trial 406 finished with value: 0.7069588981065376 and parameters: {'lambda_l1': 6.738467803987115e-07, 'lambda_l2': 1.6389384537441097e-07, 'num_leaves': 211, 'feature_fraction': 0.4363096310679292, 'bagging_fraction': 0.5187465723780335, 'bagging_freq': 7, 'min_child_samples': 34, 'max_depth': 932}. Best is trial 389 with value: 0.8707509203687609.\u001b[0m\n",
      "\u001b[32m[I 2022-06-23 23:45:52,310]\u001b[0m Trial 407 finished with value: 0.8559292597022861 and parameters: {'lambda_l1': 8.92167512980754e-06, 'lambda_l2': 5.567463145813499e-07, 'num_leaves': 196, 'feature_fraction': 0.4690186677734323, 'bagging_fraction': 0.484989020906591, 'bagging_freq': 7, 'min_child_samples': 29, 'max_depth': 999}. Best is trial 389 with value: 0.8707509203687609.\u001b[0m\n",
      "\u001b[32m[I 2022-06-23 23:45:53,659]\u001b[0m Trial 408 finished with value: 0.847632711715529 and parameters: {'lambda_l1': 3.37684139140422e-06, 'lambda_l2': 2.874724956660241e-06, 'num_leaves': 134, 'feature_fraction': 0.5844017216444495, 'bagging_fraction': 0.5305677209530247, 'bagging_freq': 7, 'min_child_samples': 32, 'max_depth': 972}. Best is trial 389 with value: 0.8707509203687609.\u001b[0m\n",
      "\u001b[32m[I 2022-06-23 23:45:56,287]\u001b[0m Trial 409 finished with value: 0.8665603013472595 and parameters: {'lambda_l1': 1.170401666607225e-06, 'lambda_l2': 8.706435825953472e-07, 'num_leaves': 162, 'feature_fraction': 0.5170531704441674, 'bagging_fraction': 0.5424385243596626, 'bagging_freq': 7, 'min_child_samples': 24, 'max_depth': 952}. Best is trial 389 with value: 0.8707509203687609.\u001b[0m\n",
      "\u001b[32m[I 2022-06-23 23:45:58,704]\u001b[0m Trial 410 finished with value: 0.8623804971043748 and parameters: {'lambda_l1': 1.2169759330295468e-06, 'lambda_l2': 6.08222990280302e-07, 'num_leaves': 162, 'feature_fraction': 0.5283876797150744, 'bagging_fraction': 0.5425695608345193, 'bagging_freq': 7, 'min_child_samples': 27, 'max_depth': 939}. Best is trial 389 with value: 0.8707509203687609.\u001b[0m\n"
     ]
    },
    {
     "name": "stderr",
     "output_type": "stream",
     "text": [
      "\u001b[32m[I 2022-06-23 23:46:01,082]\u001b[0m Trial 411 finished with value: 0.8621527785295199 and parameters: {'lambda_l1': 7.862166665867306e-07, 'lambda_l2': 9.375295112829582e-07, 'num_leaves': 149, 'feature_fraction': 0.5195885221499709, 'bagging_fraction': 0.5074669680301662, 'bagging_freq': 7, 'min_child_samples': 24, 'max_depth': 1000}. Best is trial 389 with value: 0.8707509203687609.\u001b[0m\n",
      "\u001b[32m[I 2022-06-23 23:46:03,744]\u001b[0m Trial 412 finished with value: 0.8485060990136453 and parameters: {'lambda_l1': 4.4308282282747516e-07, 'lambda_l2': 1.2717635615583436e-07, 'num_leaves': 185, 'feature_fraction': 0.5131652890535878, 'bagging_fraction': 0.8314598201254372, 'bagging_freq': 7, 'min_child_samples': 25, 'max_depth': 955}. Best is trial 389 with value: 0.8707509203687609.\u001b[0m\n",
      "\u001b[32m[I 2022-06-23 23:46:06,098]\u001b[0m Trial 413 finished with value: 0.8655736146378561 and parameters: {'lambda_l1': 1.2132822998094689e-06, 'lambda_l2': 1.972375816184608e-06, 'num_leaves': 152, 'feature_fraction': 0.539245041044746, 'bagging_fraction': 0.5429542717567083, 'bagging_freq': 7, 'min_child_samples': 28, 'max_depth': 952}. Best is trial 389 with value: 0.8707509203687609.\u001b[0m\n",
      "\u001b[32m[I 2022-06-23 23:46:08,447]\u001b[0m Trial 414 finished with value: 0.8649999075142263 and parameters: {'lambda_l1': 2.021894692275656e-06, 'lambda_l2': 4.571135296653133e-06, 'num_leaves': 141, 'feature_fraction': 0.5169695796545541, 'bagging_fraction': 0.5258534827810003, 'bagging_freq': 6, 'min_child_samples': 26, 'max_depth': 924}. Best is trial 389 with value: 0.8707509203687609.\u001b[0m\n",
      "\u001b[32m[I 2022-06-23 23:46:10,001]\u001b[0m Trial 415 finished with value: 0.8598086555472391 and parameters: {'lambda_l1': 1.0567225027353748e-06, 'lambda_l2': 1.752052285598833e-06, 'num_leaves': 145, 'feature_fraction': 0.5984041790933454, 'bagging_fraction': 0.5468114900688212, 'bagging_freq': 7, 'min_child_samples': 24, 'max_depth': 500}. Best is trial 389 with value: 0.8707509203687609.\u001b[0m\n",
      "\u001b[32m[I 2022-06-23 23:46:12,349]\u001b[0m Trial 416 finished with value: 0.8603202990250203 and parameters: {'lambda_l1': 1.6232997413655006e-06, 'lambda_l2': 7.202337841377272e-07, 'num_leaves': 155, 'feature_fraction': 0.4975794216302253, 'bagging_fraction': 0.5153582878383636, 'bagging_freq': 7, 'min_child_samples': 23, 'max_depth': 978}. Best is trial 389 with value: 0.8707509203687609.\u001b[0m\n",
      "\u001b[32m[I 2022-06-23 23:46:13,945]\u001b[0m Trial 417 finished with value: 0.8541017095864233 and parameters: {'lambda_l1': 5.271180202780553e-07, 'lambda_l2': 9.389649207190799e-07, 'num_leaves': 129, 'feature_fraction': 0.886837297804822, 'bagging_fraction': 0.5305265367926657, 'bagging_freq': 2, 'min_child_samples': 30, 'max_depth': 891}. Best is trial 389 with value: 0.8707509203687609.\u001b[0m\n",
      "\u001b[32m[I 2022-06-23 23:46:15,228]\u001b[0m Trial 418 finished with value: 0.8583900476888092 and parameters: {'lambda_l1': 8.243239804808686e-07, 'lambda_l2': 3.3176808237468846e-07, 'num_leaves': 136, 'feature_fraction': 0.5290151624473016, 'bagging_fraction': 0.5454472404669842, 'bagging_freq': 1, 'min_child_samples': 27, 'max_depth': 442}. Best is trial 389 with value: 0.8707509203687609.\u001b[0m\n",
      "\u001b[32m[I 2022-06-23 23:46:17,643]\u001b[0m Trial 419 finished with value: 0.8610599246814417 and parameters: {'lambda_l1': 1.9827376214938729e-07, 'lambda_l2': 6.48242116574255e-08, 'num_leaves': 169, 'feature_fraction': 0.43264161851118904, 'bagging_fraction': 0.4963758093189624, 'bagging_freq': 7, 'min_child_samples': 24, 'max_depth': 965}. Best is trial 389 with value: 0.8707509203687609.\u001b[0m\n",
      "\u001b[32m[I 2022-06-23 23:46:19,751]\u001b[0m Trial 420 finished with value: 0.8593388841121039 and parameters: {'lambda_l1': 3.874061772709385e-07, 'lambda_l2': 2.164145674788299e-07, 'num_leaves': 158, 'feature_fraction': 0.5357476337161362, 'bagging_fraction': 0.5191878144370282, 'bagging_freq': 7, 'min_child_samples': 29, 'max_depth': 933}. Best is trial 389 with value: 0.8707509203687609.\u001b[0m\n",
      "\u001b[32m[I 2022-06-23 23:46:21,896]\u001b[0m Trial 421 finished with value: 0.8627522567731546 and parameters: {'lambda_l1': 2.2706956818395973e-06, 'lambda_l2': 1.2701677764321076e-06, 'num_leaves': 102, 'feature_fraction': 0.44582296800992544, 'bagging_fraction': 0.5333288222661716, 'bagging_freq': 7, 'min_child_samples': 23, 'max_depth': 950}. Best is trial 389 with value: 0.8707509203687609.\u001b[0m\n",
      "\u001b[32m[I 2022-06-23 23:46:24,076]\u001b[0m Trial 422 finished with value: 0.8623680544816381 and parameters: {'lambda_l1': 1.3508254019971862e-06, 'lambda_l2': 4.5306709175323014e-07, 'num_leaves': 98, 'feature_fraction': 0.5730920741520062, 'bagging_fraction': 0.5525301632450332, 'bagging_freq': 7, 'min_child_samples': 26, 'max_depth': 905}. Best is trial 389 with value: 0.8707509203687609.\u001b[0m\n",
      "\u001b[32m[I 2022-06-23 23:46:25,466]\u001b[0m Trial 423 finished with value: 0.8455416430619603 and parameters: {'lambda_l1': 3.334433540722827e-06, 'lambda_l2': 1.064232762246146e-07, 'num_leaves': 139, 'feature_fraction': 0.5124194568964852, 'bagging_fraction': 0.5352866158619893, 'bagging_freq': 7, 'min_child_samples': 32, 'max_depth': 919}. Best is trial 389 with value: 0.8707509203687609.\u001b[0m\n",
      "\u001b[32m[I 2022-06-23 23:46:26,066]\u001b[0m Trial 424 finished with value: 0.5 and parameters: {'lambda_l1': 1.0568896639573183e-07, 'lambda_l2': 1.6210909230708349e-07, 'num_leaves': 151, 'feature_fraction': 0.4228965460087141, 'bagging_fraction': 0.5251568145849411, 'bagging_freq': 7, 'min_child_samples': 66, 'max_depth': 977}. Best is trial 389 with value: 0.8707509203687609.\u001b[0m\n",
      "\u001b[32m[I 2022-06-23 23:46:27,555]\u001b[0m Trial 425 finished with value: 0.856082197880379 and parameters: {'lambda_l1': 5.868185065606569e-07, 'lambda_l2': 3.849755590466812e-08, 'num_leaves': 146, 'feature_fraction': 0.5581281147271098, 'bagging_fraction': 0.5095516448802521, 'bagging_freq': 6, 'min_child_samples': 28, 'max_depth': 539}. Best is trial 389 with value: 0.8707509203687609.\u001b[0m\n",
      "\u001b[32m[I 2022-06-23 23:46:29,673]\u001b[0m Trial 426 finished with value: 0.8663665971756142 and parameters: {'lambda_l1': 9.001517585792366e-07, 'lambda_l2': 2.9976116244195173e-07, 'num_leaves': 96, 'feature_fraction': 0.44650893525725766, 'bagging_fraction': 0.5443599709312695, 'bagging_freq': 7, 'min_child_samples': 26, 'max_depth': 887}. Best is trial 389 with value: 0.8707509203687609.\u001b[0m\n",
      "\u001b[32m[I 2022-06-23 23:46:31,747]\u001b[0m Trial 427 finished with value: 0.8636344224875571 and parameters: {'lambda_l1': 7.668867721740772e-07, 'lambda_l2': 2.822988199743217e-07, 'num_leaves': 112, 'feature_fraction': 0.4494485906811227, 'bagging_fraction': 0.5471468693903836, 'bagging_freq': 7, 'min_child_samples': 20, 'max_depth': 899}. Best is trial 389 with value: 0.8707509203687609.\u001b[0m\n",
      "\u001b[32m[I 2022-06-23 23:46:33,880]\u001b[0m Trial 428 finished with value: 0.8584521310303045 and parameters: {'lambda_l1': 3.200747001368236e-07, 'lambda_l2': 4.37191297567738e-07, 'num_leaves': 98, 'feature_fraction': 0.4391557703162209, 'bagging_fraction': 0.5535681555514943, 'bagging_freq': 7, 'min_child_samples': 25, 'max_depth': 935}. Best is trial 389 with value: 0.8707509203687609.\u001b[0m\n",
      "\u001b[32m[I 2022-06-23 23:46:36,277]\u001b[0m Trial 429 finished with value: 0.8188788645350179 and parameters: {'lambda_l1': 1.8839504102713738, 'lambda_l2': 7.341431731224453e-07, 'num_leaves': 95, 'feature_fraction': 0.6746450747803873, 'bagging_fraction': 0.5428131370641862, 'bagging_freq': 7, 'min_child_samples': 13, 'max_depth': 960}. Best is trial 389 with value: 0.8707509203687609.\u001b[0m\n",
      "\u001b[32m[I 2022-06-23 23:46:38,409]\u001b[0m Trial 430 finished with value: 0.8517057667349849 and parameters: {'lambda_l1': 5.788857219555414e-07, 'lambda_l2': 1.4369753490124157e-05, 'num_leaves': 103, 'feature_fraction': 0.4589230150712223, 'bagging_fraction': 0.7589922892656484, 'bagging_freq': 7, 'min_child_samples': 40, 'max_depth': 923}. Best is trial 389 with value: 0.8707509203687609.\u001b[0m\n",
      "\u001b[32m[I 2022-06-23 23:46:40,563]\u001b[0m Trial 431 finished with value: 0.8638388263138649 and parameters: {'lambda_l1': 9.21058929231006e-07, 'lambda_l2': 0.0335096915223866, 'num_leaves': 94, 'feature_fraction': 0.4309204582982096, 'bagging_fraction': 0.5379975190743121, 'bagging_freq': 7, 'min_child_samples': 23, 'max_depth': 853}. Best is trial 389 with value: 0.8707509203687609.\u001b[0m\n"
     ]
    },
    {
     "name": "stderr",
     "output_type": "stream",
     "text": [
      "\u001b[32m[I 2022-06-23 23:46:42,814]\u001b[0m Trial 432 finished with value: 0.8587951116006457 and parameters: {'lambda_l1': 1.4618734850486864e-06, 'lambda_l2': 2.785306771823844e-07, 'num_leaves': 203, 'feature_fraction': 0.4398351627047236, 'bagging_fraction': 0.5587211703943287, 'bagging_freq': 7, 'min_child_samples': 30, 'max_depth': 885}. Best is trial 389 with value: 0.8707509203687609.\u001b[0m\n",
      "\u001b[32m[I 2022-06-23 23:46:45,113]\u001b[0m Trial 433 finished with value: 0.85830191340737 and parameters: {'lambda_l1': 2.51236434437743e-07, 'lambda_l2': 1.8500154137947161e-07, 'num_leaves': 124, 'feature_fraction': 0.4258237180209296, 'bagging_fraction': 0.5485874266513936, 'bagging_freq': 3, 'min_child_samples': 27, 'max_depth': 999}. Best is trial 389 with value: 0.8707509203687609.\u001b[0m\n",
      "\u001b[32m[I 2022-06-23 23:46:45,677]\u001b[0m Trial 434 finished with value: 0.5 and parameters: {'lambda_l1': 1.0636700836231468e-06, 'lambda_l2': 4.381405214615813e-07, 'num_leaves': 17, 'feature_fraction': 0.7342794959526207, 'bagging_fraction': 0.526983689221117, 'bagging_freq': 7, 'min_child_samples': 94, 'max_depth': 869}. Best is trial 389 with value: 0.8707509203687609.\u001b[0m\n",
      "\u001b[32m[I 2022-06-23 23:46:48,319]\u001b[0m Trial 435 finished with value: 0.8665870508275694 and parameters: {'lambda_l1': 8.109183984219258e-07, 'lambda_l2': 0.05845674948698943, 'num_leaves': 129, 'feature_fraction': 0.4503180342583843, 'bagging_fraction': 0.537925192390651, 'bagging_freq': 7, 'min_child_samples': 21, 'max_depth': 948}. Best is trial 389 with value: 0.8707509203687609.\u001b[0m\n",
      "\u001b[32m[I 2022-06-23 23:46:52,715]\u001b[0m Trial 436 finished with value: 0.8518148378539244 and parameters: {'lambda_l1': 3.8801086440691966e-07, 'lambda_l2': 0.0658483838905661, 'num_leaves': 133, 'feature_fraction': 0.4525705808601909, 'bagging_fraction': 0.5546016382779629, 'bagging_freq': 7, 'min_child_samples': 9, 'max_depth': 949}. Best is trial 389 with value: 0.8707509203687609.\u001b[0m\n",
      "\u001b[32m[I 2022-06-23 23:46:56,023]\u001b[0m Trial 437 finished with value: 0.8518255156006704 and parameters: {'lambda_l1': 5.503929958038392e-07, 'lambda_l2': 0.20317441007983555, 'num_leaves': 214, 'feature_fraction': 0.44708345892499557, 'bagging_fraction': 0.5386006161400635, 'bagging_freq': 7, 'min_child_samples': 17, 'max_depth': 971}. Best is trial 389 with value: 0.8707509203687609.\u001b[0m\n",
      "\u001b[32m[I 2022-06-23 23:47:00,022]\u001b[0m Trial 438 finished with value: 0.8336060196468478 and parameters: {'lambda_l1': 1.9340906241144216e-06, 'lambda_l2': 0.7185347711547269, 'num_leaves': 117, 'feature_fraction': 0.4623531009909263, 'bagging_fraction': 0.9047051699083482, 'bagging_freq': 7, 'min_child_samples': 20, 'max_depth': 938}. Best is trial 389 with value: 0.8707509203687609.\u001b[0m\n",
      "\u001b[32m[I 2022-06-23 23:47:00,914]\u001b[0m Trial 439 finished with value: 0.8468734586706722 and parameters: {'lambda_l1': 0.0003885508894695134, 'lambda_l2': 0.12952997187803694, 'num_leaves': 137, 'feature_fraction': 0.4347905587865446, 'bagging_fraction': 0.5645029721916768, 'bagging_freq': 5, 'min_child_samples': 21, 'max_depth': 170}. Best is trial 389 with value: 0.8707509203687609.\u001b[0m\n",
      "\u001b[32m[I 2022-06-23 23:47:03,212]\u001b[0m Trial 440 finished with value: 0.8532452691572274 and parameters: {'lambda_l1': 0.23313504285499423, 'lambda_l2': 0.0916364898585002, 'num_leaves': 124, 'feature_fraction': 0.4660715707419923, 'bagging_fraction': 0.5477393793897842, 'bagging_freq': 7, 'min_child_samples': 19, 'max_depth': 911}. Best is trial 389 with value: 0.8707509203687609.\u001b[0m\n",
      "\u001b[32m[I 2022-06-23 23:47:06,524]\u001b[0m Trial 441 finished with value: 0.8566634361510522 and parameters: {'lambda_l1': 1.730011648687469e-07, 'lambda_l2': 0.04166069995354605, 'num_leaves': 109, 'feature_fraction': 0.44767403520938914, 'bagging_fraction': 0.5318970257516139, 'bagging_freq': 7, 'min_child_samples': 15, 'max_depth': 964}. Best is trial 389 with value: 0.8707509203687609.\u001b[0m\n",
      "\u001b[32m[I 2022-06-23 23:47:08,959]\u001b[0m Trial 442 finished with value: 0.8645828641602635 and parameters: {'lambda_l1': 8.23782818065568e-07, 'lambda_l2': 0.04657109037451819, 'num_leaves': 142, 'feature_fraction': 0.42932089015627417, 'bagging_fraction': 0.5223685346688182, 'bagging_freq': 7, 'min_child_samples': 23, 'max_depth': 947}. Best is trial 389 with value: 0.8707509203687609.\u001b[0m\n",
      "\u001b[32m[I 2022-06-23 23:47:11,344]\u001b[0m Trial 443 finished with value: 0.8629123423875745 and parameters: {'lambda_l1': 1.4317641206837973e-06, 'lambda_l2': 0.016140429961493306, 'num_leaves': 126, 'feature_fraction': 0.42127914017638685, 'bagging_fraction': 0.5637906461254717, 'bagging_freq': 7, 'min_child_samples': 22, 'max_depth': 920}. Best is trial 389 with value: 0.8707509203687609.\u001b[0m\n",
      "\u001b[32m[I 2022-06-23 23:47:14,314]\u001b[0m Trial 444 finished with value: 0.8544487516482484 and parameters: {'lambda_l1': 4.3762122554730427e-07, 'lambda_l2': 0.34213672782206334, 'num_leaves': 131, 'feature_fraction': 0.45358311212200214, 'bagging_fraction': 0.6635990568640613, 'bagging_freq': 7, 'min_child_samples': 21, 'max_depth': 888}. Best is trial 389 with value: 0.8707509203687609.\u001b[0m\n",
      "\u001b[32m[I 2022-06-23 23:47:16,695]\u001b[0m Trial 445 finished with value: 0.867468017105014 and parameters: {'lambda_l1': 7.4506996696988e-07, 'lambda_l2': 0.02666519078759469, 'num_leaves': 100, 'feature_fraction': 0.4417057147690977, 'bagging_fraction': 0.5416354752276258, 'bagging_freq': 7, 'min_child_samples': 24, 'max_depth': 980}. Best is trial 389 with value: 0.8707509203687609.\u001b[0m\n",
      "\u001b[32m[I 2022-06-23 23:47:19,025]\u001b[0m Trial 446 finished with value: 0.8604606419552239 and parameters: {'lambda_l1': 6.453707106379877e-07, 'lambda_l2': 0.06278212516404325, 'num_leaves': 101, 'feature_fraction': 0.4693387119674272, 'bagging_fraction': 0.5391508731914186, 'bagging_freq': 7, 'min_child_samples': 25, 'max_depth': 981}. Best is trial 389 with value: 0.8707509203687609.\u001b[0m\n",
      "\u001b[32m[I 2022-06-23 23:47:21,404]\u001b[0m Trial 447 finished with value: 0.862249391067309 and parameters: {'lambda_l1': 2.94266431510231e-07, 'lambda_l2': 0.043356342367044866, 'num_leaves': 107, 'feature_fraction': 0.4441374708074732, 'bagging_fraction': 0.5180813444376895, 'bagging_freq': 7, 'min_child_samples': 24, 'max_depth': 1000}. Best is trial 389 with value: 0.8707509203687609.\u001b[0m\n",
      "\u001b[32m[I 2022-06-23 23:47:23,502]\u001b[0m Trial 448 finished with value: 0.8661439668862269 and parameters: {'lambda_l1': 1.270640411666365e-06, 'lambda_l2': 0.02318141798176583, 'num_leaves': 100, 'feature_fraction': 0.4728078728023525, 'bagging_fraction': 0.5321467013217634, 'bagging_freq': 7, 'min_child_samples': 26, 'max_depth': 975}. Best is trial 389 with value: 0.8707509203687609.\u001b[0m\n",
      "\u001b[32m[I 2022-06-23 23:47:25,301]\u001b[0m Trial 449 finished with value: 0.8618458307902966 and parameters: {'lambda_l1': 1.3054687819469513e-06, 'lambda_l2': 0.021743782694190975, 'num_leaves': 100, 'feature_fraction': 0.48030420469482776, 'bagging_fraction': 0.5284031379969343, 'bagging_freq': 7, 'min_child_samples': 28, 'max_depth': 979}. Best is trial 389 with value: 0.8707509203687609.\u001b[0m\n",
      "\u001b[32m[I 2022-06-23 23:47:27,098]\u001b[0m Trial 450 finished with value: 0.8617743684334243 and parameters: {'lambda_l1': 9.962421848651357e-07, 'lambda_l2': 0.0591829459627839, 'num_leaves': 106, 'feature_fraction': 0.4596725393530086, 'bagging_fraction': 0.5121105711293621, 'bagging_freq': 7, 'min_child_samples': 26, 'max_depth': 961}. Best is trial 389 with value: 0.8707509203687609.\u001b[0m\n",
      "\u001b[32m[I 2022-06-23 23:47:28,433]\u001b[0m Trial 451 finished with value: 0.8557274752895883 and parameters: {'lambda_l1': 2.389945859152617e-06, 'lambda_l2': 0.027497996641492703, 'num_leaves': 96, 'feature_fraction': 0.4712011789752597, 'bagging_fraction': 0.5359197612527371, 'bagging_freq': 6, 'min_child_samples': 31, 'max_depth': 968}. Best is trial 389 with value: 0.8707509203687609.\u001b[0m\n",
      "\u001b[32m[I 2022-06-23 23:47:29,220]\u001b[0m Trial 452 finished with value: 0.8506217925950895 and parameters: {'lambda_l1': 7.324589268868691e-07, 'lambda_l2': 0.14149702637692135, 'num_leaves': 102, 'feature_fraction': 0.45430147065903737, 'bagging_fraction': 0.5172851792337791, 'bagging_freq': 7, 'min_child_samples': 29, 'max_depth': 328}. Best is trial 389 with value: 0.8707509203687609.\u001b[0m\n",
      "\u001b[32m[I 2022-06-23 23:47:31,100]\u001b[0m Trial 453 finished with value: 0.8655778845767235 and parameters: {'lambda_l1': 1.639285702547659e-06, 'lambda_l2': 0.021088104147243974, 'num_leaves': 94, 'feature_fraction': 0.47340897907353996, 'bagging_fraction': 0.5430720934402583, 'bagging_freq': 7, 'min_child_samples': 26, 'max_depth': 986}. Best is trial 389 with value: 0.8707509203687609.\u001b[0m\n"
     ]
    },
    {
     "name": "stderr",
     "output_type": "stream",
     "text": [
      "\u001b[32m[I 2022-06-23 23:47:33,652]\u001b[0m Trial 454 finished with value: 0.8635215630602627 and parameters: {'lambda_l1': 4.3002192248139256e-07, 'lambda_l2': 0.028597780748577294, 'num_leaves': 110, 'feature_fraction': 0.48550049305664245, 'bagging_fraction': 0.525828965467082, 'bagging_freq': 7, 'min_child_samples': 28, 'max_depth': 956}. Best is trial 389 with value: 0.8707509203687609.\u001b[0m\n",
      "\u001b[32m[I 2022-06-23 23:47:36,845]\u001b[0m Trial 455 finished with value: 0.8533881371251725 and parameters: {'lambda_l1': 6.370676102521838e-08, 'lambda_l2': 0.027683053584809363, 'num_leaves': 98, 'feature_fraction': 0.44052853721318935, 'bagging_fraction': 0.7429723414731342, 'bagging_freq': 7, 'min_child_samples': 23, 'max_depth': 977}. Best is trial 389 with value: 0.8707509203687609.\u001b[0m\n",
      "\u001b[32m[I 2022-06-23 23:47:39,288]\u001b[0m Trial 456 finished with value: 0.8604125516511353 and parameters: {'lambda_l1': 9.679893940325626e-07, 'lambda_l2': 0.0798298504459157, 'num_leaves': 128, 'feature_fraction': 0.46269500166706584, 'bagging_fraction': 0.5375035560509416, 'bagging_freq': 7, 'min_child_samples': 26, 'max_depth': 1000}. Best is trial 389 with value: 0.8707509203687609.\u001b[0m\n",
      "\u001b[32m[I 2022-06-23 23:47:41,609]\u001b[0m Trial 457 finished with value: 0.8540704177788156 and parameters: {'lambda_l1': 2.3282619783547778e-06, 'lambda_l2': 7.632525143635169e-07, 'num_leaves': 121, 'feature_fraction': 0.4397262667523565, 'bagging_fraction': 0.7804858766147713, 'bagging_freq': 7, 'min_child_samples': 33, 'max_depth': 936}. Best is trial 389 with value: 0.8707509203687609.\u001b[0m\n",
      "\u001b[32m[I 2022-06-23 23:47:43,744]\u001b[0m Trial 458 finished with value: 0.8635499834487836 and parameters: {'lambda_l1': 6.866608304919017e-07, 'lambda_l2': 1.3162893513651868e-06, 'num_leaves': 115, 'feature_fraction': 0.4766810663543598, 'bagging_fraction': 0.4956452888102824, 'bagging_freq': 7, 'min_child_samples': 22, 'max_depth': 959}. Best is trial 389 with value: 0.8707509203687609.\u001b[0m\n",
      "\u001b[32m[I 2022-06-23 23:47:46,035]\u001b[0m Trial 459 finished with value: 0.856842394361744 and parameters: {'lambda_l1': 1.2250364691935131e-06, 'lambda_l2': 0.033454922684171, 'num_leaves': 92, 'feature_fraction': 0.45632752157509304, 'bagging_fraction': 0.5088641972192025, 'bagging_freq': 7, 'min_child_samples': 25, 'max_depth': 978}. Best is trial 389 with value: 0.8707509203687609.\u001b[0m\n",
      "\u001b[32m[I 2022-06-23 23:47:48,163]\u001b[0m Trial 460 finished with value: 0.8609245876027997 and parameters: {'lambda_l1': 5.049308120673619e-07, 'lambda_l2': 0.01656395468429604, 'num_leaves': 163, 'feature_fraction': 0.4884190321672664, 'bagging_fraction': 0.5497753491386846, 'bagging_freq': 7, 'min_child_samples': 30, 'max_depth': 943}. Best is trial 389 with value: 0.8707509203687609.\u001b[0m\n",
      "\u001b[32m[I 2022-06-23 23:47:50,343]\u001b[0m Trial 461 finished with value: 0.8643115228639608 and parameters: {'lambda_l1': 1.9110278078468836e-06, 'lambda_l2': 3.228139147235543e-07, 'num_leaves': 112, 'feature_fraction': 0.4193895663998829, 'bagging_fraction': 0.5270042375996495, 'bagging_freq': 7, 'min_child_samples': 27, 'max_depth': 956}. Best is trial 389 with value: 0.8707509203687609.\u001b[0m\n",
      "\u001b[32m[I 2022-06-23 23:47:52,689]\u001b[0m Trial 462 finished with value: 0.8227819784919241 and parameters: {'lambda_l1': 2.5300826171441824e-07, 'lambda_l2': 4.250283788803434e-07, 'num_leaves': 98, 'feature_fraction': 0.4358181437953957, 'bagging_fraction': 0.9756220040207373, 'bagging_freq': 7, 'min_child_samples': 24, 'max_depth': 982}. Best is trial 389 with value: 0.8707509203687609.\u001b[0m\n",
      "\u001b[32m[I 2022-06-23 23:47:55,152]\u001b[0m Trial 463 finished with value: 0.8610182702789126 and parameters: {'lambda_l1': 1.3624775097445387e-07, 'lambda_l2': 9.651778032867924e-06, 'num_leaves': 103, 'feature_fraction': 0.94359622517735, 'bagging_fraction': 0.5401613175667548, 'bagging_freq': 7, 'min_child_samples': 22, 'max_depth': 931}. Best is trial 389 with value: 0.8707509203687609.\u001b[0m\n",
      "\u001b[32m[I 2022-06-23 23:47:57,128]\u001b[0m Trial 464 finished with value: 0.864861102390901 and parameters: {'lambda_l1': 1.0050205275300033e-06, 'lambda_l2': 0.051549835207325326, 'num_leaves': 137, 'feature_fraction': 0.4494096704657179, 'bagging_fraction': 0.5182902445014763, 'bagging_freq': 7, 'min_child_samples': 28, 'max_depth': 817}. Best is trial 389 with value: 0.8707509203687609.\u001b[0m\n",
      "\u001b[32m[I 2022-06-23 23:47:59,396]\u001b[0m Trial 465 finished with value: 0.8580546411577759 and parameters: {'lambda_l1': 6.207412601886143e-07, 'lambda_l2': 0.03605348938540109, 'num_leaves': 89, 'feature_fraction': 0.4618010436145936, 'bagging_fraction': 0.5522390587322681, 'bagging_freq': 7, 'min_child_samples': 25, 'max_depth': 964}. Best is trial 389 with value: 0.8707509203687609.\u001b[0m\n",
      "\u001b[32m[I 2022-06-23 23:48:01,859]\u001b[0m Trial 466 finished with value: 0.8530064205874963 and parameters: {'lambda_l1': 1.65031577517481e-06, 'lambda_l2': 1.0582768915449546e-06, 'num_leaves': 150, 'feature_fraction': 0.47398669038998076, 'bagging_fraction': 0.7153035288931907, 'bagging_freq': 7, 'min_child_samples': 19, 'max_depth': 1000}. Best is trial 389 with value: 0.8707509203687609.\u001b[0m\n",
      "\u001b[32m[I 2022-06-23 23:48:04,139]\u001b[0m Trial 467 finished with value: 0.8615344725149289 and parameters: {'lambda_l1': 2.80628198169941e-06, 'lambda_l2': 0.015840148745872654, 'num_leaves': 131, 'feature_fraction': 0.42685388593296464, 'bagging_fraction': 0.5031334260880204, 'bagging_freq': 7, 'min_child_samples': 23, 'max_depth': 941}. Best is trial 389 with value: 0.8707509203687609.\u001b[0m\n",
      "\u001b[32m[I 2022-06-23 23:48:06,134]\u001b[0m Trial 468 finished with value: 0.8641351079905647 and parameters: {'lambda_l1': 3.5145484126791856e-07, 'lambda_l2': 2.460240836308393e-07, 'num_leaves': 144, 'feature_fraction': 0.4425474289658914, 'bagging_fraction': 0.5276603615308166, 'bagging_freq': 7, 'min_child_samples': 27, 'max_depth': 834}. Best is trial 389 with value: 0.8707509203687609.\u001b[0m\n",
      "\u001b[32m[I 2022-06-23 23:48:07,913]\u001b[0m Trial 469 finished with value: 0.8560241604156077 and parameters: {'lambda_l1': 8.571418488884634e-07, 'lambda_l2': 5.067153617365147e-07, 'num_leaves': 176, 'feature_fraction': 0.4905235473073642, 'bagging_fraction': 0.5384354538576229, 'bagging_freq': 7, 'min_child_samples': 31, 'max_depth': 858}. Best is trial 389 with value: 0.8707509203687609.\u001b[0m\n",
      "\u001b[32m[I 2022-06-23 23:48:10,551]\u001b[0m Trial 470 finished with value: 0.8592682595397378 and parameters: {'lambda_l1': 0.0003637614734293513, 'lambda_l2': 0.020931068006602025, 'num_leaves': 93, 'feature_fraction': 0.6522729665276249, 'bagging_fraction': 0.5559187187759297, 'bagging_freq': 7, 'min_child_samples': 21, 'max_depth': 918}. Best is trial 389 with value: 0.8707509203687609.\u001b[0m\n",
      "\u001b[32m[I 2022-06-23 23:48:11,697]\u001b[0m Trial 471 finished with value: 0.7463412448404708 and parameters: {'lambda_l1': 1.118652981092581e-06, 'lambda_l2': 5.286498578941953e-07, 'num_leaves': 157, 'feature_fraction': 0.4145713687671974, 'bagging_fraction': 0.5315130220379484, 'bagging_freq': 7, 'min_child_samples': 35, 'max_depth': 979}. Best is trial 389 with value: 0.8707509203687609.\u001b[0m\n",
      "\u001b[32m[I 2022-06-23 23:48:14,439]\u001b[0m Trial 472 finished with value: 0.8606825718571075 and parameters: {'lambda_l1': 4.322182367267257e-06, 'lambda_l2': 6.465094142673149e-05, 'num_leaves': 101, 'feature_fraction': 0.45240594468151313, 'bagging_fraction': 0.5673743232155234, 'bagging_freq': 7, 'min_child_samples': 29, 'max_depth': 948}. Best is trial 389 with value: 0.8707509203687609.\u001b[0m\n",
      "\u001b[32m[I 2022-06-23 23:48:16,703]\u001b[0m Trial 473 finished with value: 0.8689326522505703 and parameters: {'lambda_l1': 6.005080702121632e-07, 'lambda_l2': 2.3114281575089444e-06, 'num_leaves': 90, 'feature_fraction': 0.4320290636462858, 'bagging_fraction': 0.5460935661508199, 'bagging_freq': 7, 'min_child_samples': 25, 'max_depth': 845}. Best is trial 389 with value: 0.8707509203687609.\u001b[0m\n",
      "\u001b[32m[I 2022-06-23 23:48:19,027]\u001b[0m Trial 474 finished with value: 0.8640986087356057 and parameters: {'lambda_l1': 5.035484119436107e-07, 'lambda_l2': 1.3670176272777295e-06, 'num_leaves': 92, 'feature_fraction': 0.4310949802306861, 'bagging_fraction': 0.5496843679051711, 'bagging_freq': 7, 'min_child_samples': 24, 'max_depth': 827}. Best is trial 389 with value: 0.8707509203687609.\u001b[0m\n"
     ]
    },
    {
     "name": "stderr",
     "output_type": "stream",
     "text": [
      "\u001b[32m[I 2022-06-23 23:48:21,140]\u001b[0m Trial 475 finished with value: 0.8584953768926291 and parameters: {'lambda_l1': 2.4852837200631695e-07, 'lambda_l2': 2.3422306931688404e-06, 'num_leaves': 90, 'feature_fraction': 0.41176162863497945, 'bagging_fraction': 0.5597154304705471, 'bagging_freq': 6, 'min_child_samples': 22, 'max_depth': 850}. Best is trial 389 with value: 0.8707509203687609.\u001b[0m\n",
      "\u001b[32m[I 2022-06-23 23:48:23,256]\u001b[0m Trial 476 finished with value: 0.8573552238310365 and parameters: {'lambda_l1': 6.555638964960354e-07, 'lambda_l2': 3.945930538524973e-06, 'num_leaves': 95, 'feature_fraction': 0.42314432709406696, 'bagging_fraction': 0.5729497265985805, 'bagging_freq': 7, 'min_child_samples': 18, 'max_depth': 801}. Best is trial 389 with value: 0.8707509203687609.\u001b[0m\n",
      "\u001b[32m[I 2022-06-23 23:48:25,359]\u001b[0m Trial 477 finished with value: 0.8652563879404049 and parameters: {'lambda_l1': 8.007413607892195e-07, 'lambda_l2': 8.305079310786386e-07, 'num_leaves': 106, 'feature_fraction': 0.43352943884006595, 'bagging_fraction': 0.5455893826036304, 'bagging_freq': 7, 'min_child_samples': 25, 'max_depth': 866}. Best is trial 389 with value: 0.8707509203687609.\u001b[0m\n",
      "\u001b[32m[I 2022-06-23 23:48:27,312]\u001b[0m Trial 478 finished with value: 0.8634570856345235 and parameters: {'lambda_l1': 3.6149456578276314e-07, 'lambda_l2': 1.334798286593432e-06, 'num_leaves': 88, 'feature_fraction': 0.4182499099670514, 'bagging_fraction': 0.5428821346459405, 'bagging_freq': 7, 'min_child_samples': 20, 'max_depth': 820}. Best is trial 389 with value: 0.8707509203687609.\u001b[0m\n",
      "\u001b[32m[I 2022-06-23 23:48:29,350]\u001b[0m Trial 479 finished with value: 0.8616186254835635 and parameters: {'lambda_l1': 4.5969832255995693e-07, 'lambda_l2': 2.1998145224806036e-06, 'num_leaves': 97, 'feature_fraction': 0.40177074141793173, 'bagging_fraction': 0.5589925289090675, 'bagging_freq': 7, 'min_child_samples': 23, 'max_depth': 871}. Best is trial 389 with value: 0.8707509203687609.\u001b[0m\n",
      "\u001b[32m[I 2022-06-23 23:48:31,234]\u001b[0m Trial 480 finished with value: 0.8530216669080833 and parameters: {'lambda_l1': 1.1422950352797114e-06, 'lambda_l2': 0.01462723131823147, 'num_leaves': 87, 'feature_fraction': 0.4350243754418268, 'bagging_fraction': 0.5160873288444461, 'bagging_freq': 7, 'min_child_samples': 25, 'max_depth': 782}. Best is trial 389 with value: 0.8707509203687609.\u001b[0m\n",
      "\u001b[32m[I 2022-06-23 23:48:33,504]\u001b[0m Trial 481 finished with value: 0.8608233873324816 and parameters: {'lambda_l1': 1.779041610722116e-07, 'lambda_l2': 6.589705184583403e-07, 'num_leaves': 101, 'feature_fraction': 0.4001964073302225, 'bagging_fraction': 0.5676360237201883, 'bagging_freq': 7, 'min_child_samples': 21, 'max_depth': 843}. Best is trial 389 with value: 0.8707509203687609.\u001b[0m\n",
      "\u001b[32m[I 2022-06-23 23:48:35,639]\u001b[0m Trial 482 finished with value: 0.8586705354973543 and parameters: {'lambda_l1': 0.0002732721018149945, 'lambda_l2': 1.5479448548673398e-06, 'num_leaves': 106, 'feature_fraction': 0.4655142674497454, 'bagging_fraction': 0.5468595654868877, 'bagging_freq': 7, 'min_child_samples': 26, 'max_depth': 853}. Best is trial 389 with value: 0.8707509203687609.\u001b[0m\n",
      "\u001b[32m[I 2022-06-23 23:48:37,724]\u001b[0m Trial 483 finished with value: 0.8645350405743208 and parameters: {'lambda_l1': 6.578535817338389e-07, 'lambda_l2': 9.084601102317402e-07, 'num_leaves': 95, 'feature_fraction': 0.49943236677272373, 'bagging_fraction': 0.5327133966543229, 'bagging_freq': 7, 'min_child_samples': 24, 'max_depth': 890}. Best is trial 389 with value: 0.8707509203687609.\u001b[0m\n",
      "\u001b[32m[I 2022-06-23 23:48:39,760]\u001b[0m Trial 484 finished with value: 0.8637567884901478 and parameters: {'lambda_l1': 1.4995957263105773e-06, 'lambda_l2': 2.3452910340892805e-05, 'num_leaves': 88, 'feature_fraction': 0.41673522767688315, 'bagging_fraction': 0.5517668075106081, 'bagging_freq': 7, 'min_child_samples': 22, 'max_depth': 839}. Best is trial 389 with value: 0.8707509203687609.\u001b[0m\n",
      "\u001b[32m[I 2022-06-23 23:48:41,608]\u001b[0m Trial 485 finished with value: 0.8597173773508914 and parameters: {'lambda_l1': 3.4001337350968333e-07, 'lambda_l2': 0.03006002331877832, 'num_leaves': 115, 'feature_fraction': 0.4448412770676851, 'bagging_fraction': 0.5362907855365924, 'bagging_freq': 7, 'min_child_samples': 29, 'max_depth': 811}. Best is trial 389 with value: 0.8707509203687609.\u001b[0m\n",
      "\u001b[32m[I 2022-06-23 23:48:43,885]\u001b[0m Trial 486 finished with value: 0.8667322097192454 and parameters: {'lambda_l1': 8.953404795940476e-07, 'lambda_l2': 3.3698812997701634e-07, 'num_leaves': 99, 'feature_fraction': 0.4801482165595878, 'bagging_fraction': 0.5198694306956487, 'bagging_freq': 7, 'min_child_samples': 27, 'max_depth': 880}. Best is trial 389 with value: 0.8707509203687609.\u001b[0m\n",
      "\u001b[32m[I 2022-06-23 23:48:44,575]\u001b[0m Trial 487 finished with value: 0.5 and parameters: {'lambda_l1': 5.045721498349574e-07, 'lambda_l2': 3.2545973449290043e-07, 'num_leaves': 91, 'feature_fraction': 0.7581063920255812, 'bagging_fraction': 0.48619970791269357, 'bagging_freq': 7, 'min_child_samples': 77, 'max_depth': 877}. Best is trial 389 with value: 0.8707509203687609.\u001b[0m\n",
      "\u001b[32m[I 2022-06-23 23:48:46,721]\u001b[0m Trial 488 finished with value: 0.8578539108165657 and parameters: {'lambda_l1': 2.11086711316348e-07, 'lambda_l2': 3.753128124406321e-07, 'num_leaves': 95, 'feature_fraction': 0.4849616832553124, 'bagging_fraction': 0.50311178434816, 'bagging_freq': 5, 'min_child_samples': 17, 'max_depth': 863}. Best is trial 389 with value: 0.8707509203687609.\u001b[0m\n",
      "\u001b[32m[I 2022-06-23 23:48:49,073]\u001b[0m Trial 489 finished with value: 0.8620547684814325 and parameters: {'lambda_l1': 9.487303311132915e-08, 'lambda_l2': 6.419931327900233e-07, 'num_leaves': 86, 'feature_fraction': 0.5063456543064595, 'bagging_fraction': 0.5178329131579791, 'bagging_freq': 7, 'min_child_samples': 28, 'max_depth': 891}. Best is trial 389 with value: 0.8707509203687609.\u001b[0m\n",
      "\u001b[32m[I 2022-06-23 23:48:52,211]\u001b[0m Trial 490 finished with value: 0.8556255677586946 and parameters: {'lambda_l1': 7.05727610534678e-07, 'lambda_l2': 4.26630298096565e-07, 'num_leaves': 111, 'feature_fraction': 0.7231267995989575, 'bagging_fraction': 0.5820465476909296, 'bagging_freq': 7, 'min_child_samples': 19, 'max_depth': 880}. Best is trial 389 with value: 0.8707509203687609.\u001b[0m\n",
      "\u001b[32m[I 2022-06-23 23:48:54,189]\u001b[0m Trial 491 finished with value: 0.8432283576631486 and parameters: {'lambda_l1': 0.0005326543499709418, 'lambda_l2': 2.2993883095376047e-07, 'num_leaves': 122, 'feature_fraction': 0.42585756102091177, 'bagging_fraction': 0.8599832729161796, 'bagging_freq': 7, 'min_child_samples': 23, 'max_depth': 412}. Best is trial 389 with value: 0.8707509203687609.\u001b[0m\n",
      "\u001b[32m[I 2022-06-23 23:48:55,322]\u001b[0m Trial 492 finished with value: 0.6987468774130926 and parameters: {'lambda_l1': 9.18281207969804e-07, 'lambda_l2': 8.83175773775393e-07, 'num_leaves': 91, 'feature_fraction': 0.9712993202792927, 'bagging_fraction': 0.45306353531348953, 'bagging_freq': 7, 'min_child_samples': 31, 'max_depth': 834}. Best is trial 389 with value: 0.8707509203687609.\u001b[0m\n",
      "\u001b[32m[I 2022-06-23 23:48:58,229]\u001b[0m Trial 493 finished with value: 0.8654328346661938 and parameters: {'lambda_l1': 3.465928573487126e-07, 'lambda_l2': 2.5288605846188016e-07, 'num_leaves': 98, 'feature_fraction': 0.8569358463029391, 'bagging_fraction': 0.5159724026606508, 'bagging_freq': 7, 'min_child_samples': 27, 'max_depth': 908}. Best is trial 389 with value: 0.8707509203687609.\u001b[0m\n",
      "\u001b[32m[I 2022-06-23 23:49:00,958]\u001b[0m Trial 494 finished with value: 0.8584012165809766 and parameters: {'lambda_l1': 0.0009280019864126678, 'lambda_l2': 5.960200870317059e-07, 'num_leaves': 118, 'feature_fraction': 0.8247346250218739, 'bagging_fraction': 0.49815681046420274, 'bagging_freq': 7, 'min_child_samples': 24, 'max_depth': 858}. Best is trial 389 with value: 0.8707509203687609.\u001b[0m\n",
      "\u001b[32m[I 2022-06-23 23:49:03,850]\u001b[0m Trial 495 finished with value: 0.8591455646177008 and parameters: {'lambda_l1': 7.490583649745551e-07, 'lambda_l2': 3.215723134704438, 'num_leaves': 155, 'feature_fraction': 0.41621003664167167, 'bagging_fraction': 0.5694911183868877, 'bagging_freq': 7, 'min_child_samples': 21, 'max_depth': 901}. Best is trial 389 with value: 0.8707509203687609.\u001b[0m\n"
     ]
    },
    {
     "name": "stderr",
     "output_type": "stream",
     "text": [
      "\u001b[32m[I 2022-06-23 23:49:05,827]\u001b[0m Trial 496 finished with value: 0.8651252549050535 and parameters: {'lambda_l1': 0.00021724973622386085, 'lambda_l2': 3.213181290608168e-07, 'num_leaves': 89, 'feature_fraction': 0.43212384421408406, 'bagging_fraction': 0.5437777658203073, 'bagging_freq': 7, 'min_child_samples': 29, 'max_depth': 766}. Best is trial 389 with value: 0.8707509203687609.\u001b[0m\n",
      "\u001b[32m[I 2022-06-23 23:49:08,503]\u001b[0m Trial 497 finished with value: 0.8631671972248597 and parameters: {'lambda_l1': 0.00936132840023022, 'lambda_l2': 1.9074403363786395e-07, 'num_leaves': 148, 'feature_fraction': 0.46194213370316994, 'bagging_fraction': 0.5589369795428327, 'bagging_freq': 7, 'min_child_samples': 26, 'max_depth': 848}. Best is trial 389 with value: 0.8707509203687609.\u001b[0m\n",
      "\u001b[32m[I 2022-06-23 23:49:09,761]\u001b[0m Trial 498 finished with value: 0.6010329444162649 and parameters: {'lambda_l1': 4.6622755268778554e-07, 'lambda_l2': 1.0941142690987427e-06, 'num_leaves': 105, 'feature_fraction': 0.4952329137180995, 'bagging_fraction': 0.4788101526991038, 'bagging_freq': 7, 'min_child_samples': 33, 'max_depth': 876}. Best is trial 389 with value: 0.8707509203687609.\u001b[0m\n",
      "\u001b[32m[I 2022-06-23 23:49:12,826]\u001b[0m Trial 499 finished with value: 0.8591949732628912 and parameters: {'lambda_l1': 2.0203549662809164e-06, 'lambda_l2': 4.410444791074234e-07, 'num_leaves': 96, 'feature_fraction': 0.44566612702971997, 'bagging_fraction': 0.5229126999193777, 'bagging_freq': 6, 'min_child_samples': 24, 'max_depth': 916}. Best is trial 389 with value: 0.8707509203687609.\u001b[0m\n"
     ]
    }
   ],
   "source": [
    "study.optimize(objective, n_trials=500)"
   ]
  },
  {
   "cell_type": "code",
   "execution_count": 176,
   "id": "055b7aae",
   "metadata": {},
   "outputs": [],
   "source": [
    "# Get best trial based on metric score\n",
    "trial = study.best_trial"
   ]
  },
  {
   "cell_type": "code",
   "execution_count": 177,
   "id": "96818657",
   "metadata": {},
   "outputs": [
    {
     "name": "stdout",
     "output_type": "stream",
     "text": [
      "    lambda_l1: 1.2537265730755262e-06\n",
      "    lambda_l2: 3.451074192111965e-07\n",
      "    num_leaves: 141\n",
      "    feature_fraction: 0.4703062413129908\n",
      "    bagging_fraction: 0.5227902554474249\n",
      "    bagging_freq: 7\n",
      "    min_child_samples: 27\n",
      "    max_depth: 996\n"
     ]
    }
   ],
   "source": [
    "# Print params for best trial\n",
    "for key, value in trial.params.items():\n",
    "    print(\"    {}: {}\".format(key, value))"
   ]
  },
  {
   "cell_type": "code",
   "execution_count": 178,
   "id": "2f3afdcc",
   "metadata": {},
   "outputs": [
    {
     "data": {
      "text/plain": [
       "0.8707509203687609"
      ]
     },
     "execution_count": 178,
     "metadata": {},
     "output_type": "execute_result"
    }
   ],
   "source": [
    "# Best Score from HP Opt\n",
    "trial.values[0]"
   ]
  },
  {
   "cell_type": "markdown",
   "id": "5d878a6b",
   "metadata": {},
   "source": [
    "- Aumento de performance considerável em relação ao valor baseline para um LGBM"
   ]
  },
  {
   "cell_type": "markdown",
   "id": "a642b35f",
   "metadata": {},
   "source": [
    "##### 4.2) PCA Dimension Reduction + Hyper Parameter Optimization with Optuna"
   ]
  },
  {
   "cell_type": "code",
   "execution_count": 181,
   "id": "ea04ed14",
   "metadata": {},
   "outputs": [],
   "source": [
    "# Define objectiva funtion to maximize metric\n",
    "def objective(trial):\n",
    "    \n",
    "    # PCA Parameter Grid\n",
    "    pca_param = {\n",
    "        \"n_components\": trial.suggest_int(\"n_components\", 5, 100)\n",
    "    }\n",
    "    # Hyper Parameter Grid\n",
    "    param = {\n",
    "        \"objective\": \"binary\",\n",
    "        \"metric\": \"binary_logloss\",\n",
    "        \"verbosity\": -1,\n",
    "        \"boosting_type\": \"gbdt\",\n",
    "        \"lambda_l1\": trial.suggest_float(\"lambda_l1\", 1e-8, 10.0, log=True),\n",
    "        \"lambda_l2\": trial.suggest_float(\"lambda_l2\", 1e-8, 10.0, log=True),\n",
    "        \"num_leaves\": trial.suggest_int(\"num_leaves\", 2, 256),\n",
    "        \"feature_fraction\": trial.suggest_float(\"feature_fraction\", 0.4, 1.0),\n",
    "        \"bagging_fraction\": trial.suggest_float(\"bagging_fraction\", 0.4, 1.0),\n",
    "        \"bagging_freq\": trial.suggest_int(\"bagging_freq\", 1, 7),\n",
    "        \"min_child_samples\": trial.suggest_int(\"min_child_samples\", 5, 100),\n",
    "        \"n_estimators\": trial.suggest_int(\"max_depth\", 100, 1000)\n",
    "    }\n",
    "    # Create model pipeline with param trial\n",
    "    clf = Pipeline([(\"pca\", PCA(**pca_param)),\n",
    "                    (\"lgbm_clf\", lgb.LGBMClassifier(random_state=SEED, **param))])\n",
    "    # Get CV Metric we want to maximize\n",
    "    balanced_accuracy = np.mean(cross_val_score(clf, X, y, scoring=metric_scorer, cv=rkf, n_jobs=-1))\n",
    "    \n",
    "    return balanced_accuracy"
   ]
  },
  {
   "cell_type": "code",
   "execution_count": 182,
   "id": "9d8c7fab",
   "metadata": {},
   "outputs": [
    {
     "name": "stderr",
     "output_type": "stream",
     "text": [
      "\u001b[32m[I 2022-06-17 15:30:06,080]\u001b[0m A new study created in memory with name: no-name-adfd880b-812e-41f4-828a-f1b968db75c6\u001b[0m\n"
     ]
    }
   ],
   "source": [
    "study = optuna.create_study(direction=\"maximize\")"
   ]
  },
  {
   "cell_type": "code",
   "execution_count": null,
   "id": "f5b1c8f5",
   "metadata": {
    "scrolled": false
   },
   "outputs": [],
   "source": [
    "study.optimize(objective, n_trials=500)"
   ]
  },
  {
   "cell_type": "code",
   "execution_count": 26,
   "id": "2de6ae10",
   "metadata": {},
   "outputs": [],
   "source": [
    "# Get best trial based on metric score\n",
    "trial = study.best_trial"
   ]
  },
  {
   "cell_type": "code",
   "execution_count": 27,
   "id": "89bdb921",
   "metadata": {},
   "outputs": [
    {
     "name": "stdout",
     "output_type": "stream",
     "text": [
      "    n_components: 98\n",
      "    lambda_l1: 4.997984938308335e-06\n",
      "    lambda_l2: 9.51579276153768e-06\n",
      "    num_leaves: 44\n",
      "    feature_fraction: 0.5421454819677247\n",
      "    bagging_fraction: 0.48235662397332973\n",
      "    bagging_freq: 4\n",
      "    min_child_samples: 8\n",
      "    max_depth: 563\n"
     ]
    }
   ],
   "source": [
    "# Print params for best trial\n",
    "for key, value in trial.params.items():\n",
    "    print(\"    {}: {}\".format(key, value))"
   ]
  },
  {
   "cell_type": "code",
   "execution_count": 28,
   "id": "1afe3420",
   "metadata": {},
   "outputs": [
    {
     "data": {
      "text/plain": [
       "0.7134464057614213"
      ]
     },
     "execution_count": 28,
     "metadata": {},
     "output_type": "execute_result"
    }
   ],
   "source": [
    "# Best Score from HP Opt\n",
    "trial.values[0]"
   ]
  },
  {
   "cell_type": "markdown",
   "id": "152d13a2",
   "metadata": {},
   "source": [
    "- Utilizar redução de dimensionalidade via PCA piorou bastante a performance do modelo"
   ]
  },
  {
   "cell_type": "markdown",
   "id": "ad983cfc",
   "metadata": {},
   "source": [
    "##### 4.3) Features Scaler + Hyper Parameter Optimization with Optuna"
   ]
  },
  {
   "cell_type": "code",
   "execution_count": 29,
   "id": "417135dc",
   "metadata": {},
   "outputs": [],
   "source": [
    "# Define objectiva funtion to maximize metric\n",
    "def objective(trial):\n",
    "    \n",
    "    # List scalers to chose from\n",
    "    scalers = trial.suggest_categorical(\"scalers\", ['minmax', 'standard', 'robust'])\n",
    "    # Define scalers\n",
    "    if scalers == \"minmax\":\n",
    "        scaler = MinMaxScaler()\n",
    "    elif scalers == \"standard\":\n",
    "        scaler = StandardScaler()\n",
    "    else:\n",
    "        scaler = RobustScaler()\n",
    "    # LGBM Hyper Parameter Grid\n",
    "    param = {\n",
    "        \"objective\": \"binary\",\n",
    "        \"metric\": \"binary_logloss\",\n",
    "        \"verbosity\": -1,\n",
    "        \"boosting_type\": \"gbdt\",\n",
    "        \"lambda_l1\": trial.suggest_float(\"lambda_l1\", 1e-8, 10.0, log=True),\n",
    "        \"lambda_l2\": trial.suggest_float(\"lambda_l2\", 1e-8, 10.0, log=True),\n",
    "        \"num_leaves\": trial.suggest_int(\"num_leaves\", 2, 256),\n",
    "        \"feature_fraction\": trial.suggest_float(\"feature_fraction\", 0.4, 1.0),\n",
    "        \"bagging_fraction\": trial.suggest_float(\"bagging_fraction\", 0.4, 1.0),\n",
    "        \"bagging_freq\": trial.suggest_int(\"bagging_freq\", 1, 7),\n",
    "        \"min_child_samples\": trial.suggest_int(\"min_child_samples\", 5, 100),\n",
    "        \"n_estimators\": trial.suggest_int(\"max_depth\", 100, 1000)\n",
    "    }\n",
    "    # Create model pipeline with param trial\n",
    "    clf = Pipeline([(\"scaler\", scaler),\n",
    "                    (\"lgbm_clf\", lgb.LGBMClassifier(random_state=SEED, **param))])\n",
    "    # Get CV Metric we want to maximize\n",
    "    balanced_accuracy = np.mean(cross_val_score(clf, X, y, scoring=metric_scorer, cv=rkf, n_jobs=-1))\n",
    "    \n",
    "    return balanced_accuracy"
   ]
  },
  {
   "cell_type": "code",
   "execution_count": 30,
   "id": "f50ae95b",
   "metadata": {},
   "outputs": [
    {
     "name": "stderr",
     "output_type": "stream",
     "text": [
      "\u001b[32m[I 2022-06-07 22:15:09,043]\u001b[0m A new study created in memory with name: no-name-9d027bd4-11fc-4b2d-8846-da6f6ffb30f6\u001b[0m\n"
     ]
    }
   ],
   "source": [
    "study = optuna.create_study(direction=\"maximize\")"
   ]
  },
  {
   "cell_type": "code",
   "execution_count": null,
   "id": "0359a477",
   "metadata": {
    "scrolled": true
   },
   "outputs": [],
   "source": [
    "study.optimize(objective, n_trials=500)"
   ]
  },
  {
   "cell_type": "code",
   "execution_count": 32,
   "id": "c12b4332",
   "metadata": {},
   "outputs": [],
   "source": [
    "# Get best trial based on metric score\n",
    "trial = study.best_trial"
   ]
  },
  {
   "cell_type": "code",
   "execution_count": 33,
   "id": "136c5fb7",
   "metadata": {},
   "outputs": [
    {
     "name": "stdout",
     "output_type": "stream",
     "text": [
      "    scalers: robust\n",
      "    lambda_l1: 4.3223282482835764e-07\n",
      "    lambda_l2: 3.3796186878776776e-05\n",
      "    num_leaves: 188\n",
      "    feature_fraction: 0.650978565866076\n",
      "    bagging_fraction: 0.9212536490874126\n",
      "    bagging_freq: 7\n",
      "    min_child_samples: 36\n",
      "    max_depth: 956\n"
     ]
    }
   ],
   "source": [
    "# Print params for best trial\n",
    "for key, value in trial.params.items():\n",
    "    print(\"    {}: {}\".format(key, value))"
   ]
  },
  {
   "cell_type": "code",
   "execution_count": 34,
   "id": "794fde22",
   "metadata": {},
   "outputs": [
    {
     "data": {
      "text/plain": [
       "0.8521054248039541"
      ]
     },
     "execution_count": 34,
     "metadata": {},
     "output_type": "execute_result"
    }
   ],
   "source": [
    "# Best Score from HP Opt\n",
    "trial.values[0]"
   ]
  },
  {
   "cell_type": "markdown",
   "id": "636f5deb",
   "metadata": {},
   "source": [
    "- A adição de um estágio de feature scaling antes do treinamento parece ter ajudado o modelo"
   ]
  },
  {
   "cell_type": "markdown",
   "id": "5a6f3352",
   "metadata": {},
   "source": [
    "##### 4.4) Boruta Feature Selection + Features Scaler + Hyper Parameter Optimization with Optuna"
   ]
  },
  {
   "cell_type": "code",
   "execution_count": 217,
   "id": "7b70bb42",
   "metadata": {},
   "outputs": [],
   "source": [
    "# define random forest classifier, with utilising all cores and\n",
    "# sampling in proportion to y labels\n",
    "rf = RandomForestClassifier(n_jobs=-1, class_weight='balanced', max_depth=5)\n",
    "# define Boruta feature selection method\n",
    "feat_selector = BorutaPy(rf, n_estimators='auto', verbose=2, random_state=SEED, )"
   ]
  },
  {
   "cell_type": "code",
   "execution_count": 218,
   "id": "2ae7aab1",
   "metadata": {
    "scrolled": true
   },
   "outputs": [
    {
     "name": "stdout",
     "output_type": "stream",
     "text": [
      "Iteration: \t1 / 100\n",
      "Confirmed: \t0\n",
      "Tentative: \t546\n",
      "Rejected: \t0\n",
      "Iteration: \t2 / 100\n",
      "Confirmed: \t0\n",
      "Tentative: \t546\n",
      "Rejected: \t0\n",
      "Iteration: \t3 / 100\n",
      "Confirmed: \t0\n",
      "Tentative: \t546\n",
      "Rejected: \t0\n",
      "Iteration: \t4 / 100\n",
      "Confirmed: \t0\n",
      "Tentative: \t546\n",
      "Rejected: \t0\n",
      "Iteration: \t5 / 100\n",
      "Confirmed: \t0\n",
      "Tentative: \t546\n",
      "Rejected: \t0\n",
      "Iteration: \t6 / 100\n",
      "Confirmed: \t0\n",
      "Tentative: \t546\n",
      "Rejected: \t0\n",
      "Iteration: \t7 / 100\n",
      "Confirmed: \t0\n",
      "Tentative: \t546\n",
      "Rejected: \t0\n",
      "Iteration: \t8 / 100\n",
      "Confirmed: \t0\n",
      "Tentative: \t70\n",
      "Rejected: \t476\n",
      "Iteration: \t9 / 100\n",
      "Confirmed: \t22\n",
      "Tentative: \t48\n",
      "Rejected: \t476\n",
      "Iteration: \t10 / 100\n",
      "Confirmed: \t22\n",
      "Tentative: \t48\n",
      "Rejected: \t476\n",
      "Iteration: \t11 / 100\n",
      "Confirmed: \t22\n",
      "Tentative: \t48\n",
      "Rejected: \t476\n",
      "Iteration: \t12 / 100\n",
      "Confirmed: \t25\n",
      "Tentative: \t36\n",
      "Rejected: \t485\n",
      "Iteration: \t13 / 100\n",
      "Confirmed: \t25\n",
      "Tentative: \t36\n",
      "Rejected: \t485\n",
      "Iteration: \t14 / 100\n",
      "Confirmed: \t25\n",
      "Tentative: \t36\n",
      "Rejected: \t485\n",
      "Iteration: \t15 / 100\n",
      "Confirmed: \t25\n",
      "Tentative: \t36\n",
      "Rejected: \t485\n",
      "Iteration: \t16 / 100\n",
      "Confirmed: \t26\n",
      "Tentative: \t35\n",
      "Rejected: \t485\n",
      "Iteration: \t17 / 100\n",
      "Confirmed: \t26\n",
      "Tentative: \t35\n",
      "Rejected: \t485\n",
      "Iteration: \t18 / 100\n",
      "Confirmed: \t26\n",
      "Tentative: \t35\n",
      "Rejected: \t485\n",
      "Iteration: \t19 / 100\n",
      "Confirmed: \t27\n",
      "Tentative: \t31\n",
      "Rejected: \t488\n",
      "Iteration: \t20 / 100\n",
      "Confirmed: \t27\n",
      "Tentative: \t31\n",
      "Rejected: \t488\n",
      "Iteration: \t21 / 100\n",
      "Confirmed: \t27\n",
      "Tentative: \t31\n",
      "Rejected: \t488\n",
      "Iteration: \t22 / 100\n",
      "Confirmed: \t28\n",
      "Tentative: \t25\n",
      "Rejected: \t493\n",
      "Iteration: \t23 / 100\n",
      "Confirmed: \t28\n",
      "Tentative: \t25\n",
      "Rejected: \t493\n",
      "Iteration: \t24 / 100\n",
      "Confirmed: \t28\n",
      "Tentative: \t25\n",
      "Rejected: \t493\n",
      "Iteration: \t25 / 100\n",
      "Confirmed: \t28\n",
      "Tentative: \t25\n",
      "Rejected: \t493\n",
      "Iteration: \t26 / 100\n",
      "Confirmed: \t28\n",
      "Tentative: \t23\n",
      "Rejected: \t495\n",
      "Iteration: \t27 / 100\n",
      "Confirmed: \t28\n",
      "Tentative: \t23\n",
      "Rejected: \t495\n",
      "Iteration: \t28 / 100\n",
      "Confirmed: \t28\n",
      "Tentative: \t23\n",
      "Rejected: \t495\n",
      "Iteration: \t29 / 100\n",
      "Confirmed: \t29\n",
      "Tentative: \t22\n",
      "Rejected: \t495\n",
      "Iteration: \t30 / 100\n",
      "Confirmed: \t29\n",
      "Tentative: \t22\n",
      "Rejected: \t495\n",
      "Iteration: \t31 / 100\n",
      "Confirmed: \t29\n",
      "Tentative: \t22\n",
      "Rejected: \t495\n",
      "Iteration: \t32 / 100\n",
      "Confirmed: \t30\n",
      "Tentative: \t21\n",
      "Rejected: \t495\n",
      "Iteration: \t33 / 100\n",
      "Confirmed: \t30\n",
      "Tentative: \t21\n",
      "Rejected: \t495\n",
      "Iteration: \t34 / 100\n",
      "Confirmed: \t32\n",
      "Tentative: \t19\n",
      "Rejected: \t495\n",
      "Iteration: \t35 / 100\n",
      "Confirmed: \t32\n",
      "Tentative: \t19\n",
      "Rejected: \t495\n",
      "Iteration: \t36 / 100\n",
      "Confirmed: \t32\n",
      "Tentative: \t19\n",
      "Rejected: \t495\n",
      "Iteration: \t37 / 100\n",
      "Confirmed: \t33\n",
      "Tentative: \t18\n",
      "Rejected: \t495\n",
      "Iteration: \t38 / 100\n",
      "Confirmed: \t33\n",
      "Tentative: \t18\n",
      "Rejected: \t495\n",
      "Iteration: \t39 / 100\n",
      "Confirmed: \t33\n",
      "Tentative: \t18\n",
      "Rejected: \t495\n",
      "Iteration: \t40 / 100\n",
      "Confirmed: \t33\n",
      "Tentative: \t18\n",
      "Rejected: \t495\n",
      "Iteration: \t41 / 100\n",
      "Confirmed: \t33\n",
      "Tentative: \t18\n",
      "Rejected: \t495\n",
      "Iteration: \t42 / 100\n",
      "Confirmed: \t33\n",
      "Tentative: \t18\n",
      "Rejected: \t495\n",
      "Iteration: \t43 / 100\n",
      "Confirmed: \t33\n",
      "Tentative: \t18\n",
      "Rejected: \t495\n",
      "Iteration: \t44 / 100\n",
      "Confirmed: \t33\n",
      "Tentative: \t18\n",
      "Rejected: \t495\n",
      "Iteration: \t45 / 100\n",
      "Confirmed: \t33\n",
      "Tentative: \t18\n",
      "Rejected: \t495\n",
      "Iteration: \t46 / 100\n",
      "Confirmed: \t33\n",
      "Tentative: \t18\n",
      "Rejected: \t495\n",
      "Iteration: \t47 / 100\n",
      "Confirmed: \t33\n",
      "Tentative: \t18\n",
      "Rejected: \t495\n",
      "Iteration: \t48 / 100\n",
      "Confirmed: \t33\n",
      "Tentative: \t18\n",
      "Rejected: \t495\n",
      "Iteration: \t49 / 100\n",
      "Confirmed: \t33\n",
      "Tentative: \t18\n",
      "Rejected: \t495\n",
      "Iteration: \t50 / 100\n",
      "Confirmed: \t33\n",
      "Tentative: \t18\n",
      "Rejected: \t495\n",
      "Iteration: \t51 / 100\n",
      "Confirmed: \t33\n",
      "Tentative: \t18\n",
      "Rejected: \t495\n",
      "Iteration: \t52 / 100\n",
      "Confirmed: \t33\n",
      "Tentative: \t18\n",
      "Rejected: \t495\n",
      "Iteration: \t53 / 100\n",
      "Confirmed: \t33\n",
      "Tentative: \t18\n",
      "Rejected: \t495\n",
      "Iteration: \t54 / 100\n",
      "Confirmed: \t33\n",
      "Tentative: \t17\n",
      "Rejected: \t496\n",
      "Iteration: \t55 / 100\n",
      "Confirmed: \t33\n",
      "Tentative: \t17\n",
      "Rejected: \t496\n",
      "Iteration: \t56 / 100\n",
      "Confirmed: \t33\n",
      "Tentative: \t17\n",
      "Rejected: \t496\n",
      "Iteration: \t57 / 100\n",
      "Confirmed: \t33\n",
      "Tentative: \t17\n",
      "Rejected: \t496\n",
      "Iteration: \t58 / 100\n",
      "Confirmed: \t33\n",
      "Tentative: \t17\n",
      "Rejected: \t496\n",
      "Iteration: \t59 / 100\n",
      "Confirmed: \t33\n",
      "Tentative: \t17\n",
      "Rejected: \t496\n",
      "Iteration: \t60 / 100\n",
      "Confirmed: \t33\n",
      "Tentative: \t17\n",
      "Rejected: \t496\n",
      "Iteration: \t61 / 100\n",
      "Confirmed: \t33\n",
      "Tentative: \t17\n",
      "Rejected: \t496\n",
      "Iteration: \t62 / 100\n",
      "Confirmed: \t33\n",
      "Tentative: \t17\n",
      "Rejected: \t496\n",
      "Iteration: \t63 / 100\n",
      "Confirmed: \t33\n",
      "Tentative: \t17\n",
      "Rejected: \t496\n",
      "Iteration: \t64 / 100\n",
      "Confirmed: \t33\n",
      "Tentative: \t17\n",
      "Rejected: \t496\n",
      "Iteration: \t65 / 100\n",
      "Confirmed: \t33\n",
      "Tentative: \t17\n",
      "Rejected: \t496\n",
      "Iteration: \t66 / 100\n",
      "Confirmed: \t33\n",
      "Tentative: \t17\n",
      "Rejected: \t496\n",
      "Iteration: \t67 / 100\n",
      "Confirmed: \t33\n",
      "Tentative: \t17\n",
      "Rejected: \t496\n",
      "Iteration: \t68 / 100\n",
      "Confirmed: \t33\n",
      "Tentative: \t17\n",
      "Rejected: \t496\n",
      "Iteration: \t69 / 100\n",
      "Confirmed: \t33\n",
      "Tentative: \t17\n",
      "Rejected: \t496\n",
      "Iteration: \t70 / 100\n",
      "Confirmed: \t33\n",
      "Tentative: \t17\n",
      "Rejected: \t496\n",
      "Iteration: \t71 / 100\n",
      "Confirmed: \t33\n",
      "Tentative: \t17\n",
      "Rejected: \t496\n",
      "Iteration: \t72 / 100\n",
      "Confirmed: \t33\n",
      "Tentative: \t15\n",
      "Rejected: \t498\n",
      "Iteration: \t73 / 100\n",
      "Confirmed: \t33\n",
      "Tentative: \t15\n",
      "Rejected: \t498\n",
      "Iteration: \t74 / 100\n",
      "Confirmed: \t33\n",
      "Tentative: \t15\n",
      "Rejected: \t498\n",
      "Iteration: \t75 / 100\n",
      "Confirmed: \t33\n",
      "Tentative: \t15\n",
      "Rejected: \t498\n",
      "Iteration: \t76 / 100\n",
      "Confirmed: \t33\n",
      "Tentative: \t15\n",
      "Rejected: \t498\n",
      "Iteration: \t77 / 100\n",
      "Confirmed: \t33\n",
      "Tentative: \t14\n",
      "Rejected: \t499\n",
      "Iteration: \t78 / 100\n",
      "Confirmed: \t33\n",
      "Tentative: \t14\n",
      "Rejected: \t499\n",
      "Iteration: \t79 / 100\n",
      "Confirmed: \t33\n",
      "Tentative: \t14\n",
      "Rejected: \t499\n",
      "Iteration: \t80 / 100\n",
      "Confirmed: \t33\n",
      "Tentative: \t14\n",
      "Rejected: \t499\n",
      "Iteration: \t81 / 100\n",
      "Confirmed: \t33\n",
      "Tentative: \t14\n",
      "Rejected: \t499\n",
      "Iteration: \t82 / 100\n",
      "Confirmed: \t33\n",
      "Tentative: \t14\n",
      "Rejected: \t499\n",
      "Iteration: \t83 / 100\n",
      "Confirmed: \t33\n",
      "Tentative: \t14\n",
      "Rejected: \t499\n",
      "Iteration: \t84 / 100\n",
      "Confirmed: \t33\n",
      "Tentative: \t14\n",
      "Rejected: \t499\n",
      "Iteration: \t85 / 100\n",
      "Confirmed: \t33\n",
      "Tentative: \t14\n",
      "Rejected: \t499\n",
      "Iteration: \t86 / 100\n",
      "Confirmed: \t33\n",
      "Tentative: \t14\n",
      "Rejected: \t499\n",
      "Iteration: \t87 / 100\n",
      "Confirmed: \t33\n",
      "Tentative: \t14\n",
      "Rejected: \t499\n",
      "Iteration: \t88 / 100\n",
      "Confirmed: \t33\n",
      "Tentative: \t14\n",
      "Rejected: \t499\n",
      "Iteration: \t89 / 100\n",
      "Confirmed: \t33\n",
      "Tentative: \t14\n",
      "Rejected: \t499\n",
      "Iteration: \t90 / 100\n",
      "Confirmed: \t33\n",
      "Tentative: \t14\n",
      "Rejected: \t499\n",
      "Iteration: \t91 / 100\n",
      "Confirmed: \t33\n",
      "Tentative: \t14\n",
      "Rejected: \t499\n",
      "Iteration: \t92 / 100\n",
      "Confirmed: \t33\n",
      "Tentative: \t14\n",
      "Rejected: \t499\n",
      "Iteration: \t93 / 100\n",
      "Confirmed: \t33\n",
      "Tentative: \t14\n",
      "Rejected: \t499\n",
      "Iteration: \t94 / 100\n",
      "Confirmed: \t33\n",
      "Tentative: \t14\n",
      "Rejected: \t499\n",
      "Iteration: \t95 / 100\n",
      "Confirmed: \t33\n",
      "Tentative: \t14\n",
      "Rejected: \t499\n",
      "Iteration: \t96 / 100\n",
      "Confirmed: \t33\n",
      "Tentative: \t14\n",
      "Rejected: \t499\n",
      "Iteration: \t97 / 100\n",
      "Confirmed: \t33\n",
      "Tentative: \t14\n",
      "Rejected: \t499\n",
      "Iteration: \t98 / 100\n",
      "Confirmed: \t33\n",
      "Tentative: \t14\n",
      "Rejected: \t499\n",
      "Iteration: \t99 / 100\n",
      "Confirmed: \t33\n",
      "Tentative: \t14\n",
      "Rejected: \t499\n",
      "\n",
      "\n",
      "BorutaPy finished running.\n",
      "\n",
      "Iteration: \t100 / 100\n",
      "Confirmed: \t33\n",
      "Tentative: \t12\n",
      "Rejected: \t499\n"
     ]
    },
    {
     "data": {
      "text/html": [
       "<style>#sk-container-id-4 {color: black;background-color: white;}#sk-container-id-4 pre{padding: 0;}#sk-container-id-4 div.sk-toggleable {background-color: white;}#sk-container-id-4 label.sk-toggleable__label {cursor: pointer;display: block;width: 100%;margin-bottom: 0;padding: 0.3em;box-sizing: border-box;text-align: center;}#sk-container-id-4 label.sk-toggleable__label-arrow:before {content: \"▸\";float: left;margin-right: 0.25em;color: #696969;}#sk-container-id-4 label.sk-toggleable__label-arrow:hover:before {color: black;}#sk-container-id-4 div.sk-estimator:hover label.sk-toggleable__label-arrow:before {color: black;}#sk-container-id-4 div.sk-toggleable__content {max-height: 0;max-width: 0;overflow: hidden;text-align: left;background-color: #f0f8ff;}#sk-container-id-4 div.sk-toggleable__content pre {margin: 0.2em;color: black;border-radius: 0.25em;background-color: #f0f8ff;}#sk-container-id-4 input.sk-toggleable__control:checked~div.sk-toggleable__content {max-height: 200px;max-width: 100%;overflow: auto;}#sk-container-id-4 input.sk-toggleable__control:checked~label.sk-toggleable__label-arrow:before {content: \"▾\";}#sk-container-id-4 div.sk-estimator input.sk-toggleable__control:checked~label.sk-toggleable__label {background-color: #d4ebff;}#sk-container-id-4 div.sk-label input.sk-toggleable__control:checked~label.sk-toggleable__label {background-color: #d4ebff;}#sk-container-id-4 input.sk-hidden--visually {border: 0;clip: rect(1px 1px 1px 1px);clip: rect(1px, 1px, 1px, 1px);height: 1px;margin: -1px;overflow: hidden;padding: 0;position: absolute;width: 1px;}#sk-container-id-4 div.sk-estimator {font-family: monospace;background-color: #f0f8ff;border: 1px dotted black;border-radius: 0.25em;box-sizing: border-box;margin-bottom: 0.5em;}#sk-container-id-4 div.sk-estimator:hover {background-color: #d4ebff;}#sk-container-id-4 div.sk-parallel-item::after {content: \"\";width: 100%;border-bottom: 1px solid gray;flex-grow: 1;}#sk-container-id-4 div.sk-label:hover label.sk-toggleable__label {background-color: #d4ebff;}#sk-container-id-4 div.sk-serial::before {content: \"\";position: absolute;border-left: 1px solid gray;box-sizing: border-box;top: 0;bottom: 0;left: 50%;z-index: 0;}#sk-container-id-4 div.sk-serial {display: flex;flex-direction: column;align-items: center;background-color: white;padding-right: 0.2em;padding-left: 0.2em;position: relative;}#sk-container-id-4 div.sk-item {position: relative;z-index: 1;}#sk-container-id-4 div.sk-parallel {display: flex;align-items: stretch;justify-content: center;background-color: white;position: relative;}#sk-container-id-4 div.sk-item::before, #sk-container-id-4 div.sk-parallel-item::before {content: \"\";position: absolute;border-left: 1px solid gray;box-sizing: border-box;top: 0;bottom: 0;left: 50%;z-index: -1;}#sk-container-id-4 div.sk-parallel-item {display: flex;flex-direction: column;z-index: 1;position: relative;background-color: white;}#sk-container-id-4 div.sk-parallel-item:first-child::after {align-self: flex-end;width: 50%;}#sk-container-id-4 div.sk-parallel-item:last-child::after {align-self: flex-start;width: 50%;}#sk-container-id-4 div.sk-parallel-item:only-child::after {width: 0;}#sk-container-id-4 div.sk-dashed-wrapped {border: 1px dashed gray;margin: 0 0.4em 0.5em 0.4em;box-sizing: border-box;padding-bottom: 0.4em;background-color: white;}#sk-container-id-4 div.sk-label label {font-family: monospace;font-weight: bold;display: inline-block;line-height: 1.2em;}#sk-container-id-4 div.sk-label-container {text-align: center;}#sk-container-id-4 div.sk-container {/* jupyter's `normalize.less` sets `[hidden] { display: none; }` but bootstrap.min.css set `[hidden] { display: none !important; }` so we also need the `!important` here to be able to override the default hidden behavior on the sphinx rendered scikit-learn.org. See: https://github.com/scikit-learn/scikit-learn/issues/21755 */display: inline-block !important;position: relative;}#sk-container-id-4 div.sk-text-repr-fallback {display: none;}</style><div id=\"sk-container-id-4\" class=\"sk-top-container\"><div class=\"sk-text-repr-fallback\"><pre>BorutaPy(estimator=RandomForestClassifier(class_weight=&#x27;balanced&#x27;, max_depth=5,\n",
       "                                          n_estimators=193, n_jobs=-1,\n",
       "                                          random_state=RandomState(MT19937) at 0x1BC734BF140),\n",
       "         n_estimators=&#x27;auto&#x27;,\n",
       "         random_state=RandomState(MT19937) at 0x1BC734BF140, verbose=2)</pre><b>In a Jupyter environment, please rerun this cell to show the HTML representation or trust the notebook. <br />On GitHub, the HTML representation is unable to render, please try loading this page with nbviewer.org.</b></div><div class=\"sk-container\" hidden><div class=\"sk-item sk-dashed-wrapped\"><div class=\"sk-label-container\"><div class=\"sk-label sk-toggleable\"><input class=\"sk-toggleable__control sk-hidden--visually\" id=\"sk-estimator-id-10\" type=\"checkbox\" ><label for=\"sk-estimator-id-10\" class=\"sk-toggleable__label sk-toggleable__label-arrow\">BorutaPy</label><div class=\"sk-toggleable__content\"><pre>BorutaPy(estimator=RandomForestClassifier(class_weight=&#x27;balanced&#x27;, max_depth=5,\n",
       "                                          n_estimators=193, n_jobs=-1,\n",
       "                                          random_state=RandomState(MT19937) at 0x1BC734BF140),\n",
       "         n_estimators=&#x27;auto&#x27;,\n",
       "         random_state=RandomState(MT19937) at 0x1BC734BF140, verbose=2)</pre></div></div></div><div class=\"sk-parallel\"><div class=\"sk-parallel-item\"><div class=\"sk-item\"><div class=\"sk-label-container\"><div class=\"sk-label sk-toggleable\"><input class=\"sk-toggleable__control sk-hidden--visually\" id=\"sk-estimator-id-11\" type=\"checkbox\" ><label for=\"sk-estimator-id-11\" class=\"sk-toggleable__label sk-toggleable__label-arrow\">estimator: RandomForestClassifier</label><div class=\"sk-toggleable__content\"><pre>RandomForestClassifier(class_weight=&#x27;balanced&#x27;, max_depth=5, n_estimators=193,\n",
       "                       n_jobs=-1,\n",
       "                       random_state=RandomState(MT19937) at 0x1BC734BF140)</pre></div></div></div><div class=\"sk-serial\"><div class=\"sk-item\"><div class=\"sk-estimator sk-toggleable\"><input class=\"sk-toggleable__control sk-hidden--visually\" id=\"sk-estimator-id-12\" type=\"checkbox\" ><label for=\"sk-estimator-id-12\" class=\"sk-toggleable__label sk-toggleable__label-arrow\">RandomForestClassifier</label><div class=\"sk-toggleable__content\"><pre>RandomForestClassifier(class_weight=&#x27;balanced&#x27;, max_depth=5, n_estimators=193,\n",
       "                       n_jobs=-1,\n",
       "                       random_state=RandomState(MT19937) at 0x1BC734BF140)</pre></div></div></div></div></div></div></div></div></div></div>"
      ],
      "text/plain": [
       "BorutaPy(estimator=RandomForestClassifier(class_weight='balanced', max_depth=5,\n",
       "                                          n_estimators=193, n_jobs=-1,\n",
       "                                          random_state=RandomState(MT19937) at 0x1BC734BF140),\n",
       "         n_estimators='auto',\n",
       "         random_state=RandomState(MT19937) at 0x1BC734BF140, verbose=2)"
      ]
     },
     "execution_count": 218,
     "metadata": {},
     "output_type": "execute_result"
    }
   ],
   "source": [
    "feat_selector.fit(np.array(X), y)"
   ]
  },
  {
   "cell_type": "code",
   "execution_count": 219,
   "id": "82c8863f",
   "metadata": {},
   "outputs": [
    {
     "name": "stdout",
     "output_type": "stream",
     "text": [
      "Number of selected features:  33\n"
     ]
    }
   ],
   "source": [
    "print(\"Number of selected features: \", feat_selector.n_features_)"
   ]
  },
  {
   "cell_type": "code",
   "execution_count": 220,
   "id": "732e41b3",
   "metadata": {
    "scrolled": true
   },
   "outputs": [
    {
     "data": {
      "text/plain": [
       "Index(['Freq.1399.46591504505', 'Freq.1522.99914751846',\n",
       "       'Freq.1715.83254187774', 'Freq.1740.12061901788',\n",
       "       'Freq.1794.21713030157', 'Freq.2032.98713905056',\n",
       "       'Freq.2100.44990262345', 'Freq.2182.54012190969',\n",
       "       'Freq.2187.26929655148', 'Freq.2241.01398322552',\n",
       "       'Freq.2461.57721259156', 'Freq.2822.17822957638',\n",
       "       'Freq.2981.05105455515', 'Freq.3083.87231952593',\n",
       "       'Freq.3795.45160708473', 'Freq.3983.61553339652',\n",
       "       'Freq.4266.97846896688', 'Freq.4283.95182164633',\n",
       "       'Freq.4307.03317519015', 'Freq.4395.11277752994',\n",
       "       'Freq.4495.09063766933', 'Freq.4659.55667096198',\n",
       "       'Freq.4802.98802524845', 'Freq.4823.08140765752',\n",
       "       'Freq.5084.14952111257', 'Freq.5224.84719303067',\n",
       "       'Freq.5272.6322523475', 'Freq.5433.53206707083',\n",
       "       'Freq.5485.69282171011', 'Freq.5720.79450801948',\n",
       "       'Freq.7738.2889532685', 'Freq.8943.8000787644', 'Freq.9098.3102509794'],\n",
       "      dtype='object')"
      ]
     },
     "execution_count": 220,
     "metadata": {},
     "output_type": "execute_result"
    }
   ],
   "source": [
    "# Best Features (accord to Boruta)\n",
    "X.columns[feat_selector.support_]"
   ]
  },
  {
   "cell_type": "code",
   "execution_count": 221,
   "id": "89cd78e5",
   "metadata": {},
   "outputs": [],
   "source": [
    "# Filter most importante features\n",
    "X_transform = feat_selector.transform(np.array(X))"
   ]
  },
  {
   "cell_type": "code",
   "execution_count": 222,
   "id": "c23a5f03",
   "metadata": {},
   "outputs": [],
   "source": [
    "# Define objectiva funtion to maximize metric\n",
    "def objective(trial):\n",
    "    \n",
    "    # List scalers to chose from\n",
    "    scalers = trial.suggest_categorical(\"scalers\", ['minmax', 'standard', 'robust'])\n",
    "    # Define scalers\n",
    "    if scalers == \"minmax\":\n",
    "        scaler = MinMaxScaler()\n",
    "    elif scalers == \"standard\":\n",
    "        scaler = StandardScaler()\n",
    "    else:\n",
    "        scaler = RobustScaler()\n",
    "    # LGBM Hyper Parameter Grid\n",
    "    param = {\n",
    "        \"objective\": \"binary\",\n",
    "        \"metric\": \"binary_logloss\",\n",
    "        \"verbosity\": -1,\n",
    "        \"boosting_type\": \"gbdt\",\n",
    "        \"lambda_l1\": trial.suggest_float(\"lambda_l1\", 1e-8, 10.0, log=True),\n",
    "        \"lambda_l2\": trial.suggest_float(\"lambda_l2\", 1e-8, 10.0, log=True),\n",
    "        \"num_leaves\": trial.suggest_int(\"num_leaves\", 2, 256),\n",
    "        \"feature_fraction\": trial.suggest_float(\"feature_fraction\", 0.4, 1.0),\n",
    "        \"bagging_fraction\": trial.suggest_float(\"bagging_fraction\", 0.4, 1.0),\n",
    "        \"bagging_freq\": trial.suggest_int(\"bagging_freq\", 1, 7),\n",
    "        \"min_child_samples\": trial.suggest_int(\"min_child_samples\", 5, 100),\n",
    "        \"n_estimators\": trial.suggest_int(\"max_depth\", 100, 1000)\n",
    "    }\n",
    "    # Create model pipeline with param trial\n",
    "    clf = Pipeline([(\"scaler\", scaler),\n",
    "                    (\"lgbm_clf\", lgb.LGBMClassifier(random_state=SEED, **param))])\n",
    "    # Get CV Metric we want to maximize\n",
    "    balanced_accuracy = np.mean(cross_val_score(clf, X_transform, y, scoring=metric_scorer, cv=rkf, n_jobs=-1))\n",
    "    \n",
    "    return balanced_accuracy"
   ]
  },
  {
   "cell_type": "code",
   "execution_count": 223,
   "id": "4623ad8b",
   "metadata": {},
   "outputs": [
    {
     "name": "stderr",
     "output_type": "stream",
     "text": [
      "\u001b[32m[I 2022-06-24 00:05:09,001]\u001b[0m A new study created in memory with name: no-name-7e03f0db-a45d-43fa-aeb6-3eaeb5815ff6\u001b[0m\n"
     ]
    }
   ],
   "source": [
    "study = optuna.create_study(direction=\"maximize\")"
   ]
  },
  {
   "cell_type": "code",
   "execution_count": 224,
   "id": "c5b8c6fc",
   "metadata": {
    "scrolled": true
   },
   "outputs": [
    {
     "name": "stderr",
     "output_type": "stream",
     "text": [
      "\u001b[32m[I 2022-06-24 00:07:07,780]\u001b[0m Trial 0 finished with value: 0.5 and parameters: {'scalers': 'standard', 'lambda_l1': 1.736164714022951e-05, 'lambda_l2': 0.0008744806520391302, 'num_leaves': 186, 'feature_fraction': 0.8593730467230957, 'bagging_fraction': 0.7039252573471362, 'bagging_freq': 5, 'min_child_samples': 67, 'max_depth': 291}. Best is trial 0 with value: 0.5.\u001b[0m\n",
      "\u001b[32m[I 2022-06-24 00:07:08,583]\u001b[0m Trial 1 finished with value: 0.8603665093506424 and parameters: {'scalers': 'standard', 'lambda_l1': 0.008622697977459544, 'lambda_l2': 6.208314622454566e-08, 'num_leaves': 184, 'feature_fraction': 0.701051773780067, 'bagging_fraction': 0.4008763757819356, 'bagging_freq': 1, 'min_child_samples': 20, 'max_depth': 476}. Best is trial 1 with value: 0.8603665093506424.\u001b[0m\n",
      "\u001b[32m[I 2022-06-24 00:07:09,649]\u001b[0m Trial 2 finished with value: 0.8380926025728658 and parameters: {'scalers': 'robust', 'lambda_l1': 0.17266781673396256, 'lambda_l2': 1.059988995841295e-07, 'num_leaves': 30, 'feature_fraction': 0.4782330732554823, 'bagging_fraction': 0.8679327715868501, 'bagging_freq': 4, 'min_child_samples': 12, 'max_depth': 623}. Best is trial 1 with value: 0.8603665093506424.\u001b[0m\n",
      "\u001b[32m[I 2022-06-24 00:07:09,904]\u001b[0m Trial 3 finished with value: 0.5 and parameters: {'scalers': 'standard', 'lambda_l1': 6.509926329664965e-06, 'lambda_l2': 6.0652625246395155, 'num_leaves': 57, 'feature_fraction': 0.6371961699598895, 'bagging_fraction': 0.47940200187684867, 'bagging_freq': 3, 'min_child_samples': 98, 'max_depth': 380}. Best is trial 1 with value: 0.8603665093506424.\u001b[0m\n",
      "\u001b[32m[I 2022-06-24 00:07:10,157]\u001b[0m Trial 4 finished with value: 0.5 and parameters: {'scalers': 'minmax', 'lambda_l1': 3.169984271664124e-07, 'lambda_l2': 1.381873180012764, 'num_leaves': 55, 'feature_fraction': 0.8658168161773243, 'bagging_fraction': 0.8639575806748749, 'bagging_freq': 2, 'min_child_samples': 97, 'max_depth': 377}. Best is trial 1 with value: 0.8603665093506424.\u001b[0m\n",
      "\u001b[32m[I 2022-06-24 00:07:10,774]\u001b[0m Trial 5 finished with value: 0.8392867121268826 and parameters: {'scalers': 'robust', 'lambda_l1': 1.2319365069121307e-05, 'lambda_l2': 2.3978055924296457e-06, 'num_leaves': 5, 'feature_fraction': 0.6455737003156208, 'bagging_fraction': 0.8843379899898121, 'bagging_freq': 4, 'min_child_samples': 48, 'max_depth': 248}. Best is trial 1 with value: 0.8603665093506424.\u001b[0m\n",
      "\u001b[32m[I 2022-06-24 00:07:11,152]\u001b[0m Trial 6 finished with value: 0.5 and parameters: {'scalers': 'minmax', 'lambda_l1': 1.0657251232697843e-05, 'lambda_l2': 1.0369942047110104e-06, 'num_leaves': 106, 'feature_fraction': 0.5660397743620948, 'bagging_fraction': 0.824759084497864, 'bagging_freq': 2, 'min_child_samples': 91, 'max_depth': 679}. Best is trial 1 with value: 0.8603665093506424.\u001b[0m\n",
      "\u001b[32m[I 2022-06-24 00:07:11,483]\u001b[0m Trial 7 finished with value: 0.5 and parameters: {'scalers': 'standard', 'lambda_l1': 9.578826758264792e-07, 'lambda_l2': 2.352121899105369e-06, 'num_leaves': 203, 'feature_fraction': 0.7442096579891508, 'bagging_fraction': 0.5197630429364497, 'bagging_freq': 5, 'min_child_samples': 63, 'max_depth': 680}. Best is trial 1 with value: 0.8603665093506424.\u001b[0m\n",
      "\u001b[32m[I 2022-06-24 00:07:11,886]\u001b[0m Trial 8 finished with value: 0.5 and parameters: {'scalers': 'robust', 'lambda_l1': 0.1144987925662897, 'lambda_l2': 2.3940412912514433e-05, 'num_leaves': 137, 'feature_fraction': 0.6550876867628898, 'bagging_fraction': 0.9764580192387364, 'bagging_freq': 1, 'min_child_samples': 74, 'max_depth': 478}. Best is trial 1 with value: 0.8603665093506424.\u001b[0m\n",
      "\u001b[32m[I 2022-06-24 00:07:12,407]\u001b[0m Trial 9 finished with value: 0.5 and parameters: {'scalers': 'robust', 'lambda_l1': 0.6460726717787743, 'lambda_l2': 0.23352307790399687, 'num_leaves': 159, 'feature_fraction': 0.7839972540262903, 'bagging_fraction': 0.7312417964726514, 'bagging_freq': 6, 'min_child_samples': 78, 'max_depth': 734}. Best is trial 1 with value: 0.8603665093506424.\u001b[0m\n",
      "\u001b[32m[I 2022-06-24 00:07:15,304]\u001b[0m Trial 10 finished with value: 0.8438319695225656 and parameters: {'scalers': 'standard', 'lambda_l1': 0.005064843981926774, 'lambda_l2': 1.1040260078558532e-08, 'num_leaves': 254, 'feature_fraction': 0.9952604132029694, 'bagging_fraction': 0.4092209266060232, 'bagging_freq': 7, 'min_child_samples': 7, 'max_depth': 861}. Best is trial 1 with value: 0.8603665093506424.\u001b[0m\n",
      "\u001b[32m[I 2022-06-24 00:07:17,373]\u001b[0m Trial 11 finished with value: 0.8492340169505417 and parameters: {'scalers': 'standard', 'lambda_l1': 0.003034694896594789, 'lambda_l2': 1.1859330896041522e-08, 'num_leaves': 249, 'feature_fraction': 0.9776052783606215, 'bagging_fraction': 0.4110923249104329, 'bagging_freq': 7, 'min_child_samples': 9, 'max_depth': 990}. Best is trial 1 with value: 0.8603665093506424.\u001b[0m\n",
      "\u001b[32m[I 2022-06-24 00:07:19,054]\u001b[0m Trial 12 finished with value: 0.8517586575576126 and parameters: {'scalers': 'standard', 'lambda_l1': 0.001444519804948675, 'lambda_l2': 0.000784110686642007, 'num_leaves': 253, 'feature_fraction': 0.9952583047061905, 'bagging_fraction': 0.5759427832914336, 'bagging_freq': 7, 'min_child_samples': 27, 'max_depth': 934}. Best is trial 1 with value: 0.8603665093506424.\u001b[0m\n",
      "\u001b[32m[I 2022-06-24 00:07:19,568]\u001b[0m Trial 13 finished with value: 0.8077760758333514 and parameters: {'scalers': 'standard', 'lambda_l1': 0.0008061866379070965, 'lambda_l2': 0.0017065800199425399, 'num_leaves': 208, 'feature_fraction': 0.40263331460992413, 'bagging_fraction': 0.5795934971799582, 'bagging_freq': 1, 'min_child_samples': 34, 'max_depth': 513}. Best is trial 1 with value: 0.8603665093506424.\u001b[0m\n",
      "\u001b[32m[I 2022-06-24 00:07:21,118]\u001b[0m Trial 14 finished with value: 0.8484466460397188 and parameters: {'scalers': 'standard', 'lambda_l1': 0.02255737905989004, 'lambda_l2': 0.015802019781986167, 'num_leaves': 222, 'feature_fraction': 0.8973237405306845, 'bagging_fraction': 0.6081989389260329, 'bagging_freq': 3, 'min_child_samples': 29, 'max_depth': 867}. Best is trial 1 with value: 0.8603665093506424.\u001b[0m\n",
      "\u001b[32m[I 2022-06-24 00:07:21,526]\u001b[0m Trial 15 finished with value: 0.7313480892172841 and parameters: {'scalers': 'standard', 'lambda_l1': 4.618776781886777, 'lambda_l2': 0.00010889830856074624, 'num_leaves': 168, 'feature_fraction': 0.5531365510825486, 'bagging_fraction': 0.6180409110488793, 'bagging_freq': 5, 'min_child_samples': 27, 'max_depth': 105}. Best is trial 1 with value: 0.8603665093506424.\u001b[0m\n",
      "\u001b[32m[I 2022-06-24 00:07:22,172]\u001b[0m Trial 16 finished with value: 0.5 and parameters: {'scalers': 'minmax', 'lambda_l1': 0.00021935064987637344, 'lambda_l2': 0.0174342318672771, 'num_leaves': 102, 'feature_fraction': 0.7788008328064288, 'bagging_fraction': 0.5131053304473718, 'bagging_freq': 6, 'min_child_samples': 37, 'max_depth': 829}. Best is trial 1 with value: 0.8603665093506424.\u001b[0m\n",
      "\u001b[32m[I 2022-06-24 00:07:23,402]\u001b[0m Trial 17 finished with value: 0.8567213141820339 and parameters: {'scalers': 'standard', 'lambda_l1': 3.851602033735836e-08, 'lambda_l2': 3.427910843541609e-05, 'num_leaves': 230, 'feature_fraction': 0.9323862052815999, 'bagging_fraction': 0.46149594798750776, 'bagging_freq': 3, 'min_child_samples': 19, 'max_depth': 567}. Best is trial 1 with value: 0.8603665093506424.\u001b[0m\n",
      "\u001b[32m[I 2022-06-24 00:07:24,586]\u001b[0m Trial 18 finished with value: 0.8606703089007656 and parameters: {'scalers': 'standard', 'lambda_l1': 1.0003785412147557e-07, 'lambda_l2': 2.75719880997728e-05, 'num_leaves': 224, 'feature_fraction': 0.9179869533937852, 'bagging_fraction': 0.46165892042404894, 'bagging_freq': 2, 'min_child_samples': 19, 'max_depth': 555}. Best is trial 18 with value: 0.8606703089007656.\u001b[0m\n",
      "\u001b[32m[I 2022-06-24 00:07:25,036]\u001b[0m Trial 19 finished with value: 0.5 and parameters: {'scalers': 'minmax', 'lambda_l1': 1.1794891969107235e-08, 'lambda_l2': 1.768688055941263e-07, 'num_leaves': 179, 'feature_fraction': 0.7223422262853032, 'bagging_fraction': 0.4001667964358865, 'bagging_freq': 2, 'min_child_samples': 50, 'max_depth': 401}. Best is trial 18 with value: 0.8606703089007656.\u001b[0m\n",
      "\u001b[32m[I 2022-06-24 00:07:25,563]\u001b[0m Trial 20 finished with value: 0.5 and parameters: {'scalers': 'standard', 'lambda_l1': 0.00014899877925831314, 'lambda_l2': 9.286325097551353e-06, 'num_leaves': 138, 'feature_fraction': 0.81403337927251, 'bagging_fraction': 0.6499437011485907, 'bagging_freq': 1, 'min_child_samples': 42, 'max_depth': 463}. Best is trial 18 with value: 0.8606703089007656.\u001b[0m\n"
     ]
    },
    {
     "name": "stderr",
     "output_type": "stream",
     "text": [
      "\u001b[32m[I 2022-06-24 00:07:27,143]\u001b[0m Trial 21 finished with value: 0.8489316654063171 and parameters: {'scalers': 'standard', 'lambda_l1': 1.402975481383046e-08, 'lambda_l2': 9.991701764028775e-05, 'num_leaves': 225, 'feature_fraction': 0.9238790545409372, 'bagging_fraction': 0.47278969400458437, 'bagging_freq': 3, 'min_child_samples': 18, 'max_depth': 562}. Best is trial 18 with value: 0.8606703089007656.\u001b[0m\n",
      "\u001b[32m[I 2022-06-24 00:07:28,404]\u001b[0m Trial 22 finished with value: 0.8557324019289964 and parameters: {'scalers': 'standard', 'lambda_l1': 1.9395373152078576e-07, 'lambda_l2': 2.458075416311321e-07, 'num_leaves': 227, 'feature_fraction': 0.9393163921111374, 'bagging_fraction': 0.45858041879466954, 'bagging_freq': 2, 'min_child_samples': 18, 'max_depth': 556}. Best is trial 18 with value: 0.8606703089007656.\u001b[0m\n",
      "\u001b[32m[I 2022-06-24 00:07:29,803]\u001b[0m Trial 23 finished with value: 0.8553611502231858 and parameters: {'scalers': 'standard', 'lambda_l1': 1.023051122687271e-07, 'lambda_l2': 2.0728780087572496e-05, 'num_leaves': 193, 'feature_fraction': 0.8389468526132831, 'bagging_fraction': 0.5343935055104578, 'bagging_freq': 3, 'min_child_samples': 19, 'max_depth': 627}. Best is trial 18 with value: 0.8606703089007656.\u001b[0m\n",
      "\u001b[32m[I 2022-06-24 00:07:30,459]\u001b[0m Trial 24 finished with value: 0.870197741929553 and parameters: {'scalers': 'standard', 'lambda_l1': 5.494747364546605e-08, 'lambda_l2': 0.00014572317162946504, 'num_leaves': 157, 'feature_fraction': 0.9027758820014243, 'bagging_fraction': 0.46585057831065646, 'bagging_freq': 1, 'min_child_samples': 22, 'max_depth': 266}. Best is trial 24 with value: 0.870197741929553.\u001b[0m\n",
      "\u001b[32m[I 2022-06-24 00:07:31,359]\u001b[0m Trial 25 finished with value: 0.8546671948407629 and parameters: {'scalers': 'standard', 'lambda_l1': 1.107876141927431e-06, 'lambda_l2': 0.005361431445812196, 'num_leaves': 155, 'feature_fraction': 0.6922394894732329, 'bagging_fraction': 0.4433487881171508, 'bagging_freq': 1, 'min_child_samples': 5, 'max_depth': 176}. Best is trial 24 with value: 0.870197741929553.\u001b[0m\n",
      "\u001b[32m[I 2022-06-24 00:07:31,712]\u001b[0m Trial 26 finished with value: 0.5 and parameters: {'scalers': 'standard', 'lambda_l1': 1.9628882693659267e-06, 'lambda_l2': 0.00021256927606286288, 'num_leaves': 104, 'feature_fraction': 0.8896779344096196, 'bagging_fraction': 0.5507950379358706, 'bagging_freq': 1, 'min_child_samples': 42, 'max_depth': 304}. Best is trial 24 with value: 0.870197741929553.\u001b[0m\n",
      "\u001b[32m[I 2022-06-24 00:07:32,022]\u001b[0m Trial 27 finished with value: 0.5 and parameters: {'scalers': 'standard', 'lambda_l1': 7.489703511721787e-05, 'lambda_l2': 6.752471853103542e-08, 'num_leaves': 122, 'feature_fraction': 0.5926186666345028, 'bagging_fraction': 0.5028037941631556, 'bagging_freq': 2, 'min_child_samples': 58, 'max_depth': 433}. Best is trial 24 with value: 0.870197741929553.\u001b[0m\n",
      "\u001b[32m[I 2022-06-24 00:07:32,902]\u001b[0m Trial 28 finished with value: 0.8642196435530414 and parameters: {'scalers': 'robust', 'lambda_l1': 0.012301505681744818, 'lambda_l2': 0.08938777978301957, 'num_leaves': 147, 'feature_fraction': 0.8043945936733793, 'bagging_fraction': 0.6626990095305341, 'bagging_freq': 1, 'min_child_samples': 24, 'max_depth': 314}. Best is trial 24 with value: 0.870197741929553.\u001b[0m\n",
      "\u001b[32m[I 2022-06-24 00:07:33,658]\u001b[0m Trial 29 finished with value: 0.8517901522282326 and parameters: {'scalers': 'robust', 'lambda_l1': 5.8626647711603635e-05, 'lambda_l2': 0.09870030752303342, 'num_leaves': 85, 'feature_fraction': 0.8385335634755738, 'bagging_fraction': 0.6936990931549324, 'bagging_freq': 2, 'min_child_samples': 35, 'max_depth': 297}. Best is trial 24 with value: 0.870197741929553.\u001b[0m\n",
      "\u001b[32m[I 2022-06-24 00:07:34,415]\u001b[0m Trial 30 finished with value: 0.8643515542120419 and parameters: {'scalers': 'robust', 'lambda_l1': 4.519055018665948e-08, 'lambda_l2': 0.0007817372680010627, 'num_leaves': 149, 'feature_fraction': 0.7870269527673468, 'bagging_fraction': 0.6655763638979519, 'bagging_freq': 1, 'min_child_samples': 25, 'max_depth': 244}. Best is trial 24 with value: 0.870197741929553.\u001b[0m\n",
      "\u001b[32m[I 2022-06-24 00:07:35,124]\u001b[0m Trial 31 finished with value: 0.8617745817563929 and parameters: {'scalers': 'robust', 'lambda_l1': 7.354756162251421e-08, 'lambda_l2': 0.0007455891672826197, 'num_leaves': 150, 'feature_fraction': 0.7835570262433132, 'bagging_fraction': 0.7374474373908706, 'bagging_freq': 1, 'min_child_samples': 28, 'max_depth': 213}. Best is trial 24 with value: 0.870197741929553.\u001b[0m\n",
      "\u001b[32m[I 2022-06-24 00:07:35,875]\u001b[0m Trial 32 finished with value: 0.8596935850527181 and parameters: {'scalers': 'robust', 'lambda_l1': 4.130457350181997e-07, 'lambda_l2': 0.00153755543552913, 'num_leaves': 149, 'feature_fraction': 0.7805095159248694, 'bagging_fraction': 0.7619747822125202, 'bagging_freq': 1, 'min_child_samples': 27, 'max_depth': 223}. Best is trial 24 with value: 0.870197741929553.\u001b[0m\n",
      "\u001b[32m[I 2022-06-24 00:07:36,581]\u001b[0m Trial 33 finished with value: 0.8451264059083331 and parameters: {'scalers': 'robust', 'lambda_l1': 2.7325707077574872e-08, 'lambda_l2': 0.1032147476064063, 'num_leaves': 122, 'feature_fraction': 0.8093275504799614, 'bagging_fraction': 0.6768627496192475, 'bagging_freq': 1, 'min_child_samples': 13, 'max_depth': 127}. Best is trial 24 with value: 0.870197741929553.\u001b[0m\n",
      "\u001b[32m[I 2022-06-24 00:07:37,446]\u001b[0m Trial 34 finished with value: 0.8600515000135743 and parameters: {'scalers': 'robust', 'lambda_l1': 0.02742124393460896, 'lambda_l2': 0.0005041424549460441, 'num_leaves': 175, 'feature_fraction': 0.7415248955204212, 'bagging_fraction': 0.7532844159361164, 'bagging_freq': 1, 'min_child_samples': 31, 'max_depth': 321}. Best is trial 24 with value: 0.870197741929553.\u001b[0m\n",
      "\u001b[32m[I 2022-06-24 00:07:38,104]\u001b[0m Trial 35 finished with value: 0.8508427868785842 and parameters: {'scalers': 'robust', 'lambda_l1': 2.350109938996877e-06, 'lambda_l2': 0.0049390418381380944, 'num_leaves': 134, 'feature_fraction': 0.8651569001966282, 'bagging_fraction': 0.787202476893567, 'bagging_freq': 2, 'min_child_samples': 41, 'max_depth': 227}. Best is trial 24 with value: 0.870197741929553.\u001b[0m\n",
      "\u001b[32m[I 2022-06-24 00:07:39,065]\u001b[0m Trial 36 finished with value: 0.8600257287002644 and parameters: {'scalers': 'robust', 'lambda_l1': 6.337731419512737e-08, 'lambda_l2': 0.5317104925881517, 'num_leaves': 147, 'feature_fraction': 0.7029191975016199, 'bagging_fraction': 0.7126711106192566, 'bagging_freq': 1, 'min_child_samples': 24, 'max_depth': 355}. Best is trial 24 with value: 0.870197741929553.\u001b[0m\n",
      "\u001b[32m[I 2022-06-24 00:07:40,102]\u001b[0m Trial 37 finished with value: 0.8531598673299524 and parameters: {'scalers': 'robust', 'lambda_l1': 3.898774767931857e-07, 'lambda_l2': 0.02511816767537853, 'num_leaves': 167, 'feature_fraction': 0.8269579614459925, 'bagging_fraction': 0.6526219646597586, 'bagging_freq': 4, 'min_child_samples': 13, 'max_depth': 257}. Best is trial 24 with value: 0.870197741929553.\u001b[0m\n",
      "\u001b[32m[I 2022-06-24 00:07:40,827]\u001b[0m Trial 38 finished with value: 0.8434163888227357 and parameters: {'scalers': 'robust', 'lambda_l1': 4.223443572697325e-06, 'lambda_l2': 1.4842172928430715, 'num_leaves': 76, 'feature_fraction': 0.8744129672792147, 'bagging_fraction': 0.8002126920688578, 'bagging_freq': 2, 'min_child_samples': 22, 'max_depth': 177}. Best is trial 24 with value: 0.870197741929553.\u001b[0m\n",
      "\u001b[32m[I 2022-06-24 00:07:41,654]\u001b[0m Trial 39 finished with value: 0.8511549199854153 and parameters: {'scalers': 'robust', 'lambda_l1': 2.290849418487612e-05, 'lambda_l2': 0.005497930044771929, 'num_leaves': 190, 'feature_fraction': 0.780798783894196, 'bagging_fraction': 0.6422961498908857, 'bagging_freq': 1, 'min_child_samples': 13, 'max_depth': 173}. Best is trial 24 with value: 0.870197741929553.\u001b[0m\n",
      "\u001b[32m[I 2022-06-24 00:07:42,529]\u001b[0m Trial 40 finished with value: 0.8490660531633829 and parameters: {'scalers': 'robust', 'lambda_l1': 0.2613620212250327, 'lambda_l2': 4.590588066414998, 'num_leaves': 117, 'feature_fraction': 0.7543053803644652, 'bagging_fraction': 0.9271294786995521, 'bagging_freq': 1, 'min_child_samples': 37, 'max_depth': 336}. Best is trial 24 with value: 0.870197741929553.\u001b[0m\n",
      "\u001b[32m[I 2022-06-24 00:07:43,473]\u001b[0m Trial 41 finished with value: 0.853227239629136 and parameters: {'scalers': 'robust', 'lambda_l1': 1.208239881746351e-07, 'lambda_l2': 0.00018516716519670655, 'num_leaves': 204, 'feature_fraction': 0.9111265921324095, 'bagging_fraction': 0.8237522467088141, 'bagging_freq': 2, 'min_child_samples': 24, 'max_depth': 258}. Best is trial 24 with value: 0.870197741929553.\u001b[0m\n"
     ]
    },
    {
     "name": "stderr",
     "output_type": "stream",
     "text": [
      "\u001b[32m[I 2022-06-24 00:07:43,881]\u001b[0m Trial 42 finished with value: 0.5 and parameters: {'scalers': 'minmax', 'lambda_l1': 4.016506692881616e-08, 'lambda_l2': 8.445820809561303e-06, 'num_leaves': 159, 'feature_fraction': 0.9554397718072419, 'bagging_fraction': 0.7313497446825487, 'bagging_freq': 1, 'min_child_samples': 46, 'max_depth': 401}. Best is trial 24 with value: 0.870197741929553.\u001b[0m\n",
      "\u001b[32m[I 2022-06-24 00:07:44,462]\u001b[0m Trial 43 finished with value: 0.8532307688656373 and parameters: {'scalers': 'robust', 'lambda_l1': 3.3006575930054615e-07, 'lambda_l2': 4.0587916862520554e-05, 'num_leaves': 144, 'feature_fraction': 0.8524526137899114, 'bagging_fraction': 0.6827111778722371, 'bagging_freq': 2, 'min_child_samples': 31, 'max_depth': 138}. Best is trial 24 with value: 0.870197741929553.\u001b[0m\n",
      "\u001b[32m[I 2022-06-24 00:07:45,844]\u001b[0m Trial 44 finished with value: 0.8565074724252356 and parameters: {'scalers': 'robust', 'lambda_l1': 1.718341135731164e-08, 'lambda_l2': 1.010455807137174e-06, 'num_leaves': 85, 'feature_fraction': 0.668753976926532, 'bagging_fraction': 0.5936708839803184, 'bagging_freq': 2, 'min_child_samples': 10, 'max_depth': 505}. Best is trial 24 with value: 0.870197741929553.\u001b[0m\n",
      "\u001b[32m[I 2022-06-24 00:07:46,203]\u001b[0m Trial 45 finished with value: 0.5 and parameters: {'scalers': 'robust', 'lambda_l1': 1.7054823946771134e-07, 'lambda_l2': 0.0003979138988648096, 'num_leaves': 10, 'feature_fraction': 0.9582459291409314, 'bagging_fraction': 0.49401085112742404, 'bagging_freq': 1, 'min_child_samples': 56, 'max_depth': 204}. Best is trial 24 with value: 0.870197741929553.\u001b[0m\n",
      "\u001b[32m[I 2022-06-24 00:07:46,931]\u001b[0m Trial 46 finished with value: 0.8560102568570062 and parameters: {'scalers': 'minmax', 'lambda_l1': 6.983376600032121e-08, 'lambda_l2': 0.0015510588774946253, 'num_leaves': 50, 'feature_fraction': 0.8017926659073336, 'bagging_fraction': 0.5455376506564289, 'bagging_freq': 1, 'min_child_samples': 16, 'max_depth': 273}. Best is trial 24 with value: 0.870197741929553.\u001b[0m\n",
      "\u001b[32m[I 2022-06-24 00:07:48,611]\u001b[0m Trial 47 finished with value: 0.8494140443534793 and parameters: {'scalers': 'robust', 'lambda_l1': 8.388969492617156e-07, 'lambda_l2': 4.747867986541471e-06, 'num_leaves': 166, 'feature_fraction': 0.8870670690143443, 'bagging_fraction': 0.8634352952106258, 'bagging_freq': 2, 'min_child_samples': 25, 'max_depth': 611}. Best is trial 24 with value: 0.870197741929553.\u001b[0m\n",
      "\u001b[32m[I 2022-06-24 00:07:49,108]\u001b[0m Trial 48 finished with value: 0.5 and parameters: {'scalers': 'robust', 'lambda_l1': 0.0005576249607276419, 'lambda_l2': 0.04194043616067221, 'num_leaves': 242, 'feature_fraction': 0.7565888907034329, 'bagging_fraction': 0.43747926798000447, 'bagging_freq': 1, 'min_child_samples': 87, 'max_depth': 720}. Best is trial 24 with value: 0.870197741929553.\u001b[0m\n",
      "\u001b[32m[I 2022-06-24 00:07:49,770]\u001b[0m Trial 49 finished with value: 0.8551928696303698 and parameters: {'scalers': 'standard', 'lambda_l1': 0.054348511025487045, 'lambda_l2': 0.0001010179311100194, 'num_leaves': 112, 'feature_fraction': 0.8563884339684116, 'bagging_fraction': 0.5664588341782267, 'bagging_freq': 3, 'min_child_samples': 31, 'max_depth': 364}. Best is trial 24 with value: 0.870197741929553.\u001b[0m\n",
      "\u001b[32m[I 2022-06-24 00:07:50,079]\u001b[0m Trial 50 finished with value: 0.5 and parameters: {'scalers': 'minmax', 'lambda_l1': 0.008959638311053899, 'lambda_l2': 4.975403599972329e-05, 'num_leaves': 181, 'feature_fraction': 0.7989636619130772, 'bagging_fraction': 0.6258109641682077, 'bagging_freq': 1, 'min_child_samples': 70, 'max_depth': 438}. Best is trial 24 with value: 0.870197741929553.\u001b[0m\n",
      "\u001b[32m[I 2022-06-24 00:07:50,750]\u001b[0m Trial 51 finished with value: 0.8626980896210772 and parameters: {'scalers': 'standard', 'lambda_l1': 1.1141341219876544, 'lambda_l2': 7.600766171654998e-07, 'num_leaves': 210, 'feature_fraction': 0.6356592941974576, 'bagging_fraction': 0.4378693562569831, 'bagging_freq': 1, 'min_child_samples': 21, 'max_depth': 288}. Best is trial 24 with value: 0.870197741929553.\u001b[0m\n",
      "\u001b[32m[I 2022-06-24 00:07:51,451]\u001b[0m Trial 52 finished with value: 0.840268098559507 and parameters: {'scalers': 'standard', 'lambda_l1': 2.2483198198093683, 'lambda_l2': 7.237589850374538e-07, 'num_leaves': 213, 'feature_fraction': 0.6129089862608406, 'bagging_fraction': 0.4859576197046587, 'bagging_freq': 1, 'min_child_samples': 21, 'max_depth': 284}. Best is trial 24 with value: 0.870197741929553.\u001b[0m\n",
      "\u001b[32m[I 2022-06-24 00:07:52,080]\u001b[0m Trial 53 finished with value: 0.8594007444009378 and parameters: {'scalers': 'standard', 'lambda_l1': 0.2793328733794188, 'lambda_l2': 3.0837612803537716e-08, 'num_leaves': 240, 'feature_fraction': 0.5102273917353392, 'bagging_fraction': 0.42723405711763296, 'bagging_freq': 2, 'min_child_samples': 15, 'max_depth': 201}. Best is trial 24 with value: 0.870197741929553.\u001b[0m\n",
      "\u001b[32m[I 2022-06-24 00:07:52,897]\u001b[0m Trial 54 finished with value: 0.8178066988481075 and parameters: {'scalers': 'standard', 'lambda_l1': 2.293098824720347, 'lambda_l2': 2.994992164985396e-06, 'num_leaves': 191, 'feature_fraction': 0.6263741895599026, 'bagging_fraction': 0.7273704276481082, 'bagging_freq': 1, 'min_child_samples': 7, 'max_depth': 328}. Best is trial 24 with value: 0.870197741929553.\u001b[0m\n",
      "\u001b[32m[I 2022-06-24 00:07:53,514]\u001b[0m Trial 55 finished with value: 0.8554919717365539 and parameters: {'scalers': 'standard', 'lambda_l1': 0.11020644796174814, 'lambda_l2': 1.5222088574115e-05, 'num_leaves': 133, 'feature_fraction': 0.7085197174870302, 'bagging_fraction': 0.5268630349846259, 'bagging_freq': 4, 'min_child_samples': 21, 'max_depth': 244}. Best is trial 24 with value: 0.870197741929553.\u001b[0m\n",
      "\u001b[32m[I 2022-06-24 00:07:54,360]\u001b[0m Trial 56 finished with value: 0.8453125203614755 and parameters: {'scalers': 'standard', 'lambda_l1': 0.9277151492407548, 'lambda_l2': 4.3467798643607953e-07, 'num_leaves': 213, 'feature_fraction': 0.5763299330564914, 'bagging_fraction': 0.997125807664132, 'bagging_freq': 1, 'min_child_samples': 34, 'max_depth': 396}. Best is trial 24 with value: 0.870197741929553.\u001b[0m\n",
      "\u001b[32m[I 2022-06-24 00:07:54,755]\u001b[0m Trial 57 finished with value: 0.5 and parameters: {'scalers': 'standard', 'lambda_l1': 7.534109990161559, 'lambda_l2': 0.0032503115817459596, 'num_leaves': 198, 'feature_fraction': 0.9721256748558155, 'bagging_fraction': 0.4228489742621019, 'bagging_freq': 2, 'min_child_samples': 28, 'max_depth': 137}. Best is trial 24 with value: 0.870197741929553.\u001b[0m\n",
      "\u001b[32m[I 2022-06-24 00:07:56,595]\u001b[0m Trial 58 finished with value: 0.8594430849078684 and parameters: {'scalers': 'robust', 'lambda_l1': 1.0350674778618228e-08, 'lambda_l2': 0.0007030935519426587, 'num_leaves': 158, 'feature_fraction': 0.7367425268402914, 'bagging_fraction': 0.45552144871147227, 'bagging_freq': 1, 'min_child_samples': 9, 'max_depth': 493}. Best is trial 24 with value: 0.870197741929553.\u001b[0m\n",
      "\u001b[32m[I 2022-06-24 00:07:58,209]\u001b[0m Trial 59 finished with value: 0.8530251177056517 and parameters: {'scalers': 'standard', 'lambda_l1': 0.008961353171608894, 'lambda_l2': 0.00020388938896998796, 'num_leaves': 172, 'feature_fraction': 0.6838608929723776, 'bagging_fraction': 0.6716872507338898, 'bagging_freq': 6, 'min_child_samples': 16, 'max_depth': 537}. Best is trial 24 with value: 0.870197741929553.\u001b[0m\n",
      "\u001b[32m[I 2022-06-24 00:07:58,572]\u001b[0m Trial 60 finished with value: 0.8109900548153258 and parameters: {'scalers': 'standard', 'lambda_l1': 0.0023662494901238325, 'lambda_l2': 5.58245893289922e-05, 'num_leaves': 235, 'feature_fraction': 0.6538370313581003, 'bagging_fraction': 0.4724328577507944, 'bagging_freq': 1, 'min_child_samples': 25, 'max_depth': 100}. Best is trial 24 with value: 0.870197741929553.\u001b[0m\n",
      "\u001b[32m[I 2022-06-24 00:07:59,496]\u001b[0m Trial 61 finished with value: 0.8609891930180243 and parameters: {'scalers': 'standard', 'lambda_l1': 3.298308873492863e-08, 'lambda_l2': 1.973065920191807e-07, 'num_leaves': 185, 'feature_fraction': 0.7222578568941882, 'bagging_fraction': 0.4129273643211652, 'bagging_freq': 1, 'min_child_samples': 21, 'max_depth': 600}. Best is trial 24 with value: 0.870197741929553.\u001b[0m\n",
      "\u001b[32m[I 2022-06-24 00:08:00,367]\u001b[0m Trial 62 finished with value: 0.8608321369248226 and parameters: {'scalers': 'standard', 'lambda_l1': 2.2260690508927362e-08, 'lambda_l2': 2.3229234875488646e-08, 'num_leaves': 217, 'feature_fraction': 0.7584660713107317, 'bagging_fraction': 0.4069678583118176, 'bagging_freq': 1, 'min_child_samples': 22, 'max_depth': 661}. Best is trial 24 with value: 0.870197741929553.\u001b[0m\n"
     ]
    },
    {
     "name": "stderr",
     "output_type": "stream",
     "text": [
      "\u001b[32m[I 2022-06-24 00:08:01,232]\u001b[0m Trial 63 finished with value: 0.8597860226074237 and parameters: {'scalers': 'standard', 'lambda_l1': 2.640054204056451e-08, 'lambda_l2': 2.10337760151054e-08, 'num_leaves': 184, 'feature_fraction': 0.7129508948932183, 'bagging_fraction': 0.4052925742915207, 'bagging_freq': 1, 'min_child_samples': 22, 'max_depth': 665}. Best is trial 24 with value: 0.870197741929553.\u001b[0m\n",
      "\u001b[32m[I 2022-06-24 00:08:01,819]\u001b[0m Trial 64 finished with value: 0.5 and parameters: {'scalers': 'standard', 'lambda_l1': 5.72724282074693e-08, 'lambda_l2': 1.6165174186927202e-07, 'num_leaves': 157, 'feature_fraction': 0.7290473533412141, 'bagging_fraction': 0.4385790711428784, 'bagging_freq': 1, 'min_child_samples': 32, 'max_depth': 750}. Best is trial 24 with value: 0.870197741929553.\u001b[0m\n",
      "\u001b[32m[I 2022-06-24 00:08:02,303]\u001b[0m Trial 65 finished with value: 0.5 and parameters: {'scalers': 'standard', 'lambda_l1': 2.358237908871582e-08, 'lambda_l2': 3.9888316362284076e-07, 'num_leaves': 142, 'feature_fraction': 0.7660029188288958, 'bagging_fraction': 0.411220452629425, 'bagging_freq': 1, 'min_child_samples': 29, 'max_depth': 590}. Best is trial 24 with value: 0.870197741929553.\u001b[0m\n",
      "\u001b[32m[I 2022-06-24 00:08:02,939]\u001b[0m Trial 66 finished with value: 0.5 and parameters: {'scalers': 'standard', 'lambda_l1': 2.039773571565502e-07, 'lambda_l2': 7.396181961805973e-08, 'num_leaves': 218, 'feature_fraction': 0.6806826566818918, 'bagging_fraction': 0.4478683749226236, 'bagging_freq': 2, 'min_child_samples': 39, 'max_depth': 785}. Best is trial 24 with value: 0.870197741929553.\u001b[0m\n",
      "\u001b[32m[I 2022-06-24 00:08:04,228]\u001b[0m Trial 67 finished with value: 0.8560099127094095 and parameters: {'scalers': 'minmax', 'lambda_l1': 7.97805791402606e-07, 'lambda_l2': 4.70571129376087e-08, 'num_leaves': 127, 'feature_fraction': 0.8162935389717905, 'bagging_fraction': 0.5000123711379078, 'bagging_freq': 1, 'min_child_samples': 17, 'max_depth': 655}. Best is trial 24 with value: 0.870197741929553.\u001b[0m\n",
      "\u001b[32m[I 2022-06-24 00:08:05,642]\u001b[0m Trial 68 finished with value: 0.855689382448477 and parameters: {'scalers': 'robust', 'lambda_l1': 5.760899712654041e-08, 'lambda_l2': 1.945835177891559e-08, 'num_leaves': 197, 'feature_fraction': 0.7725707401405348, 'bagging_fraction': 0.752941820116044, 'bagging_freq': 1, 'min_child_samples': 25, 'max_depth': 638}. Best is trial 24 with value: 0.870197741929553.\u001b[0m\n",
      "\u001b[32m[I 2022-06-24 00:08:06,203]\u001b[0m Trial 69 finished with value: 0.5 and parameters: {'scalers': 'standard', 'lambda_l1': 2.0317369999356968e-08, 'lambda_l2': 1.7612323261449982e-06, 'num_leaves': 152, 'feature_fraction': 0.5380967627371596, 'bagging_fraction': 0.7077616989010284, 'bagging_freq': 5, 'min_child_samples': 46, 'max_depth': 693}. Best is trial 24 with value: 0.870197741929553.\u001b[0m\n",
      "\u001b[32m[I 2022-06-24 00:08:07,000]\u001b[0m Trial 70 finished with value: 0.8635289341291664 and parameters: {'scalers': 'robust', 'lambda_l1': 1.0400539499019793e-08, 'lambda_l2': 0.009795553462048724, 'num_leaves': 166, 'feature_fraction': 0.7913180646399762, 'bagging_fraction': 0.4180599907741745, 'bagging_freq': 2, 'min_child_samples': 19, 'max_depth': 307}. Best is trial 24 with value: 0.870197741929553.\u001b[0m\n",
      "\u001b[32m[I 2022-06-24 00:08:07,483]\u001b[0m Trial 71 finished with value: 0.57279690298092 and parameters: {'scalers': 'robust', 'lambda_l1': 1.163758906007035e-08, 'lambda_l2': 0.07026565438449264, 'num_leaves': 167, 'feature_fraction': 0.8327384849729237, 'bagging_fraction': 0.41530790840443743, 'bagging_freq': 1, 'min_child_samples': 28, 'max_depth': 304}. Best is trial 24 with value: 0.870197741929553.\u001b[0m\n",
      "\u001b[32m[I 2022-06-24 00:08:08,145]\u001b[0m Trial 72 finished with value: 0.8635597495255003 and parameters: {'scalers': 'robust', 'lambda_l1': 2.968415856861379e-08, 'lambda_l2': 0.00325388783497051, 'num_leaves': 175, 'feature_fraction': 0.7925825216270597, 'bagging_fraction': 0.4000479976550446, 'bagging_freq': 1, 'min_child_samples': 19, 'max_depth': 233}. Best is trial 24 with value: 0.870197741929553.\u001b[0m\n",
      "\u001b[32m[I 2022-06-24 00:08:08,971]\u001b[0m Trial 73 finished with value: 0.857797040206096 and parameters: {'scalers': 'robust', 'lambda_l1': 1.1749026703248291e-07, 'lambda_l2': 0.009389960989472191, 'num_leaves': 179, 'feature_fraction': 0.793738334999135, 'bagging_fraction': 0.46684394186042366, 'bagging_freq': 2, 'min_child_samples': 12, 'max_depth': 236}. Best is trial 24 with value: 0.870197741929553.\u001b[0m\n",
      "\u001b[32m[I 2022-06-24 00:08:09,589]\u001b[0m Trial 74 finished with value: 0.865196175513513 and parameters: {'scalers': 'robust', 'lambda_l1': 3.579840275744827e-08, 'lambda_l2': 0.0010357195771412365, 'num_leaves': 174, 'feature_fraction': 0.8205018997239878, 'bagging_fraction': 0.4277445814754276, 'bagging_freq': 1, 'min_child_samples': 20, 'max_depth': 206}. Best is trial 24 with value: 0.870197741929553.\u001b[0m\n",
      "\u001b[32m[I 2022-06-24 00:08:10,231]\u001b[0m Trial 75 finished with value: 0.8699430716557265 and parameters: {'scalers': 'robust', 'lambda_l1': 4.191887572967579e-08, 'lambda_l2': 0.0020061027206336123, 'num_leaves': 162, 'feature_fraction': 0.8193975772883686, 'bagging_fraction': 0.4314029032189592, 'bagging_freq': 2, 'min_child_samples': 18, 'max_depth': 201}. Best is trial 24 with value: 0.870197741929553.\u001b[0m\n",
      "\u001b[32m[I 2022-06-24 00:08:10,844]\u001b[0m Trial 76 finished with value: 0.8570834742527853 and parameters: {'scalers': 'robust', 'lambda_l1': 2.4776853770293135e-07, 'lambda_l2': 0.34631459583793284, 'num_leaves': 162, 'feature_fraction': 0.8487357142029457, 'bagging_fraction': 0.42956775485603726, 'bagging_freq': 3, 'min_child_samples': 18, 'max_depth': 180}. Best is trial 24 with value: 0.870197741929553.\u001b[0m\n",
      "\u001b[32m[I 2022-06-24 00:08:11,575]\u001b[0m Trial 77 finished with value: 0.8501671159078279 and parameters: {'scalers': 'robust', 'lambda_l1': 5.443927423732843e-07, 'lambda_l2': 0.013545431428039156, 'num_leaves': 172, 'feature_fraction': 0.8218296734975475, 'bagging_fraction': 0.47969814634385616, 'bagging_freq': 2, 'min_child_samples': 10, 'max_depth': 160}. Best is trial 24 with value: 0.870197741929553.\u001b[0m\n",
      "\u001b[32m[I 2022-06-24 00:08:12,908]\u001b[0m Trial 78 finished with value: 0.8469702445602213 and parameters: {'scalers': 'robust', 'lambda_l1': 3.518825367004681e-08, 'lambda_l2': 0.002137753747307209, 'num_leaves': 144, 'feature_fraction': 0.8772933145096906, 'bagging_fraction': 0.507453295314614, 'bagging_freq': 3, 'min_child_samples': 5, 'max_depth': 281}. Best is trial 24 with value: 0.870197741929553.\u001b[0m\n",
      "\u001b[32m[I 2022-06-24 00:08:13,807]\u001b[0m Trial 79 finished with value: 0.860536409389544 and parameters: {'scalers': 'robust', 'lambda_l1': 1.332280853243933e-07, 'lambda_l2': 0.023894340099353723, 'num_leaves': 127, 'feature_fraction': 0.7912545424361457, 'bagging_fraction': 0.4443236110601707, 'bagging_freq': 2, 'min_child_samples': 15, 'max_depth': 344}. Best is trial 24 with value: 0.870197741929553.\u001b[0m\n",
      "\u001b[32m[I 2022-06-24 00:08:14,390]\u001b[0m Trial 80 finished with value: 0.8537951188388496 and parameters: {'scalers': 'robust', 'lambda_l1': 0.02208795171321944, 'lambda_l2': 0.0010340890016378602, 'num_leaves': 139, 'feature_fraction': 0.8426117433715395, 'bagging_fraction': 0.4286690229177714, 'bagging_freq': 2, 'min_child_samples': 24, 'max_depth': 261}. Best is trial 24 with value: 0.870197741929553.\u001b[0m\n",
      "\u001b[32m[I 2022-06-24 00:08:15,191]\u001b[0m Trial 81 finished with value: 0.8624030798063306 and parameters: {'scalers': 'robust', 'lambda_l1': 8.698938154262608e-08, 'lambda_l2': 0.0037519961540164277, 'num_leaves': 151, 'feature_fraction': 0.4045399409763109, 'bagging_fraction': 0.4578935364017515, 'bagging_freq': 1, 'min_child_samples': 19, 'max_depth': 211}. Best is trial 24 with value: 0.870197741929553.\u001b[0m\n",
      "\u001b[32m[I 2022-06-24 00:08:15,880]\u001b[0m Trial 82 finished with value: 0.8593948282539613 and parameters: {'scalers': 'robust', 'lambda_l1': 4.408523636746009e-08, 'lambda_l2': 0.007981112429285132, 'num_leaves': 150, 'feature_fraction': 0.40532137878588836, 'bagging_fraction': 0.4545371510996118, 'bagging_freq': 1, 'min_child_samples': 19, 'max_depth': 217}. Best is trial 24 with value: 0.870197741929553.\u001b[0m\n",
      "\u001b[32m[I 2022-06-24 00:08:16,866]\u001b[0m Trial 83 finished with value: 0.8515548164425875 and parameters: {'scalers': 'robust', 'lambda_l1': 1.012183787209079e-08, 'lambda_l2': 0.002913210501869218, 'num_leaves': 163, 'feature_fraction': 0.4433542348990592, 'bagging_fraction': 0.4859720807786043, 'bagging_freq': 1, 'min_child_samples': 13, 'max_depth': 193}. Best is trial 24 with value: 0.870197741929553.\u001b[0m\n"
     ]
    },
    {
     "name": "stderr",
     "output_type": "stream",
     "text": [
      "\u001b[32m[I 2022-06-24 00:08:18,053]\u001b[0m Trial 84 finished with value: 0.8640526208182941 and parameters: {'scalers': 'robust', 'lambda_l1': 8.569444484836788e-08, 'lambda_l2': 0.003779939269437846, 'num_leaves': 175, 'feature_fraction': 0.48316712380251475, 'bagging_fraction': 0.5208280746556682, 'bagging_freq': 1, 'min_child_samples': 19, 'max_depth': 309}. Best is trial 24 with value: 0.870197741929553.\u001b[0m\n",
      "\u001b[32m[I 2022-06-24 00:08:18,612]\u001b[0m Trial 85 finished with value: 0.7416672635500035 and parameters: {'scalers': 'robust', 'lambda_l1': 1.5643004554794204e-08, 'lambda_l2': 0.001078940432489709, 'num_leaves': 176, 'feature_fraction': 0.9055578204624273, 'bagging_fraction': 0.40177537631439764, 'bagging_freq': 1, 'min_child_samples': 26, 'max_depth': 311}. Best is trial 24 with value: 0.870197741929553.\u001b[0m\n",
      "\u001b[32m[I 2022-06-24 00:08:19,400]\u001b[0m Trial 86 finished with value: 0.8526485367702473 and parameters: {'scalers': 'robust', 'lambda_l1': 4.340889648922245e-08, 'lambda_l2': 0.0516618407255378, 'num_leaves': 170, 'feature_fraction': 0.8120136406543413, 'bagging_fraction': 0.5197641491905822, 'bagging_freq': 2, 'min_child_samples': 14, 'max_depth': 155}. Best is trial 24 with value: 0.870197741929553.\u001b[0m\n",
      "\u001b[32m[I 2022-06-24 00:08:20,898]\u001b[0m Trial 87 finished with value: 0.8594076331520217 and parameters: {'scalers': 'robust', 'lambda_l1': 2.1162147530840383e-05, 'lambda_l2': 0.0005454002078612586, 'num_leaves': 201, 'feature_fraction': 0.4640740084864822, 'bagging_fraction': 0.60882771237728, 'bagging_freq': 1, 'min_child_samples': 17, 'max_depth': 368}. Best is trial 24 with value: 0.870197741929553.\u001b[0m\n",
      "\u001b[32m[I 2022-06-24 00:08:21,618]\u001b[0m Trial 88 finished with value: 0.8612782911747695 and parameters: {'scalers': 'robust', 'lambda_l1': 8.320780889051691e-08, 'lambda_l2': 0.006878869599258352, 'num_leaves': 187, 'feature_fraction': 0.5085137120948552, 'bagging_fraction': 0.434654561398883, 'bagging_freq': 1, 'min_child_samples': 23, 'max_depth': 238}. Best is trial 24 with value: 0.870197741929553.\u001b[0m\n",
      "\u001b[32m[I 2022-06-24 00:08:22,819]\u001b[0m Trial 89 finished with value: 0.8564863589497876 and parameters: {'scalers': 'robust', 'lambda_l1': 1.5414588331290351e-06, 'lambda_l2': 0.00036876857926219095, 'num_leaves': 133, 'feature_fraction': 0.7486336595001504, 'bagging_fraction': 0.544154993247512, 'bagging_freq': 2, 'min_child_samples': 10, 'max_depth': 283}. Best is trial 24 with value: 0.870197741929553.\u001b[0m\n",
      "\u001b[32m[I 2022-06-24 00:08:23,276]\u001b[0m Trial 90 finished with value: 0.5 and parameters: {'scalers': 'robust', 'lambda_l1': 9.68764961727573e-06, 'lambda_l2': 0.03157682215770792, 'num_leaves': 161, 'feature_fraction': 0.8287585316380675, 'bagging_fraction': 0.47428445505113787, 'bagging_freq': 1, 'min_child_samples': 64, 'max_depth': 324}. Best is trial 24 with value: 0.870197741929553.\u001b[0m\n",
      "\u001b[32m[I 2022-06-24 00:08:24,306]\u001b[0m Trial 91 finished with value: 0.8646767315072268 and parameters: {'scalers': 'robust', 'lambda_l1': 9.216479968005563e-08, 'lambda_l2': 0.003638982954202971, 'num_leaves': 157, 'feature_fraction': 0.4334517423027453, 'bagging_fraction': 0.4486043586028534, 'bagging_freq': 1, 'min_child_samples': 18, 'max_depth': 262}. Best is trial 24 with value: 0.870197741929553.\u001b[0m\n",
      "\u001b[32m[I 2022-06-24 00:08:25,241]\u001b[0m Trial 92 finished with value: 0.8598205994856536 and parameters: {'scalers': 'robust', 'lambda_l1': 1.578617079095701e-07, 'lambda_l2': 0.0019803809936101186, 'num_leaves': 155, 'feature_fraction': 0.4301133047468398, 'bagging_fraction': 0.4213582298428586, 'bagging_freq': 1, 'min_child_samples': 20, 'max_depth': 262}. Best is trial 24 with value: 0.870197741929553.\u001b[0m\n",
      "\u001b[32m[I 2022-06-24 00:08:26,767]\u001b[0m Trial 93 finished with value: 0.8530820248293157 and parameters: {'scalers': 'robust', 'lambda_l1': 5.678709180740771e-07, 'lambda_l2': 0.014193167953406211, 'num_leaves': 179, 'feature_fraction': 0.4811023017393715, 'bagging_fraction': 0.638551224055871, 'bagging_freq': 1, 'min_child_samples': 12, 'max_depth': 305}. Best is trial 24 with value: 0.870197741929553.\u001b[0m\n",
      "\u001b[32m[I 2022-06-24 00:08:28,175]\u001b[0m Trial 94 finished with value: 0.8495588871053268 and parameters: {'scalers': 'robust', 'lambda_l1': 2.6367404242240223e-07, 'lambda_l2': 0.0013049958280200048, 'num_leaves': 174, 'feature_fraction': 0.4314943309577518, 'bagging_fraction': 0.4460336938505259, 'bagging_freq': 1, 'min_child_samples': 8, 'max_depth': 244}. Best is trial 24 with value: 0.870197741929553.\u001b[0m\n",
      "\u001b[32m[I 2022-06-24 00:08:29,582]\u001b[0m Trial 95 finished with value: 0.8631040338875091 and parameters: {'scalers': 'robust', 'lambda_l1': 1.7758714713807355e-08, 'lambda_l2': 0.12074909102825399, 'num_leaves': 146, 'feature_fraction': 0.8692455824934588, 'bagging_fraction': 0.46503523953200937, 'bagging_freq': 1, 'min_child_samples': 16, 'max_depth': 344}. Best is trial 24 with value: 0.870197741929553.\u001b[0m\n",
      "\u001b[32m[I 2022-06-24 00:08:30,539]\u001b[0m Trial 96 finished with value: 0.8502163910650752 and parameters: {'scalers': 'robust', 'lambda_l1': 1.568262034651482e-08, 'lambda_l2': 0.19555229661303605, 'num_leaves': 144, 'feature_fraction': 0.8721952359502612, 'bagging_fraction': 0.6602172915211156, 'bagging_freq': 1, 'min_child_samples': 16, 'max_depth': 122}. Best is trial 24 with value: 0.870197741929553.\u001b[0m\n",
      "\u001b[32m[I 2022-06-24 00:08:31,460]\u001b[0m Trial 97 finished with value: 0.7896048045092162 and parameters: {'scalers': 'robust', 'lambda_l1': 4.903819880975809e-08, 'lambda_l2': 0.16134961051182567, 'num_leaves': 165, 'feature_fraction': 0.8608216071099775, 'bagging_fraction': 0.4876698125499256, 'bagging_freq': 2, 'min_child_samples': 30, 'max_depth': 388}. Best is trial 24 with value: 0.870197741929553.\u001b[0m\n",
      "\u001b[32m[I 2022-06-24 00:08:32,113]\u001b[0m Trial 98 finished with value: 0.5 and parameters: {'scalers': 'robust', 'lambda_l1': 2.472811696050062e-08, 'lambda_l2': 0.8295905386159136, 'num_leaves': 136, 'feature_fraction': 0.9294542960438912, 'bagging_fraction': 0.4667331299136667, 'bagging_freq': 1, 'min_child_samples': 95, 'max_depth': 428}. Best is trial 24 with value: 0.870197741929553.\u001b[0m\n",
      "\u001b[32m[I 2022-06-24 00:08:32,640]\u001b[0m Trial 99 finished with value: 0.5 and parameters: {'scalers': 'robust', 'lambda_l1': 9.009168191148211e-08, 'lambda_l2': 0.00020828402183615253, 'num_leaves': 155, 'feature_fraction': 0.8848594306808635, 'bagging_fraction': 0.5615840235512641, 'bagging_freq': 1, 'min_child_samples': 78, 'max_depth': 193}. Best is trial 24 with value: 0.870197741929553.\u001b[0m\n",
      "\u001b[32m[I 2022-06-24 00:08:33,832]\u001b[0m Trial 100 finished with value: 0.8618120924697936 and parameters: {'scalers': 'robust', 'lambda_l1': 3.5780189499797294e-08, 'lambda_l2': 0.004062270404043575, 'num_leaves': 193, 'feature_fraction': 0.8021907484039624, 'bagging_fraction': 0.5861369783486592, 'bagging_freq': 4, 'min_child_samples': 23, 'max_depth': 347}. Best is trial 24 with value: 0.870197741929553.\u001b[0m\n",
      "\u001b[32m[I 2022-06-24 00:08:34,643]\u001b[0m Trial 101 finished with value: 0.8591519057353035 and parameters: {'scalers': 'minmax', 'lambda_l1': 0.00011497044695366893, 'lambda_l2': 0.002279663803506249, 'num_leaves': 146, 'feature_fraction': 0.77105879162607, 'bagging_fraction': 0.4221074465598496, 'bagging_freq': 1, 'min_child_samples': 20, 'max_depth': 270}. Best is trial 24 with value: 0.870197741929553.\u001b[0m\n",
      "\u001b[32m[I 2022-06-24 00:08:35,339]\u001b[0m Trial 102 finished with value: 0.8256265841142002 and parameters: {'scalers': 'robust', 'lambda_l1': 0.0005169631199423063, 'lambda_l2': 0.011671620016449728, 'num_leaves': 168, 'feature_fraction': 0.8961224441807699, 'bagging_fraction': 0.4419857969461164, 'bagging_freq': 1, 'min_child_samples': 26, 'max_depth': 295}. Best is trial 24 with value: 0.870197741929553.\u001b[0m\n",
      "\u001b[32m[I 2022-06-24 00:08:36,234]\u001b[0m Trial 103 finished with value: 0.8694781734003869 and parameters: {'scalers': 'robust', 'lambda_l1': 1.7928538635126794e-08, 'lambda_l2': 0.019527007320686497, 'num_leaves': 141, 'feature_fraction': 0.8422423031154792, 'bagging_fraction': 0.4010754087966144, 'bagging_freq': 1, 'min_child_samples': 17, 'max_depth': 247}. Best is trial 24 with value: 0.870197741929553.\u001b[0m\n",
      "\u001b[32m[I 2022-06-24 00:08:37,258]\u001b[0m Trial 104 finished with value: 0.8637393576925311 and parameters: {'scalers': 'robust', 'lambda_l1': 1.7626300975572816e-08, 'lambda_l2': 0.11099111572699222, 'num_leaves': 139, 'feature_fraction': 0.840617218019228, 'bagging_fraction': 0.4031750848202768, 'bagging_freq': 1, 'min_child_samples': 15, 'max_depth': 224}. Best is trial 24 with value: 0.870197741929553.\u001b[0m\n"
     ]
    },
    {
     "name": "stderr",
     "output_type": "stream",
     "text": [
      "\u001b[32m[I 2022-06-24 00:08:38,348]\u001b[0m Trial 105 finished with value: 0.8575949885812502 and parameters: {'scalers': 'robust', 'lambda_l1': 6.143209318456959e-08, 'lambda_l2': 0.023437625666072194, 'num_leaves': 123, 'feature_fraction': 0.8342478263367732, 'bagging_fraction': 0.4031627616780694, 'bagging_freq': 1, 'min_child_samples': 11, 'max_depth': 225}. Best is trial 24 with value: 0.870197741929553.\u001b[0m\n",
      "\u001b[32m[I 2022-06-24 00:08:39,315]\u001b[0m Trial 106 finished with value: 0.8489890327680576 and parameters: {'scalers': 'robust', 'lambda_l1': 1.0030812723247223e-08, 'lambda_l2': 0.0053953079813989545, 'num_leaves': 114, 'feature_fraction': 0.7877723157014915, 'bagging_fraction': 0.6931044440652246, 'bagging_freq': 1, 'min_child_samples': 15, 'max_depth': 163}. Best is trial 24 with value: 0.870197741929553.\u001b[0m\n",
      "\u001b[32m[I 2022-06-24 00:08:40,201]\u001b[0m Trial 107 finished with value: 0.8627445574506332 and parameters: {'scalers': 'robust', 'lambda_l1': 3.112841148044115e-08, 'lambda_l2': 0.0006935170761408872, 'num_leaves': 140, 'feature_fraction': 0.817108610435295, 'bagging_fraction': 0.41690822715942966, 'bagging_freq': 1, 'min_child_samples': 18, 'max_depth': 250}. Best is trial 24 with value: 0.870197741929553.\u001b[0m\n",
      "\u001b[32m[I 2022-06-24 00:08:40,799]\u001b[0m Trial 108 finished with value: 0.5 and parameters: {'scalers': 'robust', 'lambda_l1': 1.380076583794277e-07, 'lambda_l2': 0.0001372923667229578, 'num_leaves': 131, 'feature_fraction': 0.8067077295051719, 'bagging_fraction': 0.4319416064642112, 'bagging_freq': 1, 'min_child_samples': 33, 'max_depth': 183}. Best is trial 24 with value: 0.870197741929553.\u001b[0m\n",
      "\u001b[32m[I 2022-06-24 00:08:41,987]\u001b[0m Trial 109 finished with value: 0.8483873489771321 and parameters: {'scalers': 'robust', 'lambda_l1': 1.7126674244997805e-08, 'lambda_l2': 0.06741294715535155, 'num_leaves': 160, 'feature_fraction': 0.8479180414004968, 'bagging_fraction': 0.40205883517818575, 'bagging_freq': 3, 'min_child_samples': 7, 'max_depth': 210}. Best is trial 24 with value: 0.870197741929553.\u001b[0m\n",
      "\u001b[32m[I 2022-06-24 00:08:42,859]\u001b[0m Trial 110 finished with value: 0.8613979725554803 and parameters: {'scalers': 'robust', 'lambda_l1': 2.6711627711358907e-08, 'lambda_l2': 0.3074690351036432, 'num_leaves': 154, 'feature_fraction': 0.7809635524597198, 'bagging_fraction': 0.4530835341398401, 'bagging_freq': 2, 'min_child_samples': 14, 'max_depth': 224}. Best is trial 24 with value: 0.870197741929553.\u001b[0m\n",
      "\u001b[32m[I 2022-06-24 00:08:43,790]\u001b[0m Trial 111 finished with value: 0.863295474971365 and parameters: {'scalers': 'robust', 'lambda_l1': 1.8095582196795768e-08, 'lambda_l2': 0.12347415771250027, 'num_leaves': 150, 'feature_fraction': 0.8580257393901194, 'bagging_fraction': 0.4167745710834823, 'bagging_freq': 1, 'min_child_samples': 17, 'max_depth': 318}. Best is trial 24 with value: 0.870197741929553.\u001b[0m\n",
      "\u001b[32m[I 2022-06-24 00:08:44,527]\u001b[0m Trial 112 finished with value: 0.8574997619984075 and parameters: {'scalers': 'robust', 'lambda_l1': 6.183850946117771e-08, 'lambda_l2': 0.03672571074617879, 'num_leaves': 137, 'feature_fraction': 0.8281771925011042, 'bagging_fraction': 0.41804548530015295, 'bagging_freq': 1, 'min_child_samples': 22, 'max_depth': 322}. Best is trial 24 with value: 0.870197741929553.\u001b[0m\n",
      "\u001b[32m[I 2022-06-24 00:08:45,320]\u001b[0m Trial 113 finished with value: 0.8667976350919462 and parameters: {'scalers': 'robust', 'lambda_l1': 1.833254682683803e-08, 'lambda_l2': 0.07493358065616365, 'num_leaves': 149, 'feature_fraction': 0.8529459588094087, 'bagging_fraction': 0.4284170165793517, 'bagging_freq': 1, 'min_child_samples': 19, 'max_depth': 262}. Best is trial 24 with value: 0.870197741929553.\u001b[0m\n",
      "\u001b[32m[I 2022-06-24 00:08:46,092]\u001b[0m Trial 114 finished with value: 0.8629816568450469 and parameters: {'scalers': 'robust', 'lambda_l1': 4.832254837800169e-08, 'lambda_l2': 0.021255729767032633, 'num_leaves': 182, 'feature_fraction': 0.8194864630262111, 'bagging_fraction': 0.4296024625197529, 'bagging_freq': 1, 'min_child_samples': 20, 'max_depth': 268}. Best is trial 24 with value: 0.870197741929553.\u001b[0m\n",
      "\u001b[32m[I 2022-06-24 00:08:47,199]\u001b[0m Trial 115 finished with value: 0.835704098039044 and parameters: {'scalers': 'robust', 'lambda_l1': 1.0281144207193992e-07, 'lambda_l2': 0.009793954485705495, 'num_leaves': 163, 'feature_fraction': 0.9179434377448252, 'bagging_fraction': 0.9348242881055902, 'bagging_freq': 1, 'min_child_samples': 24, 'max_depth': 246}. Best is trial 24 with value: 0.870197741929553.\u001b[0m\n",
      "\u001b[32m[I 2022-06-24 00:08:47,713]\u001b[0m Trial 116 finished with value: 0.577575160520594 and parameters: {'scalers': 'robust', 'lambda_l1': 1.8201448881608567e-07, 'lambda_l2': 0.00029361861565857175, 'num_leaves': 171, 'feature_fraction': 0.8481372418914745, 'bagging_fraction': 0.4001573590646062, 'bagging_freq': 1, 'min_child_samples': 27, 'max_depth': 145}. Best is trial 24 with value: 0.870197741929553.\u001b[0m\n",
      "\u001b[32m[I 2022-06-24 00:08:48,395]\u001b[0m Trial 117 finished with value: 0.8568471950306317 and parameters: {'scalers': 'minmax', 'lambda_l1': 1.3826195995593781e-08, 'lambda_l2': 0.0761245041307765, 'num_leaves': 156, 'feature_fraction': 0.7986290862995863, 'bagging_fraction': 0.44239871536664793, 'bagging_freq': 4, 'min_child_samples': 20, 'max_depth': 287}. Best is trial 24 with value: 0.870197741929553.\u001b[0m\n",
      "\u001b[32m[I 2022-06-24 00:08:49,130]\u001b[0m Trial 118 finished with value: 0.8592781290776647 and parameters: {'scalers': 'robust', 'lambda_l1': 3.491839728767125e-08, 'lambda_l2': 0.0025483485864823178, 'num_leaves': 175, 'feature_fraction': 0.8359936435818405, 'bagging_fraction': 0.49685519296787706, 'bagging_freq': 2, 'min_child_samples': 18, 'max_depth': 193}. Best is trial 24 with value: 0.870197741929553.\u001b[0m\n",
      "\u001b[32m[I 2022-06-24 00:08:50,246]\u001b[0m Trial 119 finished with value: 0.857026337976609 and parameters: {'scalers': 'robust', 'lambda_l1': 3.989232594596618e-05, 'lambda_l2': 0.006393445226799824, 'num_leaves': 142, 'feature_fraction': 0.7628016916132243, 'bagging_fraction': 0.4773421008793503, 'bagging_freq': 1, 'min_child_samples': 14, 'max_depth': 230}. Best is trial 24 with value: 0.870197741929553.\u001b[0m\n",
      "\u001b[32m[I 2022-06-24 00:08:52,447]\u001b[0m Trial 120 finished with value: 0.8525965491122224 and parameters: {'scalers': 'robust', 'lambda_l1': 3.364406450503882e-07, 'lambda_l2': 0.017013107157732264, 'num_leaves': 149, 'feature_fraction': 0.8849207804718486, 'bagging_fraction': 0.4604026552775366, 'bagging_freq': 1, 'min_child_samples': 22, 'max_depth': 981}. Best is trial 24 with value: 0.870197741929553.\u001b[0m\n",
      "\u001b[32m[I 2022-06-24 00:08:53,617]\u001b[0m Trial 121 finished with value: 0.8645482448837711 and parameters: {'scalers': 'robust', 'lambda_l1': 2.2485840110167394e-08, 'lambda_l2': 0.13902315488016911, 'num_leaves': 150, 'feature_fraction': 0.86099389747862, 'bagging_fraction': 0.4156308757317442, 'bagging_freq': 1, 'min_child_samples': 18, 'max_depth': 310}. Best is trial 24 with value: 0.870197741929553.\u001b[0m\n",
      "\u001b[32m[I 2022-06-24 00:08:54,830]\u001b[0m Trial 122 finished with value: 0.8577052584068838 and parameters: {'scalers': 'robust', 'lambda_l1': 2.395487343269153e-08, 'lambda_l2': 0.44025572451661904, 'num_leaves': 160, 'feature_fraction': 0.9399389620704595, 'bagging_fraction': 0.4139817710299486, 'bagging_freq': 1, 'min_child_samples': 12, 'max_depth': 256}. Best is trial 24 with value: 0.870197741929553.\u001b[0m\n",
      "\u001b[32m[I 2022-06-24 00:08:55,943]\u001b[0m Trial 123 finished with value: 0.865954967740378 and parameters: {'scalers': 'robust', 'lambda_l1': 6.919935048505512e-08, 'lambda_l2': 0.05258268722326796, 'num_leaves': 129, 'feature_fraction': 0.9012275773926105, 'bagging_fraction': 0.4295179176827593, 'bagging_freq': 1, 'min_child_samples': 19, 'max_depth': 300}. Best is trial 24 with value: 0.870197741929553.\u001b[0m\n",
      "\u001b[32m[I 2022-06-24 00:08:57,068]\u001b[0m Trial 124 finished with value: 0.8683177973127663 and parameters: {'scalers': 'robust', 'lambda_l1': 7.835536173467207e-08, 'lambda_l2': 0.8989617440602019, 'num_leaves': 120, 'feature_fraction': 0.8989262829498974, 'bagging_fraction': 0.435137811125904, 'bagging_freq': 1, 'min_child_samples': 17, 'max_depth': 279}. Best is trial 24 with value: 0.870197741929553.\u001b[0m\n",
      "\u001b[32m[I 2022-06-24 00:08:58,169]\u001b[0m Trial 125 finished with value: 0.8643059763164253 and parameters: {'scalers': 'robust', 'lambda_l1': 6.797747083346426e-08, 'lambda_l2': 2.1962630059638295, 'num_leaves': 120, 'feature_fraction': 0.9069147810823552, 'bagging_fraction': 0.4506578308835933, 'bagging_freq': 1, 'min_child_samples': 17, 'max_depth': 273}. Best is trial 24 with value: 0.870197741929553.\u001b[0m\n"
     ]
    },
    {
     "name": "stderr",
     "output_type": "stream",
     "text": [
      "\u001b[32m[I 2022-06-24 00:08:59,205]\u001b[0m Trial 126 finished with value: 0.8629881753523395 and parameters: {'scalers': 'robust', 'lambda_l1': 8.643101790839507e-08, 'lambda_l2': 2.2214959529008746, 'num_leaves': 105, 'feature_fraction': 0.90879926145945, 'bagging_fraction': 0.5139137783824822, 'bagging_freq': 1, 'min_child_samples': 23, 'max_depth': 273}. Best is trial 24 with value: 0.870197741929553.\u001b[0m\n",
      "\u001b[32m[I 2022-06-24 00:09:00,511]\u001b[0m Trial 127 finished with value: 0.8615623654596177 and parameters: {'scalers': 'robust', 'lambda_l1': 2.2011745070006225e-07, 'lambda_l2': 6.220165955241483, 'num_leaves': 93, 'feature_fraction': 0.897997434720152, 'bagging_fraction': 0.45311565439632295, 'bagging_freq': 1, 'min_child_samples': 17, 'max_depth': 374}. Best is trial 24 with value: 0.870197741929553.\u001b[0m\n",
      "\u001b[32m[I 2022-06-24 00:09:01,282]\u001b[0m Trial 128 finished with value: 0.8196744114588544 and parameters: {'scalers': 'robust', 'lambda_l1': 6.18218828432302e-08, 'lambda_l2': 2.6042182428056773, 'num_leaves': 118, 'feature_fraction': 0.9431333654487684, 'bagging_fraction': 0.44740621521690577, 'bagging_freq': 1, 'min_child_samples': 26, 'max_depth': 293}. Best is trial 24 with value: 0.870197741929553.\u001b[0m\n",
      "\u001b[32m[I 2022-06-24 00:09:02,283]\u001b[0m Trial 129 finished with value: 0.8641810235687944 and parameters: {'scalers': 'robust', 'lambda_l1': 9.061000074224607e-08, 'lambda_l2': 0.8842830190417579, 'num_leaves': 128, 'feature_fraction': 0.9191778156034076, 'bagging_fraction': 0.4338733240499494, 'bagging_freq': 1, 'min_child_samples': 21, 'max_depth': 335}. Best is trial 24 with value: 0.870197741929553.\u001b[0m\n",
      "\u001b[32m[I 2022-06-24 00:09:02,915]\u001b[0m Trial 130 finished with value: 0.5670701421256762 and parameters: {'scalers': 'robust', 'lambda_l1': 1.3616897060301928e-07, 'lambda_l2': 0.6514548814097781, 'num_leaves': 124, 'feature_fraction': 0.9590998926727926, 'bagging_fraction': 0.434942864186944, 'bagging_freq': 1, 'min_child_samples': 29, 'max_depth': 275}. Best is trial 24 with value: 0.870197741929553.\u001b[0m\n",
      "\u001b[32m[I 2022-06-24 00:09:04,028]\u001b[0m Trial 131 finished with value: 0.8690684900539776 and parameters: {'scalers': 'robust', 'lambda_l1': 4.383853490770802e-07, 'lambda_l2': 1.2827852808787228, 'num_leaves': 98, 'feature_fraction': 0.9145989376578003, 'bagging_fraction': 0.4287131843274591, 'bagging_freq': 1, 'min_child_samples': 21, 'max_depth': 355}. Best is trial 24 with value: 0.870197741929553.\u001b[0m\n",
      "\u001b[32m[I 2022-06-24 00:09:05,069]\u001b[0m Trial 132 finished with value: 0.8594374978736434 and parameters: {'scalers': 'robust', 'lambda_l1': 5.180970715029123e-07, 'lambda_l2': 3.4869592771139377, 'num_leaves': 98, 'feature_fraction': 0.9193777007097406, 'bagging_fraction': 0.42322280134471574, 'bagging_freq': 1, 'min_child_samples': 21, 'max_depth': 337}. Best is trial 24 with value: 0.870197741929553.\u001b[0m\n",
      "\u001b[32m[I 2022-06-24 00:09:05,958]\u001b[0m Trial 133 finished with value: 0.8538076940689169 and parameters: {'scalers': 'robust', 'lambda_l1': 4.740028928583762e-08, 'lambda_l2': 1.2884741268854123, 'num_leaves': 110, 'feature_fraction': 0.8976461770743376, 'bagging_fraction': 0.43433086381213587, 'bagging_freq': 1, 'min_child_samples': 24, 'max_depth': 357}. Best is trial 24 with value: 0.870197741929553.\u001b[0m\n",
      "\u001b[32m[I 2022-06-24 00:09:07,015]\u001b[0m Trial 134 finished with value: 0.8618615349433848 and parameters: {'scalers': 'robust', 'lambda_l1': 4.552508067866624e-06, 'lambda_l2': 1.1207944058435588, 'num_leaves': 118, 'feature_fraction': 0.8766099267660135, 'bagging_fraction': 0.4678738148059192, 'bagging_freq': 1, 'min_child_samples': 16, 'max_depth': 295}. Best is trial 24 with value: 0.870197741929553.\u001b[0m\n",
      "\u001b[32m[I 2022-06-24 00:09:08,241]\u001b[0m Trial 135 finished with value: 0.8669578682626282 and parameters: {'scalers': 'robust', 'lambda_l1': 2.714650309058507e-07, 'lambda_l2': 0.28501832802307236, 'num_leaves': 127, 'feature_fraction': 0.9303648979926205, 'bagging_fraction': 0.4497637044321809, 'bagging_freq': 1, 'min_child_samples': 22, 'max_depth': 329}. Best is trial 24 with value: 0.870197741929553.\u001b[0m\n",
      "\u001b[32m[I 2022-06-24 00:09:09,289]\u001b[0m Trial 136 finished with value: 0.8644314115537025 and parameters: {'scalers': 'robust', 'lambda_l1': 3.057407999384092e-07, 'lambda_l2': 0.26814444923784186, 'num_leaves': 81, 'feature_fraction': 0.9467615727937636, 'bagging_fraction': 0.45562188922321856, 'bagging_freq': 1, 'min_child_samples': 25, 'max_depth': 419}. Best is trial 24 with value: 0.870197741929553.\u001b[0m\n",
      "\u001b[32m[I 2022-06-24 00:09:09,919]\u001b[0m Trial 137 finished with value: 0.5 and parameters: {'scalers': 'robust', 'lambda_l1': 3.2230122675709575e-07, 'lambda_l2': 0.23133922132946616, 'num_leaves': 62, 'feature_fraction': 0.9727312003855173, 'bagging_fraction': 0.4528094078161785, 'bagging_freq': 1, 'min_child_samples': 54, 'max_depth': 422}. Best is trial 24 with value: 0.870197741929553.\u001b[0m\n",
      "\u001b[32m[I 2022-06-24 00:09:10,644]\u001b[0m Trial 138 finished with value: 0.8411262432098344 and parameters: {'scalers': 'minmax', 'lambda_l1': 1.2971756592769717e-06, 'lambda_l2': 9.902994245442848, 'num_leaves': 73, 'feature_fraction': 0.9997772547743181, 'bagging_fraction': 0.4789449265516057, 'bagging_freq': 1, 'min_child_samples': 26, 'max_depth': 460}. Best is trial 24 with value: 0.870197741929553.\u001b[0m\n",
      "\u001b[32m[I 2022-06-24 00:09:11,428]\u001b[0m Trial 139 finished with value: 0.8680625825627761 and parameters: {'scalers': 'robust', 'lambda_l1': 2.1861502286196034e-07, 'lambda_l2': 0.34455746409380095, 'num_leaves': 70, 'feature_fraction': 0.9505528956032133, 'bagging_fraction': 0.4610500315457467, 'bagging_freq': 1, 'min_child_samples': 18, 'max_depth': 257}. Best is trial 24 with value: 0.870197741929553.\u001b[0m\n",
      "\u001b[32m[I 2022-06-24 00:09:12,662]\u001b[0m Trial 140 finished with value: 0.8680340328960685 and parameters: {'scalers': 'robust', 'lambda_l1': 6.197842289667565e-07, 'lambda_l2': 0.3846358125852292, 'num_leaves': 60, 'feature_fraction': 0.9326261437309514, 'bagging_fraction': 0.46760126249254996, 'bagging_freq': 1, 'min_child_samples': 13, 'max_depth': 411}. Best is trial 24 with value: 0.870197741929553.\u001b[0m\n",
      "\u001b[32m[I 2022-06-24 00:09:14,158]\u001b[0m Trial 141 finished with value: 0.8635234440052553 and parameters: {'scalers': 'robust', 'lambda_l1': 8.745568633758304e-07, 'lambda_l2': 0.40199422906920235, 'num_leaves': 55, 'feature_fraction': 0.9487689304431381, 'bagging_fraction': 0.48866992025139294, 'bagging_freq': 1, 'min_child_samples': 13, 'max_depth': 407}. Best is trial 24 with value: 0.870197741929553.\u001b[0m\n",
      "\u001b[32m[I 2022-06-24 00:09:15,192]\u001b[0m Trial 142 finished with value: 0.8543997697993442 and parameters: {'scalers': 'robust', 'lambda_l1': 2.870552749667203e-06, 'lambda_l2': 0.0484440907809287, 'num_leaves': 63, 'feature_fraction': 0.9307809573029787, 'bagging_fraction': 0.4620574390738262, 'bagging_freq': 7, 'min_child_samples': 18, 'max_depth': 373}. Best is trial 24 with value: 0.870197741929553.\u001b[0m\n",
      "\u001b[32m[I 2022-06-24 00:09:16,168]\u001b[0m Trial 143 finished with value: 0.8540529256390325 and parameters: {'scalers': 'robust', 'lambda_l1': 5.251723571932118e-07, 'lambda_l2': 0.6072825400739905, 'num_leaves': 60, 'feature_fraction': 0.963807885052423, 'bagging_fraction': 0.44502804928978545, 'bagging_freq': 6, 'min_child_samples': 11, 'max_depth': 250}. Best is trial 24 with value: 0.870197741929553.\u001b[0m\n",
      "\u001b[32m[I 2022-06-24 00:09:17,099]\u001b[0m Trial 144 finished with value: 0.8653306005999505 and parameters: {'scalers': 'robust', 'lambda_l1': 1.61491550307672e-07, 'lambda_l2': 0.17499716429048612, 'num_leaves': 88, 'feature_fraction': 0.980533391239559, 'bagging_fraction': 0.47134473764859725, 'bagging_freq': 1, 'min_child_samples': 23, 'max_depth': 385}. Best is trial 24 with value: 0.870197741929553.\u001b[0m\n",
      "\u001b[32m[I 2022-06-24 00:09:18,015]\u001b[0m Trial 145 finished with value: 0.8663138194794542 and parameters: {'scalers': 'robust', 'lambda_l1': 2.357663921769193e-07, 'lambda_l2': 0.15569029021919467, 'num_leaves': 47, 'feature_fraction': 0.9355854595898766, 'bagging_fraction': 0.47283133488951395, 'bagging_freq': 1, 'min_child_samples': 22, 'max_depth': 391}. Best is trial 24 with value: 0.870197741929553.\u001b[0m\n",
      "\u001b[32m[I 2022-06-24 00:09:18,999]\u001b[0m Trial 146 finished with value: 0.8614149146776855 and parameters: {'scalers': 'robust', 'lambda_l1': 2.2713258796183303e-07, 'lambda_l2': 0.16437708765484002, 'num_leaves': 42, 'feature_fraction': 0.9763923673064878, 'bagging_fraction': 0.4976892800490534, 'bagging_freq': 1, 'min_child_samples': 22, 'max_depth': 388}. Best is trial 24 with value: 0.870197741929553.\u001b[0m\n"
     ]
    },
    {
     "name": "stderr",
     "output_type": "stream",
     "text": [
      "\u001b[32m[I 2022-06-24 00:09:20,110]\u001b[0m Trial 147 finished with value: 0.861736772987934 and parameters: {'scalers': 'robust', 'lambda_l1': 1.4471247505814906e-07, 'lambda_l2': 0.16275253742081833, 'num_leaves': 45, 'feature_fraction': 0.9862832556493635, 'bagging_fraction': 0.47441964847629536, 'bagging_freq': 1, 'min_child_samples': 14, 'max_depth': 359}. Best is trial 24 with value: 0.870197741929553.\u001b[0m\n",
      "\u001b[32m[I 2022-06-24 00:09:20,992]\u001b[0m Trial 148 finished with value: 0.8637761573866449 and parameters: {'scalers': 'robust', 'lambda_l1': 7.347934666962333e-07, 'lambda_l2': 0.5300633048438841, 'num_leaves': 32, 'feature_fraction': 0.9320757435649505, 'bagging_fraction': 0.42683254299012763, 'bagging_freq': 1, 'min_child_samples': 19, 'max_depth': 325}. Best is trial 24 with value: 0.870197741929553.\u001b[0m\n",
      "\u001b[32m[I 2022-06-24 00:09:22,608]\u001b[0m Trial 149 finished with value: 0.8615939927590469 and parameters: {'scalers': 'robust', 'lambda_l1': 3.927723673126104e-07, 'lambda_l2': 0.2903275823043207, 'num_leaves': 73, 'feature_fraction': 0.952256577497532, 'bagging_fraction': 0.4711060923383952, 'bagging_freq': 1, 'min_child_samples': 15, 'max_depth': 448}. Best is trial 24 with value: 0.870197741929553.\u001b[0m\n",
      "\u001b[32m[I 2022-06-24 00:09:23,959]\u001b[0m Trial 150 finished with value: 0.8641801031141201 and parameters: {'scalers': 'robust', 'lambda_l1': 1.8375519058005327e-07, 'lambda_l2': 0.08296899683642178, 'num_leaves': 68, 'feature_fraction': 0.9827913217104971, 'bagging_fraction': 0.48498721157807445, 'bagging_freq': 1, 'min_child_samples': 20, 'max_depth': 402}. Best is trial 24 with value: 0.870197741929553.\u001b[0m\n",
      "\u001b[32m[I 2022-06-24 00:09:25,553]\u001b[0m Trial 151 finished with value: 0.8641333225812717 and parameters: {'scalers': 'robust', 'lambda_l1': 2.710662304566977e-07, 'lambda_l2': 0.24731845951377662, 'num_leaves': 81, 'feature_fraction': 0.9400823286139524, 'bagging_fraction': 0.4409775326593592, 'bagging_freq': 1, 'min_child_samples': 23, 'max_depth': 417}. Best is trial 24 with value: 0.870197741929553.\u001b[0m\n",
      "\u001b[32m[I 2022-06-24 00:09:26,677]\u001b[0m Trial 152 finished with value: 0.862775600968519 and parameters: {'scalers': 'robust', 'lambda_l1': 1.2570320673370034e-07, 'lambda_l2': 0.3728693368628324, 'num_leaves': 89, 'feature_fraction': 0.9685211621859423, 'bagging_fraction': 0.45996835563716043, 'bagging_freq': 1, 'min_child_samples': 17, 'max_depth': 443}. Best is trial 24 with value: 0.870197741929553.\u001b[0m\n",
      "\u001b[32m[I 2022-06-24 00:09:27,524]\u001b[0m Trial 153 finished with value: 0.8577923628014572 and parameters: {'scalers': 'robust', 'lambda_l1': 2.2885843323014534e-07, 'lambda_l2': 0.2305668317093841, 'num_leaves': 93, 'feature_fraction': 0.9209436625429934, 'bagging_fraction': 0.423682068427427, 'bagging_freq': 5, 'min_child_samples': 24, 'max_depth': 474}. Best is trial 24 with value: 0.870197741929553.\u001b[0m\n",
      "\u001b[32m[I 2022-06-24 00:09:28,447]\u001b[0m Trial 154 finished with value: 0.8672753017321516 and parameters: {'scalers': 'robust', 'lambda_l1': 3.5602928692486024e-07, 'lambda_l2': 0.79609145833259, 'num_leaves': 81, 'feature_fraction': 0.8875263593451144, 'bagging_fraction': 0.4621216328717752, 'bagging_freq': 1, 'min_child_samples': 21, 'max_depth': 381}. Best is trial 24 with value: 0.870197741929553.\u001b[0m\n",
      "\u001b[32m[I 2022-06-24 00:09:29,417]\u001b[0m Trial 155 finished with value: 0.8657526502565202 and parameters: {'scalers': 'robust', 'lambda_l1': 1.6885896946166134e-06, 'lambda_l2': 1.5001733307769585, 'num_leaves': 69, 'feature_fraction': 0.8925752106666797, 'bagging_fraction': 0.44079324415488774, 'bagging_freq': 1, 'min_child_samples': 20, 'max_depth': 353}. Best is trial 24 with value: 0.870197741929553.\u001b[0m\n",
      "\u001b[32m[I 2022-06-24 00:09:30,379]\u001b[0m Trial 156 finished with value: 0.8669466121254047 and parameters: {'scalers': 'robust', 'lambda_l1': 2.0334551586745057e-06, 'lambda_l2': 0.8342594660692684, 'num_leaves': 47, 'feature_fraction': 0.8929424279645997, 'bagging_fraction': 0.5077279907372552, 'bagging_freq': 1, 'min_child_samples': 21, 'max_depth': 382}. Best is trial 24 with value: 0.870197741929553.\u001b[0m\n",
      "\u001b[32m[I 2022-06-24 00:09:31,334]\u001b[0m Trial 157 finished with value: 0.8643848963858639 and parameters: {'scalers': 'robust', 'lambda_l1': 1.437955066051424e-06, 'lambda_l2': 1.7456588686234915, 'num_leaves': 49, 'feature_fraction': 0.892040207225614, 'bagging_fraction': 0.5063464565718014, 'bagging_freq': 1, 'min_child_samples': 22, 'max_depth': 384}. Best is trial 24 with value: 0.870197741929553.\u001b[0m\n",
      "\u001b[32m[I 2022-06-24 00:09:32,204]\u001b[0m Trial 158 finished with value: 0.861813957005327 and parameters: {'scalers': 'robust', 'lambda_l1': 2.3101047519240715e-06, 'lambda_l2': 0.8366517276821005, 'num_leaves': 36, 'feature_fraction': 0.9105821802480246, 'bagging_fraction': 0.47752119723018543, 'bagging_freq': 1, 'min_child_samples': 21, 'max_depth': 354}. Best is trial 24 with value: 0.870197741929553.\u001b[0m\n",
      "\u001b[32m[I 2022-06-24 00:09:33,099]\u001b[0m Trial 159 finished with value: 0.843291558093609 and parameters: {'scalers': 'robust', 'lambda_l1': 6.744522488791044e-07, 'lambda_l2': 1.2805222486515164, 'num_leaves': 68, 'feature_fraction': 0.8790218173644121, 'bagging_fraction': 0.4906376768786283, 'bagging_freq': 1, 'min_child_samples': 28, 'max_depth': 370}. Best is trial 24 with value: 0.870197741929553.\u001b[0m\n",
      "\u001b[32m[I 2022-06-24 00:09:35,160]\u001b[0m Trial 160 finished with value: 0.861840323118574 and parameters: {'scalers': 'robust', 'lambda_l1': 1.0408391577711717e-06, 'lambda_l2': 7.62592675383694e-05, 'num_leaves': 52, 'feature_fraction': 0.9018822396261011, 'bagging_fraction': 0.46839015684392793, 'bagging_freq': 1, 'min_child_samples': 20, 'max_depth': 342}. Best is trial 24 with value: 0.870197741929553.\u001b[0m\n",
      "\u001b[32m[I 2022-06-24 00:09:36,797]\u001b[0m Trial 161 finished with value: 0.8658487845144193 and parameters: {'scalers': 'robust', 'lambda_l1': 4.19263570008595e-07, 'lambda_l2': 0.6360701350191639, 'num_leaves': 78, 'feature_fraction': 0.9272970094268462, 'bagging_fraction': 0.4399313995395493, 'bagging_freq': 1, 'min_child_samples': 16, 'max_depth': 384}. Best is trial 24 with value: 0.870197741929553.\u001b[0m\n",
      "\u001b[32m[I 2022-06-24 00:09:38,351]\u001b[0m Trial 162 finished with value: 0.8684806221470308 and parameters: {'scalers': 'robust', 'lambda_l1': 4.4128303473358415e-07, 'lambda_l2': 0.577823768030162, 'num_leaves': 78, 'feature_fraction': 0.9254823371185165, 'bagging_fraction': 0.43939892807355646, 'bagging_freq': 1, 'min_child_samples': 15, 'max_depth': 391}. Best is trial 24 with value: 0.870197741929553.\u001b[0m\n",
      "\u001b[32m[I 2022-06-24 00:09:40,481]\u001b[0m Trial 163 finished with value: 0.8621550644273168 and parameters: {'scalers': 'robust', 'lambda_l1': 5.861227424541154e-07, 'lambda_l2': 0.6446114471372028, 'num_leaves': 78, 'feature_fraction': 0.9283293240071602, 'bagging_fraction': 0.43951287800916017, 'bagging_freq': 1, 'min_child_samples': 9, 'max_depth': 400}. Best is trial 24 with value: 0.870197741929553.\u001b[0m\n",
      "\u001b[32m[I 2022-06-24 00:09:42,031]\u001b[0m Trial 164 finished with value: 0.8638372435742793 and parameters: {'scalers': 'robust', 'lambda_l1': 3.657840582211783e-07, 'lambda_l2': 0.8288588278044695, 'num_leaves': 69, 'feature_fraction': 0.8902823898815548, 'bagging_fraction': 0.46211911828238555, 'bagging_freq': 1, 'min_child_samples': 15, 'max_depth': 385}. Best is trial 24 with value: 0.870197741929553.\u001b[0m\n",
      "\u001b[32m[I 2022-06-24 00:09:43,676]\u001b[0m Trial 165 finished with value: 0.8635288787150244 and parameters: {'scalers': 'robust', 'lambda_l1': 9.507065176222345e-07, 'lambda_l2': 0.40110909290253993, 'num_leaves': 85, 'feature_fraction': 0.9124122546935884, 'bagging_fraction': 0.4386992985807343, 'bagging_freq': 1, 'min_child_samples': 12, 'max_depth': 357}. Best is trial 24 with value: 0.870197741929553.\u001b[0m\n",
      "\u001b[32m[I 2022-06-24 00:09:45,280]\u001b[0m Trial 166 finished with value: 0.8667398528973607 and parameters: {'scalers': 'robust', 'lambda_l1': 4.552192718206856e-07, 'lambda_l2': 1.5492861169580923, 'num_leaves': 76, 'feature_fraction': 0.937400239894182, 'bagging_fraction': 0.45598948389826366, 'bagging_freq': 1, 'min_child_samples': 16, 'max_depth': 374}. Best is trial 24 with value: 0.870197741929553.\u001b[0m\n",
      "\u001b[32m[I 2022-06-24 00:09:46,517]\u001b[0m Trial 167 finished with value: 0.8679973674416399 and parameters: {'scalers': 'minmax', 'lambda_l1': 1.6488306311155794e-06, 'lambda_l2': 1.3594105150380236, 'num_leaves': 56, 'feature_fraction': 0.9344243280270762, 'bagging_fraction': 0.4516576899493448, 'bagging_freq': 1, 'min_child_samples': 16, 'max_depth': 408}. Best is trial 24 with value: 0.870197741929553.\u001b[0m\n"
     ]
    },
    {
     "name": "stderr",
     "output_type": "stream",
     "text": [
      "\u001b[32m[I 2022-06-24 00:09:47,756]\u001b[0m Trial 168 finished with value: 0.8632264818944385 and parameters: {'scalers': 'minmax', 'lambda_l1': 3.5195009750714974e-06, 'lambda_l2': 0.470287007833321, 'num_leaves': 59, 'feature_fraction': 0.9362316772976995, 'bagging_fraction': 0.4529041697785809, 'bagging_freq': 1, 'min_child_samples': 13, 'max_depth': 408}. Best is trial 24 with value: 0.870197741929553.\u001b[0m\n",
      "\u001b[32m[I 2022-06-24 00:09:48,876]\u001b[0m Trial 169 finished with value: 0.8614011064829563 and parameters: {'scalers': 'minmax', 'lambda_l1': 4.1529020090961666e-07, 'lambda_l2': 3.4336462323520487, 'num_leaves': 23, 'feature_fraction': 0.9257608926455617, 'bagging_fraction': 0.42746927798405987, 'bagging_freq': 1, 'min_child_samples': 16, 'max_depth': 435}. Best is trial 24 with value: 0.870197741929553.\u001b[0m\n",
      "\u001b[32m[I 2022-06-24 00:09:50,259]\u001b[0m Trial 170 finished with value: 0.8613305787564688 and parameters: {'scalers': 'minmax', 'lambda_l1': 5.127571689478989e-07, 'lambda_l2': 0.9927869714280647, 'num_leaves': 41, 'feature_fraction': 0.9496799899066248, 'bagging_fraction': 0.459780841287448, 'bagging_freq': 1, 'min_child_samples': 10, 'max_depth': 371}. Best is trial 24 with value: 0.870197741929553.\u001b[0m\n",
      "\u001b[32m[I 2022-06-24 00:09:51,378]\u001b[0m Trial 171 finished with value: 0.8666646872649195 and parameters: {'scalers': 'minmax', 'lambda_l1': 1.5696816892114192e-06, 'lambda_l2': 1.354531573506422, 'num_leaves': 74, 'feature_fraction': 0.9135088737387511, 'bagging_fraction': 0.4456912774508168, 'bagging_freq': 1, 'min_child_samples': 17, 'max_depth': 394}. Best is trial 24 with value: 0.870197741929553.\u001b[0m\n",
      "\u001b[32m[I 2022-06-24 00:09:52,541]\u001b[0m Trial 172 finished with value: 0.8641473637087027 and parameters: {'scalers': 'minmax', 'lambda_l1': 5.0577660666115015e-06, 'lambda_l2': 2.06790460935847, 'num_leaves': 75, 'feature_fraction': 0.9107295085975268, 'bagging_fraction': 0.44616646448671143, 'bagging_freq': 1, 'min_child_samples': 16, 'max_depth': 397}. Best is trial 24 with value: 0.870197741929553.\u001b[0m\n",
      "\u001b[32m[I 2022-06-24 00:09:53,619]\u001b[0m Trial 173 finished with value: 0.8637264907435187 and parameters: {'scalers': 'minmax', 'lambda_l1': 1.8441894420460499e-06, 'lambda_l2': 3.8154932222623725, 'num_leaves': 64, 'feature_fraction': 0.9237558311946076, 'bagging_fraction': 0.4320960672870148, 'bagging_freq': 1, 'min_child_samples': 18, 'max_depth': 416}. Best is trial 24 with value: 0.870197741929553.\u001b[0m\n",
      "\u001b[32m[I 2022-06-24 00:09:54,592]\u001b[0m Trial 174 finished with value: 0.8642523560246083 and parameters: {'scalers': 'minmax', 'lambda_l1': 9.191331220990755e-07, 'lambda_l2': 1.3872107685737103, 'num_leaves': 55, 'feature_fraction': 0.9358657690911811, 'bagging_fraction': 0.41314674794292583, 'bagging_freq': 1, 'min_child_samples': 14, 'max_depth': 330}. Best is trial 24 with value: 0.870197741929553.\u001b[0m\n",
      "\u001b[32m[I 2022-06-24 00:09:55,892]\u001b[0m Trial 175 finished with value: 0.8615222018908164 and parameters: {'scalers': 'minmax', 'lambda_l1': 1.0754084789315263e-06, 'lambda_l2': 0.627980187879303, 'num_leaves': 82, 'feature_fraction': 0.868566331423948, 'bagging_fraction': 0.47852244291551943, 'bagging_freq': 1, 'min_child_samples': 17, 'max_depth': 457}. Best is trial 24 with value: 0.870197741929553.\u001b[0m\n",
      "\u001b[32m[I 2022-06-24 00:09:57,386]\u001b[0m Trial 176 finished with value: 0.8601942390040298 and parameters: {'scalers': 'minmax', 'lambda_l1': 1.1006605059685901e-05, 'lambda_l2': 1.0336910931028007, 'num_leaves': 99, 'feature_fraction': 0.9582077872379875, 'bagging_fraction': 0.4650817926442177, 'bagging_freq': 1, 'min_child_samples': 11, 'max_depth': 429}. Best is trial 24 with value: 0.870197741929553.\u001b[0m\n",
      "\u001b[32m[I 2022-06-24 00:09:58,892]\u001b[0m Trial 177 finished with value: 0.8643267497681196 and parameters: {'scalers': 'minmax', 'lambda_l1': 3.9773035776439914e-07, 'lambda_l2': 5.775971054585137, 'num_leaves': 64, 'feature_fraction': 0.9021633545279862, 'bagging_fraction': 0.4506112610409567, 'bagging_freq': 1, 'min_child_samples': 14, 'max_depth': 536}. Best is trial 24 with value: 0.870197741929553.\u001b[0m\n",
      "\u001b[32m[I 2022-06-24 00:09:59,853]\u001b[0m Trial 178 finished with value: 0.8640628511710169 and parameters: {'scalers': 'minmax', 'lambda_l1': 7.37611795663662e-07, 'lambda_l2': 2.649804373048194, 'num_leaves': 75, 'feature_fraction': 0.9149850040227667, 'bagging_fraction': 0.4143035764713793, 'bagging_freq': 1, 'min_child_samples': 18, 'max_depth': 379}. Best is trial 24 with value: 0.870197741929553.\u001b[0m\n",
      "\u001b[32m[I 2022-06-24 00:10:01,140]\u001b[0m Trial 179 finished with value: 0.8708616194177339 and parameters: {'scalers': 'robust', 'lambda_l1': 2.6227881171127243e-07, 'lambda_l2': 0.6709933245026327, 'num_leaves': 92, 'feature_fraction': 0.8857027921138646, 'bagging_fraction': 0.42742729219497005, 'bagging_freq': 1, 'min_child_samples': 16, 'max_depth': 402}. Best is trial 179 with value: 0.8708616194177339.\u001b[0m\n",
      "\u001b[32m[I 2022-06-24 00:10:01,725]\u001b[0m Trial 180 finished with value: 0.5 and parameters: {'scalers': 'robust', 'lambda_l1': 2.3344694986659913e-07, 'lambda_l2': 1.7454237736895042, 'num_leaves': 90, 'feature_fraction': 0.8825225180148027, 'bagging_fraction': 0.4293350528132569, 'bagging_freq': 1, 'min_child_samples': 60, 'max_depth': 482}. Best is trial 179 with value: 0.8708616194177339.\u001b[0m\n",
      "\u001b[32m[I 2022-06-24 00:10:03,020]\u001b[0m Trial 181 finished with value: 0.8636909446977171 and parameters: {'scalers': 'robust', 'lambda_l1': 3.1527418760547915e-07, 'lambda_l2': 0.4883886892401431, 'num_leaves': 77, 'feature_fraction': 0.9029081537236794, 'bagging_fraction': 0.440174770626189, 'bagging_freq': 1, 'min_child_samples': 16, 'max_depth': 393}. Best is trial 179 with value: 0.8708616194177339.\u001b[0m\n",
      "\u001b[32m[I 2022-06-24 00:10:04,170]\u001b[0m Trial 182 finished with value: 0.86691658098953 and parameters: {'scalers': 'robust', 'lambda_l1': 4.5469632585618887e-07, 'lambda_l2': 0.6960458487900409, 'num_leaves': 47, 'feature_fraction': 0.9257030697655466, 'bagging_fraction': 0.42303980692453563, 'bagging_freq': 1, 'min_child_samples': 19, 'max_depth': 406}. Best is trial 179 with value: 0.8708616194177339.\u001b[0m\n",
      "\u001b[32m[I 2022-06-24 00:10:05,396]\u001b[0m Trial 183 finished with value: 0.8666655493414395 and parameters: {'scalers': 'robust', 'lambda_l1': 1.1966921145166997e-06, 'lambda_l2': 0.795127950197108, 'num_leaves': 56, 'feature_fraction': 0.9421185918948123, 'bagging_fraction': 0.42266685303801366, 'bagging_freq': 1, 'min_child_samples': 19, 'max_depth': 420}. Best is trial 179 with value: 0.8708616194177339.\u001b[0m\n",
      "\u001b[32m[I 2022-06-24 00:10:06,446]\u001b[0m Trial 184 finished with value: 0.8658175391000468 and parameters: {'scalers': 'robust', 'lambda_l1': 2.6623510349224474e-06, 'lambda_l2': 1.0793307290065353, 'num_leaves': 56, 'feature_fraction': 0.9466888981355296, 'bagging_fraction': 0.4115308928309271, 'bagging_freq': 1, 'min_child_samples': 21, 'max_depth': 409}. Best is trial 179 with value: 0.8708616194177339.\u001b[0m\n",
      "\u001b[32m[I 2022-06-24 00:10:07,660]\u001b[0m Trial 185 finished with value: 0.8629300472059761 and parameters: {'scalers': 'robust', 'lambda_l1': 6.122170241238755e-07, 'lambda_l2': 0.3637535040234205, 'num_leaves': 46, 'feature_fraction': 0.9401867107304724, 'bagging_fraction': 0.41673888604297327, 'bagging_freq': 1, 'min_child_samples': 19, 'max_depth': 438}. Best is trial 179 with value: 0.8708616194177339.\u001b[0m\n",
      "\u001b[32m[I 2022-06-24 00:10:09,143]\u001b[0m Trial 186 finished with value: 0.8629613330211241 and parameters: {'scalers': 'robust', 'lambda_l1': 1.750152029993006e-06, 'lambda_l2': 0.7860306165676127, 'num_leaves': 52, 'feature_fraction': 0.9165108627023817, 'bagging_fraction': 0.4527471516723832, 'bagging_freq': 1, 'min_child_samples': 12, 'max_depth': 408}. Best is trial 179 with value: 0.8708616194177339.\u001b[0m\n",
      "\u001b[32m[I 2022-06-24 00:10:09,522]\u001b[0m Trial 187 finished with value: 0.5 and parameters: {'scalers': 'standard', 'lambda_l1': 1.2798871899423413e-06, 'lambda_l2': 0.3345025461871319, 'num_leaves': 48, 'feature_fraction': 0.9581733306228404, 'bagging_fraction': 0.40123540786379264, 'bagging_freq': 1, 'min_child_samples': 88, 'max_depth': 365}. Best is trial 179 with value: 0.8708616194177339.\u001b[0m\n",
      "\u001b[32m[I 2022-06-24 00:10:10,884]\u001b[0m Trial 188 finished with value: 0.8582741111227955 and parameters: {'scalers': 'robust', 'lambda_l1': 2.2535240046214476e-07, 'lambda_l2': 1.5495117636067937, 'num_leaves': 68, 'feature_fraction': 0.9336106712738144, 'bagging_fraction': 0.4233451418270796, 'bagging_freq': 1, 'min_child_samples': 15, 'max_depth': 428}. Best is trial 179 with value: 0.8708616194177339.\u001b[0m\n"
     ]
    },
    {
     "name": "stderr",
     "output_type": "stream",
     "text": [
      "\u001b[32m[I 2022-06-24 00:10:12,029]\u001b[0m Trial 189 finished with value: 0.862092874273989 and parameters: {'scalers': 'robust', 'lambda_l1': 6.858374700285733e-07, 'lambda_l2': 0.5353781031028702, 'num_leaves': 43, 'feature_fraction': 0.8649218241500364, 'bagging_fraction': 0.4614168140430328, 'bagging_freq': 1, 'min_child_samples': 22, 'max_depth': 452}. Best is trial 179 with value: 0.8708616194177339.\u001b[0m\n",
      "\u001b[32m[I 2022-06-24 00:10:13,268]\u001b[0m Trial 190 finished with value: 0.8685445969793879 and parameters: {'scalers': 'robust', 'lambda_l1': 9.510654927268586e-07, 'lambda_l2': 1.0786820250163967, 'num_leaves': 96, 'feature_fraction': 0.9231085103495782, 'bagging_fraction': 0.4887119362360643, 'bagging_freq': 1, 'min_child_samples': 19, 'max_depth': 342}. Best is trial 179 with value: 0.8708616194177339.\u001b[0m\n",
      "\u001b[32m[I 2022-06-24 00:10:14,442]\u001b[0m Trial 191 finished with value: 0.8681475439550131 and parameters: {'scalers': 'robust', 'lambda_l1': 1.1270261093593196e-06, 'lambda_l2': 1.0442189941489977, 'num_leaves': 101, 'feature_fraction': 0.9233413804521805, 'bagging_fraction': 0.4879865654784997, 'bagging_freq': 1, 'min_child_samples': 19, 'max_depth': 370}. Best is trial 179 with value: 0.8708616194177339.\u001b[0m\n",
      "\u001b[32m[I 2022-06-24 00:10:15,637]\u001b[0m Trial 192 finished with value: 0.8637941964296455 and parameters: {'scalers': 'robust', 'lambda_l1': 1.2951906136989382e-06, 'lambda_l2': 1.0807411177379669, 'num_leaves': 97, 'feature_fraction': 0.885726893704831, 'bagging_fraction': 0.4971581897030326, 'bagging_freq': 1, 'min_child_samples': 18, 'max_depth': 349}. Best is trial 179 with value: 0.8708616194177339.\u001b[0m\n",
      "\u001b[32m[I 2022-06-24 00:10:16,848]\u001b[0m Trial 193 finished with value: 0.8648097276820188 and parameters: {'scalers': 'robust', 'lambda_l1': 2.4820048455910158e-06, 'lambda_l2': 2.1575531358656033, 'num_leaves': 106, 'feature_fraction': 0.9208492351163422, 'bagging_fraction': 0.48683790907656005, 'bagging_freq': 1, 'min_child_samples': 20, 'max_depth': 367}. Best is trial 179 with value: 0.8708616194177339.\u001b[0m\n",
      "\u001b[32m[I 2022-06-24 00:10:18,026]\u001b[0m Trial 194 finished with value: 0.8650439720882832 and parameters: {'scalers': 'robust', 'lambda_l1': 1.0191249369652668e-06, 'lambda_l2': 0.8517012709710303, 'num_leaves': 93, 'feature_fraction': 0.9077722069854811, 'bagging_fraction': 0.5147679293866155, 'bagging_freq': 1, 'min_child_samples': 17, 'max_depth': 375}. Best is trial 179 with value: 0.8708616194177339.\u001b[0m\n",
      "\u001b[32m[I 2022-06-24 00:10:19,352]\u001b[0m Trial 195 finished with value: 0.862151105172777 and parameters: {'scalers': 'robust', 'lambda_l1': 6.943856295741548e-06, 'lambda_l2': 2.9910151479734255, 'num_leaves': 104, 'feature_fraction': 0.8913590319396062, 'bagging_fraction': 0.4528702683633167, 'bagging_freq': 1, 'min_child_samples': 14, 'max_depth': 402}. Best is trial 179 with value: 0.8708616194177339.\u001b[0m\n",
      "\u001b[32m[I 2022-06-24 00:10:20,360]\u001b[0m Trial 196 finished with value: 0.8636153586265816 and parameters: {'scalers': 'robust', 'lambda_l1': 4.926440958234112e-07, 'lambda_l2': 1.5045142404595135, 'num_leaves': 85, 'feature_fraction': 0.949179717351564, 'bagging_fraction': 0.42489726778495, 'bagging_freq': 1, 'min_child_samples': 19, 'max_depth': 331}. Best is trial 179 with value: 0.8708616194177339.\u001b[0m\n",
      "\u001b[32m[I 2022-06-24 00:10:21,976]\u001b[0m Trial 197 finished with value: 0.8661917311919247 and parameters: {'scalers': 'robust', 'lambda_l1': 7.166128404125073e-07, 'lambda_l2': 0.7216558195602882, 'num_leaves': 110, 'feature_fraction': 0.922867611550786, 'bagging_fraction': 0.4804964116408125, 'bagging_freq': 1, 'min_child_samples': 16, 'max_depth': 423}. Best is trial 179 with value: 0.8708616194177339.\u001b[0m\n",
      "\u001b[32m[I 2022-06-24 00:10:23,059]\u001b[0m Trial 198 finished with value: 0.8582919129803805 and parameters: {'scalers': 'robust', 'lambda_l1': 3.535613714951992e-06, 'lambda_l2': 0.4738264443553953, 'num_leaves': 97, 'feature_fraction': 0.8775742967822893, 'bagging_fraction': 0.5026081314880918, 'bagging_freq': 1, 'min_child_samples': 13, 'max_depth': 342}. Best is trial 179 with value: 0.8708616194177339.\u001b[0m\n",
      "\u001b[32m[I 2022-06-24 00:10:23,824]\u001b[0m Trial 199 finished with value: 0.8682996662565161 and parameters: {'scalers': 'robust', 'lambda_l1': 2.0545715889809023e-06, 'lambda_l2': 1.1963504877239513, 'num_leaves': 58, 'feature_fraction': 0.964185954237544, 'bagging_fraction': 0.4429403055435933, 'bagging_freq': 1, 'min_child_samples': 21, 'max_depth': 310}. Best is trial 179 with value: 0.8708616194177339.\u001b[0m\n",
      "\u001b[32m[I 2022-06-24 00:10:24,421]\u001b[0m Trial 200 finished with value: 0.8486830866501918 and parameters: {'scalers': 'robust', 'lambda_l1': 2.013478369824975e-06, 'lambda_l2': 1.0295471623257861, 'num_leaves': 58, 'feature_fraction': 0.9664659912855657, 'bagging_fraction': 0.4335097809540834, 'bagging_freq': 1, 'min_child_samples': 24, 'max_depth': 306}. Best is trial 179 with value: 0.8708616194177339.\u001b[0m\n",
      "\u001b[32m[I 2022-06-24 00:10:25,165]\u001b[0m Trial 201 finished with value: 0.866967577894242 and parameters: {'scalers': 'robust', 'lambda_l1': 1.2693222633348597e-06, 'lambda_l2': 1.7277494637893545, 'num_leaves': 72, 'feature_fraction': 0.9419965948499743, 'bagging_fraction': 0.45960766669245806, 'bagging_freq': 1, 'min_child_samples': 20, 'max_depth': 283}. Best is trial 179 with value: 0.8708616194177339.\u001b[0m\n",
      "\u001b[32m[I 2022-06-24 00:10:25,875]\u001b[0m Trial 202 finished with value: 0.8641948906142016 and parameters: {'scalers': 'robust', 'lambda_l1': 1.0788898798270948e-06, 'lambda_l2': 2.2811556398544504, 'num_leaves': 63, 'feature_fraction': 0.9534456055447744, 'bagging_fraction': 0.45734364716622083, 'bagging_freq': 1, 'min_child_samples': 20, 'max_depth': 276}. Best is trial 179 with value: 0.8708616194177339.\u001b[0m\n",
      "\u001b[32m[I 2022-06-24 00:10:26,307]\u001b[0m Trial 203 finished with value: 0.5 and parameters: {'scalers': 'robust', 'lambda_l1': 4.4827554401263987e-07, 'lambda_l2': 0.804615652683367, 'num_leaves': 53, 'feature_fraction': 0.9428829096801746, 'bagging_fraction': 0.47102897374660957, 'bagging_freq': 1, 'min_child_samples': 50, 'max_depth': 288}. Best is trial 179 with value: 0.8708616194177339.\u001b[0m\n",
      "\u001b[32m[I 2022-06-24 00:10:27,071]\u001b[0m Trial 204 finished with value: 0.8680409510080564 and parameters: {'scalers': 'robust', 'lambda_l1': 8.369467005302396e-07, 'lambda_l2': 1.7784721293413672, 'num_leaves': 100, 'feature_fraction': 0.9284410824954766, 'bagging_fraction': 0.4438990432927305, 'bagging_freq': 1, 'min_child_samples': 21, 'max_depth': 310}. Best is trial 179 with value: 0.8708616194177339.\u001b[0m\n",
      "\u001b[32m[I 2022-06-24 00:10:27,818]\u001b[0m Trial 205 finished with value: 0.8640844850883552 and parameters: {'scalers': 'robust', 'lambda_l1': 3.577146862183446e-07, 'lambda_l2': 4.022128356225963, 'num_leaves': 92, 'feature_fraction': 0.9275045772737307, 'bagging_fraction': 0.4653947736054605, 'bagging_freq': 1, 'min_child_samples': 22, 'max_depth': 306}. Best is trial 179 with value: 0.8708616194177339.\u001b[0m\n",
      "\u001b[32m[I 2022-06-24 00:10:28,658]\u001b[0m Trial 206 finished with value: 0.8651380819258141 and parameters: {'scalers': 'robust', 'lambda_l1': 7.917882930770588e-07, 'lambda_l2': 1.9254513254487915, 'num_leaves': 101, 'feature_fraction': 0.9624022867306128, 'bagging_fraction': 0.5292396496281239, 'bagging_freq': 1, 'min_child_samples': 21, 'max_depth': 324}. Best is trial 179 with value: 0.8708616194177339.\u001b[0m\n",
      "\u001b[32m[I 2022-06-24 00:10:29,182]\u001b[0m Trial 207 finished with value: 0.8293750466724539 and parameters: {'scalers': 'robust', 'lambda_l1': 1.5440144415009024e-07, 'lambda_l2': 1.360385328636228, 'num_leaves': 85, 'feature_fraction': 0.930826993718693, 'bagging_fraction': 0.4444376605976045, 'bagging_freq': 1, 'min_child_samples': 25, 'max_depth': 243}. Best is trial 179 with value: 0.8708616194177339.\u001b[0m\n",
      "\u001b[32m[I 2022-06-24 00:10:29,964]\u001b[0m Trial 208 finished with value: 0.8607550174713486 and parameters: {'scalers': 'robust', 'lambda_l1': 5.907126838335181e-07, 'lambda_l2': 5.0071842003155025, 'num_leaves': 110, 'feature_fraction': 0.9086900312589119, 'bagging_fraction': 0.49026481301166785, 'bagging_freq': 1, 'min_child_samples': 18, 'max_depth': 289}. Best is trial 179 with value: 0.8708616194177339.\u001b[0m\n",
      "\u001b[32m[I 2022-06-24 00:10:30,634]\u001b[0m Trial 209 finished with value: 0.8668979172702084 and parameters: {'scalers': 'robust', 'lambda_l1': 3.013399776079722e-07, 'lambda_l2': 0.26884526800644054, 'num_leaves': 38, 'feature_fraction': 0.8958750435445306, 'bagging_fraction': 0.45843642935264195, 'bagging_freq': 1, 'min_child_samples': 23, 'max_depth': 317}. Best is trial 179 with value: 0.8708616194177339.\u001b[0m\n"
     ]
    },
    {
     "name": "stderr",
     "output_type": "stream",
     "text": [
      "\u001b[32m[I 2022-06-24 00:10:31,330]\u001b[0m Trial 210 finished with value: 0.8668631846309864 and parameters: {'scalers': 'robust', 'lambda_l1': 2.624478904117859e-07, 'lambda_l2': 0.31126828018582475, 'num_leaves': 28, 'feature_fraction': 0.891797805435693, 'bagging_fraction': 0.4805578193530731, 'bagging_freq': 1, 'min_child_samples': 23, 'max_depth': 260}. Best is trial 179 with value: 0.8708616194177339.\u001b[0m\n",
      "\u001b[32m[I 2022-06-24 00:10:31,956]\u001b[0m Trial 211 finished with value: 0.8678655838915127 and parameters: {'scalers': 'robust', 'lambda_l1': 3.3230502013634666e-07, 'lambda_l2': 0.28131679794067693, 'num_leaves': 27, 'feature_fraction': 0.8920777604008847, 'bagging_fraction': 0.4654767351370562, 'bagging_freq': 1, 'min_child_samples': 23, 'max_depth': 263}. Best is trial 179 with value: 0.8708616194177339.\u001b[0m\n",
      "\u001b[32m[I 2022-06-24 00:10:32,974]\u001b[0m Trial 212 finished with value: 0.8668979360422859 and parameters: {'scalers': 'robust', 'lambda_l1': 2.9363425527970954e-07, 'lambda_l2': 0.2705266581000488, 'num_leaves': 19, 'feature_fraction': 0.8956892269529705, 'bagging_fraction': 0.47697874698435316, 'bagging_freq': 1, 'min_child_samples': 24, 'max_depth': 314}. Best is trial 179 with value: 0.8708616194177339.\u001b[0m\n",
      "\u001b[32m[I 2022-06-24 00:10:33,977]\u001b[0m Trial 213 finished with value: 0.855680435620451 and parameters: {'scalers': 'robust', 'lambda_l1': 3.1104604010331526e-07, 'lambda_l2': 0.26118864073892895, 'num_leaves': 40, 'feature_fraction': 0.9030553837708164, 'bagging_fraction': 0.47251471765146896, 'bagging_freq': 1, 'min_child_samples': 26, 'max_depth': 317}. Best is trial 179 with value: 0.8708616194177339.\u001b[0m\n",
      "\u001b[32m[I 2022-06-24 00:10:35,035]\u001b[0m Trial 214 finished with value: 0.8705491567471058 and parameters: {'scalers': 'robust', 'lambda_l1': 1.6557328508221368e-07, 'lambda_l2': 0.43319554383591435, 'num_leaves': 18, 'feature_fraction': 0.8971045310456515, 'bagging_fraction': 0.4939519696297966, 'bagging_freq': 1, 'min_child_samples': 23, 'max_depth': 309}. Best is trial 179 with value: 0.8708616194177339.\u001b[0m\n",
      "\u001b[32m[I 2022-06-24 00:10:35,943]\u001b[0m Trial 215 finished with value: 0.8691436640629752 and parameters: {'scalers': 'robust', 'lambda_l1': 1.4323633540807683e-07, 'lambda_l2': 0.47936536670348706, 'num_leaves': 31, 'feature_fraction': 0.9187865586945981, 'bagging_fraction': 0.501116656962789, 'bagging_freq': 1, 'min_child_samples': 21, 'max_depth': 292}. Best is trial 179 with value: 0.8708616194177339.\u001b[0m\n",
      "\u001b[32m[I 2022-06-24 00:10:36,696]\u001b[0m Trial 216 finished with value: 0.8679315059080928 and parameters: {'scalers': 'standard', 'lambda_l1': 1.1316600493399946e-07, 'lambda_l2': 0.5370115056758216, 'num_leaves': 19, 'feature_fraction': 0.9173654082204008, 'bagging_fraction': 0.5053240050968628, 'bagging_freq': 1, 'min_child_samples': 21, 'max_depth': 285}. Best is trial 179 with value: 0.8708616194177339.\u001b[0m\n",
      "\u001b[32m[I 2022-06-24 00:10:37,451]\u001b[0m Trial 217 finished with value: 0.8629210301867036 and parameters: {'scalers': 'standard', 'lambda_l1': 1.1988361791172488e-07, 'lambda_l2': 0.4816132344206488, 'num_leaves': 11, 'feature_fraction': 0.9162451817547206, 'bagging_fraction': 0.5133291074530835, 'bagging_freq': 1, 'min_child_samples': 21, 'max_depth': 284}. Best is trial 179 with value: 0.8708616194177339.\u001b[0m\n",
      "\u001b[32m[I 2022-06-24 00:10:38,239]\u001b[0m Trial 218 finished with value: 0.8652886743889066 and parameters: {'scalers': 'standard', 'lambda_l1': 1.0598508413693233e-07, 'lambda_l2': 0.5021181979227859, 'num_leaves': 10, 'feature_fraction': 0.9137223940774616, 'bagging_fraction': 0.501097247102609, 'bagging_freq': 1, 'min_child_samples': 22, 'max_depth': 296}. Best is trial 179 with value: 0.8708616194177339.\u001b[0m\n",
      "\u001b[32m[I 2022-06-24 00:10:38,840]\u001b[0m Trial 219 finished with value: 0.8666483504670424 and parameters: {'scalers': 'standard', 'lambda_l1': 1.4950897326861037e-07, 'lambda_l2': 0.43562606525143355, 'num_leaves': 19, 'feature_fraction': 0.8756446802851285, 'bagging_fraction': 0.5234777548916488, 'bagging_freq': 1, 'min_child_samples': 26, 'max_depth': 254}. Best is trial 179 with value: 0.8708616194177339.\u001b[0m\n",
      "\u001b[32m[I 2022-06-24 00:10:39,710]\u001b[0m Trial 220 finished with value: 0.8663632513642189 and parameters: {'scalers': 'robust', 'lambda_l1': 1.8393996299777714e-07, 'lambda_l2': 1.0953676200684928, 'num_leaves': 24, 'feature_fraction': 0.9046066924967286, 'bagging_fraction': 0.49334919317460035, 'bagging_freq': 1, 'min_child_samples': 21, 'max_depth': 276}. Best is trial 179 with value: 0.8708616194177339.\u001b[0m\n",
      "\u001b[32m[I 2022-06-24 00:10:40,653]\u001b[0m Trial 221 finished with value: 0.8667047238322394 and parameters: {'scalers': 'standard', 'lambda_l1': 1.7708479666655723e-07, 'lambda_l2': 0.6912078891741193, 'num_leaves': 31, 'feature_fraction': 0.9227210339658202, 'bagging_fraction': 0.5047433295552425, 'bagging_freq': 1, 'min_child_samples': 20, 'max_depth': 340}. Best is trial 179 with value: 0.8708616194177339.\u001b[0m\n",
      "\u001b[32m[I 2022-06-24 00:10:41,449]\u001b[0m Trial 222 finished with value: 0.8692306513146296 and parameters: {'scalers': 'standard', 'lambda_l1': 8.253071319115054e-07, 'lambda_l2': 0.5992844811402178, 'num_leaves': 24, 'feature_fraction': 0.9284932390628872, 'bagging_fraction': 0.5321875689416706, 'bagging_freq': 1, 'min_child_samples': 19, 'max_depth': 295}. Best is trial 179 with value: 0.8708616194177339.\u001b[0m\n",
      "\u001b[32m[I 2022-06-24 00:10:42,170]\u001b[0m Trial 223 finished with value: 0.8696822272155089 and parameters: {'scalers': 'standard', 'lambda_l1': 7.674321988718984e-07, 'lambda_l2': 0.584639891785197, 'num_leaves': 18, 'feature_fraction': 0.9318776440635614, 'bagging_fraction': 0.5356195833201581, 'bagging_freq': 1, 'min_child_samples': 24, 'max_depth': 296}. Best is trial 179 with value: 0.8708616194177339.\u001b[0m\n",
      "\u001b[32m[I 2022-06-24 00:10:42,915]\u001b[0m Trial 224 finished with value: 0.868271496305552 and parameters: {'scalers': 'standard', 'lambda_l1': 7.345197654517752e-07, 'lambda_l2': 0.4441254071786894, 'num_leaves': 15, 'feature_fraction': 0.9318105954161677, 'bagging_fraction': 0.5423346637674714, 'bagging_freq': 1, 'min_child_samples': 23, 'max_depth': 297}. Best is trial 179 with value: 0.8708616194177339.\u001b[0m\n",
      "\u001b[32m[I 2022-06-24 00:10:43,572]\u001b[0m Trial 225 finished with value: 0.8621764656052581 and parameters: {'scalers': 'standard', 'lambda_l1': 8.244954651048325e-07, 'lambda_l2': 0.00014471447933501913, 'num_leaves': 5, 'feature_fraction': 0.9514361364282234, 'bagging_fraction': 0.5294544886746717, 'bagging_freq': 1, 'min_child_samples': 25, 'max_depth': 295}. Best is trial 179 with value: 0.8708616194177339.\u001b[0m\n",
      "\u001b[32m[I 2022-06-24 00:10:44,261]\u001b[0m Trial 226 finished with value: 0.8681225080174383 and parameters: {'scalers': 'standard', 'lambda_l1': 6.822962007190257e-07, 'lambda_l2': 0.53380813029954, 'num_leaves': 15, 'feature_fraction': 0.9407042714805383, 'bagging_fraction': 0.5278893594938168, 'bagging_freq': 1, 'min_child_samples': 23, 'max_depth': 271}. Best is trial 179 with value: 0.8708616194177339.\u001b[0m\n",
      "\u001b[32m[I 2022-06-24 00:10:44,871]\u001b[0m Trial 227 finished with value: 0.8644285043302071 and parameters: {'scalers': 'standard', 'lambda_l1': 6.06889495877616e-07, 'lambda_l2': 0.4176876075681654, 'num_leaves': 14, 'feature_fraction': 0.918598050296303, 'bagging_fraction': 0.5607800029613471, 'bagging_freq': 1, 'min_child_samples': 28, 'max_depth': 235}. Best is trial 179 with value: 0.8708616194177339.\u001b[0m\n",
      "\u001b[32m[I 2022-06-24 00:10:45,570]\u001b[0m Trial 228 finished with value: 0.8655839457025603 and parameters: {'scalers': 'standard', 'lambda_l1': 7.273878580801493e-08, 'lambda_l2': 0.5744908802998693, 'num_leaves': 17, 'feature_fraction': 0.9343200663993311, 'bagging_fraction': 0.5271794269262584, 'bagging_freq': 1, 'min_child_samples': 23, 'max_depth': 276}. Best is trial 179 with value: 0.8708616194177339.\u001b[0m\n",
      "\u001b[32m[I 2022-06-24 00:10:46,330]\u001b[0m Trial 229 finished with value: 0.8645300859701014 and parameters: {'scalers': 'standard', 'lambda_l1': 8.499501912062276e-07, 'lambda_l2': 0.2016352287124436, 'num_leaves': 22, 'feature_fraction': 0.9103274788060366, 'bagging_fraction': 0.5448636558721204, 'bagging_freq': 1, 'min_child_samples': 24, 'max_depth': 297}. Best is trial 179 with value: 0.8708616194177339.\u001b[0m\n"
     ]
    },
    {
     "name": "stderr",
     "output_type": "stream",
     "text": [
      "\u001b[32m[I 2022-06-24 00:10:46,943]\u001b[0m Trial 230 finished with value: 0.8640739634462545 and parameters: {'scalers': 'standard', 'lambda_l1': 1.0234060503834778e-07, 'lambda_l2': 0.39248313282187064, 'num_leaves': 3, 'feature_fraction': 0.9278944855234093, 'bagging_fraction': 0.548527774331145, 'bagging_freq': 1, 'min_child_samples': 27, 'max_depth': 269}. Best is trial 179 with value: 0.8708616194177339.\u001b[0m\n",
      "\u001b[32m[I 2022-06-24 00:10:47,736]\u001b[0m Trial 231 finished with value: 0.8601418256236368 and parameters: {'scalers': 'standard', 'lambda_l1': 1.3703318663773002e-06, 'lambda_l2': 1.1938522594962715, 'num_leaves': 7, 'feature_fraction': 0.9367080054552612, 'bagging_fraction': 0.5350553914871468, 'bagging_freq': 1, 'min_child_samples': 18, 'max_depth': 286}. Best is trial 179 with value: 0.8708616194177339.\u001b[0m\n",
      "\u001b[32m[I 2022-06-24 00:10:48,532]\u001b[0m Trial 232 finished with value: 0.865513608660861 and parameters: {'scalers': 'standard', 'lambda_l1': 5.64824423796149e-07, 'lambda_l2': 0.6324942451248712, 'num_leaves': 25, 'feature_fraction': 0.9468403928978488, 'bagging_fraction': 0.5398034080408998, 'bagging_freq': 1, 'min_child_samples': 20, 'max_depth': 258}. Best is trial 179 with value: 0.8708616194177339.\u001b[0m\n",
      "\u001b[32m[I 2022-06-24 00:10:49,271]\u001b[0m Trial 233 finished with value: 0.8665175198898108 and parameters: {'scalers': 'standard', 'lambda_l1': 1.0447005017372674e-06, 'lambda_l2': 1.0091335814999394, 'num_leaves': 13, 'feature_fraction': 0.9680663490159019, 'bagging_fraction': 0.5142505977413112, 'bagging_freq': 1, 'min_child_samples': 23, 'max_depth': 304}. Best is trial 179 with value: 0.8708616194177339.\u001b[0m\n",
      "\u001b[32m[I 2022-06-24 00:10:50,032]\u001b[0m Trial 234 finished with value: 0.8628596173348495 and parameters: {'scalers': 'standard', 'lambda_l1': 1.5960123294208953e-06, 'lambda_l2': 1.7419699507081072, 'num_leaves': 16, 'feature_fraction': 0.9564038113233845, 'bagging_fraction': 0.5213329226410869, 'bagging_freq': 1, 'min_child_samples': 18, 'max_depth': 265}. Best is trial 179 with value: 0.8708616194177339.\u001b[0m\n",
      "\u001b[32m[I 2022-06-24 00:10:50,369]\u001b[0m Trial 235 finished with value: 0.5 and parameters: {'scalers': 'standard', 'lambda_l1': 7.72818994365051e-07, 'lambda_l2': 0.5673924875998805, 'num_leaves': 26, 'feature_fraction': 0.9205631395312184, 'bagging_fraction': 0.49787404862266005, 'bagging_freq': 1, 'min_child_samples': 71, 'max_depth': 245}. Best is trial 179 with value: 0.8708616194177339.\u001b[0m\n",
      "\u001b[32m[I 2022-06-24 00:10:51,086]\u001b[0m Trial 236 finished with value: 0.8619964915115845 and parameters: {'scalers': 'standard', 'lambda_l1': 3.7555052972611657e-07, 'lambda_l2': 0.36064021855064665, 'num_leaves': 19, 'feature_fraction': 0.942155560324053, 'bagging_fraction': 0.48736341970860936, 'bagging_freq': 3, 'min_child_samples': 21, 'max_depth': 282}. Best is trial 179 with value: 0.8708616194177339.\u001b[0m\n",
      "\u001b[32m[I 2022-06-24 00:10:52,012]\u001b[0m Trial 237 finished with value: 0.8600529373017765 and parameters: {'scalers': 'standard', 'lambda_l1': 5.266768157471093e-07, 'lambda_l2': 1.0406811030867404, 'num_leaves': 34, 'feature_fraction': 0.9068387610215858, 'bagging_fraction': 0.554289453428966, 'bagging_freq': 1, 'min_child_samples': 17, 'max_depth': 317}. Best is trial 179 with value: 0.8708616194177339.\u001b[0m\n",
      "\u001b[32m[I 2022-06-24 00:10:52,631]\u001b[0m Trial 238 finished with value: 0.857742923871794 and parameters: {'scalers': 'standard', 'lambda_l1': 1.0822591476988783e-06, 'lambda_l2': 2.7069563095385023, 'num_leaves': 27, 'feature_fraction': 0.9341825978488594, 'bagging_fraction': 0.5108381452252135, 'bagging_freq': 1, 'min_child_samples': 20, 'max_depth': 214}. Best is trial 179 with value: 0.8708616194177339.\u001b[0m\n",
      "\u001b[32m[I 2022-06-24 00:10:53,255]\u001b[0m Trial 239 finished with value: 0.8646654212016054 and parameters: {'scalers': 'standard', 'lambda_l1': 1.9458838775911095e-07, 'lambda_l2': 0.00026943131371706127, 'num_leaves': 13, 'feature_fraction': 0.9199414564503376, 'bagging_fraction': 0.48428749515132735, 'bagging_freq': 1, 'min_child_samples': 25, 'max_depth': 298}. Best is trial 179 with value: 0.8708616194177339.\u001b[0m\n",
      "\u001b[32m[I 2022-06-24 00:10:54,124]\u001b[0m Trial 240 finished with value: 0.8565825181225724 and parameters: {'scalers': 'standard', 'lambda_l1': 4.520175702845983e-08, 'lambda_l2': 0.684314638563765, 'num_leaves': 21, 'feature_fraction': 0.8812291701957781, 'bagging_fraction': 0.5400290389392501, 'bagging_freq': 1, 'min_child_samples': 15, 'max_depth': 272}. Best is trial 179 with value: 0.8708616194177339.\u001b[0m\n",
      "\u001b[32m[I 2022-06-24 00:10:55,001]\u001b[0m Trial 241 finished with value: 0.8655783859028828 and parameters: {'scalers': 'standard', 'lambda_l1': 4.1357032148720066e-07, 'lambda_l2': 0.3297620413433841, 'num_leaves': 96, 'feature_fraction': 0.9297872260858842, 'bagging_fraction': 0.5752350217351639, 'bagging_freq': 1, 'min_child_samples': 22, 'max_depth': 329}. Best is trial 179 with value: 0.8708616194177339.\u001b[0m\n",
      "\u001b[32m[I 2022-06-24 00:10:55,767]\u001b[0m Trial 242 finished with value: 0.8663268021108579 and parameters: {'scalers': 'standard', 'lambda_l1': 2.453997135534201e-07, 'lambda_l2': 0.23303253197061669, 'num_leaves': 102, 'feature_fraction': 0.9444088558945495, 'bagging_fraction': 0.46402000468417537, 'bagging_freq': 1, 'min_child_samples': 23, 'max_depth': 333}. Best is trial 179 with value: 0.8708616194177339.\u001b[0m\n",
      "\u001b[32m[I 2022-06-24 00:10:56,559]\u001b[0m Trial 243 finished with value: 0.8640190941884053 and parameters: {'scalers': 'standard', 'lambda_l1': 6.630090844974613e-07, 'lambda_l2': 0.5378248391955867, 'num_leaves': 29, 'feature_fraction': 0.9020805698722382, 'bagging_fraction': 0.4458191042848675, 'bagging_freq': 1, 'min_child_samples': 19, 'max_depth': 309}. Best is trial 179 with value: 0.8708616194177339.\u001b[0m\n",
      "\u001b[32m[I 2022-06-24 00:10:57,260]\u001b[0m Trial 244 finished with value: 0.8667515042576962 and parameters: {'scalers': 'standard', 'lambda_l1': 0.00023918207984971677, 'lambda_l2': 0.9820492863854101, 'num_leaves': 9, 'feature_fraction': 0.9265340454014084, 'bagging_fraction': 0.4662626652968876, 'bagging_freq': 1, 'min_child_samples': 21, 'max_depth': 290}. Best is trial 179 with value: 0.8708616194177339.\u001b[0m\n",
      "\u001b[32m[I 2022-06-24 00:10:58,089]\u001b[0m Trial 245 finished with value: 0.8677711404522551 and parameters: {'scalers': 'robust', 'lambda_l1': 1.3043329499173439e-07, 'lambda_l2': 1.5482933647388921, 'num_leaves': 15, 'feature_fraction': 0.9522431591340903, 'bagging_fraction': 0.496031179810562, 'bagging_freq': 1, 'min_child_samples': 18, 'max_depth': 253}. Best is trial 179 with value: 0.8708616194177339.\u001b[0m\n",
      "\u001b[32m[I 2022-06-24 00:10:58,921]\u001b[0m Trial 246 finished with value: 0.857300319413129 and parameters: {'scalers': 'robust', 'lambda_l1': 1.2615032491736232e-07, 'lambda_l2': 1.9106583152625223, 'num_leaves': 16, 'feature_fraction': 0.9567709585895836, 'bagging_fraction': 0.49535994661926375, 'bagging_freq': 1, 'min_child_samples': 17, 'max_depth': 234}. Best is trial 179 with value: 0.8708616194177339.\u001b[0m\n",
      "\u001b[32m[I 2022-06-24 00:10:59,744]\u001b[0m Trial 247 finished with value: 0.865238780139709 and parameters: {'scalers': 'robust', 'lambda_l1': 6.957725196670111e-08, 'lambda_l2': 7.685737080821877e-05, 'num_leaves': 19, 'feature_fraction': 0.9698103578981809, 'bagging_fraction': 0.5092896559868358, 'bagging_freq': 1, 'min_child_samples': 19, 'max_depth': 250}. Best is trial 179 with value: 0.8708616194177339.\u001b[0m\n",
      "\u001b[32m[I 2022-06-24 00:11:00,573]\u001b[0m Trial 248 finished with value: 0.8607532528101415 and parameters: {'scalers': 'standard', 'lambda_l1': 2.420417109460945e-06, 'lambda_l2': 1.508923635086092, 'num_leaves': 21, 'feature_fraction': 0.9522730983463651, 'bagging_fraction': 0.5224552123335432, 'bagging_freq': 1, 'min_child_samples': 15, 'max_depth': 271}. Best is trial 179 with value: 0.8708616194177339.\u001b[0m\n",
      "\u001b[32m[I 2022-06-24 00:11:01,467]\u001b[0m Trial 249 finished with value: 0.860919743977213 and parameters: {'scalers': 'robust', 'lambda_l1': 1.0321184992765849e-07, 'lambda_l2': 0.8150865793394182, 'num_leaves': 89, 'feature_fraction': 0.9410283617712315, 'bagging_fraction': 0.4862112836006132, 'bagging_freq': 1, 'min_child_samples': 17, 'max_depth': 267}. Best is trial 179 with value: 0.8708616194177339.\u001b[0m\n"
     ]
    },
    {
     "name": "stderr",
     "output_type": "stream",
     "text": [
      "\u001b[32m[I 2022-06-24 00:11:02,290]\u001b[0m Trial 250 finished with value: 0.8623456175317631 and parameters: {'scalers': 'robust', 'lambda_l1': 1.5975178750812e-06, 'lambda_l2': 2.5272808757425342, 'num_leaves': 15, 'feature_fraction': 0.9872437031542555, 'bagging_fraction': 0.5005900645768526, 'bagging_freq': 1, 'min_child_samples': 20, 'max_depth': 254}. Best is trial 179 with value: 0.8708616194177339.\u001b[0m\n",
      "\u001b[32m[I 2022-06-24 00:11:03,194]\u001b[0m Trial 251 finished with value: 0.860433962000332 and parameters: {'scalers': 'robust', 'lambda_l1': 1.6414879572661718e-07, 'lambda_l2': 1.236618683326059, 'num_leaves': 82, 'feature_fraction': 0.9148140377067255, 'bagging_fraction': 0.4843364265105953, 'bagging_freq': 1, 'min_child_samples': 18, 'max_depth': 224}. Best is trial 179 with value: 0.8708616194177339.\u001b[0m\n",
      "\u001b[32m[I 2022-06-24 00:11:04,161]\u001b[0m Trial 252 finished with value: 0.865285840814672 and parameters: {'scalers': 'robust', 'lambda_l1': 8.263003779796827e-07, 'lambda_l2': 0.5704910098488079, 'num_leaves': 71, 'feature_fraction': 0.8879560562051375, 'bagging_fraction': 0.5339627067988704, 'bagging_freq': 1, 'min_child_samples': 24, 'max_depth': 306}. Best is trial 179 with value: 0.8708616194177339.\u001b[0m\n",
      "\u001b[32m[I 2022-06-24 00:11:04,970]\u001b[0m Trial 253 finished with value: 0.8563715353703742 and parameters: {'scalers': 'standard', 'lambda_l1': 3.1539632131699607e-07, 'lambda_l2': 0.8642027904464483, 'num_leaves': 9, 'feature_fraction': 0.9026237775601009, 'bagging_fraction': 0.471879546436896, 'bagging_freq': 4, 'min_child_samples': 15, 'max_depth': 285}. Best is trial 179 with value: 0.8708616194177339.\u001b[0m\n",
      "\u001b[32m[I 2022-06-24 00:11:06,925]\u001b[0m Trial 254 finished with value: 0.8629689814184782 and parameters: {'scalers': 'robust', 'lambda_l1': 4.9590537467278826e-08, 'lambda_l2': 0.38777272924552303, 'num_leaves': 108, 'feature_fraction': 0.9339231968847133, 'bagging_fraction': 0.5176741791223495, 'bagging_freq': 1, 'min_child_samples': 21, 'max_depth': 843}. Best is trial 179 with value: 0.8708616194177339.\u001b[0m\n",
      "\u001b[32m[I 2022-06-24 00:11:08,787]\u001b[0m Trial 255 finished with value: 0.8651123309095446 and parameters: {'scalers': 'robust', 'lambda_l1': 4.7297581407050353e-07, 'lambda_l2': 1.6840447084900245, 'num_leaves': 25, 'feature_fraction': 0.9151578492268881, 'bagging_fraction': 0.4367439904842162, 'bagging_freq': 1, 'min_child_samples': 19, 'max_depth': 908}. Best is trial 179 with value: 0.8708616194177339.\u001b[0m\n",
      "\u001b[32m[I 2022-06-24 00:11:09,704]\u001b[0m Trial 256 finished with value: 0.8671976843890543 and parameters: {'scalers': 'robust', 'lambda_l1': 1.1664012827678269e-06, 'lambda_l2': 0.6798748222768026, 'num_leaves': 2, 'feature_fraction': 0.9623281426213652, 'bagging_fraction': 0.4972371642831945, 'bagging_freq': 1, 'min_child_samples': 22, 'max_depth': 353}. Best is trial 179 with value: 0.8708616194177339.\u001b[0m\n",
      "\u001b[32m[I 2022-06-24 00:11:10,600]\u001b[0m Trial 257 finished with value: 0.8687786258074571 and parameters: {'scalers': 'robust', 'lambda_l1': 2.0594524818033772e-07, 'lambda_l2': 0.5472717585251244, 'num_leaves': 11, 'feature_fraction': 0.9767850038410807, 'bagging_fraction': 0.4974755222347801, 'bagging_freq': 1, 'min_child_samples': 23, 'max_depth': 339}. Best is trial 179 with value: 0.8708616194177339.\u001b[0m\n",
      "\u001b[32m[I 2022-06-24 00:11:11,298]\u001b[0m Trial 258 finished with value: 0.8625458043203786 and parameters: {'scalers': 'standard', 'lambda_l1': 1.7072558013765416e-07, 'lambda_l2': 0.4014922881330536, 'num_leaves': 12, 'feature_fraction': 0.971537564889327, 'bagging_fraction': 0.4936421505107459, 'bagging_freq': 1, 'min_child_samples': 25, 'max_depth': 345}. Best is trial 179 with value: 0.8708616194177339.\u001b[0m\n",
      "\u001b[32m[I 2022-06-24 00:11:12,490]\u001b[0m Trial 259 finished with value: 0.8530814248530967 and parameters: {'scalers': 'robust', 'lambda_l1': 9.496913497764816e-08, 'lambda_l2': 0.17343813709136766, 'num_leaves': 17, 'feature_fraction': 0.9767052123677259, 'bagging_fraction': 0.8764105187867293, 'bagging_freq': 1, 'min_child_samples': 23, 'max_depth': 316}. Best is trial 179 with value: 0.8708616194177339.\u001b[0m\n",
      "\u001b[32m[I 2022-06-24 00:11:13,234]\u001b[0m Trial 260 finished with value: 0.8447441006490931 and parameters: {'scalers': 'robust', 'lambda_l1': 2.155134082478313e-07, 'lambda_l2': 0.488276481981162, 'num_leaves': 100, 'feature_fraction': 0.8705664242244587, 'bagging_fraction': 0.47853434989706495, 'bagging_freq': 1, 'min_child_samples': 27, 'max_depth': 362}. Best is trial 179 with value: 0.8708616194177339.\u001b[0m\n",
      "\u001b[32m[I 2022-06-24 00:11:14,305]\u001b[0m Trial 261 finished with value: 0.8646479822636944 and parameters: {'scalers': 'robust', 'lambda_l1': 0.005161320773870546, 'lambda_l2': 0.9509324936280176, 'num_leaves': 34, 'feature_fraction': 0.8928718482439014, 'bagging_fraction': 0.5054693763056448, 'bagging_freq': 1, 'min_child_samples': 16, 'max_depth': 328}. Best is trial 179 with value: 0.8708616194177339.\u001b[0m\n",
      "\u001b[32m[I 2022-06-24 00:11:15,356]\u001b[0m Trial 262 finished with value: 0.8391422993071602 and parameters: {'scalers': 'standard', 'lambda_l1': 0.0014349027315574755, 'lambda_l2': 0.23738917168373608, 'num_leaves': 8, 'feature_fraction': 0.9838319139618251, 'bagging_fraction': 0.7971083596771771, 'bagging_freq': 1, 'min_child_samples': 13, 'max_depth': 238}. Best is trial 179 with value: 0.8708616194177339.\u001b[0m\n",
      "\u001b[32m[I 2022-06-24 00:11:16,334]\u001b[0m Trial 263 finished with value: 0.8666337500648648 and parameters: {'scalers': 'robust', 'lambda_l1': 3.2971817865332395e-07, 'lambda_l2': 0.6891702946451059, 'num_leaves': 30, 'feature_fraction': 0.9228574021841733, 'bagging_fraction': 0.5148190500361594, 'bagging_freq': 1, 'min_child_samples': 18, 'max_depth': 300}. Best is trial 179 with value: 0.8708616194177339.\u001b[0m\n",
      "\u001b[32m[I 2022-06-24 00:11:17,263]\u001b[0m Trial 264 finished with value: 0.8550443446946929 and parameters: {'scalers': 'robust', 'lambda_l1': 1.3070097481273252e-07, 'lambda_l2': 0.3410033515528646, 'num_leaves': 24, 'feature_fraction': 0.952023619224001, 'bagging_fraction': 0.4455021408977641, 'bagging_freq': 2, 'min_child_samples': 24, 'max_depth': 201}. Best is trial 179 with value: 0.8708616194177339.\u001b[0m\n",
      "\u001b[32m[I 2022-06-24 00:11:17,902]\u001b[0m Trial 265 finished with value: 0.5 and parameters: {'scalers': 'robust', 'lambda_l1': 6.450983539687886e-08, 'lambda_l2': 1.3153272113756282, 'num_leaves': 96, 'feature_fraction': 0.9930435178793584, 'bagging_fraction': 0.5286725419225585, 'bagging_freq': 1, 'min_child_samples': 45, 'max_depth': 346}. Best is trial 179 with value: 0.8708616194177339.\u001b[0m\n",
      "\u001b[32m[I 2022-06-24 00:11:18,609]\u001b[0m Trial 266 finished with value: 0.8662314891206145 and parameters: {'scalers': 'standard', 'lambda_l1': 5.385939022710883e-07, 'lambda_l2': 0.5016231508465149, 'num_leaves': 14, 'feature_fraction': 0.9099898866429946, 'bagging_fraction': 0.4751066195077256, 'bagging_freq': 1, 'min_child_samples': 22, 'max_depth': 255}. Best is trial 179 with value: 0.8708616194177339.\u001b[0m\n",
      "\u001b[32m[I 2022-06-24 00:11:19,724]\u001b[0m Trial 267 finished with value: 0.8627142942197124 and parameters: {'scalers': 'robust', 'lambda_l1': 3.519663468971172e-08, 'lambda_l2': 0.9364644605208099, 'num_leaves': 21, 'feature_fraction': 0.902736875398603, 'bagging_fraction': 0.4916022806887742, 'bagging_freq': 1, 'min_child_samples': 16, 'max_depth': 319}. Best is trial 179 with value: 0.8708616194177339.\u001b[0m\n",
      "\u001b[32m[I 2022-06-24 00:11:20,860]\u001b[0m Trial 268 finished with value: 0.8625419226671163 and parameters: {'scalers': 'robust', 'lambda_l1': 3.736100187526431e-07, 'lambda_l2': 0.12649586611220842, 'num_leaves': 87, 'feature_fraction': 0.9292352225068151, 'bagging_fraction': 0.50878592022246, 'bagging_freq': 1, 'min_child_samples': 20, 'max_depth': 287}. Best is trial 179 with value: 0.8708616194177339.\u001b[0m\n",
      "\u001b[32m[I 2022-06-24 00:11:21,682]\u001b[0m Trial 269 finished with value: 0.8092075559459461 and parameters: {'scalers': 'robust', 'lambda_l1': 2.4385362548103093e-07, 'lambda_l2': 0.6795177019954456, 'num_leaves': 93, 'feature_fraction': 0.9437334860132159, 'bagging_fraction': 0.4348079434582156, 'bagging_freq': 1, 'min_child_samples': 26, 'max_depth': 263}. Best is trial 179 with value: 0.8708616194177339.\u001b[0m\n",
      "\u001b[32m[I 2022-06-24 00:11:22,936]\u001b[0m Trial 270 finished with value: 0.8598920568165924 and parameters: {'scalers': 'standard', 'lambda_l1': 6.905001707868438e-07, 'lambda_l2': 0.3281244333486413, 'num_leaves': 9, 'feature_fraction': 0.9609548423674814, 'bagging_fraction': 0.46311828024763246, 'bagging_freq': 1, 'min_child_samples': 14, 'max_depth': 302}. Best is trial 179 with value: 0.8708616194177339.\u001b[0m\n"
     ]
    },
    {
     "name": "stderr",
     "output_type": "stream",
     "text": [
      "\u001b[32m[I 2022-06-24 00:11:24,926]\u001b[0m Trial 271 finished with value: 0.8408414216932018 and parameters: {'scalers': 'robust', 'lambda_l1': 9.086737892505517e-08, 'lambda_l2': 1.3070902135284155, 'num_leaves': 104, 'feature_fraction': 0.9147162449502293, 'bagging_fraction': 0.9031516903236207, 'bagging_freq': 1, 'min_child_samples': 19, 'max_depth': 358}. Best is trial 179 with value: 0.8708616194177339.\u001b[0m\n",
      "\u001b[32m[I 2022-06-24 00:11:26,034]\u001b[0m Trial 272 finished with value: 0.8664586433088755 and parameters: {'scalers': 'robust', 'lambda_l1': 2.1591344692230616e-07, 'lambda_l2': 0.5299663145730305, 'num_leaves': 81, 'feature_fraction': 0.8855130225824943, 'bagging_fraction': 0.4514243655075606, 'bagging_freq': 1, 'min_child_samples': 22, 'max_depth': 340}. Best is trial 179 with value: 0.8708616194177339.\u001b[0m\n",
      "\u001b[32m[I 2022-06-24 00:11:28,171]\u001b[0m Trial 273 finished with value: 0.8411208536475563 and parameters: {'scalers': 'robust', 'lambda_l1': 1.3940322832540772e-07, 'lambda_l2': 3.1942000863599436, 'num_leaves': 18, 'feature_fraction': 0.9340514496790799, 'bagging_fraction': 0.8349867256952103, 'bagging_freq': 1, 'min_child_samples': 17, 'max_depth': 279}. Best is trial 179 with value: 0.8708616194177339.\u001b[0m\n",
      "\u001b[32m[I 2022-06-24 00:11:29,010]\u001b[0m Trial 274 finished with value: 0.8658633654142556 and parameters: {'scalers': 'standard', 'lambda_l1': 4.470439649507873e-07, 'lambda_l2': 1.0368227770179166, 'num_leaves': 114, 'feature_fraction': 0.9007867682624978, 'bagging_fraction': 0.5535828028347325, 'bagging_freq': 1, 'min_child_samples': 24, 'max_depth': 242}. Best is trial 179 with value: 0.8708616194177339.\u001b[0m\n",
      "\u001b[32m[I 2022-06-24 00:11:30,245]\u001b[0m Trial 275 finished with value: 0.8553406454871241 and parameters: {'scalers': 'robust', 'lambda_l1': 8.774931926898666e-07, 'lambda_l2': 0.2548970325106222, 'num_leaves': 27, 'feature_fraction': 0.92236252034572, 'bagging_fraction': 0.4788664114364598, 'bagging_freq': 1, 'min_child_samples': 12, 'max_depth': 220}. Best is trial 179 with value: 0.8708616194177339.\u001b[0m\n",
      "\u001b[32m[I 2022-06-24 00:11:31,093]\u001b[0m Trial 276 finished with value: 0.8427455310857013 and parameters: {'scalers': 'robust', 'lambda_l1': 2.986069408740908e-07, 'lambda_l2': 2.357665647647233, 'num_leaves': 66, 'feature_fraction': 0.9548945970492562, 'bagging_fraction': 0.5373112532361903, 'bagging_freq': 1, 'min_child_samples': 30, 'max_depth': 319}. Best is trial 179 with value: 0.8708616194177339.\u001b[0m\n",
      "\u001b[32m[I 2022-06-24 00:11:31,907]\u001b[0m Trial 277 finished with value: 0.8570568956542253 and parameters: {'scalers': 'standard', 'lambda_l1': 5.912511213960134e-08, 'lambda_l2': 0.716058796577395, 'num_leaves': 15, 'feature_fraction': 0.9412857713622702, 'bagging_fraction': 0.410231854066575, 'bagging_freq': 2, 'min_child_samples': 21, 'max_depth': 268}. Best is trial 179 with value: 0.8708616194177339.\u001b[0m\n",
      "\u001b[32m[I 2022-06-24 00:11:33,271]\u001b[0m Trial 278 finished with value: 0.8621107484491772 and parameters: {'scalers': 'robust', 'lambda_l1': 6.369747005932327e-07, 'lambda_l2': 0.4271811345276877, 'num_leaves': 22, 'feature_fraction': 0.9099645216318727, 'bagging_fraction': 0.5023554374681326, 'bagging_freq': 1, 'min_child_samples': 18, 'max_depth': 297}. Best is trial 179 with value: 0.8708616194177339.\u001b[0m\n",
      "\u001b[32m[I 2022-06-24 00:11:33,773]\u001b[0m Trial 279 finished with value: 0.5 and parameters: {'scalers': 'minmax', 'lambda_l1': 1.7815142339327876e-07, 'lambda_l2': 0.20578176799845613, 'num_leaves': 3, 'feature_fraction': 0.8647315781177636, 'bagging_fraction': 0.4390362398051344, 'bagging_freq': 5, 'min_child_samples': 79, 'max_depth': 333}. Best is trial 179 with value: 0.8708616194177339.\u001b[0m\n",
      "\u001b[32m[I 2022-06-24 00:11:35,285]\u001b[0m Trial 280 finished with value: 0.8586942239047504 and parameters: {'scalers': 'robust', 'lambda_l1': 3.0472735047138094e-08, 'lambda_l2': 1.265362396119006, 'num_leaves': 32, 'feature_fraction': 0.8847872282464049, 'bagging_fraction': 0.5695842814616823, 'bagging_freq': 1, 'min_child_samples': 15, 'max_depth': 371}. Best is trial 179 with value: 0.8708616194177339.\u001b[0m\n",
      "\u001b[32m[I 2022-06-24 00:11:36,473]\u001b[0m Trial 281 finished with value: 0.8502955585221453 and parameters: {'scalers': 'robust', 'lambda_l1': 4.38263173488479e-07, 'lambda_l2': 8.678259449121198, 'num_leaves': 92, 'feature_fraction': 0.9211443000662684, 'bagging_fraction': 0.4700748467741562, 'bagging_freq': 1, 'min_child_samples': 20, 'max_depth': 310}. Best is trial 179 with value: 0.8708616194177339.\u001b[0m\n",
      "\u001b[32m[I 2022-06-24 00:11:36,975]\u001b[0m Trial 282 finished with value: 0.5 and parameters: {'scalers': 'standard', 'lambda_l1': 1.194439201201387e-07, 'lambda_l2': 0.0001394742205502427, 'num_leaves': 12, 'feature_fraction': 0.9309534881826118, 'bagging_fraction': 0.454485509294172, 'bagging_freq': 1, 'min_child_samples': 36, 'max_depth': 284}. Best is trial 179 with value: 0.8708616194177339.\u001b[0m\n",
      "\u001b[32m[I 2022-06-24 00:11:37,982]\u001b[0m Trial 283 finished with value: 0.8665249201692702 and parameters: {'scalers': 'robust', 'lambda_l1': 9.258998103874742e-07, 'lambda_l2': 0.7555395818505949, 'num_leaves': 60, 'feature_fraction': 0.9747509009253617, 'bagging_fraction': 0.486845872847674, 'bagging_freq': 1, 'min_child_samples': 24, 'max_depth': 253}. Best is trial 179 with value: 0.8708616194177339.\u001b[0m\n",
      "\u001b[32m[I 2022-06-24 00:11:39,373]\u001b[0m Trial 284 finished with value: 0.8608291005734892 and parameters: {'scalers': 'robust', 'lambda_l1': 1.963662443173193e-06, 'lambda_l2': 1.9589442041381653, 'num_leaves': 21, 'feature_fraction': 0.900825326771927, 'bagging_fraction': 0.5190702248742359, 'bagging_freq': 1, 'min_child_samples': 17, 'max_depth': 357}. Best is trial 179 with value: 0.8708616194177339.\u001b[0m\n",
      "\u001b[32m[I 2022-06-24 00:11:40,303]\u001b[0m Trial 285 finished with value: 0.8617842646904179 and parameters: {'scalers': 'robust', 'lambda_l1': 2.4258136049809333e-07, 'lambda_l2': 0.3679081050387025, 'num_leaves': 98, 'feature_fraction': 0.9434985950293815, 'bagging_fraction': 0.4245808170525911, 'bagging_freq': 1, 'min_child_samples': 21, 'max_depth': 232}. Best is trial 179 with value: 0.8708616194177339.\u001b[0m\n",
      "\u001b[32m[I 2022-06-24 00:11:40,688]\u001b[0m Trial 286 finished with value: 0.5 and parameters: {'scalers': 'standard', 'lambda_l1': 8.821034923308359e-08, 'lambda_l2': 0.5235921141748866, 'num_leaves': 103, 'feature_fraction': 0.9627110259641982, 'bagging_fraction': 0.592850415215253, 'bagging_freq': 1, 'min_child_samples': 99, 'max_depth': 271}. Best is trial 179 with value: 0.8708616194177339.\u001b[0m\n",
      "\u001b[32m[I 2022-06-24 00:11:41,899]\u001b[0m Trial 287 finished with value: 0.8644626018546298 and parameters: {'scalers': 'robust', 'lambda_l1': 4.6012336591001794e-05, 'lambda_l2': 0.9390685862300836, 'num_leaves': 84, 'feature_fraction': 0.9131992277560766, 'bagging_fraction': 0.4645142390544395, 'bagging_freq': 1, 'min_child_samples': 19, 'max_depth': 299}. Best is trial 179 with value: 0.8708616194177339.\u001b[0m\n",
      "\u001b[32m[I 2022-06-24 00:11:42,641]\u001b[0m Trial 288 finished with value: 0.8391189505583854 and parameters: {'scalers': 'robust', 'lambda_l1': 5.576327293179549e-07, 'lambda_l2': 1.526332516106042, 'num_leaves': 7, 'feature_fraction': 0.9277499487239271, 'bagging_fraction': 0.43826469923725897, 'bagging_freq': 3, 'min_child_samples': 23, 'max_depth': 180}. Best is trial 179 with value: 0.8708616194177339.\u001b[0m\n",
      "\u001b[32m[I 2022-06-24 00:11:43,597]\u001b[0m Trial 289 finished with value: 0.8675702745397017 and parameters: {'scalers': 'standard', 'lambda_l1': 3.388811181524362e-07, 'lambda_l2': 3.733827753377124e-05, 'num_leaves': 78, 'feature_fraction': 0.8895423605062536, 'bagging_fraction': 0.49556638956566795, 'bagging_freq': 1, 'min_child_samples': 26, 'max_depth': 386}. Best is trial 179 with value: 0.8708616194177339.\u001b[0m\n",
      "\u001b[32m[I 2022-06-24 00:11:44,422]\u001b[0m Trial 290 finished with value: 0.8681229339760687 and parameters: {'scalers': 'standard', 'lambda_l1': 1.6251083279899924e-07, 'lambda_l2': 3.590173387418734e-05, 'num_leaves': 28, 'feature_fraction': 0.9521626736350747, 'bagging_fraction': 0.4972480209203081, 'bagging_freq': 1, 'min_child_samples': 26, 'max_depth': 338}. Best is trial 179 with value: 0.8708616194177339.\u001b[0m\n",
      "\u001b[32m[I 2022-06-24 00:11:45,026]\u001b[0m Trial 291 finished with value: 0.8306980582626867 and parameters: {'scalers': 'standard', 'lambda_l1': 4.748440931892913e-08, 'lambda_l2': 1.7891439242833104e-05, 'num_leaves': 35, 'feature_fraction': 0.948274915343646, 'bagging_fraction': 0.5028200902438835, 'bagging_freq': 1, 'min_child_samples': 29, 'max_depth': 332}. Best is trial 179 with value: 0.8708616194177339.\u001b[0m\n"
     ]
    },
    {
     "name": "stderr",
     "output_type": "stream",
     "text": [
      "\u001b[32m[I 2022-06-24 00:11:45,863]\u001b[0m Trial 292 finished with value: 0.8718675463897988 and parameters: {'scalers': 'standard', 'lambda_l1': 1.580293918334291e-07, 'lambda_l2': 0.0004709721620374175, 'num_leaves': 31, 'feature_fraction': 0.9644780321403139, 'bagging_fraction': 0.5249470583723804, 'bagging_freq': 1, 'min_child_samples': 27, 'max_depth': 319}. Best is trial 292 with value: 0.8718675463897988.\u001b[0m\n",
      "\u001b[32m[I 2022-06-24 00:11:46,855]\u001b[0m Trial 293 finished with value: 0.8546698008733614 and parameters: {'scalers': 'standard', 'lambda_l1': 1.7137391502496216e-07, 'lambda_l2': 1.3169074715553096e-05, 'num_leaves': 38, 'feature_fraction': 0.9685050066153338, 'bagging_fraction': 0.5239927500614322, 'bagging_freq': 2, 'min_child_samples': 28, 'max_depth': 323}. Best is trial 292 with value: 0.8718675463897988.\u001b[0m\n",
      "\u001b[32m[I 2022-06-24 00:11:48,661]\u001b[0m Trial 294 finished with value: 0.8634514357546478 and parameters: {'scalers': 'standard', 'lambda_l1': 6.593597006993443e-08, 'lambda_l2': 2.5321790538649333e-05, 'num_leaves': 28, 'feature_fraction': 0.9366071037923691, 'bagging_fraction': 0.5474943687286852, 'bagging_freq': 5, 'min_child_samples': 26, 'max_depth': 315}. Best is trial 292 with value: 0.8718675463897988.\u001b[0m\n",
      "\u001b[32m[I 2022-06-24 00:11:49,194]\u001b[0m Trial 295 finished with value: 0.5 and parameters: {'scalers': 'standard', 'lambda_l1': 1.458577653458634e-06, 'lambda_l2': 0.000506479411927608, 'num_leaves': 33, 'feature_fraction': 0.9955303133572684, 'bagging_fraction': 0.5314452640521934, 'bagging_freq': 1, 'min_child_samples': 40, 'max_depth': 344}. Best is trial 292 with value: 0.8718675463897988.\u001b[0m\n",
      "\u001b[32m[I 2022-06-24 00:11:50,159]\u001b[0m Trial 296 finished with value: 0.8615687197004921 and parameters: {'scalers': 'standard', 'lambda_l1': 3.295741399836882e-06, 'lambda_l2': 0.00038397429380533155, 'num_leaves': 30, 'feature_fraction': 0.9822044027325862, 'bagging_fraction': 0.6272778250829698, 'bagging_freq': 1, 'min_child_samples': 25, 'max_depth': 298}. Best is trial 292 with value: 0.8718675463897988.\u001b[0m\n",
      "\u001b[32m[I 2022-06-24 00:11:50,614]\u001b[0m Trial 297 finished with value: 0.7025259714056156 and parameters: {'scalers': 'standard', 'lambda_l1': 1.9072513492889285e-07, 'lambda_l2': 6.044804964953729e-05, 'num_leaves': 23, 'feature_fraction': 0.9607825374121048, 'bagging_fraction': 0.51784812535593, 'bagging_freq': 1, 'min_child_samples': 32, 'max_depth': 335}. Best is trial 292 with value: 0.8718675463897988.\u001b[0m\n",
      "\u001b[32m[I 2022-06-24 00:11:51,482]\u001b[0m Trial 298 finished with value: 0.8666906800844495 and parameters: {'scalers': 'standard', 'lambda_l1': 8.027337123385604e-07, 'lambda_l2': 0.0006182476054653916, 'num_leaves': 134, 'feature_fraction': 0.9189837959705961, 'bagging_fraction': 0.5354262223138955, 'bagging_freq': 1, 'min_child_samples': 27, 'max_depth': 308}. Best is trial 292 with value: 0.8718675463897988.\u001b[0m\n",
      "\u001b[32m[I 2022-06-24 00:11:52,108]\u001b[0m Trial 299 finished with value: 0.8480979224808558 and parameters: {'scalers': 'standard', 'lambda_l1': 9.771871046205802e-08, 'lambda_l2': 0.0013708668289408204, 'num_leaves': 26, 'feature_fraction': 0.9389158656852691, 'bagging_fraction': 0.41056109758602444, 'bagging_freq': 1, 'min_child_samples': 23, 'max_depth': 284}. Best is trial 292 with value: 0.8718675463897988.\u001b[0m\n",
      "\u001b[32m[I 2022-06-24 00:11:53,382]\u001b[0m Trial 300 finished with value: 0.8580693982659927 and parameters: {'scalers': 'standard', 'lambda_l1': 2.3768029453060391e-07, 'lambda_l2': 0.0002941641035643763, 'num_leaves': 18, 'feature_fraction': 0.9494688182756076, 'bagging_fraction': 0.5094702409126325, 'bagging_freq': 1, 'min_child_samples': 24, 'max_depth': 576}. Best is trial 292 with value: 0.8718675463897988.\u001b[0m\n",
      "\u001b[32m[I 2022-06-24 00:11:54,784]\u001b[0m Trial 301 finished with value: 0.8605589697540161 and parameters: {'scalers': 'standard', 'lambda_l1': 5.115996309642026e-07, 'lambda_l2': 0.1393898260156271, 'num_leaves': 38, 'feature_fraction': 0.924092872376157, 'bagging_fraction': 0.44824105867339803, 'bagging_freq': 1, 'min_child_samples': 11, 'max_depth': 347}. Best is trial 292 with value: 0.8718675463897988.\u001b[0m\n",
      "\u001b[32m[I 2022-06-24 00:11:55,689]\u001b[0m Trial 302 finished with value: 0.8645402440052208 and parameters: {'scalers': 'minmax', 'lambda_l1': 1.0971295083120596e-06, 'lambda_l2': 9.957607032768061e-06, 'num_leaves': 27, 'feature_fraction': 0.9679522210467653, 'bagging_fraction': 0.4802492260448504, 'bagging_freq': 1, 'min_child_samples': 22, 'max_depth': 322}. Best is trial 292 with value: 0.8718675463897988.\u001b[0m\n",
      "\u001b[32m[I 2022-06-24 00:11:57,058]\u001b[0m Trial 303 finished with value: 0.8574271941508783 and parameters: {'scalers': 'standard', 'lambda_l1': 4.089824258728684e-08, 'lambda_l2': 0.00019546401981664657, 'num_leaves': 123, 'feature_fraction': 0.5974132175341333, 'bagging_fraction': 0.4282337490174663, 'bagging_freq': 1, 'min_child_samples': 13, 'max_depth': 357}. Best is trial 292 with value: 0.8718675463897988.\u001b[0m\n",
      "\u001b[32m[I 2022-06-24 00:11:57,941]\u001b[0m Trial 304 finished with value: 0.8670326513871406 and parameters: {'scalers': 'standard', 'lambda_l1': 1.1516481470920881e-07, 'lambda_l2': 0.28688502652663517, 'num_leaves': 107, 'feature_fraction': 0.9095105591179091, 'bagging_fraction': 0.520948910250565, 'bagging_freq': 1, 'min_child_samples': 25, 'max_depth': 289}. Best is trial 292 with value: 0.8718675463897988.\u001b[0m\n",
      "\u001b[32m[I 2022-06-24 00:11:58,993]\u001b[0m Trial 305 finished with value: 0.8642129386566306 and parameters: {'scalers': 'standard', 'lambda_l1': 4.2579380240185867e-07, 'lambda_l2': 0.530370153047063, 'num_leaves': 113, 'feature_fraction': 0.9323466223594599, 'bagging_fraction': 0.4866253998371948, 'bagging_freq': 1, 'min_child_samples': 20, 'max_depth': 315}. Best is trial 292 with value: 0.8718675463897988.\u001b[0m\n",
      "\u001b[32m[I 2022-06-24 00:12:00,112]\u001b[0m Trial 306 finished with value: 0.8621808014611807 and parameters: {'scalers': 'standard', 'lambda_l1': 2.9816430896247266e-07, 'lambda_l2': 0.0009730992374995626, 'num_leaves': 61, 'feature_fraction': 0.9535479209495373, 'bagging_fraction': 0.5089973819370176, 'bagging_freq': 1, 'min_child_samples': 15, 'max_depth': 275}. Best is trial 292 with value: 0.8718675463897988.\u001b[0m\n",
      "\u001b[32m[I 2022-06-24 00:12:01,165]\u001b[0m Trial 307 finished with value: 0.8613092710308269 and parameters: {'scalers': 'minmax', 'lambda_l1': 2.047946757668014e-06, 'lambda_l2': 6.672627728196766e-06, 'num_leaves': 21, 'feature_fraction': 0.8988836853176257, 'bagging_fraction': 0.43586271707156204, 'bagging_freq': 1, 'min_child_samples': 17, 'max_depth': 367}. Best is trial 292 with value: 0.8718675463897988.\u001b[0m\n",
      "\u001b[32m[I 2022-06-24 00:12:01,940]\u001b[0m Trial 308 finished with value: 0.8569963048002909 and parameters: {'scalers': 'standard', 'lambda_l1': 2.6735652963630993e-08, 'lambda_l2': 4.000102400717821e-05, 'num_leaves': 161, 'feature_fraction': 0.923291454394984, 'bagging_fraction': 0.41488141588458866, 'bagging_freq': 1, 'min_child_samples': 23, 'max_depth': 303}. Best is trial 292 with value: 0.8718675463897988.\u001b[0m\n",
      "\u001b[32m[I 2022-06-24 00:12:03,119]\u001b[0m Trial 309 finished with value: 0.8647558523133212 and parameters: {'scalers': 'robust', 'lambda_l1': 7.504824468980605e-08, 'lambda_l2': 0.20110065069820385, 'num_leaves': 32, 'feature_fraction': 0.9417702556991877, 'bagging_fraction': 0.5458805765355838, 'bagging_freq': 1, 'min_child_samples': 28, 'max_depth': 511}. Best is trial 292 with value: 0.8718675463897988.\u001b[0m\n",
      "\u001b[32m[I 2022-06-24 00:12:04,069]\u001b[0m Trial 310 finished with value: 0.8669239069109426 and parameters: {'scalers': 'standard', 'lambda_l1': 6.598661340523718e-07, 'lambda_l2': 0.4374185530154029, 'num_leaves': 12, 'feature_fraction': 0.9111460885001547, 'bagging_fraction': 0.4567894854671829, 'bagging_freq': 1, 'min_child_samples': 22, 'max_depth': 329}. Best is trial 292 with value: 0.8718675463897988.\u001b[0m\n",
      "\u001b[32m[I 2022-06-24 00:12:05,252]\u001b[0m Trial 311 finished with value: 0.8681483823623917 and parameters: {'scalers': 'robust', 'lambda_l1': 1.5635327389928925e-07, 'lambda_l2': 0.3233450371443239, 'num_leaves': 166, 'feature_fraction': 0.9774050171268392, 'bagging_fraction': 0.4708049990970617, 'bagging_freq': 1, 'min_child_samples': 20, 'max_depth': 265}. Best is trial 292 with value: 0.8718675463897988.\u001b[0m\n"
     ]
    },
    {
     "name": "stderr",
     "output_type": "stream",
     "text": [
      "\u001b[32m[I 2022-06-24 00:12:06,550]\u001b[0m Trial 312 finished with value: 0.8620518711809346 and parameters: {'scalers': 'robust', 'lambda_l1': 1.644670048768301e-07, 'lambda_l2': 0.66863426034767, 'num_leaves': 158, 'feature_fraction': 0.9872411131964395, 'bagging_fraction': 0.48990818863487373, 'bagging_freq': 6, 'min_child_samples': 19, 'max_depth': 294}. Best is trial 292 with value: 0.8718675463897988.\u001b[0m\n",
      "\u001b[32m[I 2022-06-24 00:12:07,900]\u001b[0m Trial 313 finished with value: 0.8675546363466257 and parameters: {'scalers': 'robust', 'lambda_l1': 1.2198260037203145e-07, 'lambda_l2': 1.0365299537595376, 'num_leaves': 165, 'feature_fraction': 0.9777471435592027, 'bagging_fraction': 0.4016350586933666, 'bagging_freq': 1, 'min_child_samples': 16, 'max_depth': 340}. Best is trial 292 with value: 0.8718675463897988.\u001b[0m\n",
      "\u001b[32m[I 2022-06-24 00:12:09,103]\u001b[0m Trial 314 finished with value: 0.8577826238733748 and parameters: {'scalers': 'standard', 'lambda_l1': 8.187350207711399e-08, 'lambda_l2': 0.37376375880721424, 'num_leaves': 166, 'feature_fraction': 0.9707807464491723, 'bagging_fraction': 0.47785936573892024, 'bagging_freq': 2, 'min_child_samples': 14, 'max_depth': 312}. Best is trial 292 with value: 0.8718675463897988.\u001b[0m\n",
      "\u001b[32m[I 2022-06-24 00:12:10,414]\u001b[0m Trial 315 finished with value: 0.858471421681174 and parameters: {'scalers': 'robust', 'lambda_l1': 2.260222130068409e-07, 'lambda_l2': 0.5300309001895666, 'num_leaves': 154, 'feature_fraction': 0.957607941217847, 'bagging_fraction': 0.5611286722067131, 'bagging_freq': 7, 'min_child_samples': 20, 'max_depth': 277}. Best is trial 292 with value: 0.8718675463897988.\u001b[0m\n",
      "\u001b[32m[I 2022-06-24 00:12:11,920]\u001b[0m Trial 316 finished with value: 0.8570712894346794 and parameters: {'scalers': 'robust', 'lambda_l1': 1.1435338782289992e-06, 'lambda_l2': 0.0001228806483238876, 'num_leaves': 101, 'feature_fraction': 0.9812327664632364, 'bagging_fraction': 0.44751367267167674, 'bagging_freq': 1, 'min_child_samples': 9, 'max_depth': 250}. Best is trial 292 with value: 0.8718675463897988.\u001b[0m\n",
      "\u001b[32m[I 2022-06-24 00:12:12,762]\u001b[0m Trial 317 finished with value: 0.8565997175124498 and parameters: {'scalers': 'minmax', 'lambda_l1': 1.4590799028792132e-07, 'lambda_l2': 2.695180624050485, 'num_leaves': 169, 'feature_fraction': 0.9965699687356236, 'bagging_fraction': 0.5045863422782533, 'bagging_freq': 1, 'min_child_samples': 17, 'max_depth': 208}. Best is trial 292 with value: 0.8718675463897988.\u001b[0m\n",
      "\u001b[32m[I 2022-06-24 00:12:14,169]\u001b[0m Trial 318 finished with value: 0.8661183259464994 and parameters: {'scalers': 'standard', 'lambda_l1': 5.728891021418937e-08, 'lambda_l2': 8.774674876933104e-05, 'num_leaves': 95, 'feature_fraction': 0.9614992405555309, 'bagging_fraction': 0.5292795653659282, 'bagging_freq': 1, 'min_child_samples': 19, 'max_depth': 363}. Best is trial 292 with value: 0.8718675463897988.\u001b[0m\n",
      "\u001b[32m[I 2022-06-24 00:12:15,128]\u001b[0m Trial 319 finished with value: 0.8648061220040709 and parameters: {'scalers': 'robust', 'lambda_l1': 1.5762537712502393e-06, 'lambda_l2': 0.7974743477818773, 'num_leaves': 66, 'feature_fraction': 0.9329401550251473, 'bagging_fraction': 0.4312263269669758, 'bagging_freq': 1, 'min_child_samples': 21, 'max_depth': 288}. Best is trial 292 with value: 0.8718675463897988.\u001b[0m\n",
      "\u001b[32m[I 2022-06-24 00:12:16,514]\u001b[0m Trial 320 finished with value: 0.8594643711336825 and parameters: {'scalers': 'robust', 'lambda_l1': 6.528784230518903e-07, 'lambda_l2': 3.7180621037712704e-06, 'num_leaves': 52, 'feature_fraction': 0.9458982313969627, 'bagging_fraction': 0.46940261781504644, 'bagging_freq': 1, 'min_child_samples': 17, 'max_depth': 393}. Best is trial 292 with value: 0.8718675463897988.\u001b[0m\n",
      "\u001b[32m[I 2022-06-24 00:12:17,798]\u001b[0m Trial 321 finished with value: 0.8633153963339721 and parameters: {'scalers': 'robust', 'lambda_l1': 2.2503156312664337e-07, 'lambda_l2': 0.30205854273535104, 'num_leaves': 7, 'feature_fraction': 0.9272010408233151, 'bagging_fraction': 0.4942225946146971, 'bagging_freq': 1, 'min_child_samples': 14, 'max_depth': 322}. Best is trial 292 with value: 0.8718675463897988.\u001b[0m\n",
      "\u001b[32m[I 2022-06-24 00:12:18,890]\u001b[0m Trial 322 finished with value: 0.8302210130126153 and parameters: {'scalers': 'standard', 'lambda_l1': 2.7719603697549978e-06, 'lambda_l2': 0.08764905225035434, 'num_leaves': 88, 'feature_fraction': 0.9471406666388912, 'bagging_fraction': 0.972457433361704, 'bagging_freq': 1, 'min_child_samples': 21, 'max_depth': 263}. Best is trial 292 with value: 0.8718675463897988.\u001b[0m\n",
      "\u001b[32m[I 2022-06-24 00:12:19,611]\u001b[0m Trial 323 finished with value: 0.7856837426419468 and parameters: {'scalers': 'robust', 'lambda_l1': 9.150330715410807e-07, 'lambda_l2': 4.227861071632999, 'num_leaves': 119, 'feature_fraction': 0.9690161089427084, 'bagging_fraction': 0.4189721335782522, 'bagging_freq': 1, 'min_child_samples': 26, 'max_depth': 344}. Best is trial 292 with value: 0.8718675463897988.\u001b[0m\n",
      "\u001b[32m[I 2022-06-24 00:12:20,618]\u001b[0m Trial 324 finished with value: 0.867354919418387 and parameters: {'scalers': 'robust', 'lambda_l1': 2.143047518828179e-08, 'lambda_l2': 1.1246363116493177, 'num_leaves': 56, 'feature_fraction': 0.9153672402549874, 'bagging_fraction': 0.5151218724262931, 'bagging_freq': 1, 'min_child_samples': 19, 'max_depth': 307}. Best is trial 292 with value: 0.8718675463897988.\u001b[0m\n",
      "\u001b[32m[I 2022-06-24 00:12:21,228]\u001b[0m Trial 325 finished with value: 0.8516624303414163 and parameters: {'scalers': 'standard', 'lambda_l1': 9.655976479831323e-08, 'lambda_l2': 0.5899179056569801, 'num_leaves': 70, 'feature_fraction': 0.9363712768749698, 'bagging_fraction': 0.4473379482601371, 'bagging_freq': 1, 'min_child_samples': 24, 'max_depth': 231}. Best is trial 292 with value: 0.8718675463897988.\u001b[0m\n",
      "\u001b[32m[I 2022-06-24 00:12:22,559]\u001b[0m Trial 326 finished with value: 0.859460497964368 and parameters: {'scalers': 'robust', 'lambda_l1': 4.2310960622276124e-08, 'lambda_l2': 0.0019418338282417783, 'num_leaves': 15, 'feature_fraction': 0.9554850596282457, 'bagging_fraction': 0.5397101616700826, 'bagging_freq': 1, 'min_child_samples': 16, 'max_depth': 373}. Best is trial 292 with value: 0.8718675463897988.\u001b[0m\n",
      "\u001b[32m[I 2022-06-24 00:12:23,573]\u001b[0m Trial 327 finished with value: 0.8677980747108068 and parameters: {'scalers': 'robust', 'lambda_l1': 4.0138039112594554e-07, 'lambda_l2': 0.37069215876483713, 'num_leaves': 143, 'feature_fraction': 0.9256068758989674, 'bagging_fraction': 0.4713088873735641, 'bagging_freq': 1, 'min_child_samples': 22, 'max_depth': 275}. Best is trial 292 with value: 0.8718675463897988.\u001b[0m\n",
      "\u001b[32m[I 2022-06-24 00:12:24,613]\u001b[0m Trial 328 finished with value: 0.8677033434616639 and parameters: {'scalers': 'standard', 'lambda_l1': 1.5097821738906233e-07, 'lambda_l2': 0.18466816508818312, 'num_leaves': 108, 'feature_fraction': 0.6950473711609341, 'bagging_fraction': 0.48559660625360546, 'bagging_freq': 2, 'min_child_samples': 18, 'max_depth': 293}. Best is trial 292 with value: 0.8718675463897988.\u001b[0m\n",
      "\u001b[32m[I 2022-06-24 00:12:26,376]\u001b[0m Trial 329 finished with value: 0.8554984790751046 and parameters: {'scalers': 'robust', 'lambda_l1': 3.1159825764768357e-07, 'lambda_l2': 1.9007105299948608, 'num_leaves': 251, 'feature_fraction': 0.9773391112443681, 'bagging_fraction': 0.4518890777186286, 'bagging_freq': 1, 'min_child_samples': 7, 'max_depth': 355}. Best is trial 292 with value: 0.8718675463897988.\u001b[0m\n",
      "\u001b[32m[I 2022-06-24 00:12:27,633]\u001b[0m Trial 330 finished with value: 0.8634739117521626 and parameters: {'scalers': 'robust', 'lambda_l1': 5.269780502834682e-06, 'lambda_l2': 0.9961277391322371, 'num_leaves': 99, 'feature_fraction': 0.9061834606691238, 'bagging_fraction': 0.4334096380923259, 'bagging_freq': 1, 'min_child_samples': 13, 'max_depth': 326}. Best is trial 292 with value: 0.8718675463897988.\u001b[0m\n",
      "\u001b[32m[I 2022-06-24 00:12:28,706]\u001b[0m Trial 331 finished with value: 0.867237226761027 and parameters: {'scalers': 'minmax', 'lambda_l1': 1.4417133012076692e-08, 'lambda_l2': 0.6712255708536102, 'num_leaves': 19, 'feature_fraction': 0.9376446083687274, 'bagging_fraction': 0.5096956825984684, 'bagging_freq': 1, 'min_child_samples': 21, 'max_depth': 408}. Best is trial 292 with value: 0.8718675463897988.\u001b[0m\n"
     ]
    },
    {
     "name": "stderr",
     "output_type": "stream",
     "text": [
      "\u001b[32m[I 2022-06-24 00:12:29,484]\u001b[0m Trial 332 finished with value: 0.8623160994707049 and parameters: {'scalers': 'standard', 'lambda_l1': 7.068771634985539e-07, 'lambda_l2': 1.3523643056162904, 'num_leaves': 170, 'feature_fraction': 0.9139050334088719, 'bagging_fraction': 0.5241071631597108, 'bagging_freq': 1, 'min_child_samples': 25, 'max_depth': 248}. Best is trial 292 with value: 0.8718675463897988.\u001b[0m\n",
      "\u001b[32m[I 2022-06-24 00:12:30,291]\u001b[0m Trial 333 finished with value: 0.8632743947444026 and parameters: {'scalers': 'robust', 'lambda_l1': 7.013502454932728e-08, 'lambda_l2': 0.47425314398120366, 'num_leaves': 161, 'feature_fraction': 0.9520793005106826, 'bagging_fraction': 0.4214718071689629, 'bagging_freq': 1, 'min_child_samples': 19, 'max_depth': 162}. Best is trial 292 with value: 0.8718675463897988.\u001b[0m\n",
      "\u001b[32m[I 2022-06-24 00:12:31,330]\u001b[0m Trial 334 finished with value: 0.8682510807690761 and parameters: {'scalers': 'standard', 'lambda_l1': 1.5023658937013433e-06, 'lambda_l2': 0.2560567151977747, 'num_leaves': 90, 'feature_fraction': 0.846661442989784, 'bagging_fraction': 0.4624907524816422, 'bagging_freq': 1, 'min_child_samples': 15, 'max_depth': 311}. Best is trial 292 with value: 0.8718675463897988.\u001b[0m\n",
      "\u001b[32m[I 2022-06-24 00:12:32,725]\u001b[0m Trial 335 finished with value: 0.8568399181872479 and parameters: {'scalers': 'robust', 'lambda_l1': 1.3356871390416023e-06, 'lambda_l2': 0.11048949626310796, 'num_leaves': 94, 'feature_fraction': 0.8252806141668726, 'bagging_fraction': 0.46837906984996414, 'bagging_freq': 1, 'min_child_samples': 11, 'max_depth': 336}. Best is trial 292 with value: 0.8718675463897988.\u001b[0m\n",
      "\u001b[32m[I 2022-06-24 00:12:33,934]\u001b[0m Trial 336 finished with value: 0.862788345276155 and parameters: {'scalers': 'robust', 'lambda_l1': 0.074378095109833, 'lambda_l2': 0.1859365653649219, 'num_leaves': 90, 'feature_fraction': 0.8433393760333879, 'bagging_fraction': 0.45813256321196305, 'bagging_freq': 1, 'min_child_samples': 15, 'max_depth': 307}. Best is trial 292 with value: 0.8718675463897988.\u001b[0m\n",
      "\u001b[32m[I 2022-06-24 00:12:35,185]\u001b[0m Trial 337 finished with value: 0.8639851588684793 and parameters: {'scalers': 'standard', 'lambda_l1': 1.4406549222837071e-06, 'lambda_l2': 0.27962256300897037, 'num_leaves': 89, 'feature_fraction': 0.8360016527410018, 'bagging_fraction': 0.43596911610172573, 'bagging_freq': 1, 'min_child_samples': 13, 'max_depth': 380}. Best is trial 292 with value: 0.8718675463897988.\u001b[0m\n",
      "\u001b[32m[I 2022-06-24 00:12:36,311]\u001b[0m Trial 338 finished with value: 0.8563953331670049 and parameters: {'scalers': 'robust', 'lambda_l1': 1.8568277674435458e-06, 'lambda_l2': 1.6335536685792896e-06, 'num_leaves': 102, 'feature_fraction': 0.857715638250741, 'bagging_fraction': 0.45118711727281213, 'bagging_freq': 1, 'min_child_samples': 16, 'max_depth': 327}. Best is trial 292 with value: 0.8718675463897988.\u001b[0m\n",
      "\u001b[32m[I 2022-06-24 00:12:36,944]\u001b[0m Trial 339 finished with value: 0.7326879487042024 and parameters: {'scalers': 'robust', 'lambda_l1': 2.6149621873476063e-06, 'lambda_l2': 2.7032367969904128e-05, 'num_leaves': 95, 'feature_fraction': 0.851028714057043, 'bagging_fraction': 0.47728199245883357, 'bagging_freq': 1, 'min_child_samples': 30, 'max_depth': 353}. Best is trial 292 with value: 0.8718675463897988.\u001b[0m\n",
      "\u001b[32m[I 2022-06-24 00:12:37,827]\u001b[0m Trial 340 finished with value: 0.8685505506705198 and parameters: {'scalers': 'standard', 'lambda_l1': 8.990698656680902e-07, 'lambda_l2': 0.35018546946165896, 'num_leaves': 42, 'feature_fraction': 0.8742190990200442, 'bagging_fraction': 0.44012304063198243, 'bagging_freq': 1, 'min_child_samples': 18, 'max_depth': 300}. Best is trial 292 with value: 0.8718675463897988.\u001b[0m\n",
      "\u001b[32m[I 2022-06-24 00:12:38,846]\u001b[0m Trial 341 finished with value: 0.8654492275655201 and parameters: {'scalers': 'standard', 'lambda_l1': 8.969913293406288e-07, 'lambda_l2': 0.14510525568673122, 'num_leaves': 35, 'feature_fraction': 0.8690280625123596, 'bagging_fraction': 0.4401193447948143, 'bagging_freq': 1, 'min_child_samples': 18, 'max_depth': 310}. Best is trial 292 with value: 0.8718675463897988.\u001b[0m\n",
      "\u001b[32m[I 2022-06-24 00:12:39,547]\u001b[0m Trial 342 finished with value: 0.853468071273412 and parameters: {'scalers': 'standard', 'lambda_l1': 5.049420578749315e-07, 'lambda_l2': 0.3034809165383367, 'num_leaves': 79, 'feature_fraction': 0.8474588619151782, 'bagging_fraction': 0.4178906541121256, 'bagging_freq': 1, 'min_child_samples': 23, 'max_depth': 296}. Best is trial 292 with value: 0.8718675463897988.\u001b[0m\n",
      "\u001b[32m[I 2022-06-24 00:12:39,899]\u001b[0m Trial 343 finished with value: 0.5 and parameters: {'scalers': 'standard', 'lambda_l1': 5.913668778875478e-07, 'lambda_l2': 0.20759297550310352, 'num_leaves': 39, 'feature_fraction': 0.8764924833286681, 'bagging_fraction': 0.7150951188149453, 'bagging_freq': 1, 'min_child_samples': 66, 'max_depth': 271}. Best is trial 292 with value: 0.8718675463897988.\u001b[0m\n",
      "\u001b[32m[I 2022-06-24 00:12:40,855]\u001b[0m Trial 344 finished with value: 0.868805557424172 and parameters: {'scalers': 'standard', 'lambda_l1': 8.721040755933392e-07, 'lambda_l2': 0.33178659979349057, 'num_leaves': 84, 'feature_fraction': 0.8789808179077856, 'bagging_fraction': 0.4603356365832763, 'bagging_freq': 1, 'min_child_samples': 18, 'max_depth': 320}. Best is trial 292 with value: 0.8718675463897988.\u001b[0m\n",
      "\u001b[32m[I 2022-06-24 00:12:41,788]\u001b[0m Trial 345 finished with value: 0.8654007886678166 and parameters: {'scalers': 'standard', 'lambda_l1': 1.0215398086634554e-06, 'lambda_l2': 0.23550236027495985, 'num_leaves': 87, 'feature_fraction': 0.8692488364246648, 'bagging_fraction': 0.4442972862870529, 'bagging_freq': 1, 'min_child_samples': 19, 'max_depth': 318}. Best is trial 292 with value: 0.8718675463897988.\u001b[0m\n",
      "\u001b[32m[I 2022-06-24 00:12:42,690]\u001b[0m Trial 346 finished with value: 0.8663462463319275 and parameters: {'scalers': 'standard', 'lambda_l1': 4.2531717069208246e-07, 'lambda_l2': 0.488368564133744, 'num_leaves': 86, 'feature_fraction': 0.8694765801846704, 'bagging_fraction': 0.43060305478626476, 'bagging_freq': 2, 'min_child_samples': 20, 'max_depth': 331}. Best is trial 292 with value: 0.8718675463897988.\u001b[0m\n",
      "\u001b[32m[I 2022-06-24 00:12:43,652]\u001b[0m Trial 347 finished with value: 0.8658126948730662 and parameters: {'scalers': 'standard', 'lambda_l1': 2.705521832183279e-05, 'lambda_l2': 0.3346388852860056, 'num_leaves': 81, 'feature_fraction': 0.8539977524442831, 'bagging_fraction': 0.4585309547939959, 'bagging_freq': 1, 'min_child_samples': 18, 'max_depth': 298}. Best is trial 292 with value: 0.8718675463897988.\u001b[0m\n",
      "\u001b[32m[I 2022-06-24 00:12:44,163]\u001b[0m Trial 348 finished with value: 0.5956129038230432 and parameters: {'scalers': 'standard', 'lambda_l1': 0.00010160282954622252, 'lambda_l2': 0.741683702966569, 'num_leaves': 93, 'feature_fraction': 0.885266892901553, 'bagging_fraction': 0.4002383151023038, 'bagging_freq': 1, 'min_child_samples': 27, 'max_depth': 311}. Best is trial 292 with value: 0.8718675463897988.\u001b[0m\n",
      "\u001b[32m[I 2022-06-24 00:12:44,990]\u001b[0m Trial 349 finished with value: 0.8677733376874245 and parameters: {'scalers': 'standard', 'lambda_l1': 1.1068048441419967e-06, 'lambda_l2': 0.12353770898366098, 'num_leaves': 97, 'feature_fraction': 0.8780490785324505, 'bagging_fraction': 0.48090660804729907, 'bagging_freq': 1, 'min_child_samples': 22, 'max_depth': 265}. Best is trial 292 with value: 0.8718675463897988.\u001b[0m\n",
      "\u001b[32m[I 2022-06-24 00:12:45,367]\u001b[0m Trial 350 finished with value: 0.5 and parameters: {'scalers': 'standard', 'lambda_l1': 2.579060638879333e-07, 'lambda_l2': 0.44692500679178654, 'num_leaves': 76, 'feature_fraction': 0.8589606520204237, 'bagging_fraction': 0.7618072304850263, 'bagging_freq': 1, 'min_child_samples': 95, 'max_depth': 285}. Best is trial 292 with value: 0.8718675463897988.\u001b[0m\n",
      "\u001b[32m[I 2022-06-24 00:12:45,868]\u001b[0m Trial 351 finished with value: 0.5 and parameters: {'scalers': 'standard', 'lambda_l1': 6.619314510370899e-07, 'lambda_l2': 0.02682176203426504, 'num_leaves': 83, 'feature_fraction': 0.8958273621726174, 'bagging_fraction': 0.4127515649271986, 'bagging_freq': 1, 'min_child_samples': 43, 'max_depth': 340}. Best is trial 292 with value: 0.8718675463897988.\u001b[0m\n",
      "\u001b[32m[I 2022-06-24 00:12:46,777]\u001b[0m Trial 352 finished with value: 0.8628130964537699 and parameters: {'scalers': 'standard', 'lambda_l1': 8.432769844425574e-07, 'lambda_l2': 0.7820878294563571, 'num_leaves': 25, 'feature_fraction': 0.8800794862738449, 'bagging_fraction': 0.427562984928598, 'bagging_freq': 1, 'min_child_samples': 17, 'max_depth': 322}. Best is trial 292 with value: 0.8718675463897988.\u001b[0m\n"
     ]
    },
    {
     "name": "stderr",
     "output_type": "stream",
     "text": [
      "\u001b[32m[I 2022-06-24 00:12:47,649]\u001b[0m Trial 353 finished with value: 0.8631558994840729 and parameters: {'scalers': 'standard', 'lambda_l1': 1.8205765905125908e-07, 'lambda_l2': 0.0007372418925814933, 'num_leaves': 90, 'feature_fraction': 0.8376719312222847, 'bagging_fraction': 0.5568756151913118, 'bagging_freq': 1, 'min_child_samples': 20, 'max_depth': 292}. Best is trial 292 with value: 0.8718675463897988.\u001b[0m\n",
      "\u001b[32m[I 2022-06-24 00:12:48,251]\u001b[0m Trial 354 finished with value: 0.8533309867591988 and parameters: {'scalers': 'standard', 'lambda_l1': 4.0596774474084667e-07, 'lambda_l2': 0.00021841899703054217, 'num_leaves': 32, 'feature_fraction': 0.89740358629734, 'bagging_fraction': 0.4598091184133699, 'bagging_freq': 4, 'min_child_samples': 24, 'max_depth': 195}. Best is trial 292 with value: 0.8718675463897988.\u001b[0m\n",
      "\u001b[32m[I 2022-06-24 00:12:49,043]\u001b[0m Trial 355 finished with value: 0.8644394941573735 and parameters: {'scalers': 'standard', 'lambda_l1': 2.8058151824573615e-08, 'lambda_l2': 0.0076882780130154696, 'num_leaves': 42, 'feature_fraction': 0.8610360693703997, 'bagging_fraction': 0.44512380452823663, 'bagging_freq': 1, 'min_child_samples': 16, 'max_depth': 241}. Best is trial 292 with value: 0.8718675463897988.\u001b[0m\n",
      "\u001b[32m[I 2022-06-24 00:12:50,319]\u001b[0m Trial 356 finished with value: 0.8660903647221372 and parameters: {'scalers': 'standard', 'lambda_l1': 2.911760461197815e-07, 'lambda_l2': 0.04308695131767008, 'num_leaves': 178, 'feature_fraction': 0.9878378224742972, 'bagging_fraction': 0.4949544243307545, 'bagging_freq': 1, 'min_child_samples': 22, 'max_depth': 343}. Best is trial 292 with value: 0.8718675463897988.\u001b[0m\n",
      "\u001b[32m[I 2022-06-24 00:12:51,290]\u001b[0m Trial 357 finished with value: 0.8580593908155828 and parameters: {'scalers': 'standard', 'lambda_l1': 1.9886727572464378e-06, 'lambda_l2': 0.3383144660911545, 'num_leaves': 154, 'feature_fraction': 0.8949934230282914, 'bagging_fraction': 0.47301498717263746, 'bagging_freq': 3, 'min_child_samples': 18, 'max_depth': 310}. Best is trial 292 with value: 0.8718675463897988.\u001b[0m\n",
      "\u001b[32m[I 2022-06-24 00:12:52,923]\u001b[0m Trial 358 finished with value: 0.8501243253650376 and parameters: {'scalers': 'standard', 'lambda_l1': 1.1556066276140957e-06, 'lambda_l2': 5.932380181898654e-05, 'num_leaves': 138, 'feature_fraction': 0.9658164320545609, 'bagging_fraction': 0.4375897553601931, 'bagging_freq': 1, 'min_child_samples': 20, 'max_depth': 692}. Best is trial 292 with value: 0.8718675463897988.\u001b[0m\n",
      "\u001b[32m[I 2022-06-24 00:12:53,898]\u001b[0m Trial 359 finished with value: 0.8625699878466907 and parameters: {'scalers': 'robust', 'lambda_l1': 1.8507011435550962e-07, 'lambda_l2': 0.6372725072560165, 'num_leaves': 85, 'feature_fraction': 0.8276524543885027, 'bagging_fraction': 0.5389382855194399, 'bagging_freq': 1, 'min_child_samples': 25, 'max_depth': 276}. Best is trial 292 with value: 0.8718675463897988.\u001b[0m\n",
      "\u001b[32m[I 2022-06-24 00:12:54,772]\u001b[0m Trial 360 finished with value: 0.8653499975686507 and parameters: {'scalers': 'robust', 'lambda_l1': 5.237044168475665e-07, 'lambda_l2': 0.22454753514176615, 'num_leaves': 22, 'feature_fraction': 0.8157403322108493, 'bagging_fraction': 0.42343862968641444, 'bagging_freq': 1, 'min_child_samples': 15, 'max_depth': 218}. Best is trial 292 with value: 0.8718675463897988.\u001b[0m\n",
      "\u001b[32m[I 2022-06-24 00:12:55,831]\u001b[0m Trial 361 finished with value: 0.8654139737326658 and parameters: {'scalers': 'standard', 'lambda_l1': 1.1607317382989312e-07, 'lambda_l2': 1.0400199038676172, 'num_leaves': 103, 'feature_fraction': 0.8846238991297343, 'bagging_fraction': 0.4604576898615225, 'bagging_freq': 1, 'min_child_samples': 23, 'max_depth': 259}. Best is trial 292 with value: 0.8718675463897988.\u001b[0m\n",
      "\u001b[32m[I 2022-06-24 00:12:57,332]\u001b[0m Trial 362 finished with value: 0.866749430007557 and parameters: {'scalers': 'robust', 'lambda_l1': 7.793631755787082e-07, 'lambda_l2': 0.42239880311935774, 'num_leaves': 131, 'feature_fraction': 0.8773472472377687, 'bagging_fraction': 0.49409237936664685, 'bagging_freq': 1, 'min_child_samples': 21, 'max_depth': 298}. Best is trial 292 with value: 0.8718675463897988.\u001b[0m\n",
      "\u001b[32m[I 2022-06-24 00:12:59,172]\u001b[0m Trial 363 finished with value: 0.8657173363057651 and parameters: {'scalers': 'robust', 'lambda_l1': 4.4647133072036846e-08, 'lambda_l2': 2.227843934553288, 'num_leaves': 114, 'feature_fraction': 0.6755156580645727, 'bagging_fraction': 0.4817908300990159, 'bagging_freq': 1, 'min_child_samples': 18, 'max_depth': 323}. Best is trial 292 with value: 0.8718675463897988.\u001b[0m\n",
      "\u001b[32m[I 2022-06-24 00:12:59,857]\u001b[0m Trial 364 finished with value: 0.5 and parameters: {'scalers': 'standard', 'lambda_l1': 3.332777614917462e-06, 'lambda_l2': 0.013370082525055777, 'num_leaves': 11, 'feature_fraction': 0.6531907671605878, 'bagging_fraction': 0.41032637324989274, 'bagging_freq': 1, 'min_child_samples': 28, 'max_depth': 125}. Best is trial 292 with value: 0.8718675463897988.\u001b[0m\n",
      "\u001b[32m[I 2022-06-24 00:13:01,398]\u001b[0m Trial 365 finished with value: 0.864340323612576 and parameters: {'scalers': 'robust', 'lambda_l1': 3.242232240661865e-07, 'lambda_l2': 0.8843725921348449, 'num_leaves': 97, 'feature_fraction': 0.9039938088456501, 'bagging_fraction': 0.4513143520834313, 'bagging_freq': 1, 'min_child_samples': 20, 'max_depth': 352}. Best is trial 292 with value: 0.8718675463897988.\u001b[0m\n",
      "\u001b[32m[I 2022-06-24 00:13:02,853]\u001b[0m Trial 366 finished with value: 0.8660883956085195 and parameters: {'scalers': 'standard', 'lambda_l1': 1.304715350686651e-06, 'lambda_l2': 0.5507246733321025, 'num_leaves': 27, 'feature_fraction': 0.5465909217178282, 'bagging_fraction': 0.4376807471269071, 'bagging_freq': 1, 'min_child_samples': 17, 'max_depth': 769}. Best is trial 292 with value: 0.8718675463897988.\u001b[0m\n",
      "\u001b[32m[I 2022-06-24 00:13:03,742]\u001b[0m Trial 367 finished with value: 0.8671200330886863 and parameters: {'scalers': 'robust', 'lambda_l1': 2.1597502906120348e-07, 'lambda_l2': 0.23934058482056597, 'num_leaves': 75, 'feature_fraction': 0.9709193744865849, 'bagging_fraction': 0.5249723376075875, 'bagging_freq': 1, 'min_child_samples': 23, 'max_depth': 282}. Best is trial 292 with value: 0.8718675463897988.\u001b[0m\n",
      "\u001b[32m[I 2022-06-24 00:13:05,114]\u001b[0m Trial 368 finished with value: 0.8633085333998646 and parameters: {'scalers': 'robust', 'lambda_l1': 8.161504065667919e-08, 'lambda_l2': 0.0052070155339883975, 'num_leaves': 164, 'feature_fraction': 0.902296962644361, 'bagging_fraction': 0.4650449703080144, 'bagging_freq': 1, 'min_child_samples': 25, 'max_depth': 333}. Best is trial 292 with value: 0.8718675463897988.\u001b[0m\n",
      "\u001b[32m[I 2022-06-24 00:13:06,241]\u001b[0m Trial 369 finished with value: 0.8579779465245797 and parameters: {'scalers': 'standard', 'lambda_l1': 4.6497487431566246e-07, 'lambda_l2': 1.3861580592523208, 'num_leaves': 91, 'feature_fraction': 0.9594354157060435, 'bagging_fraction': 0.424943326389785, 'bagging_freq': 1, 'min_child_samples': 14, 'max_depth': 305}. Best is trial 292 with value: 0.8718675463897988.\u001b[0m\n",
      "\u001b[32m[I 2022-06-24 00:13:07,133]\u001b[0m Trial 370 finished with value: 0.8676006301919614 and parameters: {'scalers': 'robust', 'lambda_l1': 7.873833840896226e-07, 'lambda_l2': 0.35279506169482205, 'num_leaves': 149, 'feature_fraction': 0.7210374592381853, 'bagging_fraction': 0.5012171534805892, 'bagging_freq': 1, 'min_child_samples': 19, 'max_depth': 264}. Best is trial 292 with value: 0.8718675463897988.\u001b[0m\n",
      "\u001b[32m[I 2022-06-24 00:13:08,034]\u001b[0m Trial 371 finished with value: 0.8662264354582466 and parameters: {'scalers': 'robust', 'lambda_l1': 1.413066147745956e-07, 'lambda_l2': 0.15142326986765423, 'num_leaves': 106, 'feature_fraction': 0.9180817836245654, 'bagging_fraction': 0.5492731413690132, 'bagging_freq': 1, 'min_child_samples': 21, 'max_depth': 232}. Best is trial 292 with value: 0.8718675463897988.\u001b[0m\n",
      "\u001b[32m[I 2022-06-24 00:13:08,438]\u001b[0m Trial 372 finished with value: 0.5 and parameters: {'scalers': 'standard', 'lambda_l1': 1.0497080855058912e-08, 'lambda_l2': 0.6775040886405679, 'num_leaves': 14, 'feature_fraction': 0.979645456825352, 'bagging_fraction': 0.4746931616946863, 'bagging_freq': 1, 'min_child_samples': 49, 'max_depth': 282}. Best is trial 292 with value: 0.8718675463897988.\u001b[0m\n"
     ]
    },
    {
     "name": "stderr",
     "output_type": "stream",
     "text": [
      "\u001b[32m[I 2022-06-24 00:13:08,943]\u001b[0m Trial 373 finished with value: 0.5 and parameters: {'scalers': 'robust', 'lambda_l1': 0.016244786250354862, 'lambda_l2': 0.0029009009819546895, 'num_leaves': 6, 'feature_fraction': 0.8618044160572558, 'bagging_fraction': 0.44613000958437565, 'bagging_freq': 2, 'min_child_samples': 56, 'max_depth': 316}. Best is trial 292 with value: 0.8718675463897988.\u001b[0m\n",
      "\u001b[32m[I 2022-06-24 00:13:09,943]\u001b[0m Trial 374 finished with value: 0.8622742288885865 and parameters: {'scalers': 'standard', 'lambda_l1': 2.892298325229975e-07, 'lambda_l2': 0.00038459295462934504, 'num_leaves': 36, 'feature_fraction': 0.9445273601355417, 'bagging_fraction': 0.4911159126062896, 'bagging_freq': 1, 'min_child_samples': 15, 'max_depth': 345}. Best is trial 292 with value: 0.8718675463897988.\u001b[0m\n",
      "\u001b[32m[I 2022-06-24 00:13:10,849]\u001b[0m Trial 375 finished with value: 0.8583604401274679 and parameters: {'scalers': 'robust', 'lambda_l1': 6.239342574450905e-07, 'lambda_l2': 0.837631482031803, 'num_leaves': 23, 'feature_fraction': 0.8422365895947082, 'bagging_fraction': 0.514307421977315, 'bagging_freq': 1, 'min_child_samples': 17, 'max_depth': 298}. Best is trial 292 with value: 0.8718675463897988.\u001b[0m\n",
      "\u001b[32m[I 2022-06-24 00:13:11,770]\u001b[0m Trial 376 finished with value: 0.8642229531304609 and parameters: {'scalers': 'robust', 'lambda_l1': 1.5755891087558008e-06, 'lambda_l2': 0.06962794206102416, 'num_leaves': 158, 'feature_fraction': 0.8933785507547211, 'bagging_fraction': 0.5326217755094989, 'bagging_freq': 1, 'min_child_samples': 26, 'max_depth': 367}. Best is trial 292 with value: 0.8718675463897988.\u001b[0m\n",
      "\u001b[32m[I 2022-06-24 00:13:12,359]\u001b[0m Trial 377 finished with value: 0.8360270523250398 and parameters: {'scalers': 'standard', 'lambda_l1': 2.192169390938832, 'lambda_l2': 0.5119770066631176, 'num_leaves': 31, 'feature_fraction': 0.9225230778982508, 'bagging_fraction': 0.45862948824318434, 'bagging_freq': 1, 'min_child_samples': 22, 'max_depth': 254}. Best is trial 292 with value: 0.8718675463897988.\u001b[0m\n",
      "\u001b[32m[I 2022-06-24 00:13:13,274]\u001b[0m Trial 378 finished with value: 0.8570631263301542 and parameters: {'scalers': 'robust', 'lambda_l1': 6.660659315302284e-08, 'lambda_l2': 0.00011032369993454558, 'num_leaves': 84, 'feature_fraction': 0.9997879854376732, 'bagging_fraction': 0.4337743558712293, 'bagging_freq': 1, 'min_child_samples': 19, 'max_depth': 330}. Best is trial 292 with value: 0.8718675463897988.\u001b[0m\n",
      "\u001b[32m[I 2022-06-24 00:13:13,858]\u001b[0m Trial 379 finished with value: 0.5 and parameters: {'scalers': 'standard', 'lambda_l1': 3.14613685163609e-08, 'lambda_l2': 3.3444301322682137, 'num_leaves': 173, 'feature_fraction': 0.9065583869405955, 'bagging_fraction': 0.48304809990568504, 'bagging_freq': 1, 'min_child_samples': 38, 'max_depth': 540}. Best is trial 292 with value: 0.8718675463897988.\u001b[0m\n",
      "\u001b[32m[I 2022-06-24 00:13:14,618]\u001b[0m Trial 380 finished with value: 0.856205133531759 and parameters: {'scalers': 'robust', 'lambda_l1': 2.2303994772467034e-06, 'lambda_l2': 1.4198971279921653, 'num_leaves': 99, 'feature_fraction': 0.9599157439651643, 'bagging_fraction': 0.467895133276498, 'bagging_freq': 1, 'min_child_samples': 24, 'max_depth': 278}. Best is trial 292 with value: 0.8718675463897988.\u001b[0m\n",
      "\u001b[32m[I 2022-06-24 00:13:15,111]\u001b[0m Trial 381 finished with value: 0.5 and parameters: {'scalers': 'robust', 'lambda_l1': 2.151809671319153e-07, 'lambda_l2': 0.30624908581590216, 'num_leaves': 17, 'feature_fraction': 0.8754663992793579, 'bagging_fraction': 0.44593961839598284, 'bagging_freq': 1, 'min_child_samples': 34, 'max_depth': 310}. Best is trial 292 with value: 0.8718675463897988.\u001b[0m\n",
      "\u001b[32m[I 2022-06-24 00:13:15,945]\u001b[0m Trial 382 finished with value: 0.8685652768713915 and parameters: {'scalers': 'standard', 'lambda_l1': 3.87043179215869e-07, 'lambda_l2': 1.094622305457346, 'num_leaves': 43, 'feature_fraction': 0.9307083785025317, 'bagging_fraction': 0.5090344743566362, 'bagging_freq': 1, 'min_child_samples': 21, 'max_depth': 355}. Best is trial 292 with value: 0.8718675463897988.\u001b[0m\n",
      "\u001b[32m[I 2022-06-24 00:13:17,357]\u001b[0m Trial 383 finished with value: 0.8637327251352019 and parameters: {'scalers': 'standard', 'lambda_l1': 3.520341145151695e-07, 'lambda_l2': 0.8884319604888214, 'num_leaves': 44, 'feature_fraction': 0.9469904848439846, 'bagging_fraction': 0.515345448779079, 'bagging_freq': 1, 'min_child_samples': 17, 'max_depth': 616}. Best is trial 292 with value: 0.8718675463897988.\u001b[0m\n",
      "\u001b[32m[I 2022-06-24 00:13:18,250]\u001b[0m Trial 384 finished with value: 0.8624993433209379 and parameters: {'scalers': 'standard', 'lambda_l1': 1.3071160499548953e-07, 'lambda_l2': 0.4246194525889826, 'num_leaves': 35, 'feature_fraction': 0.9346938166211014, 'bagging_fraction': 0.4987652662817477, 'bagging_freq': 1, 'min_child_samples': 20, 'max_depth': 361}. Best is trial 292 with value: 0.8718675463897988.\u001b[0m\n",
      "\u001b[32m[I 2022-06-24 00:13:19,281]\u001b[0m Trial 385 finished with value: 0.8581616446848647 and parameters: {'scalers': 'standard', 'lambda_l1': 1.70029645103856e-07, 'lambda_l2': 0.1988537402265613, 'num_leaves': 43, 'feature_fraction': 0.91213948164247, 'bagging_fraction': 0.50562458006771, 'bagging_freq': 2, 'min_child_samples': 15, 'max_depth': 352}. Best is trial 292 with value: 0.8718675463897988.\u001b[0m\n",
      "\u001b[32m[I 2022-06-24 00:13:20,160]\u001b[0m Trial 386 finished with value: 0.8651227879877261 and parameters: {'scalers': 'standard', 'lambda_l1': 4.804471890939825e-07, 'lambda_l2': 0.6272812618844973, 'num_leaves': 50, 'feature_fraction': 0.9739611314134616, 'bagging_fraction': 0.5195632477283483, 'bagging_freq': 1, 'min_child_samples': 22, 'max_depth': 377}. Best is trial 292 with value: 0.8718675463897988.\u001b[0m\n",
      "\u001b[32m[I 2022-06-24 00:13:21,039]\u001b[0m Trial 387 finished with value: 0.8526729020033974 and parameters: {'scalers': 'standard', 'lambda_l1': 2.617530024688173e-07, 'lambda_l2': 1.1489954540003497, 'num_leaves': 41, 'feature_fraction': 0.8833314790029319, 'bagging_fraction': 0.5289178949629799, 'bagging_freq': 6, 'min_child_samples': 18, 'max_depth': 343}. Best is trial 292 with value: 0.8718675463897988.\u001b[0m\n",
      "\u001b[32m[I 2022-06-24 00:13:21,524]\u001b[0m Trial 388 finished with value: 0.8475544111676078 and parameters: {'scalers': 'standard', 'lambda_l1': 0.0003873044674257755, 'lambda_l2': 0.3571391715192715, 'num_leaves': 29, 'feature_fraction': 0.9487988490771448, 'bagging_fraction': 0.48882176052341614, 'bagging_freq': 1, 'min_child_samples': 27, 'max_depth': 240}. Best is trial 292 with value: 0.8718675463897988.\u001b[0m\n",
      "\u001b[32m[I 2022-06-24 00:13:22,630]\u001b[0m Trial 389 finished with value: 0.857693475878267 and parameters: {'scalers': 'standard', 'lambda_l1': 9.657126537252293e-08, 'lambda_l2': 0.0016347164125873666, 'num_leaves': 24, 'feature_fraction': 0.926526646370389, 'bagging_fraction': 0.503593134879478, 'bagging_freq': 1, 'min_child_samples': 12, 'max_depth': 326}. Best is trial 292 with value: 0.8718675463897988.\u001b[0m\n",
      "\u001b[32m[I 2022-06-24 00:13:23,417]\u001b[0m Trial 390 finished with value: 0.8661316358649951 and parameters: {'scalers': 'standard', 'lambda_l1': 5.739785243025864e-08, 'lambda_l2': 0.09582283634000455, 'num_leaves': 78, 'feature_fraction': 0.8929865850404934, 'bagging_fraction': 0.5113405990726771, 'bagging_freq': 1, 'min_child_samples': 24, 'max_depth': 365}. Best is trial 292 with value: 0.8718675463897988.\u001b[0m\n",
      "\u001b[32m[I 2022-06-24 00:13:24,140]\u001b[0m Trial 391 finished with value: 0.8666413367119636 and parameters: {'scalers': 'standard', 'lambda_l1': 4.292130140711267e-07, 'lambda_l2': 0.6615497215840389, 'num_leaves': 47, 'feature_fraction': 0.8496430652481031, 'bagging_fraction': 0.48726961281094644, 'bagging_freq': 1, 'min_child_samples': 19, 'max_depth': 264}. Best is trial 292 with value: 0.8718675463897988.\u001b[0m\n",
      "\u001b[32m[I 2022-06-24 00:13:25,055]\u001b[0m Trial 392 finished with value: 0.8652172054167023 and parameters: {'scalers': 'standard', 'lambda_l1': 1.9487556409179842e-07, 'lambda_l2': 0.2889782755612513, 'num_leaves': 38, 'feature_fraction': 0.909228901875657, 'bagging_fraction': 0.5454412264152323, 'bagging_freq': 1, 'min_child_samples': 16, 'max_depth': 299}. Best is trial 292 with value: 0.8718675463897988.\u001b[0m\n",
      "\u001b[32m[I 2022-06-24 00:13:25,635]\u001b[0m Trial 393 finished with value: 0.8593385176270238 and parameters: {'scalers': 'standard', 'lambda_l1': 9.861413383527816e-07, 'lambda_l2': 1.0436925840881344, 'num_leaves': 2, 'feature_fraction': 0.6290310924292126, 'bagging_fraction': 0.4086668434870396, 'bagging_freq': 1, 'min_child_samples': 21, 'max_depth': 284}. Best is trial 292 with value: 0.8718675463897988.\u001b[0m\n"
     ]
    },
    {
     "name": "stderr",
     "output_type": "stream",
     "text": [
      "\u001b[32m[I 2022-06-24 00:13:26,415]\u001b[0m Trial 394 finished with value: 0.8571937065772205 and parameters: {'scalers': 'standard', 'lambda_l1': 1.6174278803529076e-08, 'lambda_l2': 0.4027776854564583, 'num_leaves': 11, 'feature_fraction': 0.9869466448439408, 'bagging_fraction': 0.5355462795727463, 'bagging_freq': 3, 'min_child_samples': 23, 'max_depth': 338}. Best is trial 292 with value: 0.8718675463897988.\u001b[0m\n",
      "\u001b[32m[I 2022-06-24 00:13:26,709]\u001b[0m Trial 395 finished with value: 0.5 and parameters: {'scalers': 'standard', 'lambda_l1': 3.56985533133441e-07, 'lambda_l2': 0.5688748947725494, 'num_leaves': 71, 'feature_fraction': 0.962153386120586, 'bagging_fraction': 0.5799087196566228, 'bagging_freq': 1, 'min_child_samples': 61, 'max_depth': 187}. Best is trial 292 with value: 0.8718675463897988.\u001b[0m\n",
      "\u001b[32m[I 2022-06-24 00:13:27,516]\u001b[0m Trial 396 finished with value: 0.8650798282814536 and parameters: {'scalers': 'robust', 'lambda_l1': 1.0038854204229754e-07, 'lambda_l2': 1.9428666382821536, 'num_leaves': 125, 'feature_fraction': 0.8670592326488397, 'bagging_fraction': 0.47668701358557436, 'bagging_freq': 1, 'min_child_samples': 19, 'max_depth': 225}. Best is trial 292 with value: 0.8718675463897988.\u001b[0m\n",
      "\u001b[32m[I 2022-06-24 00:13:27,908]\u001b[0m Trial 397 finished with value: 0.5 and parameters: {'scalers': 'standard', 'lambda_l1': 5.354462448168133e-07, 'lambda_l2': 0.1727575925202815, 'num_leaves': 30, 'feature_fraction': 0.9341803307480148, 'bagging_fraction': 0.4217593034161075, 'bagging_freq': 1, 'min_child_samples': 29, 'max_depth': 252}. Best is trial 292 with value: 0.8718675463897988.\u001b[0m\n",
      "\u001b[32m[I 2022-06-24 00:13:29,013]\u001b[0m Trial 398 finished with value: 0.8549852009016096 and parameters: {'scalers': 'robust', 'lambda_l1': 2.4386701264625224e-07, 'lambda_l2': 0.9582030752378154, 'num_leaves': 19, 'feature_fraction': 0.9218529326541849, 'bagging_fraction': 0.5190606854163924, 'bagging_freq': 2, 'min_child_samples': 14, 'max_depth': 320}. Best is trial 292 with value: 0.8718675463897988.\u001b[0m\n",
      "\u001b[32m[I 2022-06-24 00:13:29,962]\u001b[0m Trial 399 finished with value: 0.8662013314772604 and parameters: {'scalers': 'robust', 'lambda_l1': 3.637000093843677e-08, 'lambda_l2': 0.0010230271507512454, 'num_leaves': 169, 'feature_fraction': 0.9491848922584397, 'bagging_fraction': 0.4951189219593013, 'bagging_freq': 1, 'min_child_samples': 25, 'max_depth': 388}. Best is trial 292 with value: 0.8718675463897988.\u001b[0m\n",
      "\u001b[32m[I 2022-06-24 00:13:30,805]\u001b[0m Trial 400 finished with value: 0.8596311839175617 and parameters: {'scalers': 'standard', 'lambda_l1': 0.0009536310483308345, 'lambda_l2': 4.691082819827574e-05, 'num_leaves': 15, 'feature_fraction': 0.9040193965243933, 'bagging_fraction': 0.5678759081123654, 'bagging_freq': 1, 'min_child_samples': 17, 'max_depth': 287}. Best is trial 292 with value: 0.8718675463897988.\u001b[0m\n",
      "\u001b[32m[I 2022-06-24 00:13:31,797]\u001b[0m Trial 401 finished with value: 0.8635441965585154 and parameters: {'scalers': 'robust', 'lambda_l1': 7.493418746542781e-07, 'lambda_l2': 0.25201907885586733, 'num_leaves': 92, 'feature_fraction': 0.9353294826218767, 'bagging_fraction': 0.4667199954020702, 'bagging_freq': 1, 'min_child_samples': 21, 'max_depth': 362}. Best is trial 292 with value: 0.8718675463897988.\u001b[0m\n",
      "\u001b[32m[I 2022-06-24 00:13:32,616]\u001b[0m Trial 402 finished with value: 0.8666231500697446 and parameters: {'scalers': 'standard', 'lambda_l1': 1.3171462623171468e-07, 'lambda_l2': 0.5309220160263675, 'num_leaves': 162, 'feature_fraction': 0.8909617843401804, 'bagging_fraction': 0.5048240784047339, 'bagging_freq': 1, 'min_child_samples': 23, 'max_depth': 337}. Best is trial 292 with value: 0.8718675463897988.\u001b[0m\n",
      "\u001b[32m[I 2022-06-24 00:13:33,103]\u001b[0m Trial 403 finished with value: 0.7918625791777881 and parameters: {'scalers': 'robust', 'lambda_l1': 3.30985012706132e-07, 'lambda_l2': 0.7807090144094369, 'num_leaves': 25, 'feature_fraction': 0.9193284665097312, 'bagging_fraction': 0.5265855561903233, 'bagging_freq': 1, 'min_child_samples': 31, 'max_depth': 264}. Best is trial 292 with value: 0.8718675463897988.\u001b[0m\n",
      "\u001b[32m[I 2022-06-24 00:13:33,395]\u001b[0m Trial 404 finished with value: 0.5 and parameters: {'scalers': 'standard', 'lambda_l1': 1.277919351321177e-06, 'lambda_l2': 0.0001858803191354382, 'num_leaves': 85, 'feature_fraction': 0.9689903386889537, 'bagging_fraction': 0.4557351487791426, 'bagging_freq': 1, 'min_child_samples': 83, 'max_depth': 209}. Best is trial 292 with value: 0.8718675463897988.\u001b[0m\n",
      "\u001b[32m[I 2022-06-24 00:13:34,255]\u001b[0m Trial 405 finished with value: 0.8602502463137138 and parameters: {'scalers': 'robust', 'lambda_l1': 5.8468356955772025e-08, 'lambda_l2': 1.3671345083657345, 'num_leaves': 37, 'feature_fraction': 0.5662117258160986, 'bagging_fraction': 0.6076443713308198, 'bagging_freq': 1, 'min_child_samples': 19, 'max_depth': 301}. Best is trial 292 with value: 0.8718675463897988.\u001b[0m\n",
      "\u001b[32m[I 2022-06-24 00:13:35,341]\u001b[0m Trial 406 finished with value: 0.8651013380324527 and parameters: {'scalers': 'robust', 'lambda_l1': 6.430236041787819e-06, 'lambda_l2': 0.4683656207564447, 'num_leaves': 148, 'feature_fraction': 0.9399957371497625, 'bagging_fraction': 0.47813547312976623, 'bagging_freq': 1, 'min_child_samples': 16, 'max_depth': 321}. Best is trial 292 with value: 0.8718675463897988.\u001b[0m\n",
      "\u001b[32m[I 2022-06-24 00:13:36,080]\u001b[0m Trial 407 finished with value: 0.8639905995921864 and parameters: {'scalers': 'standard', 'lambda_l1': 0.4118365552814121, 'lambda_l2': 0.24856183148006458, 'num_leaves': 19, 'feature_fraction': 0.9576592514131942, 'bagging_fraction': 0.4330647899398638, 'bagging_freq': 1, 'min_child_samples': 21, 'max_depth': 272}. Best is trial 292 with value: 0.8718675463897988.\u001b[0m\n",
      "\u001b[32m[I 2022-06-24 00:13:36,540]\u001b[0m Trial 408 finished with value: 0.7479908706704371 and parameters: {'scalers': 'robust', 'lambda_l1': 2.2735782738255e-08, 'lambda_l2': 0.8585239747197434, 'num_leaves': 8, 'feature_fraction': 0.8115015142540325, 'bagging_fraction': 0.41237107968516223, 'bagging_freq': 1, 'min_child_samples': 26, 'max_depth': 149}. Best is trial 292 with value: 0.8718675463897988.\u001b[0m\n",
      "\u001b[32m[I 2022-06-24 00:13:37,525]\u001b[0m Trial 409 finished with value: 0.8625375388070822 and parameters: {'scalers': 'standard', 'lambda_l1': 1.650805462267338e-07, 'lambda_l2': 1.459318574818416e-05, 'num_leaves': 143, 'feature_fraction': 0.9107285619201204, 'bagging_fraction': 0.4857369430407997, 'bagging_freq': 1, 'min_child_samples': 18, 'max_depth': 352}. Best is trial 292 with value: 0.8718675463897988.\u001b[0m\n",
      "\u001b[32m[I 2022-06-24 00:13:38,595]\u001b[0m Trial 410 finished with value: 0.8655916682646558 and parameters: {'scalers': 'robust', 'lambda_l1': 6.228118897682554e-07, 'lambda_l2': 0.3750227203726713, 'num_leaves': 154, 'feature_fraction': 0.8792570101429427, 'bagging_fraction': 0.4662700660686391, 'bagging_freq': 1, 'min_child_samples': 22, 'max_depth': 301}. Best is trial 292 with value: 0.8718675463897988.\u001b[0m\n",
      "\u001b[32m[I 2022-06-24 00:13:39,832]\u001b[0m Trial 411 finished with value: 0.8600355753637489 and parameters: {'scalers': 'standard', 'lambda_l1': 3.990759459524362e-06, 'lambda_l2': 2.162994209446715, 'num_leaves': 81, 'feature_fraction': 0.979072040481192, 'bagging_fraction': 0.5065134473633974, 'bagging_freq': 1, 'min_child_samples': 14, 'max_depth': 373}. Best is trial 292 with value: 0.8718675463897988.\u001b[0m\n",
      "\u001b[32m[I 2022-06-24 00:13:41,144]\u001b[0m Trial 412 finished with value: 0.8515685879093389 and parameters: {'scalers': 'robust', 'lambda_l1': 8.519401199437193e-08, 'lambda_l2': 0.0004299600286923687, 'num_leaves': 31, 'feature_fraction': 0.8319660315314404, 'bagging_fraction': 0.7452106131105819, 'bagging_freq': 1, 'min_child_samples': 20, 'max_depth': 329}. Best is trial 292 with value: 0.8718675463897988.\u001b[0m\n",
      "\u001b[32m[I 2022-06-24 00:13:42,346]\u001b[0m Trial 413 finished with value: 0.8463559203524375 and parameters: {'scalers': 'robust', 'lambda_l1': 9.860569013181583e-07, 'lambda_l2': 0.1475401123750491, 'num_leaves': 89, 'feature_fraction': 0.8969449532744295, 'bagging_fraction': 0.8259469103051467, 'bagging_freq': 1, 'min_child_samples': 16, 'max_depth': 249}. Best is trial 292 with value: 0.8718675463897988.\u001b[0m\n",
      "\u001b[32m[I 2022-06-24 00:13:42,890]\u001b[0m Trial 414 finished with value: 0.8458561977453231 and parameters: {'scalers': 'standard', 'lambda_l1': 2.61416563878837e-07, 'lambda_l2': 0.6370101042900371, 'num_leaves': 72, 'feature_fraction': 0.9186718798463835, 'bagging_fraction': 0.42358912083874195, 'bagging_freq': 1, 'min_child_samples': 24, 'max_depth': 291}. Best is trial 292 with value: 0.8718675463897988.\u001b[0m\n"
     ]
    },
    {
     "name": "stderr",
     "output_type": "stream",
     "text": [
      "\u001b[32m[I 2022-06-24 00:13:44,203]\u001b[0m Trial 415 finished with value: 0.867273502361931 and parameters: {'scalers': 'robust', 'lambda_l1': 4.567564657823748e-07, 'lambda_l2': 1.0309303053758623, 'num_leaves': 136, 'feature_fraction': 0.8559907488727889, 'bagging_fraction': 0.4532189792511736, 'bagging_freq': 1, 'min_child_samples': 18, 'max_depth': 312}. Best is trial 292 with value: 0.8718675463897988.\u001b[0m\n",
      "\u001b[32m[I 2022-06-24 00:13:45,144]\u001b[0m Trial 416 finished with value: 0.855779762033632 and parameters: {'scalers': 'standard', 'lambda_l1': 1.3866430297754027e-06, 'lambda_l2': 0.49330349439851795, 'num_leaves': 27, 'feature_fraction': 0.9454132984200015, 'bagging_fraction': 0.5544379225831841, 'bagging_freq': 2, 'min_child_samples': 12, 'max_depth': 274}. Best is trial 292 with value: 0.8718675463897988.\u001b[0m\n",
      "\u001b[32m[I 2022-06-24 00:13:46,041]\u001b[0m Trial 417 finished with value: 0.8415174342556309 and parameters: {'scalers': 'robust', 'lambda_l1': 6.727195594522539e-07, 'lambda_l2': 0.28977651737329996, 'num_leaves': 119, 'feature_fraction': 0.9277128282198718, 'bagging_fraction': 0.44060892041567434, 'bagging_freq': 1, 'min_child_samples': 27, 'max_depth': 971}. Best is trial 292 with value: 0.8718675463897988.\u001b[0m\n",
      "\u001b[32m[I 2022-06-24 00:13:47,102]\u001b[0m Trial 418 finished with value: 0.8652650878962799 and parameters: {'scalers': 'standard', 'lambda_l1': 1.506100275687115e-07, 'lambda_l2': 1.5677721168357999, 'num_leaves': 183, 'feature_fraction': 0.9598907411948218, 'bagging_fraction': 0.5404983797621873, 'bagging_freq': 1, 'min_child_samples': 20, 'max_depth': 347}. Best is trial 292 with value: 0.8718675463897988.\u001b[0m\n",
      "\u001b[32m[I 2022-06-24 00:13:48,495]\u001b[0m Trial 419 finished with value: 0.8654534520132431 and parameters: {'scalers': 'robust', 'lambda_l1': 2.0296032422003272e-06, 'lambda_l2': 0.7064278897962986, 'num_leaves': 13, 'feature_fraction': 0.9043512182991055, 'bagging_fraction': 0.5178448769223896, 'bagging_freq': 1, 'min_child_samples': 23, 'max_depth': 241}. Best is trial 292 with value: 0.8718675463897988.\u001b[0m\n",
      "\u001b[32m[I 2022-06-24 00:13:49,490]\u001b[0m Trial 420 finished with value: 0.8629324418701354 and parameters: {'scalers': 'standard', 'lambda_l1': 2.4078667222005463e-07, 'lambda_l2': 0.4492497043811115, 'num_leaves': 51, 'feature_fraction': 0.8726393212249488, 'bagging_fraction': 0.49176205096788816, 'bagging_freq': 1, 'min_child_samples': 17, 'max_depth': 286}. Best is trial 292 with value: 0.8718675463897988.\u001b[0m\n",
      "\u001b[32m[I 2022-06-24 00:13:50,380]\u001b[0m Trial 421 finished with value: 0.869266442321009 and parameters: {'scalers': 'robust', 'lambda_l1': 1.3986105137028443e-05, 'lambda_l2': 1.343777177330148, 'num_leaves': 19, 'feature_fraction': 0.9392725568696296, 'bagging_fraction': 0.47276476338397166, 'bagging_freq': 1, 'min_child_samples': 22, 'max_depth': 320}. Best is trial 292 with value: 0.8718675463897988.\u001b[0m\n",
      "\u001b[32m[I 2022-06-24 00:13:51,188]\u001b[0m Trial 422 finished with value: 0.8552305489058586 and parameters: {'scalers': 'robust', 'lambda_l1': 3.208105982559542e-06, 'lambda_l2': 2.9323224962456758, 'num_leaves': 20, 'feature_fraction': 0.9288726057807047, 'bagging_fraction': 0.476610044763572, 'bagging_freq': 1, 'min_child_samples': 25, 'max_depth': 330}. Best is trial 292 with value: 0.8718675463897988.\u001b[0m\n",
      "\u001b[32m[I 2022-06-24 00:13:52,045]\u001b[0m Trial 423 finished with value: 0.8654057032793488 and parameters: {'scalers': 'standard', 'lambda_l1': 1.5387520834897434e-06, 'lambda_l2': 1.7094957409504974, 'num_leaves': 23, 'feature_fraction': 0.8875197266855847, 'bagging_fraction': 0.4993422933562089, 'bagging_freq': 1, 'min_child_samples': 22, 'max_depth': 314}. Best is trial 292 with value: 0.8718675463897988.\u001b[0m\n",
      "\u001b[32m[I 2022-06-24 00:13:52,894]\u001b[0m Trial 424 finished with value: 0.866677797413285 and parameters: {'scalers': 'robust', 'lambda_l1': 8.313442789347162e-07, 'lambda_l2': 1.3543371963822322, 'num_leaves': 11, 'feature_fraction': 0.9192020524226102, 'bagging_fraction': 0.4834785912746382, 'bagging_freq': 1, 'min_child_samples': 24, 'max_depth': 357}. Best is trial 292 with value: 0.8718675463897988.\u001b[0m\n",
      "\u001b[32m[I 2022-06-24 00:13:54,368]\u001b[0m Trial 425 finished with value: 0.8582234455860619 and parameters: {'scalers': 'standard', 'lambda_l1': 1.1304671341575257e-06, 'lambda_l2': 0.019599895021507923, 'num_leaves': 16, 'feature_fraction': 0.9417497210624501, 'bagging_fraction': 0.5281343349808637, 'bagging_freq': 1, 'min_child_samples': 21, 'max_depth': 728}. Best is trial 292 with value: 0.8718675463897988.\u001b[0m\n",
      "\u001b[32m[I 2022-06-24 00:13:54,852]\u001b[0m Trial 426 finished with value: 0.5 and parameters: {'scalers': 'robust', 'lambda_l1': 1.0122845952992256e-05, 'lambda_l2': 2.26472228526244, 'num_leaves': 23, 'feature_fraction': 0.910513693963265, 'bagging_fraction': 0.40162298768555016, 'bagging_freq': 1, 'min_child_samples': 28, 'max_depth': 337}. Best is trial 292 with value: 0.8718675463897988.\u001b[0m\n",
      "\u001b[32m[I 2022-06-24 00:13:55,847]\u001b[0m Trial 427 finished with value: 0.8527106947919643 and parameters: {'scalers': 'robust', 'lambda_l1': 4.159279803716772e-08, 'lambda_l2': 1.1413703744399508, 'num_leaves': 34, 'feature_fraction': 0.934446496778861, 'bagging_fraction': 0.8511885724102977, 'bagging_freq': 1, 'min_child_samples': 23, 'max_depth': 309}. Best is trial 292 with value: 0.8718675463897988.\u001b[0m\n",
      "\u001b[32m[I 2022-06-24 00:13:56,527]\u001b[0m Trial 428 finished with value: 0.8628560335003833 and parameters: {'scalers': 'standard', 'lambda_l1': 4.73270283350858e-07, 'lambda_l2': 0.9335150264985146, 'num_leaves': 28, 'feature_fraction': 0.9234361836715645, 'bagging_fraction': 0.5108555050777025, 'bagging_freq': 1, 'min_child_samples': 26, 'max_depth': 369}. Best is trial 292 with value: 0.8718675463897988.\u001b[0m\n",
      "\u001b[32m[I 2022-06-24 00:13:57,514]\u001b[0m Trial 429 finished with value: 0.8617997155278503 and parameters: {'scalers': 'robust', 'lambda_l1': 2.2501185367951117e-06, 'lambda_l2': 0.00028766924091281617, 'num_leaves': 19, 'feature_fraction': 0.8992182245562671, 'bagging_fraction': 0.46713930189950104, 'bagging_freq': 1, 'min_child_samples': 20, 'max_depth': 391}. Best is trial 292 with value: 0.8718675463897988.\u001b[0m\n",
      "\u001b[32m[I 2022-06-24 00:13:58,561]\u001b[0m Trial 430 finished with value: 0.856981287116736 and parameters: {'scalers': 'standard', 'lambda_l1': 1.4315897409417252e-05, 'lambda_l2': 4.008070103630298, 'num_leaves': 42, 'feature_fraction': 0.9897913523600752, 'bagging_fraction': 0.495568726780265, 'bagging_freq': 1, 'min_child_samples': 10, 'max_depth': 319}. Best is trial 292 with value: 0.8718675463897988.\u001b[0m\n",
      "\u001b[32m[I 2022-06-24 00:13:59,050]\u001b[0m Trial 431 finished with value: 0.5 and parameters: {'scalers': 'robust', 'lambda_l1': 6.372141733856568e-07, 'lambda_l2': 0.7090761773952406, 'num_leaves': 6, 'feature_fraction': 0.9515932756461452, 'bagging_fraction': 0.428915087021309, 'bagging_freq': 1, 'min_child_samples': 52, 'max_depth': 343}. Best is trial 292 with value: 0.8718675463897988.\u001b[0m\n",
      "\u001b[32m[I 2022-06-24 00:13:59,795]\u001b[0m Trial 432 finished with value: 0.8632895084147019 and parameters: {'scalers': 'standard', 'lambda_l1': 7.279274094942957e-08, 'lambda_l2': 1.1246701999788934e-08, 'num_leaves': 94, 'feature_fraction': 0.9712028370619995, 'bagging_fraction': 0.45069818069284223, 'bagging_freq': 1, 'min_child_samples': 22, 'max_depth': 297}. Best is trial 292 with value: 0.8718675463897988.\u001b[0m\n",
      "\u001b[32m[I 2022-06-24 00:14:00,434]\u001b[0m Trial 433 finished with value: 0.8605960432756098 and parameters: {'scalers': 'robust', 'lambda_l1': 0.0001578477877973677, 'lambda_l2': 7.85729868534404e-05, 'num_leaves': 14, 'feature_fraction': 0.7350169967120137, 'bagging_fraction': 0.47344982344125863, 'bagging_freq': 1, 'min_child_samples': 19, 'max_depth': 171}. Best is trial 292 with value: 0.8718675463897988.\u001b[0m\n",
      "\u001b[32m[I 2022-06-24 00:14:01,337]\u001b[0m Trial 434 finished with value: 0.8644894892903794 and parameters: {'scalers': 'standard', 'lambda_l1': 3.860586574849312e-07, 'lambda_l2': 1.3524242727855686, 'num_leaves': 167, 'feature_fraction': 0.8506370241158961, 'bagging_fraction': 0.44042102475764255, 'bagging_freq': 1, 'min_child_samples': 15, 'max_depth': 329}. Best is trial 292 with value: 0.8718675463897988.\u001b[0m\n",
      "\u001b[32m[I 2022-06-24 00:14:01,901]\u001b[0m Trial 435 finished with value: 0.8221872819732726 and parameters: {'scalers': 'robust', 'lambda_l1': 1.0370878752340246e-06, 'lambda_l2': 2.9102941406894995e-05, 'num_leaves': 113, 'feature_fraction': 0.8868919179186734, 'bagging_fraction': 0.41728227569238047, 'bagging_freq': 1, 'min_child_samples': 25, 'max_depth': 299}. Best is trial 292 with value: 0.8718675463897988.\u001b[0m\n"
     ]
    },
    {
     "name": "stderr",
     "output_type": "stream",
     "text": [
      "\u001b[32m[I 2022-06-24 00:14:03,030]\u001b[0m Trial 436 finished with value: 0.8601204843273342 and parameters: {'scalers': 'robust', 'lambda_l1': 1.1174549342978452e-07, 'lambda_l2': 2.2714201909080423, 'num_leaves': 233, 'feature_fraction': 0.9135453525812575, 'bagging_fraction': 0.6408961740140573, 'bagging_freq': 2, 'min_child_samples': 21, 'max_depth': 381}. Best is trial 292 with value: 0.8718675463897988.\u001b[0m\n",
      "\u001b[32m[I 2022-06-24 00:14:03,844]\u001b[0m Trial 437 finished with value: 0.8657390188715653 and parameters: {'scalers': 'standard', 'lambda_l1': 4.812127031401299e-06, 'lambda_l2': 0.7689851018072759, 'num_leaves': 30, 'feature_fraction': 0.9371356197225286, 'bagging_fraction': 0.4872149732209391, 'bagging_freq': 1, 'min_child_samples': 19, 'max_depth': 347}. Best is trial 292 with value: 0.8718675463897988.\u001b[0m\n",
      "\u001b[32m[I 2022-06-24 00:14:04,668]\u001b[0m Trial 438 finished with value: 0.8667566041199943 and parameters: {'scalers': 'robust', 'lambda_l1': 1.6186092503713917e-06, 'lambda_l2': 0.49335681485803484, 'num_leaves': 105, 'feature_fraction': 0.8677255770127131, 'bagging_fraction': 0.5194486303475866, 'bagging_freq': 1, 'min_child_samples': 23, 'max_depth': 318}. Best is trial 292 with value: 0.8718675463897988.\u001b[0m\n",
      "\u001b[32m[I 2022-06-24 00:14:05,431]\u001b[0m Trial 439 finished with value: 0.8598287623753957 and parameters: {'scalers': 'standard', 'lambda_l1': 3.2559489958023057e-07, 'lambda_l2': 0.9182259963754613, 'num_leaves': 24, 'feature_fraction': 0.8989813720694548, 'bagging_fraction': 0.5357099890041056, 'bagging_freq': 1, 'min_child_samples': 17, 'max_depth': 278}. Best is trial 292 with value: 0.8718675463897988.\u001b[0m\n",
      "\u001b[32m[I 2022-06-24 00:14:06,379]\u001b[0m Trial 440 finished with value: 0.8590558498304242 and parameters: {'scalers': 'robust', 'lambda_l1': 5.070427651118101e-08, 'lambda_l2': 0.0007173046879359081, 'num_leaves': 157, 'feature_fraction': 0.839216940444952, 'bagging_fraction': 0.6791576843613024, 'bagging_freq': 1, 'min_child_samples': 20, 'max_depth': 291}. Best is trial 292 with value: 0.8718675463897988.\u001b[0m\n",
      "\u001b[32m[I 2022-06-24 00:14:07,361]\u001b[0m Trial 441 finished with value: 0.8649272536459068 and parameters: {'scalers': 'standard', 'lambda_l1': 2.316869360181436e-08, 'lambda_l2': 1.5556569761759411, 'num_leaves': 129, 'feature_fraction': 0.9260012506930322, 'bagging_fraction': 0.4589055303651219, 'bagging_freq': 1, 'min_child_samples': 14, 'max_depth': 360}. Best is trial 292 with value: 0.8718675463897988.\u001b[0m\n",
      "\u001b[32m[I 2022-06-24 00:14:08,182]\u001b[0m Trial 442 finished with value: 0.8675293134368212 and parameters: {'scalers': 'robust', 'lambda_l1': 5.940951064778269e-07, 'lambda_l2': 0.18683876053681928, 'num_leaves': 38, 'feature_fraction': 0.941831726144731, 'bagging_fraction': 0.5031668284535114, 'bagging_freq': 1, 'min_child_samples': 22, 'max_depth': 315}. Best is trial 292 with value: 0.8718675463897988.\u001b[0m\n",
      "\u001b[32m[I 2022-06-24 00:14:08,992]\u001b[0m Trial 443 finished with value: 0.8561246333001364 and parameters: {'scalers': 'standard', 'lambda_l1': 1.6579298386316964e-07, 'lambda_l2': 0.36705044030984696, 'num_leaves': 19, 'feature_fraction': 0.9525467718640837, 'bagging_fraction': 0.42999330537428526, 'bagging_freq': 4, 'min_child_samples': 25, 'max_depth': 637}. Best is trial 292 with value: 0.8718675463897988.\u001b[0m\n",
      "\u001b[32m[I 2022-06-24 00:14:09,759]\u001b[0m Trial 444 finished with value: 0.8667118602501731 and parameters: {'scalers': 'robust', 'lambda_l1': 8.730630200230381e-07, 'lambda_l2': 0.6034849994164196, 'num_leaves': 11, 'feature_fraction': 0.9087422343749434, 'bagging_fraction': 0.475826960756058, 'bagging_freq': 1, 'min_child_samples': 18, 'max_depth': 266}. Best is trial 292 with value: 0.8718675463897988.\u001b[0m\n",
      "\u001b[32m[I 2022-06-24 00:14:10,701]\u001b[0m Trial 445 finished with value: 0.8645149409628898 and parameters: {'scalers': 'robust', 'lambda_l1': 7.34756924953839e-05, 'lambda_l2': 1.2157096812944115, 'num_leaves': 100, 'feature_fraction': 0.9669230834485308, 'bagging_fraction': 0.44860037738722053, 'bagging_freq': 1, 'min_child_samples': 16, 'max_depth': 334}. Best is trial 292 with value: 0.8718675463897988.\u001b[0m\n",
      "\u001b[32m[I 2022-06-24 00:14:11,234]\u001b[0m Trial 446 finished with value: 0.8328451434831079 and parameters: {'scalers': 'standard', 'lambda_l1': 4.152724126037905e-07, 'lambda_l2': 5.84235494461291, 'num_leaves': 90, 'feature_fraction': 0.9822665319040242, 'bagging_fraction': 0.41291922557765626, 'bagging_freq': 1, 'min_child_samples': 23, 'max_depth': 301}. Best is trial 292 with value: 0.8718675463897988.\u001b[0m\n",
      "\u001b[32m[I 2022-06-24 00:14:12,187]\u001b[0m Trial 447 finished with value: 0.8587605898358608 and parameters: {'scalers': 'robust', 'lambda_l1': 3.656547523759531e-05, 'lambda_l2': 0.2716480733764517, 'num_leaves': 245, 'feature_fraction': 0.8801542841592473, 'bagging_fraction': 0.6584153349391535, 'bagging_freq': 1, 'min_child_samples': 20, 'max_depth': 285}. Best is trial 292 with value: 0.8718675463897988.\u001b[0m\n",
      "\u001b[32m[I 2022-06-24 00:14:12,655]\u001b[0m Trial 448 finished with value: 0.7986124141811062 and parameters: {'scalers': 'standard', 'lambda_l1': 2.7506245467489993e-06, 'lambda_l2': 0.6810609412471279, 'num_leaves': 176, 'feature_fraction': 0.9280080895868329, 'bagging_fraction': 0.5065357498269789, 'bagging_freq': 1, 'min_child_samples': 30, 'max_depth': 346}. Best is trial 292 with value: 0.8718675463897988.\u001b[0m\n",
      "\u001b[32m[I 2022-06-24 00:14:13,853]\u001b[0m Trial 449 finished with value: 0.8594570811455486 and parameters: {'scalers': 'robust', 'lambda_l1': 7.060478714986043e-06, 'lambda_l2': 0.0001513664222687425, 'num_leaves': 46, 'feature_fraction': 0.8628021765570243, 'bagging_fraction': 0.4896182945971771, 'bagging_freq': 1, 'min_child_samples': 12, 'max_depth': 371}. Best is trial 292 with value: 0.8718675463897988.\u001b[0m\n",
      "\u001b[32m[I 2022-06-24 00:14:14,294]\u001b[0m Trial 450 finished with value: 0.8271014993992937 and parameters: {'scalers': 'standard', 'lambda_l1': 9.563148468457347e-08, 'lambda_l2': 0.4031187105376797, 'num_leaves': 34, 'feature_fraction': 0.8944935093283639, 'bagging_fraction': 0.4603096023843824, 'bagging_freq': 1, 'min_child_samples': 27, 'max_depth': 321}. Best is trial 292 with value: 0.8718675463897988.\u001b[0m\n",
      "\u001b[32m[I 2022-06-24 00:14:15,124]\u001b[0m Trial 451 finished with value: 0.862856058909271 and parameters: {'scalers': 'robust', 'lambda_l1': 2.2151634301620473e-07, 'lambda_l2': 0.004521464523930779, 'num_leaves': 17, 'feature_fraction': 0.8249665084640562, 'bagging_fraction': 0.5442492616766059, 'bagging_freq': 1, 'min_child_samples': 19, 'max_depth': 304}. Best is trial 292 with value: 0.8718675463897988.\u001b[0m\n",
      "\u001b[32m[I 2022-06-24 00:14:15,873]\u001b[0m Trial 452 finished with value: 0.8590058284508748 and parameters: {'scalers': 'standard', 'lambda_l1': 7.75868849263562e-07, 'lambda_l2': 2.8122035251721917, 'num_leaves': 27, 'feature_fraction': 0.9168854949702266, 'bagging_fraction': 0.43897368581526697, 'bagging_freq': 1, 'min_child_samples': 17, 'max_depth': 329}. Best is trial 292 with value: 0.8718675463897988.\u001b[0m\n",
      "\u001b[32m[I 2022-06-24 00:14:16,604]\u001b[0m Trial 453 finished with value: 0.8585140814422936 and parameters: {'scalers': 'robust', 'lambda_l1': 1.2304125249122733e-06, 'lambda_l2': 6.545690168587728e-06, 'num_leaves': 7, 'feature_fraction': 0.9562002369272947, 'bagging_fraction': 0.5287137729327, 'bagging_freq': 3, 'min_child_samples': 24, 'max_depth': 275}. Best is trial 292 with value: 0.8718675463897988.\u001b[0m\n",
      "\u001b[32m[I 2022-06-24 00:14:17,424]\u001b[0m Trial 454 finished with value: 0.8634742470936356 and parameters: {'scalers': 'robust', 'lambda_l1': 3.444654019534849e-07, 'lambda_l2': 0.8510777916459622, 'num_leaves': 97, 'feature_fraction': 0.9421511076937593, 'bagging_fraction': 0.47189373488699393, 'bagging_freq': 1, 'min_child_samples': 21, 'max_depth': 260}. Best is trial 292 with value: 0.8718675463897988.\u001b[0m\n",
      "\u001b[32m[I 2022-06-24 00:14:18,532]\u001b[0m Trial 455 finished with value: 0.8615507841187021 and parameters: {'scalers': 'standard', 'lambda_l1': 1.4993191690149848e-08, 'lambda_l2': 1.545246287038393, 'num_leaves': 160, 'feature_fraction': 0.9049520122630793, 'bagging_fraction': 0.496730962793812, 'bagging_freq': 1, 'min_child_samples': 15, 'max_depth': 396}. Best is trial 292 with value: 0.8718675463897988.\u001b[0m\n"
     ]
    },
    {
     "name": "stderr",
     "output_type": "stream",
     "text": [
      "\u001b[32m[I 2022-06-24 00:14:19,392]\u001b[0m Trial 456 finished with value: 0.8628238760938065 and parameters: {'scalers': 'robust', 'lambda_l1': 5.669313556366672e-07, 'lambda_l2': 1.0848805461650514e-07, 'num_leaves': 24, 'feature_fraction': 0.9298998657760505, 'bagging_fraction': 0.48393097305090405, 'bagging_freq': 1, 'min_child_samples': 22, 'max_depth': 351}. Best is trial 292 with value: 0.8718675463897988.\u001b[0m\n",
      "\u001b[32m[I 2022-06-24 00:14:19,823]\u001b[0m Trial 457 finished with value: 0.7569378375752216 and parameters: {'scalers': 'standard', 'lambda_l1': 1.2873625751923197e-07, 'lambda_l2': 0.06055678155514418, 'num_leaves': 108, 'feature_fraction': 0.9165123407076817, 'bagging_fraction': 0.4007256886105837, 'bagging_freq': 2, 'min_child_samples': 26, 'max_depth': 294}. Best is trial 292 with value: 0.8718675463897988.\u001b[0m\n",
      "\u001b[32m[I 2022-06-24 00:14:20,774]\u001b[0m Trial 458 finished with value: 0.8656200601084503 and parameters: {'scalers': 'robust', 'lambda_l1': 1.728333673601931e-06, 'lambda_l2': 0.11017201859345915, 'num_leaves': 16, 'feature_fraction': 0.9666743781147862, 'bagging_fraction': 0.5119691966031816, 'bagging_freq': 1, 'min_child_samples': 18, 'max_depth': 315}. Best is trial 292 with value: 0.8718675463897988.\u001b[0m\n",
      "\u001b[32m[I 2022-06-24 00:14:21,161]\u001b[0m Trial 459 finished with value: 0.5 and parameters: {'scalers': 'standard', 'lambda_l1': 1.6602908422462946e-05, 'lambda_l2': 0.0102693888268692, 'num_leaves': 32, 'feature_fraction': 0.8873755561004214, 'bagging_fraction': 0.4322190581609335, 'bagging_freq': 1, 'min_child_samples': 73, 'max_depth': 334}. Best is trial 292 with value: 0.8718675463897988.\u001b[0m\n",
      "\u001b[32m[I 2022-06-24 00:14:22,054]\u001b[0m Trial 460 finished with value: 0.8511284044258116 and parameters: {'scalers': 'robust', 'lambda_l1': 6.30451404990217e-08, 'lambda_l2': 0.5288698357267189, 'num_leaves': 88, 'feature_fraction': 0.8736630913135468, 'bagging_fraction': 0.4526789556809735, 'bagging_freq': 1, 'min_child_samples': 24, 'max_depth': 226}. Best is trial 292 with value: 0.8718675463897988.\u001b[0m\n",
      "\u001b[32m[I 2022-06-24 00:14:23,082]\u001b[0m Trial 461 finished with value: 0.8652691563252709 and parameters: {'scalers': 'standard', 'lambda_l1': 2.9550724444601843e-08, 'lambda_l2': 1.139773500301683, 'num_leaves': 164, 'feature_fraction': 0.9412843094286912, 'bagging_fraction': 0.5205728460683573, 'bagging_freq': 1, 'min_child_samples': 20, 'max_depth': 358}. Best is trial 292 with value: 0.8718675463897988.\u001b[0m\n",
      "\u001b[32m[I 2022-06-24 00:14:24,169]\u001b[0m Trial 462 finished with value: 0.8524322369237232 and parameters: {'scalers': 'robust', 'lambda_l1': 2.1203759450725345e-07, 'lambda_l2': 0.3486140220426793, 'num_leaves': 93, 'feature_fraction': 0.9004810377546548, 'bagging_fraction': 0.6988263781416743, 'bagging_freq': 1, 'min_child_samples': 16, 'max_depth': 281}. Best is trial 292 with value: 0.8718675463897988.\u001b[0m\n",
      "\u001b[32m[I 2022-06-24 00:14:25,081]\u001b[0m Trial 463 finished with value: 0.8641799878183392 and parameters: {'scalers': 'minmax', 'lambda_l1': 1.0322606396102043e-06, 'lambda_l2': 0.2239055777595162, 'num_leaves': 21, 'feature_fraction': 0.9926909497356078, 'bagging_fraction': 0.417824212372305, 'bagging_freq': 1, 'min_child_samples': 13, 'max_depth': 306}. Best is trial 292 with value: 0.8718675463897988.\u001b[0m\n",
      "\u001b[32m[I 2022-06-24 00:14:26,006]\u001b[0m Trial 464 finished with value: 0.8652689916507641 and parameters: {'scalers': 'robust', 'lambda_l1': 4.6971969426563155e-07, 'lambda_l2': 0.5838670912044922, 'num_leaves': 14, 'feature_fraction': 0.9536107722001695, 'bagging_fraction': 0.4722716419788055, 'bagging_freq': 1, 'min_child_samples': 21, 'max_depth': 380}. Best is trial 292 with value: 0.8718675463897988.\u001b[0m\n",
      "\u001b[32m[I 2022-06-24 00:14:26,619]\u001b[0m Trial 465 finished with value: 0.8670414366335417 and parameters: {'scalers': 'standard', 'lambda_l1': 3.141351566656986e-07, 'lambda_l2': 1.079316724114074, 'num_leaves': 40, 'feature_fraction': 0.9283292345109746, 'bagging_fraction': 0.44429222296436516, 'bagging_freq': 1, 'min_child_samples': 19, 'max_depth': 245}. Best is trial 292 with value: 0.8718675463897988.\u001b[0m\n",
      "\u001b[32m[I 2022-06-24 00:14:27,434]\u001b[0m Trial 466 finished with value: 0.8673982165065758 and parameters: {'scalers': 'robust', 'lambda_l1': 8.625535095229369e-08, 'lambda_l2': 0.031872319116923994, 'num_leaves': 28, 'feature_fraction': 0.9796559554040059, 'bagging_fraction': 0.46080783397976016, 'bagging_freq': 1, 'min_child_samples': 23, 'max_depth': 334}. Best is trial 292 with value: 0.8718675463897988.\u001b[0m\n",
      "\u001b[32m[I 2022-06-24 00:14:27,914]\u001b[0m Trial 467 finished with value: 0.8310371118819261 and parameters: {'scalers': 'standard', 'lambda_l1': 7.259184890205434e-07, 'lambda_l2': 1.664395871687684, 'num_leaves': 103, 'feature_fraction': 0.8484295511779999, 'bagging_fraction': 0.49811372691630745, 'bagging_freq': 1, 'min_child_samples': 28, 'max_depth': 266}. Best is trial 292 with value: 0.8718675463897988.\u001b[0m\n",
      "\u001b[32m[I 2022-06-24 00:14:28,784]\u001b[0m Trial 468 finished with value: 0.8567639840164994 and parameters: {'scalers': 'robust', 'lambda_l1': 1.4239028603080344e-07, 'lambda_l2': 0.002636686318978488, 'num_leaves': 10, 'feature_fraction': 0.9152142683785971, 'bagging_fraction': 0.5615396203246745, 'bagging_freq': 1, 'min_child_samples': 17, 'max_depth': 289}. Best is trial 292 with value: 0.8718675463897988.\u001b[0m\n",
      "\u001b[32m[I 2022-06-24 00:14:29,293]\u001b[0m Trial 469 finished with value: 0.8589071906765404 and parameters: {'scalers': 'standard', 'lambda_l1': 2.0177733214915714e-06, 'lambda_l2': 0.0013427077245184414, 'num_leaves': 150, 'feature_fraction': 0.9383414645465384, 'bagging_fraction': 0.4223595294656112, 'bagging_freq': 1, 'min_child_samples': 22, 'max_depth': 199}. Best is trial 292 with value: 0.8718675463897988.\u001b[0m\n",
      "\u001b[32m[I 2022-06-24 00:14:29,898]\u001b[0m Trial 470 finished with value: 0.852780286749714 and parameters: {'scalers': 'robust', 'lambda_l1': 2.64506848934122e-07, 'lambda_l2': 0.4651444128222054, 'num_leaves': 140, 'feature_fraction': 0.7998996987153593, 'bagging_fraction': 0.4797891203050193, 'bagging_freq': 1, 'min_child_samples': 14, 'max_depth': 108}. Best is trial 292 with value: 0.8718675463897988.\u001b[0m\n",
      "\u001b[32m[I 2022-06-24 00:14:30,652]\u001b[0m Trial 471 finished with value: 0.8654698964391302 and parameters: {'scalers': 'standard', 'lambda_l1': 4.821528829726388e-08, 'lambda_l2': 0.73563799563193, 'num_leaves': 23, 'feature_fraction': 0.9597479367904385, 'bagging_fraction': 0.5157896658531349, 'bagging_freq': 1, 'min_child_samples': 18, 'max_depth': 314}. Best is trial 292 with value: 0.8718675463897988.\u001b[0m\n",
      "\u001b[32m[I 2022-06-24 00:14:31,451]\u001b[0m Trial 472 finished with value: 0.8477664991956789 and parameters: {'scalers': 'robust', 'lambda_l1': 5.14545753551798e-07, 'lambda_l2': 0.0005145949158709399, 'num_leaves': 171, 'feature_fraction': 0.8896192096722739, 'bagging_fraction': 0.44127225871747955, 'bagging_freq': 7, 'min_child_samples': 25, 'max_depth': 348}. Best is trial 292 with value: 0.8718675463897988.\u001b[0m\n",
      "\u001b[32m[I 2022-06-24 00:14:32,327]\u001b[0m Trial 473 finished with value: 0.8653866813655899 and parameters: {'scalers': 'robust', 'lambda_l1': 1.3520533504363115e-06, 'lambda_l2': 0.27312464080893856, 'num_leaves': 4, 'feature_fraction': 0.7513979711088896, 'bagging_fraction': 0.5457304814729793, 'bagging_freq': 1, 'min_child_samples': 20, 'max_depth': 367}. Best is trial 292 with value: 0.8718675463897988.\u001b[0m\n",
      "\u001b[32m[I 2022-06-24 00:14:33,010]\u001b[0m Trial 474 finished with value: 0.865940488454614 and parameters: {'scalers': 'standard', 'lambda_l1': 2.0768696451892206e-07, 'lambda_l2': 2.259468714753482, 'num_leaves': 85, 'feature_fraction': 0.9207256981805325, 'bagging_fraction': 0.46167800450842783, 'bagging_freq': 1, 'min_child_samples': 21, 'max_depth': 293}. Best is trial 292 with value: 0.8718675463897988.\u001b[0m\n",
      "\u001b[32m[I 2022-06-24 00:14:33,943]\u001b[0m Trial 475 finished with value: 0.862570300657375 and parameters: {'scalers': 'robust', 'lambda_l1': 7.941176152042902e-07, 'lambda_l2': 0.14639901739114924, 'num_leaves': 46, 'feature_fraction': 0.9065127030260618, 'bagging_fraction': 0.4900124963791297, 'bagging_freq': 1, 'min_child_samples': 16, 'max_depth': 317}. Best is trial 292 with value: 0.8718675463897988.\u001b[0m\n"
     ]
    },
    {
     "name": "stderr",
     "output_type": "stream",
     "text": [
      "\u001b[32m[I 2022-06-24 00:14:35,313]\u001b[0m Trial 476 finished with value: 0.8525593227506926 and parameters: {'scalers': 'standard', 'lambda_l1': 3.655023538203521e-07, 'lambda_l2': 1.8925273785925903e-05, 'num_leaves': 35, 'feature_fraction': 0.9491278433284144, 'bagging_fraction': 0.5270579409131134, 'bagging_freq': 1, 'min_child_samples': 5, 'max_depth': 276}. Best is trial 292 with value: 0.8718675463897988.\u001b[0m\n",
      "\u001b[32m[I 2022-06-24 00:14:36,156]\u001b[0m Trial 477 finished with value: 0.8645600994507728 and parameters: {'scalers': 'robust', 'lambda_l1': 1.2159032131384854e-07, 'lambda_l2': 0.6569944434810124, 'num_leaves': 96, 'feature_fraction': 0.8606045208298949, 'bagging_fraction': 0.5022703561071765, 'bagging_freq': 2, 'min_child_samples': 23, 'max_depth': 333}. Best is trial 292 with value: 0.8718675463897988.\u001b[0m\n",
      "\u001b[32m[I 2022-06-24 00:14:36,808]\u001b[0m Trial 478 finished with value: 0.8663079462676986 and parameters: {'scalers': 'standard', 'lambda_l1': 3.3678297103803053e-06, 'lambda_l2': 0.9269931307957615, 'num_leaves': 21, 'feature_fraction': 0.9332478325249023, 'bagging_fraction': 0.45279885140023063, 'bagging_freq': 1, 'min_child_samples': 19, 'max_depth': 248}. Best is trial 292 with value: 0.8718675463897988.\u001b[0m\n",
      "\u001b[32m[I 2022-06-24 00:14:37,642]\u001b[0m Trial 479 finished with value: 0.8487830411547518 and parameters: {'scalers': 'robust', 'lambda_l1': 9.602748127542166e-07, 'lambda_l2': 0.392734979594344, 'num_leaves': 110, 'feature_fraction': 0.9710043022984758, 'bagging_fraction': 0.4308019607716932, 'bagging_freq': 5, 'min_child_samples': 18, 'max_depth': 303}. Best is trial 292 with value: 0.8718675463897988.\u001b[0m\n",
      "\u001b[32m[I 2022-06-24 00:14:38,197]\u001b[0m Trial 480 finished with value: 0.8559937032566677 and parameters: {'scalers': 'standard', 'lambda_l1': 7.369917119516203e-08, 'lambda_l2': 5.732256632675981e-05, 'num_leaves': 29, 'feature_fraction': 0.8768407303876113, 'bagging_fraction': 0.46780490277534714, 'bagging_freq': 1, 'min_child_samples': 26, 'max_depth': 382}. Best is trial 292 with value: 0.8718675463897988.\u001b[0m\n",
      "\u001b[32m[I 2022-06-24 00:14:39,008]\u001b[0m Trial 481 finished with value: 0.8473755628831092 and parameters: {'scalers': 'robust', 'lambda_l1': 5.596380684490956e-07, 'lambda_l2': 3.4964152935141852, 'num_leaves': 16, 'feature_fraction': 0.9013855859780581, 'bagging_fraction': 0.4817674295612685, 'bagging_freq': 1, 'min_child_samples': 11, 'max_depth': 213}. Best is trial 292 with value: 0.8718675463897988.\u001b[0m\n",
      "\u001b[32m[I 2022-06-24 00:14:39,789]\u001b[0m Trial 482 finished with value: 0.8650238091586776 and parameters: {'scalers': 'robust', 'lambda_l1': 1.7950418143564383e-07, 'lambda_l2': 1.181336135295464, 'num_leaves': 9, 'feature_fraction': 0.9232036897629289, 'bagging_fraction': 0.40969352995286423, 'bagging_freq': 1, 'min_child_samples': 15, 'max_depth': 265}. Best is trial 292 with value: 0.8718675463897988.\u001b[0m\n",
      "\u001b[32m[I 2022-06-24 00:14:40,604]\u001b[0m Trial 483 finished with value: 0.862393612944503 and parameters: {'scalers': 'standard', 'lambda_l1': 3.350901148276691e-07, 'lambda_l2': 0.21048222627456595, 'num_leaves': 117, 'feature_fraction': 0.9442433035036469, 'bagging_fraction': 0.5345685475929183, 'bagging_freq': 1, 'min_child_samples': 21, 'max_depth': 356}. Best is trial 292 with value: 0.8718675463897988.\u001b[0m\n",
      "\u001b[32m[I 2022-06-24 00:14:41,981]\u001b[0m Trial 484 finished with value: 0.8648055978249477 and parameters: {'scalers': 'minmax', 'lambda_l1': 4.384086585894789e-08, 'lambda_l2': 0.4823353180605194, 'num_leaves': 90, 'feature_fraction': 0.9110834879536339, 'bagging_fraction': 0.5096182610439511, 'bagging_freq': 1, 'min_child_samples': 24, 'max_depth': 877}. Best is trial 292 with value: 0.8718675463897988.\u001b[0m\n",
      "\u001b[32m[I 2022-06-24 00:14:42,505]\u001b[0m Trial 485 finished with value: 0.5938902975249724 and parameters: {'scalers': 'robust', 'lambda_l1': 1.4436629320616765e-06, 'lambda_l2': 0.00010368650004365999, 'num_leaves': 134, 'feature_fraction': 0.8379146855379029, 'bagging_fraction': 0.4223270005531442, 'bagging_freq': 3, 'min_child_samples': 29, 'max_depth': 327}. Best is trial 292 with value: 0.8718675463897988.\u001b[0m\n",
      "\u001b[32m[I 2022-06-24 00:14:43,165]\u001b[0m Trial 486 finished with value: 0.8642994270306578 and parameters: {'scalers': 'standard', 'lambda_l1': 1.0201855298759614e-07, 'lambda_l2': 0.3284014009868958, 'num_leaves': 122, 'feature_fraction': 0.9601729680254992, 'bagging_fraction': 0.44047421757085725, 'bagging_freq': 1, 'min_child_samples': 22, 'max_depth': 303}. Best is trial 292 with value: 0.8718675463897988.\u001b[0m\n",
      "\u001b[32m[I 2022-06-24 00:14:44,166]\u001b[0m Trial 487 finished with value: 0.8694454510058226 and parameters: {'scalers': 'robust', 'lambda_l1': 7.353804669044644e-07, 'lambda_l2': 2.0230015786505597, 'num_leaves': 41, 'feature_fraction': 0.8919673129244022, 'bagging_fraction': 0.4907553389452945, 'bagging_freq': 1, 'min_child_samples': 18, 'max_depth': 401}. Best is trial 292 with value: 0.8718675463897988.\u001b[0m\n",
      "\u001b[32m[I 2022-06-24 00:14:45,150]\u001b[0m Trial 488 finished with value: 0.866229731074739 and parameters: {'scalers': 'robust', 'lambda_l1': 2.1407128793579226e-06, 'lambda_l2': 2.956218736684846, 'num_leaves': 41, 'feature_fraction': 0.5103689575389359, 'bagging_fraction': 0.48796409777405814, 'bagging_freq': 1, 'min_child_samples': 17, 'max_depth': 401}. Best is trial 292 with value: 0.8718675463897988.\u001b[0m\n",
      "\u001b[32m[I 2022-06-24 00:14:46,325]\u001b[0m Trial 489 finished with value: 0.862062588705584 and parameters: {'scalers': 'robust', 'lambda_l1': 0.0030953299818888957, 'lambda_l2': 1.769639340400317, 'num_leaves': 44, 'feature_fraction': 0.888412188642884, 'bagging_fraction': 0.47327499338073564, 'bagging_freq': 1, 'min_child_samples': 14, 'max_depth': 429}. Best is trial 292 with value: 0.8718675463897988.\u001b[0m\n",
      "\u001b[32m[I 2022-06-24 00:14:47,404]\u001b[0m Trial 490 finished with value: 0.8640371602726479 and parameters: {'scalers': 'robust', 'lambda_l1': 3.3453288881504456e-08, 'lambda_l2': 1.9810577471648732, 'num_leaves': 49, 'feature_fraction': 0.876053602482822, 'bagging_fraction': 0.4915590088020202, 'bagging_freq': 1, 'min_child_samples': 16, 'max_depth': 414}. Best is trial 292 with value: 0.8718675463897988.\u001b[0m\n",
      "\u001b[32m[I 2022-06-24 00:14:48,482]\u001b[0m Trial 491 finished with value: 0.8579692192052873 and parameters: {'scalers': 'robust', 'lambda_l1': 9.59125186489396e-07, 'lambda_l2': 7.424163416046473, 'num_leaves': 35, 'feature_fraction': 0.8879811968356914, 'bagging_fraction': 0.4647950929914397, 'bagging_freq': 1, 'min_child_samples': 19, 'max_depth': 391}. Best is trial 292 with value: 0.8718675463897988.\u001b[0m\n",
      "\u001b[32m[I 2022-06-24 00:14:49,033]\u001b[0m Trial 492 finished with value: 0.5 and parameters: {'scalers': 'robust', 'lambda_l1': 1.6666890301831022e-07, 'lambda_l2': 4.216404103594417, 'num_leaves': 39, 'feature_fraction': 0.867745274033268, 'bagging_fraction': 0.4804920149010368, 'bagging_freq': 1, 'min_child_samples': 47, 'max_depth': 430}. Best is trial 292 with value: 0.8718675463897988.\u001b[0m\n",
      "\u001b[32m[I 2022-06-24 00:14:50,341]\u001b[0m Trial 493 finished with value: 0.861026765030635 and parameters: {'scalers': 'robust', 'lambda_l1': 0.04071280647315607, 'lambda_l2': 2.3417722603584825, 'num_leaves': 43, 'feature_fraction': 0.8986746157677677, 'bagging_fraction': 0.4961353037936447, 'bagging_freq': 1, 'min_child_samples': 13, 'max_depth': 456}. Best is trial 292 with value: 0.8718675463897988.\u001b[0m\n",
      "\u001b[32m[I 2022-06-24 00:14:51,456]\u001b[0m Trial 494 finished with value: 0.8665679100526238 and parameters: {'scalers': 'robust', 'lambda_l1': 1.9434963130317322e-08, 'lambda_l2': 1.2450986497280188, 'num_leaves': 34, 'feature_fraction': 0.9004738786318536, 'bagging_fraction': 0.44750788003370434, 'bagging_freq': 1, 'min_child_samples': 18, 'max_depth': 498}. Best is trial 292 with value: 0.8718675463897988.\u001b[0m\n",
      "\u001b[32m[I 2022-06-24 00:14:52,500]\u001b[0m Trial 495 finished with value: 0.8692678910571714 and parameters: {'scalers': 'robust', 'lambda_l1': 4.771016682959725e-07, 'lambda_l2': 0.8661139667478975, 'num_leaves': 52, 'feature_fraction': 0.8543707092314736, 'bagging_fraction': 0.4580218619082172, 'bagging_freq': 1, 'min_child_samples': 16, 'max_depth': 400}. Best is trial 292 with value: 0.8718675463897988.\u001b[0m\n",
      "\u001b[32m[I 2022-06-24 00:14:53,635]\u001b[0m Trial 496 finished with value: 0.8639019237771173 and parameters: {'scalers': 'robust', 'lambda_l1': 5.070712430421618e-07, 'lambda_l2': 0.972389261715105, 'num_leaves': 57, 'feature_fraction': 0.85605271707247, 'bagging_fraction': 0.4575432886668681, 'bagging_freq': 1, 'min_child_samples': 15, 'max_depth': 420}. Best is trial 292 with value: 0.8718675463897988.\u001b[0m\n"
     ]
    },
    {
     "name": "stderr",
     "output_type": "stream",
     "text": [
      "\u001b[32m[I 2022-06-24 00:14:54,935]\u001b[0m Trial 497 finished with value: 0.8663799573749266 and parameters: {'scalers': 'robust', 'lambda_l1': 5.427335872538109e-07, 'lambda_l2': 1.7704879606874941, 'num_leaves': 57, 'feature_fraction': 0.8610745154107482, 'bagging_fraction': 0.4319905870341003, 'bagging_freq': 1, 'min_child_samples': 12, 'max_depth': 480}. Best is trial 292 with value: 0.8718675463897988.\u001b[0m\n",
      "\u001b[32m[I 2022-06-24 00:14:55,999]\u001b[0m Trial 498 finished with value: 0.8557544824886156 and parameters: {'scalers': 'robust', 'lambda_l1': 8.556695614332493e-07, 'lambda_l2': 0.00021356760518056062, 'num_leaves': 51, 'feature_fraction': 0.8284412766724575, 'bagging_fraction': 0.448774866217654, 'bagging_freq': 1, 'min_child_samples': 16, 'max_depth': 406}. Best is trial 292 with value: 0.8718675463897988.\u001b[0m\n",
      "\u001b[32m[I 2022-06-24 00:14:56,990]\u001b[0m Trial 499 finished with value: 0.8582455141178054 and parameters: {'scalers': 'robust', 'lambda_l1': 1.3118950510214943e-06, 'lambda_l2': 4.6606338141436545, 'num_leaves': 53, 'feature_fraction': 0.8405623021687131, 'bagging_fraction': 0.4653053835534881, 'bagging_freq': 2, 'min_child_samples': 17, 'max_depth': 405}. Best is trial 292 with value: 0.8718675463897988.\u001b[0m\n"
     ]
    }
   ],
   "source": [
    "study.optimize(objective, n_trials=500)"
   ]
  },
  {
   "cell_type": "code",
   "execution_count": 225,
   "id": "728e2a21",
   "metadata": {},
   "outputs": [],
   "source": [
    "# Get best trial based on metric score\n",
    "trial = study.best_trial"
   ]
  },
  {
   "cell_type": "code",
   "execution_count": 226,
   "id": "72c14fe5",
   "metadata": {},
   "outputs": [
    {
     "name": "stdout",
     "output_type": "stream",
     "text": [
      "    scalers: standard\n",
      "    lambda_l1: 1.580293918334291e-07\n",
      "    lambda_l2: 0.0004709721620374175\n",
      "    num_leaves: 31\n",
      "    feature_fraction: 0.9644780321403139\n",
      "    bagging_fraction: 0.5249470583723804\n",
      "    bagging_freq: 1\n",
      "    min_child_samples: 27\n",
      "    max_depth: 319\n"
     ]
    }
   ],
   "source": [
    "# Print params for best trial\n",
    "for key, value in trial.params.items():\n",
    "    print(\"    {}: {}\".format(key, value))"
   ]
  },
  {
   "cell_type": "code",
   "execution_count": 227,
   "id": "932d3319",
   "metadata": {},
   "outputs": [
    {
     "data": {
      "text/plain": [
       "0.8718675463897988"
      ]
     },
     "execution_count": 227,
     "metadata": {},
     "output_type": "execute_result"
    }
   ],
   "source": [
    "# Best Score from HP Opt\n",
    "trial.values[0]"
   ]
  },
  {
   "cell_type": "code",
   "execution_count": 228,
   "id": "1f10bcb9",
   "metadata": {},
   "outputs": [],
   "source": [
    "gbm_opt = lgb.LGBMClassifier(random_state=SEED, **trial.params)"
   ]
  },
  {
   "cell_type": "markdown",
   "id": "a61cf7c6",
   "metadata": {},
   "source": [
    "- Pré selecionar as features mais importantes auxiliou a obter uma performance ainda melhor a partir do pipeline com Robust Scaler e LightGBM"
   ]
  },
  {
   "cell_type": "code",
   "execution_count": 229,
   "id": "562367ae",
   "metadata": {},
   "outputs": [],
   "source": [
    "X_transform_test = feat_selector.transform(np.array(X_test))"
   ]
  },
  {
   "cell_type": "code",
   "execution_count": 230,
   "id": "3268dd65",
   "metadata": {},
   "outputs": [
    {
     "data": {
      "text/plain": [
       "(64, 33)"
      ]
     },
     "execution_count": 230,
     "metadata": {},
     "output_type": "execute_result"
    }
   ],
   "source": [
    "X_transform_test.shape"
   ]
  },
  {
   "cell_type": "code",
   "execution_count": 231,
   "id": "ad2fe04e",
   "metadata": {},
   "outputs": [
    {
     "name": "stdout",
     "output_type": "stream",
     "text": [
      "[LightGBM] [Warning] Unknown parameter: scalers\n",
      "[LightGBM] [Warning] feature_fraction is set=0.9644780321403139, colsample_bytree=1.0 will be ignored. Current value: feature_fraction=0.9644780321403139\n",
      "[LightGBM] [Warning] lambda_l1 is set=1.580293918334291e-07, reg_alpha=0.0 will be ignored. Current value: lambda_l1=1.580293918334291e-07\n",
      "[LightGBM] [Warning] bagging_fraction is set=0.5249470583723804, subsample=1.0 will be ignored. Current value: bagging_fraction=0.5249470583723804\n",
      "[LightGBM] [Warning] lambda_l2 is set=0.0004709721620374175, reg_lambda=0.0 will be ignored. Current value: lambda_l2=0.0004709721620374175\n",
      "[LightGBM] [Warning] bagging_freq is set=1, subsample_freq=0 will be ignored. Current value: bagging_freq=1\n"
     ]
    },
    {
     "data": {
      "text/html": [
       "<style>#sk-container-id-5 {color: black;background-color: white;}#sk-container-id-5 pre{padding: 0;}#sk-container-id-5 div.sk-toggleable {background-color: white;}#sk-container-id-5 label.sk-toggleable__label {cursor: pointer;display: block;width: 100%;margin-bottom: 0;padding: 0.3em;box-sizing: border-box;text-align: center;}#sk-container-id-5 label.sk-toggleable__label-arrow:before {content: \"▸\";float: left;margin-right: 0.25em;color: #696969;}#sk-container-id-5 label.sk-toggleable__label-arrow:hover:before {color: black;}#sk-container-id-5 div.sk-estimator:hover label.sk-toggleable__label-arrow:before {color: black;}#sk-container-id-5 div.sk-toggleable__content {max-height: 0;max-width: 0;overflow: hidden;text-align: left;background-color: #f0f8ff;}#sk-container-id-5 div.sk-toggleable__content pre {margin: 0.2em;color: black;border-radius: 0.25em;background-color: #f0f8ff;}#sk-container-id-5 input.sk-toggleable__control:checked~div.sk-toggleable__content {max-height: 200px;max-width: 100%;overflow: auto;}#sk-container-id-5 input.sk-toggleable__control:checked~label.sk-toggleable__label-arrow:before {content: \"▾\";}#sk-container-id-5 div.sk-estimator input.sk-toggleable__control:checked~label.sk-toggleable__label {background-color: #d4ebff;}#sk-container-id-5 div.sk-label input.sk-toggleable__control:checked~label.sk-toggleable__label {background-color: #d4ebff;}#sk-container-id-5 input.sk-hidden--visually {border: 0;clip: rect(1px 1px 1px 1px);clip: rect(1px, 1px, 1px, 1px);height: 1px;margin: -1px;overflow: hidden;padding: 0;position: absolute;width: 1px;}#sk-container-id-5 div.sk-estimator {font-family: monospace;background-color: #f0f8ff;border: 1px dotted black;border-radius: 0.25em;box-sizing: border-box;margin-bottom: 0.5em;}#sk-container-id-5 div.sk-estimator:hover {background-color: #d4ebff;}#sk-container-id-5 div.sk-parallel-item::after {content: \"\";width: 100%;border-bottom: 1px solid gray;flex-grow: 1;}#sk-container-id-5 div.sk-label:hover label.sk-toggleable__label {background-color: #d4ebff;}#sk-container-id-5 div.sk-serial::before {content: \"\";position: absolute;border-left: 1px solid gray;box-sizing: border-box;top: 0;bottom: 0;left: 50%;z-index: 0;}#sk-container-id-5 div.sk-serial {display: flex;flex-direction: column;align-items: center;background-color: white;padding-right: 0.2em;padding-left: 0.2em;position: relative;}#sk-container-id-5 div.sk-item {position: relative;z-index: 1;}#sk-container-id-5 div.sk-parallel {display: flex;align-items: stretch;justify-content: center;background-color: white;position: relative;}#sk-container-id-5 div.sk-item::before, #sk-container-id-5 div.sk-parallel-item::before {content: \"\";position: absolute;border-left: 1px solid gray;box-sizing: border-box;top: 0;bottom: 0;left: 50%;z-index: -1;}#sk-container-id-5 div.sk-parallel-item {display: flex;flex-direction: column;z-index: 1;position: relative;background-color: white;}#sk-container-id-5 div.sk-parallel-item:first-child::after {align-self: flex-end;width: 50%;}#sk-container-id-5 div.sk-parallel-item:last-child::after {align-self: flex-start;width: 50%;}#sk-container-id-5 div.sk-parallel-item:only-child::after {width: 0;}#sk-container-id-5 div.sk-dashed-wrapped {border: 1px dashed gray;margin: 0 0.4em 0.5em 0.4em;box-sizing: border-box;padding-bottom: 0.4em;background-color: white;}#sk-container-id-5 div.sk-label label {font-family: monospace;font-weight: bold;display: inline-block;line-height: 1.2em;}#sk-container-id-5 div.sk-label-container {text-align: center;}#sk-container-id-5 div.sk-container {/* jupyter's `normalize.less` sets `[hidden] { display: none; }` but bootstrap.min.css set `[hidden] { display: none !important; }` so we also need the `!important` here to be able to override the default hidden behavior on the sphinx rendered scikit-learn.org. See: https://github.com/scikit-learn/scikit-learn/issues/21755 */display: inline-block !important;position: relative;}#sk-container-id-5 div.sk-text-repr-fallback {display: none;}</style><div id=\"sk-container-id-5\" class=\"sk-top-container\"><div class=\"sk-text-repr-fallback\"><pre>LGBMClassifier(bagging_fraction=0.5249470583723804, bagging_freq=1,\n",
       "               feature_fraction=0.9644780321403139,\n",
       "               lambda_l1=1.580293918334291e-07, lambda_l2=0.0004709721620374175,\n",
       "               max_depth=319, min_child_samples=27, random_state=42,\n",
       "               scalers=&#x27;standard&#x27;)</pre><b>In a Jupyter environment, please rerun this cell to show the HTML representation or trust the notebook. <br />On GitHub, the HTML representation is unable to render, please try loading this page with nbviewer.org.</b></div><div class=\"sk-container\" hidden><div class=\"sk-item\"><div class=\"sk-estimator sk-toggleable\"><input class=\"sk-toggleable__control sk-hidden--visually\" id=\"sk-estimator-id-13\" type=\"checkbox\" checked><label for=\"sk-estimator-id-13\" class=\"sk-toggleable__label sk-toggleable__label-arrow\">LGBMClassifier</label><div class=\"sk-toggleable__content\"><pre>LGBMClassifier(bagging_fraction=0.5249470583723804, bagging_freq=1,\n",
       "               feature_fraction=0.9644780321403139,\n",
       "               lambda_l1=1.580293918334291e-07, lambda_l2=0.0004709721620374175,\n",
       "               max_depth=319, min_child_samples=27, random_state=42,\n",
       "               scalers=&#x27;standard&#x27;)</pre></div></div></div></div></div>"
      ],
      "text/plain": [
       "LGBMClassifier(bagging_fraction=0.5249470583723804, bagging_freq=1,\n",
       "               feature_fraction=0.9644780321403139,\n",
       "               lambda_l1=1.580293918334291e-07, lambda_l2=0.0004709721620374175,\n",
       "               max_depth=319, min_child_samples=27, random_state=42,\n",
       "               scalers='standard')"
      ]
     },
     "execution_count": 231,
     "metadata": {},
     "output_type": "execute_result"
    }
   ],
   "source": [
    "gbm_opt.fit(X_transform,y)"
   ]
  },
  {
   "cell_type": "code",
   "execution_count": 232,
   "id": "d587ef0a",
   "metadata": {},
   "outputs": [],
   "source": [
    "y_pred = gbm_opt.predict(X_transform_test)"
   ]
  },
  {
   "cell_type": "code",
   "execution_count": 233,
   "id": "69112598",
   "metadata": {},
   "outputs": [
    {
     "name": "stdout",
     "output_type": "stream",
     "text": [
      "              precision    recall  f1-score   support\n",
      "\n",
      "        MILD       0.72      0.81      0.76        42\n",
      "      SEVERE       0.53      0.41      0.46        22\n",
      "\n",
      "    accuracy                           0.67        64\n",
      "   macro avg       0.63      0.61      0.61        64\n",
      "weighted avg       0.66      0.67      0.66        64\n",
      "\n"
     ]
    }
   ],
   "source": [
    "print(classification_report(y_test, y_pred))"
   ]
  },
  {
   "cell_type": "markdown",
   "id": "a61347a5",
   "metadata": {},
   "source": [
    "### Testing other algorithms "
   ]
  },
  {
   "cell_type": "code",
   "execution_count": 179,
   "id": "6215f6f8",
   "metadata": {},
   "outputs": [],
   "source": [
    "X_test, y_test = test_mod.drop(\"Group\", axis=1), test_mod[\"Group\"]\n",
    "X, y = train_mod.drop(\"Group\", axis=1), train_mod[\"Group\"]"
   ]
  },
  {
   "cell_type": "markdown",
   "id": "246eb406",
   "metadata": {},
   "source": [
    "###### Get most important features from boruta"
   ]
  },
  {
   "cell_type": "code",
   "execution_count": 180,
   "id": "7a49642c",
   "metadata": {
    "scrolled": true
   },
   "outputs": [
    {
     "name": "stdout",
     "output_type": "stream",
     "text": [
      "Iteration: \t1 / 100\n",
      "Confirmed: \t0\n",
      "Tentative: \t546\n",
      "Rejected: \t0\n",
      "Iteration: \t2 / 100\n",
      "Confirmed: \t0\n",
      "Tentative: \t546\n",
      "Rejected: \t0\n",
      "Iteration: \t3 / 100\n",
      "Confirmed: \t0\n",
      "Tentative: \t546\n",
      "Rejected: \t0\n",
      "Iteration: \t4 / 100\n",
      "Confirmed: \t0\n",
      "Tentative: \t546\n",
      "Rejected: \t0\n",
      "Iteration: \t5 / 100\n",
      "Confirmed: \t0\n",
      "Tentative: \t546\n",
      "Rejected: \t0\n",
      "Iteration: \t6 / 100\n",
      "Confirmed: \t0\n",
      "Tentative: \t546\n",
      "Rejected: \t0\n",
      "Iteration: \t7 / 100\n",
      "Confirmed: \t0\n",
      "Tentative: \t546\n",
      "Rejected: \t0\n",
      "Iteration: \t8 / 100\n",
      "Confirmed: \t0\n",
      "Tentative: \t70\n",
      "Rejected: \t476\n",
      "Iteration: \t9 / 100\n",
      "Confirmed: \t22\n",
      "Tentative: \t48\n",
      "Rejected: \t476\n",
      "Iteration: \t10 / 100\n",
      "Confirmed: \t22\n",
      "Tentative: \t48\n",
      "Rejected: \t476\n",
      "Iteration: \t11 / 100\n",
      "Confirmed: \t22\n",
      "Tentative: \t48\n",
      "Rejected: \t476\n",
      "Iteration: \t12 / 100\n",
      "Confirmed: \t25\n",
      "Tentative: \t36\n",
      "Rejected: \t485\n",
      "Iteration: \t13 / 100\n",
      "Confirmed: \t25\n",
      "Tentative: \t36\n",
      "Rejected: \t485\n",
      "Iteration: \t14 / 100\n",
      "Confirmed: \t25\n",
      "Tentative: \t36\n",
      "Rejected: \t485\n",
      "Iteration: \t15 / 100\n",
      "Confirmed: \t25\n",
      "Tentative: \t36\n",
      "Rejected: \t485\n",
      "Iteration: \t16 / 100\n",
      "Confirmed: \t26\n",
      "Tentative: \t35\n",
      "Rejected: \t485\n",
      "Iteration: \t17 / 100\n",
      "Confirmed: \t26\n",
      "Tentative: \t35\n",
      "Rejected: \t485\n",
      "Iteration: \t18 / 100\n",
      "Confirmed: \t26\n",
      "Tentative: \t35\n",
      "Rejected: \t485\n",
      "Iteration: \t19 / 100\n",
      "Confirmed: \t27\n",
      "Tentative: \t31\n",
      "Rejected: \t488\n",
      "Iteration: \t20 / 100\n",
      "Confirmed: \t27\n",
      "Tentative: \t31\n",
      "Rejected: \t488\n",
      "Iteration: \t21 / 100\n",
      "Confirmed: \t27\n",
      "Tentative: \t31\n",
      "Rejected: \t488\n",
      "Iteration: \t22 / 100\n",
      "Confirmed: \t28\n",
      "Tentative: \t25\n",
      "Rejected: \t493\n",
      "Iteration: \t23 / 100\n",
      "Confirmed: \t28\n",
      "Tentative: \t25\n",
      "Rejected: \t493\n",
      "Iteration: \t24 / 100\n",
      "Confirmed: \t28\n",
      "Tentative: \t25\n",
      "Rejected: \t493\n",
      "Iteration: \t25 / 100\n",
      "Confirmed: \t28\n",
      "Tentative: \t25\n",
      "Rejected: \t493\n",
      "Iteration: \t26 / 100\n",
      "Confirmed: \t28\n",
      "Tentative: \t23\n",
      "Rejected: \t495\n",
      "Iteration: \t27 / 100\n",
      "Confirmed: \t28\n",
      "Tentative: \t23\n",
      "Rejected: \t495\n",
      "Iteration: \t28 / 100\n",
      "Confirmed: \t28\n",
      "Tentative: \t23\n",
      "Rejected: \t495\n",
      "Iteration: \t29 / 100\n",
      "Confirmed: \t29\n",
      "Tentative: \t22\n",
      "Rejected: \t495\n",
      "Iteration: \t30 / 100\n",
      "Confirmed: \t29\n",
      "Tentative: \t22\n",
      "Rejected: \t495\n",
      "Iteration: \t31 / 100\n",
      "Confirmed: \t29\n",
      "Tentative: \t22\n",
      "Rejected: \t495\n",
      "Iteration: \t32 / 100\n",
      "Confirmed: \t30\n",
      "Tentative: \t21\n",
      "Rejected: \t495\n",
      "Iteration: \t33 / 100\n",
      "Confirmed: \t30\n",
      "Tentative: \t21\n",
      "Rejected: \t495\n",
      "Iteration: \t34 / 100\n",
      "Confirmed: \t32\n",
      "Tentative: \t19\n",
      "Rejected: \t495\n",
      "Iteration: \t35 / 100\n",
      "Confirmed: \t32\n",
      "Tentative: \t19\n",
      "Rejected: \t495\n",
      "Iteration: \t36 / 100\n",
      "Confirmed: \t32\n",
      "Tentative: \t19\n",
      "Rejected: \t495\n",
      "Iteration: \t37 / 100\n",
      "Confirmed: \t33\n",
      "Tentative: \t18\n",
      "Rejected: \t495\n",
      "Iteration: \t38 / 100\n",
      "Confirmed: \t33\n",
      "Tentative: \t18\n",
      "Rejected: \t495\n",
      "Iteration: \t39 / 100\n",
      "Confirmed: \t33\n",
      "Tentative: \t18\n",
      "Rejected: \t495\n",
      "Iteration: \t40 / 100\n",
      "Confirmed: \t33\n",
      "Tentative: \t18\n",
      "Rejected: \t495\n",
      "Iteration: \t41 / 100\n",
      "Confirmed: \t33\n",
      "Tentative: \t18\n",
      "Rejected: \t495\n",
      "Iteration: \t42 / 100\n",
      "Confirmed: \t33\n",
      "Tentative: \t18\n",
      "Rejected: \t495\n",
      "Iteration: \t43 / 100\n",
      "Confirmed: \t33\n",
      "Tentative: \t18\n",
      "Rejected: \t495\n",
      "Iteration: \t44 / 100\n",
      "Confirmed: \t33\n",
      "Tentative: \t18\n",
      "Rejected: \t495\n",
      "Iteration: \t45 / 100\n",
      "Confirmed: \t33\n",
      "Tentative: \t18\n",
      "Rejected: \t495\n",
      "Iteration: \t46 / 100\n",
      "Confirmed: \t33\n",
      "Tentative: \t18\n",
      "Rejected: \t495\n",
      "Iteration: \t47 / 100\n",
      "Confirmed: \t33\n",
      "Tentative: \t18\n",
      "Rejected: \t495\n",
      "Iteration: \t48 / 100\n",
      "Confirmed: \t33\n",
      "Tentative: \t18\n",
      "Rejected: \t495\n",
      "Iteration: \t49 / 100\n",
      "Confirmed: \t33\n",
      "Tentative: \t18\n",
      "Rejected: \t495\n",
      "Iteration: \t50 / 100\n",
      "Confirmed: \t33\n",
      "Tentative: \t18\n",
      "Rejected: \t495\n",
      "Iteration: \t51 / 100\n",
      "Confirmed: \t33\n",
      "Tentative: \t18\n",
      "Rejected: \t495\n",
      "Iteration: \t52 / 100\n",
      "Confirmed: \t33\n",
      "Tentative: \t18\n",
      "Rejected: \t495\n",
      "Iteration: \t53 / 100\n",
      "Confirmed: \t33\n",
      "Tentative: \t18\n",
      "Rejected: \t495\n",
      "Iteration: \t54 / 100\n",
      "Confirmed: \t33\n",
      "Tentative: \t17\n",
      "Rejected: \t496\n",
      "Iteration: \t55 / 100\n",
      "Confirmed: \t33\n",
      "Tentative: \t17\n",
      "Rejected: \t496\n",
      "Iteration: \t56 / 100\n",
      "Confirmed: \t33\n",
      "Tentative: \t17\n",
      "Rejected: \t496\n",
      "Iteration: \t57 / 100\n",
      "Confirmed: \t33\n",
      "Tentative: \t17\n",
      "Rejected: \t496\n",
      "Iteration: \t58 / 100\n",
      "Confirmed: \t33\n",
      "Tentative: \t17\n",
      "Rejected: \t496\n",
      "Iteration: \t59 / 100\n",
      "Confirmed: \t33\n",
      "Tentative: \t17\n",
      "Rejected: \t496\n",
      "Iteration: \t60 / 100\n",
      "Confirmed: \t33\n",
      "Tentative: \t17\n",
      "Rejected: \t496\n",
      "Iteration: \t61 / 100\n",
      "Confirmed: \t33\n",
      "Tentative: \t17\n",
      "Rejected: \t496\n",
      "Iteration: \t62 / 100\n",
      "Confirmed: \t33\n",
      "Tentative: \t17\n",
      "Rejected: \t496\n",
      "Iteration: \t63 / 100\n",
      "Confirmed: \t33\n",
      "Tentative: \t17\n",
      "Rejected: \t496\n",
      "Iteration: \t64 / 100\n",
      "Confirmed: \t33\n",
      "Tentative: \t17\n",
      "Rejected: \t496\n",
      "Iteration: \t65 / 100\n",
      "Confirmed: \t33\n",
      "Tentative: \t17\n",
      "Rejected: \t496\n",
      "Iteration: \t66 / 100\n",
      "Confirmed: \t33\n",
      "Tentative: \t17\n",
      "Rejected: \t496\n",
      "Iteration: \t67 / 100\n",
      "Confirmed: \t33\n",
      "Tentative: \t17\n",
      "Rejected: \t496\n",
      "Iteration: \t68 / 100\n",
      "Confirmed: \t33\n",
      "Tentative: \t17\n",
      "Rejected: \t496\n",
      "Iteration: \t69 / 100\n",
      "Confirmed: \t33\n",
      "Tentative: \t17\n",
      "Rejected: \t496\n",
      "Iteration: \t70 / 100\n",
      "Confirmed: \t33\n",
      "Tentative: \t17\n",
      "Rejected: \t496\n",
      "Iteration: \t71 / 100\n",
      "Confirmed: \t33\n",
      "Tentative: \t17\n",
      "Rejected: \t496\n",
      "Iteration: \t72 / 100\n",
      "Confirmed: \t33\n",
      "Tentative: \t15\n",
      "Rejected: \t498\n",
      "Iteration: \t73 / 100\n",
      "Confirmed: \t33\n",
      "Tentative: \t15\n",
      "Rejected: \t498\n",
      "Iteration: \t74 / 100\n",
      "Confirmed: \t33\n",
      "Tentative: \t15\n",
      "Rejected: \t498\n",
      "Iteration: \t75 / 100\n",
      "Confirmed: \t33\n",
      "Tentative: \t15\n",
      "Rejected: \t498\n",
      "Iteration: \t76 / 100\n",
      "Confirmed: \t33\n",
      "Tentative: \t15\n",
      "Rejected: \t498\n",
      "Iteration: \t77 / 100\n",
      "Confirmed: \t33\n",
      "Tentative: \t14\n",
      "Rejected: \t499\n",
      "Iteration: \t78 / 100\n",
      "Confirmed: \t33\n",
      "Tentative: \t14\n",
      "Rejected: \t499\n",
      "Iteration: \t79 / 100\n",
      "Confirmed: \t33\n",
      "Tentative: \t14\n",
      "Rejected: \t499\n",
      "Iteration: \t80 / 100\n",
      "Confirmed: \t33\n",
      "Tentative: \t14\n",
      "Rejected: \t499\n",
      "Iteration: \t81 / 100\n",
      "Confirmed: \t33\n",
      "Tentative: \t14\n",
      "Rejected: \t499\n",
      "Iteration: \t82 / 100\n",
      "Confirmed: \t33\n",
      "Tentative: \t14\n",
      "Rejected: \t499\n",
      "Iteration: \t83 / 100\n",
      "Confirmed: \t33\n",
      "Tentative: \t14\n",
      "Rejected: \t499\n",
      "Iteration: \t84 / 100\n",
      "Confirmed: \t33\n",
      "Tentative: \t14\n",
      "Rejected: \t499\n",
      "Iteration: \t85 / 100\n",
      "Confirmed: \t33\n",
      "Tentative: \t14\n",
      "Rejected: \t499\n",
      "Iteration: \t86 / 100\n",
      "Confirmed: \t33\n",
      "Tentative: \t14\n",
      "Rejected: \t499\n",
      "Iteration: \t87 / 100\n",
      "Confirmed: \t33\n",
      "Tentative: \t14\n",
      "Rejected: \t499\n",
      "Iteration: \t88 / 100\n",
      "Confirmed: \t33\n",
      "Tentative: \t14\n",
      "Rejected: \t499\n",
      "Iteration: \t89 / 100\n",
      "Confirmed: \t33\n",
      "Tentative: \t14\n",
      "Rejected: \t499\n",
      "Iteration: \t90 / 100\n",
      "Confirmed: \t33\n",
      "Tentative: \t14\n",
      "Rejected: \t499\n",
      "Iteration: \t91 / 100\n",
      "Confirmed: \t33\n",
      "Tentative: \t14\n",
      "Rejected: \t499\n",
      "Iteration: \t92 / 100\n",
      "Confirmed: \t33\n",
      "Tentative: \t14\n",
      "Rejected: \t499\n",
      "Iteration: \t93 / 100\n",
      "Confirmed: \t33\n",
      "Tentative: \t14\n",
      "Rejected: \t499\n",
      "Iteration: \t94 / 100\n",
      "Confirmed: \t33\n",
      "Tentative: \t14\n",
      "Rejected: \t499\n",
      "Iteration: \t95 / 100\n",
      "Confirmed: \t33\n",
      "Tentative: \t14\n",
      "Rejected: \t499\n",
      "Iteration: \t96 / 100\n",
      "Confirmed: \t33\n",
      "Tentative: \t14\n",
      "Rejected: \t499\n",
      "Iteration: \t97 / 100\n",
      "Confirmed: \t33\n",
      "Tentative: \t14\n",
      "Rejected: \t499\n",
      "Iteration: \t98 / 100\n",
      "Confirmed: \t33\n",
      "Tentative: \t14\n",
      "Rejected: \t499\n",
      "Iteration: \t99 / 100\n",
      "Confirmed: \t33\n",
      "Tentative: \t14\n",
      "Rejected: \t499\n",
      "\n",
      "\n",
      "BorutaPy finished running.\n",
      "\n",
      "Iteration: \t100 / 100\n",
      "Confirmed: \t33\n",
      "Tentative: \t12\n",
      "Rejected: \t499\n",
      "Number of selected features:  33\n"
     ]
    }
   ],
   "source": [
    "# define random forest classifier, with utilising all cores and\n",
    "# sampling in proportion to y labels\n",
    "rf = RandomForestClassifier(n_jobs=-1, class_weight='balanced', max_depth=5)\n",
    "# define Boruta feature selection method\n",
    "feat_selector = BorutaPy(rf, n_estimators='auto', verbose=2, random_state=SEED, )\n",
    "feat_selector.fit(np.array(X), y)\n",
    "print(\"Number of selected features: \", feat_selector.n_features_)"
   ]
  },
  {
   "cell_type": "code",
   "execution_count": 181,
   "id": "5be56801",
   "metadata": {},
   "outputs": [],
   "source": [
    "# Filter most importante features\n",
    "X_transform = feat_selector.transform(np.array(X))\n",
    "X_transform_test = feat_selector.transform(np.array(X_test))"
   ]
  },
  {
   "cell_type": "code",
   "execution_count": 182,
   "id": "10216836",
   "metadata": {},
   "outputs": [],
   "source": [
    "gbc = GradientBoostingClassifier(random_state = SEED)"
   ]
  },
  {
   "cell_type": "code",
   "execution_count": 183,
   "id": "9c4988bc",
   "metadata": {},
   "outputs": [],
   "source": [
    "parameters = {'max_depth':list(range(1,100,1)), 'subsample':list(np.arange(0.05,1,0.05)),\n",
    "             'learning_rate':list(np.arange(0.05,1,0.05)), 'n_estimators':list(range(50,500,25)), }"
   ]
  },
  {
   "cell_type": "code",
   "execution_count": 184,
   "id": "e50d759d",
   "metadata": {},
   "outputs": [],
   "source": [
    "rscv_gbc = RandomizedSearchCV(gbc, parameters, scoring=metric_scorer, n_jobs = -1, verbose = 4, n_iter = 200)"
   ]
  },
  {
   "cell_type": "code",
   "execution_count": 185,
   "id": "2cdc42f1",
   "metadata": {},
   "outputs": [
    {
     "name": "stdout",
     "output_type": "stream",
     "text": [
      "Fitting 5 folds for each of 200 candidates, totalling 1000 fits\n"
     ]
    }
   ],
   "source": [
    "scores_gbc = rscv_gbc.fit(X,y)"
   ]
  },
  {
   "cell_type": "code",
   "execution_count": 186,
   "id": "c8625829",
   "metadata": {},
   "outputs": [
    {
     "data": {
      "text/plain": [
       "0.7781216577540107"
      ]
     },
     "execution_count": 186,
     "metadata": {},
     "output_type": "execute_result"
    }
   ],
   "source": [
    "scores_gbc.best_score_"
   ]
  },
  {
   "cell_type": "code",
   "execution_count": 187,
   "id": "16b60ac0",
   "metadata": {
    "scrolled": true
   },
   "outputs": [
    {
     "name": "stdout",
     "output_type": "stream",
     "text": [
      "              precision    recall  f1-score   support\n",
      "\n",
      "        MILD       0.71      0.71      0.71        42\n",
      "      SEVERE       0.45      0.45      0.45        22\n",
      "\n",
      "    accuracy                           0.62        64\n",
      "   macro avg       0.58      0.58      0.58        64\n",
      "weighted avg       0.62      0.62      0.62        64\n",
      "\n"
     ]
    }
   ],
   "source": [
    "y_pred = scores_gbc.predict(X_test)\n",
    "print(classification_report(y_test, y_pred))"
   ]
  },
  {
   "cell_type": "code",
   "execution_count": 188,
   "id": "fea1723a",
   "metadata": {},
   "outputs": [
    {
     "name": "stdout",
     "output_type": "stream",
     "text": [
      "Fitting 5 folds for each of 200 candidates, totalling 1000 fits\n"
     ]
    }
   ],
   "source": [
    "scores_gbc_boruta = rscv_gbc.fit(X_transform, y)"
   ]
  },
  {
   "cell_type": "code",
   "execution_count": 189,
   "id": "9086544f",
   "metadata": {},
   "outputs": [
    {
     "data": {
      "text/plain": [
       "0.844659090909091"
      ]
     },
     "execution_count": 189,
     "metadata": {},
     "output_type": "execute_result"
    }
   ],
   "source": [
    "scores_gbc_boruta.best_score_"
   ]
  },
  {
   "cell_type": "code",
   "execution_count": 190,
   "id": "f37a43e1",
   "metadata": {},
   "outputs": [
    {
     "data": {
      "text/plain": [
       "{'subsample': 0.55,\n",
       " 'n_estimators': 250,\n",
       " 'max_depth': 56,\n",
       " 'learning_rate': 0.9000000000000001}"
      ]
     },
     "execution_count": 190,
     "metadata": {},
     "output_type": "execute_result"
    }
   ],
   "source": [
    "scores_gbc_boruta.best_params_"
   ]
  },
  {
   "cell_type": "code",
   "execution_count": 191,
   "id": "cfa9a9d3",
   "metadata": {},
   "outputs": [
    {
     "name": "stdout",
     "output_type": "stream",
     "text": [
      "              precision    recall  f1-score   support\n",
      "\n",
      "        MILD       0.68      0.62      0.65        42\n",
      "      SEVERE       0.38      0.45      0.42        22\n",
      "\n",
      "    accuracy                           0.56        64\n",
      "   macro avg       0.53      0.54      0.53        64\n",
      "weighted avg       0.58      0.56      0.57        64\n",
      "\n"
     ]
    }
   ],
   "source": [
    "y_pred = scores_gbc_boruta.predict(X_transform_test)\n",
    "print(classification_report(y_test, y_pred))"
   ]
  },
  {
   "cell_type": "code",
   "execution_count": 192,
   "id": "e2e220c3",
   "metadata": {},
   "outputs": [],
   "source": [
    "lgbm = lgb.LGBMClassifier(random_state=SEED)\n",
    "parameters = {'num_leaves':list(range(20,100,5)), 'min_child_samples':list(range(5,30,5)),'max_depth':list(range(-1,20,1)),\n",
    "             'learning_rate':list(np.arange(0.05,1,0.05)),'reg_alpha':list(np.arange(0,0.6, 0.1))}\n",
    "rscv_lgbm = RandomizedSearchCV(lgbm, parameters, scoring=metric_scorer, n_jobs = -1, verbose = 4, n_iter = 200)"
   ]
  },
  {
   "cell_type": "code",
   "execution_count": 193,
   "id": "e96efca3",
   "metadata": {},
   "outputs": [
    {
     "name": "stdout",
     "output_type": "stream",
     "text": [
      "Fitting 5 folds for each of 200 candidates, totalling 1000 fits\n"
     ]
    }
   ],
   "source": [
    "scores_lgbm = rscv_lgbm.fit(X, y)"
   ]
  },
  {
   "cell_type": "code",
   "execution_count": 194,
   "id": "2b6dece5",
   "metadata": {},
   "outputs": [
    {
     "data": {
      "text/plain": [
       "0.7836363636363636"
      ]
     },
     "execution_count": 194,
     "metadata": {},
     "output_type": "execute_result"
    }
   ],
   "source": [
    "scores_lgbm.best_score_"
   ]
  },
  {
   "cell_type": "code",
   "execution_count": 195,
   "id": "1abeb037",
   "metadata": {},
   "outputs": [
    {
     "data": {
      "text/plain": [
       "(64, 546)"
      ]
     },
     "execution_count": 195,
     "metadata": {},
     "output_type": "execute_result"
    }
   ],
   "source": [
    "X_test.shape"
   ]
  },
  {
   "cell_type": "code",
   "execution_count": 196,
   "id": "3e7516a5",
   "metadata": {},
   "outputs": [
    {
     "name": "stdout",
     "output_type": "stream",
     "text": [
      "              precision    recall  f1-score   support\n",
      "\n",
      "        MILD       0.70      0.74      0.72        42\n",
      "      SEVERE       0.45      0.41      0.43        22\n",
      "\n",
      "    accuracy                           0.62        64\n",
      "   macro avg       0.58      0.57      0.57        64\n",
      "weighted avg       0.62      0.62      0.62        64\n",
      "\n"
     ]
    }
   ],
   "source": [
    "y_pred = scores_lgbm.predict(X_test)\n",
    "print(classification_report(y_test, y_pred))"
   ]
  },
  {
   "cell_type": "code",
   "execution_count": 197,
   "id": "dcb411c3",
   "metadata": {},
   "outputs": [
    {
     "name": "stdout",
     "output_type": "stream",
     "text": [
      "Fitting 5 folds for each of 200 candidates, totalling 1000 fits\n"
     ]
    }
   ],
   "source": [
    "scores_lgbm_boruta = rscv_lgbm.fit(X_transform, y)"
   ]
  },
  {
   "cell_type": "code",
   "execution_count": 198,
   "id": "9cd37037",
   "metadata": {},
   "outputs": [
    {
     "data": {
      "text/plain": [
       "0.8555949197860961"
      ]
     },
     "execution_count": 198,
     "metadata": {},
     "output_type": "execute_result"
    }
   ],
   "source": [
    "scores_lgbm_boruta.best_score_"
   ]
  },
  {
   "cell_type": "code",
   "execution_count": 199,
   "id": "35b36aa9",
   "metadata": {},
   "outputs": [
    {
     "data": {
      "text/plain": [
       "(64, 33)"
      ]
     },
     "execution_count": 199,
     "metadata": {},
     "output_type": "execute_result"
    }
   ],
   "source": [
    "X_transform_test.shape"
   ]
  },
  {
   "cell_type": "code",
   "execution_count": 200,
   "id": "fdbc1bed",
   "metadata": {},
   "outputs": [
    {
     "name": "stdout",
     "output_type": "stream",
     "text": [
      "              precision    recall  f1-score   support\n",
      "\n",
      "        MILD       0.66      0.64      0.65        42\n",
      "      SEVERE       0.35      0.36      0.36        22\n",
      "\n",
      "    accuracy                           0.55        64\n",
      "   macro avg       0.50      0.50      0.50        64\n",
      "weighted avg       0.55      0.55      0.55        64\n",
      "\n"
     ]
    }
   ],
   "source": [
    "y_pred = scores_lgbm_boruta.predict(X_transform_test)\n",
    "print(classification_report(y_test, y_pred))"
   ]
  },
  {
   "cell_type": "code",
   "execution_count": 211,
   "id": "c06d53dd",
   "metadata": {},
   "outputs": [],
   "source": [
    "svc_poly = SVC(random_state=SEED)\n",
    "#parameters = {'C': list(np.arange(1.0,100,0.25)), 'coef0': list(np.arange(1.0,100,0.25)), 'degree': list(range(1,20,1)),\n",
    "              #'shrinking': ['True', 'False'], 'class_weight': ['balanced'], 'gamma': ['scale','auto'] }\n",
    "\n",
    "params = {'kernel': ['rbf'],\n",
    "          'degree': np.linspace(1, 8, 8),\n",
    "          'C': np.logspace(-3, 5, 40),\n",
    "          'gamma': np.logspace(-3, 5, 30),\n",
    "         'class_weight': ['balanced']}\n",
    "rsvc_svc_poly = RandomizedSearchCV(svc_poly, params, scoring=metric_scorer, n_jobs = -1, verbose = 4, n_iter = 500)"
   ]
  },
  {
   "cell_type": "code",
   "execution_count": 212,
   "id": "65c2246a",
   "metadata": {},
   "outputs": [
    {
     "name": "stdout",
     "output_type": "stream",
     "text": [
      "Fitting 5 folds for each of 500 candidates, totalling 2500 fits\n"
     ]
    }
   ],
   "source": [
    "scores = rsvc_svc_poly.fit(X, y)"
   ]
  },
  {
   "cell_type": "code",
   "execution_count": 213,
   "id": "95aa631f",
   "metadata": {},
   "outputs": [
    {
     "data": {
      "text/plain": [
       "{'kernel': 'rbf',\n",
       " 'gamma': 1.0826367338740541,\n",
       " 'degree': 4.0,\n",
       " 'class_weight': 'balanced',\n",
       " 'C': 5878.0160722749115}"
      ]
     },
     "execution_count": 213,
     "metadata": {},
     "output_type": "execute_result"
    }
   ],
   "source": [
    "scores.best_params_"
   ]
  },
  {
   "cell_type": "code",
   "execution_count": 214,
   "id": "4fe79a5f",
   "metadata": {},
   "outputs": [
    {
     "name": "stdout",
     "output_type": "stream",
     "text": [
      "              precision    recall  f1-score   support\n",
      "\n",
      "        MILD       0.68      0.62      0.65        42\n",
      "      SEVERE       0.38      0.45      0.42        22\n",
      "\n",
      "    accuracy                           0.56        64\n",
      "   macro avg       0.53      0.54      0.53        64\n",
      "weighted avg       0.58      0.56      0.57        64\n",
      "\n"
     ]
    }
   ],
   "source": [
    "y_pred = scores.predict(X_test)\n",
    "print(classification_report(y_test, y_pred))"
   ]
  },
  {
   "cell_type": "code",
   "execution_count": 215,
   "id": "8402c59a",
   "metadata": {},
   "outputs": [
    {
     "name": "stdout",
     "output_type": "stream",
     "text": [
      "Fitting 5 folds for each of 500 candidates, totalling 2500 fits\n"
     ]
    }
   ],
   "source": [
    "scores = rsvc_svc_poly.fit(X_transform, y)"
   ]
  },
  {
   "cell_type": "code",
   "execution_count": 216,
   "id": "71dd2280",
   "metadata": {},
   "outputs": [
    {
     "name": "stdout",
     "output_type": "stream",
     "text": [
      "              precision    recall  f1-score   support\n",
      "\n",
      "        MILD       0.63      0.52      0.57        42\n",
      "      SEVERE       0.31      0.41      0.35        22\n",
      "\n",
      "    accuracy                           0.48        64\n",
      "   macro avg       0.47      0.47      0.46        64\n",
      "weighted avg       0.52      0.48      0.50        64\n",
      "\n"
     ]
    }
   ],
   "source": [
    "y_pred = scores.predict(X_transform_test)\n",
    "print(classification_report(y_test, y_pred))"
   ]
  },
  {
   "cell_type": "code",
   "execution_count": null,
   "id": "95d38ef9",
   "metadata": {},
   "outputs": [],
   "source": []
  }
 ],
 "metadata": {
  "kernelspec": {
   "display_name": "Python 3 (ipykernel)",
   "language": "python",
   "name": "python3"
  },
  "language_info": {
   "codemirror_mode": {
    "name": "ipython",
    "version": 3
   },
   "file_extension": ".py",
   "mimetype": "text/x-python",
   "name": "python",
   "nbconvert_exporter": "python",
   "pygments_lexer": "ipython3",
   "version": "3.10.5"
  }
 },
 "nbformat": 4,
 "nbformat_minor": 5
}
